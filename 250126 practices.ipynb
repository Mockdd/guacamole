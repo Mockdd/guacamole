{
 "cells": [
  {
   "cell_type": "markdown",
   "id": "99ce121c",
   "metadata": {},
   "source": [
    "- Credit Card Mask\n",
    "    - mask the letters all but the last 4 letters"
   ]
  },
  {
   "cell_type": "markdown",
   "id": "3bce99ee",
   "metadata": {},
   "source": [
    "- **first trial**"
   ]
  },
  {
   "cell_type": "code",
   "execution_count": 15,
   "id": "2c8da237",
   "metadata": {},
   "outputs": [],
   "source": [
    "def maskify(cc):\n",
    "    import re\n",
    "    masked = re.sub('.*', '#', cc[:-5])\n",
    "    rest = cc[-5:]\n",
    "    return masked + rest"
   ]
  },
  {
   "cell_type": "code",
   "execution_count": 11,
   "id": "b9480b3b",
   "metadata": {},
   "outputs": [],
   "source": [
    "cc = ''\n",
    "rest = cc[-5:]"
   ]
  },
  {
   "cell_type": "code",
   "execution_count": 12,
   "id": "b7293095",
   "metadata": {},
   "outputs": [
    {
     "data": {
      "text/plain": [
       "''"
      ]
     },
     "execution_count": 12,
     "metadata": {},
     "output_type": "execute_result"
    }
   ],
   "source": [
    "rest"
   ]
  },
  {
   "cell_type": "code",
   "execution_count": 13,
   "id": "230a686c",
   "metadata": {},
   "outputs": [
    {
     "data": {
      "text/plain": [
       "''"
      ]
     },
     "execution_count": 13,
     "metadata": {},
     "output_type": "execute_result"
    }
   ],
   "source": [
    "cc"
   ]
  },
  {
   "cell_type": "code",
   "execution_count": 16,
   "id": "3df926a5",
   "metadata": {},
   "outputs": [
    {
     "data": {
      "text/plain": [
       "'#1'"
      ]
     },
     "execution_count": 16,
     "metadata": {},
     "output_type": "execute_result"
    }
   ],
   "source": [
    "maskify('1')"
   ]
  },
  {
   "cell_type": "code",
   "execution_count": 17,
   "id": "b1967f7d",
   "metadata": {},
   "outputs": [
    {
     "data": {
      "text/plain": [
       "'#'"
      ]
     },
     "execution_count": 17,
     "metadata": {},
     "output_type": "execute_result"
    }
   ],
   "source": [
    "re.sub('.*', '#', '1'[:-5])"
   ]
  },
  {
   "cell_type": "code",
   "execution_count": 18,
   "id": "3edb0e19",
   "metadata": {},
   "outputs": [
    {
     "data": {
      "text/plain": [
       "''"
      ]
     },
     "execution_count": 18,
     "metadata": {},
     "output_type": "execute_result"
    }
   ],
   "source": [
    "'1'[:-5]"
   ]
  },
  {
   "cell_type": "markdown",
   "id": "e87f47a4",
   "metadata": {},
   "source": [
    "- **second trial** > **success**"
   ]
  },
  {
   "cell_type": "code",
   "execution_count": 23,
   "id": "308e1b7f",
   "metadata": {},
   "outputs": [],
   "source": [
    "def maskify(cc):\n",
    "    import re\n",
    "    masked = re.sub('.', '#', cc[:-4])\n",
    "    rest = cc[-4:]\n",
    "    return masked + rest"
   ]
  },
  {
   "cell_type": "code",
   "execution_count": 24,
   "id": "a867b295",
   "metadata": {},
   "outputs": [
    {
     "data": {
      "text/plain": [
       "'1'"
      ]
     },
     "execution_count": 24,
     "metadata": {},
     "output_type": "execute_result"
    }
   ],
   "source": [
    "maskify('1')"
   ]
  },
  {
   "cell_type": "code",
   "execution_count": 25,
   "id": "284f4d0d",
   "metadata": {},
   "outputs": [
    {
     "data": {
      "text/plain": [
       "''"
      ]
     },
     "execution_count": 25,
     "metadata": {},
     "output_type": "execute_result"
    }
   ],
   "source": [
    "maskify('')"
   ]
  },
  {
   "cell_type": "code",
   "execution_count": 26,
   "id": "732e7984",
   "metadata": {},
   "outputs": [
    {
     "data": {
      "text/plain": [
       "'#######5616'"
      ]
     },
     "execution_count": 26,
     "metadata": {},
     "output_type": "execute_result"
    }
   ],
   "source": [
    "maskify('64607935616')"
   ]
  },
  {
   "cell_type": "markdown",
   "id": "c242d1f2",
   "metadata": {},
   "source": [
    "- **sample codes**"
   ]
  },
  {
   "cell_type": "code",
   "execution_count": null,
   "id": "98891602",
   "metadata": {},
   "outputs": [],
   "source": [
    "def maskify(cc):\n",
    "    return '#'*(len(cc)-4) + cc[-4:]"
   ]
  },
  {
   "cell_type": "markdown",
   "id": "0dda8d3a",
   "metadata": {},
   "source": [
    "- so this takes that no need to really substitute # for a letter, just that it needs that amount to # to produce the result"
   ]
  },
  {
   "cell_type": "code",
   "execution_count": null,
   "id": "6a02cf85",
   "metadata": {},
   "outputs": [],
   "source": [
    "def maskify(cc):\n",
    "    word = list(cc)\n",
    "    for i in range(len(word)-4):\n",
    "        word[i] = '#'\n",
    "    return ''.join(word)\n",
    "    pass"
   ]
  },
  {
   "cell_type": "markdown",
   "id": "c0bc5d4c",
   "metadata": {},
   "source": [
    "- Descending Order\n",
    "    - rearange the numbers as a highest possible digit"
   ]
  },
  {
   "cell_type": "code",
   "execution_count": 28,
   "id": "8f2f515d",
   "metadata": {
    "scrolled": true
   },
   "outputs": [
    {
     "ename": "TypeError",
     "evalue": "'int' object is not iterable",
     "output_type": "error",
     "traceback": [
      "\u001b[1;31m---------------------------------------------------------------------------\u001b[0m",
      "\u001b[1;31mTypeError\u001b[0m                                 Traceback (most recent call last)",
      "\u001b[1;32mC:\\Users\\AARONC~1\\AppData\\Local\\Temp/ipykernel_62352/1803769107.py\u001b[0m in \u001b[0;36m<module>\u001b[1;34m\u001b[0m\n\u001b[1;32m----> 1\u001b[1;33m \u001b[0mnumbers\u001b[0m \u001b[1;33m=\u001b[0m \u001b[0mlist\u001b[0m\u001b[1;33m(\u001b[0m\u001b[0mmap\u001b[0m\u001b[1;33m(\u001b[0m\u001b[0mstr\u001b[0m\u001b[1;33m,\u001b[0m \u001b[1;36m2512321\u001b[0m\u001b[1;33m)\u001b[0m\u001b[1;33m)\u001b[0m\u001b[1;33m\u001b[0m\u001b[1;33m\u001b[0m\u001b[0m\n\u001b[0m",
      "\u001b[1;31mTypeError\u001b[0m: 'int' object is not iterable"
     ]
    }
   ],
   "source": [
    "numbers = list(map(str, 2512321))"
   ]
  },
  {
   "cell_type": "code",
   "execution_count": 29,
   "id": "ba254fec",
   "metadata": {},
   "outputs": [],
   "source": [
    "numbers = list(str(2512321))"
   ]
  },
  {
   "cell_type": "code",
   "execution_count": 30,
   "id": "2a33925d",
   "metadata": {},
   "outputs": [
    {
     "data": {
      "text/plain": [
       "['2', '5', '1', '2', '3', '2', '1']"
      ]
     },
     "execution_count": 30,
     "metadata": {},
     "output_type": "execute_result"
    }
   ],
   "source": [
    "numbers"
   ]
  },
  {
   "cell_type": "code",
   "execution_count": 37,
   "id": "076242b5",
   "metadata": {},
   "outputs": [],
   "source": [
    "numbers.sort(reverse = True)"
   ]
  },
  {
   "cell_type": "code",
   "execution_count": 38,
   "id": "20b367c4",
   "metadata": {},
   "outputs": [
    {
     "data": {
      "text/plain": [
       "['5', '3', '2', '2', '2', '1', '1']"
      ]
     },
     "execution_count": 38,
     "metadata": {},
     "output_type": "execute_result"
    }
   ],
   "source": [
    "numbers"
   ]
  },
  {
   "cell_type": "markdown",
   "id": "e2255e0a",
   "metadata": {},
   "source": [
    "- list 함수에 int 못 넣음\n",
    "- list의 sort 메서드에서 차순 정하는 건 reverser keyword임"
   ]
  },
  {
   "cell_type": "markdown",
   "id": "30f20231",
   "metadata": {},
   "source": [
    "- **first trial**"
   ]
  },
  {
   "cell_type": "code",
   "execution_count": 53,
   "id": "b22ace94",
   "metadata": {},
   "outputs": [],
   "source": [
    "def descending_order(num):\n",
    "    numbers = list(str(num))\n",
    "    numbers.sort(reverse = True)\n",
    "    high_num = int(''.join(numbers))\n",
    "    return high_num"
   ]
  },
  {
   "cell_type": "markdown",
   "id": "3869dc45",
   "metadata": {},
   "source": [
    "- **second trial**"
   ]
  },
  {
   "cell_type": "code",
   "execution_count": 54,
   "id": "777c397b",
   "metadata": {},
   "outputs": [],
   "source": [
    "def descending_order(num):\n",
    "    if num >= 0:\n",
    "        numbers = list(str(num))\n",
    "        numbers.sort(reverse = True)\n",
    "        high_num = int(''.join(numbers))\n",
    "        return high_num\n",
    "    else:\n",
    "        pass"
   ]
  },
  {
   "cell_type": "code",
   "execution_count": 55,
   "id": "39de80ff",
   "metadata": {},
   "outputs": [
    {
     "data": {
      "text/plain": [
       "33221"
      ]
     },
     "execution_count": 55,
     "metadata": {},
     "output_type": "execute_result"
    }
   ],
   "source": [
    "descending_order(32123)"
   ]
  },
  {
   "cell_type": "code",
   "execution_count": 56,
   "id": "59e252cb",
   "metadata": {},
   "outputs": [
    {
     "data": {
      "text/plain": [
       "54421"
      ]
     },
     "execution_count": 56,
     "metadata": {},
     "output_type": "execute_result"
    }
   ],
   "source": [
    "descending_order(42145)"
   ]
  },
  {
   "cell_type": "code",
   "execution_count": 57,
   "id": "9f61a89d",
   "metadata": {},
   "outputs": [
    {
     "data": {
      "text/plain": [
       "0"
      ]
     },
     "execution_count": 57,
     "metadata": {},
     "output_type": "execute_result"
    }
   ],
   "source": [
    "descending_order(0)"
   ]
  },
  {
   "cell_type": "code",
   "execution_count": 58,
   "id": "61d085dd",
   "metadata": {},
   "outputs": [],
   "source": [
    "descending_order(-29128)"
   ]
  },
  {
   "cell_type": "markdown",
   "id": "efa003a4",
   "metadata": {},
   "source": [
    "- **sample codes**"
   ]
  },
  {
   "cell_type": "code",
   "execution_count": null,
   "id": "77159335",
   "metadata": {},
   "outputs": [],
   "source": [
    "def Descending_Order(num):\n",
    "    if isinstance(num, int) and num >= 0:\n",
    "        return int(''.join(sorted(str(num), reverse = True)))\n",
    "    else:\n",
    "        raise ValueError('Non-negative integer expected')"
   ]
  },
  {
   "cell_type": "markdown",
   "id": "a47a2777",
   "metadata": {},
   "source": [
    "- 논항의 자격 조건을 확인하려고 isinstance 함수를 썼고\n",
    "- 따로 변수를 만들지 않고 ''.join(), sorted(논항, reverse = True)를 한줄코드에 다 넣음"
   ]
  },
  {
   "cell_type": "markdown",
   "id": "d328c6a5",
   "metadata": {},
   "source": [
    "- .sort() 메서드를 안 쓰고 sorted 함수를 쓴 것도 눈여겨 볼만\n",
    "- sorted 바로 쓰면 변수 설정 안 해도 됨"
   ]
  },
  {
   "cell_type": "code",
   "execution_count": null,
   "id": "ce7a84ad",
   "metadata": {},
   "outputs": [],
   "source": [
    "def Descending_Order(num):\n",
    "    return int(''.join(sorted(str(num))[::-1]))"
   ]
  },
  {
   "cell_type": "markdown",
   "id": "571fdfd8",
   "metadata": {},
   "source": [
    "- list 원소들 거꾸로 꺼내는 슬라이싱 썼네"
   ]
  },
  {
   "cell_type": "markdown",
   "id": "a92c09a1",
   "metadata": {},
   "source": [
    "- Equal Sides of An Array\n",
    "    - return an index\n",
    "    - where the sum of its left side and the sum of its right side is the same\n",
    "    - if there's nothing like that, return -1\n",
    "    "
   ]
  },
  {
   "cell_type": "code",
   "execution_count": 60,
   "id": "a0da27d4",
   "metadata": {},
   "outputs": [],
   "source": [
    "[1, 2, 5][:3].append(0)"
   ]
  },
  {
   "cell_type": "code",
   "execution_count": 62,
   "id": "8dc1ef17",
   "metadata": {},
   "outputs": [
    {
     "data": {
      "text/plain": [
       "8"
      ]
     },
     "execution_count": 62,
     "metadata": {},
     "output_type": "execute_result"
    }
   ],
   "source": [
    "sum([1, 2, 5], 0)"
   ]
  },
  {
   "cell_type": "markdown",
   "id": "32c8e44c",
   "metadata": {},
   "source": [
    "- **first trial**"
   ]
  },
  {
   "cell_type": "code",
   "execution_count": 65,
   "id": "15496b72",
   "metadata": {},
   "outputs": [],
   "source": [
    "def find_even_index(arr):\n",
    "    for i in range(len(arr)):\n",
    "        if sum(arr[:i], 0) == sum(arr[i+1:], 0):\n",
    "            index = i\n",
    "            break\n",
    "        else:\n",
    "            index = -1\n",
    "    return index"
   ]
  },
  {
   "cell_type": "code",
   "execution_count": 66,
   "id": "37dd99de",
   "metadata": {},
   "outputs": [
    {
     "ename": "TypeError",
     "evalue": "'set' object is not subscriptable",
     "output_type": "error",
     "traceback": [
      "\u001b[1;31m---------------------------------------------------------------------------\u001b[0m",
      "\u001b[1;31mTypeError\u001b[0m                                 Traceback (most recent call last)",
      "\u001b[1;32mC:\\Users\\AARONC~1\\AppData\\Local\\Temp/ipykernel_62352/3777022008.py\u001b[0m in \u001b[0;36m<module>\u001b[1;34m\u001b[0m\n\u001b[1;32m----> 1\u001b[1;33m \u001b[0mfind_even_index\u001b[0m\u001b[1;33m(\u001b[0m\u001b[1;33m{\u001b[0m\u001b[1;36m1\u001b[0m\u001b[1;33m,\u001b[0m \u001b[1;36m100\u001b[0m\u001b[1;33m,\u001b[0m \u001b[1;36m50\u001b[0m\u001b[1;33m,\u001b[0m \u001b[1;33m-\u001b[0m\u001b[1;36m51\u001b[0m\u001b[1;33m,\u001b[0m \u001b[1;36m1\u001b[0m\u001b[1;33m,\u001b[0m \u001b[1;36m1\u001b[0m\u001b[1;33m}\u001b[0m\u001b[1;33m)\u001b[0m\u001b[1;33m\u001b[0m\u001b[1;33m\u001b[0m\u001b[0m\n\u001b[0m",
      "\u001b[1;32mC:\\Users\\AARONC~1\\AppData\\Local\\Temp/ipykernel_62352/4165913144.py\u001b[0m in \u001b[0;36mfind_even_index\u001b[1;34m(arr)\u001b[0m\n\u001b[0;32m      1\u001b[0m \u001b[1;32mdef\u001b[0m \u001b[0mfind_even_index\u001b[0m\u001b[1;33m(\u001b[0m\u001b[0marr\u001b[0m\u001b[1;33m)\u001b[0m\u001b[1;33m:\u001b[0m\u001b[1;33m\u001b[0m\u001b[1;33m\u001b[0m\u001b[0m\n\u001b[0;32m      2\u001b[0m     \u001b[1;32mfor\u001b[0m \u001b[0mi\u001b[0m \u001b[1;32min\u001b[0m \u001b[0mrange\u001b[0m\u001b[1;33m(\u001b[0m\u001b[0mlen\u001b[0m\u001b[1;33m(\u001b[0m\u001b[0marr\u001b[0m\u001b[1;33m)\u001b[0m\u001b[1;33m)\u001b[0m\u001b[1;33m:\u001b[0m\u001b[1;33m\u001b[0m\u001b[1;33m\u001b[0m\u001b[0m\n\u001b[1;32m----> 3\u001b[1;33m         \u001b[1;32mif\u001b[0m \u001b[0msum\u001b[0m\u001b[1;33m(\u001b[0m\u001b[0marr\u001b[0m\u001b[1;33m[\u001b[0m\u001b[1;33m:\u001b[0m\u001b[0mi\u001b[0m\u001b[1;33m]\u001b[0m\u001b[1;33m,\u001b[0m \u001b[1;36m0\u001b[0m\u001b[1;33m)\u001b[0m \u001b[1;33m==\u001b[0m \u001b[0msum\u001b[0m\u001b[1;33m(\u001b[0m\u001b[0marr\u001b[0m\u001b[1;33m[\u001b[0m\u001b[0mi\u001b[0m\u001b[1;33m+\u001b[0m\u001b[1;36m1\u001b[0m\u001b[1;33m:\u001b[0m\u001b[1;33m]\u001b[0m\u001b[1;33m,\u001b[0m \u001b[1;36m0\u001b[0m\u001b[1;33m)\u001b[0m\u001b[1;33m:\u001b[0m\u001b[1;33m\u001b[0m\u001b[1;33m\u001b[0m\u001b[0m\n\u001b[0m\u001b[0;32m      4\u001b[0m             \u001b[0mindex\u001b[0m \u001b[1;33m=\u001b[0m \u001b[0mi\u001b[0m\u001b[1;33m\u001b[0m\u001b[1;33m\u001b[0m\u001b[0m\n\u001b[0;32m      5\u001b[0m             \u001b[1;32mbreak\u001b[0m\u001b[1;33m\u001b[0m\u001b[1;33m\u001b[0m\u001b[0m\n",
      "\u001b[1;31mTypeError\u001b[0m: 'set' object is not subscriptable"
     ]
    }
   ],
   "source": [
    "find_even_index({1, 100, 50, -51, 1, 1})"
   ]
  },
  {
   "cell_type": "markdown",
   "id": "8e96dde4",
   "metadata": {},
   "source": [
    "- **second trial**"
   ]
  },
  {
   "cell_type": "code",
   "execution_count": 67,
   "id": "75384a53",
   "metadata": {},
   "outputs": [],
   "source": [
    "def find_even_index(arr):\n",
    "    import numpy as np\n",
    "    arr = np.array(arr)\n",
    "    for i in range(len(arr)):\n",
    "        if sum(arr[:i], 0) == sum(arr[i+1:], 0):\n",
    "            index = i\n",
    "            break\n",
    "        else:\n",
    "            index = -1\n",
    "    return index"
   ]
  },
  {
   "cell_type": "code",
   "execution_count": 70,
   "id": "f9466118",
   "metadata": {},
   "outputs": [
    {
     "data": {
      "text/plain": [
       "array({-80, 10, 20}, dtype=object)"
      ]
     },
     "execution_count": 70,
     "metadata": {},
     "output_type": "execute_result"
    }
   ],
   "source": [
    "import numpy as np \n",
    "np.array({20, 10, -80, 10})"
   ]
  },
  {
   "cell_type": "markdown",
   "id": "9ce49327",
   "metadata": {},
   "source": [
    "- **thrid trial**"
   ]
  },
  {
   "cell_type": "code",
   "execution_count": 71,
   "id": "124501c0",
   "metadata": {},
   "outputs": [],
   "source": [
    "def find_even_index(arr):\n",
    "    arr = list(arr)\n",
    "    for i in range(len(arr)):\n",
    "        if sum(arr[:i], 0) == sum(arr[i+1:], 0):\n",
    "            index = i\n",
    "            break\n",
    "        else:\n",
    "            index = -1\n",
    "    return index"
   ]
  },
  {
   "cell_type": "code",
   "execution_count": 72,
   "id": "0692054b",
   "metadata": {},
   "outputs": [
    {
     "data": {
      "text/plain": [
       "-1"
      ]
     },
     "execution_count": 72,
     "metadata": {},
     "output_type": "execute_result"
    }
   ],
   "source": [
    "find_even_index({1, 100, 50, -51, 1, 1})"
   ]
  },
  {
   "cell_type": "code",
   "execution_count": 73,
   "id": "a09d7ff9",
   "metadata": {},
   "outputs": [
    {
     "data": {
      "text/plain": [
       "[1, 50, 100, -51]"
      ]
     },
     "execution_count": 73,
     "metadata": {},
     "output_type": "execute_result"
    }
   ],
   "source": [
    "list({1, 100, 50, -51, 1, 1})"
   ]
  },
  {
   "cell_type": "markdown",
   "id": "d08f3153",
   "metadata": {},
   "source": [
    "- list 함수에 set를 넣으면 순서가 지멋대로 바뀐다"
   ]
  },
  {
   "cell_type": "code",
   "execution_count": 85,
   "id": "59cb6deb",
   "metadata": {},
   "outputs": [],
   "source": [
    "arr = np.array(list({20, 50, 40, -3}))"
   ]
  },
  {
   "cell_type": "code",
   "execution_count": 86,
   "id": "32d063e3",
   "metadata": {},
   "outputs": [
    {
     "data": {
      "text/plain": [
       "array([40, 50, 20, -3])"
      ]
     },
     "execution_count": 86,
     "metadata": {},
     "output_type": "execute_result"
    }
   ],
   "source": [
    "arr"
   ]
  },
  {
   "cell_type": "code",
   "execution_count": 98,
   "id": "b9944b1a",
   "metadata": {},
   "outputs": [
    {
     "data": {
      "text/plain": [
       "4"
      ]
     },
     "execution_count": 98,
     "metadata": {},
     "output_type": "execute_result"
    }
   ],
   "source": [
    "arr.shape[0]"
   ]
  },
  {
   "cell_type": "code",
   "execution_count": 103,
   "id": "362c97ff",
   "metadata": {},
   "outputs": [],
   "source": [
    "def find_even_index(arr):\n",
    "    import numpy as np\n",
    "    arr = np.array(list(arr))\n",
    "    index = -1\n",
    "    for i in range(arr.shape[0]):\n",
    "        if sum(arr[:i], 0) == sum(arr[i+1:], 0):\n",
    "            index = i\n",
    "            break\n",
    "    return index"
   ]
  },
  {
   "cell_type": "markdown",
   "id": "cca78b31",
   "metadata": {},
   "source": [
    "- 조건 만족하는 거 찾으면 if문 빠져나오는 거 어케하지?"
   ]
  },
  {
   "cell_type": "code",
   "execution_count": 104,
   "id": "c6bdb4b1",
   "metadata": {},
   "outputs": [
    {
     "data": {
      "text/plain": [
       "-1"
      ]
     },
     "execution_count": 104,
     "metadata": {},
     "output_type": "execute_result"
    }
   ],
   "source": [
    "find_even_index({1, 100, 50, -51, 1, 1})"
   ]
  },
  {
   "cell_type": "code",
   "execution_count": 96,
   "id": "04a84846",
   "metadata": {},
   "outputs": [],
   "source": [
    "for i in [3, 1, 7, 2, 4]:\n",
    "    if i == 7:\n",
    "        index = i\n",
    "        break\n",
    "    else:\n",
    "        index = -1"
   ]
  },
  {
   "cell_type": "code",
   "execution_count": 97,
   "id": "7aa145d4",
   "metadata": {},
   "outputs": [
    {
     "data": {
      "text/plain": [
       "7"
      ]
     },
     "execution_count": 97,
     "metadata": {},
     "output_type": "execute_result"
    }
   ],
   "source": [
    "index"
   ]
  },
  {
   "cell_type": "code",
   "execution_count": 107,
   "id": "7c50ada9",
   "metadata": {},
   "outputs": [],
   "source": [
    "arr = np.array([1, 100, 50, -51, 1, 1])\n",
    "index = -1\n",
    "for i in range(arr.shape[0]):\n",
    "    if sum(arr[:i], 0) == sum(arr[i+1:], 0):\n",
    "        index = i"
   ]
  },
  {
   "cell_type": "code",
   "execution_count": 108,
   "id": "80e3d4de",
   "metadata": {
    "scrolled": true
   },
   "outputs": [
    {
     "data": {
      "text/plain": [
       "1"
      ]
     },
     "execution_count": 108,
     "metadata": {},
     "output_type": "execute_result"
    }
   ],
   "source": [
    "index"
   ]
  },
  {
   "cell_type": "code",
   "execution_count": 117,
   "id": "b2526d10",
   "metadata": {},
   "outputs": [
    {
     "data": {
      "text/plain": [
       "1"
      ]
     },
     "execution_count": 117,
     "metadata": {},
     "output_type": "execute_result"
    }
   ],
   "source": [
    "sum(arr[:1], 0)"
   ]
  },
  {
   "cell_type": "code",
   "execution_count": 118,
   "id": "50ad2667",
   "metadata": {},
   "outputs": [
    {
     "data": {
      "text/plain": [
       "1"
      ]
     },
     "execution_count": 118,
     "metadata": {},
     "output_type": "execute_result"
    }
   ],
   "source": [
    "sum(arr[2:], 0)"
   ]
  },
  {
   "cell_type": "code",
   "execution_count": 123,
   "id": "ede15fb2",
   "metadata": {},
   "outputs": [
    {
     "data": {
      "text/plain": [
       "0"
      ]
     },
     "execution_count": 123,
     "metadata": {},
     "output_type": "execute_result"
    }
   ],
   "source": [
    "sum(arr[:0], 0)"
   ]
  },
  {
   "cell_type": "code",
   "execution_count": 124,
   "id": "c5f2d50e",
   "metadata": {},
   "outputs": [
    {
     "data": {
      "text/plain": [
       "101"
      ]
     },
     "execution_count": 124,
     "metadata": {},
     "output_type": "execute_result"
    }
   ],
   "source": [
    "sum(arr[1:], 0)"
   ]
  },
  {
   "cell_type": "code",
   "execution_count": 120,
   "id": "4363aa38",
   "metadata": {},
   "outputs": [],
   "source": [
    "def find_even_index(arr):\n",
    "    import numpy as np\n",
    "    arr = np.array(list(arr))\n",
    "    index = int()\n",
    "    for i in range(arr.shape[0]):\n",
    "        if sum(arr[:i], 0) == sum(arr[i+1:], 0):\n",
    "            index = i\n",
    "        else:\n",
    "            continue\n",
    "    return index if index else -1"
   ]
  },
  {
   "cell_type": "code",
   "execution_count": 121,
   "id": "d8c6c68b",
   "metadata": {},
   "outputs": [
    {
     "data": {
      "text/plain": [
       "-1"
      ]
     },
     "execution_count": 121,
     "metadata": {},
     "output_type": "execute_result"
    }
   ],
   "source": [
    "find_even_index({1, 100, 50, -51, 1, 1})"
   ]
  },
  {
   "cell_type": "markdown",
   "id": "6824f226",
   "metadata": {},
   "source": [
    "- 존나 뭐가 잘못됐는지 모르겄다"
   ]
  },
  {
   "cell_type": "code",
   "execution_count": 134,
   "id": "a7a7ede5",
   "metadata": {},
   "outputs": [
    {
     "data": {
      "text/plain": [
       "-1"
      ]
     },
     "execution_count": 134,
     "metadata": {},
     "output_type": "execute_result"
    }
   ],
   "source": [
    "find_even_index({1, 2, 3, 4, 3, 2, 1})"
   ]
  },
  {
   "cell_type": "code",
   "execution_count": 135,
   "id": "63c4ed19",
   "metadata": {},
   "outputs": [],
   "source": [
    "arr = np.array(list({1, 2, 3, 4, 3, 2, 1}))"
   ]
  },
  {
   "cell_type": "code",
   "execution_count": 136,
   "id": "f7a56de7",
   "metadata": {},
   "outputs": [
    {
     "data": {
      "text/plain": [
       "array([1, 2, 3, 4])"
      ]
     },
     "execution_count": 136,
     "metadata": {},
     "output_type": "execute_result"
    }
   ],
   "source": [
    "arr"
   ]
  },
  {
   "cell_type": "code",
   "execution_count": 137,
   "id": "bb10bdfa",
   "metadata": {},
   "outputs": [],
   "source": [
    "for i in range(arr.shape[0]):\n",
    "        if sum(arr[:i], 0) == sum(arr[i+1:], 0):\n",
    "            index = i\n",
    "        else:\n",
    "            continue\n",
    "    "
   ]
  },
  {
   "cell_type": "code",
   "execution_count": 138,
   "id": "14513465",
   "metadata": {},
   "outputs": [
    {
     "data": {
      "text/plain": [
       "1"
      ]
     },
     "execution_count": 138,
     "metadata": {},
     "output_type": "execute_result"
    }
   ],
   "source": [
    "index"
   ]
  },
  {
   "cell_type": "markdown",
   "id": "0bc2ac17",
   "metadata": {},
   "source": [
    "- 그 인풋을 온전하게 다룰 수 있는 애가 없나??"
   ]
  },
  {
   "cell_type": "code",
   "execution_count": 140,
   "id": "b9a40d72",
   "metadata": {},
   "outputs": [
    {
     "data": {
      "text/plain": [
       "array([  1,  50, 100, -51])"
      ]
     },
     "execution_count": 140,
     "metadata": {},
     "output_type": "execute_result"
    }
   ],
   "source": [
    "np.array(list({1, 100, 50, -51, 1, 1}))"
   ]
  },
  {
   "cell_type": "markdown",
   "id": "ce6619bd",
   "metadata": {},
   "source": [
    "- **fourth trial**\n",
    "    - 여러 index가 만족할 땐 제일 작은 거 뽑아야 함"
   ]
  },
  {
   "cell_type": "code",
   "execution_count": 141,
   "id": "c70ed3c7",
   "metadata": {},
   "outputs": [],
   "source": [
    "def find_even_index(arr):\n",
    "    import numpy as np\n",
    "    arr = np.array(list(arr))\n",
    "    index = int()\n",
    "    for i in range(arr.shape[0]):\n",
    "        if sum(arr[:i], 0) == sum(arr[i+1:], 0):\n",
    "            index = i\n",
    "            break\n",
    "        else:\n",
    "            continue\n",
    "    return index if index else -1"
   ]
  },
  {
   "cell_type": "markdown",
   "id": "c18899af",
   "metadata": {},
   "source": [
    "- **sample codes**"
   ]
  },
  {
   "cell_type": "code",
   "execution_count": null,
   "id": "c35afd6b",
   "metadata": {},
   "outputs": [],
   "source": [
    "def fine_even_index(lst):\n",
    "    left_sum = 0\n",
    "    right_sum = sum(lst)\n",
    "    for i, a in enumerate(lst):\n",
    "        right_sum -= a\n",
    "        if left_sum == right_sum:\n",
    "            return i\n",
    "        left_sum += a\n",
    "    return -1"
   ]
  },
  {
   "cell_type": "markdown",
   "id": "76f15288",
   "metadata": {},
   "source": [
    "- index 접근을 enumerate로 했고\n",
    "- 한 loop마다 sum을 새로 만들지 않았다"
   ]
  },
  {
   "cell_type": "code",
   "execution_count": null,
   "id": "9147033d",
   "metadata": {},
   "outputs": [],
   "source": [
    "def find_even_index(arr):\n",
    "    right = sum(arr)\n",
    "    left = 0\n",
    "    for i, x in enumerate(arr):\n",
    "        right -= x\n",
    "        if right == left:\n",
    "            return i\n",
    "        left += x\n",
    "    return -1"
   ]
  },
  {
   "cell_type": "markdown",
   "id": "fe366b77",
   "metadata": {},
   "source": [
    "- 한 함수 안에서 return 한번 마주치면 그 함수는 끝\n",
    "- 함수에서 return은 함수의 종료를 뜻함"
   ]
  }
 ],
 "metadata": {
  "kernelspec": {
   "display_name": "Python 3 (ipykernel)",
   "language": "python",
   "name": "python3"
  },
  "language_info": {
   "codemirror_mode": {
    "name": "ipython",
    "version": 3
   },
   "file_extension": ".py",
   "mimetype": "text/x-python",
   "name": "python",
   "nbconvert_exporter": "python",
   "pygments_lexer": "ipython3",
   "version": "3.9.7"
  }
 },
 "nbformat": 4,
 "nbformat_minor": 5
}
