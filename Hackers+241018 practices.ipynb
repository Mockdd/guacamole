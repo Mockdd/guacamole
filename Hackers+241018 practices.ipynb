{
 "cells": [
  {
   "cell_type": "markdown",
   "id": "19dd71bc",
   "metadata": {},
   "source": [
    "- map and lambda function"
   ]
  },
  {
   "cell_type": "code",
   "execution_count": 1,
   "id": "a0a5a610",
   "metadata": {},
   "outputs": [],
   "source": [
    "def fibonacci(n):\n",
    "    fibonacci_numbers = []\n",
    "    an = 0\n",
    "    an_1 = 1\n",
    "    \n",
    "    for _ in range(n):\n",
    "        if len(fibonacci_numbers) == 0:\n",
    "            fibonacci_numbers.append(an)\n",
    "        elif len(fibonacci_numbers) == 1:\n",
    "            fibonacci_numbers.append(an_1)\n",
    "        else:\n",
    "            an_2 = an + an_1\n",
    "            fibonacci_numbers.append(an_2)\n",
    "            an = an_1\n",
    "            an_1 = an_2\n",
    "    \n",
    "    return fibonacci_numbers[:n]"
   ]
  },
  {
   "cell_type": "code",
   "execution_count": 2,
   "id": "f59456b4",
   "metadata": {},
   "outputs": [
    {
     "data": {
      "text/plain": [
       "[0, 1, 1, 2, 3]"
      ]
     },
     "execution_count": 2,
     "metadata": {},
     "output_type": "execute_result"
    }
   ],
   "source": [
    "fibonacci(5)"
   ]
  },
  {
   "cell_type": "markdown",
   "id": "f957b033",
   "metadata": {},
   "source": [
    "### 10.17에 썼던 코드 "
   ]
  },
  {
   "cell_type": "code",
   "execution_count": null,
   "id": "df5117a5",
   "metadata": {},
   "outputs": [],
   "source": [
    "def fibonacci(n):\n",
    "    an = 0\n",
    "    an_1 = 1\n",
    "    fibo = []\n",
    "    for _ in range(n):\n",
    "        if len(fibo) == 0:\n",
    "            fibo.append(an)\n",
    "        elif len(fibo) == 1:\n",
    "            fibo.append(an_1)\n",
    "        else:\n",
    "            number = an + an_1\n",
    "            fibo.append(number)\n",
    "            an_1 = number\n",
    "            an = an_1\n",
    "            \n",
    "    return fibo"
   ]
  },
  {
   "cell_type": "markdown",
   "id": "9a2873d9",
   "metadata": {},
   "source": [
    "#### oh wow you need to care the order of designating each variables"
   ]
  },
  {
   "cell_type": "code",
   "execution_count": null,
   "id": "4e178e99",
   "metadata": {},
   "outputs": [],
   "source": [
    "cube = lambda x: x**3\n",
    "\n",
    "def fibonacci(n):\n",
    "    fibonacci_numbers = []\n",
    "    an = 0\n",
    "    an_1 = 1\n",
    "    \n",
    "    for _ in range(n):\n",
    "        if len(fibonacci_numbers) == 0:\n",
    "            fibonacci_numbers.append(an)\n",
    "        elif len(fibonacci_numbers) == 1:\n",
    "            fibonacci_numbers.append(an_1)\n",
    "        else:\n",
    "            an_2 = an + an_1\n",
    "            fibonacci_numbers.append(an_2)\n",
    "            an = an_1\n",
    "            an_1 = an_2\n",
    "    \n",
    "    return fibonacci_numbers[:n]\n",
    "\n",
    "if __name__ == '__main__':\n",
    "    n = int(input())\n",
    "    print(list(map(cube, fibonacci(n))))"
   ]
  },
  {
   "cell_type": "code",
   "execution_count": null,
   "id": "b63d5007",
   "metadata": {},
   "outputs": [],
   "source": [
    "### 예시답안 \n",
    "def fibonacci(n):\n",
    "    arr = []\n",
    "    for i in range(n):\n",
    "        if i == 0 or i == 1:\n",
    "            arr.append(i)\n",
    "        else:\n",
    "            x = arr[i-1] + arr[i-2]\n",
    "            arr.append(x)\n",
    "    return arr"
   ]
  },
  {
   "cell_type": "code",
   "execution_count": null,
   "id": "61a0c80d",
   "metadata": {},
   "outputs": [],
   "source": [
    "### 예시답안 \n",
    "def fibonacci(n):\n",
    "    a, b = 0, 1\n",
    "    for i in range(n):\n",
    "        yield a\n",
    "        a, b = b, a + b\n",
    "print(list(map(cube, list(fobinacci(inp)))))"
   ]
  },
  {
   "cell_type": "markdown",
   "id": "aaf0203f",
   "metadata": {},
   "source": [
    "- validating email addresses with a filter"
   ]
  },
  {
   "cell_type": "code",
   "execution_count": 3,
   "id": "3fe002a0",
   "metadata": {},
   "outputs": [],
   "source": [
    "import re"
   ]
  },
  {
   "cell_type": "code",
   "execution_count": 4,
   "id": "8cf74a3b",
   "metadata": {},
   "outputs": [
    {
     "data": {
      "text/plain": [
       "<re.Match object; span=(0, 1), match='a'>"
      ]
     },
     "execution_count": 4,
     "metadata": {},
     "output_type": "execute_result"
    }
   ],
   "source": [
    "re.match('\\w', 'abcd')"
   ]
  },
  {
   "cell_type": "code",
   "execution_count": 5,
   "id": "ed86cf15",
   "metadata": {},
   "outputs": [
    {
     "data": {
      "text/plain": [
       "<filter at 0x1f33cca6970>"
      ]
     },
     "execution_count": 5,
     "metadata": {},
     "output_type": "execute_result"
    }
   ],
   "source": [
    "filter(lambda x: re.match('\\w', x), ['abcde', '+'])"
   ]
  },
  {
   "cell_type": "code",
   "execution_count": 6,
   "id": "248eaabe",
   "metadata": {},
   "outputs": [
    {
     "data": {
      "text/plain": [
       "['abcde']"
      ]
     },
     "execution_count": 6,
     "metadata": {},
     "output_type": "execute_result"
    }
   ],
   "source": [
    "list(filter(lambda x: re.match('\\w', x), ['abcde', '+']))"
   ]
  },
  {
   "cell_type": "code",
   "execution_count": 7,
   "id": "cac318ca",
   "metadata": {},
   "outputs": [
    {
     "name": "stdout",
     "output_type": "stream",
     "text": [
      "abcde\n"
     ]
    }
   ],
   "source": [
    "print(*filter(lambda x: re.match('\\w', x), ['abcde', '+']))"
   ]
  },
  {
   "cell_type": "code",
   "execution_count": null,
   "id": "2fa8fefe",
   "metadata": {},
   "outputs": [],
   "source": [
    "import re\n",
    "\n",
    "N = int(input())\n",
    "test_cases = [input() for _ in range(N)]\n",
    "\n",
    "valid_email_pattern = re.compile('[\\w]+[@][a-zA-Z0-9]+[\\\\.][a-zA-Z]{1, 3}')\n",
    "valid_emails = list(filter(lambda x: re.match(valid_email_pattern, x), \n",
    "      test_cases))\n",
    "print(valid_emails)"
   ]
  },
  {
   "cell_type": "markdown",
   "id": "cde95591",
   "metadata": {},
   "source": [
    "# 입력코드 (1)"
   ]
  },
  {
   "cell_type": "code",
   "execution_count": null,
   "id": "1c4a6e18",
   "metadata": {},
   "outputs": [],
   "source": [
    "\n",
    "def fun(s):\n",
    "    import re\n",
    "    valid_email_pattern = re.compile('[\\w]+[@][a-zA-Z0-9]+[\\\\.][a-zA-Z]{1, 3}')\n",
    "\n",
    "    if re.match(valid_email_pattern, x):\n",
    "        yield True\n",
    "    else:\n",
    "        yield False\n",
    "\n",
    "def filter_mail(emails):\n",
    "    return list(filter(fun, emails))\n",
    "\n",
    "if __name__ == '__main__':\n",
    "    n = int(input())\n",
    "    emails = [input() for _ in range(n)]\n",
    "\n",
    "filtered_emails = filter_mail(emails)\n",
    "filtered_emails.sort()\n",
    "print(filtered_emails)"
   ]
  },
  {
   "cell_type": "markdown",
   "id": "a2c38841",
   "metadata": {},
   "source": [
    "### 왜 \\\\.가 진짜 문장부호 .로 인식되지 않은 거지?"
   ]
  },
  {
   "cell_type": "markdown",
   "id": "b5349a47",
   "metadata": {},
   "source": [
    "# 입력코드 (2)"
   ]
  },
  {
   "cell_type": "code",
   "execution_count": null,
   "id": "22ddd2f4",
   "metadata": {},
   "outputs": [],
   "source": [
    "\n",
    "def fun(s):\n",
    "    import re\n",
    "    valid_email_pattern = re.compile(r'[\\w]+[@][a-zA-Z0-9]+[\\\\.][a-zA-Z]{1, 3}')\n",
    "\n",
    "    if re.match(valid_email_pattern, x):\n",
    "        yield True\n",
    "    else:\n",
    "        yield False\n",
    "\n",
    "def filter_mail(emails):\n",
    "    return list(filter(fun, emails))\n",
    "\n",
    "if __name__ == '__main__':\n",
    "    n = int(input())\n",
    "    emails = [input() for _ in range(n)]\n",
    "\n",
    "filtered_emails = filter_mail(emails)\n",
    "filtered_emails.sort()\n",
    "print(filtered_emails)"
   ]
  },
  {
   "cell_type": "markdown",
   "id": "8edf3c6d",
   "metadata": {},
   "source": [
    "# 입력코드 (3)"
   ]
  },
  {
   "cell_type": "code",
   "execution_count": null,
   "id": "0f025950",
   "metadata": {},
   "outputs": [],
   "source": [
    "\n",
    "def fun(s):\n",
    "    import re\n",
    "    valid_email_pattern = re.compile(r'[\\w]+[@][a-zA-Z0-9]+[\\.][a-zA-Z]{1, 3}')\n",
    "\n",
    "    if re.match(valid_email_pattern, x):\n",
    "        yield True\n",
    "    else:\n",
    "        yield False\n",
    "\n",
    "def filter_mail(emails):\n",
    "    return list(filter(fun, emails))\n",
    "\n",
    "if __name__ == '__main__':\n",
    "    n = int(input())\n",
    "    emails = [input() for _ in range(n)]\n",
    "\n",
    "filtered_emails = filter_mail(emails)\n",
    "filtered_emails.sort()\n",
    "print(filtered_emails)"
   ]
  },
  {
   "cell_type": "code",
   "execution_count": 11,
   "id": "d0ec8423",
   "metadata": {},
   "outputs": [],
   "source": [
    "test_cases =  ['daniel@gmail', 'mockdd22@gmail.com']\n",
    "valid_email_pattern = re.compile(r'[\\w]+[@][a-zA-Z0-9]+[\\\\.][a-zA-Z]{1, 3}')\n"
   ]
  },
  {
   "cell_type": "code",
   "execution_count": 12,
   "id": "67c8a056",
   "metadata": {},
   "outputs": [
    {
     "data": {
      "text/plain": [
       "[None, None]"
      ]
     },
     "execution_count": 12,
     "metadata": {},
     "output_type": "execute_result"
    }
   ],
   "source": [
    "[re.match(valid_email_pattern, case) for case in test_cases]"
   ]
  },
  {
   "cell_type": "code",
   "execution_count": 18,
   "id": "9d149922",
   "metadata": {},
   "outputs": [
    {
     "name": "stdout",
     "output_type": "stream",
     "text": [
      "<re.Match object; span=(0, 1), match='d'>\n",
      "<re.Match object; span=(0, 1), match='m'>\n"
     ]
    }
   ],
   "source": [
    "for case in test_cases:\n",
    "    print(re.match('[\\w]', case))   "
   ]
  },
  {
   "cell_type": "code",
   "execution_count": 21,
   "id": "f5382a3a",
   "metadata": {},
   "outputs": [
    {
     "name": "stdout",
     "output_type": "stream",
     "text": [
      "None\n",
      "None\n"
     ]
    }
   ],
   "source": [
    "for case in test_cases:\n",
    "    print(re.match('[\\w]+[\\\\@][a-zA-Z0-9]+[\\\\.][a-zA-Z]{1, 3}', case))"
   ]
  },
  {
   "cell_type": "code",
   "execution_count": 15,
   "id": "891a3a69",
   "metadata": {},
   "outputs": [
    {
     "data": {
      "text/plain": [
       "re.compile(r'[\\w]+[@][a-zA-Z0-9]+[\\\\.][a-zA-Z]{1, 3}', re.UNICODE)"
      ]
     },
     "execution_count": 15,
     "metadata": {},
     "output_type": "execute_result"
    }
   ],
   "source": [
    "valid_email_pattern"
   ]
  },
  {
   "cell_type": "code",
   "execution_count": 17,
   "id": "92d93217",
   "metadata": {},
   "outputs": [],
   "source": [
    "for case in test_cases:\n",
    "    valid_email_pattern.match(case)"
   ]
  },
  {
   "cell_type": "markdown",
   "id": "ce2d479f",
   "metadata": {},
   "source": [
    "# 입력코드 (4)"
   ]
  },
  {
   "cell_type": "code",
   "execution_count": null,
   "id": "c0d56c31",
   "metadata": {},
   "outputs": [],
   "source": [
    "\n",
    "def fun(s):\n",
    "    import re\n",
    "    valid_email_pattern = re.compile(r'[\\w]+[@][a-zA-Z0-9]+[\\.][a-zA-Z]{1, 3}')\n",
    "\n",
    "    if valid_email_pattern.(s):\n",
    "        yield True\n",
    "    else:\n",
    "        yield False\n",
    "\n",
    "def filter_mail(emails):\n",
    "    return list(filter(fun, emails))\n",
    "\n",
    "if __name__ == '__main__':\n",
    "    n = int(input())\n",
    "    emails = [input() for _ in range(n)]\n",
    "\n",
    "filtered_emails = filter_mail(emails)\n",
    "filtered_emails.sort()\n",
    "print(filtered_emails)"
   ]
  },
  {
   "cell_type": "code",
   "execution_count": 22,
   "id": "b10de2ec",
   "metadata": {},
   "outputs": [
    {
     "data": {
      "text/plain": [
       "['daniel@gmail', 'mockdd22@gmail.com']"
      ]
     },
     "execution_count": 22,
     "metadata": {},
     "output_type": "execute_result"
    }
   ],
   "source": [
    "test_cases"
   ]
  },
  {
   "cell_type": "code",
   "execution_count": 23,
   "id": "b5fb5baf",
   "metadata": {},
   "outputs": [],
   "source": [
    "valid_email_pattern = re.compile(r'[\\w]+[@][a-zA-Z0-9]+[\\.][a-zA-Z]{1, 3}')"
   ]
  },
  {
   "cell_type": "code",
   "execution_count": 25,
   "id": "bed2252e",
   "metadata": {},
   "outputs": [
    {
     "name": "stdout",
     "output_type": "stream",
     "text": [
      "None\n",
      "None\n"
     ]
    }
   ],
   "source": [
    "for case in test_cases:\n",
    "    print(valid_email_pattern.match(case))"
   ]
  },
  {
   "cell_type": "code",
   "execution_count": 28,
   "id": "d6e63ef1",
   "metadata": {},
   "outputs": [],
   "source": [
    "re.match('[\\w]+@[a-zA-Z0-9]+[\\.][a-zA-Z]{1, 3}', 'mockdd22@gmai')"
   ]
  },
  {
   "cell_type": "code",
   "execution_count": 29,
   "id": "4220a4f1",
   "metadata": {},
   "outputs": [
    {
     "data": {
      "text/plain": [
       "<re.Match object; span=(0, 5), match='afds@'>"
      ]
     },
     "execution_count": 29,
     "metadata": {},
     "output_type": "execute_result"
    }
   ],
   "source": [
    "re.search('[\\w]+@', 'afds@')"
   ]
  },
  {
   "cell_type": "code",
   "execution_count": 32,
   "id": "7a34b6bf",
   "metadata": {},
   "outputs": [],
   "source": [
    "re.search('[\\w]+@[a-zA-Z0-9]+[\\\\.][a-zA-Z]{1, }', 'afds@gamil')"
   ]
  },
  {
   "cell_type": "code",
   "execution_count": 33,
   "id": "482f678d",
   "metadata": {},
   "outputs": [
    {
     "data": {
      "text/plain": [
       "<re.Match object; span=(0, 12), match='afds@gamil.c'>"
      ]
     },
     "execution_count": 33,
     "metadata": {},
     "output_type": "execute_result"
    }
   ],
   "source": [
    "re.search('[\\w]+@[a-zA-Z0-9]+[\\\\.][a-zA-Z]{1,}', 'afds@gamil.c')"
   ]
  },
  {
   "cell_type": "code",
   "execution_count": 35,
   "id": "6ab092e0",
   "metadata": {},
   "outputs": [
    {
     "data": {
      "text/plain": [
       "<re.Match object; span=(0, 13), match='afds@gamil.co'>"
      ]
     },
     "execution_count": 35,
     "metadata": {},
     "output_type": "execute_result"
    }
   ],
   "source": [
    "re.search('[\\w]+@[a-zA-Z0-9]+[\\\\.][a-zA-Z]{1,3}', 'afds@gamil.co')"
   ]
  },
  {
   "cell_type": "code",
   "execution_count": 37,
   "id": "7e0a4048",
   "metadata": {},
   "outputs": [
    {
     "data": {
      "text/plain": [
       "<re.Match object; span=(0, 14), match='afds@gamil.com'>"
      ]
     },
     "execution_count": 37,
     "metadata": {},
     "output_type": "execute_result"
    }
   ],
   "source": [
    "re.search('[\\w]+@[a-zA-Z0-9]+[\\\\.][a-zA-Z]{1,3}', 'afds@gamil.com')"
   ]
  },
  {
   "cell_type": "code",
   "execution_count": 40,
   "id": "9a626f3d",
   "metadata": {},
   "outputs": [
    {
     "name": "stdout",
     "output_type": "stream",
     "text": [
      "None\n",
      "<re.Match object; span=(0, 18), match='mockdd22@gmail.com'>\n"
     ]
    }
   ],
   "source": [
    "for case in test_cases:\n",
    "    print(re.match('[\\w]+@[a-zA-Z0-9]+[\\\\.][a-zA-Z]{1,3}', case))"
   ]
  },
  {
   "cell_type": "code",
   "execution_count": 41,
   "id": "ef895350",
   "metadata": {},
   "outputs": [
    {
     "data": {
      "text/plain": [
       "re.compile(r'[\\w]+[@][a-zA-Z0-9]+[\\.][a-zA-Z]{1, 3}', re.UNICODE)"
      ]
     },
     "execution_count": 41,
     "metadata": {},
     "output_type": "execute_result"
    }
   ],
   "source": [
    "valid_email_pattern"
   ]
  },
  {
   "cell_type": "code",
   "execution_count": 42,
   "id": "8a8a56da",
   "metadata": {},
   "outputs": [
    {
     "name": "stdout",
     "output_type": "stream",
     "text": [
      "None\n",
      "<re.Match object; span=(0, 18), match='mockdd22@gmail.com'>\n"
     ]
    }
   ],
   "source": [
    "for case in test_cases:\n",
    "    print(re.match('[\\w]+[@][a-zA-Z0-9]+[\\\\.][a-zA-Z]{1,3}', case))"
   ]
  },
  {
   "cell_type": "code",
   "execution_count": 44,
   "id": "d3697e49",
   "metadata": {},
   "outputs": [
    {
     "name": "stdout",
     "output_type": "stream",
     "text": [
      "None\n",
      "None\n"
     ]
    }
   ],
   "source": [
    "for case in test_cases:\n",
    "    print(re.match('[\\w]+[@][a-zA-Z0-9]+[\\.][a-zA-Z]{1, 3}', case))"
   ]
  },
  {
   "cell_type": "code",
   "execution_count": null,
   "id": "0daf0cd6",
   "metadata": {},
   "outputs": [],
   "source": [
    "\n",
    "def fun(s):\n",
    "    import re\n",
    "    valid_email_pattern = re.compile(r'[\\w]+[@][a-zA-Z0-9]+[\\\\.][a-zA-Z]{1,3}')\n",
    "\n",
    "    if valid_email_pattern.(s):\n",
    "        yield True\n",
    "    else:\n",
    "        yield False\n",
    "\n",
    "def filter_mail(emails):\n",
    "    return list(filter(fun, emails))\n",
    "\n",
    "if __name__ == '__main__':\n",
    "    n = int(input())\n",
    "    emails = [input() for _ in range(n)]\n",
    "\n",
    "filtered_emails = filter_mail(emails)\n",
    "filtered_emails.sort()\n",
    "print(filtered_emails)"
   ]
  },
  {
   "cell_type": "markdown",
   "id": "5afdffb7",
   "metadata": {},
   "source": [
    "# 입력코드 (5)"
   ]
  },
  {
   "cell_type": "code",
   "execution_count": null,
   "id": "14c15bc2",
   "metadata": {},
   "outputs": [],
   "source": [
    "    import re\n",
    "    valid_email_pattern = re.compile(r'[\\w]+[@][a-zA-Z0-9]+[\\\\.][a-zA-Z]{1,3}')\n",
    "\n",
    "    if valid_email_pattern.match(s):\n",
    "        yield True\n",
    "    else:\n",
    "        yield False\n"
   ]
  },
  {
   "cell_type": "markdown",
   "id": "66f778f4",
   "metadata": {},
   "source": [
    "### 왜 harsh@gmail은 안 걸러지는 거지?"
   ]
  },
  {
   "cell_type": "code",
   "execution_count": 46,
   "id": "c126f654",
   "metadata": {},
   "outputs": [],
   "source": [
    "def fun(s):\n",
    "    import re\n",
    "    valid_email_pattern = re.compile(r'[\\w]+[@][a-zA-Z0-9]+[\\\\.][a-zA-Z]{1,3}')\n",
    "\n",
    "    if valid_email_pattern.match(s):\n",
    "        yield True\n",
    "    else:\n",
    "        yield False"
   ]
  },
  {
   "cell_type": "code",
   "execution_count": 50,
   "id": "c00c27dd",
   "metadata": {},
   "outputs": [
    {
     "data": {
      "text/plain": [
       "True"
      ]
     },
     "execution_count": 50,
     "metadata": {},
     "output_type": "execute_result"
    }
   ],
   "source": [
    "fun('harsh@gmail.com')"
   ]
  },
  {
   "cell_type": "code",
   "execution_count": 48,
   "id": "24a4e795",
   "metadata": {},
   "outputs": [],
   "source": [
    "def fun(s):\n",
    "    import re\n",
    "    valid_email_pattern = re.compile(r'[\\w]+[@][a-zA-Z0-9]+[\\\\.][a-zA-Z]{1,3}')\n",
    "\n",
    "    if valid_email_pattern.match(s):\n",
    "        return True\n",
    "    else:\n",
    "        return False"
   ]
  },
  {
   "cell_type": "code",
   "execution_count": 49,
   "id": "d26237dc",
   "metadata": {},
   "outputs": [
    {
     "data": {
      "text/plain": [
       "False"
      ]
     },
     "execution_count": 49,
     "metadata": {},
     "output_type": "execute_result"
    }
   ],
   "source": [
    "fun('harsh@gmail')"
   ]
  },
  {
   "cell_type": "markdown",
   "id": "4cc74184",
   "metadata": {},
   "source": [
    "# 입력코드 (5)"
   ]
  },
  {
   "cell_type": "code",
   "execution_count": null,
   "id": "c74c6d3a",
   "metadata": {},
   "outputs": [],
   "source": [
    "def fun(s):\n",
    "    import re\n",
    "    valid_email_pattern = re.compile(r'[\\w]+[@][a-zA-Z0-9]+[\\\\.][a-zA-Z]{1,3}')\n",
    "\n",
    "    if valid_email_pattern.match(s):\n",
    "        return True\n",
    "    else:\n",
    "        return False\n",
    "\n",
    "def filter_mail(emails):\n",
    "    return list(filter(fun, emails))\n",
    "\n",
    "if __name__ == '__main__':\n",
    "    n = int(input())\n",
    "    emails = []\n",
    "    for _ in range(n):\n",
    "        emails.append(input())\n",
    "\n",
    "filtered_emails = filter_mail(emails)\n",
    "filtered_emails.sort()\n",
    "print(filtered_emails)"
   ]
  },
  {
   "cell_type": "markdown",
   "id": "c90818ed",
   "metadata": {},
   "source": [
    "# 입력코드 (6)"
   ]
  },
  {
   "cell_type": "code",
   "execution_count": null,
   "id": "54223f66",
   "metadata": {},
   "outputs": [],
   "source": [
    "def fun(s):\n",
    "    import re\n",
    "    valid_email_pattern = re.compile(r'[\\w-]+[@][a-zA-Z0-9]+[\\\\.][a-zA-Z]{1,3}')\n",
    "\n",
    "    if valid_email_pattern.match(s):\n",
    "        return True\n",
    "    else:\n",
    "        return False\n",
    "\n",
    "def filter_mail(emails):\n",
    "    return list(filter(fun, emails))\n",
    "\n",
    "if __name__ == '__main__':\n",
    "    n = int(input())\n",
    "    emails = []\n",
    "    for _ in range(n):\n",
    "        emails.append(input())\n",
    "\n",
    "filtered_emails = filter_mail(emails)\n",
    "filtered_emails.sort()\n",
    "print(filtered_emails)"
   ]
  },
  {
   "cell_type": "markdown",
   "id": "d30bd3d2",
   "metadata": {},
   "source": [
    "### failed_cases\n"
   ]
  },
  {
   "cell_type": "code",
   "execution_count": null,
   "id": "9a67c861",
   "metadata": {},
   "outputs": [],
   "source": [
    "learn.point@learningpoint.net\n",
    "learpoint@learningpoint.net1\n",
    "its@gmail.com1\n",
    "mike13445@yahoomail9.server\n",
    "rase23@ha_ch.com\n",
    "daniyal@gmail.coma\n",
    "thatisit@thatisit\n"
   ]
  },
  {
   "cell_type": "markdown",
   "id": "c7c69fa7",
   "metadata": {},
   "source": [
    "#### i think the problem is that i haven't marked the ned within the pattern \n",
    "#### and"
   ]
  },
  {
   "cell_type": "markdown",
   "id": "f51955c6",
   "metadata": {},
   "source": [
    "# 입력코드 (7)"
   ]
  },
  {
   "cell_type": "code",
   "execution_count": null,
   "id": "4c233f76",
   "metadata": {},
   "outputs": [],
   "source": [
    "def fun(s):\n",
    "    import re\n",
    "    valid_email_pattern = re.compile(r'[\\w-]+[@][a-zA-Z0-9]+[\\\\.][a-zA-Z]{1,3}$')\n",
    "\n",
    "    if valid_email_pattern.match(s):\n",
    "        return True\n",
    "    else:\n",
    "        return False\n",
    "\n",
    "def filter_mail(emails):\n",
    "    return list(filter(fun, emails))\n",
    "\n",
    "if __name__ == '__main__':\n",
    "    n = int(input())\n",
    "    emails = []\n",
    "    for _ in range(n):\n",
    "        emails.append(input())\n",
    "\n",
    "filtered_emails = filter_mail(emails)\n",
    "filtered_emails.sort()\n",
    "print(filtered_emails)"
   ]
  },
  {
   "cell_type": "code",
   "execution_count": null,
   "id": "5cf8032e",
   "metadata": {},
   "outputs": [],
   "source": [
    "### 예시답안 \n",
    "p = re.compile(f'^[a-zA-Z0-9_-]+@[a-zA-Z0-9]+\\.[a-zA-Z]{1,3}$')\n",
    "\n",
    "def fun(x):\n",
    "    return p.match(s)"
   ]
  },
  {
   "cell_type": "markdown",
   "id": "e39f0d68",
   "metadata": {},
   "source": [
    "- reduce function"
   ]
  },
  {
   "cell_type": "code",
   "execution_count": 51,
   "id": "2f6d2785",
   "metadata": {},
   "outputs": [],
   "source": [
    "import fractions"
   ]
  },
  {
   "cell_type": "code",
   "execution_count": 53,
   "id": "dc415156",
   "metadata": {},
   "outputs": [
    {
     "data": {
      "text/plain": [
       "False"
      ]
     },
     "execution_count": 53,
     "metadata": {},
     "output_type": "execute_result"
    }
   ],
   "source": [
    "fractions.Fraction(numerator = 1, denominator = 3) == 1/3"
   ]
  },
  {
   "cell_type": "code",
   "execution_count": 59,
   "id": "0f48fa84",
   "metadata": {},
   "outputs": [],
   "source": [
    "num1 = fractions.Fraction(numerator = 2, denominator = 5)"
   ]
  },
  {
   "cell_type": "code",
   "execution_count": 57,
   "id": "410e4992",
   "metadata": {},
   "outputs": [
    {
     "ename": "ImportError",
     "evalue": "cannot import name 'gcd' from 'fractions' (C:\\Users\\Aaron Cho\\AppData\\Local\\Programs\\Python\\Python39\\lib\\fractions.py)",
     "output_type": "error",
     "traceback": [
      "\u001b[1;31m---------------------------------------------------------------------------\u001b[0m",
      "\u001b[1;31mImportError\u001b[0m                               Traceback (most recent call last)",
      "\u001b[1;32mC:\\Users\\AARONC~1\\AppData\\Local\\Temp/ipykernel_33824/1909384207.py\u001b[0m in \u001b[0;36m<module>\u001b[1;34m\u001b[0m\n\u001b[1;32m----> 1\u001b[1;33m \u001b[1;32mfrom\u001b[0m \u001b[0mfractions\u001b[0m \u001b[1;32mimport\u001b[0m \u001b[0mgcd\u001b[0m\u001b[1;33m\u001b[0m\u001b[1;33m\u001b[0m\u001b[0m\n\u001b[0m",
      "\u001b[1;31mImportError\u001b[0m: cannot import name 'gcd' from 'fractions' (C:\\Users\\Aaron Cho\\AppData\\Local\\Programs\\Python\\Python39\\lib\\fractions.py)"
     ]
    }
   ],
   "source": [
    "from fractions import gcd"
   ]
  },
  {
   "cell_type": "code",
   "execution_count": 60,
   "id": "86ab6e33",
   "metadata": {},
   "outputs": [],
   "source": [
    "num2 = fractions.Fraction(3)"
   ]
  },
  {
   "cell_type": "code",
   "execution_count": 61,
   "id": "a1a5d02d",
   "metadata": {},
   "outputs": [
    {
     "data": {
      "text/plain": [
       "Fraction(6, 5)"
      ]
     },
     "execution_count": 61,
     "metadata": {},
     "output_type": "execute_result"
    }
   ],
   "source": [
    "num1 * num2"
   ]
  },
  {
   "cell_type": "code",
   "execution_count": 62,
   "id": "ff9dddb4",
   "metadata": {},
   "outputs": [
    {
     "name": "stdout",
     "output_type": "stream",
     "text": [
      "6/5\n"
     ]
    }
   ],
   "source": [
    "print(num1 * num2)"
   ]
  },
  {
   "cell_type": "code",
   "execution_count": 63,
   "id": "127c2231",
   "metadata": {},
   "outputs": [
    {
     "ename": "TypeError",
     "evalue": "'Fraction' object is not iterable",
     "output_type": "error",
     "traceback": [
      "\u001b[1;31m---------------------------------------------------------------------------\u001b[0m",
      "\u001b[1;31mTypeError\u001b[0m                                 Traceback (most recent call last)",
      "\u001b[1;32mC:\\Users\\AARONC~1\\AppData\\Local\\Temp/ipykernel_33824/837065780.py\u001b[0m in \u001b[0;36m<module>\u001b[1;34m\u001b[0m\n\u001b[1;32m----> 1\u001b[1;33m \u001b[1;32mfor\u001b[0m \u001b[0mx\u001b[0m\u001b[1;33m,\u001b[0m \u001b[0my\u001b[0m \u001b[1;32min\u001b[0m \u001b[0mnum1\u001b[0m\u001b[1;33m*\u001b[0m\u001b[0mnum2\u001b[0m\u001b[1;33m:\u001b[0m\u001b[1;33m\u001b[0m\u001b[1;33m\u001b[0m\u001b[0m\n\u001b[0m\u001b[0;32m      2\u001b[0m     \u001b[0mprint\u001b[0m\u001b[1;33m(\u001b[0m\u001b[0mx\u001b[0m\u001b[1;33m,\u001b[0m \u001b[0my\u001b[0m\u001b[1;33m)\u001b[0m\u001b[1;33m\u001b[0m\u001b[1;33m\u001b[0m\u001b[0m\n",
      "\u001b[1;31mTypeError\u001b[0m: 'Fraction' object is not iterable"
     ]
    }
   ],
   "source": [
    "for x, y in num1*num2:\n",
    "    print(x, y)"
   ]
  },
  {
   "cell_type": "code",
   "execution_count": 74,
   "id": "4798cf4f",
   "metadata": {},
   "outputs": [],
   "source": [
    "num3 = num1 ** num2"
   ]
  },
  {
   "cell_type": "code",
   "execution_count": 75,
   "id": "60f429eb",
   "metadata": {},
   "outputs": [
    {
     "data": {
      "text/plain": [
       "Fraction(8, 125)"
      ]
     },
     "execution_count": 75,
     "metadata": {},
     "output_type": "execute_result"
    }
   ],
   "source": [
    "num3"
   ]
  },
  {
   "cell_type": "code",
   "execution_count": 66,
   "id": "8dfe92de",
   "metadata": {},
   "outputs": [
    {
     "data": {
      "text/plain": [
       "6"
      ]
     },
     "execution_count": 66,
     "metadata": {},
     "output_type": "execute_result"
    }
   ],
   "source": [
    "num3.numerator"
   ]
  },
  {
   "cell_type": "code",
   "execution_count": 67,
   "id": "c469e1dd",
   "metadata": {},
   "outputs": [
    {
     "data": {
      "text/plain": [
       "5"
      ]
     },
     "execution_count": 67,
     "metadata": {},
     "output_type": "execute_result"
    }
   ],
   "source": [
    "num3.denominator"
   ]
  },
  {
   "cell_type": "code",
   "execution_count": null,
   "id": "9737b93d",
   "metadata": {},
   "outputs": [],
   "source": [
    "import fractions\n",
    "\n",
    "n = int(iinput())\n",
    "numbers = [list(map(int, input().split())) for _ in range(n)]\n",
    "numbers = list(map(lambda x: fractions.Fraction(x[0], x[1]), numbers))\n",
    "\n",
    "result = reduce(lambda x, y: x*b, numbers)\n",
    "print(result.numerator, result.denominator)"
   ]
  },
  {
   "cell_type": "code",
   "execution_count": null,
   "id": "275b970a",
   "metadata": {},
   "outputs": [],
   "source": [
    "from fractions import Fraction\n",
    "from functools import reduce\n",
    "\n",
    "def product(fracs):\n",
    "    t = reduce(lambda x, y: x*y, fracs)\n",
    "    return t.numerator, t.denominator\n",
    "\n",
    "if __name__ == '__main__':\n",
    "    fracs = []\n",
    "    for _ in range(int(input())):\n",
    "        fracs.append(Fraction(*map(int, input().split())))\n",
    "    result = product(fracs)\n",
    "    print(*result)"
   ]
  },
  {
   "cell_type": "markdown",
   "id": "caff4864",
   "metadata": {},
   "source": [
    "- hex color code "
   ]
  },
  {
   "cell_type": "code",
   "execution_count": null,
   "id": "4ac45d05",
   "metadata": {},
   "outputs": [],
   "source": [
    "import re\n",
    "\n",
    "n = int(input())\n",
    "string = ''\n",
    "for _ in range(n):\n",
    "    string += str(input())\n",
    "\n",
    "    \n",
    "detect = re.compile('[{].+?[}]', re.DOTALL)\n",
    "pattern = re.compile('[\\#](([0-9a-fA-F]{3})|([0-9a-fA-F]{6}))')\n",
    "\n",
    "target = ''.join(re.findall(detect, string))\n",
    "valid_color_codes = re.findall(pattern, target)\n",
    "\n",
    "print(*valid_color_codes, sep = '\\n')"
   ]
  },
  {
   "cell_type": "code",
   "execution_count": 76,
   "id": "5abaace7",
   "metadata": {},
   "outputs": [],
   "source": [
    "pattern = re.compile('[\\#](([0-9a-fA-F]{3})|([0-9a-fA-F]{6}))')"
   ]
  },
  {
   "cell_type": "code",
   "execution_count": 80,
   "id": "07aaeed5",
   "metadata": {},
   "outputs": [],
   "source": [
    "test_cases = '#456 $aaaaa,#000191\\n #afa0z2'"
   ]
  },
  {
   "cell_type": "code",
   "execution_count": 81,
   "id": "f7b9ca14",
   "metadata": {},
   "outputs": [
    {
     "data": {
      "text/plain": [
       "[('456', '456', ''), ('000', '000', ''), ('afa', 'afa', '')]"
      ]
     },
     "execution_count": 81,
     "metadata": {},
     "output_type": "execute_result"
    }
   ],
   "source": [
    "re.findall(pattern, test_cases)"
   ]
  },
  {
   "cell_type": "markdown",
   "id": "68169acd",
   "metadata": {},
   "source": [
    "### 아 지금 {3} 또는 {6}이 제대로 안 먹혔구나 "
   ]
  },
  {
   "cell_type": "code",
   "execution_count": null,
   "id": "fcf10090",
   "metadata": {},
   "outputs": [],
   "source": [
    "import re\n",
    "\n",
    "n = int(input())\n",
    "string = ''\n",
    "for _ in range(n):\n",
    "    string += str(input())\n",
    "\n",
    "    \n",
    "detect = re.compile('[{].+?[}]', re.DOTALL)\n",
    "pattern_1 = re.compile('[\\#][0-9a-fA-F]{3}')\n",
    "pattern_2  = re.compile('[\\#][0-9a-fA-F]{6}')\n",
    "\n",
    "target = ''.join(re.findall(detect, string))\n",
    "valid_color_codes_1 = re.findall(pattern_1, target)\n",
    "valid_color_codes_2 = re.findall(pattern_2, target)\n",
    "\n",
    "valid_color_codes = valid_color_codes1 + valid_color_codes2\n",
    "\n",
    "print(*valid_color_codes, sep = '\\n')"
   ]
  },
  {
   "cell_type": "code",
   "execution_count": 82,
   "id": "08a47e7d",
   "metadata": {},
   "outputs": [],
   "source": [
    "pattern_1 = re.compile('[\\#][0-9a-fA-F]{3}')\n",
    "pattern_2  = re.compile('[\\#][0-9a-fA-F]{6}')\n"
   ]
  },
  {
   "cell_type": "code",
   "execution_count": 83,
   "id": "ac943943",
   "metadata": {},
   "outputs": [],
   "source": [
    "test_cases = '#456 $aaaaa,#000191\\n #afa0z2'"
   ]
  },
  {
   "cell_type": "code",
   "execution_count": 85,
   "id": "60025c56",
   "metadata": {},
   "outputs": [
    {
     "data": {
      "text/plain": [
       "['#456', '#000', '#afa']"
      ]
     },
     "execution_count": 85,
     "metadata": {},
     "output_type": "execute_result"
    }
   ],
   "source": [
    "re.findall(pattern_1, test_cases)"
   ]
  },
  {
   "cell_type": "code",
   "execution_count": 86,
   "id": "7ff342a8",
   "metadata": {},
   "outputs": [
    {
     "data": {
      "text/plain": [
       "['#000191']"
      ]
     },
     "execution_count": 86,
     "metadata": {},
     "output_type": "execute_result"
    }
   ],
   "source": [
    "re.findall(pattern_2, test_cases)"
   ]
  },
  {
   "cell_type": "code",
   "execution_count": 87,
   "id": "743aaa54",
   "metadata": {},
   "outputs": [],
   "source": [
    "pattern_3 = re.compile('[\\#][0-9a-fA-Z]{3}(?!=\\W)')"
   ]
  },
  {
   "cell_type": "code",
   "execution_count": 88,
   "id": "f6ba7b58",
   "metadata": {},
   "outputs": [
    {
     "data": {
      "text/plain": [
       "['#456', '#000', '#afa']"
      ]
     },
     "execution_count": 88,
     "metadata": {},
     "output_type": "execute_result"
    }
   ],
   "source": [
    "re.findall(pattern_3, test_cases)"
   ]
  },
  {
   "cell_type": "code",
   "execution_count": 91,
   "id": "e3adde30",
   "metadata": {},
   "outputs": [],
   "source": [
    "pattern_3 = re.compile('[\\#][0-9a-fA-Z]{3}(?=\\W)')\n",
    "pattern_4 = re.compile('[\\#][0-9a-fA-Z]{6}(?=\\W)')"
   ]
  },
  {
   "cell_type": "code",
   "execution_count": 92,
   "id": "56e327b6",
   "metadata": {},
   "outputs": [
    {
     "data": {
      "text/plain": [
       "['#456']"
      ]
     },
     "execution_count": 92,
     "metadata": {},
     "output_type": "execute_result"
    }
   ],
   "source": [
    "re.findall(pattern_3, test_cases)"
   ]
  },
  {
   "cell_type": "code",
   "execution_count": 93,
   "id": "56c8c263",
   "metadata": {},
   "outputs": [
    {
     "data": {
      "text/plain": [
       "['#000191']"
      ]
     },
     "execution_count": 93,
     "metadata": {},
     "output_type": "execute_result"
    }
   ],
   "source": [
    "re.findall(pattern_4, test_cases)"
   ]
  },
  {
   "cell_type": "markdown",
   "id": "869d354f",
   "metadata": {},
   "source": [
    "# 입력코드 (1)"
   ]
  },
  {
   "cell_type": "code",
   "execution_count": null,
   "id": "d772d8e5",
   "metadata": {},
   "outputs": [],
   "source": [
    "import re\n",
    "\n",
    "n = int(input())\n",
    "string = ''\n",
    "for _ in range(n):\n",
    "    string += str(input())\n",
    "\n",
    "    \n",
    "detect = re.compile('[{].+?[}]', re.DOTALL)\n",
    "pattern_1 = re.compile('[\\#][0-9a-fA-F]{3}(?=\\W)')\n",
    "pattern_2  = re.compile('[\\#][0-9a-fA-F]{6}(?=\\W)')\n",
    "\n",
    "target = ''.join(re.findall(detect, string))\n",
    "valid_color_codes_1 = re.findall(pattern_1, target)\n",
    "valid_color_codes_2 = re.findall(pattern_2, target)\n",
    "\n",
    "valid_color_codes = valid_color_codes1 + valid_color_codes2\n",
    "\n",
    "print(*valid_color_codes, sep = '\\n')"
   ]
  },
  {
   "cell_type": "markdown",
   "id": "d915ce25",
   "metadata": {},
   "source": [
    "# 입력코드 (2)"
   ]
  },
  {
   "cell_type": "code",
   "execution_count": null,
   "id": "8daad0c1",
   "metadata": {},
   "outputs": [],
   "source": [
    "import re\n",
    "\n",
    "n = int(input())\n",
    "string = ''\n",
    "for _ in range(n):\n",
    "    string += str(input())\n",
    "\n",
    "    \n",
    "detect = re.compile('[{].+?[}]', re.DOTALL)\n",
    "pattern_1 = re.compile('[\\#][0-9a-fA-F]{3}(?=\\W)')\n",
    "pattern_2  = re.compile('[\\#][0-9a-fA-F]{6}(?=\\W)')\n",
    "\n",
    "target = ''.join(re.findall(detect, string))\n",
    "valid_color_codes1 = re.findall(pattern_1, target)\n",
    "valid_color_codes2 = re.findall(pattern_2, target)\n",
    "\n",
    "valid_color_codes = valid_color_codes1 + valid_color_codes2\n",
    "\n",
    "print(*valid_color_codes, sep = '\\n')"
   ]
  },
  {
   "cell_type": "markdown",
   "id": "c0f2e8a9",
   "metadata": {},
   "source": [
    "#### 왜 순서가 정답이랑 다르지? > oh ... i divded them into valid_color_codes1 and valid_color_codes2"
   ]
  },
  {
   "cell_type": "markdown",
   "id": "59b543be",
   "metadata": {},
   "source": [
    "# 입력코드 (3)"
   ]
  },
  {
   "cell_type": "code",
   "execution_count": null,
   "id": "aae96d11",
   "metadata": {},
   "outputs": [],
   "source": [
    "import re\n",
    "\n",
    "n = int(input())\n",
    "valid_color_codes = []\n",
    "\n",
    "detect = re.compile('[{].+?[}]', re.DOTALL)\n",
    "pattern_1 = re.compile('[\\#][0-9a-fA-F]{3}(?=\\W)')\n",
    "pattern_2  = re.compile('[\\#][0-9a-fA-F]{6}(?=\\W)')\n",
    "\n",
    "for _ in range(n):\n",
    "    target = input()\n",
    "    if pattern_1.search(target):\n",
    "        valid_color_codes.extend(re.findall(pattern_1, target))\n",
    "\n",
    "    \n",
    "\n",
    "target = ''.join(re.findall(detect, string))\n",
    "valid_color_codes1 = re.findall(pattern_1, target)\n",
    "valid_color_codes2 = re.findall(pattern_2, target)\n",
    "\n",
    "valid_color_codes = valid_color_codes1 + valid_color_codes2\n",
    "\n",
    "print(*valid_color_codes, sep = '\\n')"
   ]
  },
  {
   "cell_type": "code",
   "execution_count": 94,
   "id": "f5511dc5",
   "metadata": {},
   "outputs": [
    {
     "ename": "error",
     "evalue": "nothing to repeat at position 16",
     "output_type": "error",
     "traceback": [
      "\u001b[1;31m---------------------------------------------------------------------------\u001b[0m",
      "\u001b[1;31merror\u001b[0m                                     Traceback (most recent call last)",
      "\u001b[1;32mC:\\Users\\AARONC~1\\AppData\\Local\\Temp/ipykernel_33824/3401184713.py\u001b[0m in \u001b[0;36m<module>\u001b[1;34m\u001b[0m\n\u001b[1;32m----> 1\u001b[1;33m \u001b[0mpattern_1\u001b[0m \u001b[1;33m=\u001b[0m \u001b[0mre\u001b[0m\u001b[1;33m.\u001b[0m\u001b[0mcompile\u001b[0m\u001b[1;33m(\u001b[0m\u001b[1;34m'[\\#][0-9a-fA-F]({3}|{6})(?=\\W)'\u001b[0m\u001b[1;33m)\u001b[0m\u001b[1;33m\u001b[0m\u001b[1;33m\u001b[0m\u001b[0m\n\u001b[0m",
      "\u001b[1;32m~\\AppData\\Local\\Programs\\Python\\Python39\\lib\\re.py\u001b[0m in \u001b[0;36mcompile\u001b[1;34m(pattern, flags)\u001b[0m\n\u001b[0;32m    250\u001b[0m \u001b[1;32mdef\u001b[0m \u001b[0mcompile\u001b[0m\u001b[1;33m(\u001b[0m\u001b[0mpattern\u001b[0m\u001b[1;33m,\u001b[0m \u001b[0mflags\u001b[0m\u001b[1;33m=\u001b[0m\u001b[1;36m0\u001b[0m\u001b[1;33m)\u001b[0m\u001b[1;33m:\u001b[0m\u001b[1;33m\u001b[0m\u001b[1;33m\u001b[0m\u001b[0m\n\u001b[0;32m    251\u001b[0m     \u001b[1;34m\"Compile a regular expression pattern, returning a Pattern object.\"\u001b[0m\u001b[1;33m\u001b[0m\u001b[1;33m\u001b[0m\u001b[0m\n\u001b[1;32m--> 252\u001b[1;33m     \u001b[1;32mreturn\u001b[0m \u001b[0m_compile\u001b[0m\u001b[1;33m(\u001b[0m\u001b[0mpattern\u001b[0m\u001b[1;33m,\u001b[0m \u001b[0mflags\u001b[0m\u001b[1;33m)\u001b[0m\u001b[1;33m\u001b[0m\u001b[1;33m\u001b[0m\u001b[0m\n\u001b[0m\u001b[0;32m    253\u001b[0m \u001b[1;33m\u001b[0m\u001b[0m\n\u001b[0;32m    254\u001b[0m \u001b[1;32mdef\u001b[0m \u001b[0mpurge\u001b[0m\u001b[1;33m(\u001b[0m\u001b[1;33m)\u001b[0m\u001b[1;33m:\u001b[0m\u001b[1;33m\u001b[0m\u001b[1;33m\u001b[0m\u001b[0m\n",
      "\u001b[1;32m~\\AppData\\Local\\Programs\\Python\\Python39\\lib\\re.py\u001b[0m in \u001b[0;36m_compile\u001b[1;34m(pattern, flags)\u001b[0m\n\u001b[0;32m    302\u001b[0m     \u001b[1;32mif\u001b[0m \u001b[1;32mnot\u001b[0m \u001b[0msre_compile\u001b[0m\u001b[1;33m.\u001b[0m\u001b[0misstring\u001b[0m\u001b[1;33m(\u001b[0m\u001b[0mpattern\u001b[0m\u001b[1;33m)\u001b[0m\u001b[1;33m:\u001b[0m\u001b[1;33m\u001b[0m\u001b[1;33m\u001b[0m\u001b[0m\n\u001b[0;32m    303\u001b[0m         \u001b[1;32mraise\u001b[0m \u001b[0mTypeError\u001b[0m\u001b[1;33m(\u001b[0m\u001b[1;34m\"first argument must be string or compiled pattern\"\u001b[0m\u001b[1;33m)\u001b[0m\u001b[1;33m\u001b[0m\u001b[1;33m\u001b[0m\u001b[0m\n\u001b[1;32m--> 304\u001b[1;33m     \u001b[0mp\u001b[0m \u001b[1;33m=\u001b[0m \u001b[0msre_compile\u001b[0m\u001b[1;33m.\u001b[0m\u001b[0mcompile\u001b[0m\u001b[1;33m(\u001b[0m\u001b[0mpattern\u001b[0m\u001b[1;33m,\u001b[0m \u001b[0mflags\u001b[0m\u001b[1;33m)\u001b[0m\u001b[1;33m\u001b[0m\u001b[1;33m\u001b[0m\u001b[0m\n\u001b[0m\u001b[0;32m    305\u001b[0m     \u001b[1;32mif\u001b[0m \u001b[1;32mnot\u001b[0m \u001b[1;33m(\u001b[0m\u001b[0mflags\u001b[0m \u001b[1;33m&\u001b[0m \u001b[0mDEBUG\u001b[0m\u001b[1;33m)\u001b[0m\u001b[1;33m:\u001b[0m\u001b[1;33m\u001b[0m\u001b[1;33m\u001b[0m\u001b[0m\n\u001b[0;32m    306\u001b[0m         \u001b[1;32mif\u001b[0m \u001b[0mlen\u001b[0m\u001b[1;33m(\u001b[0m\u001b[0m_cache\u001b[0m\u001b[1;33m)\u001b[0m \u001b[1;33m>=\u001b[0m \u001b[0m_MAXCACHE\u001b[0m\u001b[1;33m:\u001b[0m\u001b[1;33m\u001b[0m\u001b[1;33m\u001b[0m\u001b[0m\n",
      "\u001b[1;32m~\\AppData\\Local\\Programs\\Python\\Python39\\lib\\sre_compile.py\u001b[0m in \u001b[0;36mcompile\u001b[1;34m(p, flags)\u001b[0m\n\u001b[0;32m    762\u001b[0m     \u001b[1;32mif\u001b[0m \u001b[0misstring\u001b[0m\u001b[1;33m(\u001b[0m\u001b[0mp\u001b[0m\u001b[1;33m)\u001b[0m\u001b[1;33m:\u001b[0m\u001b[1;33m\u001b[0m\u001b[1;33m\u001b[0m\u001b[0m\n\u001b[0;32m    763\u001b[0m         \u001b[0mpattern\u001b[0m \u001b[1;33m=\u001b[0m \u001b[0mp\u001b[0m\u001b[1;33m\u001b[0m\u001b[1;33m\u001b[0m\u001b[0m\n\u001b[1;32m--> 764\u001b[1;33m         \u001b[0mp\u001b[0m \u001b[1;33m=\u001b[0m \u001b[0msre_parse\u001b[0m\u001b[1;33m.\u001b[0m\u001b[0mparse\u001b[0m\u001b[1;33m(\u001b[0m\u001b[0mp\u001b[0m\u001b[1;33m,\u001b[0m \u001b[0mflags\u001b[0m\u001b[1;33m)\u001b[0m\u001b[1;33m\u001b[0m\u001b[1;33m\u001b[0m\u001b[0m\n\u001b[0m\u001b[0;32m    765\u001b[0m     \u001b[1;32melse\u001b[0m\u001b[1;33m:\u001b[0m\u001b[1;33m\u001b[0m\u001b[1;33m\u001b[0m\u001b[0m\n\u001b[0;32m    766\u001b[0m         \u001b[0mpattern\u001b[0m \u001b[1;33m=\u001b[0m \u001b[1;32mNone\u001b[0m\u001b[1;33m\u001b[0m\u001b[1;33m\u001b[0m\u001b[0m\n",
      "\u001b[1;32m~\\AppData\\Local\\Programs\\Python\\Python39\\lib\\sre_parse.py\u001b[0m in \u001b[0;36mparse\u001b[1;34m(str, flags, state)\u001b[0m\n\u001b[0;32m    946\u001b[0m \u001b[1;33m\u001b[0m\u001b[0m\n\u001b[0;32m    947\u001b[0m     \u001b[1;32mtry\u001b[0m\u001b[1;33m:\u001b[0m\u001b[1;33m\u001b[0m\u001b[1;33m\u001b[0m\u001b[0m\n\u001b[1;32m--> 948\u001b[1;33m         \u001b[0mp\u001b[0m \u001b[1;33m=\u001b[0m \u001b[0m_parse_sub\u001b[0m\u001b[1;33m(\u001b[0m\u001b[0msource\u001b[0m\u001b[1;33m,\u001b[0m \u001b[0mstate\u001b[0m\u001b[1;33m,\u001b[0m \u001b[0mflags\u001b[0m \u001b[1;33m&\u001b[0m \u001b[0mSRE_FLAG_VERBOSE\u001b[0m\u001b[1;33m,\u001b[0m \u001b[1;36m0\u001b[0m\u001b[1;33m)\u001b[0m\u001b[1;33m\u001b[0m\u001b[1;33m\u001b[0m\u001b[0m\n\u001b[0m\u001b[0;32m    949\u001b[0m     \u001b[1;32mexcept\u001b[0m \u001b[0mVerbose\u001b[0m\u001b[1;33m:\u001b[0m\u001b[1;33m\u001b[0m\u001b[1;33m\u001b[0m\u001b[0m\n\u001b[0;32m    950\u001b[0m         \u001b[1;31m# the VERBOSE flag was switched on inside the pattern.  to be\u001b[0m\u001b[1;33m\u001b[0m\u001b[1;33m\u001b[0m\u001b[0m\n",
      "\u001b[1;32m~\\AppData\\Local\\Programs\\Python\\Python39\\lib\\sre_parse.py\u001b[0m in \u001b[0;36m_parse_sub\u001b[1;34m(source, state, verbose, nested)\u001b[0m\n\u001b[0;32m    441\u001b[0m     \u001b[0mstart\u001b[0m \u001b[1;33m=\u001b[0m \u001b[0msource\u001b[0m\u001b[1;33m.\u001b[0m\u001b[0mtell\u001b[0m\u001b[1;33m(\u001b[0m\u001b[1;33m)\u001b[0m\u001b[1;33m\u001b[0m\u001b[1;33m\u001b[0m\u001b[0m\n\u001b[0;32m    442\u001b[0m     \u001b[1;32mwhile\u001b[0m \u001b[1;32mTrue\u001b[0m\u001b[1;33m:\u001b[0m\u001b[1;33m\u001b[0m\u001b[1;33m\u001b[0m\u001b[0m\n\u001b[1;32m--> 443\u001b[1;33m         itemsappend(_parse(source, state, verbose, nested + 1,\n\u001b[0m\u001b[0;32m    444\u001b[0m                            not nested and not items))\n\u001b[0;32m    445\u001b[0m         \u001b[1;32mif\u001b[0m \u001b[1;32mnot\u001b[0m \u001b[0msourcematch\u001b[0m\u001b[1;33m(\u001b[0m\u001b[1;34m\"|\"\u001b[0m\u001b[1;33m)\u001b[0m\u001b[1;33m:\u001b[0m\u001b[1;33m\u001b[0m\u001b[1;33m\u001b[0m\u001b[0m\n",
      "\u001b[1;32m~\\AppData\\Local\\Programs\\Python\\Python39\\lib\\sre_parse.py\u001b[0m in \u001b[0;36m_parse\u001b[1;34m(source, state, verbose, nested, first)\u001b[0m\n\u001b[0;32m    832\u001b[0m             sub_verbose = ((verbose or (add_flags & SRE_FLAG_VERBOSE)) and\n\u001b[0;32m    833\u001b[0m                            not (del_flags & SRE_FLAG_VERBOSE))\n\u001b[1;32m--> 834\u001b[1;33m             \u001b[0mp\u001b[0m \u001b[1;33m=\u001b[0m \u001b[0m_parse_sub\u001b[0m\u001b[1;33m(\u001b[0m\u001b[0msource\u001b[0m\u001b[1;33m,\u001b[0m \u001b[0mstate\u001b[0m\u001b[1;33m,\u001b[0m \u001b[0msub_verbose\u001b[0m\u001b[1;33m,\u001b[0m \u001b[0mnested\u001b[0m \u001b[1;33m+\u001b[0m \u001b[1;36m1\u001b[0m\u001b[1;33m)\u001b[0m\u001b[1;33m\u001b[0m\u001b[1;33m\u001b[0m\u001b[0m\n\u001b[0m\u001b[0;32m    835\u001b[0m             \u001b[1;32mif\u001b[0m \u001b[1;32mnot\u001b[0m \u001b[0msource\u001b[0m\u001b[1;33m.\u001b[0m\u001b[0mmatch\u001b[0m\u001b[1;33m(\u001b[0m\u001b[1;34m\")\"\u001b[0m\u001b[1;33m)\u001b[0m\u001b[1;33m:\u001b[0m\u001b[1;33m\u001b[0m\u001b[1;33m\u001b[0m\u001b[0m\n\u001b[0;32m    836\u001b[0m                 raise source.error(\"missing ), unterminated subpattern\",\n",
      "\u001b[1;32m~\\AppData\\Local\\Programs\\Python\\Python39\\lib\\sre_parse.py\u001b[0m in \u001b[0;36m_parse_sub\u001b[1;34m(source, state, verbose, nested)\u001b[0m\n\u001b[0;32m    441\u001b[0m     \u001b[0mstart\u001b[0m \u001b[1;33m=\u001b[0m \u001b[0msource\u001b[0m\u001b[1;33m.\u001b[0m\u001b[0mtell\u001b[0m\u001b[1;33m(\u001b[0m\u001b[1;33m)\u001b[0m\u001b[1;33m\u001b[0m\u001b[1;33m\u001b[0m\u001b[0m\n\u001b[0;32m    442\u001b[0m     \u001b[1;32mwhile\u001b[0m \u001b[1;32mTrue\u001b[0m\u001b[1;33m:\u001b[0m\u001b[1;33m\u001b[0m\u001b[1;33m\u001b[0m\u001b[0m\n\u001b[1;32m--> 443\u001b[1;33m         itemsappend(_parse(source, state, verbose, nested + 1,\n\u001b[0m\u001b[0;32m    444\u001b[0m                            not nested and not items))\n\u001b[0;32m    445\u001b[0m         \u001b[1;32mif\u001b[0m \u001b[1;32mnot\u001b[0m \u001b[0msourcematch\u001b[0m\u001b[1;33m(\u001b[0m\u001b[1;34m\"|\"\u001b[0m\u001b[1;33m)\u001b[0m\u001b[1;33m:\u001b[0m\u001b[1;33m\u001b[0m\u001b[1;33m\u001b[0m\u001b[0m\n",
      "\u001b[1;32m~\\AppData\\Local\\Programs\\Python\\Python39\\lib\\sre_parse.py\u001b[0m in \u001b[0;36m_parse\u001b[1;34m(source, state, verbose, nested, first)\u001b[0m\n\u001b[0;32m    666\u001b[0m                 \u001b[0mitem\u001b[0m \u001b[1;33m=\u001b[0m \u001b[1;32mNone\u001b[0m\u001b[1;33m\u001b[0m\u001b[1;33m\u001b[0m\u001b[0m\n\u001b[0;32m    667\u001b[0m             \u001b[1;32mif\u001b[0m \u001b[1;32mnot\u001b[0m \u001b[0mitem\u001b[0m \u001b[1;32mor\u001b[0m \u001b[0mitem\u001b[0m\u001b[1;33m[\u001b[0m\u001b[1;36m0\u001b[0m\u001b[1;33m]\u001b[0m\u001b[1;33m[\u001b[0m\u001b[1;36m0\u001b[0m\u001b[1;33m]\u001b[0m \u001b[1;32mis\u001b[0m \u001b[0mAT\u001b[0m\u001b[1;33m:\u001b[0m\u001b[1;33m\u001b[0m\u001b[1;33m\u001b[0m\u001b[0m\n\u001b[1;32m--> 668\u001b[1;33m                 raise source.error(\"nothing to repeat\",\n\u001b[0m\u001b[0;32m    669\u001b[0m                                    source.tell() - here + len(this))\n\u001b[0;32m    670\u001b[0m             \u001b[1;32mif\u001b[0m \u001b[0mitem\u001b[0m\u001b[1;33m[\u001b[0m\u001b[1;36m0\u001b[0m\u001b[1;33m]\u001b[0m\u001b[1;33m[\u001b[0m\u001b[1;36m0\u001b[0m\u001b[1;33m]\u001b[0m \u001b[1;32min\u001b[0m \u001b[0m_REPEATCODES\u001b[0m\u001b[1;33m:\u001b[0m\u001b[1;33m\u001b[0m\u001b[1;33m\u001b[0m\u001b[0m\n",
      "\u001b[1;31merror\u001b[0m: nothing to repeat at position 16"
     ]
    }
   ],
   "source": [
    "pattern_1 = re.compile('[\\#][0-9a-fA-F]({3}|{6})(?=\\W)')"
   ]
  },
  {
   "cell_type": "code",
   "execution_count": 95,
   "id": "f6f92f35",
   "metadata": {},
   "outputs": [],
   "source": [
    "pattern_1 = re.compile('[\\#][0-9a-fA-F]{3|6}(?=\\W)')"
   ]
  },
  {
   "cell_type": "code",
   "execution_count": 96,
   "id": "2a0deb47",
   "metadata": {},
   "outputs": [
    {
     "data": {
      "text/plain": [
       "'#456 $aaaaa,#000191\\n #afa0z2'"
      ]
     },
     "execution_count": 96,
     "metadata": {},
     "output_type": "execute_result"
    }
   ],
   "source": [
    "test_cases"
   ]
  },
  {
   "cell_type": "code",
   "execution_count": 97,
   "id": "8823581f",
   "metadata": {},
   "outputs": [
    {
     "data": {
      "text/plain": [
       "[]"
      ]
     },
     "execution_count": 97,
     "metadata": {},
     "output_type": "execute_result"
    }
   ],
   "source": [
    "re.findall(pattern_1, test_cases)"
   ]
  },
  {
   "cell_type": "code",
   "execution_count": 98,
   "id": "de3c9d05",
   "metadata": {},
   "outputs": [],
   "source": [
    "pattern_1 = re.compile('([\\#][0-9a-fA-F]{3}(?=\\W))|([\\#][0-9a-fA-F]{6}(?=\\W))')"
   ]
  },
  {
   "cell_type": "code",
   "execution_count": 99,
   "id": "d61dee4b",
   "metadata": {},
   "outputs": [
    {
     "data": {
      "text/plain": [
       "[('#456', ''), ('', '#000191')]"
      ]
     },
     "execution_count": 99,
     "metadata": {},
     "output_type": "execute_result"
    }
   ],
   "source": [
    "re.findall(pattern_1, test_cases)"
   ]
  },
  {
   "cell_type": "code",
   "execution_count": 100,
   "id": "67deef68",
   "metadata": {},
   "outputs": [],
   "source": [
    "pattern = re.compile('[\\#][0-9a-fA-F]{3,6}(?=\\W)')"
   ]
  },
  {
   "cell_type": "code",
   "execution_count": 101,
   "id": "2bb05d09",
   "metadata": {},
   "outputs": [
    {
     "data": {
      "text/plain": [
       "['#456', '#000191']"
      ]
     },
     "execution_count": 101,
     "metadata": {},
     "output_type": "execute_result"
    }
   ],
   "source": [
    "re.findall(pattern, test_cases)"
   ]
  },
  {
   "cell_type": "code",
   "execution_count": 102,
   "id": "03a8ddc2",
   "metadata": {},
   "outputs": [
    {
     "data": {
      "text/plain": [
       "'#456 $aaaaa,#000191\\n #afa0z2'"
      ]
     },
     "execution_count": 102,
     "metadata": {},
     "output_type": "execute_result"
    }
   ],
   "source": [
    "test_cases"
   ]
  },
  {
   "cell_type": "code",
   "execution_count": 107,
   "id": "918129bf",
   "metadata": {},
   "outputs": [],
   "source": [
    "test_cases += '#afaz'"
   ]
  },
  {
   "cell_type": "code",
   "execution_count": 108,
   "id": "8fb0b48c",
   "metadata": {},
   "outputs": [
    {
     "data": {
      "text/plain": [
       "['#456', '#000191', '#afaf', '#afaf']"
      ]
     },
     "execution_count": 108,
     "metadata": {},
     "output_type": "execute_result"
    }
   ],
   "source": [
    "re.findall(pattern, test_cases)"
   ]
  },
  {
   "cell_type": "code",
   "execution_count": 109,
   "id": "ea79dd25",
   "metadata": {},
   "outputs": [],
   "source": [
    "pattern = re.compile('[\\#][0-9a-fA-F]{3,6}\\\\b')"
   ]
  },
  {
   "cell_type": "code",
   "execution_count": 110,
   "id": "21d0a3eb",
   "metadata": {},
   "outputs": [
    {
     "data": {
      "text/plain": [
       "'#456 $aaaaa,#000191\\n #afa0z2#afaf#afaf #afaz'"
      ]
     },
     "execution_count": 110,
     "metadata": {},
     "output_type": "execute_result"
    }
   ],
   "source": [
    "test_cases"
   ]
  },
  {
   "cell_type": "code",
   "execution_count": 111,
   "id": "7185e621",
   "metadata": {},
   "outputs": [
    {
     "data": {
      "text/plain": [
       "['#456', '#000191', '#afaf', '#afaf']"
      ]
     },
     "execution_count": 111,
     "metadata": {},
     "output_type": "execute_result"
    }
   ],
   "source": [
    "re.findall(pattern, test_cases)"
   ]
  },
  {
   "cell_type": "code",
   "execution_count": 112,
   "id": "de57a8dd",
   "metadata": {},
   "outputs": [],
   "source": [
    "test_cases += '#0000'"
   ]
  },
  {
   "cell_type": "code",
   "execution_count": 113,
   "id": "29381417",
   "metadata": {},
   "outputs": [
    {
     "data": {
      "text/plain": [
       "['#456', '#000191', '#afaf', '#afaf', '#0000']"
      ]
     },
     "execution_count": 113,
     "metadata": {},
     "output_type": "execute_result"
    }
   ],
   "source": [
    "re.findall(pattern, test_cases)"
   ]
  },
  {
   "cell_type": "markdown",
   "id": "782ec9c4",
   "metadata": {},
   "source": [
    "# 입력코드 (4)"
   ]
  },
  {
   "cell_type": "code",
   "execution_count": null,
   "id": "78831560",
   "metadata": {},
   "outputs": [],
   "source": [
    "import re\n",
    "\n",
    "n = int(input())\n",
    "string = ''\n",
    "for _ in range(n):\n",
    "    string += str(input())\n",
    "\n",
    "    \n",
    "detect = re.compile('[{].+?[}]', re.DOTALL)\n",
    "pattern = re.compile('[\\#][0-9a-fA-F]{3,6}\\\\b')\n",
    "\n",
    "target = ''.join(re.findall(detect, string))\n",
    "target_codes = re.findall(pattern, target)\n",
    "valid_codes = [code for code in target_codes if (len(code) == 4 or len(code) == 7)]\n",
    "\n",
    "\n",
    "print(*valid_codes, sep = '\\n')"
   ]
  },
  {
   "cell_type": "markdown",
   "id": "cdfb5655",
   "metadata": {},
   "source": [
    "# 입력코드 (5)"
   ]
  },
  {
   "cell_type": "code",
   "execution_count": null,
   "id": "f72664ac",
   "metadata": {},
   "outputs": [],
   "source": [
    "import re\n",
    "\n",
    "n = int(input())\n",
    "string = ''\n",
    "for _ in range(n):\n",
    "    string += str(input())\n",
    "\n",
    "    \n",
    "detebt = re.compile('[{].+?[}]', re.DOTALL)\n",
    "pattern = re.compile('[#][0-9a-fA-F]{3,6}\\\\b')\n",
    "\n",
    "target = ''.join(re.findall(detect, string))\n",
    "target_codes = re.findall(pattern, target)\n",
    "valid_codes = [code for code in target_codes if (len(code) == 4 or len(code) == 7)]\n",
    "\n",
    "\n",
    "print(*valid_codes, sep = '\\n')"
   ]
  },
  {
   "cell_type": "code",
   "execution_count": null,
   "id": "057e2866",
   "metadata": {},
   "outputs": [],
   "source": [
    "### 예시답안 \n",
    "pattern = re.compile('(?<!)(#(?:[\\da-f]{3}){1, 2})')"
   ]
  },
  {
   "cell_type": "markdown",
   "id": "6a07dc6c",
   "metadata": {},
   "source": [
    "- HTML Parser - Part1\n"
   ]
  },
  {
   "cell_type": "code",
   "execution_count": 114,
   "id": "ccd6825c",
   "metadata": {},
   "outputs": [
    {
     "ename": "ModuleNotFoundError",
     "evalue": "No module named 'markupbase'",
     "output_type": "error",
     "traceback": [
      "\u001b[1;31m---------------------------------------------------------------------------\u001b[0m",
      "\u001b[1;31mModuleNotFoundError\u001b[0m                       Traceback (most recent call last)",
      "\u001b[1;32mC:\\Users\\AARONC~1\\AppData\\Local\\Temp/ipykernel_33824/385763448.py\u001b[0m in \u001b[0;36m<module>\u001b[1;34m\u001b[0m\n\u001b[1;32m----> 1\u001b[1;33m \u001b[1;32mfrom\u001b[0m \u001b[0mHTMLParser\u001b[0m \u001b[1;32mimport\u001b[0m \u001b[0mHTMLParser\u001b[0m\u001b[1;33m\u001b[0m\u001b[1;33m\u001b[0m\u001b[0m\n\u001b[0m",
      "\u001b[1;32m~\\AppData\\Local\\Programs\\Python\\Python39\\lib\\site-packages\\HTMLParser.py\u001b[0m in \u001b[0;36m<module>\u001b[1;34m\u001b[0m\n\u001b[0;32m      9\u001b[0m \u001b[1;33m\u001b[0m\u001b[0m\n\u001b[0;32m     10\u001b[0m \u001b[1;33m\u001b[0m\u001b[0m\n\u001b[1;32m---> 11\u001b[1;33m \u001b[1;32mimport\u001b[0m \u001b[0mmarkupbase\u001b[0m\u001b[1;33m\u001b[0m\u001b[1;33m\u001b[0m\u001b[0m\n\u001b[0m\u001b[0;32m     12\u001b[0m \u001b[1;32mimport\u001b[0m \u001b[0mre\u001b[0m\u001b[1;33m\u001b[0m\u001b[1;33m\u001b[0m\u001b[0m\n\u001b[0;32m     13\u001b[0m \u001b[1;33m\u001b[0m\u001b[0m\n",
      "\u001b[1;31mModuleNotFoundError\u001b[0m: No module named 'markupbase'"
     ]
    }
   ],
   "source": [
    "from HTMLParser import HTMLParser"
   ]
  },
  {
   "cell_type": "code",
   "execution_count": 115,
   "id": "2bf7dd3e",
   "metadata": {},
   "outputs": [
    {
     "name": "stdout",
     "output_type": "stream",
     "text": [
      "Note: you may need to restart the kernel to use updated packages.\n"
     ]
    },
    {
     "name": "stderr",
     "output_type": "stream",
     "text": [
      "WARNING: Ignoring invalid distribution -ip (c:\\users\\aaron cho\\appdata\\local\\programs\\python\\python39\\lib\\site-packages)\n",
      "ERROR: Could not find a version that satisfies the requirement markupbase (from versions: none)\n",
      "ERROR: No matching distribution found for markupbase\n"
     ]
    }
   ],
   "source": [
    "pip install markupbase"
   ]
  },
  {
   "cell_type": "code",
   "execution_count": 116,
   "id": "1d25900d",
   "metadata": {},
   "outputs": [
    {
     "ename": "ModuleNotFoundError",
     "evalue": "No module named 'markupbase'",
     "output_type": "error",
     "traceback": [
      "\u001b[1;31m---------------------------------------------------------------------------\u001b[0m",
      "\u001b[1;31mModuleNotFoundError\u001b[0m                       Traceback (most recent call last)",
      "\u001b[1;32mC:\\Users\\AARONC~1\\AppData\\Local\\Temp/ipykernel_33824/572329888.py\u001b[0m in \u001b[0;36m<module>\u001b[1;34m\u001b[0m\n\u001b[1;32m----> 1\u001b[1;33m \u001b[1;32mimport\u001b[0m \u001b[0mmarkupbase\u001b[0m\u001b[1;33m\u001b[0m\u001b[1;33m\u001b[0m\u001b[0m\n\u001b[0m",
      "\u001b[1;31mModuleNotFoundError\u001b[0m: No module named 'markupbase'"
     ]
    }
   ],
   "source": [
    "import markupbase"
   ]
  },
  {
   "cell_type": "code",
   "execution_count": 117,
   "id": "1cad45b2",
   "metadata": {},
   "outputs": [
    {
     "ename": "SyntaxError",
     "evalue": "invalid syntax (Temp/ipykernel_33824/416319578.py, line 1)",
     "output_type": "error",
     "traceback": [
      "\u001b[1;36m  File \u001b[1;32m\"C:\\Users\\AARONC~1\\AppData\\Local\\Temp/ipykernel_33824/416319578.py\"\u001b[1;36m, line \u001b[1;32m1\u001b[0m\n\u001b[1;33m    python -m pip install --upgrade pip setuptools\u001b[0m\n\u001b[1;37m              ^\u001b[0m\n\u001b[1;31mSyntaxError\u001b[0m\u001b[1;31m:\u001b[0m invalid syntax\n"
     ]
    }
   ],
   "source": [
    "python -m pip install --upgrade pip setuptools"
   ]
  },
  {
   "cell_type": "code",
   "execution_count": 1,
   "id": "fe2b3345",
   "metadata": {},
   "outputs": [
    {
     "name": "stdout",
     "output_type": "stream",
     "text": [
      "Note: you may need to restart the kernel to use updated packages.\n"
     ]
    },
    {
     "name": "stderr",
     "output_type": "stream",
     "text": [
      "ERROR: Could not find a version that satisfies the requirement markupbase (from versions: none)\n",
      "ERROR: No matching distribution found for markupbase\n"
     ]
    }
   ],
   "source": [
    "pip install markupbase"
   ]
  },
  {
   "cell_type": "code",
   "execution_count": null,
   "id": "db9d058a",
   "metadata": {},
   "outputs": [],
   "source": []
  }
 ],
 "metadata": {
  "kernelspec": {
   "display_name": "Python 3 (ipykernel)",
   "language": "python",
   "name": "python3"
  },
  "language_info": {
   "codemirror_mode": {
    "name": "ipython",
    "version": 3
   },
   "file_extension": ".py",
   "mimetype": "text/x-python",
   "name": "python",
   "nbconvert_exporter": "python",
   "pygments_lexer": "ipython3",
   "version": "3.9.7"
  }
 },
 "nbformat": 4,
 "nbformat_minor": 5
}
