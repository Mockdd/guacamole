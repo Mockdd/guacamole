{
 "cells": [
  {
   "cell_type": "code",
   "execution_count": 1,
   "id": "43b0ecb6",
   "metadata": {},
   "outputs": [],
   "source": [
    "Set = {'a', 'b', 'c', 'd', 'e'}"
   ]
  },
  {
   "cell_type": "code",
   "execution_count": 2,
   "id": "14f2eb81",
   "metadata": {},
   "outputs": [],
   "source": [
    "Set.add('abcde')"
   ]
  },
  {
   "cell_type": "code",
   "execution_count": 3,
   "id": "a7b07779",
   "metadata": {},
   "outputs": [
    {
     "data": {
      "text/plain": [
       "{'a', 'abcde', 'b', 'c', 'd', 'e'}"
      ]
     },
     "execution_count": 3,
     "metadata": {},
     "output_type": "execute_result"
    }
   ],
   "source": [
    "Set"
   ]
  },
  {
   "cell_type": "code",
   "execution_count": 4,
   "id": "5c9778ea",
   "metadata": {},
   "outputs": [],
   "source": [
    "Set.add('e')"
   ]
  },
  {
   "cell_type": "code",
   "execution_count": 5,
   "id": "521b4e81",
   "metadata": {},
   "outputs": [
    {
     "data": {
      "text/plain": [
       "{'a', 'abcde', 'b', 'c', 'd', 'e'}"
      ]
     },
     "execution_count": 5,
     "metadata": {},
     "output_type": "execute_result"
    }
   ],
   "source": [
    "Set"
   ]
  },
  {
   "cell_type": "markdown",
   "id": "ef7e13d7",
   "metadata": {},
   "source": [
    "- set.add()"
   ]
  },
  {
   "cell_type": "code",
   "execution_count": null,
   "id": "2adcddb4",
   "metadata": {},
   "outputs": [],
   "source": [
    "stamps = set()\n",
    "for _ in range(int(input())):\n",
    "    stamps.add(str(input()))\n",
    "\n",
    "print(len(stamps))"
   ]
  },
  {
   "cell_type": "code",
   "execution_count": null,
   "id": "19585b95",
   "metadata": {},
   "outputs": [],
   "source": [
    "### 예시답안\n",
    "print(len({str(input()) for x in range(int(input()))}))"
   ]
  },
  {
   "cell_type": "markdown",
   "id": "294f045e",
   "metadata": {},
   "source": [
    "- set.union() operation"
   ]
  },
  {
   "cell_type": "code",
   "execution_count": 6,
   "id": "8c60e7df",
   "metadata": {},
   "outputs": [],
   "source": [
    "s = set('Hacker')"
   ]
  },
  {
   "cell_type": "code",
   "execution_count": 8,
   "id": "351da188",
   "metadata": {},
   "outputs": [
    {
     "ename": "TypeError",
     "evalue": "unsupported operand type(s) for |: 'set' and 'str'",
     "output_type": "error",
     "traceback": [
      "\u001b[1;31m---------------------------------------------------------------------------\u001b[0m",
      "\u001b[1;31mTypeError\u001b[0m                                 Traceback (most recent call last)",
      "\u001b[1;32mC:\\Users\\AARONC~1\\AppData\\Local\\Temp/ipykernel_35476/2119413547.py\u001b[0m in \u001b[0;36m<module>\u001b[1;34m\u001b[0m\n\u001b[1;32m----> 1\u001b[1;33m \u001b[0ms\u001b[0m\u001b[1;33m|\u001b[0m\u001b[1;34m'Hacker'\u001b[0m\u001b[1;33m\u001b[0m\u001b[1;33m\u001b[0m\u001b[0m\n\u001b[0m",
      "\u001b[1;31mTypeError\u001b[0m: unsupported operand type(s) for |: 'set' and 'str'"
     ]
    }
   ],
   "source": [
    "s|'Hacker'"
   ]
  },
  {
   "cell_type": "code",
   "execution_count": null,
   "id": "ad6a40a8",
   "metadata": {},
   "outputs": [],
   "source": [
    "e = int(input())\n",
    "E = set(input().split())\n",
    "f = int(input())\n",
    "F = set(input().split())\n",
    "\n",
    "total = E.union(F)\n",
    "print(len(total))"
   ]
  },
  {
   "cell_type": "code",
   "execution_count": null,
   "id": "57b5edfa",
   "metadata": {},
   "outputs": [],
   "source": [
    "### 예시답안\n",
    "n = int(input())\n",
    "A = set(map(int, input().split()))\n",
    "b = int(input())\n",
    "B = set(map(int, input().split()))\n",
    "\n",
    "print(len(A|B))\n"
   ]
  },
  {
   "cell_type": "markdown",
   "id": "10d4ad5e",
   "metadata": {},
   "source": [
    "- super set check"
   ]
  },
  {
   "cell_type": "code",
   "execution_count": 10,
   "id": "56729d51",
   "metadata": {},
   "outputs": [],
   "source": [
    "A = set(range(4))"
   ]
  },
  {
   "cell_type": "code",
   "execution_count": 11,
   "id": "a83c6c71",
   "metadata": {},
   "outputs": [],
   "source": [
    "B = set(range(2))\n"
   ]
  },
  {
   "cell_type": "code",
   "execution_count": 20,
   "id": "203d3491",
   "metadata": {},
   "outputs": [],
   "source": [
    "C = set(range(0, 8, 2))"
   ]
  },
  {
   "cell_type": "code",
   "execution_count": 21,
   "id": "6c0d544b",
   "metadata": {},
   "outputs": [
    {
     "data": {
      "text/plain": [
       "{0, 1, 2, 3}"
      ]
     },
     "execution_count": 21,
     "metadata": {},
     "output_type": "execute_result"
    }
   ],
   "source": [
    "A"
   ]
  },
  {
   "cell_type": "code",
   "execution_count": 22,
   "id": "37cb3325",
   "metadata": {},
   "outputs": [
    {
     "data": {
      "text/plain": [
       "{0, 1}"
      ]
     },
     "execution_count": 22,
     "metadata": {},
     "output_type": "execute_result"
    }
   ],
   "source": [
    "B"
   ]
  },
  {
   "cell_type": "code",
   "execution_count": 23,
   "id": "04d1ae5c",
   "metadata": {},
   "outputs": [
    {
     "data": {
      "text/plain": [
       "{0, 2, 4, 6}"
      ]
     },
     "execution_count": 23,
     "metadata": {},
     "output_type": "execute_result"
    }
   ],
   "source": [
    "C"
   ]
  },
  {
   "cell_type": "code",
   "execution_count": 24,
   "id": "994cdee9",
   "metadata": {},
   "outputs": [
    {
     "data": {
      "text/plain": [
       "True"
      ]
     },
     "execution_count": 24,
     "metadata": {},
     "output_type": "execute_result"
    }
   ],
   "source": [
    "A.issuperset(B)"
   ]
  },
  {
   "cell_type": "code",
   "execution_count": 25,
   "id": "43da9d5d",
   "metadata": {},
   "outputs": [],
   "source": [
    "D = A"
   ]
  },
  {
   "cell_type": "code",
   "execution_count": 26,
   "id": "67303c35",
   "metadata": {},
   "outputs": [
    {
     "data": {
      "text/plain": [
       "True"
      ]
     },
     "execution_count": 26,
     "metadata": {},
     "output_type": "execute_result"
    }
   ],
   "source": [
    "A.issuperset(D)"
   ]
  },
  {
   "cell_type": "code",
   "execution_count": 27,
   "id": "691e4353",
   "metadata": {},
   "outputs": [
    {
     "data": {
      "text/plain": [
       "False"
      ]
     },
     "execution_count": 27,
     "metadata": {},
     "output_type": "execute_result"
    }
   ],
   "source": [
    "A.issuperset(C)"
   ]
  },
  {
   "cell_type": "code",
   "execution_count": null,
   "id": "27b2af6a",
   "metadata": {},
   "outputs": [],
   "source": [
    "A = set(input().split())\n",
    "n = int(input())\n",
    "result = True\n",
    "\n",
    "for _ in range(n):\n",
    "    test = set(input().split())\n",
    "    if A.issuperset(test):\n",
    "        if A != test:\n",
    "            continue\n",
    "    else:\n",
    "        result = False\n",
    "        break\n",
    "print(result)\n",
    "\n"
   ]
  },
  {
   "cell_type": "code",
   "execution_count": null,
   "id": "062ec903",
   "metadata": {},
   "outputs": [],
   "source": [
    "### 예시답안\n",
    "a = set(input().split())\n",
    "print(all(a > set(input().split()) for _ in range(int(input()))))\n"
   ]
  },
  {
   "cell_type": "markdown",
   "id": "ff58dfb5",
   "metadata": {},
   "source": [
    "- check subset"
   ]
  },
  {
   "cell_type": "code",
   "execution_count": null,
   "id": "378802d3",
   "metadata": {},
   "outputs": [],
   "source": [
    "t = int(input())\n",
    "\n",
    "for _ in range(t):\n",
    "    a = int(input())\n",
    "    A = set(input().split())\n",
    "    b = int(input())\n",
    "    B = set(input().split())\n",
    "    print(A.issubset(B))"
   ]
  },
  {
   "cell_type": "code",
   "execution_count": null,
   "id": "c107e8e8",
   "metadata": {},
   "outputs": [],
   "source": [
    "### 예시답안\n",
    "for _ in range(int(input())):\n",
    "    x, a, z, b = input(), set(input().split()), input(), set(input().split())\n",
    "    print(a.issubset(b))"
   ]
  },
  {
   "cell_type": "markdown",
   "id": "c98f24e4",
   "metadata": {},
   "source": [
    "- default arguments"
   ]
  },
  {
   "cell_type": "code",
   "execution_count": null,
   "id": "613d7a27",
   "metadata": {},
   "outputs": [],
   "source": [
    "class EvenStream(object):\n",
    "    def __init__(self):\n",
    "        self.current = 2\n",
    "    def get_next(self):\n",
    "        to_return = self.current \n",
    "        self.current += 2\n",
    "        return to_return"
   ]
  },
  {
   "cell_type": "code",
   "execution_count": null,
   "id": "0e236876",
   "metadata": {},
   "outputs": [],
   "source": [
    "### 예시답안 \n",
    "def print_from_stream(n, stream = EvenStrea()):\n",
    "    stream.__init__()\n",
    "    for _ in range(n):\n",
    "        print(stream.get_next())"
   ]
  },
  {
   "cell_type": "code",
   "execution_count": null,
   "id": "9bd9a651",
   "metadata": {},
   "outputs": [],
   "source": [
    "### 예시답안 \n",
    "def print_from_stream(n, stream = None):\n",
    "    if stream is None:\n",
    "        stream = EvenStream()\n",
    "    for _ in range(n):\n",
    "        print(stream.get_next())"
   ]
  },
  {
   "cell_type": "markdown",
   "id": "90f0211e",
   "metadata": {},
   "source": [
    "- words score"
   ]
  },
  {
   "cell_type": "markdown",
   "id": "b30edeeb",
   "metadata": {},
   "source": [
    "- collections.deque()"
   ]
  },
  {
   "cell_type": "code",
   "execution_count": null,
   "id": "fa1e5e79",
   "metadata": {},
   "outputs": [],
   "source": [
    "import collections\n",
    "\n",
    "d = collections.deque()\n",
    "for _ in range(int(input())):\n",
    "    try:\n",
    "        function, *key = input().split()\n",
    "        getattr(d, function)(*key)\n",
    "    except ValueError:\n",
    "        function = str(input())\n",
    "        getattr(d, function)()\n",
    "print(*d)"
   ]
  },
  {
   "cell_type": "code",
   "execution_count": null,
   "id": "9e00fd72",
   "metadata": {},
   "outputs": [],
   "source": [
    "import collections\n",
    "\n",
    "d = collections.deque()\n",
    "for _ in range(int(input())):\n",
    "        function, *key = input().split()\n",
    "        getattr(d, function)(*key)\n",
    "print(*d)"
   ]
  },
  {
   "cell_type": "markdown",
   "id": "6aafc39e",
   "metadata": {},
   "source": [
    "### 왜 여기서 try block 부분의 코드만 적어도 될까?\n",
    "### *key면 없는 경우도 포함하는 걸까?"
   ]
  },
  {
   "cell_type": "code",
   "execution_count": null,
   "id": "a352c8f2",
   "metadata": {},
   "outputs": [],
   "source": []
  }
 ],
 "metadata": {
  "kernelspec": {
   "display_name": "Python 3 (ipykernel)",
   "language": "python",
   "name": "python3"
  },
  "language_info": {
   "codemirror_mode": {
    "name": "ipython",
    "version": 3
   },
   "file_extension": ".py",
   "mimetype": "text/x-python",
   "name": "python",
   "nbconvert_exporter": "python",
   "pygments_lexer": "ipython3",
   "version": "3.9.7"
  }
 },
 "nbformat": 4,
 "nbformat_minor": 5
}
