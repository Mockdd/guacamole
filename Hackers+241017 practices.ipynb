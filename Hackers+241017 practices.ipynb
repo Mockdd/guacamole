{
 "cells": [
  {
   "cell_type": "markdown",
   "id": "ab5680d6",
   "metadata": {},
   "source": [
    "- zipped!"
   ]
  },
  {
   "cell_type": "code",
   "execution_count": 12,
   "id": "3305f2d0",
   "metadata": {},
   "outputs": [],
   "source": [
    "a = zip('1234', '3456')"
   ]
  },
  {
   "cell_type": "code",
   "execution_count": 13,
   "id": "b8f89534",
   "metadata": {},
   "outputs": [
    {
     "data": {
      "text/plain": [
       "<zip at 0x1f8fdd07c80>"
      ]
     },
     "execution_count": 13,
     "metadata": {},
     "output_type": "execute_result"
    }
   ],
   "source": [
    "a"
   ]
  },
  {
   "cell_type": "code",
   "execution_count": 14,
   "id": "5dbca3d4",
   "metadata": {},
   "outputs": [
    {
     "data": {
      "text/plain": [
       "<zip at 0x1f8fdd07c80>"
      ]
     },
     "execution_count": 14,
     "metadata": {},
     "output_type": "execute_result"
    }
   ],
   "source": [
    "a"
   ]
  },
  {
   "cell_type": "code",
   "execution_count": 15,
   "id": "5ad0f34e",
   "metadata": {},
   "outputs": [
    {
     "data": {
      "text/plain": [
       "[('1', '3'), ('2', '4'), ('3', '5'), ('4', '6')]"
      ]
     },
     "execution_count": 15,
     "metadata": {},
     "output_type": "execute_result"
    }
   ],
   "source": [
    "list(a)"
   ]
  },
  {
   "cell_type": "code",
   "execution_count": 16,
   "id": "2648d92d",
   "metadata": {},
   "outputs": [
    {
     "data": {
      "text/plain": [
       "<zip at 0x1f8fdd07c80>"
      ]
     },
     "execution_count": 16,
     "metadata": {},
     "output_type": "execute_result"
    }
   ],
   "source": [
    "a"
   ]
  },
  {
   "cell_type": "code",
   "execution_count": 17,
   "id": "bfa7389b",
   "metadata": {},
   "outputs": [
    {
     "data": {
      "text/plain": [
       "[]"
      ]
     },
     "execution_count": 17,
     "metadata": {},
     "output_type": "execute_result"
    }
   ],
   "source": [
    "list(a)"
   ]
  },
  {
   "cell_type": "code",
   "execution_count": 18,
   "id": "c34194fb",
   "metadata": {},
   "outputs": [],
   "source": [
    "b = zip(['1234', '3456'])"
   ]
  },
  {
   "cell_type": "code",
   "execution_count": 19,
   "id": "2702d2e5",
   "metadata": {},
   "outputs": [
    {
     "data": {
      "text/plain": [
       "[('1234',), ('3456',)]"
      ]
     },
     "execution_count": 19,
     "metadata": {},
     "output_type": "execute_result"
    }
   ],
   "source": [
    "list(b)"
   ]
  },
  {
   "cell_type": "code",
   "execution_count": 26,
   "id": "bfc8396c",
   "metadata": {},
   "outputs": [],
   "source": [
    "b = zip(['1234', '3456'])"
   ]
  },
  {
   "cell_type": "code",
   "execution_count": 21,
   "id": "286bfb18",
   "metadata": {},
   "outputs": [
    {
     "ename": "SyntaxError",
     "evalue": "can't use starred expression here (Temp/ipykernel_26076/2754346888.py, line 1)",
     "output_type": "error",
     "traceback": [
      "\u001b[1;36m  File \u001b[1;32m\"C:\\Users\\AARONC~1\\AppData\\Local\\Temp/ipykernel_26076/2754346888.py\"\u001b[1;36m, line \u001b[1;32m1\u001b[0m\n\u001b[1;33m    *b\u001b[0m\n\u001b[1;37m    ^\u001b[0m\n\u001b[1;31mSyntaxError\u001b[0m\u001b[1;31m:\u001b[0m can't use starred expression here\n"
     ]
    }
   ],
   "source": [
    "*b"
   ]
  },
  {
   "cell_type": "code",
   "execution_count": 22,
   "id": "cf638be8",
   "metadata": {},
   "outputs": [
    {
     "name": "stdout",
     "output_type": "stream",
     "text": [
      "('1234',) ('3456',)\n"
     ]
    }
   ],
   "source": [
    "print(*b)"
   ]
  },
  {
   "cell_type": "code",
   "execution_count": 23,
   "id": "77132e8e",
   "metadata": {},
   "outputs": [
    {
     "data": {
      "text/plain": [
       "6"
      ]
     },
     "execution_count": 23,
     "metadata": {},
     "output_type": "execute_result"
    }
   ],
   "source": [
    "sum(map(int, [1.3, 2.0, 3.0]))"
   ]
  },
  {
   "cell_type": "code",
   "execution_count": 27,
   "id": "188f372c",
   "metadata": {},
   "outputs": [
    {
     "name": "stdout",
     "output_type": "stream",
     "text": [
      "('1234',)\n",
      "('3456',)\n"
     ]
    }
   ],
   "source": [
    "for _ in b:\n",
    "    print(_)"
   ]
  },
  {
   "cell_type": "code",
   "execution_count": 9,
   "id": "38cb709e",
   "metadata": {},
   "outputs": [
    {
     "name": "stdout",
     "output_type": "stream",
     "text": [
      "<zip object at 0x000001F8FDD07500>\n"
     ]
    }
   ],
   "source": [
    "print(zip([1, 2, 3, 4, 5, 6], 'Hacker'))"
   ]
  },
  {
   "cell_type": "code",
   "execution_count": 10,
   "id": "275b13e4",
   "metadata": {},
   "outputs": [
    {
     "name": "stdout",
     "output_type": "stream",
     "text": [
      "(1, 'H') (2, 'a') (3, 'c') (4, 'k') (5, 'e') (6, 'r')\n"
     ]
    }
   ],
   "source": [
    "print(*zip([1, 2, 3, 4, 5, 6], 'Hacker'))"
   ]
  },
  {
   "cell_type": "code",
   "execution_count": 11,
   "id": "4e45c656",
   "metadata": {},
   "outputs": [
    {
     "data": {
      "text/plain": [
       "[]"
      ]
     },
     "execution_count": 11,
     "metadata": {},
     "output_type": "execute_result"
    }
   ],
   "source": [
    "list(a)"
   ]
  },
  {
   "cell_type": "code",
   "execution_count": 24,
   "id": "51b67ffc",
   "metadata": {},
   "outputs": [
    {
     "ename": "TypeError",
     "evalue": "sum() takes at most 2 arguments (3 given)",
     "output_type": "error",
     "traceback": [
      "\u001b[1;31m---------------------------------------------------------------------------\u001b[0m",
      "\u001b[1;31mTypeError\u001b[0m                                 Traceback (most recent call last)",
      "\u001b[1;32mC:\\Users\\AARONC~1\\AppData\\Local\\Temp/ipykernel_26076/670698839.py\u001b[0m in \u001b[0;36m<module>\u001b[1;34m\u001b[0m\n\u001b[1;32m----> 1\u001b[1;33m \u001b[0msum\u001b[0m\u001b[1;33m(\u001b[0m\u001b[1;36m3\u001b[0m\u001b[1;33m,\u001b[0m \u001b[1;36m6\u001b[0m\u001b[1;33m,\u001b[0m \u001b[1;36m5\u001b[0m\u001b[1;33m)\u001b[0m\u001b[1;33m\u001b[0m\u001b[1;33m\u001b[0m\u001b[0m\n\u001b[0m",
      "\u001b[1;31mTypeError\u001b[0m: sum() takes at most 2 arguments (3 given)"
     ]
    }
   ],
   "source": [
    "sum(3, 6, 5)"
   ]
  },
  {
   "cell_type": "code",
   "execution_count": null,
   "id": "ca3ab462",
   "metadata": {},
   "outputs": [],
   "source": [
    "N, T = map(int, input().split())\n",
    "\n",
    "scores = [list(map(float, input().split())) for _ in range(T)]\n",
    "scores = list(zip(*scores))\n",
    "\n",
    "scores_average = map(lambda x: sum(x)/T, scores)\n",
    "print(*scores_average, sep = '\\n')"
   ]
  },
  {
   "cell_type": "code",
   "execution_count": null,
   "id": "5ab903c5",
   "metadata": {},
   "outputs": [],
   "source": [
    "### 예시답안 \n",
    "scores = []\n",
    "n, x = map(int, input().split())\n",
    "for i in range(x):\n",
    "    scores.append(list(map(foat, input().split())))\n",
    "print(*[sum(student)/len(student) for student in zip(*scores)], sep = '\\n')"
   ]
  },
  {
   "cell_type": "markdown",
   "id": "16bbc50a",
   "metadata": {},
   "source": [
    "#### ?! wtf i thought for loop doesn't work with zip object"
   ]
  },
  {
   "cell_type": "code",
   "execution_count": 25,
   "id": "8b63377d",
   "metadata": {},
   "outputs": [
    {
     "name": "stdout",
     "output_type": "stream",
     "text": [
      "('1', '4')\n",
      "('2', '5')\n",
      "('3', '6')\n"
     ]
    }
   ],
   "source": [
    "for student in zip('123', '456'):\n",
    "    print(student)"
   ]
  },
  {
   "cell_type": "markdown",
   "id": "536f8d31",
   "metadata": {},
   "source": [
    "#### oh my it works it was just because zip object b's content has already been used in the previous command "
   ]
  },
  {
   "cell_type": "markdown",
   "id": "ffd6a4e9",
   "metadata": {},
   "source": [
    "- any or all "
   ]
  },
  {
   "cell_type": "code",
   "execution_count": null,
   "id": "3b009ed9",
   "metadata": {},
   "outputs": [],
   "source": [
    "N = int(input())\n",
    "tests = [(list(num) == list(num)[::-1]) and (num > 0) for num in map(int, input().split())]\n"
   ]
  },
  {
   "cell_type": "code",
   "execution_count": null,
   "id": "38cadaf3",
   "metadata": {},
   "outputs": [],
   "source": [
    "N = int(input())\n",
    "numbers = list(map(int, input().split()))\n",
    "\n",
    "if all(num > 0 for num in numbers):\n",
    "    if any(list(num) == list(num)[::-1]):\n",
    "        print(True)\n",
    "    else:\n",
    "        print(False)\n",
    "else:\n",
    "    print(False)"
   ]
  },
  {
   "cell_type": "code",
   "execution_count": 28,
   "id": "905473f0",
   "metadata": {},
   "outputs": [
    {
     "ename": "TypeError",
     "evalue": "'int' object is not iterable",
     "output_type": "error",
     "traceback": [
      "\u001b[1;31m---------------------------------------------------------------------------\u001b[0m",
      "\u001b[1;31mTypeError\u001b[0m                                 Traceback (most recent call last)",
      "\u001b[1;32mC:\\Users\\AARONC~1\\AppData\\Local\\Temp/ipykernel_26076/3829354186.py\u001b[0m in \u001b[0;36m<module>\u001b[1;34m\u001b[0m\n\u001b[1;32m----> 1\u001b[1;33m \u001b[0mlist\u001b[0m\u001b[1;33m(\u001b[0m\u001b[1;36m345\u001b[0m\u001b[1;33m)\u001b[0m\u001b[1;33m\u001b[0m\u001b[1;33m\u001b[0m\u001b[0m\n\u001b[0m",
      "\u001b[1;31mTypeError\u001b[0m: 'int' object is not iterable"
     ]
    }
   ],
   "source": [
    "list(345)"
   ]
  },
  {
   "cell_type": "markdown",
   "id": "7464e4e2",
   "metadata": {},
   "source": [
    "# 입력코드 (1)"
   ]
  },
  {
   "cell_type": "code",
   "execution_count": null,
   "id": "91eb8960",
   "metadata": {},
   "outputs": [],
   "source": [
    "N = int(input())\n",
    "numbers = input().split()\n",
    "\n",
    "if all(int(num) > 0 for num in numbers):\n",
    "    if any(list(num) == list(num)[::-1]):\n",
    "        print(True)\n",
    "    else:\n",
    "        print(False)\n",
    "else:\n",
    "    print(False)"
   ]
  },
  {
   "cell_type": "markdown",
   "id": "32657c27",
   "metadata": {},
   "source": [
    "# 입력코드 (2) >> it works!"
   ]
  },
  {
   "cell_type": "code",
   "execution_count": null,
   "id": "da27c59d",
   "metadata": {},
   "outputs": [],
   "source": [
    "N = int(input())\n",
    "numbers = input().split()\n",
    "\n",
    "if all(int(num) > 0 for num in numbers):\n",
    "    if any(list(num) == list(num)[::-1] for num in numbers):\n",
    "        print(True)\n",
    "    else:\n",
    "        print(False)\n",
    "else:\n",
    "    print(False)"
   ]
  },
  {
   "cell_type": "markdown",
   "id": "8683a7f3",
   "metadata": {},
   "source": [
    "# 입력코드 (3)"
   ]
  },
  {
   "cell_type": "code",
   "execution_count": null,
   "id": "09b0984e",
   "metadata": {},
   "outputs": [],
   "source": [
    "N= int(input())\n",
    "numbers = input().split()\n",
    "print(True if all(int(num) > 0 for num in numbers) \n",
    "      and any(list(num) == list(num)[::-1] for num in numbers)\n",
    "      else False)"
   ]
  },
  {
   "cell_type": "code",
   "execution_count": null,
   "id": "1e8046ab",
   "metadata": {},
   "outputs": [],
   "source": [
    "### 예시답안 \n",
    "N, m = int(input()), input().split()\n",
    "print(all([int(i) > 0 for i in n]) and any([j==j[::-1] for j in n]))"
   ]
  },
  {
   "cell_type": "markdown",
   "id": "94e94ab9",
   "metadata": {},
   "source": [
    "- python evaluation"
   ]
  },
  {
   "cell_type": "code",
   "execution_count": null,
   "id": "2f404794",
   "metadata": {},
   "outputs": [],
   "source": [
    "expression = str(input())\n",
    "print(eval(expression))"
   ]
  },
  {
   "cell_type": "code",
   "execution_count": 29,
   "id": "2c4968ca",
   "metadata": {},
   "outputs": [
    {
     "name": "stdout",
     "output_type": "stream",
     "text": [
      "5\n"
     ]
    }
   ],
   "source": [
    "eval('print(2 + 3)')"
   ]
  },
  {
   "cell_type": "code",
   "execution_count": 30,
   "id": "8d52dc3d",
   "metadata": {},
   "outputs": [
    {
     "name": "stdout",
     "output_type": "stream",
     "text": [
      "5\n",
      "None\n"
     ]
    }
   ],
   "source": [
    "print(eval('print(2 + 3)'))"
   ]
  },
  {
   "cell_type": "code",
   "execution_count": 31,
   "id": "86276d04",
   "metadata": {},
   "outputs": [
    {
     "data": {
      "text/plain": [
       "5"
      ]
     },
     "execution_count": 31,
     "metadata": {},
     "output_type": "execute_result"
    }
   ],
   "source": [
    "eval('2+3')"
   ]
  },
  {
   "cell_type": "code",
   "execution_count": 32,
   "id": "b98e92e4",
   "metadata": {},
   "outputs": [
    {
     "data": {
      "text/plain": [
       "True"
      ]
     },
     "execution_count": 32,
     "metadata": {},
     "output_type": "execute_result"
    }
   ],
   "source": [
    "'a' in 'apple'"
   ]
  },
  {
   "cell_type": "markdown",
   "id": "e86be3ae",
   "metadata": {},
   "source": [
    "# 입력코드 (1)"
   ]
  },
  {
   "cell_type": "code",
   "execution_count": null,
   "id": "3d8209c1",
   "metadata": {},
   "outputs": [],
   "source": [
    "import re\n",
    "expression = str(input())\n",
    "\n",
    "if re.match('print[(].*[)]', re.MULTILINE):\n",
    "    eval(expression)\n",
    "else:\n",
    "    print(eval(expression))"
   ]
  },
  {
   "cell_type": "markdown",
   "id": "64a10693",
   "metadata": {},
   "source": [
    "# 입력코드 (2)"
   ]
  },
  {
   "cell_type": "code",
   "execution_count": null,
   "id": "35d86ea0",
   "metadata": {},
   "outputs": [],
   "source": [
    "import re\n",
    "expression = str(input())\n",
    "\n",
    "if re.match('print[(].*[)]', expression, re.MULTILINE):\n",
    "    eval(expression)\n",
    "else:\n",
    "    print(eval(expression))"
   ]
  },
  {
   "cell_type": "markdown",
   "id": "934c1891",
   "metadata": {},
   "source": [
    "- athlete sort"
   ]
  },
  {
   "cell_type": "markdown",
   "id": "a6e68431",
   "metadata": {},
   "source": [
    "# 입력코드 (1) > this works!"
   ]
  },
  {
   "cell_type": "code",
   "execution_count": null,
   "id": "96dcaf31",
   "metadata": {},
   "outputs": [],
   "source": [
    "import math\n",
    "import os\n",
    "import random\n",
    "import re\n",
    "import sys\n",
    "\n",
    "\n",
    "\n",
    "if __name__ == '__main__':\n",
    "    n, m = map(int, input().split())\n",
    "    arr = [list(map(int, input().rstrip().split())) for _ in range(n)]\n",
    "    k = int(input())\n",
    "\n",
    "sorted_arr = sorted(arr, key = lambda  x: x[k])\n",
    "\n",
    "for element in sorted_arr:\n",
    "    print(*element, sep = ' ')"
   ]
  },
  {
   "cell_type": "code",
   "execution_count": 33,
   "id": "f792b110",
   "metadata": {},
   "outputs": [],
   "source": [
    "numbers = [[3, 6, 7], [10, 1, 2], [5, -1, 0], [3, 3, 3]]"
   ]
  },
  {
   "cell_type": "code",
   "execution_count": 34,
   "id": "74fa0762",
   "metadata": {},
   "outputs": [
    {
     "data": {
      "text/plain": [
       "[[5, -1, 0], [10, 1, 2], [3, 3, 3], [3, 6, 7]]"
      ]
     },
     "execution_count": 34,
     "metadata": {},
     "output_type": "execute_result"
    }
   ],
   "source": [
    "sorted(numbers, key = lambda x: x[1])"
   ]
  },
  {
   "cell_type": "code",
   "execution_count": 35,
   "id": "60c87be7",
   "metadata": {},
   "outputs": [],
   "source": [
    "numbers.sort(key = lambda x: x[0])"
   ]
  },
  {
   "cell_type": "code",
   "execution_count": 36,
   "id": "dfde11b0",
   "metadata": {},
   "outputs": [
    {
     "data": {
      "text/plain": [
       "[[3, 6, 7], [3, 3, 3], [5, -1, 0], [10, 1, 2]]"
      ]
     },
     "execution_count": 36,
     "metadata": {},
     "output_type": "execute_result"
    }
   ],
   "source": [
    "numbers"
   ]
  },
  {
   "cell_type": "code",
   "execution_count": 37,
   "id": "350c5164",
   "metadata": {},
   "outputs": [
    {
     "name": "stdout",
     "output_type": "stream",
     "text": [
      "[3, 6, 7]\n",
      "[3, 3, 3]\n",
      "[5, -1, 0]\n",
      "[10, 1, 2]\n"
     ]
    }
   ],
   "source": [
    "print(*numbers, sep = '\\n')"
   ]
  },
  {
   "cell_type": "code",
   "execution_count": 38,
   "id": "9827adc8",
   "metadata": {},
   "outputs": [
    {
     "name": "stdout",
     "output_type": "stream",
     "text": [
      "3 6 7\n",
      "3 3 3\n",
      "5 -1 0\n",
      "10 1 2\n"
     ]
    }
   ],
   "source": [
    "for number in numbers:\n",
    "    print(*number, sep = ' ')"
   ]
  },
  {
   "cell_type": "code",
   "execution_count": 39,
   "id": "85d714d2",
   "metadata": {},
   "outputs": [
    {
     "name": "stdout",
     "output_type": "stream",
     "text": [
      "3 6 7\n",
      "3 3 3\n",
      "5 -1 0\n",
      "10 1 2\n"
     ]
    }
   ],
   "source": [
    "print(*(' '.join(list(map(str, number))) for number in numbers), \n",
    "      sep = '\\n')"
   ]
  },
  {
   "cell_type": "markdown",
   "id": "f1f1561b",
   "metadata": {},
   "source": [
    "# 입력코드 (2)"
   ]
  },
  {
   "cell_type": "code",
   "execution_count": 40,
   "id": "ecc27299",
   "metadata": {},
   "outputs": [
    {
     "data": {
      "text/plain": [
       "[[3, 6, 7], [3, 3, 3], [5, -1, 0], [10, 1, 2]]"
      ]
     },
     "execution_count": 40,
     "metadata": {},
     "output_type": "execute_result"
    }
   ],
   "source": [
    "numbers"
   ]
  },
  {
   "cell_type": "code",
   "execution_count": 41,
   "id": "a10f3c85",
   "metadata": {},
   "outputs": [],
   "source": [
    "import pandas as pd"
   ]
  },
  {
   "cell_type": "code",
   "execution_count": 42,
   "id": "66355601",
   "metadata": {},
   "outputs": [
    {
     "data": {
      "text/html": [
       "<div>\n",
       "<style scoped>\n",
       "    .dataframe tbody tr th:only-of-type {\n",
       "        vertical-align: middle;\n",
       "    }\n",
       "\n",
       "    .dataframe tbody tr th {\n",
       "        vertical-align: top;\n",
       "    }\n",
       "\n",
       "    .dataframe thead th {\n",
       "        text-align: right;\n",
       "    }\n",
       "</style>\n",
       "<table border=\"1\" class=\"dataframe\">\n",
       "  <thead>\n",
       "    <tr style=\"text-align: right;\">\n",
       "      <th></th>\n",
       "      <th>0</th>\n",
       "      <th>1</th>\n",
       "      <th>2</th>\n",
       "    </tr>\n",
       "  </thead>\n",
       "  <tbody>\n",
       "    <tr>\n",
       "      <th>0</th>\n",
       "      <td>3</td>\n",
       "      <td>6</td>\n",
       "      <td>7</td>\n",
       "    </tr>\n",
       "    <tr>\n",
       "      <th>1</th>\n",
       "      <td>3</td>\n",
       "      <td>3</td>\n",
       "      <td>3</td>\n",
       "    </tr>\n",
       "    <tr>\n",
       "      <th>2</th>\n",
       "      <td>5</td>\n",
       "      <td>-1</td>\n",
       "      <td>0</td>\n",
       "    </tr>\n",
       "    <tr>\n",
       "      <th>3</th>\n",
       "      <td>10</td>\n",
       "      <td>1</td>\n",
       "      <td>2</td>\n",
       "    </tr>\n",
       "  </tbody>\n",
       "</table>\n",
       "</div>"
      ],
      "text/plain": [
       "    0  1  2\n",
       "0   3  6  7\n",
       "1   3  3  3\n",
       "2   5 -1  0\n",
       "3  10  1  2"
      ]
     },
     "execution_count": 42,
     "metadata": {},
     "output_type": "execute_result"
    }
   ],
   "source": [
    "pd.DataFrame(numbers)"
   ]
  },
  {
   "cell_type": "code",
   "execution_count": 43,
   "id": "704102f7",
   "metadata": {},
   "outputs": [],
   "source": [
    "arr = pd.DataFrame(numbers)"
   ]
  },
  {
   "cell_type": "code",
   "execution_count": 44,
   "id": "96312b71",
   "metadata": {},
   "outputs": [
    {
     "data": {
      "text/html": [
       "<div>\n",
       "<style scoped>\n",
       "    .dataframe tbody tr th:only-of-type {\n",
       "        vertical-align: middle;\n",
       "    }\n",
       "\n",
       "    .dataframe tbody tr th {\n",
       "        vertical-align: top;\n",
       "    }\n",
       "\n",
       "    .dataframe thead th {\n",
       "        text-align: right;\n",
       "    }\n",
       "</style>\n",
       "<table border=\"1\" class=\"dataframe\">\n",
       "  <thead>\n",
       "    <tr style=\"text-align: right;\">\n",
       "      <th></th>\n",
       "      <th>0</th>\n",
       "      <th>1</th>\n",
       "      <th>2</th>\n",
       "    </tr>\n",
       "  </thead>\n",
       "  <tbody>\n",
       "    <tr>\n",
       "      <th>0</th>\n",
       "      <td>3</td>\n",
       "      <td>6</td>\n",
       "      <td>7</td>\n",
       "    </tr>\n",
       "    <tr>\n",
       "      <th>1</th>\n",
       "      <td>3</td>\n",
       "      <td>3</td>\n",
       "      <td>3</td>\n",
       "    </tr>\n",
       "    <tr>\n",
       "      <th>2</th>\n",
       "      <td>5</td>\n",
       "      <td>-1</td>\n",
       "      <td>0</td>\n",
       "    </tr>\n",
       "    <tr>\n",
       "      <th>3</th>\n",
       "      <td>10</td>\n",
       "      <td>1</td>\n",
       "      <td>2</td>\n",
       "    </tr>\n",
       "  </tbody>\n",
       "</table>\n",
       "</div>"
      ],
      "text/plain": [
       "    0  1  2\n",
       "0   3  6  7\n",
       "1   3  3  3\n",
       "2   5 -1  0\n",
       "3  10  1  2"
      ]
     },
     "execution_count": 44,
     "metadata": {},
     "output_type": "execute_result"
    }
   ],
   "source": [
    "arr"
   ]
  },
  {
   "cell_type": "code",
   "execution_count": 45,
   "id": "b42b4547",
   "metadata": {},
   "outputs": [
    {
     "ename": "TypeError",
     "evalue": "'method' object is not subscriptable",
     "output_type": "error",
     "traceback": [
      "\u001b[1;31m---------------------------------------------------------------------------\u001b[0m",
      "\u001b[1;31mTypeError\u001b[0m                                 Traceback (most recent call last)",
      "\u001b[1;32mC:\\Users\\AARONC~1\\AppData\\Local\\Temp/ipykernel_26076/1123860017.py\u001b[0m in \u001b[0;36m<module>\u001b[1;34m\u001b[0m\n\u001b[1;32m----> 1\u001b[1;33m \u001b[0marr\u001b[0m\u001b[1;33m.\u001b[0m\u001b[0msort_values\u001b[0m\u001b[1;33m[\u001b[0m\u001b[1;36m1\u001b[0m\u001b[1;33m]\u001b[0m\u001b[1;33m\u001b[0m\u001b[1;33m\u001b[0m\u001b[0m\n\u001b[0m",
      "\u001b[1;31mTypeError\u001b[0m: 'method' object is not subscriptable"
     ]
    }
   ],
   "source": [
    "arr.sort_values[1]"
   ]
  },
  {
   "cell_type": "code",
   "execution_count": 46,
   "id": "4c978a2e",
   "metadata": {},
   "outputs": [
    {
     "data": {
      "text/html": [
       "<div>\n",
       "<style scoped>\n",
       "    .dataframe tbody tr th:only-of-type {\n",
       "        vertical-align: middle;\n",
       "    }\n",
       "\n",
       "    .dataframe tbody tr th {\n",
       "        vertical-align: top;\n",
       "    }\n",
       "\n",
       "    .dataframe thead th {\n",
       "        text-align: right;\n",
       "    }\n",
       "</style>\n",
       "<table border=\"1\" class=\"dataframe\">\n",
       "  <thead>\n",
       "    <tr style=\"text-align: right;\">\n",
       "      <th></th>\n",
       "      <th>0</th>\n",
       "      <th>1</th>\n",
       "      <th>2</th>\n",
       "    </tr>\n",
       "  </thead>\n",
       "  <tbody>\n",
       "    <tr>\n",
       "      <th>2</th>\n",
       "      <td>5</td>\n",
       "      <td>-1</td>\n",
       "      <td>0</td>\n",
       "    </tr>\n",
       "    <tr>\n",
       "      <th>3</th>\n",
       "      <td>10</td>\n",
       "      <td>1</td>\n",
       "      <td>2</td>\n",
       "    </tr>\n",
       "    <tr>\n",
       "      <th>1</th>\n",
       "      <td>3</td>\n",
       "      <td>3</td>\n",
       "      <td>3</td>\n",
       "    </tr>\n",
       "    <tr>\n",
       "      <th>0</th>\n",
       "      <td>3</td>\n",
       "      <td>6</td>\n",
       "      <td>7</td>\n",
       "    </tr>\n",
       "  </tbody>\n",
       "</table>\n",
       "</div>"
      ],
      "text/plain": [
       "    0  1  2\n",
       "2   5 -1  0\n",
       "3  10  1  2\n",
       "1   3  3  3\n",
       "0   3  6  7"
      ]
     },
     "execution_count": 46,
     "metadata": {},
     "output_type": "execute_result"
    }
   ],
   "source": [
    "arr.sort_values(1)"
   ]
  },
  {
   "cell_type": "code",
   "execution_count": 47,
   "id": "bdd332ad",
   "metadata": {},
   "outputs": [
    {
     "data": {
      "text/html": [
       "<div>\n",
       "<style scoped>\n",
       "    .dataframe tbody tr th:only-of-type {\n",
       "        vertical-align: middle;\n",
       "    }\n",
       "\n",
       "    .dataframe tbody tr th {\n",
       "        vertical-align: top;\n",
       "    }\n",
       "\n",
       "    .dataframe thead th {\n",
       "        text-align: right;\n",
       "    }\n",
       "</style>\n",
       "<table border=\"1\" class=\"dataframe\">\n",
       "  <thead>\n",
       "    <tr style=\"text-align: right;\">\n",
       "      <th></th>\n",
       "      <th>0</th>\n",
       "      <th>1</th>\n",
       "      <th>2</th>\n",
       "    </tr>\n",
       "  </thead>\n",
       "  <tbody>\n",
       "    <tr>\n",
       "      <th>0</th>\n",
       "      <td>3</td>\n",
       "      <td>6</td>\n",
       "      <td>7</td>\n",
       "    </tr>\n",
       "    <tr>\n",
       "      <th>1</th>\n",
       "      <td>3</td>\n",
       "      <td>3</td>\n",
       "      <td>3</td>\n",
       "    </tr>\n",
       "    <tr>\n",
       "      <th>2</th>\n",
       "      <td>5</td>\n",
       "      <td>-1</td>\n",
       "      <td>0</td>\n",
       "    </tr>\n",
       "    <tr>\n",
       "      <th>3</th>\n",
       "      <td>10</td>\n",
       "      <td>1</td>\n",
       "      <td>2</td>\n",
       "    </tr>\n",
       "  </tbody>\n",
       "</table>\n",
       "</div>"
      ],
      "text/plain": [
       "    0  1  2\n",
       "0   3  6  7\n",
       "1   3  3  3\n",
       "2   5 -1  0\n",
       "3  10  1  2"
      ]
     },
     "execution_count": 47,
     "metadata": {},
     "output_type": "execute_result"
    }
   ],
   "source": [
    "arr"
   ]
  },
  {
   "cell_type": "code",
   "execution_count": 48,
   "id": "3880d0ab",
   "metadata": {},
   "outputs": [],
   "source": [
    "arr = arr.sort_values(1)"
   ]
  },
  {
   "cell_type": "code",
   "execution_count": 49,
   "id": "2a7ad1fa",
   "metadata": {},
   "outputs": [
    {
     "name": "stdout",
     "output_type": "stream",
     "text": [
      "    0  1  2\n",
      "2   5 -1  0\n",
      "3  10  1  2\n",
      "1   3  3  3\n",
      "0   3  6  7\n"
     ]
    }
   ],
   "source": [
    "print(arr)"
   ]
  },
  {
   "cell_type": "code",
   "execution_count": 50,
   "id": "96a04da1",
   "metadata": {},
   "outputs": [
    {
     "ename": "TypeError",
     "evalue": "__init__() got an unexpected keyword argument 'header'",
     "output_type": "error",
     "traceback": [
      "\u001b[1;31m---------------------------------------------------------------------------\u001b[0m",
      "\u001b[1;31mTypeError\u001b[0m                                 Traceback (most recent call last)",
      "\u001b[1;32mC:\\Users\\AARONC~1\\AppData\\Local\\Temp/ipykernel_26076/94953482.py\u001b[0m in \u001b[0;36m<module>\u001b[1;34m\u001b[0m\n\u001b[1;32m----> 1\u001b[1;33m \u001b[0marr\u001b[0m \u001b[1;33m=\u001b[0m \u001b[0mpd\u001b[0m\u001b[1;33m.\u001b[0m\u001b[0mDataFrame\u001b[0m\u001b[1;33m(\u001b[0m\u001b[0marr\u001b[0m\u001b[1;33m,\u001b[0m \u001b[0mheader\u001b[0m \u001b[1;33m=\u001b[0m \u001b[1;32mNone\u001b[0m\u001b[1;33m,\u001b[0m \u001b[0mindex\u001b[0m \u001b[1;33m=\u001b[0m \u001b[1;32mNone\u001b[0m\u001b[1;33m)\u001b[0m\u001b[1;33m\u001b[0m\u001b[1;33m\u001b[0m\u001b[0m\n\u001b[0m",
      "\u001b[1;31mTypeError\u001b[0m: __init__() got an unexpected keyword argument 'header'"
     ]
    }
   ],
   "source": [
    "arr = pd.DataFrame(arr, header = None, index = None)"
   ]
  },
  {
   "cell_type": "code",
   "execution_count": 51,
   "id": "83fd2132",
   "metadata": {},
   "outputs": [],
   "source": [
    "arr = pd.DataFrame(arr, columns = None, index = None)"
   ]
  },
  {
   "cell_type": "code",
   "execution_count": 52,
   "id": "60c8119d",
   "metadata": {},
   "outputs": [
    {
     "data": {
      "text/html": [
       "<div>\n",
       "<style scoped>\n",
       "    .dataframe tbody tr th:only-of-type {\n",
       "        vertical-align: middle;\n",
       "    }\n",
       "\n",
       "    .dataframe tbody tr th {\n",
       "        vertical-align: top;\n",
       "    }\n",
       "\n",
       "    .dataframe thead th {\n",
       "        text-align: right;\n",
       "    }\n",
       "</style>\n",
       "<table border=\"1\" class=\"dataframe\">\n",
       "  <thead>\n",
       "    <tr style=\"text-align: right;\">\n",
       "      <th></th>\n",
       "      <th>0</th>\n",
       "      <th>1</th>\n",
       "      <th>2</th>\n",
       "    </tr>\n",
       "  </thead>\n",
       "  <tbody>\n",
       "    <tr>\n",
       "      <th>2</th>\n",
       "      <td>5</td>\n",
       "      <td>-1</td>\n",
       "      <td>0</td>\n",
       "    </tr>\n",
       "    <tr>\n",
       "      <th>3</th>\n",
       "      <td>10</td>\n",
       "      <td>1</td>\n",
       "      <td>2</td>\n",
       "    </tr>\n",
       "    <tr>\n",
       "      <th>1</th>\n",
       "      <td>3</td>\n",
       "      <td>3</td>\n",
       "      <td>3</td>\n",
       "    </tr>\n",
       "    <tr>\n",
       "      <th>0</th>\n",
       "      <td>3</td>\n",
       "      <td>6</td>\n",
       "      <td>7</td>\n",
       "    </tr>\n",
       "  </tbody>\n",
       "</table>\n",
       "</div>"
      ],
      "text/plain": [
       "    0  1  2\n",
       "2   5 -1  0\n",
       "3  10  1  2\n",
       "1   3  3  3\n",
       "0   3  6  7"
      ]
     },
     "execution_count": 52,
     "metadata": {},
     "output_type": "execute_result"
    }
   ],
   "source": [
    "arr"
   ]
  },
  {
   "cell_type": "code",
   "execution_count": 53,
   "id": "5df24e37",
   "metadata": {},
   "outputs": [
    {
     "name": "stdout",
     "output_type": "stream",
     "text": [
      "    0  1  2\n",
      "2   5 -1  0\n",
      "3  10  1  2\n",
      "1   3  3  3\n",
      "0   3  6  7\n"
     ]
    }
   ],
   "source": [
    "print(arr)"
   ]
  },
  {
   "cell_type": "code",
   "execution_count": 54,
   "id": "7b2bbc0e",
   "metadata": {},
   "outputs": [
    {
     "name": "stdout",
     "output_type": "stream",
     "text": [
      "0\n",
      "1\n",
      "2\n"
     ]
    }
   ],
   "source": [
    "for _ in arr:\n",
    "    print(_)"
   ]
  },
  {
   "cell_type": "code",
   "execution_count": 55,
   "id": "659c4d98",
   "metadata": {},
   "outputs": [
    {
     "ename": "NameError",
     "evalue": "name 'ncol' is not defined",
     "output_type": "error",
     "traceback": [
      "\u001b[1;31m---------------------------------------------------------------------------\u001b[0m",
      "\u001b[1;31mNameError\u001b[0m                                 Traceback (most recent call last)",
      "\u001b[1;32mC:\\Users\\AARONC~1\\AppData\\Local\\Temp/ipykernel_26076/1088327631.py\u001b[0m in \u001b[0;36m<module>\u001b[1;34m\u001b[0m\n\u001b[1;32m----> 1\u001b[1;33m \u001b[0mncol\u001b[0m\u001b[1;33m(\u001b[0m\u001b[0marr\u001b[0m\u001b[1;33m)\u001b[0m\u001b[1;33m\u001b[0m\u001b[1;33m\u001b[0m\u001b[0m\n\u001b[0m",
      "\u001b[1;31mNameError\u001b[0m: name 'ncol' is not defined"
     ]
    }
   ],
   "source": [
    "ncol(arr)"
   ]
  },
  {
   "cell_type": "code",
   "execution_count": 56,
   "id": "6867368a",
   "metadata": {},
   "outputs": [
    {
     "data": {
      "text/plain": [
       "(4, 3)"
      ]
     },
     "execution_count": 56,
     "metadata": {},
     "output_type": "execute_result"
    }
   ],
   "source": [
    "arr.shape"
   ]
  },
  {
   "cell_type": "code",
   "execution_count": 59,
   "id": "45d790a0",
   "metadata": {},
   "outputs": [
    {
     "name": "stdout",
     "output_type": "stream",
     "text": [
      "2     5\n",
      "3    10\n",
      "1     3\n",
      "0     3\n",
      "Name: 0, dtype: int64\n",
      "2   -1\n",
      "3    1\n",
      "1    3\n",
      "0    6\n",
      "Name: 1, dtype: int64\n",
      "2    0\n",
      "3    2\n",
      "1    3\n",
      "0    7\n",
      "Name: 2, dtype: int64\n"
     ]
    },
    {
     "ename": "KeyError",
     "evalue": "3",
     "output_type": "error",
     "traceback": [
      "\u001b[1;31m---------------------------------------------------------------------------\u001b[0m",
      "\u001b[1;31mValueError\u001b[0m                                Traceback (most recent call last)",
      "\u001b[1;32m~\\AppData\\Local\\Programs\\Python\\Python39\\lib\\site-packages\\pandas\\core\\indexes\\range.py\u001b[0m in \u001b[0;36mget_loc\u001b[1;34m(self, key, method, tolerance)\u001b[0m\n\u001b[0;32m    390\u001b[0m                 \u001b[1;32mtry\u001b[0m\u001b[1;33m:\u001b[0m\u001b[1;33m\u001b[0m\u001b[1;33m\u001b[0m\u001b[0m\n\u001b[1;32m--> 391\u001b[1;33m                     \u001b[1;32mreturn\u001b[0m \u001b[0mself\u001b[0m\u001b[1;33m.\u001b[0m\u001b[0m_range\u001b[0m\u001b[1;33m.\u001b[0m\u001b[0mindex\u001b[0m\u001b[1;33m(\u001b[0m\u001b[0mnew_key\u001b[0m\u001b[1;33m)\u001b[0m\u001b[1;33m\u001b[0m\u001b[1;33m\u001b[0m\u001b[0m\n\u001b[0m\u001b[0;32m    392\u001b[0m                 \u001b[1;32mexcept\u001b[0m \u001b[0mValueError\u001b[0m \u001b[1;32mas\u001b[0m \u001b[0merr\u001b[0m\u001b[1;33m:\u001b[0m\u001b[1;33m\u001b[0m\u001b[1;33m\u001b[0m\u001b[0m\n",
      "\u001b[1;31mValueError\u001b[0m: 3 is not in range",
      "\nThe above exception was the direct cause of the following exception:\n",
      "\u001b[1;31mKeyError\u001b[0m                                  Traceback (most recent call last)",
      "\u001b[1;32mC:\\Users\\AARONC~1\\AppData\\Local\\Temp/ipykernel_26076/1424205510.py\u001b[0m in \u001b[0;36m<module>\u001b[1;34m\u001b[0m\n\u001b[0;32m      1\u001b[0m \u001b[1;32mfor\u001b[0m \u001b[0m_\u001b[0m \u001b[1;32min\u001b[0m \u001b[0mrange\u001b[0m\u001b[1;33m(\u001b[0m\u001b[0marr\u001b[0m\u001b[1;33m.\u001b[0m\u001b[0mshape\u001b[0m\u001b[1;33m[\u001b[0m\u001b[1;36m0\u001b[0m\u001b[1;33m]\u001b[0m\u001b[1;33m)\u001b[0m\u001b[1;33m:\u001b[0m\u001b[1;33m\u001b[0m\u001b[1;33m\u001b[0m\u001b[0m\n\u001b[1;32m----> 2\u001b[1;33m     \u001b[0mprint\u001b[0m\u001b[1;33m(\u001b[0m\u001b[0marr\u001b[0m\u001b[1;33m[\u001b[0m\u001b[0m_\u001b[0m\u001b[1;33m]\u001b[0m\u001b[1;33m)\u001b[0m\u001b[1;33m\u001b[0m\u001b[1;33m\u001b[0m\u001b[0m\n\u001b[0m",
      "\u001b[1;32m~\\AppData\\Local\\Programs\\Python\\Python39\\lib\\site-packages\\pandas\\core\\frame.py\u001b[0m in \u001b[0;36m__getitem__\u001b[1;34m(self, key)\u001b[0m\n\u001b[0;32m   3805\u001b[0m             \u001b[1;32mif\u001b[0m \u001b[0mself\u001b[0m\u001b[1;33m.\u001b[0m\u001b[0mcolumns\u001b[0m\u001b[1;33m.\u001b[0m\u001b[0mnlevels\u001b[0m \u001b[1;33m>\u001b[0m \u001b[1;36m1\u001b[0m\u001b[1;33m:\u001b[0m\u001b[1;33m\u001b[0m\u001b[1;33m\u001b[0m\u001b[0m\n\u001b[0;32m   3806\u001b[0m                 \u001b[1;32mreturn\u001b[0m \u001b[0mself\u001b[0m\u001b[1;33m.\u001b[0m\u001b[0m_getitem_multilevel\u001b[0m\u001b[1;33m(\u001b[0m\u001b[0mkey\u001b[0m\u001b[1;33m)\u001b[0m\u001b[1;33m\u001b[0m\u001b[1;33m\u001b[0m\u001b[0m\n\u001b[1;32m-> 3807\u001b[1;33m             \u001b[0mindexer\u001b[0m \u001b[1;33m=\u001b[0m \u001b[0mself\u001b[0m\u001b[1;33m.\u001b[0m\u001b[0mcolumns\u001b[0m\u001b[1;33m.\u001b[0m\u001b[0mget_loc\u001b[0m\u001b[1;33m(\u001b[0m\u001b[0mkey\u001b[0m\u001b[1;33m)\u001b[0m\u001b[1;33m\u001b[0m\u001b[1;33m\u001b[0m\u001b[0m\n\u001b[0m\u001b[0;32m   3808\u001b[0m             \u001b[1;32mif\u001b[0m \u001b[0mis_integer\u001b[0m\u001b[1;33m(\u001b[0m\u001b[0mindexer\u001b[0m\u001b[1;33m)\u001b[0m\u001b[1;33m:\u001b[0m\u001b[1;33m\u001b[0m\u001b[1;33m\u001b[0m\u001b[0m\n\u001b[0;32m   3809\u001b[0m                 \u001b[0mindexer\u001b[0m \u001b[1;33m=\u001b[0m \u001b[1;33m[\u001b[0m\u001b[0mindexer\u001b[0m\u001b[1;33m]\u001b[0m\u001b[1;33m\u001b[0m\u001b[1;33m\u001b[0m\u001b[0m\n",
      "\u001b[1;32m~\\AppData\\Local\\Programs\\Python\\Python39\\lib\\site-packages\\pandas\\core\\indexes\\range.py\u001b[0m in \u001b[0;36mget_loc\u001b[1;34m(self, key, method, tolerance)\u001b[0m\n\u001b[0;32m    391\u001b[0m                     \u001b[1;32mreturn\u001b[0m \u001b[0mself\u001b[0m\u001b[1;33m.\u001b[0m\u001b[0m_range\u001b[0m\u001b[1;33m.\u001b[0m\u001b[0mindex\u001b[0m\u001b[1;33m(\u001b[0m\u001b[0mnew_key\u001b[0m\u001b[1;33m)\u001b[0m\u001b[1;33m\u001b[0m\u001b[1;33m\u001b[0m\u001b[0m\n\u001b[0;32m    392\u001b[0m                 \u001b[1;32mexcept\u001b[0m \u001b[0mValueError\u001b[0m \u001b[1;32mas\u001b[0m \u001b[0merr\u001b[0m\u001b[1;33m:\u001b[0m\u001b[1;33m\u001b[0m\u001b[1;33m\u001b[0m\u001b[0m\n\u001b[1;32m--> 393\u001b[1;33m                     \u001b[1;32mraise\u001b[0m \u001b[0mKeyError\u001b[0m\u001b[1;33m(\u001b[0m\u001b[0mkey\u001b[0m\u001b[1;33m)\u001b[0m \u001b[1;32mfrom\u001b[0m \u001b[0merr\u001b[0m\u001b[1;33m\u001b[0m\u001b[1;33m\u001b[0m\u001b[0m\n\u001b[0m\u001b[0;32m    394\u001b[0m             \u001b[0mself\u001b[0m\u001b[1;33m.\u001b[0m\u001b[0m_check_indexing_error\u001b[0m\u001b[1;33m(\u001b[0m\u001b[0mkey\u001b[0m\u001b[1;33m)\u001b[0m\u001b[1;33m\u001b[0m\u001b[1;33m\u001b[0m\u001b[0m\n\u001b[0;32m    395\u001b[0m             \u001b[1;32mraise\u001b[0m \u001b[0mKeyError\u001b[0m\u001b[1;33m(\u001b[0m\u001b[0mkey\u001b[0m\u001b[1;33m)\u001b[0m\u001b[1;33m\u001b[0m\u001b[1;33m\u001b[0m\u001b[0m\n",
      "\u001b[1;31mKeyError\u001b[0m: 3"
     ]
    }
   ],
   "source": [
    "for _ in range(arr.shape[0]):\n",
    "    print(arr[_])"
   ]
  },
  {
   "cell_type": "code",
   "execution_count": 60,
   "id": "ce8aeacb",
   "metadata": {},
   "outputs": [
    {
     "name": "stdout",
     "output_type": "stream",
     "text": [
      "0    5\n",
      "1   -1\n",
      "2    0\n",
      "Name: 2, dtype: int64\n",
      "0    10\n",
      "1     1\n",
      "2     2\n",
      "Name: 3, dtype: int64\n",
      "0    3\n",
      "1    3\n",
      "2    3\n",
      "Name: 1, dtype: int64\n",
      "0    3\n",
      "1    6\n",
      "2    7\n",
      "Name: 0, dtype: int64\n"
     ]
    }
   ],
   "source": [
    "for _ in range(arr.shape[0]):\n",
    "    print(arr.iloc[_])"
   ]
  },
  {
   "cell_type": "markdown",
   "id": "f9f4aebc",
   "metadata": {},
   "source": [
    "- ginortS"
   ]
  },
  {
   "cell_type": "code",
   "execution_count": null,
   "id": "fe3bf618",
   "metadata": {},
   "outputs": [],
   "source": [
    "import re\n",
    "\n",
    "string = str(input())\n",
    "lower = re.findall('[a-z]', string)\n",
    "upper = re.findall('[A-Z]', string)\n",
    "digits = re.findall('[0-9]', string)\n",
    "odd = [digit for digit in digits if int(digit) % 2 == 1]\n",
    "even = [digit for digit in digits if int(digit) % 2 == 0]\n",
    "\n",
    "\n",
    "for cases in [lower, upper, odd, even]:\n",
    "    cases.sort()\n",
    "\n",
    "sorted_string = ''.join(lower+upper+odd+even)\n",
    "print(sorted_string)"
   ]
  },
  {
   "cell_type": "code",
   "execution_count": null,
   "id": "5ab164b8",
   "metadata": {},
   "outputs": [],
   "source": [
    "### 예시답안 \n",
    "print(*sorted(input(), key = lambda c: (-ord(c) >> 5, c i '02468', c)), \n",
    "     sep = '')\n",
    "\n",
    "import string\n",
    "print(*sorted(input(), key = (string.ascii_letters + '1357902468').index), sep = '')"
   ]
  },
  {
   "cell_type": "markdown",
   "id": "910ffbd2",
   "metadata": {},
   "source": [
    ">explanation \n",
    "I'm just trying to piece this all together by myself and I could be entirely wrong, but here I go.\n",
    "\n",
    "\"key\" is setting values for each element so as to use them for comparison and subsequently sorting later on.\n",
    "Each parameter in our lambda function contributes to the value of key - the order in which the parameters are aranged has to do with this but I don't know how (help please :D)\n",
    "ord(c) finds the unicode point of the character we're looking at\n",
    "We use >> to shift the ordinal value to less than 2 bits (so between 0 and 3 in decimal)\n",
    "We set the result of this to a negative because we sort in ascending order\n",
    "Basically -ord(c) >> 5 sets the values to -3 if it's a lowercase character, -2 if it's an uppercase character and -1 if it's a digit. This segregates each section of our string into uU12. From here we need to sort the numbers, so we use c in '02468' to do so. And then we use c at the end to sort the contents of each group by value.\n",
    "\n",
    "At least that's how I think it all works. I'll wait for someone to correct me :)"
   ]
  },
  {
   "cell_type": "markdown",
   "id": "2a2ff9ce",
   "metadata": {},
   "source": [
    "- map and lambda function"
   ]
  },
  {
   "cell_type": "code",
   "execution_count": null,
   "id": "8fc80e0b",
   "metadata": {},
   "outputs": [],
   "source": [
    "cube = lambda x: x***3\n",
    "\n",
    "def fibonacci(n):\n",
    "    an = 0\n",
    "    an_1 = 1\n",
    "    fibo = []\n",
    "    for _ in range(n):\n",
    "        if len(fibo) == 0:\n",
    "            fibo.append(an)\n",
    "        else:\n",
    "            number = an + an_1\n",
    "            fibo.append(number)\n",
    "            an_1 = number\n",
    "            an = an_1\n",
    "    return fibo\n",
    "    \n",
    "\n",
    "\n",
    "if __name__ == '__main__':\n",
    "    n = int(input())\n",
    "    print(list(map(cube, fibonacci(n))))"
   ]
  },
  {
   "cell_type": "code",
   "execution_count": 65,
   "id": "8a833ffb",
   "metadata": {},
   "outputs": [],
   "source": [
    "def fibonacci(n):\n",
    "    an = 0\n",
    "    an_1 = 1\n",
    "    fibo = []\n",
    "    for _ in range(n):\n",
    "        if len(fibo) == 0:\n",
    "            fibo.append(an)\n",
    "        else:\n",
    "            number = an + an_1\n",
    "            fibo.append(number)\n",
    "            an_1 = number\n",
    "            an = an_1\n",
    "    return fibo"
   ]
  },
  {
   "cell_type": "code",
   "execution_count": 66,
   "id": "52ad015a",
   "metadata": {},
   "outputs": [
    {
     "data": {
      "text/plain": [
       "[0, 1, 2]"
      ]
     },
     "execution_count": 66,
     "metadata": {},
     "output_type": "execute_result"
    }
   ],
   "source": [
    "fibonacci(3)"
   ]
  },
  {
   "cell_type": "code",
   "execution_count": 67,
   "id": "134aa78a",
   "metadata": {},
   "outputs": [
    {
     "data": {
      "text/plain": [
       "[0, 1, 2, 4, 8]"
      ]
     },
     "execution_count": 67,
     "metadata": {},
     "output_type": "execute_result"
    }
   ],
   "source": [
    "fibonacci(5)"
   ]
  },
  {
   "cell_type": "code",
   "execution_count": 81,
   "id": "ec4a5bc8",
   "metadata": {},
   "outputs": [],
   "source": [
    "def fibonacci(n):\n",
    "    an = 0\n",
    "    an_1 = 1\n",
    "    fibo = []\n",
    "    for _ in range(n):\n",
    "        if len(fibo) == 0:\n",
    "            fibo.append(an)\n",
    "        elif len(fibo) == 1:\n",
    "            fibo.append(an_1)\n",
    "        else:\n",
    "            number = an + an_1\n",
    "            fibo.append(number)\n",
    "            an_1 = number\n",
    "            an = an_1\n",
    "            \n",
    "    return fibo"
   ]
  },
  {
   "cell_type": "code",
   "execution_count": 82,
   "id": "f6573caf",
   "metadata": {},
   "outputs": [
    {
     "name": "stdout",
     "output_type": "stream",
     "text": [
      "1\n"
     ]
    },
    {
     "data": {
      "text/plain": [
       "(1, [0, 1, 1])"
      ]
     },
     "execution_count": 82,
     "metadata": {},
     "output_type": "execute_result"
    }
   ],
   "source": [
    "fibonacci(3)"
   ]
  },
  {
   "cell_type": "code",
   "execution_count": 83,
   "id": "b7f4a5de",
   "metadata": {},
   "outputs": [
    {
     "name": "stdout",
     "output_type": "stream",
     "text": [
      "1\n",
      "2\n",
      "4\n"
     ]
    },
    {
     "data": {
      "text/plain": [
       "(4, [0, 1, 1, 2, 4])"
      ]
     },
     "execution_count": 83,
     "metadata": {},
     "output_type": "execute_result"
    }
   ],
   "source": [
    "fibonacci(5)"
   ]
  },
  {
   "cell_type": "code",
   "execution_count": 84,
   "id": "da487b62",
   "metadata": {},
   "outputs": [],
   "source": [
    "def fibonacci(n):\n",
    "    an = 0\n",
    "    an_1 = 1\n",
    "    fibo = []\n",
    "    for _ in range(n):\n",
    "        if len(fibo) == 0:\n",
    "            fibo.append(an)\n",
    "        elif len(fibo) == 1:\n",
    "            fibo.append(an_1)\n",
    "        else:\n",
    "            number = an + an_1\n",
    "            fibo.append(number)\n",
    "            an_1 = number\n",
    "            an = an_1\n",
    "            \n",
    "    return fibo"
   ]
  },
  {
   "cell_type": "code",
   "execution_count": 85,
   "id": "ef753470",
   "metadata": {},
   "outputs": [
    {
     "ename": "AttributeError",
     "evalue": "'int' object has no attribute 'copy'",
     "output_type": "error",
     "traceback": [
      "\u001b[1;31m---------------------------------------------------------------------------\u001b[0m",
      "\u001b[1;31mAttributeError\u001b[0m                            Traceback (most recent call last)",
      "\u001b[1;32mC:\\Users\\AARONC~1\\AppData\\Local\\Temp/ipykernel_26076/3226508609.py\u001b[0m in \u001b[0;36m<module>\u001b[1;34m\u001b[0m\n\u001b[1;32m----> 1\u001b[1;33m \u001b[0mfibonacci\u001b[0m\u001b[1;33m(\u001b[0m\u001b[1;36m5\u001b[0m\u001b[1;33m)\u001b[0m\u001b[1;33m\u001b[0m\u001b[1;33m\u001b[0m\u001b[0m\n\u001b[0m",
      "\u001b[1;32mC:\\Users\\AARONC~1\\AppData\\Local\\Temp/ipykernel_26076/394366755.py\u001b[0m in \u001b[0;36mfibonacci\u001b[1;34m(n)\u001b[0m\n\u001b[0;32m     11\u001b[0m             \u001b[0mnumber\u001b[0m \u001b[1;33m=\u001b[0m \u001b[0man\u001b[0m \u001b[1;33m+\u001b[0m \u001b[0man_1\u001b[0m\u001b[1;33m\u001b[0m\u001b[1;33m\u001b[0m\u001b[0m\n\u001b[0;32m     12\u001b[0m             \u001b[0mfibo\u001b[0m\u001b[1;33m.\u001b[0m\u001b[0mappend\u001b[0m\u001b[1;33m(\u001b[0m\u001b[0mnumber\u001b[0m\u001b[1;33m)\u001b[0m\u001b[1;33m\u001b[0m\u001b[1;33m\u001b[0m\u001b[0m\n\u001b[1;32m---> 13\u001b[1;33m             \u001b[0man_1\u001b[0m \u001b[1;33m=\u001b[0m \u001b[0mnumber\u001b[0m\u001b[1;33m.\u001b[0m\u001b[0mcopy\u001b[0m\u001b[1;33m(\u001b[0m\u001b[1;33m)\u001b[0m\u001b[1;33m\u001b[0m\u001b[1;33m\u001b[0m\u001b[0m\n\u001b[0m\u001b[0;32m     14\u001b[0m             \u001b[0man\u001b[0m \u001b[1;33m=\u001b[0m \u001b[0man_1\u001b[0m\u001b[1;33m.\u001b[0m\u001b[0mcopy\u001b[0m\u001b[1;33m(\u001b[0m\u001b[1;33m)\u001b[0m\u001b[1;33m\u001b[0m\u001b[1;33m\u001b[0m\u001b[0m\n\u001b[0;32m     15\u001b[0m \u001b[1;33m\u001b[0m\u001b[0m\n",
      "\u001b[1;31mAttributeError\u001b[0m: 'int' object has no attribute 'copy'"
     ]
    }
   ],
   "source": [
    "fibonacci(5)"
   ]
  },
  {
   "cell_type": "code",
   "execution_count": 87,
   "id": "db8b7ea0",
   "metadata": {},
   "outputs": [],
   "source": [
    "import copy"
   ]
  },
  {
   "cell_type": "code",
   "execution_count": 88,
   "id": "0bdfc0f5",
   "metadata": {},
   "outputs": [
    {
     "data": {
      "text/plain": [
       "5"
      ]
     },
     "execution_count": 88,
     "metadata": {},
     "output_type": "execute_result"
    }
   ],
   "source": [
    "copy.copy(5)"
   ]
  },
  {
   "cell_type": "code",
   "execution_count": 89,
   "id": "7181ea52",
   "metadata": {},
   "outputs": [],
   "source": [
    "a = copy.copy(5)"
   ]
  },
  {
   "cell_type": "code",
   "execution_count": 90,
   "id": "4a59ce2c",
   "metadata": {},
   "outputs": [
    {
     "data": {
      "text/plain": [
       "5"
      ]
     },
     "execution_count": 90,
     "metadata": {},
     "output_type": "execute_result"
    }
   ],
   "source": [
    "a"
   ]
  },
  {
   "cell_type": "code",
   "execution_count": 93,
   "id": "b76af4fc",
   "metadata": {},
   "outputs": [],
   "source": [
    "b = 10"
   ]
  },
  {
   "cell_type": "code",
   "execution_count": 94,
   "id": "584d292c",
   "metadata": {},
   "outputs": [],
   "source": [
    "a = copy.copy(b)"
   ]
  },
  {
   "cell_type": "code",
   "execution_count": 95,
   "id": "cfc08e49",
   "metadata": {},
   "outputs": [
    {
     "data": {
      "text/plain": [
       "10"
      ]
     },
     "execution_count": 95,
     "metadata": {},
     "output_type": "execute_result"
    }
   ],
   "source": [
    "a"
   ]
  },
  {
   "cell_type": "code",
   "execution_count": 96,
   "id": "fc6437f9",
   "metadata": {},
   "outputs": [],
   "source": [
    "import copy \n",
    "\n",
    "def fibonacci(n):\n",
    "    an = 0\n",
    "    an_1 = 1\n",
    "    fibo = []\n",
    "    for _ in range(n):\n",
    "        if len(fibo) == 0:\n",
    "            fibo.append(an)\n",
    "        elif len(fibo) == 1:\n",
    "            fibo.append(an_1)\n",
    "        else:\n",
    "            number = an + an_1\n",
    "            fibo.append(number)\n",
    "            an_1 = copy.copy(number)\n",
    "            an = copy.copy(an_1)\n",
    "            \n",
    "    return fibo"
   ]
  },
  {
   "cell_type": "code",
   "execution_count": 98,
   "id": "3f5a54bd",
   "metadata": {},
   "outputs": [
    {
     "data": {
      "text/plain": [
       "[0, 1, 1, 2, 4]"
      ]
     },
     "execution_count": 98,
     "metadata": {},
     "output_type": "execute_result"
    }
   ],
   "source": [
    "fibonacci(5)"
   ]
  },
  {
   "cell_type": "markdown",
   "id": "6f53a2a3",
   "metadata": {},
   "source": [
    "# 입력코드 (1)"
   ]
  },
  {
   "cell_type": "code",
   "execution_count": null,
   "id": "937f2cc0",
   "metadata": {},
   "outputs": [],
   "source": [
    "cube = lambda x: x***3complete the lambda function \n",
    "\n",
    "def fibonacci(n):\n",
    "    fibonacci_numbers = [0, 1, 1, 2, 3, 5, 8, 13, 21, 34,\n",
    " 55, 89, 144, 233, 377]\n",
    "    return fibonacci[:n]\n",
    " \n",
    "    # return a list of fibonacci numbers\n",
    "\n",
    "if __name__ == '__main__':\n",
    "    n = int(input())\n",
    "    print(list(map(cube, fibonacci(n))))"
   ]
  },
  {
   "cell_type": "markdown",
   "id": "71bc1d81",
   "metadata": {},
   "source": [
    "# 입력코드 (2)"
   ]
  },
  {
   "cell_type": "code",
   "execution_count": null,
   "id": "5ac48a59",
   "metadata": {},
   "outputs": [],
   "source": [
    "cube = lambda x: x**3\n",
    "\n",
    "def fibonacci(n):\n",
    "    fibonacci_numbers = [0, 1, 1, 2, 3, 5, 8, 13, 21, 34,\n",
    " 55, 89, 144, 233, 377]\n",
    "    return fibonacci[:n]\n",
    " \n",
    "    # return a list of fibonacci numbers\n",
    "\n",
    "if __name__ == '__main__':\n",
    "    n = int(input())\n",
    "    print(list(map(cube, fibonacci(n))))"
   ]
  },
  {
   "cell_type": "markdown",
   "id": "c60648a3",
   "metadata": {},
   "source": [
    "# 입력코드 (3)"
   ]
  },
  {
   "cell_type": "code",
   "execution_count": null,
   "id": "042bc152",
   "metadata": {},
   "outputs": [],
   "source": [
    "cube = lambda x: x**3\n",
    "\n",
    "def fibonacci(n):\n",
    "    fibonacci_numbers = [0, 1, 1, 2, 3, 5, 8, 13, 21, 34,\n",
    " 55, 89, 144, 233, 377]\n",
    "    return fibonacci_numbers[:n]\n",
    " \n",
    "    # return a list of fibonacci numbers\n",
    "\n",
    "if __name__ == '__main__':\n",
    "    n = int(input())\n",
    "    print(list(map(cube, fibonacci(n))))"
   ]
  }
 ],
 "metadata": {
  "kernelspec": {
   "display_name": "Python 3 (ipykernel)",
   "language": "python",
   "name": "python3"
  },
  "language_info": {
   "codemirror_mode": {
    "name": "ipython",
    "version": 3
   },
   "file_extension": ".py",
   "mimetype": "text/x-python",
   "name": "python",
   "nbconvert_exporter": "python",
   "pygments_lexer": "ipython3",
   "version": "3.9.7"
  }
 },
 "nbformat": 4,
 "nbformat_minor": 5
}
