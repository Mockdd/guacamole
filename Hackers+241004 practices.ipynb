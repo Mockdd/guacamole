{
 "cells": [
  {
   "cell_type": "code",
   "execution_count": null,
   "id": "3bc0f8f6",
   "metadata": {},
   "outputs": [],
   "source": [
    "import numpy as np\n",
    "\n",
    "T = int(input())\n",
    "cubes = [[int(input()), list(map(int, input().split())) for _ in range(T)]]\n",
    "\n",
    "for num, cube in cubes:\n",
    "    if np.argmax(cube) in [-, (len(cube)-1)]:\n",
    "        del cube[np.argmax(cube)]\n",
    "        if len(cube) == 1:\n",
    "            print('Yes')\n",
    "            break\n",
    "        else:\n",
    "            continue\n",
    "    else:\n",
    "        print('No')\n",
    "        break         "
   ]
  },
  {
   "cell_type": "code",
   "execution_count": null,
   "id": "9e29692b",
   "metadata": {},
   "outputs": [],
   "source": [
    "import numpy as np\n",
    "\n",
    "T = int(input())\n",
    "cubes = [[int(input()), list(map(int, input().split()))] for _ in range(T)]\n",
    "\n",
    "for num, cube in cubes:\n",
    "    if np.argmax(cube) in [0, (len(cube)-1)]:\n",
    "        del cube[np.argmax(cube)]\n",
    "        if len(cube) == 1:\n",
    "            print('Yes')\n",
    "            break\n",
    "        else:\n",
    "            continue\n",
    "    else:\n",
    "        print('No')\n",
    "        break         "
   ]
  },
  {
   "cell_type": "code",
   "execution_count": 1,
   "id": "3f5dda3e",
   "metadata": {},
   "outputs": [],
   "source": [
    "cube = [3, 6, 8, 1, 2]"
   ]
  },
  {
   "cell_type": "code",
   "execution_count": 2,
   "id": "a1b10c0b",
   "metadata": {},
   "outputs": [],
   "source": [
    "cube = cube[cube!= max(cube)]"
   ]
  },
  {
   "cell_type": "code",
   "execution_count": 6,
   "id": "44cbcbf7",
   "metadata": {
    "scrolled": true
   },
   "outputs": [],
   "source": [
    "cube = [3, 4, 8, 10, 2]"
   ]
  },
  {
   "cell_type": "code",
   "execution_count": 7,
   "id": "49c63ba4",
   "metadata": {},
   "outputs": [],
   "source": [
    "cube.remove(max(cube))"
   ]
  },
  {
   "cell_type": "code",
   "execution_count": 8,
   "id": "270456b0",
   "metadata": {
    "scrolled": true
   },
   "outputs": [
    {
     "data": {
      "text/plain": [
       "[3, 4, 8, 2]"
      ]
     },
     "execution_count": 8,
     "metadata": {},
     "output_type": "execute_result"
    }
   ],
   "source": [
    "cube"
   ]
  },
  {
   "cell_type": "code",
   "execution_count": null,
   "id": "849f7548",
   "metadata": {},
   "outputs": [],
   "source": [
    "T = int(input())\n",
    "cubes = [[int(input()), list(map(int, input().split()))] for _ in range(T)]\n",
    "\n",
    "for num, cube in cubes:\n",
    "    if max(cube) in [cube[0], cube[-1]]:\n",
    "        cube.remove(max(cube))\n",
    "        if len(cube) == 1:\n",
    "            print('Yes')\n",
    "            break\n",
    "        else:\n",
    "            continue\n",
    "    else:\n",
    "        print('No')\n",
    "        break         "
   ]
  },
  {
   "cell_type": "markdown",
   "id": "0866c657",
   "metadata": {},
   "source": [
    "### 계속 No만 나온다 🥲\n",
    "> 왜 그랬었냐면 .. cube 안의 원소에 대해 반복을 안 했기 때문에!!!"
   ]
  },
  {
   "cell_type": "markdown",
   "id": "0f4dd88d",
   "metadata": {},
   "source": [
    "T = int(input())\n",
    "cubes = [[int(input()), list(map(int, input().split()))] for _ in range(T)]\n",
    "\n",
    "for num, cube in cubes:\n",
    "    for _ in range(num):\n",
    "        if max(cube) in [cube[0], cube[-1]]:\n",
    "            if len(cube) == 1:\n",
    "                print('Yes')\n",
    "                break\n",
    "            else:\n",
    "                cube.remove(max(cube))\n",
    "                continue\n",
    "        else:\n",
    "            print('No')\n",
    "            break         "
   ]
  },
  {
   "cell_type": "markdown",
   "id": "ad592709",
   "metadata": {},
   "source": [
    "OKAY but out of time limit "
   ]
  },
  {
   "cell_type": "code",
   "execution_count": null,
   "id": "9965ec3f",
   "metadata": {},
   "outputs": [],
   "source": [
    "T = int(input())\n",
    "cubes = [[int(input()), list(map(int, input().split()))] for _ in range(T)]\n",
    "\n",
    "for num, cube in cubes:\n",
    "    for _ in range(num):\n",
    "        if max(cube) in [cube[0], cube[-1]]:\n",
    "            if len(cube) == 1:\n",
    "                print('Yes')\n",
    "                break\n",
    "            else:\n",
    "                cube.remove(max(cube))\n",
    "                continue\n",
    "        else:\n",
    "            print('No')\n",
    "            break         "
   ]
  },
  {
   "cell_type": "code",
   "execution_count": 9,
   "id": "56d638a2",
   "metadata": {},
   "outputs": [],
   "source": [
    "import pandas as pd"
   ]
  },
  {
   "cell_type": "code",
   "execution_count": 10,
   "id": "30676905",
   "metadata": {},
   "outputs": [],
   "source": [
    "cubes = [3, pd.Series(map(int, '3 10 9 8 7'.split()))]"
   ]
  },
  {
   "cell_type": "code",
   "execution_count": 11,
   "id": "6f9e1338",
   "metadata": {},
   "outputs": [
    {
     "data": {
      "text/plain": [
       "[3,\n",
       " 0     3\n",
       " 1    10\n",
       " 2     9\n",
       " 3     8\n",
       " 4     7\n",
       " dtype: int64]"
      ]
     },
     "execution_count": 11,
     "metadata": {},
     "output_type": "execute_result"
    }
   ],
   "source": [
    "cubes"
   ]
  },
  {
   "cell_type": "code",
   "execution_count": 18,
   "id": "c0690f1f",
   "metadata": {},
   "outputs": [
    {
     "data": {
      "text/plain": [
       "0    5.0\n",
       "1    1.0\n",
       "2    2.0\n",
       "3    3.0\n",
       "4    4.0\n",
       "dtype: float64"
      ]
     },
     "execution_count": 18,
     "metadata": {},
     "output_type": "execute_result"
    }
   ],
   "source": [
    "cubes[1].rank(ascending = False)"
   ]
  },
  {
   "cell_type": "code",
   "execution_count": 20,
   "id": "13618eb3",
   "metadata": {},
   "outputs": [
    {
     "data": {
      "text/plain": [
       "0    5\n",
       "1    1\n",
       "2    2\n",
       "3    3\n",
       "4    4\n",
       "dtype: int64"
      ]
     },
     "execution_count": 20,
     "metadata": {},
     "output_type": "execute_result"
    }
   ],
   "source": [
    "pd.Series(map(int, cubes[1].rank(ascending = False)))"
   ]
  },
  {
   "cell_type": "code",
   "execution_count": 24,
   "id": "e988b704",
   "metadata": {},
   "outputs": [
    {
     "data": {
      "text/plain": [
       "[1, 4, 6]"
      ]
     },
     "execution_count": 24,
     "metadata": {},
     "output_type": "execute_result"
    }
   ],
   "source": [
    "[abs(cube[i] - cube[i+1]) for i in range(len(cube)-1)]"
   ]
  },
  {
   "cell_type": "code",
   "execution_count": 56,
   "id": "afeab4a5",
   "metadata": {},
   "outputs": [],
   "source": [
    "cubes = [3, pd.Series(map(int, '4 3 2 1 3 4'.split()))]"
   ]
  },
  {
   "cell_type": "code",
   "execution_count": 57,
   "id": "53e69a90",
   "metadata": {},
   "outputs": [],
   "source": [
    "ranks = pd.Series(map(int, cubes[1].rank(ascending = False, method = 'dense')))"
   ]
  },
  {
   "cell_type": "code",
   "execution_count": 58,
   "id": "539f9652",
   "metadata": {
    "scrolled": true
   },
   "outputs": [
    {
     "data": {
      "text/plain": [
       "0    1\n",
       "1    2\n",
       "2    3\n",
       "3    4\n",
       "4    2\n",
       "5    1\n",
       "dtype: int64"
      ]
     },
     "execution_count": 58,
     "metadata": {},
     "output_type": "execute_result"
    }
   ],
   "source": [
    "ranks"
   ]
  },
  {
   "cell_type": "code",
   "execution_count": 59,
   "id": "2cc05b1a",
   "metadata": {},
   "outputs": [],
   "source": [
    "ranks = pd.Series(map(int, cubes[1].rank(ascending = False, method = 'dense')))"
   ]
  },
  {
   "cell_type": "code",
   "execution_count": 60,
   "id": "a5d018c1",
   "metadata": {},
   "outputs": [
    {
     "data": {
      "text/plain": [
       "[1, 1, 1, 2, 1]"
      ]
     },
     "execution_count": 60,
     "metadata": {},
     "output_type": "execute_result"
    }
   ],
   "source": [
    "[abs(ranks[i] - ranks[i+1]) for i in range(len(ranks)-1)]"
   ]
  },
  {
   "cell_type": "code",
   "execution_count": 52,
   "id": "8bc9534c",
   "metadata": {},
   "outputs": [],
   "source": [
    "diffs = [abs(ranks[i] - ranks[i+1]) for i in range(len(ranks)-1)]"
   ]
  },
  {
   "cell_type": "code",
   "execution_count": 53,
   "id": "ca71b06b",
   "metadata": {},
   "outputs": [],
   "source": [
    "diffs = [x == 1 for x in diffs]"
   ]
  },
  {
   "cell_type": "code",
   "execution_count": 54,
   "id": "b5c6e25d",
   "metadata": {},
   "outputs": [
    {
     "data": {
      "text/plain": [
       "[True, True, True, True, True, True]"
      ]
     },
     "execution_count": 54,
     "metadata": {},
     "output_type": "execute_result"
    }
   ],
   "source": [
    "diffs"
   ]
  },
  {
   "cell_type": "code",
   "execution_count": 51,
   "id": "900da417",
   "metadata": {
    "scrolled": true
   },
   "outputs": [
    {
     "data": {
      "text/plain": [
       "0    1\n",
       "1    2\n",
       "2    3\n",
       "3    4\n",
       "4    3\n",
       "5    2\n",
       "6    1\n",
       "dtype: int64"
      ]
     },
     "execution_count": 51,
     "metadata": {},
     "output_type": "execute_result"
    }
   ],
   "source": [
    "ranks"
   ]
  },
  {
   "cell_type": "code",
   "execution_count": null,
   "id": "6c4ea337",
   "metadata": {},
   "outputs": [],
   "source": [
    "import pandas as pd\n",
    "\n",
    "T = int(input())\n",
    "cubes = [[int(input()), pd.Series(map(int, input().split()))] for _ in range(T)]\n",
    "ranks = cubes[1].rank(ascending = False, method = 'dense')\n",
    "diffs = [abs(ranks[i] - ranks[i+1]) for i in range(len(ranks)-1)]\n",
    "diffs = [diff == 1 for diff in diffs]\n",
    "\n",
    "if all(diffs):\n",
    "    print('Yes')\n",
    "else:\n",
    "    print('No')\n"
   ]
  },
  {
   "cell_type": "code",
   "execution_count": null,
   "id": "7db173d4",
   "metadata": {},
   "outputs": [],
   "source": [
    "import pandas as pd\n",
    "\n",
    "T = int(input())\n",
    "cubes = [[int(input()), pd.Series(map(int, input().split()))] for _ in range(T)]\n",
    "for num, cube in cubes:\n",
    "    ranks = cube.rank(ascending = False, method = 'dense')\n",
    "    diffs = [abs(ranks[i] - ranks[i+1]) for i in range(len(ranks)-1)]\n",
    "    diffs = [diff == 1 for diff in diffs]\n",
    "\n",
    "if all(diffs):\n",
    "    print('Yes')\n",
    "else:\n",
    "    print('No')\n"
   ]
  },
  {
   "cell_type": "code",
   "execution_count": 67,
   "id": "a152596c",
   "metadata": {},
   "outputs": [],
   "source": [
    "cube = [4, 3, 2, 1, 3, 4]\n",
    "M = min(cube)"
   ]
  },
  {
   "cell_type": "code",
   "execution_count": 68,
   "id": "44c58aad",
   "metadata": {},
   "outputs": [],
   "source": [
    "cube = ' '.join(map(str, cube))"
   ]
  },
  {
   "cell_type": "code",
   "execution_count": 69,
   "id": "3fbf77c2",
   "metadata": {},
   "outputs": [
    {
     "data": {
      "text/plain": [
       "'4 3 2 1 3 4'"
      ]
     },
     "execution_count": 69,
     "metadata": {},
     "output_type": "execute_result"
    }
   ],
   "source": [
    "cube"
   ]
  },
  {
   "cell_type": "code",
   "execution_count": 71,
   "id": "47a06b0f",
   "metadata": {},
   "outputs": [
    {
     "data": {
      "text/plain": [
       "('4 3 2 ', '1', ' 3 4')"
      ]
     },
     "execution_count": 71,
     "metadata": {},
     "output_type": "execute_result"
    }
   ],
   "source": [
    "parts = cube.rpartition(str(M))"
   ]
  },
  {
   "cell_type": "code",
   "execution_count": null,
   "id": "49327d47",
   "metadata": {},
   "outputs": [],
   "source": [
    "### 예시 답안 \n",
    "for t in range(input()):\n",
    "    input()\n",
    "    lst = map(int, input().split())\n",
    "    l = len(lst)\n",
    "    i = 0\n",
    "    while i < l - 1 and lst[i] >= lst[i+1]:\n",
    "        i += 1\n",
    "    while i < l - 1 and lst[i] <= lst[i+1]:\n",
    "        i += 1\n",
    "    print('Yes' if i == l - 1 else 'No')"
   ]
  },
  {
   "cell_type": "code",
   "execution_count": null,
   "id": "420decba",
   "metadata": {},
   "outputs": [],
   "source": [
    "### 예시 답안\n",
    "from collections import deque\n",
    "\n",
    "for _ in range(int(input())):\n",
    "    _, queue = input(), deque(map(int, input().split()))\n",
    "    \n",
    "    for cube in reversed(sorted(queue)):\n",
    "        if queue[-1] == cube: queue.pop()\n",
    "        elif queue[0] == cube: queue.popleft()\n",
    "        else:\n",
    "            print('No')\n",
    "            break\n",
    "    else: print('Yes')"
   ]
  },
  {
   "cell_type": "code",
   "execution_count": 72,
   "id": "f5541ed9",
   "metadata": {},
   "outputs": [],
   "source": [
    "import collections"
   ]
  },
  {
   "cell_type": "code",
   "execution_count": 73,
   "id": "61674210",
   "metadata": {},
   "outputs": [],
   "source": [
    "dq = collections.deque([1, 2, 3, 4])"
   ]
  },
  {
   "cell_type": "code",
   "execution_count": 74,
   "id": "ffbb49aa",
   "metadata": {},
   "outputs": [],
   "source": [
    "dq1 = collections.deque('1234')"
   ]
  },
  {
   "cell_type": "code",
   "execution_count": 75,
   "id": "07c891c7",
   "metadata": {},
   "outputs": [
    {
     "data": {
      "text/plain": [
       "deque(['1', '2', '3', '4'])"
      ]
     },
     "execution_count": 75,
     "metadata": {},
     "output_type": "execute_result"
    }
   ],
   "source": [
    "dq1"
   ]
  },
  {
   "cell_type": "code",
   "execution_count": 77,
   "id": "1241a350",
   "metadata": {},
   "outputs": [],
   "source": [
    "dq2 = collections.deque({'a':3, 'b':4})"
   ]
  },
  {
   "cell_type": "code",
   "execution_count": 78,
   "id": "a2d82bf0",
   "metadata": {},
   "outputs": [
    {
     "data": {
      "text/plain": [
       "deque(['a', 'b'])"
      ]
     },
     "execution_count": 78,
     "metadata": {},
     "output_type": "execute_result"
    }
   ],
   "source": [
    "dq2"
   ]
  },
  {
   "cell_type": "code",
   "execution_count": 79,
   "id": "83f8eba2",
   "metadata": {},
   "outputs": [],
   "source": [
    "dq3 = collections.deque((3, 7,1))"
   ]
  },
  {
   "cell_type": "code",
   "execution_count": 80,
   "id": "10a520aa",
   "metadata": {},
   "outputs": [
    {
     "data": {
      "text/plain": [
       "deque([3, 7, 1])"
      ]
     },
     "execution_count": 80,
     "metadata": {},
     "output_type": "execute_result"
    }
   ],
   "source": [
    "dq3"
   ]
  },
  {
   "cell_type": "code",
   "execution_count": 82,
   "id": "c7372ac4",
   "metadata": {},
   "outputs": [],
   "source": [
    "dq4 = collections.deque({3, 6, 1, })"
   ]
  },
  {
   "cell_type": "code",
   "execution_count": 83,
   "id": "f8f55fda",
   "metadata": {},
   "outputs": [
    {
     "data": {
      "text/plain": [
       "deque([1, 3, 6])"
      ]
     },
     "execution_count": 83,
     "metadata": {},
     "output_type": "execute_result"
    }
   ],
   "source": [
    "dq4"
   ]
  },
  {
   "cell_type": "code",
   "execution_count": 84,
   "id": "35af9ebc",
   "metadata": {},
   "outputs": [],
   "source": [
    "dq.append(5)"
   ]
  },
  {
   "cell_type": "code",
   "execution_count": 85,
   "id": "3adadf38",
   "metadata": {},
   "outputs": [
    {
     "data": {
      "text/plain": [
       "deque([1, 2, 3, 4, 5])"
      ]
     },
     "execution_count": 85,
     "metadata": {},
     "output_type": "execute_result"
    }
   ],
   "source": [
    "dq"
   ]
  },
  {
   "cell_type": "code",
   "execution_count": 86,
   "id": "57a49da1",
   "metadata": {},
   "outputs": [],
   "source": [
    "dq.appendleft(0)"
   ]
  },
  {
   "cell_type": "code",
   "execution_count": 87,
   "id": "ecfe3cc3",
   "metadata": {},
   "outputs": [
    {
     "data": {
      "text/plain": [
       "deque([0, 1, 2, 3, 4, 5])"
      ]
     },
     "execution_count": 87,
     "metadata": {},
     "output_type": "execute_result"
    }
   ],
   "source": [
    "dq"
   ]
  },
  {
   "cell_type": "code",
   "execution_count": 88,
   "id": "d5d8339e",
   "metadata": {},
   "outputs": [],
   "source": [
    "dq.extend('abcd')"
   ]
  },
  {
   "cell_type": "code",
   "execution_count": 89,
   "id": "2ce447df",
   "metadata": {},
   "outputs": [
    {
     "data": {
      "text/plain": [
       "deque([0, 1, 2, 3, 4, 5, 'a', 'b', 'c', 'd'])"
      ]
     },
     "execution_count": 89,
     "metadata": {},
     "output_type": "execute_result"
    }
   ],
   "source": [
    "dq"
   ]
  },
  {
   "cell_type": "code",
   "execution_count": 90,
   "id": "6a8e7b1e",
   "metadata": {},
   "outputs": [],
   "source": [
    "dq.extendleft('cdef')"
   ]
  },
  {
   "cell_type": "code",
   "execution_count": 91,
   "id": "e00e2084",
   "metadata": {},
   "outputs": [
    {
     "data": {
      "text/plain": [
       "deque(['f', 'e', 'd', 'c', 0, 1, 2, 3, 4, 5, 'a', 'b', 'c', 'd'])"
      ]
     },
     "execution_count": 91,
     "metadata": {},
     "output_type": "execute_result"
    }
   ],
   "source": [
    "dq"
   ]
  },
  {
   "cell_type": "code",
   "execution_count": 92,
   "id": "2a324018",
   "metadata": {},
   "outputs": [
    {
     "data": {
      "text/plain": [
       "'d'"
      ]
     },
     "execution_count": 92,
     "metadata": {},
     "output_type": "execute_result"
    }
   ],
   "source": [
    "dq.pop()"
   ]
  },
  {
   "cell_type": "code",
   "execution_count": 93,
   "id": "e40fdf77",
   "metadata": {},
   "outputs": [
    {
     "data": {
      "text/plain": [
       "'f'"
      ]
     },
     "execution_count": 93,
     "metadata": {},
     "output_type": "execute_result"
    }
   ],
   "source": [
    "dq.popleft()"
   ]
  },
  {
   "cell_type": "code",
   "execution_count": 94,
   "id": "9fa3e1fb",
   "metadata": {},
   "outputs": [],
   "source": [
    "dq.rotate()"
   ]
  },
  {
   "cell_type": "code",
   "execution_count": 95,
   "id": "395ff461",
   "metadata": {},
   "outputs": [
    {
     "data": {
      "text/plain": [
       "deque(['c', 'e', 'd', 'c', 0, 1, 2, 3, 4, 5, 'a', 'b'])"
      ]
     },
     "execution_count": 95,
     "metadata": {},
     "output_type": "execute_result"
    }
   ],
   "source": [
    "dq"
   ]
  },
  {
   "cell_type": "code",
   "execution_count": 96,
   "id": "dd87684a",
   "metadata": {},
   "outputs": [],
   "source": [
    "dq.rotate(-1)"
   ]
  },
  {
   "cell_type": "code",
   "execution_count": 97,
   "id": "b4b0aaa5",
   "metadata": {},
   "outputs": [
    {
     "data": {
      "text/plain": [
       "deque(['e', 'd', 'c', 0, 1, 2, 3, 4, 5, 'a', 'b', 'c'])"
      ]
     },
     "execution_count": 97,
     "metadata": {},
     "output_type": "execute_result"
    }
   ],
   "source": [
    "dq"
   ]
  },
  {
   "cell_type": "code",
   "execution_count": 98,
   "id": "fbe17f29",
   "metadata": {},
   "outputs": [],
   "source": [
    "dq.rotate()"
   ]
  },
  {
   "cell_type": "code",
   "execution_count": 99,
   "id": "95258777",
   "metadata": {},
   "outputs": [
    {
     "data": {
      "text/plain": [
       "deque(['c', 'e', 'd', 'c', 0, 1, 2, 3, 4, 5, 'a', 'b'])"
      ]
     },
     "execution_count": 99,
     "metadata": {},
     "output_type": "execute_result"
    }
   ],
   "source": [
    "dq"
   ]
  },
  {
   "cell_type": "code",
   "execution_count": 100,
   "id": "e076491f",
   "metadata": {},
   "outputs": [],
   "source": [
    "dq.rotate()"
   ]
  },
  {
   "cell_type": "code",
   "execution_count": 101,
   "id": "ea30d595",
   "metadata": {},
   "outputs": [
    {
     "data": {
      "text/plain": [
       "deque(['b', 'c', 'e', 'd', 'c', 0, 1, 2, 3, 4, 5, 'a'])"
      ]
     },
     "execution_count": 101,
     "metadata": {},
     "output_type": "execute_result"
    }
   ],
   "source": [
    "dq"
   ]
  },
  {
   "cell_type": "code",
   "execution_count": null,
   "id": "f8fa1286",
   "metadata": {},
   "outputs": [],
   "source": [
    "import collections\n",
    "\n",
    "T = int(input())\n",
    "for _ in range(T):\n",
    "    num, cube = int(input()), collections.deque(map(int, input().split()))\n",
    "    for _ in range(num):\n",
    "        if max(cube) == cube[0]: cube.popleft()\n",
    "        elif max(cube) == cube[-1]: cube.pop()\n",
    "        else:\n",
    "            print('No')\n",
    "            break\n",
    "    else:\n",
    "        print('Yes')\n",
    "    "
   ]
  },
  {
   "cell_type": "markdown",
   "id": "8476493f",
   "metadata": {},
   "source": [
    "### print('No')하고 break로 if 구문 break 시키고 위에 for 구문까지 break 시키는 방법도 있을까?"
   ]
  },
  {
   "cell_type": "code",
   "execution_count": null,
   "id": "0770ad57",
   "metadata": {},
   "outputs": [],
   "source": [
    "import collections\n",
    "\n",
    "T = int(input())\n",
    "for _ in range(T):\n",
    "    num, queue = int(input()), collections.deque(map(int, input().split()))\n",
    "    for cube in reversed(sorted(queue)):\n",
    "        if queue[0] == cube: queue.popleft()\n",
    "        elif queue[-1] == cube: queue.pop()\n",
    "        else:\n",
    "            print('No')\n",
    "            break\n",
    "    else:\n",
    "        print('Yes')\n"
   ]
  },
  {
   "cell_type": "markdown",
   "id": "6ada1e7e",
   "metadata": {},
   "source": [
    "위 이 코드가 위에 코드보다 훨씬 더 빠르지?"
   ]
  },
  {
   "cell_type": "code",
   "execution_count": null,
   "id": "3cbdb318",
   "metadata": {},
   "outputs": [],
   "source": [
    "T = int(input())\n",
    "cubes = [[int(input()), list(map(int, input().split()))] for _ in range(T)]\n",
    "\n",
    "for num, cube in cubes:\n",
    "    for cand in reversed(sorted(cube)):\n",
    "        if cand in [cube[0], cube[-1]]:\n",
    "            if len(cube) == 1:\n",
    "                print('Yes')\n",
    "                break\n",
    "            else:\n",
    "                cube.remove(cand)\n",
    "                continue\n",
    "        else:\n",
    "            print('No')\n",
    "            break         "
   ]
  },
  {
   "cell_type": "markdown",
   "id": "5a3cd4f6",
   "metadata": {},
   "source": [
    "- collections.deque()"
   ]
  },
  {
   "cell_type": "code",
   "execution_count": null,
   "id": "7e9bedf7",
   "metadata": {},
   "outputs": [],
   "source": [
    "import collections\n",
    "\n",
    "d = collections.deque()\n",
    "for _ in range(int(input())):\n",
    "    function, keyword = input().split()\n",
    "    getattr(d, function)(keyword)"
   ]
  },
  {
   "cell_type": "markdown",
   "id": "0c208fa2",
   "metadata": {},
   "source": [
    "### ValueError occured on line 5, not enough value to unpqck (expected 2, got 1)"
   ]
  },
  {
   "cell_type": "markdown",
   "id": "75dc1822",
   "metadata": {},
   "source": [
    "### 이럴 때 필요한 게 _?<"
   ]
  },
  {
   "cell_type": "code",
   "execution_count": null,
   "id": "5c3b9c99",
   "metadata": {},
   "outputs": [],
   "source": [
    "import collections\n",
    "\n",
    "d = collections.deque()\n",
    "for _ in range(int(input())):\n",
    "    function, _ = input().split()\n",
    "    getattr(d, function)(_)"
   ]
  },
  {
   "cell_type": "code",
   "execution_count": 104,
   "id": "d6e55bb4",
   "metadata": {},
   "outputs": [],
   "source": [
    "function, _ = 'append 3'.split()"
   ]
  },
  {
   "cell_type": "code",
   "execution_count": 105,
   "id": "c7263928",
   "metadata": {},
   "outputs": [
    {
     "data": {
      "text/plain": [
       "'3'"
      ]
     },
     "execution_count": 105,
     "metadata": {},
     "output_type": "execute_result"
    }
   ],
   "source": [
    "_"
   ]
  },
  {
   "cell_type": "code",
   "execution_count": 106,
   "id": "b985a96c",
   "metadata": {},
   "outputs": [
    {
     "data": {
      "text/plain": [
       "'append'"
      ]
     },
     "execution_count": 106,
     "metadata": {},
     "output_type": "execute_result"
    }
   ],
   "source": [
    "function"
   ]
  },
  {
   "cell_type": "code",
   "execution_count": null,
   "id": "9e2a3877",
   "metadata": {},
   "outputs": [],
   "source": [
    "import collections\n",
    "\n",
    "d = collections.deque()\n",
    "for _ in range(int(input())):\n",
    "    match input().split():\n",
    "        case function, key:\n",
    "            getattr(d, function)(key)\n",
    "        case _:\n",
    "            getattr(d, function)()"
   ]
  },
  {
   "cell_type": "code",
   "execution_count": null,
   "id": "73119e3c",
   "metadata": {},
   "outputs": [],
   "source": [
    "import collections\n",
    "\n",
    "d = collections.deque()\n",
    "for _ in range(int(input())):\n",
    "    try:\n",
    "        function, key = input().split()\n",
    "        getattr(d, function)(key)\n",
    "    except ValueError:\n",
    "        function = str(input())\n",
    "        getattr(d, function)()"
   ]
  },
  {
   "cell_type": "code",
   "execution_count": null,
   "id": "37406a5d",
   "metadata": {},
   "outputs": [],
   "source": [
    "### 예시답안\n",
    "d = deque()\n",
    "for _ in range(int(input())):\n",
    "    inp = input().split()\n",
    "    getattr(d, inp[0])(*[inp[1]] if len(inp) > 1 else [])\n",
    "print(*[item for item in d])\n"
   ]
  },
  {
   "cell_type": "code",
   "execution_count": null,
   "id": "fe65d2e0",
   "metadata": {},
   "outputs": [],
   "source": [
    "import collections\n",
    "\n",
    "d = collections.deque()\n",
    "for _ in range(int(input())):\n",
    "    try:\n",
    "        function, *key = input().split()\n",
    "        getattr(d, function)(*key)\n",
    "    except ValueError:\n",
    "        function = str(input())\n",
    "        getattr(d, function)()\n",
    "print(*d)"
   ]
  },
  {
   "cell_type": "code",
   "execution_count": null,
   "id": "fd81911d",
   "metadata": {},
   "outputs": [],
   "source": [
    "import collections\n",
    "d = collections.deque()\n",
    "for _ in range(int(input())):\n",
    "    command = input().split()\n",
    "    if len(command) != 1:\n",
    "        getattr(d, command[0])(*command[1])\n",
    "    else:\n",
    "        getattr(d, command)()\n",
    "print(*d)"
   ]
  },
  {
   "cell_type": "markdown",
   "id": "9d0c61ab",
   "metadata": {},
   "source": [
    "### getattr의 인수는 반드시 문자열\n"
   ]
  },
  {
   "cell_type": "code",
   "execution_count": null,
   "id": "efc5e7a4",
   "metadata": {},
   "outputs": [],
   "source": [
    "import collections\n",
    "d = collections.deque()\n",
    "for _ in range(int(input())):\n",
    "    command = input().split()\n",
    "    if len(command) != 1:\n",
    "        getattr(d, command[0])(*command[1])\n",
    "    else:\n",
    "        getattr(d, command[0])()\n",
    "print(*d)"
   ]
  },
  {
   "cell_type": "markdown",
   "id": "a9398ca9",
   "metadata": {},
   "source": [
    "- valid email address"
   ]
  },
  {
   "cell_type": "code",
   "execution_count": null,
   "id": "d06528de",
   "metadata": {},
   "outputs": [],
   "source": [
    "import re, email.utils\n",
    "\n",
    "for _ in range(int(input())):\n",
    "    name, address = email.utils.parseaddr(input())\n",
    "    if re.match('<[\\w\\\\-\\\\.]+@[a-z]+.[a-z]{,3}', address):\n",
    "        print(email.utils.formataddr((name, address)))\n",
    "    else:\n",
    "        pass"
   ]
  },
  {
   "cell_type": "code",
   "execution_count": 107,
   "id": "bafeafa8",
   "metadata": {},
   "outputs": [],
   "source": [
    "import email.utils"
   ]
  },
  {
   "cell_type": "code",
   "execution_count": 109,
   "id": "8996912b",
   "metadata": {},
   "outputs": [],
   "source": [
    "name, address = email.utils.parseaddr('DOROSI <black@blakh.com>')"
   ]
  },
  {
   "cell_type": "code",
   "execution_count": 110,
   "id": "4e81c135",
   "metadata": {},
   "outputs": [
    {
     "data": {
      "text/plain": [
       "'DOROSI'"
      ]
     },
     "execution_count": 110,
     "metadata": {},
     "output_type": "execute_result"
    }
   ],
   "source": [
    "name"
   ]
  },
  {
   "cell_type": "code",
   "execution_count": 111,
   "id": "a61ecce0",
   "metadata": {
    "scrolled": true
   },
   "outputs": [
    {
     "data": {
      "text/plain": [
       "'black@blakh.com'"
      ]
     },
     "execution_count": 111,
     "metadata": {},
     "output_type": "execute_result"
    }
   ],
   "source": [
    "address"
   ]
  },
  {
   "cell_type": "code",
   "execution_count": 112,
   "id": "b6d975c3",
   "metadata": {},
   "outputs": [
    {
     "data": {
      "text/plain": [
       "str"
      ]
     },
     "execution_count": 112,
     "metadata": {},
     "output_type": "execute_result"
    }
   ],
   "source": [
    "type(address)"
   ]
  },
  {
   "cell_type": "code",
   "execution_count": null,
   "id": "6acf78a4",
   "metadata": {},
   "outputs": [],
   "source": [
    "import re, email.utils\n",
    "\n",
    "for _ in range(int(input())):\n",
    "    name, address = email.utils.parseaddr(str(input()))\n",
    "    if re.match('<[\\w\\\\-\\\\.]+@[a-z]+.[a-z]{,3}', address):\n",
    "        print(email.utils.formataddr((name, address)))\n",
    "    else:\n",
    "        pass"
   ]
  },
  {
   "cell_type": "code",
   "execution_count": null,
   "id": "52ed7849",
   "metadata": {},
   "outputs": [],
   "source": [
    "import re, email.utils\n",
    "\n",
    "for _ in range(int(input())):\n",
    "    name, address = input().split()\n",
    "    if re.match('<[\\w\\\\-\\\\.]+@[a-z]+.[a-z]{,3}', address):\n",
    "        print(email.utils.formataddr((name, address.strip('<>'))))\n",
    "    else:\n",
    "        pass"
   ]
  },
  {
   "cell_type": "code",
   "execution_count": null,
   "id": "7af72943",
   "metadata": {},
   "outputs": [],
   "source": [
    "import re, email.utils\n",
    "\n",
    "for _ in range(int(input())):\n",
    "    name, address = input().split()\n",
    "    if re.match('[a-z][\\w\\\\-\\\\.]+@[a-z]+\\.[a-z]{1,3}$', address):\n",
    "        print(email.utils.formataddr(email.utils.parseaddr((name, address.strip('<>')))))\n",
    "    else:\n",
    "        pass"
   ]
  },
  {
   "cell_type": "markdown",
   "id": "eaf49e9d",
   "metadata": {},
   "source": [
    "- Detecting HTML"
   ]
  },
  {
   "cell_type": "code",
   "execution_count": null,
   "id": "4ee6219b",
   "metadata": {},
   "outputs": [],
   "source": [
    "import re\n",
    "HTML = ''\n",
    "for _ in range(int(input())):\n",
    "    '' += ('\\n' + str(input()))\n",
    "        "
   ]
  },
  {
   "cell_type": "code",
   "execution_count": 173,
   "id": "f788f556",
   "metadata": {},
   "outputs": [],
   "source": [
    "HTML = ''.join(['<head>', '<title>HTML</title>', '</head>',\n",
    "                 '<object type=\"application/x-flash\"', \n",
    "                 'data=\"your-file.swf\"', \n",
    "                 'width=\"0\" height=\"0\">', \n",
    "                 '<!-- <param name=\"movie\" value=\"your-file.swf\"  /> -->', \n",
    "                  '<param name=\"quality\" value=\"high\"/>',\n",
    "                 '</object>'])\n"
   ]
  },
  {
   "cell_type": "code",
   "execution_count": 123,
   "id": "a0515730",
   "metadata": {},
   "outputs": [
    {
     "data": {
      "text/plain": [
       "'<head><title>HTML</title></head><object type=\"application/x-flash\"data = \"your-file.swf\"width = \"0\" height = \"0\"><!-- <param name=\"movie\" value=\"your-file.swf\"  /> --><param name=\"quality\" value=\"high\"/></object>'"
      ]
     },
     "execution_count": 123,
     "metadata": {},
     "output_type": "execute_result"
    }
   ],
   "source": [
    "HTML"
   ]
  },
  {
   "cell_type": "code",
   "execution_count": 124,
   "id": "0d57b3a2",
   "metadata": {},
   "outputs": [
    {
     "data": {
      "text/plain": [
       "['<head>',\n",
       " '<title>',\n",
       " '</title>',\n",
       " '</head>',\n",
       " '<object type=\"application/x-flash\"data = \"your-file.swf\"width = \"0\" height = \"0\">',\n",
       " '<!-- <param name=\"movie\" value=\"your-file.swf\"  />',\n",
       " '<param name=\"quality\" value=\"high\"/>',\n",
       " '</object>']"
      ]
     },
     "execution_count": 124,
     "metadata": {},
     "output_type": "execute_result"
    }
   ],
   "source": [
    "import re\n",
    "re.findall('<.+?>', HTML)"
   ]
  },
  {
   "cell_type": "code",
   "execution_count": 128,
   "id": "bec82c10",
   "metadata": {},
   "outputs": [
    {
     "data": {
      "text/plain": [
       "['<head>', '<title>', '<object ', '<param ', '<param ']"
      ]
     },
     "execution_count": 128,
     "metadata": {},
     "output_type": "execute_result"
    }
   ],
   "source": [
    "re.findall('<[\\w]+?[\\>\\s]', HTML)"
   ]
  },
  {
   "cell_type": "code",
   "execution_count": 129,
   "id": "670b81e4",
   "metadata": {
    "scrolled": true
   },
   "outputs": [
    {
     "data": {
      "text/plain": [
       "['<head',\n",
       " 'title>HTML</title',\n",
       " '/head',\n",
       " 'object type=\"application/x-flash\"data = \"your-file.swf\"width = \"0\" height = \"0\"',\n",
       " '!-- <param name=\"movie\" value=\"your-file.swf\"  /> --',\n",
       " 'param name=\"quality\" value=\"high\"/',\n",
       " '/object>']"
      ]
     },
     "execution_count": 129,
     "metadata": {},
     "output_type": "execute_result"
    }
   ],
   "source": [
    "re.split('><', HTML)"
   ]
  },
  {
   "cell_type": "code",
   "execution_count": 130,
   "id": "5d7b4782",
   "metadata": {},
   "outputs": [
    {
     "data": {
      "text/plain": [
       "['<head><title>HTML</title></head><object type=\"application/x-flash\"data = \"your-file.swf\"width = \"0\" height = \"0\">',\n",
       " '<param name=\"quality\" value=\"high\"/></object>']"
      ]
     },
     "execution_count": 130,
     "metadata": {},
     "output_type": "execute_result"
    }
   ],
   "source": [
    "re.split('<!--.+? -->', HTML)"
   ]
  },
  {
   "cell_type": "code",
   "execution_count": 174,
   "id": "8ad5eaae",
   "metadata": {},
   "outputs": [],
   "source": [
    "HTML = ''.join(re.split('<!--.+? -->', HTML))"
   ]
  },
  {
   "cell_type": "code",
   "execution_count": 175,
   "id": "4d0aff05",
   "metadata": {},
   "outputs": [
    {
     "data": {
      "text/plain": [
       "'<head><title>HTML</title></head><object type=\"application/x-flash\"data=\"your-file.swf\"width=\"0\" height=\"0\"><param name=\"quality\" value=\"high\"/></object>'"
      ]
     },
     "execution_count": 175,
     "metadata": {},
     "output_type": "execute_result"
    }
   ],
   "source": [
    "HTML"
   ]
  },
  {
   "cell_type": "code",
   "execution_count": 133,
   "id": "8da23f69",
   "metadata": {},
   "outputs": [
    {
     "data": {
      "text/plain": [
       "['<head>', '<title>', '<object ', '<param ']"
      ]
     },
     "execution_count": 133,
     "metadata": {},
     "output_type": "execute_result"
    }
   ],
   "source": [
    "re.findall('<[\\w]+?[\\>\\s]', HTML)"
   ]
  },
  {
   "cell_type": "code",
   "execution_count": 135,
   "id": "99dba288",
   "metadata": {},
   "outputs": [
    {
     "data": {
      "text/plain": [
       "['head', 'title', 'object', 'param']"
      ]
     },
     "execution_count": 135,
     "metadata": {},
     "output_type": "execute_result"
    }
   ],
   "source": [
    "re.findall('<([\\w]+?)[\\>\\s]', HTML)"
   ]
  },
  {
   "cell_type": "code",
   "execution_count": 137,
   "id": "6bff8152",
   "metadata": {},
   "outputs": [],
   "source": [
    "tags = re.findall('<([\\w]+?)([\\>\\s])', HTML)"
   ]
  },
  {
   "cell_type": "code",
   "execution_count": 138,
   "id": "5d380200",
   "metadata": {},
   "outputs": [
    {
     "data": {
      "text/plain": [
       "[('head', '>'), ('title', '>'), ('object', ' '), ('param', ' ')]"
      ]
     },
     "execution_count": 138,
     "metadata": {},
     "output_type": "execute_result"
    }
   ],
   "source": [
    "tags"
   ]
  },
  {
   "cell_type": "code",
   "execution_count": 141,
   "id": "ea960319",
   "metadata": {
    "scrolled": true
   },
   "outputs": [
    {
     "name": "stdout",
     "output_type": "stream",
     "text": [
      "head\n",
      "title\n"
     ]
    },
    {
     "ename": "ValueError",
     "evalue": "not enough values to unpack (expected 2, got 1)",
     "output_type": "error",
     "traceback": [
      "\u001b[1;31m---------------------------------------------------------------------------\u001b[0m",
      "\u001b[1;31mValueError\u001b[0m                                Traceback (most recent call last)",
      "\u001b[1;32mC:\\Users\\AARONC~1\\AppData\\Local\\Temp/ipykernel_16992/2844971868.py\u001b[0m in \u001b[0;36m<module>\u001b[1;34m\u001b[0m\n\u001b[0;32m      3\u001b[0m         \u001b[0mprint\u001b[0m\u001b[1;33m(\u001b[0m\u001b[0mtag\u001b[0m\u001b[1;33m)\u001b[0m\u001b[1;33m\u001b[0m\u001b[1;33m\u001b[0m\u001b[0m\n\u001b[0;32m      4\u001b[0m     \u001b[1;32melif\u001b[0m \u001b[0msep\u001b[0m \u001b[1;33m==\u001b[0m \u001b[1;34m' '\u001b[0m\u001b[1;33m:\u001b[0m\u001b[1;33m\u001b[0m\u001b[1;33m\u001b[0m\u001b[0m\n\u001b[1;32m----> 5\u001b[1;33m         \u001b[0mattr\u001b[0m\u001b[1;33m,\u001b[0m \u001b[0mvalue\u001b[0m \u001b[1;33m=\u001b[0m \u001b[0mre\u001b[0m\u001b[1;33m.\u001b[0m\u001b[0mfindall\u001b[0m\u001b[1;33m(\u001b[0m\u001b[1;34mf'{tag} (.+?)=\"(.+?)\"'\u001b[0m\u001b[1;33m,\u001b[0m \u001b[0mHTML\u001b[0m\u001b[1;33m)\u001b[0m\u001b[1;33m\u001b[0m\u001b[1;33m\u001b[0m\u001b[0m\n\u001b[0m\u001b[0;32m      6\u001b[0m         \u001b[0mprint\u001b[0m\u001b[1;33m(\u001b[0m\u001b[0mattr\u001b[0m\u001b[1;33m,\u001b[0m \u001b[0mvalue\u001b[0m\u001b[1;33m)\u001b[0m\u001b[1;33m\u001b[0m\u001b[1;33m\u001b[0m\u001b[0m\n",
      "\u001b[1;31mValueError\u001b[0m: not enough values to unpack (expected 2, got 1)"
     ]
    }
   ],
   "source": [
    "for tag, sep in tags:\n",
    "    if sep == '>':\n",
    "        print(tag)\n",
    "    elif sep == ' ':\n",
    "        slice = re.search(f'<{tag}.+?>', HTML).group()\n",
    "        attr, value = re.findall(f'(.+?)=\"(.+?)\"', slice)    \n",
    "        print(attr, value)"
   ]
  },
  {
   "cell_type": "code",
   "execution_count": 143,
   "id": "b726fe9a",
   "metadata": {},
   "outputs": [
    {
     "data": {
      "text/plain": [
       "[('abcd', 'decf')]"
      ]
     },
     "execution_count": 143,
     "metadata": {},
     "output_type": "execute_result"
    }
   ],
   "source": [
    "re.findall('(abcd) (decf)', 'abcd decf')"
   ]
  },
  {
   "cell_type": "code",
   "execution_count": 153,
   "id": "63c52b66",
   "metadata": {},
   "outputs": [],
   "source": [
    "slice = re.search('<object.+?>', HTML).group()"
   ]
  },
  {
   "cell_type": "code",
   "execution_count": 158,
   "id": "9e08d652",
   "metadata": {},
   "outputs": [
    {
     "data": {
      "text/plain": [
       "[('type', 'application/x-flash'),\n",
       " ('data', 'your-file.swf'),\n",
       " ('width', '0'),\n",
       " ('height', '0')]"
      ]
     },
     "execution_count": 158,
     "metadata": {},
     "output_type": "execute_result"
    }
   ],
   "source": [
    "re.findall('([\\w]+?)=\"(.+?)\"', slice)"
   ]
  },
  {
   "cell_type": "code",
   "execution_count": 151,
   "id": "df13ee3f",
   "metadata": {},
   "outputs": [
    {
     "data": {
      "text/plain": [
       "'<object type=\"application/x-flash\"data = \"your-file.swf\"width = \"0\" height = \"0\">'"
      ]
     },
     "execution_count": 151,
     "metadata": {},
     "output_type": "execute_result"
    }
   ],
   "source": [
    "slice"
   ]
  },
  {
   "cell_type": "code",
   "execution_count": 162,
   "id": "3dff28c6",
   "metadata": {},
   "outputs": [
    {
     "name": "stdout",
     "output_type": "stream",
     "text": [
      "head\n",
      "title\n",
      "object\n",
      "->\n",
      "('type', 'application/x-flash')\n",
      "('data', 'your-file.swf')\n",
      "('width', '0')\n",
      "('height', '0')\n",
      "param\n",
      "->\n",
      "('name', 'movie')\n",
      "('value', 'your-file.swf')\n"
     ]
    }
   ],
   "source": [
    "for tag, sep in tags:\n",
    "    print(tag)\n",
    "    if sep == '>':\n",
    "        pass\n",
    "    elif sep == ' ':\n",
    "        slice = re.search(f'<{tag}.+?>', HTML).group()\n",
    "        print('->', *re.findall('([\\w]+?)=\"(.+?)\"', slice), sep = '\\n')"
   ]
  },
  {
   "cell_type": "code",
   "execution_count": 163,
   "id": "6189ae93",
   "metadata": {},
   "outputs": [
    {
     "name": "stdout",
     "output_type": "stream",
     "text": [
      "head\n",
      "title\n",
      "object\n"
     ]
    },
    {
     "ename": "TypeError",
     "evalue": "sequence item 0: expected str instance, tuple found",
     "output_type": "error",
     "traceback": [
      "\u001b[1;31m---------------------------------------------------------------------------\u001b[0m",
      "\u001b[1;31mTypeError\u001b[0m                                 Traceback (most recent call last)",
      "\u001b[1;32mC:\\Users\\AARONC~1\\AppData\\Local\\Temp/ipykernel_16992/4227665457.py\u001b[0m in \u001b[0;36m<module>\u001b[1;34m\u001b[0m\n\u001b[0;32m      5\u001b[0m     \u001b[1;32melif\u001b[0m \u001b[0msep\u001b[0m \u001b[1;33m==\u001b[0m \u001b[1;34m' '\u001b[0m\u001b[1;33m:\u001b[0m\u001b[1;33m\u001b[0m\u001b[1;33m\u001b[0m\u001b[0m\n\u001b[0;32m      6\u001b[0m         \u001b[0mslice\u001b[0m \u001b[1;33m=\u001b[0m \u001b[0mre\u001b[0m\u001b[1;33m.\u001b[0m\u001b[0msearch\u001b[0m\u001b[1;33m(\u001b[0m\u001b[1;34mf'<{tag}.+?>'\u001b[0m\u001b[1;33m,\u001b[0m \u001b[0mHTML\u001b[0m\u001b[1;33m)\u001b[0m\u001b[1;33m.\u001b[0m\u001b[0mgroup\u001b[0m\u001b[1;33m(\u001b[0m\u001b[1;33m)\u001b[0m\u001b[1;33m\u001b[0m\u001b[1;33m\u001b[0m\u001b[0m\n\u001b[1;32m----> 7\u001b[1;33m         \u001b[0mprint\u001b[0m\u001b[1;33m(\u001b[0m\u001b[1;34m'\\m->'\u001b[0m\u001b[1;33m.\u001b[0m\u001b[0mjoin\u001b[0m\u001b[1;33m(\u001b[0m\u001b[0mre\u001b[0m\u001b[1;33m.\u001b[0m\u001b[0mfindall\u001b[0m\u001b[1;33m(\u001b[0m\u001b[1;34m'([\\w]+?)=\"(.+?)\"'\u001b[0m\u001b[1;33m,\u001b[0m \u001b[0mslice\u001b[0m\u001b[1;33m)\u001b[0m\u001b[1;33m)\u001b[0m\u001b[1;33m)\u001b[0m\u001b[1;33m\u001b[0m\u001b[1;33m\u001b[0m\u001b[0m\n\u001b[0m",
      "\u001b[1;31mTypeError\u001b[0m: sequence item 0: expected str instance, tuple found"
     ]
    }
   ],
   "source": [
    "for tag, sep in tags:\n",
    "    print(tag)\n",
    "    if sep == '>':\n",
    "        pass\n",
    "    elif sep == ' ':\n",
    "        slice = re.search(f'<{tag}.+?>', HTML).group()\n",
    "        print('\\m->'.join(re.findall('([\\w]+?)=\"(.+?)\"', slice)))"
   ]
  },
  {
   "cell_type": "code",
   "execution_count": 167,
   "id": "1e9831df",
   "metadata": {},
   "outputs": [
    {
     "name": "stdout",
     "output_type": "stream",
     "text": [
      "head\n",
      "title\n",
      "object\n",
      "->('type', 'application/x-flash')\n",
      "->('data', 'your-file.swf')\n",
      "->('width', '0')\n",
      "->('height', '0')\n",
      "param\n",
      "->('name', 'movie')\n",
      "->('value', 'your-file.swf')\n"
     ]
    }
   ],
   "source": [
    "for tag, sep in tags:\n",
    "    print(tag)\n",
    "    if sep == '>':\n",
    "        pass\n",
    "    elif sep == ' ':\n",
    "        slice = re.search(f'<{tag}.+?>', HTML).group()\n",
    "        print('->' + '\\n->'.join(map(str, re.findall('([\\w]+?)=\"(.+?)\"', slice))))"
   ]
  },
  {
   "cell_type": "code",
   "execution_count": 169,
   "id": "de3b3489",
   "metadata": {},
   "outputs": [
    {
     "name": "stdout",
     "output_type": "stream",
     "text": [
      "head\n",
      "title\n",
      "object\n",
      "-> type > application/x-flash\n",
      "->data > your-file.swf\n",
      "->width > 0\n",
      "->height > 0\n",
      "param\n",
      "-> name > movie\n",
      "->value > your-file.swf\n"
     ]
    }
   ],
   "source": [
    "for tag, sep in tags:\n",
    "    print(tag)\n",
    "    if sep == '>':\n",
    "        pass\n",
    "    elif sep == ' ':\n",
    "        slice = re.search(f'<{tag}.+?>', HTML).group()\n",
    "        slices = [' > '.join([x, y]) for x, y in re.findall('([\\w]+?)=\"(.+?)\"', slice)]\n",
    "        print('->', '\\n->'.join(slices))"
   ]
  },
  {
   "cell_type": "code",
   "execution_count": null,
   "id": "ef96f08a",
   "metadata": {},
   "outputs": [],
   "source": [
    "tags = re.findall('<([\\w]+?)([\\>\\s])', HTML)\n",
    "\n",
    "HTML = ''.join(re.split('<!--.+? -->', HTML))\n",
    "\n",
    "for tag, sep in tags:\n",
    "    print(tag)\n",
    "    if sep == '>':\n",
    "        pass\n",
    "    elif sep == ' ':\n",
    "        target = re.search(f'<{tag}.+?>', HTML).group()\n",
    "        slices = [' > '.join([x, y]) for x, y in re.findall('([\\w]+?)=\"(.+?)\"', target)]\n",
    "        print('->', '\\n->'.join(slices))"
   ]
  },
  {
   "cell_type": "code",
   "execution_count": 191,
   "id": "4d784f98",
   "metadata": {},
   "outputs": [],
   "source": [
    "HTML = '\\n'.join(['<head>', '<title>HTML</title>', '</head>',\n",
    "                 '<object type=\"application/x-flash\"', \n",
    "                 'data=\"your-file.swf\"', \n",
    "                 'width=\"0\" height=\"0\">', \n",
    "                 '<!-- <param name=\"movie\" value=\"your-file.swf\"  /> -->', \n",
    "                  '<param name=\"quality\" value=\"high\"/>',\n",
    "                 '</object>'])\n"
   ]
  },
  {
   "cell_type": "code",
   "execution_count": 193,
   "id": "7af90702",
   "metadata": {},
   "outputs": [],
   "source": [
    "HTML = ''.join(re.split('<!--.+? -->', HTML))"
   ]
  },
  {
   "cell_type": "code",
   "execution_count": 194,
   "id": "b3aa4346",
   "metadata": {},
   "outputs": [
    {
     "name": "stdout",
     "output_type": "stream",
     "text": [
      "<head>\n",
      "<title>HTML</title>\n",
      "</head>\n",
      "<object type=\"application/x-flash\"\n",
      "data=\"your-file.swf\"\n",
      "width=\"0\" height=\"0\">\n",
      "\n",
      "<param name=\"quality\" value=\"high\"/>\n",
      "</object>\n"
     ]
    }
   ],
   "source": [
    "print(HTML)"
   ]
  },
  {
   "cell_type": "code",
   "execution_count": 196,
   "id": "38fabec8",
   "metadata": {
    "scrolled": false
   },
   "outputs": [
    {
     "name": "stdout",
     "output_type": "stream",
     "text": [
      "head\n",
      "\n",
      "<title>HTML</title>\n",
      "</head>\n",
      "<object type=\"application/x-flash\"\n",
      "data=\"your-file.swf\"\n",
      "width=\"0\" height=\"0\">\n",
      "\n",
      "<param name=\"quality\" value=\"high\"/>\n",
      "</object>\n",
      "title\n",
      "\n",
      "HTML</title>\n",
      "</head>\n",
      "<object type=\"application/x-flash\"\n",
      "data=\"your-file.swf\"\n",
      "width=\"0\" height=\"0\">\n",
      "\n",
      "<param name=\"quality\" value=\"high\"/>\n",
      "</object>\n"
     ]
    }
   ],
   "source": [
    "for tag, sep in tags:\n",
    "    if sep == '>':\n",
    "        print(tag)\n",
    "        HTML  = HTML.rpartition(f'<{tag}>')[2]\n",
    "        print(HTML)"
   ]
  },
  {
   "cell_type": "code",
   "execution_count": 187,
   "id": "85f3f8f5",
   "metadata": {},
   "outputs": [
    {
     "ename": "SyntaxError",
     "evalue": "EOL while scanning string literal (Temp/ipykernel_16992/677767293.py, line 1)",
     "output_type": "error",
     "traceback": [
      "\u001b[1;36m  File \u001b[1;32m\"C:\\Users\\AARONC~1\\AppData\\Local\\Temp/ipykernel_16992/677767293.py\"\u001b[1;36m, line \u001b[1;32m1\u001b[0m\n\u001b[1;33m    HTML = '<head>\u001b[0m\n\u001b[1;37m                  ^\u001b[0m\n\u001b[1;31mSyntaxError\u001b[0m\u001b[1;31m:\u001b[0m EOL while scanning string literal\n"
     ]
    }
   ],
   "source": []
  },
  {
   "cell_type": "code",
   "execution_count": null,
   "id": "c1b13838",
   "metadata": {},
   "outputs": [],
   "source": [
    "import re\n",
    "HTML = ''\n",
    "for _ in range(int(input())):\n",
    "    HTML += '\\n'.join(str(input()))\n",
    "    HTML = re.sub('<!--.+?-->', '', HTML)\n",
    "tags = re.findall('<([\\w]+?)([\\s\\>])', HTML)\n",
    "\n",
    "for tag, sep in tags:\n",
    "    print(tag)\n",
    "    if sep == '>':\n",
    "        HTML  = HTML.rpartition(f'<{tag}>')[2]\n",
    "        pass\n",
    "    elif sep == ' ':\n",
    "        target = re.search(f'<{tag}.+?>', HTML).group()\n",
    "        slices = [' > '.join([x, y]) for x, y in re.findall('([\\w]+?)=\"(.+?)\"', target)]\n",
    "        print('->', '\\n-> '.join(slices))\n",
    "        HTML = ''.join(re.split(f'<{tag}.+?.', HTML))"
   ]
  }
 ],
 "metadata": {
  "kernelspec": {
   "display_name": "Python 3 (ipykernel)",
   "language": "python",
   "name": "python3"
  },
  "language_info": {
   "codemirror_mode": {
    "name": "ipython",
    "version": 3
   },
   "file_extension": ".py",
   "mimetype": "text/x-python",
   "name": "python",
   "nbconvert_exporter": "python",
   "pygments_lexer": "ipython3",
   "version": "3.9.7"
  }
 },
 "nbformat": 4,
 "nbformat_minor": 5
}
