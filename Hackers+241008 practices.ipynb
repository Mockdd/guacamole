{
 "cells": [
  {
   "cell_type": "markdown",
   "id": "37c5f24e",
   "metadata": {},
   "source": [
    "- find angle MBC"
   ]
  },
  {
   "cell_type": "code",
   "execution_count": 2,
   "id": "6a2a848c",
   "metadata": {},
   "outputs": [],
   "source": [
    "import numpy as np"
   ]
  },
  {
   "cell_type": "code",
   "execution_count": 5,
   "id": "b2e69980",
   "metadata": {},
   "outputs": [
    {
     "data": {
      "text/plain": [
       "1.0471975511965979"
      ]
     },
     "execution_count": 5,
     "metadata": {},
     "output_type": "execute_result"
    }
   ],
   "source": [
    "np.arccos(1/2)"
   ]
  },
  {
   "cell_type": "markdown",
   "id": "79f430c9",
   "metadata": {},
   "source": [
    "# 입력 코드(1)"
   ]
  },
  {
   "cell_type": "code",
   "execution_count": null,
   "id": "0a6008bc",
   "metadata": {},
   "outputs": [],
   "source": []
  },
  {
   "cell_type": "code",
   "execution_count": null,
   "id": "5a26531a",
   "metadata": {},
   "outputs": [],
   "source": [
    "c, a = int(input()), int(input())\n",
    "b = np.sqrt(c**2 + a**2)\n",
    "\n",
    "angle = round(np.arccos(a / b), 0)\n",
    "print(f'{angle}'°)"
   ]
  },
  {
   "cell_type": "code",
   "execution_count": 8,
   "id": "e4be708f",
   "metadata": {},
   "outputs": [
    {
     "data": {
      "text/plain": [
       "10.0"
      ]
     },
     "execution_count": 8,
     "metadata": {},
     "output_type": "execute_result"
    }
   ],
   "source": [
    "import math \n",
    "\n",
    "math.sqrt(100)"
   ]
  },
  {
   "cell_type": "markdown",
   "id": "ceeadce4",
   "metadata": {},
   "source": [
    "# 입력 코드(2)"
   ]
  },
  {
   "cell_type": "code",
   "execution_count": null,
   "id": "1be965a5",
   "metadata": {},
   "outputs": [],
   "source": [
    "c, a = int(input()), int(input())\n",
    "b = math.sqrt(c**2 + a**2)\n",
    "\n",
    "angle = round(math.acos(a / b), 0)\n",
    "print(f'{angle}'°)"
   ]
  },
  {
   "cell_type": "markdown",
   "id": "b0905c52",
   "metadata": {},
   "source": [
    "# 입력 코드(3)"
   ]
  },
  {
   "cell_type": "code",
   "execution_count": 15,
   "id": "49bdee1a",
   "metadata": {},
   "outputs": [],
   "source": [
    "c, a = 10, 10\n",
    "b = (c**2 + a**2)**(1/2)"
   ]
  },
  {
   "cell_type": "code",
   "execution_count": 16,
   "id": "1797baeb",
   "metadata": {},
   "outputs": [
    {
     "data": {
      "text/plain": [
       "14.142135623730951"
      ]
     },
     "execution_count": 16,
     "metadata": {},
     "output_type": "execute_result"
    }
   ],
   "source": [
    "b"
   ]
  },
  {
   "cell_type": "code",
   "execution_count": 19,
   "id": "6420cef7",
   "metadata": {},
   "outputs": [
    {
     "ename": "ValueError",
     "evalue": "math domain error",
     "output_type": "error",
     "traceback": [
      "\u001b[1;31m---------------------------------------------------------------------------\u001b[0m",
      "\u001b[1;31mValueError\u001b[0m                                Traceback (most recent call last)",
      "\u001b[1;32mC:\\Users\\AARONC~1\\AppData\\Local\\Temp/ipykernel_28164/1997037945.py\u001b[0m in \u001b[0;36m<module>\u001b[1;34m\u001b[0m\n\u001b[1;32m----> 1\u001b[1;33m \u001b[0mmath\u001b[0m\u001b[1;33m.\u001b[0m\u001b[0macos\u001b[0m\u001b[1;33m(\u001b[0m\u001b[0mb\u001b[0m\u001b[1;33m/\u001b[0m\u001b[0ma\u001b[0m\u001b[1;33m)\u001b[0m\u001b[1;33m\u001b[0m\u001b[1;33m\u001b[0m\u001b[0m\n\u001b[0m",
      "\u001b[1;31mValueError\u001b[0m: math domain error"
     ]
    }
   ],
   "source": [
    "math.acos(b/a)"
   ]
  },
  {
   "cell_type": "code",
   "execution_count": 18,
   "id": "e07a79dc",
   "metadata": {},
   "outputs": [
    {
     "data": {
      "text/plain": [
       "1.4142135623730951"
      ]
     },
     "execution_count": 18,
     "metadata": {},
     "output_type": "execute_result"
    }
   ],
   "source": [
    "b/a"
   ]
  },
  {
   "cell_type": "code",
   "execution_count": 20,
   "id": "1d8f873a",
   "metadata": {},
   "outputs": [
    {
     "ename": "ValueError",
     "evalue": "math domain error",
     "output_type": "error",
     "traceback": [
      "\u001b[1;31m---------------------------------------------------------------------------\u001b[0m",
      "\u001b[1;31mValueError\u001b[0m                                Traceback (most recent call last)",
      "\u001b[1;32mC:\\Users\\AARONC~1\\AppData\\Local\\Temp/ipykernel_28164/3578019892.py\u001b[0m in \u001b[0;36m<module>\u001b[1;34m\u001b[0m\n\u001b[1;32m----> 1\u001b[1;33m \u001b[0mmath\u001b[0m\u001b[1;33m.\u001b[0m\u001b[0macos\u001b[0m\u001b[1;33m(\u001b[0m\u001b[0mround\u001b[0m\u001b[1;33m(\u001b[0m\u001b[0mb\u001b[0m\u001b[1;33m/\u001b[0m\u001b[0ma\u001b[0m\u001b[1;33m,\u001b[0m \u001b[1;36m5\u001b[0m\u001b[1;33m)\u001b[0m\u001b[1;33m)\u001b[0m\u001b[1;33m\u001b[0m\u001b[1;33m\u001b[0m\u001b[0m\n\u001b[0m",
      "\u001b[1;31mValueError\u001b[0m: math domain error"
     ]
    }
   ],
   "source": [
    "math.acos(round(b/a, 5))"
   ]
  },
  {
   "cell_type": "code",
   "execution_count": 21,
   "id": "6b91554f",
   "metadata": {},
   "outputs": [
    {
     "name": "stderr",
     "output_type": "stream",
     "text": [
      "C:\\Users\\AARONC~1\\AppData\\Local\\Temp/ipykernel_28164/3190348906.py:1: RuntimeWarning: invalid value encountered in arccos\n",
      "  np.arccos(b/a)\n"
     ]
    },
    {
     "data": {
      "text/plain": [
       "nan"
      ]
     },
     "execution_count": 21,
     "metadata": {},
     "output_type": "execute_result"
    }
   ],
   "source": [
    "np.arccos(b/a)"
   ]
  },
  {
   "cell_type": "code",
   "execution_count": 24,
   "id": "aba8a0ce",
   "metadata": {},
   "outputs": [
    {
     "data": {
      "text/plain": [
       "1.4142135623730951"
      ]
     },
     "execution_count": 24,
     "metadata": {},
     "output_type": "execute_result"
    }
   ],
   "source": [
    "b/a"
   ]
  },
  {
   "cell_type": "code",
   "execution_count": 23,
   "id": "31e396d6",
   "metadata": {},
   "outputs": [
    {
     "data": {
      "text/plain": [
       "1.4142135623730951"
      ]
     },
     "execution_count": 23,
     "metadata": {},
     "output_type": "execute_result"
    }
   ],
   "source": [
    "b/a"
   ]
  },
  {
   "cell_type": "code",
   "execution_count": 26,
   "id": "c2067460",
   "metadata": {},
   "outputs": [],
   "source": [
    "angle = math.acos(a/b)"
   ]
  },
  {
   "cell_type": "code",
   "execution_count": 29,
   "id": "beefa796",
   "metadata": {},
   "outputs": [],
   "source": [
    "angle = math.degrees(angle)"
   ]
  },
  {
   "cell_type": "code",
   "execution_count": 31,
   "id": "1f7a5413",
   "metadata": {},
   "outputs": [
    {
     "name": "stdout",
     "output_type": "stream",
     "text": [
      "45\n"
     ]
    }
   ],
   "source": [
    "print(f'{int(round(angle, 0))}')"
   ]
  },
  {
   "cell_type": "code",
   "execution_count": null,
   "id": "84e35148",
   "metadata": {},
   "outputs": [],
   "source": [
    "import math\n",
    "\n",
    "c, a = int(input()), int(input())\n",
    "b = (c**2 + a**2) ** 1/2\n",
    "\n",
    "angle = math.acos(a/b)\n",
    "angle = int(round(math.degrees(angle), 0))\n",
    "\n",
    "print(f'{angle}')"
   ]
  },
  {
   "cell_type": "markdown",
   "id": "e569d5fd",
   "metadata": {},
   "source": [
    "### 연산할 때 연산 범위 괄호로 잘 묶어줘야 함 "
   ]
  },
  {
   "cell_type": "code",
   "execution_count": null,
   "id": "fb2540e8",
   "metadata": {},
   "outputs": [],
   "source": [
    "import math\n",
    "\n",
    "c, a = int(input()), int(input())\n",
    "b = (c**2 + a**2) ** (1/2)\n",
    "\n",
    "angle = math.acos(a/b)\n",
    "angle = int(round(math.degrees(angle), 0))\n",
    "\n",
    "print(f'{angle}')"
   ]
  },
  {
   "cell_type": "markdown",
   "id": "ea8b8b99",
   "metadata": {},
   "source": [
    "### 도 기호 넣기 using unicode "
   ]
  },
  {
   "cell_type": "code",
   "execution_count": null,
   "id": "b807b5a8",
   "metadata": {},
   "outputs": [],
   "source": [
    "import math\n",
    "\n",
    "c, a = int(input()), int(input())\n",
    "b = (c**2 + a**2) ** (1/2)\n",
    "\n",
    "angle = math.acos(a/b)\n",
    "angle = int(round(math.degrees(angle), 0))\n",
    "angle = f'{angle}°'.\n",
    "print(f'{angle}')"
   ]
  },
  {
   "cell_type": "code",
   "execution_count": null,
   "id": "4b437bdd",
   "metadata": {},
   "outputs": [],
   "source": [
    "#예시답안\n",
    "import math \n",
    "AB, BC = int(input()), int(input())\n",
    "hype = math.hypot(AB, BC)\n",
    "res = round(math.degrees(math.acos(BC/hype)))\n",
    "degree = chr(176)\n",
    "print(res, degree, sep = ''"
   ]
  },
  {
   "cell_type": "markdown",
   "id": "39da3175",
   "metadata": {},
   "source": [
    "- Mod Divmod"
   ]
  },
  {
   "cell_type": "code",
   "execution_count": null,
   "id": "72977290",
   "metadata": {},
   "outputs": [],
   "source": [
    "a, b = int(input()), int(input())\n",
    "print(f'{a//b}', f'{a%b}', f'{divmod(a, b)}', sep = '\\n')"
   ]
  },
  {
   "cell_type": "code",
   "execution_count": null,
   "id": "cdd382f5",
   "metadata": {},
   "outputs": [],
   "source": [
    "# 예시답안\n",
    "print('{0}\\n{1}\\n({0}, {1})'.format(*divmod(int(input()), int(input()))))"
   ]
  },
  {
   "cell_type": "markdown",
   "id": "409315da",
   "metadata": {},
   "source": [
    "- triangle quest 2"
   ]
  },
  {
   "cell_type": "code",
   "execution_count": 32,
   "id": "6bc95753",
   "metadata": {},
   "outputs": [
    {
     "data": {
      "text/plain": [
       "[0, 1, 2, 3, 4]"
      ]
     },
     "execution_count": 32,
     "metadata": {},
     "output_type": "execute_result"
    }
   ],
   "source": [
    "list(range(5))"
   ]
  },
  {
   "cell_type": "code",
   "execution_count": 33,
   "id": "7ec0e30f",
   "metadata": {},
   "outputs": [
    {
     "data": {
      "text/plain": [
       "range(3, 4)"
      ]
     },
     "execution_count": 33,
     "metadata": {},
     "output_type": "execute_result"
    }
   ],
   "source": [
    "range(5)[3:4]"
   ]
  },
  {
   "cell_type": "code",
   "execution_count": 36,
   "id": "9db2d10b",
   "metadata": {},
   "outputs": [
    {
     "data": {
      "text/plain": [
       "[3, 2, 1, 0]"
      ]
     },
     "execution_count": 36,
     "metadata": {},
     "output_type": "execute_result"
    }
   ],
   "source": [
    "list(range(5))[3::-1]"
   ]
  },
  {
   "cell_type": "code",
   "execution_count": 37,
   "id": "508ab2e2",
   "metadata": {},
   "outputs": [
    {
     "data": {
      "text/plain": [
       "[3, 2, 1]"
      ]
     },
     "execution_count": 37,
     "metadata": {},
     "output_type": "execute_result"
    }
   ],
   "source": [
    "list(range(1, 4))[4::-1]"
   ]
  },
  {
   "cell_type": "code",
   "execution_count": 41,
   "id": "f5000915",
   "metadata": {},
   "outputs": [
    {
     "data": {
      "text/plain": [
       "[1]"
      ]
     },
     "execution_count": 41,
     "metadata": {},
     "output_type": "execute_result"
    }
   ],
   "source": [
    "list(range(1, 2))"
   ]
  },
  {
   "cell_type": "code",
   "execution_count": 42,
   "id": "0d708fd8",
   "metadata": {},
   "outputs": [
    {
     "data": {
      "text/plain": [
       "[1, 2]"
      ]
     },
     "execution_count": 42,
     "metadata": {},
     "output_type": "execute_result"
    }
   ],
   "source": [
    "list(range(1, 3))"
   ]
  },
  {
   "cell_type": "code",
   "execution_count": 43,
   "id": "3f00feee",
   "metadata": {},
   "outputs": [
    {
     "data": {
      "text/plain": [
       "[1, 2, 3]"
      ]
     },
     "execution_count": 43,
     "metadata": {},
     "output_type": "execute_result"
    }
   ],
   "source": [
    "list(range(1, 4))"
   ]
  },
  {
   "cell_type": "code",
   "execution_count": 50,
   "id": "41ac4924",
   "metadata": {},
   "outputs": [
    {
     "data": {
      "text/plain": [
       "[2, 1]"
      ]
     },
     "execution_count": 50,
     "metadata": {},
     "output_type": "execute_result"
    }
   ],
   "source": [
    "list(range(1, 3))[::-1]"
   ]
  },
  {
   "cell_type": "markdown",
   "id": "938d65d3",
   "metadata": {},
   "source": [
    "# 입력 코드 (1)"
   ]
  },
  {
   "cell_type": "code",
   "execution_count": null,
   "id": "fb4bc518",
   "metadata": {},
   "outputs": [],
   "source": [
    "for i in range(1, int(input())+1):\n",
    "    print(list(range(1, i+1)).extend(list(range(1, i))[::-1]), sep = '')"
   ]
  },
  {
   "cell_type": "markdown",
   "id": "59a14c1e",
   "metadata": {},
   "source": [
    "## 'None' came out "
   ]
  },
  {
   "cell_type": "markdown",
   "id": "28193510",
   "metadata": {},
   "source": [
    "# 입력 코드 (2)"
   ]
  },
  {
   "cell_type": "code",
   "execution_count": null,
   "id": "4bcb4bed",
   "metadata": {},
   "outputs": [],
   "source": [
    "for i in range(1, int(input())+1):\n",
    "    print( list(range(1, i+1)) + list(range(1, i))[::-1])"
   ]
  },
  {
   "cell_type": "markdown",
   "id": "547f3a0f",
   "metadata": {},
   "source": [
    "## 리스트 자체가 came out"
   ]
  },
  {
   "cell_type": "markdown",
   "id": "1532fbd9",
   "metadata": {},
   "source": [
    "# 입력 코드 (3)"
   ]
  },
  {
   "cell_type": "code",
   "execution_count": 52,
   "id": "1dd6269c",
   "metadata": {},
   "outputs": [
    {
     "name": "stdout",
     "output_type": "stream",
     "text": [
      "4\n",
      "1\n",
      "121\n",
      "12321\n",
      "1234321\n"
     ]
    }
   ],
   "source": [
    "for i in range(1, int(input())+1):\n",
    "    print(*(list(range(1, i+1)) + list(range(1, i))[::-1]), sep = '')"
   ]
  },
  {
   "cell_type": "markdown",
   "id": "fcb20b68",
   "metadata": {},
   "source": [
    "## huh?  it says invalid string literal found "
   ]
  },
  {
   "cell_type": "code",
   "execution_count": 54,
   "id": "a1fdf671",
   "metadata": {},
   "outputs": [
    {
     "name": "stdout",
     "output_type": "stream",
     "text": [
      "5\n",
      "1\n",
      "121\n",
      "12321\n",
      "1234321\n",
      "123454321\n"
     ]
    }
   ],
   "source": [
    "for i in range(1, int(input())+1):\n",
    "    print(''.join(map(str, list(range(1, i+1)) + list(range(1, i))[::-1])))"
   ]
  },
  {
   "cell_type": "markdown",
   "id": "a099ebac",
   "metadata": {},
   "source": [
    "## string function is not allowed "
   ]
  },
  {
   "cell_type": "code",
   "execution_count": null,
   "id": "d9566230",
   "metadata": {},
   "outputs": [],
   "source": [
    "for i in range(1, int(input())+1):\n",
    "    print((j for j in range(1, j+1)) + [j for j in range(j-1, 0, -1)], end = '')"
   ]
  },
  {
   "cell_type": "markdown",
   "id": "aede1190",
   "metadata": {},
   "source": [
    "## it says j is not defined"
   ]
  },
  {
   "cell_type": "code",
   "execution_count": null,
   "id": "8557e9b7",
   "metadata": {},
   "outputs": [],
   "source": [
    "# 예시답안\n",
    "for x in range(1, int(input()) + 1):\n",
    "    print(((10**x -1)//9)**2)"
   ]
  }
 ],
 "metadata": {
  "kernelspec": {
   "display_name": "Python 3 (ipykernel)",
   "language": "python",
   "name": "python3"
  },
  "language_info": {
   "codemirror_mode": {
    "name": "ipython",
    "version": 3
   },
   "file_extension": ".py",
   "mimetype": "text/x-python",
   "name": "python",
   "nbconvert_exporter": "python",
   "pygments_lexer": "ipython3",
   "version": "3.9.7"
  }
 },
 "nbformat": 4,
 "nbformat_minor": 5
}
