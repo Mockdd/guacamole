{
 "cells": [
  {
   "cell_type": "code",
   "execution_count": 1,
   "id": "c35bcbb0",
   "metadata": {},
   "outputs": [
    {
     "data": {
      "text/plain": [
       "[[0, 0, 0],\n",
       " [0, 0, 1],\n",
       " [0, 0, 2],\n",
       " [0, 2, 0],\n",
       " [0, 2, 1],\n",
       " [0, 2, 2],\n",
       " [1, 0, 0],\n",
       " [1, 0, 1],\n",
       " [1, 0, 2],\n",
       " [1, 1, 0],\n",
       " [1, 1, 1],\n",
       " [1, 1, 2],\n",
       " [1, 2, 0],\n",
       " [1, 2, 1],\n",
       " [1, 2, 2],\n",
       " [2, 1, 0],\n",
       " [2, 1, 1],\n",
       " [2, 1, 2],\n",
       " [2, 2, 0],\n",
       " [2, 2, 1],\n",
       " [2, 2, 2]]"
      ]
     },
     "execution_count": 1,
     "metadata": {},
     "output_type": "execute_result"
    }
   ],
   "source": [
    "x = 2\n",
    "y = 2\n",
    "z = 2\n",
    "n = 2\n",
    "[[i, j, k] for i in range(x+1)\n",
    "    for j in range(y+1)\n",
    "    for k in range(z+1)\n",
    "    if (i+ j+ j) != n]"
   ]
  },
  {
   "cell_type": "markdown",
   "id": "09f17228",
   "metadata": {},
   "source": [
    "### list comprehension > 변수 정의 순서(최상 차원이 가장 먼저 풀려야 함 )"
   ]
  },
  {
   "cell_type": "code",
   "execution_count": 2,
   "id": "fc390e35",
   "metadata": {},
   "outputs": [],
   "source": [
    "List = list(range(5))"
   ]
  },
  {
   "cell_type": "code",
   "execution_count": 3,
   "id": "8c7be3c9",
   "metadata": {},
   "outputs": [
    {
     "data": {
      "text/plain": [
       "[0, 1, 2, 3, 4]"
      ]
     },
     "execution_count": 3,
     "metadata": {},
     "output_type": "execute_result"
    }
   ],
   "source": [
    "List"
   ]
  },
  {
   "cell_type": "code",
   "execution_count": 4,
   "id": "67f30344",
   "metadata": {},
   "outputs": [],
   "source": [
    "LList = [List, List]"
   ]
  },
  {
   "cell_type": "code",
   "execution_count": 5,
   "id": "46e2549a",
   "metadata": {},
   "outputs": [
    {
     "ename": "SyntaxError",
     "evalue": "invalid syntax (Temp/ipykernel_26124/913125992.py, line 1)",
     "output_type": "error",
     "traceback": [
      "\u001b[1;36m  File \u001b[1;32m\"C:\\Users\\AARONC~1\\AppData\\Local\\Temp/ipykernel_26124/913125992.py\"\u001b[1;36m, line \u001b[1;32m1\u001b[0m\n\u001b[1;33m    [x, y for x in LList for y in x]\u001b[0m\n\u001b[1;37m          ^\u001b[0m\n\u001b[1;31mSyntaxError\u001b[0m\u001b[1;31m:\u001b[0m invalid syntax\n"
     ]
    }
   ],
   "source": [
    "[x, y for x in LList for y in x]"
   ]
  },
  {
   "cell_type": "code",
   "execution_count": null,
   "id": "538134c5",
   "metadata": {},
   "outputs": [],
   "source": [
    "[(x, y) for x in LList for y in x]"
   ]
  },
  {
   "cell_type": "code",
   "execution_count": null,
   "id": "07c4258b",
   "metadata": {},
   "outputs": [],
   "source": [
    "[(x, y) for y in x for x in LLIst]"
   ]
  },
  {
   "cell_type": "markdown",
   "id": "070fc64c",
   "metadata": {},
   "source": [
    "- **Find the Runner Up Score!**"
   ]
  },
  {
   "cell_type": "code",
   "execution_count": null,
   "id": "51ab5da7",
   "metadata": {},
   "outputs": [],
   "source": [
    "n = 5\n",
    "arr = [3, 7, 8, 8, 4]"
   ]
  },
  {
   "cell_type": "code",
   "execution_count": null,
   "id": "e9e892e6",
   "metadata": {},
   "outputs": [],
   "source": [
    "sorted(arr)"
   ]
  },
  {
   "cell_type": "code",
   "execution_count": null,
   "id": "05ace7bb",
   "metadata": {},
   "outputs": [],
   "source": [
    "import numpy as np\n",
    "arr.argmax()"
   ]
  },
  {
   "cell_type": "code",
   "execution_count": null,
   "id": "fb687879",
   "metadata": {},
   "outputs": [],
   "source": [
    "np.argmax(arr)"
   ]
  },
  {
   "cell_type": "code",
   "execution_count": null,
   "id": "4420c189",
   "metadata": {},
   "outputs": [],
   "source": [
    "arr.sort()"
   ]
  },
  {
   "cell_type": "code",
   "execution_count": null,
   "id": "a40a5865",
   "metadata": {},
   "outputs": [],
   "source": [
    "arr"
   ]
  },
  {
   "cell_type": "code",
   "execution_count": null,
   "id": "06ba8d97",
   "metadata": {},
   "outputs": [],
   "source": [
    "arr.sort(desc = True)"
   ]
  },
  {
   "cell_type": "markdown",
   "id": "10840ead",
   "metadata": {},
   "source": [
    "### 정렬: sorted() 함수 .sort(reverse = False) 메서드\n",
    "### 원소와 리스트의 비교i int와 리스트는 안 됨"
   ]
  },
  {
   "cell_type": "code",
   "execution_count": null,
   "id": "64bb1dcb",
   "metadata": {},
   "outputs": [],
   "source": [
    "arr.sort(reverse = True)"
   ]
  },
  {
   "cell_type": "code",
   "execution_count": null,
   "id": "187827a0",
   "metadata": {},
   "outputs": [],
   "source": [
    "Lst = [x for x in arr if x != arr[np.argmax(arr)]]"
   ]
  },
  {
   "cell_type": "code",
   "execution_count": null,
   "id": "85e9fd9c",
   "metadata": {},
   "outputs": [],
   "source": [
    "np.max(Lst)"
   ]
  },
  {
   "cell_type": "code",
   "execution_count": null,
   "id": "8e3634d9",
   "metadata": {},
   "outputs": [],
   "source": [
    "### List에서 순위 찾기 \n",
    "### List에서 min, max 찾기"
   ]
  },
  {
   "cell_type": "code",
   "execution_count": null,
   "id": "7e2c0f2d",
   "metadata": {},
   "outputs": [],
   "source": [
    "arr[-1]"
   ]
  },
  {
   "cell_type": "code",
   "execution_count": null,
   "id": "d2bbce3b",
   "metadata": {},
   "outputs": [],
   "source": [
    "sorted(arr)[-1]"
   ]
  },
  {
   "cell_type": "code",
   "execution_count": null,
   "id": "c38c4956",
   "metadata": {},
   "outputs": [],
   "source": [
    "arr"
   ]
  },
  {
   "cell_type": "code",
   "execution_count": null,
   "id": "52262bfd",
   "metadata": {},
   "outputs": [],
   "source": [
    "arr.sort(reverse = True)"
   ]
  },
  {
   "cell_type": "raw",
   "id": "be663f62",
   "metadata": {},
   "source": [
    "n = len(arr)"
   ]
  },
  {
   "cell_type": "code",
   "execution_count": 6,
   "id": "fa10f6b7",
   "metadata": {},
   "outputs": [
    {
     "data": {
      "text/plain": [
       "2"
      ]
     },
     "execution_count": 6,
     "metadata": {},
     "output_type": "execute_result"
    }
   ],
   "source": [
    "n"
   ]
  },
  {
   "cell_type": "code",
   "execution_count": 7,
   "id": "1f217362",
   "metadata": {},
   "outputs": [
    {
     "ename": "NameError",
     "evalue": "name 'arr' is not defined",
     "output_type": "error",
     "traceback": [
      "\u001b[1;31m---------------------------------------------------------------------------\u001b[0m",
      "\u001b[1;31mNameError\u001b[0m                                 Traceback (most recent call last)",
      "\u001b[1;32mC:\\Users\\AARONC~1\\AppData\\Local\\Temp/ipykernel_26124/2193935074.py\u001b[0m in \u001b[0;36m<module>\u001b[1;34m\u001b[0m\n\u001b[0;32m      1\u001b[0m \u001b[1;32mfor\u001b[0m \u001b[0mi\u001b[0m \u001b[1;32min\u001b[0m \u001b[0mrange\u001b[0m\u001b[1;33m(\u001b[0m\u001b[0mn\u001b[0m\u001b[1;33m)\u001b[0m\u001b[1;33m:\u001b[0m\u001b[1;33m\u001b[0m\u001b[1;33m\u001b[0m\u001b[0m\n\u001b[1;32m----> 2\u001b[1;33m     \u001b[1;32mif\u001b[0m \u001b[0marr\u001b[0m\u001b[1;33m[\u001b[0m\u001b[0mi\u001b[0m\u001b[1;33m]\u001b[0m \u001b[1;33m<\u001b[0m \u001b[0marr\u001b[0m\u001b[1;33m[\u001b[0m\u001b[0mi\u001b[0m\u001b[1;33m-\u001b[0m\u001b[1;36m1\u001b[0m\u001b[1;33m]\u001b[0m\u001b[1;33m:\u001b[0m\u001b[1;33m\u001b[0m\u001b[1;33m\u001b[0m\u001b[0m\n\u001b[0m\u001b[0;32m      3\u001b[0m         \u001b[0mprint\u001b[0m\u001b[1;33m(\u001b[0m\u001b[0marr\u001b[0m\u001b[1;33m[\u001b[0m\u001b[0mi\u001b[0m\u001b[1;33m]\u001b[0m\u001b[1;33m)\u001b[0m\u001b[1;33m\u001b[0m\u001b[1;33m\u001b[0m\u001b[0m\n\u001b[0;32m      4\u001b[0m         \u001b[1;32mbreak\u001b[0m\u001b[1;33m\u001b[0m\u001b[1;33m\u001b[0m\u001b[0m\n",
      "\u001b[1;31mNameError\u001b[0m: name 'arr' is not defined"
     ]
    }
   ],
   "source": [
    "for i in range(n):\n",
    "    if arr[i] < arr[i-1]:\n",
    "        print(arr[i])\n",
    "        break"
   ]
  },
  {
   "cell_type": "markdown",
   "id": "249b907e",
   "metadata": {},
   "source": [
    "### 조건을 만족하는 것이 출력될 시 if문을 닫을 줄도 알아야 한다, which is keyword break`\n",
    "### map 함수의 출력 결과?"
   ]
  },
  {
   "cell_type": "code",
   "execution_count": null,
   "id": "87d2c471",
   "metadata": {},
   "outputs": [],
   "source": [
    "map(int, '3 9 0 2 1'.split())"
   ]
  },
  {
   "cell_type": "code",
   "execution_count": null,
   "id": "51a7e99d",
   "metadata": {},
   "outputs": [],
   "source": [
    "[x for x in map(int, '3 9 0 2 1'.split())]"
   ]
  },
  {
   "cell_type": "code",
   "execution_count": null,
   "id": "88b0f7b0",
   "metadata": {},
   "outputs": [],
   "source": [
    "for x in map(int, '3 9 0 2 1'.split()):\n",
    "    print(x)"
   ]
  },
  {
   "cell_type": "code",
   "execution_count": null,
   "id": "56780324",
   "metadata": {},
   "outputs": [],
   "source": [
    "list(map(int, '3 9 0 2 1'.split()))"
   ]
  },
  {
   "cell_type": "markdown",
   "id": "f700f443",
   "metadata": {},
   "source": [
    "### 어떤 변수를 끝까지 이용하는가?\n",
    "### 출력 결과가 변수에 저장되는가 원본 데이터를 복사해 반환되는가 "
   ]
  },
  {
   "cell_type": "markdown",
   "id": "e2e9163c",
   "metadata": {},
   "source": [
    "- **Nested List**\n",
    "- given the participants' score sheet for your university sports day, you are required to find the runner-up score. You are given n scores. Store them in a list and find the score of the runner-up"
   ]
  },
  {
   "cell_type": "markdown",
   "id": "8876a3a7",
   "metadata": {},
   "source": [
    "### ? 이게 뭘 의미하는지 전혀 모르겠음 .."
   ]
  },
  {
   "cell_type": "markdown",
   "id": "96175c6e",
   "metadata": {},
   "source": [
    "if __name__ == '__main__':\n",
    "    for _ in range(int(input())):\n",
    "        name = input()\n",
    "        score = float(input())"
   ]
  },
  {
   "cell_type": "code",
   "execution_count": null,
   "id": "4dccd9d7",
   "metadata": {},
   "outputs": [],
   "source": [
    "Input = '''5\n",
    "Harry\n",
    "37.21\n",
    "Berry\n",
    "37.21\n",
    "Tina\n",
    "37.2\n",
    "Ariti\n",
    "41\n",
    "Harsh\n",
    "39'''"
   ]
  },
  {
   "cell_type": "code",
   "execution_count": null,
   "id": "97e70802",
   "metadata": {},
   "outputs": [],
   "source": [
    "Input = Input.split()"
   ]
  },
  {
   "cell_type": "code",
   "execution_count": null,
   "id": "a2c23fec",
   "metadata": {},
   "outputs": [],
   "source": [
    "n = Input[0]"
   ]
  },
  {
   "cell_type": "code",
   "execution_count": null,
   "id": "a1d4dd77",
   "metadata": {
    "scrolled": true
   },
   "outputs": [],
   "source": [
    "\n",
    "Input = Input[1:]"
   ]
  },
  {
   "cell_type": "code",
   "execution_count": null,
   "id": "9f95bce2",
   "metadata": {},
   "outputs": [],
   "source": [
    "arr = np.array(Input)"
   ]
  },
  {
   "cell_type": "code",
   "execution_count": null,
   "id": "b1935483",
   "metadata": {
    "scrolled": true
   },
   "outputs": [],
   "source": [
    "arr = arr.reshape(int(n), 2)"
   ]
  },
  {
   "cell_type": "markdown",
   "id": "46284dfe",
   "metadata": {},
   "source": [
    "### arr 특정 열 기준으로 정렬하기 "
   ]
  },
  {
   "cell_type": "code",
   "execution_count": null,
   "id": "55aa410b",
   "metadata": {},
   "outputs": [],
   "source": [
    "arr"
   ]
  },
  {
   "cell_type": "code",
   "execution_count": null,
   "id": "e8836dcf",
   "metadata": {},
   "outputs": [],
   "source": [
    "arr.sort()"
   ]
  },
  {
   "cell_type": "code",
   "execution_count": null,
   "id": "44a6ba4d",
   "metadata": {},
   "outputs": [],
   "source": [
    "arr"
   ]
  },
  {
   "cell_type": "markdown",
   "id": "b704a978",
   "metadata": {},
   "source": [
    "### 문제는 nested list를 이용하라고 했다 ..\n",
    "### nested list 정렬 "
   ]
  },
  {
   "cell_type": "code",
   "execution_count": null,
   "id": "51f644f9",
   "metadata": {},
   "outputs": [],
   "source": [
    "Input"
   ]
  },
  {
   "cell_type": "code",
   "execution_count": null,
   "id": "ee5e9255",
   "metadata": {},
   "outputs": [],
   "source": [
    "[[x, Input[Input]] for x in Input[0::2] for y "
   ]
  },
  {
   "cell_type": "markdown",
   "id": "ce06a97d",
   "metadata": {},
   "source": [
    "#### sample answers"
   ]
  },
  {
   "cell_type": "code",
   "execution_count": null,
   "id": "55e1deca",
   "metadata": {},
   "outputs": [],
   "source": [
    "if name == 'main': dic = {} \n",
    "    for _ in range(int(input())):\n",
    "        name = input()\n",
    "        score = float(input())\n",
    "\n",
    "dic[name] = score\n",
    "keys_list = (list(dic.keys()))\n",
    "values_list = sorted((list(set(dic.values()))))\n",
    "actual_output=values_list[1]\n",
    "\n",
    "for i, j in sorted(dic.items()):\n",
    "    if actual_output == j:\n",
    "        print(i)"
   ]
  },
  {
   "cell_type": "markdown",
   "id": "ce31b175",
   "metadata": {},
   "source": [
    "### nested list를 dict로 보려는 노력 "
   ]
  },
  {
   "cell_type": "code",
   "execution_count": null,
   "id": "302b9f56",
   "metadata": {},
   "outputs": [],
   "source": [
    "if __name__ == '__main__':\n",
    "    students = []\n",
    "    for _ in range(int(input())):\n",
    "        name = input()\n",
    "        score = float(input())\n",
    "        students.append([name, score])\n",
    "    for s in sorted([s[0] for s in students if\n",
    "                   (s[1] == sorted(set([s[1] for s in students]))[1])]):\n",
    "        print(x)"
   ]
  },
  {
   "cell_type": "markdown",
   "id": "93fcd3a7",
   "metadata": {},
   "source": [
    "### nested list를 만들기 위해서 비어 있는 리스트를 만들기 "
   ]
  },
  {
   "cell_type": "code",
   "execution_count": null,
   "id": "f9336636",
   "metadata": {},
   "outputs": [],
   "source": [
    "if __name__ == '__main__':\n",
    "    records = []\n",
    "    scores = []\n",
    "    for _ in range(int(input())):\n",
    "        name = input()\n",
    "        score = float(input())\n",
    "        records.append([name, score])\n",
    "        scores.append(score)\n",
    "\n",
    "        scores = [score for score in scores if score != sorted(scores)[0]] # 이 라인에서 indentationError가 발생 unindent does not match any outer indentation level\n",
    "\n",
    "for record in records:\n",
    "    if record[1] == sorted(scores)[0]:\n",
    "        print(record[0])"
   ]
  },
  {
   "cell_type": "code",
   "execution_count": null,
   "id": "76eaa094",
   "metadata": {},
   "outputs": [],
   "source": [
    "scores = [30, 41.7, 21, 64.2, 421, 1, 6]\n",
    "scores = [score for score in scores if score != sorted(score)[0]]"
   ]
  },
  {
   "cell_type": "markdown",
   "id": "194c3da0",
   "metadata": {},
   "source": [
    "### 문제의 조건을 확인하자\n",
    "- 두번째로 낮은 성적을 받은 학생의 이름을 \n",
    "- 알파벳 오름차순으로 출력 "
   ]
  },
  {
   "cell_type": "code",
   "execution_count": null,
   "id": "1dfc509d",
   "metadata": {},
   "outputs": [],
   "source": [
    "if __name__ == '__main__':\n",
    "    records = []\n",
    "    scores = []\n",
    "    for _ in range(int(input())):\n",
    "        name = input()\n",
    "        score = float(input())\n",
    "        records.append([name, score])\n",
    "        scores.append(score)\n",
    "\n",
    "scores = [score for score in scores if score != sorted(scores)[0]]\n",
    "\n",
    "names = []\n",
    "for record in records:\n",
    "    if record[1] == sorted(scores)[0]:\n",
    "        names.append(record[0])\n",
    "names.sort()\n",
    "\n",
    "for i in names:\n",
    "    print(i)\n"
   ]
  },
  {
   "cell_type": "code",
   "execution_count": null,
   "id": "97138223",
   "metadata": {},
   "outputs": [],
   "source": [
    "if __name__ == '__main__':\n",
    "    records = []\n",
    "    scores = []\n",
    "    for _ in range(int(input())):\n",
    "        name = input()\n",
    "        score = float(input())\n",
    "        records.append([name, score])\n",
    "        scores.append(score)\n",
    "\n",
    "scores = [score for score in scores if score != sorted(scores)[0]]\n",
    "\n",
    "names = []\n",
    "for record in records:\n",
    "    if record[1] == sorted(scores)[0]:\n",
    "        names.append(record[0])\n",
    "names.sort()\n",
    "\n",
    "for i in names:\n",
    "    print(i for i in names)"
   ]
  },
  {
   "cell_type": "markdown",
   "id": "9487d9a1",
   "metadata": {},
   "source": [
    "### 예시답안 "
   ]
  },
  {
   "cell_type": "code",
   "execution_count": null,
   "id": "80f07d03",
   "metadata": {},
   "outputs": [],
   "source": [
    "marksheet = []\n",
    "for _ in range(0, int(input())):\n",
    "    marksheet.append([input(), float(input())])\n",
    "\n",
    "second_highest = sorted(list(set([marks for name, marks in marksheet])))[1]\n",
    "print('\\n'.join([a for a, b in sorted(marksheet) if b == second_highest]))"
   ]
  },
  {
   "cell_type": "markdown",
   "id": "31e1f488",
   "metadata": {},
   "source": [
    "### 변수를 명시적으로 활용하기"
   ]
  },
  {
   "cell_type": "markdown",
   "id": "0cbaff86",
   "metadata": {},
   "source": [
    "- **FInding the percentage**\n",
    "    - 주어진 학생의 점수 평균을 한 줄로 출력\n",
    "    - 소수점 둘째자리까지\n",
    "    "
   ]
  },
  {
   "cell_type": "code",
   "execution_count": null,
   "id": "dbafde2a",
   "metadata": {},
   "outputs": [],
   "source": [
    "if __name__ == '__main__':\n",
    "    n = int(input())\n",
    "    student_marks = {}\n",
    "    for _ in range(n):\n",
    "        name, *line = input().split()\n",
    "        scores = list(map(float, line))\n",
    "        student_marks[name] = scores\n",
    "    query_name = input()\n",
    "\n",
    "    print(f'student_marks[query_name].mean():.2f')"
   ]
  },
  {
   "cell_type": "code",
   "execution_count": 10,
   "id": "aa3818c0",
   "metadata": {},
   "outputs": [],
   "source": [
    "dic = dict({'a':[30, 70, 40], \n",
    "    'b':[6, 19, 6]})"
   ]
  },
  {
   "cell_type": "code",
   "execution_count": 11,
   "id": "4b010a25",
   "metadata": {},
   "outputs": [
    {
     "data": {
      "text/plain": [
       "[6, 19, 6]"
      ]
     },
     "execution_count": 11,
     "metadata": {},
     "output_type": "execute_result"
    }
   ],
   "source": [
    "dic['b']"
   ]
  },
  {
   "cell_type": "code",
   "execution_count": 14,
   "id": "d55365e1",
   "metadata": {},
   "outputs": [
    {
     "ename": "AttributeError",
     "evalue": "'list' object has no attribute 'mean'",
     "output_type": "error",
     "traceback": [
      "\u001b[1;31m---------------------------------------------------------------------------\u001b[0m",
      "\u001b[1;31mAttributeError\u001b[0m                            Traceback (most recent call last)",
      "\u001b[1;32mC:\\Users\\AARONC~1\\AppData\\Local\\Temp/ipykernel_26124/2635711405.py\u001b[0m in \u001b[0;36m<module>\u001b[1;34m\u001b[0m\n\u001b[1;32m----> 1\u001b[1;33m \u001b[0mdic\u001b[0m\u001b[1;33m[\u001b[0m\u001b[1;34m'b'\u001b[0m\u001b[1;33m]\u001b[0m\u001b[1;33m.\u001b[0m\u001b[0mmean\u001b[0m\u001b[1;33m(\u001b[0m\u001b[1;33m)\u001b[0m\u001b[1;33m\u001b[0m\u001b[1;33m\u001b[0m\u001b[0m\n\u001b[0m",
      "\u001b[1;31mAttributeError\u001b[0m: 'list' object has no attribute 'mean'"
     ]
    }
   ],
   "source": [
    "dic['b'].mean()"
   ]
  },
  {
   "cell_type": "code",
   "execution_count": 16,
   "id": "be840d76",
   "metadata": {},
   "outputs": [
    {
     "ename": "NameError",
     "evalue": "name 'np' is not defined",
     "output_type": "error",
     "traceback": [
      "\u001b[1;31m---------------------------------------------------------------------------\u001b[0m",
      "\u001b[1;31mNameError\u001b[0m                                 Traceback (most recent call last)",
      "\u001b[1;32mC:\\Users\\AARONC~1\\AppData\\Local\\Temp/ipykernel_26124/2863353985.py\u001b[0m in \u001b[0;36m<module>\u001b[1;34m\u001b[0m\n\u001b[1;32m----> 1\u001b[1;33m \u001b[0mnp\u001b[0m\u001b[1;33m.\u001b[0m\u001b[0mmean\u001b[0m\u001b[1;33m(\u001b[0m\u001b[0mdic\u001b[0m\u001b[1;33m[\u001b[0m\u001b[1;34m'b'\u001b[0m\u001b[1;33m]\u001b[0m\u001b[1;33m)\u001b[0m\u001b[1;33m\u001b[0m\u001b[1;33m\u001b[0m\u001b[0m\n\u001b[0m",
      "\u001b[1;31mNameError\u001b[0m: name 'np' is not defined"
     ]
    }
   ],
   "source": [
    "np.mean(dic['b'])"
   ]
  },
  {
   "cell_type": "markdown",
   "id": "a99713ba",
   "metadata": {},
   "source": [
    "### dict에서 key 이용해서 value 인출하는 거 \n",
    "### f-string '{문자열:포맷}'"
   ]
  },
  {
   "cell_type": "markdown",
   "id": "508dca87",
   "metadata": {},
   "source": [
    "- **merge the tools!**\n",
    "    - 부분집합 u를 만들어라\n",
    "        - s의 부분집합인 t의 부분집합으로 이루어져있다\n",
    "        - 모든 원소가 한 번만 쓰인다\n",
    "            - 부분집합 t는 s를 k 블럭으로 나눈 것이다\n"
   ]
  },
  {
   "cell_type": "code",
   "execution_count": 21,
   "id": "cb2b4806",
   "metadata": {},
   "outputs": [],
   "source": [
    "string = 'ABBDVAAAA'"
   ]
  },
  {
   "cell_type": "code",
   "execution_count": 22,
   "id": "cc750cd6",
   "metadata": {},
   "outputs": [
    {
     "data": {
      "text/plain": [
       "9"
      ]
     },
     "execution_count": 22,
     "metadata": {},
     "output_type": "execute_result"
    }
   ],
   "source": [
    "len(string)"
   ]
  },
  {
   "cell_type": "code",
   "execution_count": 26,
   "id": "2ad5ec17",
   "metadata": {},
   "outputs": [
    {
     "data": {
      "text/plain": [
       "['ABB', 'VAAAA']"
      ]
     },
     "execution_count": 26,
     "metadata": {},
     "output_type": "execute_result"
    }
   ],
   "source": [
    "string.split(string[3])"
   ]
  },
  {
   "cell_type": "code",
   "execution_count": 28,
   "id": "e771ea11",
   "metadata": {},
   "outputs": [
    {
     "data": {
      "text/plain": [
       "['', 'BBDV', '', '', '', '']"
      ]
     },
     "execution_count": 28,
     "metadata": {},
     "output_type": "execute_result"
    }
   ],
   "source": [
    "string.split(string[6])"
   ]
  },
  {
   "cell_type": "code",
   "execution_count": 29,
   "id": "015e44d3",
   "metadata": {},
   "outputs": [
    {
     "data": {
      "text/plain": [
       "'ABB'"
      ]
     },
     "execution_count": 29,
     "metadata": {},
     "output_type": "execute_result"
    }
   ],
   "source": [
    "string[:3]"
   ]
  },
  {
   "cell_type": "code",
   "execution_count": 31,
   "id": "666270d8",
   "metadata": {},
   "outputs": [
    {
     "data": {
      "text/plain": [
       "'DVA'"
      ]
     },
     "execution_count": 31,
     "metadata": {},
     "output_type": "execute_result"
    }
   ],
   "source": [
    "string[3:6]"
   ]
  },
  {
   "cell_type": "code",
   "execution_count": 32,
   "id": "8ac685e3",
   "metadata": {},
   "outputs": [
    {
     "data": {
      "text/plain": [
       "'AAA'"
      ]
     },
     "execution_count": 32,
     "metadata": {},
     "output_type": "execute_result"
    }
   ],
   "source": [
    "string[6:]"
   ]
  },
  {
   "cell_type": "code",
   "execution_count": 37,
   "id": "4cdd3a4c",
   "metadata": {},
   "outputs": [],
   "source": [
    "def merge_the_tools(string, k):\n",
    "    n = len(string)\n",
    "    for i in range(0, n, k):\n",
    "        if (i+k) <= n:\n",
    "            t = string[i:i+k]\n",
    "            s = set(t)\n",
    "            u = ''.join(s)\n",
    "            print(u)"
   ]
  },
  {
   "cell_type": "code",
   "execution_count": 38,
   "id": "9156483d",
   "metadata": {},
   "outputs": [
    {
     "name": "stdout",
     "output_type": "stream",
     "text": [
      "AB\n",
      "CP\n",
      "IZ\n"
     ]
    }
   ],
   "source": [
    "merge_the_tools('AABCCPIZI', 3)"
   ]
  },
  {
   "cell_type": "markdown",
   "id": "2ae51104",
   "metadata": {},
   "source": [
    "### 변수가 정의되었는지 여부\n",
    "### 변수 유형"
   ]
  },
  {
   "cell_type": "code",
   "execution_count": null,
   "id": "bc31d900",
   "metadata": {},
   "outputs": [],
   "source": []
  }
 ],
 "metadata": {
  "kernelspec": {
   "display_name": "Python 3 (ipykernel)",
   "language": "python",
   "name": "python3"
  },
  "language_info": {
   "codemirror_mode": {
    "name": "ipython",
    "version": 3
   },
   "file_extension": ".py",
   "mimetype": "text/x-python",
   "name": "python",
   "nbconvert_exporter": "python",
   "pygments_lexer": "ipython3",
   "version": "3.9.7"
  }
 },
 "nbformat": 4,
 "nbformat_minor": 5
}
