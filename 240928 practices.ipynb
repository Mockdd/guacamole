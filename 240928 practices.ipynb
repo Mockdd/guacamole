{
 "cells": [
  {
   "cell_type": "markdown",
   "id": "d076c4e8",
   "metadata": {},
   "source": [
    "- 문자열 정렬"
   ]
  },
  {
   "cell_type": "code",
   "execution_count": 2,
   "id": "3ddbbfe0",
   "metadata": {
    "scrolled": false
   },
   "outputs": [
    {
     "ename": "SyntaxError",
     "evalue": "invalid syntax (Temp/ipykernel_13488/4116961796.py, line 2)",
     "output_type": "error",
     "traceback": [
      "\u001b[1;36m  File \u001b[1;32m\"C:\\Users\\AARONC~1\\AppData\\Local\\Temp/ipykernel_13488/4116961796.py\"\u001b[1;36m, line \u001b[1;32m2\u001b[0m\n\u001b[1;33m    print 'HackerRank'.ljust(width, '-')\u001b[0m\n\u001b[1;37m          ^\u001b[0m\n\u001b[1;31mSyntaxError\u001b[0m\u001b[1;31m:\u001b[0m invalid syntax\n"
     ]
    }
   ],
   "source": [
    "width = 20\n",
    "print 'HackerRank'.ljust(width, '-')"
   ]
  },
  {
   "cell_type": "code",
   "execution_count": 3,
   "id": "13acf914",
   "metadata": {},
   "outputs": [
    {
     "data": {
      "text/plain": [
       "'HackerRank----------'"
      ]
     },
     "execution_count": 3,
     "metadata": {},
     "output_type": "execute_result"
    }
   ],
   "source": [
    "'HackerRank'.ljust(width, '-')"
   ]
  },
  {
   "cell_type": "code",
   "execution_count": 4,
   "id": "dcbb649b",
   "metadata": {},
   "outputs": [
    {
     "ename": "AttributeError",
     "evalue": "'str' object has no attribute 'cjust'",
     "output_type": "error",
     "traceback": [
      "\u001b[1;31m---------------------------------------------------------------------------\u001b[0m",
      "\u001b[1;31mAttributeError\u001b[0m                            Traceback (most recent call last)",
      "\u001b[1;32mC:\\Users\\AARONC~1\\AppData\\Local\\Temp/ipykernel_13488/2226978873.py\u001b[0m in \u001b[0;36m<module>\u001b[1;34m\u001b[0m\n\u001b[1;32m----> 1\u001b[1;33m \u001b[0mprint\u001b[0m\u001b[1;33m(\u001b[0m\u001b[1;34m'HackersRank'\u001b[0m\u001b[1;33m.\u001b[0m\u001b[0mcjust\u001b[0m\u001b[1;33m(\u001b[0m\u001b[0mwidth\u001b[0m\u001b[1;33m,\u001b[0m \u001b[1;34m'.'\u001b[0m\u001b[1;33m)\u001b[0m\u001b[1;33m)\u001b[0m\u001b[1;33m\u001b[0m\u001b[1;33m\u001b[0m\u001b[0m\n\u001b[0m",
      "\u001b[1;31mAttributeError\u001b[0m: 'str' object has no attribute 'cjust'"
     ]
    }
   ],
   "source": [
    "print('HackersRank'.cjust(width, '.'))"
   ]
  },
  {
   "cell_type": "code",
   "execution_count": 7,
   "id": "db2abe7e",
   "metadata": {},
   "outputs": [
    {
     "name": "stdout",
     "output_type": "stream",
     "text": [
      "....HackersRank.....\n"
     ]
    }
   ],
   "source": [
    "print('HackersRank'.center(width, '.'))"
   ]
  },
  {
   "cell_type": "code",
   "execution_count": 8,
   "id": "8772acc8",
   "metadata": {},
   "outputs": [
    {
     "ename": "SyntaxError",
     "evalue": "invalid syntax (Temp/ipykernel_13488/1266771126.py, line 2)",
     "output_type": "error",
     "traceback": [
      "\u001b[1;36m  File \u001b[1;32m\"C:\\Users\\AARONC~1\\AppData\\Local\\Temp/ipykernel_13488/1266771126.py\"\u001b[1;36m, line \u001b[1;32m2\u001b[0m\n\u001b[1;33m    print('H'*(2i+1).center(' '))\u001b[0m\n\u001b[1;37m                ^\u001b[0m\n\u001b[1;31mSyntaxError\u001b[0m\u001b[1;31m:\u001b[0m invalid syntax\n"
     ]
    }
   ],
   "source": [
    "for i in len(range(5)):\n",
    "    print('H'*(2i+1).center(' '))"
   ]
  },
  {
   "cell_type": "code",
   "execution_count": 12,
   "id": "bf1200ab",
   "metadata": {},
   "outputs": [
    {
     "ename": "TypeError",
     "evalue": "'str' object cannot be interpreted as an integer",
     "output_type": "error",
     "traceback": [
      "\u001b[1;31m---------------------------------------------------------------------------\u001b[0m",
      "\u001b[1;31mTypeError\u001b[0m                                 Traceback (most recent call last)",
      "\u001b[1;32mC:\\Users\\AARONC~1\\AppData\\Local\\Temp/ipykernel_13488/1276569219.py\u001b[0m in \u001b[0;36m<module>\u001b[1;34m\u001b[0m\n\u001b[0;32m      1\u001b[0m \u001b[1;32mfor\u001b[0m \u001b[0mi\u001b[0m \u001b[1;32min\u001b[0m \u001b[0mrange\u001b[0m\u001b[1;33m(\u001b[0m\u001b[1;36m5\u001b[0m\u001b[1;33m)\u001b[0m\u001b[1;33m:\u001b[0m\u001b[1;33m\u001b[0m\u001b[1;33m\u001b[0m\u001b[0m\n\u001b[1;32m----> 2\u001b[1;33m     \u001b[0mprint\u001b[0m\u001b[1;33m(\u001b[0m\u001b[1;33m(\u001b[0m\u001b[1;34m'H'\u001b[0m\u001b[1;33m*\u001b[0m\u001b[1;33m(\u001b[0m\u001b[1;36m2\u001b[0m\u001b[1;33m*\u001b[0m\u001b[0mi\u001b[0m\u001b[1;33m+\u001b[0m\u001b[1;36m1\u001b[0m\u001b[1;33m)\u001b[0m\u001b[1;33m)\u001b[0m\u001b[1;33m.\u001b[0m\u001b[0mcenter\u001b[0m\u001b[1;33m(\u001b[0m\u001b[1;34m' '\u001b[0m\u001b[1;33m)\u001b[0m\u001b[1;33m)\u001b[0m\u001b[1;33m\u001b[0m\u001b[1;33m\u001b[0m\u001b[0m\n\u001b[0m",
      "\u001b[1;31mTypeError\u001b[0m: 'str' object cannot be interpreted as an integer"
     ]
    }
   ],
   "source": [
    "for i in range(5):\n",
    "    print(('H'*(2*i+1)).center(' '))"
   ]
  },
  {
   "cell_type": "code",
   "execution_count": 13,
   "id": "06273722",
   "metadata": {},
   "outputs": [
    {
     "name": "stdout",
     "output_type": "stream",
     "text": [
      "0\n",
      "1\n",
      "2\n",
      "3\n",
      "4\n"
     ]
    }
   ],
   "source": [
    "for i in range(5):\n",
    "    print(i)"
   ]
  },
  {
   "cell_type": "code",
   "execution_count": 15,
   "id": "50526d1b",
   "metadata": {},
   "outputs": [
    {
     "name": "stdout",
     "output_type": "stream",
     "text": [
      "1\n",
      "3\n",
      "5\n",
      "7\n",
      "9\n"
     ]
    }
   ],
   "source": [
    "for i in range(5):\n",
    "    print(2*i+1)"
   ]
  },
  {
   "cell_type": "code",
   "execution_count": 16,
   "id": "4d2e79f6",
   "metadata": {},
   "outputs": [
    {
     "name": "stdout",
     "output_type": "stream",
     "text": [
      "H\n",
      "HHH\n",
      "HHHHH\n",
      "HHHHHHH\n",
      "HHHHHHHHH\n"
     ]
    }
   ],
   "source": [
    "for i in range(5):\n",
    "    print('H'*(2*i+1))"
   ]
  },
  {
   "cell_type": "code",
   "execution_count": 19,
   "id": "f084d45c",
   "metadata": {},
   "outputs": [
    {
     "name": "stdout",
     "output_type": "stream",
     "text": [
      "              H               \n",
      "             HHH              \n",
      "            HHHHH             \n",
      "           HHHHHHH            \n",
      "          HHHHHHHHH           \n"
     ]
    }
   ],
   "source": [
    "for i in range(5):\n",
    "    print(('H'*(2*i+1)).center(30))"
   ]
  },
  {
   "cell_type": "code",
   "execution_count": 21,
   "id": "d192e08e",
   "metadata": {},
   "outputs": [
    {
     "name": "stdout",
     "output_type": "stream",
     "text": [
      "H----------------------------- -----------------------------H\n"
     ]
    }
   ],
   "source": [
    "print('H'.ljust(30, '-'), 'H'.rjust(30, '-'))"
   ]
  },
  {
   "cell_type": "code",
   "execution_count": 22,
   "id": "bcc805e7",
   "metadata": {},
   "outputs": [
    {
     "name": "stdout",
     "output_type": "stream",
     "text": [
      "     HHHHH          HHHHH     \n"
     ]
    }
   ],
   "source": [
    "print((('H'*5).center(15))*2)"
   ]
  },
  {
   "cell_type": "code",
   "execution_count": 25,
   "id": "1751e950",
   "metadata": {},
   "outputs": [
    {
     "name": "stdout",
     "output_type": "stream",
     "text": [
      "\n",
      "    H     \n",
      "   HHH    \n",
      "  HHHHH   \n",
      " HHHHHHH  \n",
      "HHHHHHHHH \n"
     ]
    }
   ],
   "source": [
    "string = ''\n",
    "strings = ''\n",
    "n = 5\n",
    "for i in range(n*5):\n",
    "    if i <= 4:\n",
    "        piece = ('H'*(2*i+1)).center(10)\n",
    "        strings += '\\n'.join([string, piece])\n",
    "print(strings)"
   ]
  },
  {
   "cell_type": "code",
   "execution_count": 26,
   "id": "1b358ff6",
   "metadata": {},
   "outputs": [
    {
     "data": {
      "text/plain": [
       "'\\n    H     \\n   HHH    \\n  HHHHH   \\n HHHHHHH  \\nHHHHHHHHH '"
      ]
     },
     "execution_count": 26,
     "metadata": {},
     "output_type": "execute_result"
    }
   ],
   "source": [
    "strings"
   ]
  },
  {
   "cell_type": "code",
   "execution_count": 31,
   "id": "280af328",
   "metadata": {},
   "outputs": [
    {
     "name": "stdout",
     "output_type": "stream",
     "text": [
      "    H     \n",
      "   HHH    \n",
      "  HHHHH   \n",
      " HHHHHHH  \n",
      "HHHHHHHHH                      \n"
     ]
    }
   ],
   "source": [
    "print(strings.strip('\\n'), ' '*20)"
   ]
  },
  {
   "cell_type": "code",
   "execution_count": 29,
   "id": "9fdfe0a3",
   "metadata": {},
   "outputs": [
    {
     "data": {
      "text/plain": [
       "' HHHHHHHHH\\n  HHHHHHH \\n   HHHHH  \\n    HHH   \\n     H    \\n'"
      ]
     },
     "execution_count": 29,
     "metadata": {},
     "output_type": "execute_result"
    }
   ],
   "source": [
    "strings[::-1]"
   ]
  },
  {
   "cell_type": "code",
   "execution_count": 32,
   "id": "be2d0572",
   "metadata": {},
   "outputs": [
    {
     "name": "stdout",
     "output_type": "stream",
     "text": [
      "                      HHHHHHHHH\n",
      "  HHHHHHH \n",
      "   HHHHH  \n",
      "    HHH   \n",
      "     H    \n",
      "\n"
     ]
    }
   ],
   "source": [
    "print(' '*20, strings[::-1])"
   ]
  },
  {
   "cell_type": "code",
   "execution_count": 33,
   "id": "158c691a",
   "metadata": {},
   "outputs": [
    {
     "data": {
      "text/plain": [
       "0"
      ]
     },
     "execution_count": 33,
     "metadata": {},
     "output_type": "execute_result"
    }
   ],
   "source": [
    "4 // 5"
   ]
  },
  {
   "cell_type": "code",
   "execution_count": 34,
   "id": "7e1d8e8f",
   "metadata": {},
   "outputs": [
    {
     "data": {
      "text/plain": [
       "1"
      ]
     },
     "execution_count": 34,
     "metadata": {},
     "output_type": "execute_result"
    }
   ],
   "source": [
    "4 // 4"
   ]
  },
  {
   "cell_type": "code",
   "execution_count": 35,
   "id": "18716b5a",
   "metadata": {},
   "outputs": [
    {
     "data": {
      "text/plain": [
       "1"
      ]
     },
     "execution_count": 35,
     "metadata": {},
     "output_type": "execute_result"
    }
   ],
   "source": [
    "4 // 3"
   ]
  },
  {
   "cell_type": "code",
   "execution_count": 37,
   "id": "56918dfe",
   "metadata": {},
   "outputs": [
    {
     "name": "stdout",
     "output_type": "stream",
     "text": [
      "0\n",
      "1\n",
      "2\n",
      "3\n",
      "4\n",
      "5\n"
     ]
    }
   ],
   "source": [
    "for i in range(20 // 3):\n",
    "    print(i)"
   ]
  },
  {
   "cell_type": "markdown",
   "id": "b18bd994",
   "metadata": {},
   "source": [
    "- Text wrap"
   ]
  },
  {
   "cell_type": "code",
   "execution_count": 41,
   "id": "375e4f34",
   "metadata": {},
   "outputs": [],
   "source": [
    "def wrap(string, max_width):\n",
    "    strings = ''\n",
    "    for i in range(len(string) // max_width):\n",
    "        letters = string[i:i+4]\n",
    "        strings += (letters + '\\n')\n",
    "    print(strings)\n",
    "    return strings"
   ]
  },
  {
   "cell_type": "code",
   "execution_count": 42,
   "id": "dbbcfda7",
   "metadata": {},
   "outputs": [
    {
     "name": "stdout",
     "output_type": "stream",
     "text": [
      "rhes\n",
      "hesk\n",
      "eska\n",
      "skal\n",
      "kalq\n",
      "alqk\n",
      "\n"
     ]
    },
    {
     "data": {
      "text/plain": [
       "'rhes\\nhesk\\neska\\nskal\\nkalq\\nalqk\\n'"
      ]
     },
     "execution_count": 42,
     "metadata": {},
     "output_type": "execute_result"
    }
   ],
   "source": [
    "wrap('rheskalqkjh12ykdhsa', 3)"
   ]
  },
  {
   "cell_type": "markdown",
   "id": "0e24387e",
   "metadata": {},
   "source": [
    "### iterate 되는 i에 집중하기 ## 0 다음에 3이 아니라 1임"
   ]
  },
  {
   "cell_type": "code",
   "execution_count": 44,
   "id": "d890eb5c",
   "metadata": {},
   "outputs": [],
   "source": [
    "def wrap(string, max_width):\n",
    "    strings = ''\n",
    "    for i in range(len(string), \n",
    "                   max_width):\n",
    "        letters = string[i:i+4]\n",
    "        strings += (letters + '\\n')\n",
    "    print(strings)\n",
    "    return strings"
   ]
  },
  {
   "cell_type": "code",
   "execution_count": 46,
   "id": "2939c151",
   "metadata": {},
   "outputs": [
    {
     "name": "stdout",
     "output_type": "stream",
     "text": [
      "\n"
     ]
    },
    {
     "data": {
      "text/plain": [
       "''"
      ]
     },
     "execution_count": 46,
     "metadata": {},
     "output_type": "execute_result"
    }
   ],
   "source": [
    "wrap('ABCDEOASJHAGKJHSSKA', 4)"
   ]
  },
  {
   "cell_type": "code",
   "execution_count": 47,
   "id": "3bc17150",
   "metadata": {},
   "outputs": [],
   "source": [
    "for i in range(len('dfskajhfw3'), 3):\n",
    "    print(i)"
   ]
  },
  {
   "cell_type": "code",
   "execution_count": 48,
   "id": "51de351a",
   "metadata": {},
   "outputs": [
    {
     "data": {
      "text/plain": [
       "range(30, 3)"
      ]
     },
     "execution_count": 48,
     "metadata": {},
     "output_type": "execute_result"
    }
   ],
   "source": [
    "range(30, 3)"
   ]
  },
  {
   "cell_type": "code",
   "execution_count": 49,
   "id": "704d0794",
   "metadata": {},
   "outputs": [
    {
     "data": {
      "text/plain": [
       "[]"
      ]
     },
     "execution_count": 49,
     "metadata": {},
     "output_type": "execute_result"
    }
   ],
   "source": [
    "list(range(30, 3))"
   ]
  },
  {
   "cell_type": "code",
   "execution_count": 50,
   "id": "5f6a5373",
   "metadata": {},
   "outputs": [
    {
     "ename": "TypeError",
     "evalue": "range() takes no keyword arguments",
     "output_type": "error",
     "traceback": [
      "\u001b[1;31m---------------------------------------------------------------------------\u001b[0m",
      "\u001b[1;31mTypeError\u001b[0m                                 Traceback (most recent call last)",
      "\u001b[1;32mC:\\Users\\AARONC~1\\AppData\\Local\\Temp/ipykernel_13488/2625517316.py\u001b[0m in \u001b[0;36m<module>\u001b[1;34m\u001b[0m\n\u001b[1;32m----> 1\u001b[1;33m \u001b[0mlist\u001b[0m\u001b[1;33m(\u001b[0m\u001b[0mrange\u001b[0m\u001b[1;33m(\u001b[0m\u001b[1;36m30\u001b[0m\u001b[1;33m,\u001b[0m \u001b[0mby\u001b[0m \u001b[1;33m=\u001b[0m \u001b[1;36m3\u001b[0m\u001b[1;33m)\u001b[0m\u001b[1;33m)\u001b[0m\u001b[1;33m\u001b[0m\u001b[1;33m\u001b[0m\u001b[0m\n\u001b[0m",
      "\u001b[1;31mTypeError\u001b[0m: range() takes no keyword arguments"
     ]
    }
   ],
   "source": [
    "list(range(30, by = 3))"
   ]
  },
  {
   "cell_type": "code",
   "execution_count": 52,
   "id": "dc861ee6",
   "metadata": {},
   "outputs": [
    {
     "name": "stdout",
     "output_type": "stream",
     "text": [
      "0\n",
      "3\n",
      "6\n",
      "9\n"
     ]
    }
   ],
   "source": [
    "for i in range(0, len('fdskjahwkj'), 3):\n",
    "    print(i)"
   ]
  },
  {
   "cell_type": "markdown",
   "id": "419999a2",
   "metadata": {},
   "source": [
    "### range 함수에서 by 키워드를 정할 수는 없다 \n",
    "### 시작하는 index를 0이라고 적어줘야 마지막에 적은 숫자가 by 키워드의 기능을 한다 "
   ]
  },
  {
   "cell_type": "markdown",
   "id": "fcdd0c40",
   "metadata": {},
   "source": [
    "### 변수를 바꿀 때 > 다 바꿔야 한다!!!\n",
    "### 어느 게 변수이고 어느 게 상수인가?"
   ]
  },
  {
   "cell_type": "markdown",
   "id": "e6fbc04a",
   "metadata": {},
   "source": [
    "- string formatting (진법)"
   ]
  },
  {
   "cell_type": "code",
   "execution_count": 67,
   "id": "58060e93",
   "metadata": {},
   "outputs": [
    {
     "name": "stdout",
     "output_type": "stream",
     "text": [
      "1 1 1 \n",
      " 2 2 10 \n",
      " 3 3 11 \n",
      " 4 4 100 \n",
      " 5 5 101 \n",
      " 6 6 110 \n",
      " 7 7 111 \n",
      " 8 1 1000 \n",
      " 9 11 1001 \n",
      " 10 12 1010 \n",
      " 11 13 1011 \n",
      " 12 14 1100 \n",
      " 13 15 1101 \n",
      " 14 16 1110 \n",
      " 15 17 1111 \n",
      " 16 2 10000 \n",
      " 17 21 10001 \n",
      " 18 22 10010 \n",
      " 19 23 10011 \n",
      " 20 24 10100 \n",
      " 21 25 10101 \n",
      " 22 26 10110 \n",
      " 23 27 10111 \n",
      " 24 3 11000 \n",
      " 25 31 11001 \n",
      " 26 32 11010 \n",
      " 27 33 11011 \n",
      " 28 34 11100 \n",
      " 29 35 11101 \n",
      " 30 36 11110 \n",
      "\n"
     ]
    }
   ],
   "source": [
    "List = []\n",
    "for i in range(1, 31):\n",
    "    List.append(str(i))\n",
    "    x = i // 64\n",
    "    y = (i-64*x) // 32\n",
    "    z = (i-64*x- 32*y) // 16\n",
    "    w = (i-64*x- 32*y - 16*z) // 8\n",
    "    j = (i-64*x- 32*y - 16*z - 8*w) // 4\n",
    "    k = (i-64*x- 32*y - 16*z - 8*w - 4*j) // 2\n",
    "    l = (i-64*x- 32*y - 16*z - 8*w - 4*j - 2*k) // 1\n",
    "    List.append(''.join([str(x), \n",
    "                         str((32*y+16*z+8*w) // 8), \n",
    "                         str((4*j+2*k+1*l))]).strip('0'))\n",
    "    List.append(''.join([str(x), \n",
    "                        str(y), \n",
    "                        str(z), \n",
    "                        str(w), \n",
    "                        str(j), \n",
    "                        str(k), \n",
    "                        str(l)]).lstrip('0'))\n",
    "    List.append('\\n')\n",
    "print(' '.join(List))"
   ]
  },
  {
   "cell_type": "code",
   "execution_count": 56,
   "id": "92da910a",
   "metadata": {},
   "outputs": [
    {
     "name": "stdout",
     "output_type": "stream",
     "text": [
      "[1, 2, 3, 4, 5, 6, 7, 8, 9, 10, 11, 12, 13, 14, 15, 16, 17, 18, 19, 20, 21, 22, 23, 24, 25, 26, 27, 28, 29, 30]\n"
     ]
    }
   ],
   "source": [
    "List = []\n",
    "for i in range(1, 31):\n",
    "    List.append(i)\n",
    "print(List)"
   ]
  },
  {
   "cell_type": "code",
   "execution_count": 57,
   "id": "e12490d0",
   "metadata": {},
   "outputs": [
    {
     "name": "stdout",
     "output_type": "stream",
     "text": [
      "['1', '2', '3', '4', '5', '6', '7', '8', '9', '10', '11', '12', '13', '14', '15', '16', '17', '18', '19', '20', '21', '22', '23', '24', '25', '26', '27', '28', '29', '30']\n"
     ]
    }
   ],
   "source": [
    "List = []\n",
    "for i in range(1, 31):\n",
    "    List.append(str(i))\n",
    "print(List)"
   ]
  },
  {
   "cell_type": "code",
   "execution_count": 59,
   "id": "3d4c32ab",
   "metadata": {},
   "outputs": [
    {
     "name": "stdout",
     "output_type": "stream",
     "text": [
      "1 2 3 4 5 6 7 8 9 10 11 12 13 14 15 16 17 18 19 20 21 22 23 24 25 26 27 28 29 30\n"
     ]
    }
   ],
   "source": [
    "List = []\n",
    "for i in range(1, 31):\n",
    "    List.append(str(i))\n",
    "print(' '.join(List))"
   ]
  },
  {
   "cell_type": "code",
   "execution_count": 72,
   "id": "3cc691e0",
   "metadata": {},
   "outputs": [
    {
     "name": "stdout",
     "output_type": "stream",
     "text": [
      "1 1 002 1 \n",
      " 2 2 004 10 \n",
      " 3 3 006 11 \n",
      " 4 4 008 100 \n",
      " 5 5 0010 101 \n",
      " 6 6 0012 110 \n",
      " 7 7 0014 111 \n",
      " 8 1 000 1000 \n",
      " 9 11 002 1001 \n",
      " 10 12 004 1010 \n",
      " 11 13 006 1011 \n",
      " 12 14 008 1100 \n",
      " 13 15 0010 1101 \n",
      " 14 16 0012 1110 \n",
      " 15 17 0014 1111 \n",
      " 16 2 200 10000 \n",
      " 17 21 202 10001 \n",
      " 18 22 204 10010 \n",
      " 19 23 206 10011 \n",
      " 20 24 208 10100 \n",
      " 21 25 2010 10101 \n",
      " 22 26 2012 10110 \n",
      " 23 27 2014 10111 \n",
      " 24 3 200 11000 \n",
      " 25 31 202 11001 \n",
      " 26 32 204 11010 \n",
      " 27 33 206 11011 \n",
      " 28 34 208 11100 \n",
      " 29 35 2010 11101 \n",
      " 30 36 2012 11110 \n",
      " 31 37 2014 11111 \n",
      " 32 4 400 100000 \n",
      " 33 41 402 100001 \n",
      " 34 42 404 100010 \n",
      " 35 43 406 100011 \n",
      " 36 44 408 100100 \n",
      " 37 45 4010 100101 \n",
      " 38 46 4012 100110 \n",
      " 39 47 4014 100111 \n",
      " 40 5 400 101000 \n",
      " 41 51 402 101001 \n",
      " 42 52 404 101010 \n",
      " 43 53 406 101011 \n",
      " 44 54 408 101100 \n",
      " 45 55 4010 101101 \n",
      " 46 56 4012 101110 \n",
      " 47 57 4014 101111 \n",
      " 48 6 600 110000 \n",
      " 49 61 602 110001 \n",
      " 50 62 604 110010 \n",
      " 51 63 606 110011 \n",
      " 52 64 608 110100 \n",
      " 53 65 6010 110101 \n",
      " 54 66 6012 110110 \n",
      " 55 67 6014 110111 \n",
      " 56 7 600 111000 \n",
      " 57 71 602 111001 \n",
      " 58 72 604 111010 \n",
      " 59 73 606 111011 \n",
      " 60 74 608 111100 \n",
      " 61 75 6010 111101 \n",
      " 62 76 6012 111110 \n",
      " 63 77 6014 111111 \n",
      " 64 1 800 1000000 \n",
      " 65 101 802 1000001 \n",
      " 66 102 804 1000010 \n",
      " 67 103 806 1000011 \n",
      " 68 104 808 1000100 \n",
      " 69 105 8010 1000101 \n",
      " 70 106 8012 1000110 \n",
      " 71 107 8014 1000111 \n",
      " 72 11 800 1001000 \n",
      " 73 111 802 1001001 \n",
      " 74 112 804 1001010 \n",
      " 75 113 806 1001011 \n",
      " 76 114 808 1001100 \n",
      " 77 115 8010 1001101 \n",
      " 78 116 8012 1001110 \n",
      " 79 117 8014 1001111 \n",
      " 80 12 1000 1010000 \n",
      " 81 121 1002 1010001 \n",
      " 82 122 1004 1010010 \n",
      " 83 123 1006 1010011 \n",
      " 84 124 1008 1010100 \n",
      " 85 125 10010 1010101 \n",
      " 86 126 10012 1010110 \n",
      " 87 127 10014 1010111 \n",
      " 88 13 1000 1011000 \n",
      " 89 131 1002 1011001 \n",
      " 90 132 1004 1011010 \n",
      " 91 133 1006 1011011 \n",
      " 92 134 1008 1011100 \n",
      " 93 135 10010 1011101 \n",
      " 94 136 10012 1011110 \n",
      " 95 137 10014 1011111 \n",
      " 96 14 1200 1100000 \n",
      " 97 141 1202 1100001 \n",
      " 98 142 1204 1100010 \n",
      " 99 143 1206 1100011 \n",
      "\n"
     ]
    }
   ],
   "source": [
    "List = []\n",
    "number = 99\n",
    "for i in range(1, (number+1)):\n",
    "    List.append(str(i))\n",
    "    x = i // 64\n",
    "    y = (i-64*x) // 32\n",
    "    z = (i-64*x- 32*y) // 16\n",
    "    w = (i-64*x- 32*y - 16*z) // 8\n",
    "    j = (i-64*x- 32*y - 16*z - 8*w) // 4\n",
    "    k = (i-64*x- 32*y - 16*z - 8*w - 4*j) // 2\n",
    "    l = (i-64*x- 32*y - 16*z - 8*w - 4*j - 2*k) // 1\n",
    "    List.append(''.join([str(x), \n",
    "                         str((32*y+16*z+8*w) // 8), \n",
    "                         str((4*j+2*k+1*l))]).strip('0'))\n",
    "    List.append(''.join([str(8*x+4*y+2*z),\n",
    "                         str(0),str(8*j + 4*k + 2*l)]))                \n",
    "    List.append(''.join([str(x), \n",
    "                        str(y), \n",
    "                        str(z), \n",
    "                        str(w), \n",
    "                        str(j), \n",
    "                        str(k), \n",
    "                        str(l)]).lstrip('0'))\n",
    "    List.append('\\n')\n",
    "print(' '.join(List))\n"
   ]
  },
  {
   "cell_type": "markdown",
   "id": "af0a0f70",
   "metadata": {},
   "source": [
    "### 위에 코드 실행했을 때 왜 두번째 줄부터 head에 ' ' 나오는지 모르겠음 .."
   ]
  },
  {
   "cell_type": "markdown",
   "id": "c3a3151a",
   "metadata": {},
   "source": [
    "### 조건에 따라 실행되는 함수 다르게 하는 법 \n",
    "> if문\n",
    "> ?? "
   ]
  },
  {
   "cell_type": "code",
   "execution_count": 69,
   "id": "ab85b16f",
   "metadata": {},
   "outputs": [
    {
     "data": {
      "text/plain": [
       "'B'"
      ]
     },
     "execution_count": 69,
     "metadata": {},
     "output_type": "execute_result"
    }
   ],
   "source": [
    "'ABCDE'[1]"
   ]
  },
  {
   "cell_type": "markdown",
   "id": "d17a4c72",
   "metadata": {},
   "source": [
    "### 왜 0을 넣어야 한다고 생각했을까?\n",
    "### 십육진법을 계산할 때 이진법 숫자를 생각해서 그렇다 "
   ]
  },
  {
   "cell_type": "code",
   "execution_count": 73,
   "id": "4642b1f2",
   "metadata": {},
   "outputs": [
    {
     "name": "stdout",
     "output_type": "stream",
     "text": [
      "1 1 02 1 \n",
      " 2 2 04 10 \n",
      " 3 3 06 11 \n",
      " 4 4 08 100 \n",
      " 5 5 010 101 \n",
      " 6 6 012 110 \n",
      " 7 7 014 111 \n",
      " 8 1 00 1000 \n",
      " 9 11 02 1001 \n",
      " 10 12 04 1010 \n",
      " 11 13 06 1011 \n",
      " 12 14 08 1100 \n",
      " 13 15 010 1101 \n",
      " 14 16 012 1110 \n",
      " 15 17 014 1111 \n",
      " 16 2 20 10000 \n",
      " 17 21 22 10001 \n",
      " 18 22 24 10010 \n",
      " 19 23 26 10011 \n",
      " 20 24 28 10100 \n",
      " 21 25 210 10101 \n",
      " 22 26 212 10110 \n",
      " 23 27 214 10111 \n",
      " 24 3 20 11000 \n",
      " 25 31 22 11001 \n",
      " 26 32 24 11010 \n",
      " 27 33 26 11011 \n",
      " 28 34 28 11100 \n",
      " 29 35 210 11101 \n",
      " 30 36 212 11110 \n",
      " 31 37 214 11111 \n",
      " 32 4 40 100000 \n",
      " 33 41 42 100001 \n",
      " 34 42 44 100010 \n",
      " 35 43 46 100011 \n",
      " 36 44 48 100100 \n",
      " 37 45 410 100101 \n",
      " 38 46 412 100110 \n",
      " 39 47 414 100111 \n",
      " 40 5 40 101000 \n",
      " 41 51 42 101001 \n",
      " 42 52 44 101010 \n",
      " 43 53 46 101011 \n",
      " 44 54 48 101100 \n",
      " 45 55 410 101101 \n",
      " 46 56 412 101110 \n",
      " 47 57 414 101111 \n",
      " 48 6 60 110000 \n",
      " 49 61 62 110001 \n",
      " 50 62 64 110010 \n",
      " 51 63 66 110011 \n",
      " 52 64 68 110100 \n",
      " 53 65 610 110101 \n",
      " 54 66 612 110110 \n",
      " 55 67 614 110111 \n",
      " 56 7 60 111000 \n",
      " 57 71 62 111001 \n",
      " 58 72 64 111010 \n",
      " 59 73 66 111011 \n",
      " 60 74 68 111100 \n",
      " 61 75 610 111101 \n",
      " 62 76 612 111110 \n",
      " 63 77 614 111111 \n",
      " 64 1 80 1000000 \n",
      " 65 101 82 1000001 \n",
      " 66 102 84 1000010 \n",
      " 67 103 86 1000011 \n",
      " 68 104 88 1000100 \n",
      " 69 105 810 1000101 \n",
      " 70 106 812 1000110 \n",
      " 71 107 814 1000111 \n",
      " 72 11 80 1001000 \n",
      " 73 111 82 1001001 \n",
      " 74 112 84 1001010 \n",
      " 75 113 86 1001011 \n",
      " 76 114 88 1001100 \n",
      " 77 115 810 1001101 \n",
      " 78 116 812 1001110 \n",
      " 79 117 814 1001111 \n",
      " 80 12 100 1010000 \n",
      " 81 121 102 1010001 \n",
      " 82 122 104 1010010 \n",
      " 83 123 106 1010011 \n",
      " 84 124 108 1010100 \n",
      " 85 125 1010 1010101 \n",
      " 86 126 1012 1010110 \n",
      " 87 127 1014 1010111 \n",
      " 88 13 100 1011000 \n",
      " 89 131 102 1011001 \n",
      " 90 132 104 1011010 \n",
      " 91 133 106 1011011 \n",
      " 92 134 108 1011100 \n",
      " 93 135 1010 1011101 \n",
      " 94 136 1012 1011110 \n",
      " 95 137 1014 1011111 \n",
      " 96 14 120 1100000 \n",
      " 97 141 122 1100001 \n",
      " 98 142 124 1100010 \n",
      " 99 143 126 1100011 \n",
      "\n"
     ]
    }
   ],
   "source": [
    "List = []\n",
    "number = 99\n",
    "for i in range(1, (number+1)):\n",
    "    List.append(str(i))\n",
    "    x = i // 64\n",
    "    y = (i-64*x) // 32\n",
    "    z = (i-64*x- 32*y) // 16\n",
    "    w = (i-64*x- 32*y - 16*z) // 8\n",
    "    j = (i-64*x- 32*y - 16*z - 8*w) // 4\n",
    "    k = (i-64*x- 32*y - 16*z - 8*w - 4*j) // 2\n",
    "    l = (i-64*x- 32*y - 16*z - 8*w - 4*j - 2*k) // 1\n",
    "    List.append(''.join([str(x), \n",
    "                         str((32*y+16*z+8*w) // 8), \n",
    "                         str((4*j+2*k+1*l))]).strip('0'))\n",
    "    List.append(''.join([str(8*x+4*y+2*z),\n",
    "                         str(8*j + 4*k + 2*l)]))                \n",
    "    List.append(''.join([str(x), \n",
    "                        str(y), \n",
    "                        str(z), \n",
    "                        str(w), \n",
    "                        str(j), \n",
    "                        str(k), \n",
    "                        str(l)]).lstrip('0'))\n",
    "    List.append('\\n')\n",
    "print(' '.join(List))\n"
   ]
  },
  {
   "cell_type": "code",
   "execution_count": 74,
   "id": "152e9537",
   "metadata": {},
   "outputs": [
    {
     "name": "stdout",
     "output_type": "stream",
     "text": [
      "1 1 01 1 \n",
      " 2 2 02 10 \n",
      " 3 3 03 11 \n",
      " 4 4 04 100 \n",
      " 5 5 05 101 \n",
      " 6 6 06 110 \n",
      " 7 7 07 111 \n",
      " 8 1 00 1000 \n",
      " 9 11 01 1001 \n",
      " 10 12 02 1010 \n",
      " 11 13 03 1011 \n",
      " 12 14 04 1100 \n",
      " 13 15 05 1101 \n",
      " 14 16 06 1110 \n",
      " 15 17 07 1111 \n",
      " 16 2 10 10000 \n",
      " 17 21 11 10001 \n",
      " 18 22 12 10010 \n",
      " 19 23 13 10011 \n",
      " 20 24 14 10100 \n",
      " 21 25 15 10101 \n",
      " 22 26 16 10110 \n",
      " 23 27 17 10111 \n",
      " 24 3 10 11000 \n",
      " 25 31 11 11001 \n",
      " 26 32 12 11010 \n",
      " 27 33 13 11011 \n",
      " 28 34 14 11100 \n",
      " 29 35 15 11101 \n",
      " 30 36 16 11110 \n",
      " 31 37 17 11111 \n",
      " 32 4 20 100000 \n",
      " 33 41 21 100001 \n",
      " 34 42 22 100010 \n",
      " 35 43 23 100011 \n",
      " 36 44 24 100100 \n",
      " 37 45 25 100101 \n",
      " 38 46 26 100110 \n",
      " 39 47 27 100111 \n",
      " 40 5 20 101000 \n",
      " 41 51 21 101001 \n",
      " 42 52 22 101010 \n",
      " 43 53 23 101011 \n",
      " 44 54 24 101100 \n",
      " 45 55 25 101101 \n",
      " 46 56 26 101110 \n",
      " 47 57 27 101111 \n",
      " 48 6 30 110000 \n",
      " 49 61 31 110001 \n",
      " 50 62 32 110010 \n",
      " 51 63 33 110011 \n",
      " 52 64 34 110100 \n",
      " 53 65 35 110101 \n",
      " 54 66 36 110110 \n",
      " 55 67 37 110111 \n",
      " 56 7 30 111000 \n",
      " 57 71 31 111001 \n",
      " 58 72 32 111010 \n",
      " 59 73 33 111011 \n",
      " 60 74 34 111100 \n",
      " 61 75 35 111101 \n",
      " 62 76 36 111110 \n",
      " 63 77 37 111111 \n",
      " 64 1 40 1000000 \n",
      " 65 101 41 1000001 \n",
      " 66 102 42 1000010 \n",
      " 67 103 43 1000011 \n",
      " 68 104 44 1000100 \n",
      " 69 105 45 1000101 \n",
      " 70 106 46 1000110 \n",
      " 71 107 47 1000111 \n",
      " 72 11 40 1001000 \n",
      " 73 111 41 1001001 \n",
      " 74 112 42 1001010 \n",
      " 75 113 43 1001011 \n",
      " 76 114 44 1001100 \n",
      " 77 115 45 1001101 \n",
      " 78 116 46 1001110 \n",
      " 79 117 47 1001111 \n",
      " 80 12 50 1010000 \n",
      " 81 121 51 1010001 \n",
      " 82 122 52 1010010 \n",
      " 83 123 53 1010011 \n",
      " 84 124 54 1010100 \n",
      " 85 125 55 1010101 \n",
      " 86 126 56 1010110 \n",
      " 87 127 57 1010111 \n",
      " 88 13 50 1011000 \n",
      " 89 131 51 1011001 \n",
      " 90 132 52 1011010 \n",
      " 91 133 53 1011011 \n",
      " 92 134 54 1011100 \n",
      " 93 135 55 1011101 \n",
      " 94 136 56 1011110 \n",
      " 95 137 57 1011111 \n",
      " 96 14 60 1100000 \n",
      " 97 141 61 1100001 \n",
      " 98 142 62 1100010 \n",
      " 99 143 63 1100011 \n",
      "\n"
     ]
    }
   ],
   "source": [
    "List = []\n",
    "number = 99\n",
    "for i in range(1, (number+1)):\n",
    "    List.append(str(i))\n",
    "    x = i // 64\n",
    "    y = (i-64*x) // 32\n",
    "    z = (i-64*x- 32*y) // 16\n",
    "    w = (i-64*x- 32*y - 16*z) // 8\n",
    "    j = (i-64*x- 32*y - 16*z - 8*w) // 4\n",
    "    k = (i-64*x- 32*y - 16*z - 8*w - 4*j) // 2\n",
    "    l = (i-64*x- 32*y - 16*z - 8*w - 4*j - 2*k) // 1\n",
    "    List.append(''.join([str(x), \n",
    "                         str((32*y+16*z+8*w) // 8), \n",
    "                         str((4*j+2*k+1*l))]).strip('0'))\n",
    "    List.append(''.join([str(4*x+2*y+1*z),\n",
    "                         str(4*j + 2*k + 1*l)]))                \n",
    "    List.append(''.join([str(x), \n",
    "                        str(y), \n",
    "                        str(z), \n",
    "                        str(w), \n",
    "                        str(j), \n",
    "                        str(k), \n",
    "                        str(l)]).lstrip('0'))\n",
    "    List.append('\\n')\n",
    "print(' '.join(List))\n"
   ]
  },
  {
   "cell_type": "code",
   "execution_count": 80,
   "id": "b76f06cc",
   "metadata": {},
   "outputs": [],
   "source": [
    "### 예시답안\n",
    "def print_formatted(number):\n",
    "    padding = number.bit_length()\n",
    "    for i in range(1, number+1):\n",
    "        print(f'{i:{padding}d} {i:{padding}o} {i:{padding}X} {i:{padding}b}')"
   ]
  },
  {
   "cell_type": "code",
   "execution_count": 81,
   "id": "1d3cb5d9",
   "metadata": {},
   "outputs": [
    {
     "name": "stdout",
     "output_type": "stream",
     "text": [
      "    1     1     1     1\n",
      "    2     2     2    10\n",
      "    3     3     3    11\n",
      "    4     4     4   100\n",
      "    5     5     5   101\n",
      "    6     6     6   110\n",
      "    7     7     7   111\n",
      "    8    10     8  1000\n",
      "    9    11     9  1001\n",
      "   10    12     A  1010\n",
      "   11    13     B  1011\n",
      "   12    14     C  1100\n",
      "   13    15     D  1101\n",
      "   14    16     E  1110\n",
      "   15    17     F  1111\n",
      "   16    20    10 10000\n",
      "   17    21    11 10001\n",
      "   18    22    12 10010\n",
      "   19    23    13 10011\n",
      "   20    24    14 10100\n",
      "   21    25    15 10101\n"
     ]
    }
   ],
   "source": [
    "print_formatted(21)"
   ]
  },
  {
   "cell_type": "code",
   "execution_count": 82,
   "id": "ab7701e0",
   "metadata": {},
   "outputs": [],
   "source": [
    "def print_formatted(number):\n",
    "    padding = number.bit_length()\n",
    "    for i in range(1, n+1):\n",
    "        print(f'{i:{padding}d} {i:{padding}o} {i:{padding}X} {i:{padding}b}')\n",
    "    "
   ]
  },
  {
   "cell_type": "markdown",
   "id": "ee86d9dd",
   "metadata": {},
   "source": [
    "### 지정한 변수명 기억해두기 "
   ]
  },
  {
   "cell_type": "markdown",
   "id": "002b40c2",
   "metadata": {},
   "source": [
    "- alphabet rangoli"
   ]
  },
  {
   "cell_type": "code",
   "execution_count": 121,
   "id": "6505caab",
   "metadata": {},
   "outputs": [],
   "source": [
    "def rangoli(size):\n",
    "    letters = 'abcdefghijklmnopqrstuvwxyz'\n",
    "    strings = ''\n",
    "    for j in range(size):\n",
    "        string = letters[(size-1):(size-1)-j:-1]\n",
    "        strings += string + '\\n'\n",
    "    return strings"
   ]
  },
  {
   "cell_type": "code",
   "execution_count": 122,
   "id": "065de02d",
   "metadata": {},
   "outputs": [
    {
     "name": "stdout",
     "output_type": "stream",
     "text": [
      "\n",
      "c\n",
      "cb\n",
      "\n"
     ]
    }
   ],
   "source": [
    "print(rangoli(3))"
   ]
  },
  {
   "cell_type": "code",
   "execution_count": 125,
   "id": "4bf0e9e8",
   "metadata": {},
   "outputs": [],
   "source": [
    "def rangoli(size):\n",
    "    letters = 'abcdefghijklmnopqrstuvwxyz'\n",
    "    List = []\n",
    "    for j in range(size):\n",
    "        List.insert(j, letters[(size-1):(size-1)-(j+1):-1])\n",
    "    return List"
   ]
  },
  {
   "cell_type": "code",
   "execution_count": 126,
   "id": "05f45f8c",
   "metadata": {},
   "outputs": [],
   "source": [
    "List = []\n",
    "List.insert(0, 'a')"
   ]
  },
  {
   "cell_type": "code",
   "execution_count": 127,
   "id": "8a48be09",
   "metadata": {},
   "outputs": [
    {
     "data": {
      "text/plain": [
       "['a']"
      ]
     },
     "execution_count": 127,
     "metadata": {},
     "output_type": "execute_result"
    }
   ],
   "source": [
    "List"
   ]
  },
  {
   "cell_type": "code",
   "execution_count": 128,
   "id": "86133201",
   "metadata": {},
   "outputs": [
    {
     "data": {
      "text/plain": [
       "['c', 'cb', '']"
      ]
     },
     "execution_count": 128,
     "metadata": {},
     "output_type": "execute_result"
    }
   ],
   "source": [
    "rangoli(3)"
   ]
  },
  {
   "cell_type": "code",
   "execution_count": 141,
   "id": "7bc0b0c3",
   "metadata": {},
   "outputs": [],
   "source": [
    "def rangoli(size):\n",
    "    letters = 'abcdefghijklmnopqrstuvwxyz'\n",
    "    List = []\n",
    "    for j in range(size):\n",
    "        List.insert(j, letters[(size-1)-j:size])\n",
    "    return List"
   ]
  },
  {
   "cell_type": "code",
   "execution_count": 142,
   "id": "607baeea",
   "metadata": {},
   "outputs": [
    {
     "data": {
      "text/plain": [
       "['c', 'bc', 'abc']"
      ]
     },
     "execution_count": 142,
     "metadata": {},
     "output_type": "execute_result"
    }
   ],
   "source": [
    "rangoli(3)"
   ]
  },
  {
   "cell_type": "markdown",
   "id": "bc61afbb",
   "metadata": {},
   "source": [
    "### 아! 파이썬에서 인덱싱은 last number 바로 앞까지 .. "
   ]
  },
  {
   "cell_type": "code",
   "execution_count": 145,
   "id": "9907f64c",
   "metadata": {},
   "outputs": [],
   "source": [
    "def rangoli(size):\n",
    "    letters = 'abcdefghijklmnopqrstuvwxyz'\n",
    "    List = []\n",
    "    string = ''\n",
    "    for j in range(size):\n",
    "        List.insert(j, letters[(size-1)-j:size])\n",
    "        string = ''.join(List)\n",
    "        print(string)\n",
    "    return List"
   ]
  },
  {
   "cell_type": "code",
   "execution_count": 146,
   "id": "9b75a438",
   "metadata": {},
   "outputs": [
    {
     "name": "stdout",
     "output_type": "stream",
     "text": [
      "c\n",
      "cbc\n",
      "cbcabc\n"
     ]
    },
    {
     "data": {
      "text/plain": [
       "['c', 'bc', 'abc']"
      ]
     },
     "execution_count": 146,
     "metadata": {},
     "output_type": "execute_result"
    }
   ],
   "source": [
    "rangoli(3)"
   ]
  },
  {
   "cell_type": "code",
   "execution_count": 150,
   "id": "a087547c",
   "metadata": {},
   "outputs": [],
   "source": [
    "def rangoli(size):\n",
    "    letters = 'abcdefghijklmnopqrstuvwxyz'\n",
    "    List = []\n",
    "    string = ''\n",
    "    for j in range(size):\n",
    "        List.insert(j, letters[(size-1)-j:size])\n",
    "        string = ''.join(List)\n",
    "        List = string.split()\n",
    "        print(string)\n",
    "        print(List)\n",
    "    return List"
   ]
  },
  {
   "cell_type": "code",
   "execution_count": 151,
   "id": "db304acb",
   "metadata": {},
   "outputs": [
    {
     "name": "stdout",
     "output_type": "stream",
     "text": [
      "c\n",
      "['c']\n",
      "cbc\n",
      "['cbc']\n",
      "cbcabc\n",
      "['cbcabc']\n"
     ]
    },
    {
     "data": {
      "text/plain": [
       "['cbcabc']"
      ]
     },
     "execution_count": 151,
     "metadata": {},
     "output_type": "execute_result"
    }
   ],
   "source": [
    "rangoli(3)"
   ]
  },
  {
   "cell_type": "code",
   "execution_count": 154,
   "id": "c66456cd",
   "metadata": {},
   "outputs": [
    {
     "data": {
      "text/plain": [
       "['']"
      ]
     },
     "execution_count": 154,
     "metadata": {},
     "output_type": "execute_result"
    }
   ],
   "source": [
    "import re\n",
    "re.split('abcde', '')"
   ]
  },
  {
   "cell_type": "code",
   "execution_count": 157,
   "id": "1a21a2e7",
   "metadata": {},
   "outputs": [],
   "source": [
    "def rangoli(size):\n",
    "    letters = 'abcdefghijklmnopqrstuvwxyz'\n",
    "    List = []\n",
    "    string = ''\n",
    "    for j in range(size):\n",
    "        List.insert(j, letters[(size-1)-j:size])\n",
    "        string = ''.join(List)\n",
    "        List = re.split(string, '')\n",
    "        print(string)\n",
    "        print(List)\n",
    "    return List"
   ]
  },
  {
   "cell_type": "code",
   "execution_count": 158,
   "id": "a5490ad0",
   "metadata": {},
   "outputs": [
    {
     "name": "stdout",
     "output_type": "stream",
     "text": [
      "c\n",
      "['']\n",
      "bc\n",
      "['']\n",
      "abc\n",
      "['']\n"
     ]
    },
    {
     "data": {
      "text/plain": [
       "['']"
      ]
     },
     "execution_count": 158,
     "metadata": {},
     "output_type": "execute_result"
    }
   ],
   "source": [
    "rangoli(3)"
   ]
  },
  {
   "cell_type": "code",
   "execution_count": 161,
   "id": "6deae9de",
   "metadata": {},
   "outputs": [],
   "source": [
    "def rangoli(size):\n",
    "    letters = 'abcdefghijklmnopqrstuvwxyz'\n",
    "    List = []\n",
    "    string = ''\n",
    "    for j in range(size):\n",
    "        List.insert(j, letters[(size-1)-j:size])\n",
    "        string = ''.join(List)\n",
    "        print(string)\n",
    "    return List"
   ]
  },
  {
   "cell_type": "code",
   "execution_count": 162,
   "id": "9f07b78a",
   "metadata": {},
   "outputs": [
    {
     "name": "stdout",
     "output_type": "stream",
     "text": [
      "c\n",
      "cbc\n",
      "cbcabc\n"
     ]
    },
    {
     "data": {
      "text/plain": [
       "['c', 'bc', 'abc']"
      ]
     },
     "execution_count": 162,
     "metadata": {},
     "output_type": "execute_result"
    }
   ],
   "source": [
    "rangoli(3)"
   ]
  },
  {
   "cell_type": "code",
   "execution_count": 163,
   "id": "c9541fc8",
   "metadata": {},
   "outputs": [
    {
     "ename": "TypeError",
     "evalue": "list.extend() takes exactly one argument (2 given)",
     "output_type": "error",
     "traceback": [
      "\u001b[1;31m---------------------------------------------------------------------------\u001b[0m",
      "\u001b[1;31mTypeError\u001b[0m                                 Traceback (most recent call last)",
      "\u001b[1;32mC:\\Users\\AARONC~1\\AppData\\Local\\Temp/ipykernel_13488/625660488.py\u001b[0m in \u001b[0;36m<module>\u001b[1;34m\u001b[0m\n\u001b[1;32m----> 1\u001b[1;33m \u001b[1;33m[\u001b[0m\u001b[1;33m]\u001b[0m\u001b[1;33m.\u001b[0m\u001b[0mextend\u001b[0m\u001b[1;33m(\u001b[0m\u001b[1;36m3\u001b[0m\u001b[1;33m,\u001b[0m \u001b[1;34m'abcd'\u001b[0m\u001b[1;33m)\u001b[0m\u001b[1;33m\u001b[0m\u001b[1;33m\u001b[0m\u001b[0m\n\u001b[0m",
      "\u001b[1;31mTypeError\u001b[0m: list.extend() takes exactly one argument (2 given)"
     ]
    }
   ],
   "source": [
    "[].extend(3, 'abcd')"
   ]
  },
  {
   "cell_type": "code",
   "execution_count": 165,
   "id": "73f02b7e",
   "metadata": {},
   "outputs": [],
   "source": [
    "def rangoli(size):\n",
    "    letters = 'abcdefghijklmnopqrstuvwxyz'\n",
    "    List = []\n",
    "    string = ''\n",
    "    for j in range(size):\n",
    "        List.extend(letters[(size-1)-j:size])\n",
    "        string = ''.join(List)\n",
    "        print(string)\n",
    "    return List"
   ]
  },
  {
   "cell_type": "code",
   "execution_count": 167,
   "id": "2f328bfb",
   "metadata": {},
   "outputs": [
    {
     "name": "stdout",
     "output_type": "stream",
     "text": [
      "c\n",
      "cbc\n",
      "cbcabc\n"
     ]
    },
    {
     "data": {
      "text/plain": [
       "['c', 'b', 'c', 'a', 'b', 'c']"
      ]
     },
     "execution_count": 167,
     "metadata": {},
     "output_type": "execute_result"
    }
   ],
   "source": [
    "rangoli(3)"
   ]
  },
  {
   "cell_type": "code",
   "execution_count": 168,
   "id": "b40d68a7",
   "metadata": {},
   "outputs": [
    {
     "name": "stdout",
     "output_type": "stream",
     "text": [
      "3\n",
      "2\n",
      "1\n"
     ]
    }
   ],
   "source": [
    "for j in range(3, 0, -1):\n",
    "    print(j)"
   ]
  },
  {
   "cell_type": "code",
   "execution_count": 192,
   "id": "111e23ee",
   "metadata": {},
   "outputs": [],
   "source": [
    "def rangoli(size):\n",
    "    letters = 'abcdefghijklmnopqrstuvwxyz'\n",
    "    List = []\n",
    "    string = ''\n",
    "    for j in range(size+1):\n",
    "        string = string + letters[(size-j):(size)]\n",
    "        List.append(string)\n",
    "        print(List)"
   ]
  },
  {
   "cell_type": "code",
   "execution_count": 193,
   "id": "9782ca9e",
   "metadata": {},
   "outputs": [
    {
     "name": "stdout",
     "output_type": "stream",
     "text": [
      "['']\n",
      "['', 'c']\n",
      "['', 'c', 'cbc']\n",
      "['', 'c', 'cbc', 'cbcabc']\n"
     ]
    }
   ],
   "source": [
    "rangoli(3)"
   ]
  },
  {
   "cell_type": "code",
   "execution_count": 215,
   "id": "ef6879b2",
   "metadata": {},
   "outputs": [],
   "source": [
    "def rangoli(size):\n",
    "    letters = 'abcdefghijklmnopqrstuvwxyz'\n",
    "    for j in range(size+1):\n",
    "        string = letters[(size-j):(size)][::-1] + letters[(size-j):(size)]\n",
    "        if len(string) != 0:\n",
    "            string = list(string)\n",
    "            string.pop(len(string)//2)\n",
    "        else: \n",
    "            continue\n",
    "        print(string)"
   ]
  },
  {
   "cell_type": "code",
   "execution_count": 216,
   "id": "e993f8da",
   "metadata": {},
   "outputs": [
    {
     "name": "stdout",
     "output_type": "stream",
     "text": [
      "['c']\n",
      "['c', 'b', 'c']\n",
      "['c', 'b', 'a', 'b', 'c']\n"
     ]
    }
   ],
   "source": [
    "rangoli(3)"
   ]
  },
  {
   "cell_type": "code",
   "execution_count": 238,
   "id": "4c197626",
   "metadata": {},
   "outputs": [],
   "source": [
    "def rangoli(size):\n",
    "    letters = 'abcdefghijklmnopqrstuvwxyz'\n",
    "    List = []\n",
    "    for j in range(size+1):\n",
    "        string = letters[(size-j):(size)][::-1] + letters[(size-j):(size)]\n",
    "        if len(string) != 0:\n",
    "            string = list(string)\n",
    "            string.pop(len(string)//2)\n",
    "        else: \n",
    "            continue\n",
    "        List.append(('-'.join(string)).center(4*size-3, '-'))\n",
    "    List = List + List[::-1]\n",
    "    List.pop(len(List)//2)\n",
    "    print('\\n'.join(List))"
   ]
  },
  {
   "cell_type": "code",
   "execution_count": 239,
   "id": "d87dca03",
   "metadata": {},
   "outputs": [
    {
     "name": "stdout",
     "output_type": "stream",
     "text": [
      "----c----\n",
      "--c-b-c--\n",
      "c-b-a-b-c\n",
      "--c-b-c--\n",
      "----c----\n"
     ]
    }
   ],
   "source": [
    "rangoli(3)"
   ]
  },
  {
   "cell_type": "code",
   "execution_count": null,
   "id": "53ed7f5f",
   "metadata": {},
   "outputs": [],
   "source": [
    "### 예시답안\n",
    "import string\n",
    "alpha - string.ascii_lowercase\n",
    "\n",
    "n = int(input())\n",
    "L = []\n",
    "for i in range(n):\n",
    "    s = '-'.join(alpha[i:n])\n",
    "    L.append((s[::-1]+s[1:]).center(4*n-3, '-'))\n",
    "print('\\n'.join(L[0:-1] + L))"
   ]
  },
  {
   "cell_type": "markdown",
   "id": "f802fd45",
   "metadata": {},
   "source": [
    "### 아! join 메서드 string에도 쓸 수 있었다 "
   ]
  },
  {
   "cell_type": "code",
   "execution_count": null,
   "id": "e8a45ca3",
   "metadata": {},
   "outputs": [],
   "source": [
    "### 예시답안\n",
    "for i in range(size-1, -size, -1):\n",
    "    temp = '-'.join(alp[size-1:abs(i):-1] + alp[abs(i):size])\n",
    "    print(temp.center(4*size-3, '-'))"
   ]
  },
  {
   "cell_type": "markdown",
   "id": "9e3e8c55",
   "metadata": {},
   "source": [
    "### 아! 대칭 형태 만들 때 [::-1] 말고 abs도 쓸 수 있겠구나!"
   ]
  },
  {
   "cell_type": "code",
   "execution_count": null,
   "id": "fa23c075",
   "metadata": {},
   "outputs": [],
   "source": []
  }
 ],
 "metadata": {
  "kernelspec": {
   "display_name": "Python 3 (ipykernel)",
   "language": "python",
   "name": "python3"
  },
  "language_info": {
   "codemirror_mode": {
    "name": "ipython",
    "version": 3
   },
   "file_extension": ".py",
   "mimetype": "text/x-python",
   "name": "python",
   "nbconvert_exporter": "python",
   "pygments_lexer": "ipython3",
   "version": "3.9.7"
  }
 },
 "nbformat": 4,
 "nbformat_minor": 5
}
