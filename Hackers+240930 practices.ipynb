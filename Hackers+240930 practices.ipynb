{
 "cells": [
  {
   "cell_type": "markdown",
   "id": "4a85dda8",
   "metadata": {},
   "source": [
    "- canlendar module"
   ]
  },
  {
   "cell_type": "code",
   "execution_count": 6,
   "id": "30cdfd17",
   "metadata": {},
   "outputs": [],
   "source": [
    "import calendar\n",
    "import re \n",
    "\n",
    "def find_the_day(date):\n",
    "  \n",
    "    month, day, year = date.split()\n",
    "    months = ['Jan', 'Feb', 'Mar', 'Apr', 'May', 'June', 'July', 'Aug', 'Sep', 'Oct', 'Nov', 'Dec']\n",
    "    dotws = [x.upper() for x in ['Monday', 'Tuesday', 'Wednesday', 'Thursday', 'Friday', 'Saturday', 'Sunday']]\n",
    "    \n",
    "  \n",
    "    dates = calendar.TextCalendar(firstweekday = 7).formatyear(int(year)).split('\\n\\n')\n",
    "    rmonth = months[int(month) -1]\n",
    "        \n",
    "    for x in dates:\n",
    "        if rmonth in x:\n",
    "            weeks = x.split('\\n')\n",
    "    for week in weeks:\n",
    "        if str(day) in week:\n",
    "            targets = re.split('\\s{2,}', week)[int(month)%3-1].split()\n",
    "    \n",
    "    if 1 not in map(int, targets):\n",
    "        dotw = dotws[targets.index(str(day))]        \n",
    "    else:\n",
    "        dotw = dotws[-(targets.index(str(day)) + 1)]\n",
    "    print(dotw)\n",
    "    return dotw\n"
   ]
  },
  {
   "cell_type": "code",
   "execution_count": 7,
   "id": "bda2367d",
   "metadata": {},
   "outputs": [
    {
     "name": "stdout",
     "output_type": "stream",
     "text": [
      "TUESDAY\n"
     ]
    },
    {
     "data": {
      "text/plain": [
       "'TUESDAY'"
      ]
     },
     "execution_count": 7,
     "metadata": {},
     "output_type": "execute_result"
    }
   ],
   "source": [
    "find_the_day('05 22 2001')"
   ]
  },
  {
   "cell_type": "code",
   "execution_count": 8,
   "id": "083217c3",
   "metadata": {},
   "outputs": [],
   "source": [
    "import calendar\n",
    "import re \n",
    "\n",
    "def find_the_day(date):\n",
    "  \n",
    "    month, day, year = date.split()\n",
    "    months = ['Jan', 'Feb', 'Mar', 'Apr', 'May', 'June', 'July', 'Aug', 'Sep', 'Oct', 'Nov', 'Dec']\n",
    "    dotws = [x.upper() for x in ['Monday', 'Tuesday', 'Wednesday', 'Thursday', 'Friday', 'Saturday', 'Sunday']]\n",
    "    \n",
    "  \n",
    "    dates = calendar.TextCalendar(firstweekday = 7).formatyear(int(year)).split('\\n\\n')\n",
    "    rmonth = months[int(month) -1]\n",
    "        \n",
    "    for x in dates:\n",
    "        if rmonth in x:\n",
    "            weeks = x.split('\\n')\n",
    "    for week in weeks:\n",
    "        if str(day) in week:\n",
    "            targets = re.split('\\s{3,}', week)[int(month)%3-1].split()\n",
    "    \n",
    "    if 1 not in map(int, targets):\n",
    "        dotw = dotws[targets.index(str(day))]        \n",
    "    else:\n",
    "        dotw = dotws[-(targets.index(str(day)) + 1)]\n",
    "    print(dotw)\n",
    "    return dotw\n"
   ]
  },
  {
   "cell_type": "code",
   "execution_count": 10,
   "id": "24e04d46",
   "metadata": {},
   "outputs": [
    {
     "name": "stdout",
     "output_type": "stream",
     "text": [
      "THURSDAY\n"
     ]
    },
    {
     "data": {
      "text/plain": [
       "'THURSDAY'"
      ]
     },
     "execution_count": 10,
     "metadata": {},
     "output_type": "execute_result"
    }
   ],
   "source": [
    "find_the_day('05 22 2014')"
   ]
  },
  {
   "cell_type": "code",
   "execution_count": 41,
   "id": "24858c2c",
   "metadata": {},
   "outputs": [],
   "source": [
    "import calendar\n",
    "import re \n",
    "\n",
    "def find_the_day(date):\n",
    "  \n",
    "    month, day, year = date.split()\n",
    "    months = ['Jan', 'Feb', 'Mar', 'Apr', 'May', 'June', 'July', 'Aug', 'Sep', 'Oct', 'Nov', 'Dec']\n",
    "    dotws = [x.upper() for x in ['Monday', 'Tuesday', 'Wednesday', 'Thursday', 'Friday', 'Saturday', 'Sunday']]\n",
    "    \n",
    "  \n",
    "    dates = calendar.TextCalendar(firstweekday = 7).formatyear(int(year)).split('\\n\\n')\n",
    "    rmonth = months[int(month) -1]\n",
    "        \n",
    "    for x in dates:\n",
    "        if rmonth in x:\n",
    "            weeks = x.split('\\n')\n",
    "    for week in weeks:\n",
    "        if re.search(str(day), week):\n",
    "            targets = re.split('\\s{3,}', week)\n",
    "            break\n",
    "            \n",
    "    return weeks, targets"
   ]
  },
  {
   "cell_type": "code",
   "execution_count": 42,
   "id": "9c90948a",
   "metadata": {},
   "outputs": [
    {
     "data": {
      "text/plain": [
       "(['       April                      May                       June',\n",
       "  'Mo Tu We Th Fr Sa Su      Mo Tu We Th Fr Sa Su      Mo Tu We Th Fr Sa Su',\n",
       "  '       1  2  3  4  5                   1  2  3       1  2  3  4  5  6  7',\n",
       "  ' 6  7  8  9 10 11 12       4  5  6  7  8  9 10       8  9 10 11 12 13 14',\n",
       "  '13 14 15 16 17 18 19      11 12 13 14 15 16 17      15 16 17 18 19 20 21',\n",
       "  '20 21 22 23 24 25 26      18 19 20 21 22 23 24      22 23 24 25 26 27 28',\n",
       "  '27 28 29 30               25 26 27 28 29 30 31      29 30'],\n",
       " ['13 14 15 16 17 18 19', '11 12 13 14 15 16 17', '15 16 17 18 19 20 21'])"
      ]
     },
     "execution_count": 42,
     "metadata": {},
     "output_type": "execute_result"
    }
   ],
   "source": [
    "find_the_day('05 18 2015')"
   ]
  },
  {
   "cell_type": "markdown",
   "id": "df987c8c",
   "metadata": {},
   "source": [
    "### 해당 조건을 만족하는 첫번째 object? or last object?를 고려해서 if 조건문에 break를 넣어줬따 "
   ]
  },
  {
   "cell_type": "code",
   "execution_count": 37,
   "id": "932ce15e",
   "metadata": {},
   "outputs": [],
   "source": [
    "import calendar\n",
    "import re \n",
    "\n",
    "def find_the_day(date):\n",
    "  \n",
    "    month, day, year = date.split()\n",
    "    months = ['Jan', 'Feb', 'Mar', 'Apr', 'May', 'June', 'July', 'Aug', 'Sep', 'Oct', 'Nov', 'Dec']\n",
    "    dotws = [x.upper() for x in ['Monday', 'Tuesday', 'Wednesday', 'Thursday', 'Friday', 'Saturday', 'Sunday']]\n",
    "    \n",
    "  \n",
    "    dates = calendar.TextCalendar(firstweekday = 7).formatyear(int(year)).split('\\n\\n')\n",
    "    rmonth = months[int(month) -1]\n",
    "        \n",
    "    for x in dates:\n",
    "        if rmonth in x:\n",
    "            weeks = x.split('\\n')\n",
    "    for week in weeks:\n",
    "        if re.search(str(day), week):\n",
    "            targets = re.split('\\s{3,}', week)[int(month)%3 -1]\n",
    "            break\n",
    "            \n",
    "    if 1 not in map(int, targets.split()):\n",
    "        dotw = dotws[targets.split().index(day)]\n",
    "    else:\n",
    "        dotw = dotws[-(targets.split().index(day)+1)]\n",
    " \n",
    "    return dotw"
   ]
  },
  {
   "cell_type": "code",
   "execution_count": 39,
   "id": "5091bd0f",
   "metadata": {},
   "outputs": [
    {
     "ename": "ValueError",
     "evalue": "'18' is not in list",
     "output_type": "error",
     "traceback": [
      "\u001b[1;31m---------------------------------------------------------------------------\u001b[0m",
      "\u001b[1;31mValueError\u001b[0m                                Traceback (most recent call last)",
      "\u001b[1;32mC:\\Users\\AARONC~1\\AppData\\Local\\Temp/ipykernel_17504/1734947949.py\u001b[0m in \u001b[0;36m<module>\u001b[1;34m\u001b[0m\n\u001b[1;32m----> 1\u001b[1;33m \u001b[0mfind_the_day\u001b[0m\u001b[1;33m(\u001b[0m\u001b[1;34m'05 18 2015'\u001b[0m\u001b[1;33m)\u001b[0m\u001b[1;33m\u001b[0m\u001b[1;33m\u001b[0m\u001b[0m\n\u001b[0m",
      "\u001b[1;32mC:\\Users\\AARONC~1\\AppData\\Local\\Temp/ipykernel_17504/1269552057.py\u001b[0m in \u001b[0;36mfind_the_day\u001b[1;34m(date)\u001b[0m\n\u001b[0;32m     20\u001b[0m             \u001b[1;32mbreak\u001b[0m\u001b[1;33m\u001b[0m\u001b[1;33m\u001b[0m\u001b[0m\n\u001b[0;32m     21\u001b[0m     \u001b[1;32mif\u001b[0m \u001b[1;36m1\u001b[0m \u001b[1;32mnot\u001b[0m \u001b[1;32min\u001b[0m \u001b[0mmap\u001b[0m\u001b[1;33m(\u001b[0m\u001b[0mint\u001b[0m\u001b[1;33m,\u001b[0m \u001b[0mtargets\u001b[0m\u001b[1;33m.\u001b[0m\u001b[0msplit\u001b[0m\u001b[1;33m(\u001b[0m\u001b[1;33m)\u001b[0m\u001b[1;33m)\u001b[0m\u001b[1;33m:\u001b[0m\u001b[1;33m\u001b[0m\u001b[1;33m\u001b[0m\u001b[0m\n\u001b[1;32m---> 22\u001b[1;33m         \u001b[0mdotw\u001b[0m \u001b[1;33m=\u001b[0m \u001b[0mdotws\u001b[0m\u001b[1;33m[\u001b[0m\u001b[0mtargets\u001b[0m\u001b[1;33m.\u001b[0m\u001b[0msplit\u001b[0m\u001b[1;33m(\u001b[0m\u001b[1;33m)\u001b[0m\u001b[1;33m.\u001b[0m\u001b[0mindex\u001b[0m\u001b[1;33m(\u001b[0m\u001b[0mday\u001b[0m\u001b[1;33m)\u001b[0m\u001b[1;33m]\u001b[0m\u001b[1;33m\u001b[0m\u001b[1;33m\u001b[0m\u001b[0m\n\u001b[0m\u001b[0;32m     23\u001b[0m     \u001b[1;32melse\u001b[0m\u001b[1;33m:\u001b[0m\u001b[1;33m\u001b[0m\u001b[1;33m\u001b[0m\u001b[0m\n\u001b[0;32m     24\u001b[0m         \u001b[0mdotw\u001b[0m \u001b[1;33m=\u001b[0m \u001b[0mdotws\u001b[0m\u001b[1;33m[\u001b[0m\u001b[1;33m-\u001b[0m\u001b[1;33m(\u001b[0m\u001b[0mtargets\u001b[0m\u001b[1;33m.\u001b[0m\u001b[0msplit\u001b[0m\u001b[1;33m(\u001b[0m\u001b[1;33m)\u001b[0m\u001b[1;33m.\u001b[0m\u001b[0mindex\u001b[0m\u001b[1;33m(\u001b[0m\u001b[0mday\u001b[0m\u001b[1;33m)\u001b[0m\u001b[1;33m+\u001b[0m\u001b[1;36m1\u001b[0m\u001b[1;33m)\u001b[0m\u001b[1;33m]\u001b[0m\u001b[1;33m\u001b[0m\u001b[1;33m\u001b[0m\u001b[0m\n",
      "\u001b[1;31mValueError\u001b[0m: '18' is not in list"
     ]
    }
   ],
   "source": [
    "find_the_day('05 18 2015')"
   ]
  },
  {
   "cell_type": "markdown",
   "id": "142fde06",
   "metadata": {},
   "source": [
    "### 월을 먼저 분리하고 day를 찾느냐, day를 찾고 월을 match하느냐"
   ]
  },
  {
   "cell_type": "code",
   "execution_count": 56,
   "id": "734214bf",
   "metadata": {},
   "outputs": [],
   "source": [
    "import calendar\n",
    "import re \n",
    "\n",
    "def find_the_day(date):\n",
    "  \n",
    "    month, day, year = date.split()\n",
    "    months = ['Jan', 'Feb', 'Mar', 'Apr', 'May', 'June', 'July', 'Aug', 'Sep', 'Oct', 'Nov', 'Dec']\n",
    "    dotws = [x.upper() for x in ['Monday', 'Tuesday', 'Wednesday', 'Thursday', 'Friday', 'Saturday', 'Sunday']]\n",
    "    \n",
    "  \n",
    "    dates = calendar.TextCalendar(firstweekday = 7).formatyear(int(year)).split('\\n\\n')\n",
    "    rmonth = months[int(month) -1]\n",
    "        \n",
    "    for x in dates:\n",
    "        if rmonth in x:\n",
    "            weeks = x.split('\\n')\n",
    "            \n",
    "    week = [re.split('\\s{3,}', week) for week in weeks]\n",
    "    week = [x for y in week for x in y if re.search('[0-9]', x)]\n",
    "    \n",
    "    return week"
   ]
  },
  {
   "cell_type": "code",
   "execution_count": 57,
   "id": "4e56b1b6",
   "metadata": {},
   "outputs": [
    {
     "data": {
      "text/plain": [
       "['1  2  3  4  5',\n",
       " '1  2  3',\n",
       " '1  2  3  4  5  6  7',\n",
       " ' 6  7  8  9 10 11 12',\n",
       " '4  5  6  7  8  9 10',\n",
       " '8  9 10 11 12 13 14',\n",
       " '13 14 15 16 17 18 19',\n",
       " '11 12 13 14 15 16 17',\n",
       " '15 16 17 18 19 20 21',\n",
       " '20 21 22 23 24 25 26',\n",
       " '18 19 20 21 22 23 24',\n",
       " '22 23 24 25 26 27 28',\n",
       " '27 28 29 30',\n",
       " '25 26 27 28 29 30 31',\n",
       " '29 30']"
      ]
     },
     "execution_count": 57,
     "metadata": {},
     "output_type": "execute_result"
    }
   ],
   "source": [
    "find_the_day('05 18 2015')"
   ]
  },
  {
   "cell_type": "code",
   "execution_count": 62,
   "id": "2e05f5d9",
   "metadata": {},
   "outputs": [],
   "source": [
    "import calendar\n",
    "import re \n",
    "\n",
    "def find_the_day(date):\n",
    "  \n",
    "    month, day, year = date.split()\n",
    "    months = ['Jan', 'Feb', 'Mar', 'Apr', 'May', 'June', 'July', 'Aug', 'Sep', 'Oct', 'Nov', 'Dec']\n",
    "    dotws = [x.upper() for x in ['Monday', 'Tuesday', 'Wednesday', 'Thursday', 'Friday', 'Saturday', 'Sunday']]\n",
    "    \n",
    "  \n",
    "    dates = calendar.TextCalendar(firstweekday = 7).formatyear(int(year)).split('\\n\\n')\n",
    "    rmonth = months[int(month) -1]\n",
    "        \n",
    "    for x in dates:\n",
    "        if rmonth in x:\n",
    "            weeks = x.split('\\n')\n",
    "            \n",
    "    week = [re.split('\\s{3,}', week) for week in weeks]\n",
    "    week = [x for y in week for x in y if re.search('[0-9]', x)]\n",
    "    \n",
    "    targets = week[range(int(month)%3-1, len(week), 3)]\n",
    "    \n",
    "    return targets"
   ]
  },
  {
   "cell_type": "code",
   "execution_count": 63,
   "id": "71c38052",
   "metadata": {},
   "outputs": [
    {
     "ename": "TypeError",
     "evalue": "list indices must be integers or slices, not range",
     "output_type": "error",
     "traceback": [
      "\u001b[1;31m---------------------------------------------------------------------------\u001b[0m",
      "\u001b[1;31mTypeError\u001b[0m                                 Traceback (most recent call last)",
      "\u001b[1;32mC:\\Users\\AARONC~1\\AppData\\Local\\Temp/ipykernel_17504/1734947949.py\u001b[0m in \u001b[0;36m<module>\u001b[1;34m\u001b[0m\n\u001b[1;32m----> 1\u001b[1;33m \u001b[0mfind_the_day\u001b[0m\u001b[1;33m(\u001b[0m\u001b[1;34m'05 18 2015'\u001b[0m\u001b[1;33m)\u001b[0m\u001b[1;33m\u001b[0m\u001b[1;33m\u001b[0m\u001b[0m\n\u001b[0m",
      "\u001b[1;32mC:\\Users\\AARONC~1\\AppData\\Local\\Temp/ipykernel_17504/1462425517.py\u001b[0m in \u001b[0;36mfind_the_day\u001b[1;34m(date)\u001b[0m\n\u001b[0;32m     19\u001b[0m     \u001b[0mweek\u001b[0m \u001b[1;33m=\u001b[0m \u001b[1;33m[\u001b[0m\u001b[0mx\u001b[0m \u001b[1;32mfor\u001b[0m \u001b[0my\u001b[0m \u001b[1;32min\u001b[0m \u001b[0mweek\u001b[0m \u001b[1;32mfor\u001b[0m \u001b[0mx\u001b[0m \u001b[1;32min\u001b[0m \u001b[0my\u001b[0m \u001b[1;32mif\u001b[0m \u001b[0mre\u001b[0m\u001b[1;33m.\u001b[0m\u001b[0msearch\u001b[0m\u001b[1;33m(\u001b[0m\u001b[1;34m'[0-9]'\u001b[0m\u001b[1;33m,\u001b[0m \u001b[0mx\u001b[0m\u001b[1;33m)\u001b[0m\u001b[1;33m]\u001b[0m\u001b[1;33m\u001b[0m\u001b[1;33m\u001b[0m\u001b[0m\n\u001b[0;32m     20\u001b[0m \u001b[1;33m\u001b[0m\u001b[0m\n\u001b[1;32m---> 21\u001b[1;33m     \u001b[0mtargets\u001b[0m \u001b[1;33m=\u001b[0m \u001b[0mweek\u001b[0m\u001b[1;33m[\u001b[0m\u001b[0mrange\u001b[0m\u001b[1;33m(\u001b[0m\u001b[0mint\u001b[0m\u001b[1;33m(\u001b[0m\u001b[0mmonth\u001b[0m\u001b[1;33m)\u001b[0m\u001b[1;33m%\u001b[0m\u001b[1;36m3\u001b[0m\u001b[1;33m-\u001b[0m\u001b[1;36m1\u001b[0m\u001b[1;33m,\u001b[0m \u001b[0mlen\u001b[0m\u001b[1;33m(\u001b[0m\u001b[0mweek\u001b[0m\u001b[1;33m)\u001b[0m\u001b[1;33m,\u001b[0m \u001b[1;36m3\u001b[0m\u001b[1;33m)\u001b[0m\u001b[1;33m]\u001b[0m\u001b[1;33m\u001b[0m\u001b[1;33m\u001b[0m\u001b[0m\n\u001b[0m\u001b[0;32m     22\u001b[0m \u001b[1;33m\u001b[0m\u001b[0m\n\u001b[0;32m     23\u001b[0m     \u001b[1;32mreturn\u001b[0m \u001b[0mtargets\u001b[0m\u001b[1;33m\u001b[0m\u001b[1;33m\u001b[0m\u001b[0m\n",
      "\u001b[1;31mTypeError\u001b[0m: list indices must be integers or slices, not range"
     ]
    }
   ],
   "source": [
    "find_the_day('05 18 2015')"
   ]
  },
  {
   "cell_type": "code",
   "execution_count": 64,
   "id": "0975b056",
   "metadata": {},
   "outputs": [],
   "source": [
    "import calendar\n",
    "import re \n",
    "\n",
    "def find_the_day(date):\n",
    "  \n",
    "    month, day, year = date.split()\n",
    "    months = ['Jan', 'Feb', 'Mar', 'Apr', 'May', 'June', 'July', 'Aug', 'Sep', 'Oct', 'Nov', 'Dec']\n",
    "    dotws = [x.upper() for x in ['Monday', 'Tuesday', 'Wednesday', 'Thursday', 'Friday', 'Saturday', 'Sunday']]\n",
    "    \n",
    "  \n",
    "    dates = calendar.TextCalendar(firstweekday = 7).formatyear(int(year)).split('\\n\\n')\n",
    "    rmonth = months[int(month) -1]\n",
    "        \n",
    "    for x in dates:\n",
    "        if rmonth in x:\n",
    "            weeks = x.split('\\n')\n",
    "            \n",
    "    week = [re.split('\\s{3,}', week) for week in weeks]\n",
    "    week = [x for y in week for x in y if re.search('[0-9]', x)]\n",
    "    \n",
    "    targets = week[int(month)%3-1 : len(week) : 3]\n",
    "    \n",
    "    return targets"
   ]
  },
  {
   "cell_type": "code",
   "execution_count": 65,
   "id": "a796ae5c",
   "metadata": {},
   "outputs": [
    {
     "data": {
      "text/plain": [
       "['1  2  3',\n",
       " '4  5  6  7  8  9 10',\n",
       " '11 12 13 14 15 16 17',\n",
       " '18 19 20 21 22 23 24',\n",
       " '25 26 27 28 29 30 31']"
      ]
     },
     "execution_count": 65,
     "metadata": {},
     "output_type": "execute_result"
    }
   ],
   "source": [
    "find_the_day('05 18 2015')"
   ]
  },
  {
   "cell_type": "code",
   "execution_count": 70,
   "id": "e4f0aed4",
   "metadata": {},
   "outputs": [],
   "source": [
    "import calendar\n",
    "import re \n",
    "\n",
    "def find_the_day(date):\n",
    "  \n",
    "    month, day, year = date.split()\n",
    "    months = ['Jan', 'Feb', 'Mar', 'Apr', 'May', 'June', 'July', 'Aug', 'Sep', 'Oct', 'Nov', 'Dec']\n",
    "    dotws = [x.upper() for x in ['Monday', 'Tuesday', 'Wednesday', 'Thursday', 'Friday', 'Saturday', 'Sunday']]\n",
    "    \n",
    "  \n",
    "    dates = calendar.TextCalendar(firstweekday = 7).formatyear(int(year)).split('\\n\\n')\n",
    "    rmonth = months[int(month) -1]\n",
    "        \n",
    "    for x in dates:\n",
    "        if rmonth in x:\n",
    "            weeks = x.split('\\n')\n",
    "            \n",
    "    week = [re.split('\\s{3,}', week) for week in weeks]\n",
    "    week = [x for y in week for x in y if re.search('[0-9]', x)]\n",
    "    \n",
    "    targets = week[int(month)%3-1 : len(week) : 3]\n",
    "\n",
    "    for i in range(len(targets)):\n",
    "        if day in targets[i].split():\n",
    "            target = targets[i].split()\n",
    "    if str(1) != day:\n",
    "        dotw = dotws[target.index(day)]\n",
    "    else:\n",
    "        dotw = dotws[-(target.index(day)+1)]\n",
    "    \n",
    "    return targets, dotw"
   ]
  },
  {
   "cell_type": "code",
   "execution_count": 75,
   "id": "698ba7d5",
   "metadata": {},
   "outputs": [
    {
     "ename": "UnboundLocalError",
     "evalue": "local variable 'target' referenced before assignment",
     "output_type": "error",
     "traceback": [
      "\u001b[1;31m---------------------------------------------------------------------------\u001b[0m",
      "\u001b[1;31mUnboundLocalError\u001b[0m                         Traceback (most recent call last)",
      "\u001b[1;32mC:\\Users\\AARONC~1\\AppData\\Local\\Temp/ipykernel_17504/1068118077.py\u001b[0m in \u001b[0;36m<module>\u001b[1;34m\u001b[0m\n\u001b[1;32m----> 1\u001b[1;33m \u001b[0mfind_the_day\u001b[0m\u001b[1;33m(\u001b[0m\u001b[1;34m'05 08 2015'\u001b[0m\u001b[1;33m)\u001b[0m\u001b[1;33m\u001b[0m\u001b[1;33m\u001b[0m\u001b[0m\n\u001b[0m",
      "\u001b[1;32mC:\\Users\\AARONC~1\\AppData\\Local\\Temp/ipykernel_17504/3955623007.py\u001b[0m in \u001b[0;36mfind_the_day\u001b[1;34m(date)\u001b[0m\n\u001b[0;32m     25\u001b[0m             \u001b[0mtarget\u001b[0m \u001b[1;33m=\u001b[0m \u001b[0mtargets\u001b[0m\u001b[1;33m[\u001b[0m\u001b[0mi\u001b[0m\u001b[1;33m]\u001b[0m\u001b[1;33m.\u001b[0m\u001b[0msplit\u001b[0m\u001b[1;33m(\u001b[0m\u001b[1;33m)\u001b[0m\u001b[1;33m\u001b[0m\u001b[1;33m\u001b[0m\u001b[0m\n\u001b[0;32m     26\u001b[0m     \u001b[1;32mif\u001b[0m \u001b[0mstr\u001b[0m\u001b[1;33m(\u001b[0m\u001b[1;36m1\u001b[0m\u001b[1;33m)\u001b[0m \u001b[1;33m!=\u001b[0m \u001b[0mday\u001b[0m\u001b[1;33m:\u001b[0m\u001b[1;33m\u001b[0m\u001b[1;33m\u001b[0m\u001b[0m\n\u001b[1;32m---> 27\u001b[1;33m         \u001b[0mdotw\u001b[0m \u001b[1;33m=\u001b[0m \u001b[0mdotws\u001b[0m\u001b[1;33m[\u001b[0m\u001b[0mtarget\u001b[0m\u001b[1;33m.\u001b[0m\u001b[0mindex\u001b[0m\u001b[1;33m(\u001b[0m\u001b[0mday\u001b[0m\u001b[1;33m)\u001b[0m\u001b[1;33m]\u001b[0m\u001b[1;33m\u001b[0m\u001b[1;33m\u001b[0m\u001b[0m\n\u001b[0m\u001b[0;32m     28\u001b[0m     \u001b[1;32melse\u001b[0m\u001b[1;33m:\u001b[0m\u001b[1;33m\u001b[0m\u001b[1;33m\u001b[0m\u001b[0m\n\u001b[0;32m     29\u001b[0m         \u001b[0mdotw\u001b[0m \u001b[1;33m=\u001b[0m \u001b[0mdotws\u001b[0m\u001b[1;33m[\u001b[0m\u001b[1;33m-\u001b[0m\u001b[1;33m(\u001b[0m\u001b[0mtarget\u001b[0m\u001b[1;33m.\u001b[0m\u001b[0mindex\u001b[0m\u001b[1;33m(\u001b[0m\u001b[0mday\u001b[0m\u001b[1;33m)\u001b[0m\u001b[1;33m+\u001b[0m\u001b[1;36m1\u001b[0m\u001b[1;33m)\u001b[0m\u001b[1;33m]\u001b[0m\u001b[1;33m\u001b[0m\u001b[1;33m\u001b[0m\u001b[0m\n",
      "\u001b[1;31mUnboundLocalError\u001b[0m: local variable 'target' referenced before assignment"
     ]
    }
   ],
   "source": [
    "find_the_day('05 08 2015')"
   ]
  },
  {
   "cell_type": "code",
   "execution_count": 73,
   "id": "49c29a0c",
   "metadata": {},
   "outputs": [
    {
     "name": "stdout",
     "output_type": "stream",
     "text": [
      "                                  2015\n",
      "\n",
      "      January                   February                   March\n",
      "Mo Tu We Th Fr Sa Su      Mo Tu We Th Fr Sa Su      Mo Tu We Th Fr Sa Su\n",
      "          1  2  3  4                         1                         1\n",
      " 5  6  7  8  9 10 11       2  3  4  5  6  7  8       2  3  4  5  6  7  8\n",
      "12 13 14 15 16 17 18       9 10 11 12 13 14 15       9 10 11 12 13 14 15\n",
      "19 20 21 22 23 24 25      16 17 18 19 20 21 22      16 17 18 19 20 21 22\n",
      "26 27 28 29 30 31         23 24 25 26 27 28         23 24 25 26 27 28 29\n",
      "                                                    30 31\n",
      "\n",
      "       April                      May                       June\n",
      "Mo Tu We Th Fr Sa Su      Mo Tu We Th Fr Sa Su      Mo Tu We Th Fr Sa Su\n",
      "       1  2  3  4  5                   1  2  3       1  2  3  4  5  6  7\n",
      " 6  7  8  9 10 11 12       4  5  6  7  8  9 10       8  9 10 11 12 13 14\n",
      "13 14 15 16 17 18 19      11 12 13 14 15 16 17      15 16 17 18 19 20 21\n",
      "20 21 22 23 24 25 26      18 19 20 21 22 23 24      22 23 24 25 26 27 28\n",
      "27 28 29 30               25 26 27 28 29 30 31      29 30\n",
      "\n",
      "        July                     August                  September\n",
      "Mo Tu We Th Fr Sa Su      Mo Tu We Th Fr Sa Su      Mo Tu We Th Fr Sa Su\n",
      "       1  2  3  4  5                      1  2          1  2  3  4  5  6\n",
      " 6  7  8  9 10 11 12       3  4  5  6  7  8  9       7  8  9 10 11 12 13\n",
      "13 14 15 16 17 18 19      10 11 12 13 14 15 16      14 15 16 17 18 19 20\n",
      "20 21 22 23 24 25 26      17 18 19 20 21 22 23      21 22 23 24 25 26 27\n",
      "27 28 29 30 31            24 25 26 27 28 29 30      28 29 30\n",
      "                          31\n",
      "\n",
      "      October                   November                  December\n",
      "Mo Tu We Th Fr Sa Su      Mo Tu We Th Fr Sa Su      Mo Tu We Th Fr Sa Su\n",
      "          1  2  3  4                         1          1  2  3  4  5  6\n",
      " 5  6  7  8  9 10 11       2  3  4  5  6  7  8       7  8  9 10 11 12 13\n",
      "12 13 14 15 16 17 18       9 10 11 12 13 14 15      14 15 16 17 18 19 20\n",
      "19 20 21 22 23 24 25      16 17 18 19 20 21 22      21 22 23 24 25 26 27\n",
      "26 27 28 29 30 31         23 24 25 26 27 28 29      28 29 30 31\n",
      "                          30\n",
      "\n"
     ]
    }
   ],
   "source": [
    "print(calendar.TextCalendar(firstweekday = 7).formatyear(2015))"
   ]
  },
  {
   "cell_type": "code",
   "execution_count": 86,
   "id": "953032f5",
   "metadata": {},
   "outputs": [],
   "source": [
    "import calendar\n",
    "import re \n",
    "\n",
    "def find_the_day(date):\n",
    "  \n",
    "    month, day, year = date.split()\n",
    "    months = ['Jan', 'Feb', 'Mar', 'Apr', 'May', 'June', 'July', 'Aug', 'Sep', 'Oct', 'Nov', 'Dec']\n",
    "    dotws = [x.upper() for x in ['Monday', 'Tuesday', 'Wednesday', 'Thursday', 'Friday', 'Saturday', 'Sunday']]\n",
    "    \n",
    "  \n",
    "    dates = calendar.TextCalendar(firstweekday = 7).formatyear(int(year)).split('\\n\\n')\n",
    "    rmonth = months[int(month) -1]\n",
    "        \n",
    "    for x in dates:\n",
    "        if rmonth in x:\n",
    "            weeks = x.split('\\n')\n",
    "            \n",
    "    week = [re.split('\\s{3,}', week) for week in weeks]\n",
    "    week = [x for y in week for x in y if re.search('[0-9]', x)]\n",
    "    \n",
    "    targets = week[int(month)%3-1 : len(week) : 3]\n",
    "\n",
    "    for i in range(len(targets)):\n",
    "        if int(day) in map(int, targets[i].split()):\n",
    "            target = targets[i].split()\n",
    "    \n",
    "    return targets, target"
   ]
  },
  {
   "cell_type": "code",
   "execution_count": 87,
   "id": "ca617437",
   "metadata": {},
   "outputs": [
    {
     "data": {
      "text/plain": [
       "(['1  2  3',\n",
       "  '4  5  6  7  8  9 10',\n",
       "  '11 12 13 14 15 16 17',\n",
       "  '18 19 20 21 22 23 24',\n",
       "  '25 26 27 28 29 30 31'],\n",
       " ['4', '5', '6', '7', '8', '9', '10'])"
      ]
     },
     "execution_count": 87,
     "metadata": {},
     "output_type": "execute_result"
    }
   ],
   "source": [
    "find_the_day('05 08 2015')"
   ]
  },
  {
   "cell_type": "code",
   "execution_count": 95,
   "id": "3d3c8c74",
   "metadata": {},
   "outputs": [],
   "source": [
    "import calendar\n",
    "import re \n",
    "\n",
    "def find_the_day(date):\n",
    "  \n",
    "    month, day, year = date.split()\n",
    "    months = ['Jan', 'Feb', 'Mar', 'Apr', 'May', 'June', 'July', 'Aug', 'Sep', 'Oct', 'Nov', 'Dec']\n",
    "    dotws = [x.upper() for x in ['Monday', 'Tuesday', 'Wednesday', 'Thursday', 'Friday', 'Saturday', 'Sunday']]\n",
    "    \n",
    "  \n",
    "    dates = calendar.TextCalendar(firstweekday = 7).formatyear(int(year)).split('\\n\\n')\n",
    "    rmonth = months[int(month) -1]\n",
    "        \n",
    "    for x in dates:\n",
    "        if rmonth in x:\n",
    "            weeks = x.split('\\n')\n",
    "            \n",
    "    week = [re.split('\\s{3,}', week) for week in weeks]\n",
    "    week = [x for y in week for x in y if re.search('[0-9]', x)]\n",
    "    \n",
    "    targets = week[int(month)%3-1 : len(week) : 3]\n",
    "\n",
    "    for i in range(len(targets)):\n",
    "        if int(day) in map(int, targets[i].split()):\n",
    "            target = map(int,targets[i].split())\n",
    "    \n",
    "    if str(1) != day:\n",
    "        dotw = dotws[list(target).index(int(day))]\n",
    "    else:\n",
    "        dotw = dotws[-(list(target).index(int(day))+1)]\n",
    "    \n",
    "    return dotw"
   ]
  },
  {
   "cell_type": "code",
   "execution_count": 96,
   "id": "0d369001",
   "metadata": {},
   "outputs": [
    {
     "data": {
      "text/plain": [
       "'WEDNESDAY'"
      ]
     },
     "execution_count": 96,
     "metadata": {},
     "output_type": "execute_result"
    }
   ],
   "source": [
    "find_the_day('08 05 2015')"
   ]
  },
  {
   "cell_type": "markdown",
   "id": "105982f4",
   "metadata": {},
   "source": [
    "- collections.Counter()"
   ]
  },
  {
   "cell_type": "code",
   "execution_count": 97,
   "id": "9bb022b1",
   "metadata": {},
   "outputs": [],
   "source": [
    "from collections import Counter"
   ]
  },
  {
   "cell_type": "code",
   "execution_count": 98,
   "id": "5de0edf7",
   "metadata": {},
   "outputs": [],
   "source": [
    "myList = [3, 3, 5, 4, 1, 1, 2, 3,3 ,3, 55]"
   ]
  },
  {
   "cell_type": "code",
   "execution_count": 99,
   "id": "1e790eaf",
   "metadata": {},
   "outputs": [
    {
     "data": {
      "text/plain": [
       "Counter({3: 5, 5: 1, 4: 1, 1: 2, 2: 1, 55: 1})"
      ]
     },
     "execution_count": 99,
     "metadata": {},
     "output_type": "execute_result"
    }
   ],
   "source": [
    "Counter(myList)"
   ]
  },
  {
   "cell_type": "code",
   "execution_count": 101,
   "id": "a1270f6e",
   "metadata": {},
   "outputs": [
    {
     "data": {
      "text/plain": [
       "collections.Counter"
      ]
     },
     "execution_count": 101,
     "metadata": {},
     "output_type": "execute_result"
    }
   ],
   "source": [
    "type(Counter(myList))"
   ]
  },
  {
   "cell_type": "code",
   "execution_count": 102,
   "id": "68fc63e7",
   "metadata": {},
   "outputs": [],
   "source": [
    "count = Counter(myList)"
   ]
  },
  {
   "cell_type": "code",
   "execution_count": 103,
   "id": "f0c8edb3",
   "metadata": {},
   "outputs": [
    {
     "data": {
      "text/plain": [
       "dict_items([(3, 5), (5, 1), (4, 1), (1, 2), (2, 1), (55, 1)])"
      ]
     },
     "execution_count": 103,
     "metadata": {},
     "output_type": "execute_result"
    }
   ],
   "source": [
    "count.items()"
   ]
  },
  {
   "cell_type": "code",
   "execution_count": 104,
   "id": "abf633ca",
   "metadata": {},
   "outputs": [
    {
     "data": {
      "text/plain": [
       "dict_values([5, 1, 1, 2, 1, 1])"
      ]
     },
     "execution_count": 104,
     "metadata": {},
     "output_type": "execute_result"
    }
   ],
   "source": [
    "count.values()"
   ]
  },
  {
   "cell_type": "code",
   "execution_count": 105,
   "id": "8493a53f",
   "metadata": {},
   "outputs": [
    {
     "data": {
      "text/plain": [
       "dict_keys([3, 5, 4, 1, 2, 55])"
      ]
     },
     "execution_count": 105,
     "metadata": {},
     "output_type": "execute_result"
    }
   ],
   "source": [
    "count.keys()"
   ]
  },
  {
   "cell_type": "code",
   "execution_count": 106,
   "id": "c6b2403b",
   "metadata": {},
   "outputs": [
    {
     "ename": "NameError",
     "evalue": "name 'sort' is not defined",
     "output_type": "error",
     "traceback": [
      "\u001b[1;31m---------------------------------------------------------------------------\u001b[0m",
      "\u001b[1;31mNameError\u001b[0m                                 Traceback (most recent call last)",
      "\u001b[1;32mC:\\Users\\AARONC~1\\AppData\\Local\\Temp/ipykernel_17504/1675897831.py\u001b[0m in \u001b[0;36m<module>\u001b[1;34m\u001b[0m\n\u001b[1;32m----> 1\u001b[1;33m \u001b[0msort\u001b[0m\u001b[1;33m(\u001b[0m\u001b[0mcount\u001b[0m\u001b[1;33m)\u001b[0m\u001b[1;33m\u001b[0m\u001b[1;33m\u001b[0m\u001b[0m\n\u001b[0m",
      "\u001b[1;31mNameError\u001b[0m: name 'sort' is not defined"
     ]
    }
   ],
   "source": [
    "sort(count)"
   ]
  },
  {
   "cell_type": "code",
   "execution_count": 107,
   "id": "7f773da9",
   "metadata": {},
   "outputs": [
    {
     "data": {
      "text/plain": [
       "[1, 2, 3, 4, 5, 55]"
      ]
     },
     "execution_count": 107,
     "metadata": {},
     "output_type": "execute_result"
    }
   ],
   "source": [
    "sorted(count)"
   ]
  },
  {
   "cell_type": "code",
   "execution_count": 108,
   "id": "daa96809",
   "metadata": {},
   "outputs": [
    {
     "name": "stdout",
     "output_type": "stream",
     "text": [
      "3\n",
      "5\n",
      "4\n",
      "1\n",
      "2\n",
      "55\n"
     ]
    }
   ],
   "source": [
    "for i in count:\n",
    "    print(i)"
   ]
  },
  {
   "cell_type": "code",
   "execution_count": null,
   "id": "848efb0d",
   "metadata": {},
   "outputs": [],
   "source": [
    "from collections import Counter\n",
    "\n",
    "X = input()\n",
    "supplies = Counter(input().split())\n",
    "demands = []\n",
    "earnings = dict()\n",
    "\n",
    "for i in range(len(input())):\n",
    "    demands[i] = input().split()\n",
    "    "
   ]
  },
  {
   "cell_type": "code",
   "execution_count": 109,
   "id": "53fd2cce",
   "metadata": {},
   "outputs": [],
   "source": [
    "Dict = dict()\n",
    "name = ['John', 'Cassey', 'Cassey']\n",
    "demand = [300, 500, 5000]"
   ]
  },
  {
   "cell_type": "code",
   "execution_count": 111,
   "id": "c1c4ce70",
   "metadata": {},
   "outputs": [
    {
     "ename": "KeyError",
     "evalue": "'John'",
     "output_type": "error",
     "traceback": [
      "\u001b[1;31m---------------------------------------------------------------------------\u001b[0m",
      "\u001b[1;31mKeyError\u001b[0m                                  Traceback (most recent call last)",
      "\u001b[1;32mC:\\Users\\AARONC~1\\AppData\\Local\\Temp/ipykernel_17504/171378298.py\u001b[0m in \u001b[0;36m<module>\u001b[1;34m\u001b[0m\n\u001b[0;32m      1\u001b[0m \u001b[1;32mfor\u001b[0m \u001b[0mi\u001b[0m \u001b[1;32min\u001b[0m \u001b[0mrange\u001b[0m\u001b[1;33m(\u001b[0m\u001b[0mlen\u001b[0m\u001b[1;33m(\u001b[0m\u001b[0mname\u001b[0m\u001b[1;33m)\u001b[0m\u001b[1;33m)\u001b[0m\u001b[1;33m:\u001b[0m\u001b[1;33m\u001b[0m\u001b[1;33m\u001b[0m\u001b[0m\n\u001b[1;32m----> 2\u001b[1;33m     \u001b[0mDict\u001b[0m\u001b[1;33m[\u001b[0m\u001b[0mname\u001b[0m\u001b[1;33m[\u001b[0m\u001b[0mi\u001b[0m\u001b[1;33m]\u001b[0m\u001b[1;33m]\u001b[0m \u001b[1;33m+=\u001b[0m \u001b[0mdemand\u001b[0m\u001b[1;33m[\u001b[0m\u001b[0mi\u001b[0m\u001b[1;33m]\u001b[0m\u001b[1;33m\u001b[0m\u001b[1;33m\u001b[0m\u001b[0m\n\u001b[0m",
      "\u001b[1;31mKeyError\u001b[0m: 'John'"
     ]
    }
   ],
   "source": [
    "for i in range(len(name)):\n",
    "    Dict[name[i]] += demand[i]"
   ]
  },
  {
   "cell_type": "code",
   "execution_count": 114,
   "id": "41daa95e",
   "metadata": {},
   "outputs": [],
   "source": [
    "Dict = dict() \n",
    "for i in range(len(name)):\n",
    "    if name[i] in Dict.keys():\n",
    "        Dict[name[i]] += demand[i]\n",
    "    else:\n",
    "        Dict[name[i]] = demand[i]"
   ]
  },
  {
   "cell_type": "code",
   "execution_count": 113,
   "id": "5f661591",
   "metadata": {},
   "outputs": [
    {
     "data": {
      "text/plain": [
       "{'John': 300, 'Cassey': 5500}"
      ]
     },
     "execution_count": 113,
     "metadata": {},
     "output_type": "execute_result"
    }
   ],
   "source": [
    "Dict"
   ]
  },
  {
   "cell_type": "code",
   "execution_count": 115,
   "id": "6db10cc5",
   "metadata": {},
   "outputs": [
    {
     "data": {
      "text/plain": [
       "dict_values([300, 5500])"
      ]
     },
     "execution_count": 115,
     "metadata": {},
     "output_type": "execute_result"
    }
   ],
   "source": [
    "Dict.values()"
   ]
  },
  {
   "cell_type": "code",
   "execution_count": 117,
   "id": "17006bb0",
   "metadata": {},
   "outputs": [
    {
     "ename": "TypeError",
     "evalue": "'dict_values' object is not subscriptable",
     "output_type": "error",
     "traceback": [
      "\u001b[1;31m---------------------------------------------------------------------------\u001b[0m",
      "\u001b[1;31mTypeError\u001b[0m                                 Traceback (most recent call last)",
      "\u001b[1;32mC:\\Users\\AARONC~1\\AppData\\Local\\Temp/ipykernel_17504/2226374628.py\u001b[0m in \u001b[0;36m<module>\u001b[1;34m\u001b[0m\n\u001b[1;32m----> 1\u001b[1;33m \u001b[0mDict\u001b[0m\u001b[1;33m.\u001b[0m\u001b[0mvalues\u001b[0m\u001b[1;33m(\u001b[0m\u001b[1;33m)\u001b[0m\u001b[1;33m[\u001b[0m\u001b[1;36m0\u001b[0m\u001b[1;33m]\u001b[0m\u001b[1;33m\u001b[0m\u001b[1;33m\u001b[0m\u001b[0m\n\u001b[0m",
      "\u001b[1;31mTypeError\u001b[0m: 'dict_values' object is not subscriptable"
     ]
    }
   ],
   "source": [
    "Dict.values()[0]"
   ]
  },
  {
   "cell_type": "code",
   "execution_count": 118,
   "id": "0d21e156",
   "metadata": {},
   "outputs": [
    {
     "ename": "TypeError",
     "evalue": "'int' object is not iterable",
     "output_type": "error",
     "traceback": [
      "\u001b[1;31m---------------------------------------------------------------------------\u001b[0m",
      "\u001b[1;31mTypeError\u001b[0m                                 Traceback (most recent call last)",
      "\u001b[1;32mC:\\Users\\AARONC~1\\AppData\\Local\\Temp/ipykernel_17504/2402825144.py\u001b[0m in \u001b[0;36m<module>\u001b[1;34m\u001b[0m\n\u001b[0;32m      2\u001b[0m \u001b[1;32mfor\u001b[0m \u001b[0mi\u001b[0m \u001b[1;32min\u001b[0m \u001b[0mrange\u001b[0m\u001b[1;33m(\u001b[0m\u001b[0mlen\u001b[0m\u001b[1;33m(\u001b[0m\u001b[0mname\u001b[0m\u001b[1;33m)\u001b[0m\u001b[1;33m)\u001b[0m\u001b[1;33m:\u001b[0m\u001b[1;33m\u001b[0m\u001b[1;33m\u001b[0m\u001b[0m\n\u001b[0;32m      3\u001b[0m     \u001b[1;32mif\u001b[0m \u001b[0mname\u001b[0m\u001b[1;33m[\u001b[0m\u001b[0mi\u001b[0m\u001b[1;33m]\u001b[0m \u001b[1;32min\u001b[0m \u001b[0mDict\u001b[0m\u001b[1;33m.\u001b[0m\u001b[0mkeys\u001b[0m\u001b[1;33m(\u001b[0m\u001b[1;33m)\u001b[0m\u001b[1;33m:\u001b[0m\u001b[1;33m\u001b[0m\u001b[1;33m\u001b[0m\u001b[0m\n\u001b[1;32m----> 4\u001b[1;33m         \u001b[0mDict\u001b[0m\u001b[1;33m[\u001b[0m\u001b[0mname\u001b[0m\u001b[1;33m[\u001b[0m\u001b[0mi\u001b[0m\u001b[1;33m]\u001b[0m\u001b[1;33m]\u001b[0m \u001b[1;33m=\u001b[0m \u001b[0mlist\u001b[0m\u001b[1;33m(\u001b[0m\u001b[0mDict\u001b[0m\u001b[1;33m[\u001b[0m\u001b[0mname\u001b[0m\u001b[1;33m[\u001b[0m\u001b[0mi\u001b[0m\u001b[1;33m]\u001b[0m\u001b[1;33m]\u001b[0m\u001b[1;33m)\u001b[0m\u001b[1;33m.\u001b[0m\u001b[0mappend\u001b[0m\u001b[1;33m(\u001b[0m\u001b[0mdemand\u001b[0m\u001b[1;33m[\u001b[0m\u001b[0mi\u001b[0m\u001b[1;33m]\u001b[0m\u001b[1;33m)\u001b[0m\u001b[1;33m\u001b[0m\u001b[1;33m\u001b[0m\u001b[0m\n\u001b[0m\u001b[0;32m      5\u001b[0m     \u001b[1;32melse\u001b[0m\u001b[1;33m:\u001b[0m\u001b[1;33m\u001b[0m\u001b[1;33m\u001b[0m\u001b[0m\n\u001b[0;32m      6\u001b[0m         \u001b[0mDict\u001b[0m\u001b[1;33m[\u001b[0m\u001b[0mname\u001b[0m\u001b[1;33m[\u001b[0m\u001b[0mi\u001b[0m\u001b[1;33m]\u001b[0m\u001b[1;33m]\u001b[0m \u001b[1;33m=\u001b[0m \u001b[0mdemand\u001b[0m\u001b[1;33m[\u001b[0m\u001b[0mi\u001b[0m\u001b[1;33m]\u001b[0m\u001b[1;33m\u001b[0m\u001b[1;33m\u001b[0m\u001b[0m\n",
      "\u001b[1;31mTypeError\u001b[0m: 'int' object is not iterable"
     ]
    }
   ],
   "source": [
    "Dict = dict() \n",
    "for i in range(len(name)):\n",
    "    if name[i] in Dict.keys():\n",
    "        Dict[name[i]] = list(Dict[name[i]]).append(demand[i])\n",
    "    else:\n",
    "        Dict[name[i]] = demand[i]"
   ]
  },
  {
   "cell_type": "code",
   "execution_count": 119,
   "id": "db9ed4bc",
   "metadata": {},
   "outputs": [
    {
     "ename": "TypeError",
     "evalue": "'int' object is not iterable",
     "output_type": "error",
     "traceback": [
      "\u001b[1;31m---------------------------------------------------------------------------\u001b[0m",
      "\u001b[1;31mTypeError\u001b[0m                                 Traceback (most recent call last)",
      "\u001b[1;32mC:\\Users\\AARONC~1\\AppData\\Local\\Temp/ipykernel_17504/2849344966.py\u001b[0m in \u001b[0;36m<module>\u001b[1;34m\u001b[0m\n\u001b[1;32m----> 1\u001b[1;33m \u001b[0mlist\u001b[0m\u001b[1;33m(\u001b[0m\u001b[0mDict\u001b[0m\u001b[1;33m[\u001b[0m\u001b[0mname\u001b[0m\u001b[1;33m[\u001b[0m\u001b[1;36m2\u001b[0m\u001b[1;33m]\u001b[0m\u001b[1;33m]\u001b[0m\u001b[1;33m)\u001b[0m\u001b[1;33m.\u001b[0m\u001b[0mappend\u001b[0m\u001b[1;33m(\u001b[0m\u001b[0mdemand\u001b[0m\u001b[1;33m[\u001b[0m\u001b[1;36m1\u001b[0m\u001b[1;33m]\u001b[0m\u001b[1;33m)\u001b[0m\u001b[1;33m\u001b[0m\u001b[1;33m\u001b[0m\u001b[0m\n\u001b[0m",
      "\u001b[1;31mTypeError\u001b[0m: 'int' object is not iterable"
     ]
    }
   ],
   "source": [
    "list(Dict[name[2]]).append(demand[1])"
   ]
  },
  {
   "cell_type": "code",
   "execution_count": 120,
   "id": "d9353b15",
   "metadata": {},
   "outputs": [
    {
     "data": {
      "text/plain": [
       "500"
      ]
     },
     "execution_count": 120,
     "metadata": {},
     "output_type": "execute_result"
    }
   ],
   "source": [
    "demand[1]"
   ]
  },
  {
   "cell_type": "code",
   "execution_count": 122,
   "id": "fed1b0a4",
   "metadata": {},
   "outputs": [
    {
     "data": {
      "text/plain": [
       "500"
      ]
     },
     "execution_count": 122,
     "metadata": {},
     "output_type": "execute_result"
    }
   ],
   "source": [
    "Dict[name[2]]"
   ]
  },
  {
   "cell_type": "code",
   "execution_count": 129,
   "id": "549c245d",
   "metadata": {},
   "outputs": [],
   "source": [
    "Dict[name[2]] = [Dict[name[2]]].append(demand[1])"
   ]
  },
  {
   "cell_type": "code",
   "execution_count": 130,
   "id": "badb1559",
   "metadata": {},
   "outputs": [
    {
     "data": {
      "text/plain": [
       "{'John': 300, 'Cassey': None}"
      ]
     },
     "execution_count": 130,
     "metadata": {},
     "output_type": "execute_result"
    }
   ],
   "source": [
    "Dict"
   ]
  },
  {
   "cell_type": "code",
   "execution_count": 131,
   "id": "0f4baab4",
   "metadata": {},
   "outputs": [],
   "source": [
    "Dict = dict() \n",
    "for i in range(len(name)):\n",
    "    if name[i] in Dict.keys():\n",
    "        [Dict[name[i]]].append(demand[i])\n",
    "    else:\n",
    "        Dict[name[i]] = demand[i]"
   ]
  },
  {
   "cell_type": "code",
   "execution_count": 132,
   "id": "8d0fe220",
   "metadata": {},
   "outputs": [
    {
     "data": {
      "text/plain": [
       "{'John': 300, 'Cassey': 500}"
      ]
     },
     "execution_count": 132,
     "metadata": {},
     "output_type": "execute_result"
    }
   ],
   "source": [
    "Dict"
   ]
  },
  {
   "cell_type": "code",
   "execution_count": 134,
   "id": "fcb2ab7b",
   "metadata": {},
   "outputs": [
    {
     "data": {
      "text/plain": [
       "[300, 500, 5000]"
      ]
     },
     "execution_count": 134,
     "metadata": {},
     "output_type": "execute_result"
    }
   ],
   "source": [
    "demand"
   ]
  },
  {
   "cell_type": "code",
   "execution_count": 19,
   "id": "0ff7e69c",
   "metadata": {},
   "outputs": [],
   "source": [
    "from collections import Counter\n",
    "X = 10\n",
    "supplies = Counter(map(int, '2 3 4 5 6 8 7 6 5 18'.split()))\n",
    "demands = [['6', '55'], ['6', '45'], ['6', '55'], ['4', '40'], ['18', '60'], ['10', '50']]"
   ]
  },
  {
   "cell_type": "code",
   "execution_count": 3,
   "id": "ec10cd84",
   "metadata": {},
   "outputs": [
    {
     "data": {
      "text/plain": [
       "Counter({2: 1, 3: 1, 4: 1, 5: 2, 6: 2, 8: 1, 7: 1, 18: 1})"
      ]
     },
     "execution_count": 3,
     "metadata": {},
     "output_type": "execute_result"
    }
   ],
   "source": [
    "supplies"
   ]
  },
  {
   "cell_type": "code",
   "execution_count": 5,
   "id": "54e56ce0",
   "metadata": {},
   "outputs": [
    {
     "data": {
      "text/plain": [
       "<map at 0x2717d7d5100>"
      ]
     },
     "execution_count": 5,
     "metadata": {},
     "output_type": "execute_result"
    }
   ],
   "source": [
    "map(int, [['6', '55'], ['6', '45'], ['6', '55'], ['4', '40'], ['18', '60'], ['10', '50']])"
   ]
  },
  {
   "cell_type": "code",
   "execution_count": 6,
   "id": "acbe142a",
   "metadata": {},
   "outputs": [
    {
     "ename": "TypeError",
     "evalue": "int() argument must be a string, a bytes-like object or a number, not 'list'",
     "output_type": "error",
     "traceback": [
      "\u001b[1;31m---------------------------------------------------------------------------\u001b[0m",
      "\u001b[1;31mTypeError\u001b[0m                                 Traceback (most recent call last)",
      "\u001b[1;32mC:\\Users\\AARONC~1\\AppData\\Local\\Temp/ipykernel_6664/3838592528.py\u001b[0m in \u001b[0;36m<module>\u001b[1;34m\u001b[0m\n\u001b[1;32m----> 1\u001b[1;33m \u001b[0mlist\u001b[0m\u001b[1;33m(\u001b[0m\u001b[0mmap\u001b[0m\u001b[1;33m(\u001b[0m\u001b[0mint\u001b[0m\u001b[1;33m,\u001b[0m \u001b[1;33m[\u001b[0m\u001b[1;33m[\u001b[0m\u001b[1;34m'6'\u001b[0m\u001b[1;33m,\u001b[0m \u001b[1;34m'55'\u001b[0m\u001b[1;33m]\u001b[0m\u001b[1;33m,\u001b[0m \u001b[1;33m[\u001b[0m\u001b[1;34m'6'\u001b[0m\u001b[1;33m,\u001b[0m \u001b[1;34m'45'\u001b[0m\u001b[1;33m]\u001b[0m\u001b[1;33m,\u001b[0m \u001b[1;33m[\u001b[0m\u001b[1;34m'6'\u001b[0m\u001b[1;33m,\u001b[0m \u001b[1;34m'55'\u001b[0m\u001b[1;33m]\u001b[0m\u001b[1;33m,\u001b[0m \u001b[1;33m[\u001b[0m\u001b[1;34m'4'\u001b[0m\u001b[1;33m,\u001b[0m \u001b[1;34m'40'\u001b[0m\u001b[1;33m]\u001b[0m\u001b[1;33m,\u001b[0m \u001b[1;33m[\u001b[0m\u001b[1;34m'18'\u001b[0m\u001b[1;33m,\u001b[0m \u001b[1;34m'60'\u001b[0m\u001b[1;33m]\u001b[0m\u001b[1;33m,\u001b[0m \u001b[1;33m[\u001b[0m\u001b[1;34m'10'\u001b[0m\u001b[1;33m,\u001b[0m \u001b[1;34m'50'\u001b[0m\u001b[1;33m]\u001b[0m\u001b[1;33m]\u001b[0m\u001b[1;33m)\u001b[0m\u001b[1;33m)\u001b[0m\u001b[1;33m\u001b[0m\u001b[1;33m\u001b[0m\u001b[0m\n\u001b[0m",
      "\u001b[1;31mTypeError\u001b[0m: int() argument must be a string, a bytes-like object or a number, not 'list'"
     ]
    }
   ],
   "source": [
    "list(map(int, [['6', '55'], ['6', '45'], ['6', '55'], ['4', '40'], ['18', '60'], ['10', '50']]))"
   ]
  },
  {
   "cell_type": "code",
   "execution_count": 7,
   "id": "2efb6d7a",
   "metadata": {},
   "outputs": [],
   "source": [
    "for i in range(len(demands)):\n",
    "    if supplies[int(demands[i][0])] != 0:\n",
    "        if int(demands[i][0]) in supplies:\n",
    "            supplies[int(demands[i][0])] -= 1"
   ]
  },
  {
   "cell_type": "code",
   "execution_count": 8,
   "id": "27adae2d",
   "metadata": {},
   "outputs": [
    {
     "data": {
      "text/plain": [
       "Counter({2: 1, 3: 1, 4: 0, 5: 2, 6: 0, 8: 1, 7: 1, 18: 0})"
      ]
     },
     "execution_count": 8,
     "metadata": {},
     "output_type": "execute_result"
    }
   ],
   "source": [
    "supplies"
   ]
  },
  {
   "cell_type": "code",
   "execution_count": 153,
   "id": "0819bae8",
   "metadata": {},
   "outputs": [
    {
     "data": {
      "text/plain": [
       "['2', '3', '4', '5', '6', '8', '7', '6', '5', '18']"
      ]
     },
     "execution_count": 153,
     "metadata": {},
     "output_type": "execute_result"
    }
   ],
   "source": [
    "'2 3 4 5 6 8 7 6 5 18'.split()"
   ]
  },
  {
   "cell_type": "code",
   "execution_count": 154,
   "id": "070d96a1",
   "metadata": {},
   "outputs": [
    {
     "data": {
      "text/plain": [
       "Counter({'2': 1, '3': 1, '4': 1, '5': 2, '6': 2, '8': 1, '7': 1, '18': 1})"
      ]
     },
     "execution_count": 154,
     "metadata": {},
     "output_type": "execute_result"
    }
   ],
   "source": [
    "Counter('2 3 4 5 6 8 7 6 5 18'.split())"
   ]
  },
  {
   "cell_type": "code",
   "execution_count": 158,
   "id": "d07e343f",
   "metadata": {},
   "outputs": [
    {
     "name": "stdout",
     "output_type": "stream",
     "text": [
      "True\n",
      "True\n",
      "True\n",
      "True\n",
      "True\n",
      "True\n",
      "True\n",
      "True\n"
     ]
    }
   ],
   "source": [
    "for i in range(len(supplies)):\n",
    "    if '5' in supplies:\n",
    "        print(True)"
   ]
  },
  {
   "cell_type": "code",
   "execution_count": 166,
   "id": "a0e1c0d0",
   "metadata": {},
   "outputs": [],
   "source": [
    "n = 3\n",
    "for i in range(10):\n",
    "    n -= i "
   ]
  },
  {
   "cell_type": "code",
   "execution_count": 167,
   "id": "61d5c994",
   "metadata": {},
   "outputs": [
    {
     "data": {
      "text/plain": [
       "-42"
      ]
     },
     "execution_count": 167,
     "metadata": {},
     "output_type": "execute_result"
    }
   ],
   "source": [
    "n"
   ]
  },
  {
   "cell_type": "code",
   "execution_count": 168,
   "id": "80b39dae",
   "metadata": {},
   "outputs": [
    {
     "ename": "SyntaxError",
     "evalue": "invalid syntax (Temp/ipykernel_17504/2914617517.py, line 1)",
     "output_type": "error",
     "traceback": [
      "\u001b[1;36m  File \u001b[1;32m\"C:\\Users\\AARONC~1\\AppData\\Local\\Temp/ipykernel_17504/2914617517.py\"\u001b[1;36m, line \u001b[1;32m1\u001b[0m\n\u001b[1;33m    Dict = dict('a':3)\u001b[0m\n\u001b[1;37m                   ^\u001b[0m\n\u001b[1;31mSyntaxError\u001b[0m\u001b[1;31m:\u001b[0m invalid syntax\n"
     ]
    }
   ],
   "source": [
    "Dict = dict('a':3)"
   ]
  },
  {
   "cell_type": "code",
   "execution_count": 20,
   "id": "b736d041",
   "metadata": {},
   "outputs": [],
   "source": [
    "X = 10\n",
    "supplies = Counter(map(int, '2 3 4 5 6 8 7 6 5 18'.split()))\n",
    "demands = [['6', '55'], ['6', '45'], ['6', '55'], ['4', '40'], ['18', '60'], ['10', '50']]"
   ]
  },
  {
   "cell_type": "code",
   "execution_count": 21,
   "id": "77828213",
   "metadata": {},
   "outputs": [],
   "source": [
    "earnings = 0\n",
    "for i in range(len(demands)):\n",
    "    if supplies[int(demands[i][0])] != 0:\n",
    "        if int(demands[i][0]) in supplies:\n",
    "            earnings += int(demands[i][1])\n",
    "            supplies[int(demands[i][0])] -= 1\n",
    "            \n",
    "            "
   ]
  },
  {
   "cell_type": "code",
   "execution_count": 23,
   "id": "6326fda8",
   "metadata": {
    "scrolled": true
   },
   "outputs": [
    {
     "data": {
      "text/plain": [
       "200"
      ]
     },
     "execution_count": 23,
     "metadata": {},
     "output_type": "execute_result"
    }
   ],
   "source": [
    "earnings"
   ]
  },
  {
   "cell_type": "code",
   "execution_count": 27,
   "id": "e333147b",
   "metadata": {},
   "outputs": [
    {
     "name": "stdout",
     "output_type": "stream",
     "text": [
      "fdsa\n",
      "fdsa\n"
     ]
    },
    {
     "ename": "ValueError",
     "evalue": "invalid literal for int() with base 10: 'fdsa'",
     "output_type": "error",
     "traceback": [
      "\u001b[1;31m---------------------------------------------------------------------------\u001b[0m",
      "\u001b[1;31mValueError\u001b[0m                                Traceback (most recent call last)",
      "\u001b[1;32mC:\\Users\\AARONC~1\\AppData\\Local\\Temp/ipykernel_6664/3667227900.py\u001b[0m in \u001b[0;36m<module>\u001b[1;34m\u001b[0m\n\u001b[0;32m      1\u001b[0m \u001b[0mX\u001b[0m \u001b[1;33m=\u001b[0m \u001b[0minput\u001b[0m\u001b[1;33m(\u001b[0m\u001b[1;33m)\u001b[0m\u001b[1;33m\u001b[0m\u001b[1;33m\u001b[0m\u001b[0m\n\u001b[1;32m----> 2\u001b[1;33m \u001b[0msupplies\u001b[0m \u001b[1;33m=\u001b[0m \u001b[0mCounter\u001b[0m\u001b[1;33m(\u001b[0m\u001b[0mmap\u001b[0m\u001b[1;33m(\u001b[0m\u001b[0mint\u001b[0m\u001b[1;33m,\u001b[0m \u001b[0minput\u001b[0m\u001b[1;33m(\u001b[0m\u001b[1;33m)\u001b[0m\u001b[1;33m.\u001b[0m\u001b[0msplit\u001b[0m\u001b[1;33m(\u001b[0m\u001b[1;33m)\u001b[0m\u001b[1;33m)\u001b[0m\u001b[1;33m)\u001b[0m\u001b[1;33m\u001b[0m\u001b[1;33m\u001b[0m\u001b[0m\n\u001b[0m\u001b[0;32m      3\u001b[0m \u001b[0mdemands\u001b[0m \u001b[1;33m=\u001b[0m \u001b[1;33m[\u001b[0m\u001b[1;33m]\u001b[0m\u001b[1;33m\u001b[0m\u001b[1;33m\u001b[0m\u001b[0m\n\u001b[0;32m      4\u001b[0m \u001b[0mearnings\u001b[0m \u001b[1;33m=\u001b[0m \u001b[1;36m0\u001b[0m\u001b[1;33m\u001b[0m\u001b[1;33m\u001b[0m\u001b[0m\n\u001b[0;32m      5\u001b[0m \u001b[1;33m\u001b[0m\u001b[0m\n",
      "\u001b[1;32m~\\AppData\\Local\\Programs\\Python\\Python39\\lib\\collections\\__init__.py\u001b[0m in \u001b[0;36m__init__\u001b[1;34m(self, iterable, **kwds)\u001b[0m\n\u001b[0;32m    591\u001b[0m         '''\n\u001b[0;32m    592\u001b[0m         \u001b[0msuper\u001b[0m\u001b[1;33m(\u001b[0m\u001b[1;33m)\u001b[0m\u001b[1;33m.\u001b[0m\u001b[0m__init__\u001b[0m\u001b[1;33m(\u001b[0m\u001b[1;33m)\u001b[0m\u001b[1;33m\u001b[0m\u001b[1;33m\u001b[0m\u001b[0m\n\u001b[1;32m--> 593\u001b[1;33m         \u001b[0mself\u001b[0m\u001b[1;33m.\u001b[0m\u001b[0mupdate\u001b[0m\u001b[1;33m(\u001b[0m\u001b[0miterable\u001b[0m\u001b[1;33m,\u001b[0m \u001b[1;33m**\u001b[0m\u001b[0mkwds\u001b[0m\u001b[1;33m)\u001b[0m\u001b[1;33m\u001b[0m\u001b[1;33m\u001b[0m\u001b[0m\n\u001b[0m\u001b[0;32m    594\u001b[0m \u001b[1;33m\u001b[0m\u001b[0m\n\u001b[0;32m    595\u001b[0m     \u001b[1;32mdef\u001b[0m \u001b[0m__missing__\u001b[0m\u001b[1;33m(\u001b[0m\u001b[0mself\u001b[0m\u001b[1;33m,\u001b[0m \u001b[0mkey\u001b[0m\u001b[1;33m)\u001b[0m\u001b[1;33m:\u001b[0m\u001b[1;33m\u001b[0m\u001b[1;33m\u001b[0m\u001b[0m\n",
      "\u001b[1;32m~\\AppData\\Local\\Programs\\Python\\Python39\\lib\\collections\\__init__.py\u001b[0m in \u001b[0;36mupdate\u001b[1;34m(self, iterable, **kwds)\u001b[0m\n\u001b[0;32m    677\u001b[0m                     \u001b[0msuper\u001b[0m\u001b[1;33m(\u001b[0m\u001b[1;33m)\u001b[0m\u001b[1;33m.\u001b[0m\u001b[0mupdate\u001b[0m\u001b[1;33m(\u001b[0m\u001b[0miterable\u001b[0m\u001b[1;33m)\u001b[0m\u001b[1;33m\u001b[0m\u001b[1;33m\u001b[0m\u001b[0m\n\u001b[0;32m    678\u001b[0m             \u001b[1;32melse\u001b[0m\u001b[1;33m:\u001b[0m\u001b[1;33m\u001b[0m\u001b[1;33m\u001b[0m\u001b[0m\n\u001b[1;32m--> 679\u001b[1;33m                 \u001b[0m_count_elements\u001b[0m\u001b[1;33m(\u001b[0m\u001b[0mself\u001b[0m\u001b[1;33m,\u001b[0m \u001b[0miterable\u001b[0m\u001b[1;33m)\u001b[0m\u001b[1;33m\u001b[0m\u001b[1;33m\u001b[0m\u001b[0m\n\u001b[0m\u001b[0;32m    680\u001b[0m         \u001b[1;32mif\u001b[0m \u001b[0mkwds\u001b[0m\u001b[1;33m:\u001b[0m\u001b[1;33m\u001b[0m\u001b[1;33m\u001b[0m\u001b[0m\n\u001b[0;32m    681\u001b[0m             \u001b[0mself\u001b[0m\u001b[1;33m.\u001b[0m\u001b[0mupdate\u001b[0m\u001b[1;33m(\u001b[0m\u001b[0mkwds\u001b[0m\u001b[1;33m)\u001b[0m\u001b[1;33m\u001b[0m\u001b[1;33m\u001b[0m\u001b[0m\n",
      "\u001b[1;31mValueError\u001b[0m: invalid literal for int() with base 10: 'fdsa'"
     ]
    }
   ],
   "source": [
    "X = input()\n",
    "supplies = Counter(map(int, input().split()))\n",
    "demands = []\n",
    "earnings = 0\n",
    "\n",
    "for i in range(N):\n",
    "    demands.append(map(int, input().split()))\n",
    "for i in range(len(demands)):\n",
    "    if supplies[demands[i][0]] != 0:\n",
    "        if demands[i][0] in supplies:\n",
    "            earnings += demands[i][1]\n",
    "            supplies[deands[i][0]] -= 1\n",
    "print(earnings)"
   ]
  },
  {
   "cell_type": "code",
   "execution_count": 29,
   "id": "5813f1c4",
   "metadata": {},
   "outputs": [
    {
     "ename": "TypeError",
     "evalue": "'int' object is not iterable",
     "output_type": "error",
     "traceback": [
      "\u001b[1;31m---------------------------------------------------------------------------\u001b[0m",
      "\u001b[1;31mTypeError\u001b[0m                                 Traceback (most recent call last)",
      "\u001b[1;32mC:\\Users\\AARONC~1\\AppData\\Local\\Temp/ipykernel_6664/414734621.py\u001b[0m in \u001b[0;36m<module>\u001b[1;34m\u001b[0m\n\u001b[0;32m      2\u001b[0m \u001b[0mN\u001b[0m \u001b[1;33m=\u001b[0m \u001b[1;36m6\u001b[0m\u001b[1;33m\u001b[0m\u001b[1;33m\u001b[0m\u001b[0m\n\u001b[0;32m      3\u001b[0m \u001b[1;32mfor\u001b[0m \u001b[0mi\u001b[0m \u001b[1;32min\u001b[0m \u001b[0mrange\u001b[0m\u001b[1;33m(\u001b[0m\u001b[1;36m6\u001b[0m\u001b[1;33m)\u001b[0m\u001b[1;33m:\u001b[0m\u001b[1;33m\u001b[0m\u001b[1;33m\u001b[0m\u001b[0m\n\u001b[1;32m----> 4\u001b[1;33m     \u001b[0mdemands\u001b[0m\u001b[1;33m.\u001b[0m\u001b[0mappend\u001b[0m\u001b[1;33m(\u001b[0m\u001b[0mmap\u001b[0m\u001b[1;33m(\u001b[0m\u001b[0mint\u001b[0m\u001b[1;33m,\u001b[0m \u001b[1;36m1\u001b[0m\u001b[1;33m)\u001b[0m\u001b[1;33m)\u001b[0m\u001b[1;33m\u001b[0m\u001b[1;33m\u001b[0m\u001b[0m\n\u001b[0m",
      "\u001b[1;31mTypeError\u001b[0m: 'int' object is not iterable"
     ]
    }
   ],
   "source": [
    "demands = list()\n",
    "N = 6\n",
    "for i in range(6):\n",
    "    demands.append(map(int, 1))"
   ]
  },
  {
   "cell_type": "code",
   "execution_count": null,
   "id": "7751d751",
   "metadata": {},
   "outputs": [],
   "source": [
    "### 예시답안\n",
    "import collections\n",
    "\n",
    "numShoes = int(input())\n",
    "shoes = collections.Counter(map(int, input().split()))\n",
    "numCust = int(raw_input())\n",
    "\n",
    "income = 0\n",
    "\n",
    "for i in range(numCust):\n",
    "    size, price = map(int, input().split()) ### 리스트나 dictionary를 따로 만들지 않고 바로 변수 지정 \n",
    "    if shoes[size]: ### 존재한다는 걸 그냥 shoes[size]로 표현할 수도 있음\n",
    "        income += price\n",
    "        shoes[size] -= 1\n",
    "        \n",
    "print(income)"
   ]
  },
  {
   "cell_type": "code",
   "execution_count": null,
   "id": "9515c7db",
   "metadata": {},
   "outputs": [],
   "source": [
    "### 예시답안 \n",
    "n = input()\n",
    "boots = map(int, input().split())\n",
    "orders = [map(int, input().split()) for _ in range(input())] ### 오우 comprehension]\n",
    "result = 0\n",
    "\n",
    "for i in orders:\n",
    "    if i[0] in boots:\n",
    "        result += i[1]\n",
    "        boots.remove(i[0])\n",
    "print(result)"
   ]
  },
  {
   "cell_type": "markdown",
   "id": "8ee80ffc",
   "metadata": {},
   "source": [
    "- company logo "
   ]
  },
  {
   "cell_type": "code",
   "execution_count": 30,
   "id": "29bba338",
   "metadata": {},
   "outputs": [
    {
     "name": "stdout",
     "output_type": "stream",
     "text": [
      "'googleappleamazonwhoppy'\n"
     ]
    }
   ],
   "source": [
    "import collections \n",
    "\n",
    "string = input()\n",
    "counts = collections.Counter(string)\n"
   ]
  },
  {
   "cell_type": "code",
   "execution_count": 31,
   "id": "f8ea2073",
   "metadata": {},
   "outputs": [
    {
     "data": {
      "text/plain": [
       "Counter({\"'\": 2,\n",
       "         'g': 2,\n",
       "         'o': 4,\n",
       "         'l': 2,\n",
       "         'e': 2,\n",
       "         'a': 3,\n",
       "         'p': 4,\n",
       "         'm': 1,\n",
       "         'z': 1,\n",
       "         'n': 1,\n",
       "         'w': 1,\n",
       "         'h': 1,\n",
       "         'y': 1})"
      ]
     },
     "execution_count": 31,
     "metadata": {},
     "output_type": "execute_result"
    }
   ],
   "source": [
    "counts"
   ]
  },
  {
   "cell_type": "code",
   "execution_count": 32,
   "id": "f70a9b72",
   "metadata": {},
   "outputs": [
    {
     "data": {
      "text/plain": [
       "[1, 1, 1, 1, 1, 1, 2, 2, 2, 2, 3, 4, 4]"
      ]
     },
     "execution_count": 32,
     "metadata": {},
     "output_type": "execute_result"
    }
   ],
   "source": [
    "sorted(counts.values())"
   ]
  },
  {
   "cell_type": "code",
   "execution_count": 33,
   "id": "53e68c42",
   "metadata": {},
   "outputs": [
    {
     "ename": "AttributeError",
     "evalue": "'Counter' object has no attribute 'sort'",
     "output_type": "error",
     "traceback": [
      "\u001b[1;31m---------------------------------------------------------------------------\u001b[0m",
      "\u001b[1;31mAttributeError\u001b[0m                            Traceback (most recent call last)",
      "\u001b[1;32mC:\\Users\\AARONC~1\\AppData\\Local\\Temp/ipykernel_6664/1707998266.py\u001b[0m in \u001b[0;36m<module>\u001b[1;34m\u001b[0m\n\u001b[1;32m----> 1\u001b[1;33m \u001b[0mcounts\u001b[0m\u001b[1;33m.\u001b[0m\u001b[0msort\u001b[0m\u001b[1;33m(\u001b[0m\u001b[1;33m)\u001b[0m\u001b[1;33m\u001b[0m\u001b[1;33m\u001b[0m\u001b[0m\n\u001b[0m",
      "\u001b[1;31mAttributeError\u001b[0m: 'Counter' object has no attribute 'sort'"
     ]
    }
   ],
   "source": [
    "counts.sort()"
   ]
  },
  {
   "cell_type": "code",
   "execution_count": 34,
   "id": "d6f64309",
   "metadata": {},
   "outputs": [
    {
     "data": {
      "text/plain": [
       "Counter({'3': 3, '8': 1, '0': 1, '2': 1, '9': 1, '1': 3})"
      ]
     },
     "execution_count": 34,
     "metadata": {},
     "output_type": "execute_result"
    }
   ],
   "source": [
    "collections.Counter('3338029111')"
   ]
  },
  {
   "cell_type": "code",
   "execution_count": 36,
   "id": "5dc6fe1e",
   "metadata": {},
   "outputs": [
    {
     "ename": "TypeError",
     "evalue": "unhashable type: 'slice'",
     "output_type": "error",
     "traceback": [
      "\u001b[1;31m---------------------------------------------------------------------------\u001b[0m",
      "\u001b[1;31mTypeError\u001b[0m                                 Traceback (most recent call last)",
      "\u001b[1;32mC:\\Users\\AARONC~1\\AppData\\Local\\Temp/ipykernel_6664/455142362.py\u001b[0m in \u001b[0;36m<module>\u001b[1;34m\u001b[0m\n\u001b[1;32m----> 1\u001b[1;33m \u001b[0mcollections\u001b[0m\u001b[1;33m.\u001b[0m\u001b[0mCounter\u001b[0m\u001b[1;33m(\u001b[0m\u001b[1;34m'3338029111'\u001b[0m\u001b[1;33m)\u001b[0m\u001b[1;33m[\u001b[0m\u001b[1;33m:\u001b[0m\u001b[1;36m3\u001b[0m\u001b[1;33m]\u001b[0m\u001b[1;33m\u001b[0m\u001b[1;33m\u001b[0m\u001b[0m\n\u001b[0m",
      "\u001b[1;31mTypeError\u001b[0m: unhashable type: 'slice'"
     ]
    }
   ],
   "source": [
    "collections.Counter('3338029111')[:3]"
   ]
  },
  {
   "cell_type": "code",
   "execution_count": 37,
   "id": "42262862",
   "metadata": {},
   "outputs": [
    {
     "data": {
      "text/plain": [
       "['3', '8', '0', '2', '9', '1']"
      ]
     },
     "execution_count": 37,
     "metadata": {},
     "output_type": "execute_result"
    }
   ],
   "source": [
    "list(collections.Counter('3338029111'))"
   ]
  },
  {
   "cell_type": "code",
   "execution_count": 38,
   "id": "88df421b",
   "metadata": {},
   "outputs": [
    {
     "ename": "SyntaxError",
     "evalue": "invalid syntax (Temp/ipykernel_6664/3131670922.py, line 1)",
     "output_type": "error",
     "traceback": [
      "\u001b[1;36m  File \u001b[1;32m\"C:\\Users\\AARONC~1\\AppData\\Local\\Temp/ipykernel_6664/3131670922.py\"\u001b[1;36m, line \u001b[1;32m1\u001b[0m\n\u001b[1;33m    [x, y for x in collections.Counter('3333121').keys() for y in collections.Counter('3333121').values()]\u001b[0m\n\u001b[1;37m          ^\u001b[0m\n\u001b[1;31mSyntaxError\u001b[0m\u001b[1;31m:\u001b[0m invalid syntax\n"
     ]
    }
   ],
   "source": [
    "[x, y for x in collections.Counter('3333121').keys() for y in collections.Counter('3333121').values()]"
   ]
  },
  {
   "cell_type": "code",
   "execution_count": 40,
   "id": "d36cbb44",
   "metadata": {},
   "outputs": [
    {
     "data": {
      "text/plain": [
       "[['3', 4], ['1', 2], ['2', 1]]"
      ]
     },
     "execution_count": 40,
     "metadata": {},
     "output_type": "execute_result"
    }
   ],
   "source": [
    "[[x, y] for x, y in collections.Counter('3333121').items()]"
   ]
  },
  {
   "cell_type": "code",
   "execution_count": 41,
   "id": "df11eb49",
   "metadata": {},
   "outputs": [
    {
     "ename": "SyntaxError",
     "evalue": "invalid syntax (Temp/ipykernel_6664/2604046814.py, line 1)",
     "output_type": "error",
     "traceback": [
      "\u001b[1;36m  File \u001b[1;32m\"C:\\Users\\AARONC~1\\AppData\\Local\\Temp/ipykernel_6664/2604046814.py\"\u001b[1;36m, line \u001b[1;32m1\u001b[0m\n\u001b[1;33m    [x, y for x, y in collections.Counter('3333121').items()]\u001b[0m\n\u001b[1;37m          ^\u001b[0m\n\u001b[1;31mSyntaxError\u001b[0m\u001b[1;31m:\u001b[0m invalid syntax\n"
     ]
    }
   ],
   "source": [
    "[x, y for x, y in collections.Counter('3333121').items()]"
   ]
  },
  {
   "cell_type": "code",
   "execution_count": 43,
   "id": "5e4cbfb4",
   "metadata": {
    "scrolled": true
   },
   "outputs": [
    {
     "data": {
      "text/plain": [
       "[['g', 2],\n",
       " ['o', 4],\n",
       " ['l', 2],\n",
       " ['e', 2],\n",
       " ['a', 3],\n",
       " ['p', 4],\n",
       " ['m', 1],\n",
       " ['z', 1],\n",
       " ['n', 1],\n",
       " ['w', 1],\n",
       " ['h', 1],\n",
       " ['y', 1]]"
      ]
     },
     "execution_count": 43,
     "metadata": {},
     "output_type": "execute_result"
    }
   ],
   "source": [
    "[[x, y] for x, y in collections.Counter('googleappleamazonwhoppy').items()]"
   ]
  },
  {
   "cell_type": "code",
   "execution_count": 44,
   "id": "3a1a9b80",
   "metadata": {},
   "outputs": [
    {
     "data": {
      "text/plain": [
       "<generator object <genexpr> at 0x000002717D8D17B0>"
      ]
     },
     "execution_count": 44,
     "metadata": {},
     "output_type": "execute_result"
    }
   ],
   "source": [
    "([x, y] for x, y in collections.Counter('googleappleamazonwhoppy').items())"
   ]
  },
  {
   "cell_type": "code",
   "execution_count": 46,
   "id": "083f6a9c",
   "metadata": {},
   "outputs": [],
   "source": [
    "a = [['a', 3], ['b', 1], ['c', 7]]"
   ]
  },
  {
   "cell_type": "code",
   "execution_count": 49,
   "id": "4774a4ce",
   "metadata": {},
   "outputs": [
    {
     "data": {
      "text/plain": [
       "[['b', 1], ['a', 3], ['c', 7]]"
      ]
     },
     "execution_count": 49,
     "metadata": {},
     "output_type": "execute_result"
    }
   ],
   "source": [
    "sorted(a, key = lambda x:x[1])"
   ]
  },
  {
   "cell_type": "code",
   "execution_count": 51,
   "id": "5256761f",
   "metadata": {},
   "outputs": [
    {
     "data": {
      "text/plain": [
       "[['o', 4],\n",
       " ['p', 4],\n",
       " ['a', 3],\n",
       " ['g', 2],\n",
       " ['l', 2],\n",
       " ['e', 2],\n",
       " ['m', 1],\n",
       " ['z', 1],\n",
       " ['n', 1],\n",
       " ['w', 1],\n",
       " ['h', 1],\n",
       " ['y', 1]]"
      ]
     },
     "execution_count": 51,
     "metadata": {},
     "output_type": "execute_result"
    }
   ],
   "source": [
    "counts = [[x, y] for x, y in collections.Counter('googleappleamazonwhoppy').items()]\n",
    "sorted(counts, key = lambda x:x[1], reverse = True)"
   ]
  },
  {
   "cell_type": "code",
   "execution_count": 55,
   "id": "27b6497f",
   "metadata": {},
   "outputs": [
    {
     "data": {
      "text/plain": [
       "['1', '2', '3']"
      ]
     },
     "execution_count": 55,
     "metadata": {},
     "output_type": "execute_result"
    }
   ],
   "source": [
    "sorted(collections.Counter('3333121'))"
   ]
  },
  {
   "cell_type": "code",
   "execution_count": 61,
   "id": "f2e90445",
   "metadata": {},
   "outputs": [],
   "source": [
    "counts = [[x, y] for x, y in collections.Counter('googleappleamazonwhoppy').items()]\n",
    "sort1_counts = sorted(counts, key = lambda x: x[0])\n"
   ]
  },
  {
   "cell_type": "code",
   "execution_count": 64,
   "id": "af9fff2a",
   "metadata": {},
   "outputs": [],
   "source": [
    "sort2_counts = sorted(sort1_counts, key = lambda x: x[1], reverse = True)"
   ]
  },
  {
   "cell_type": "code",
   "execution_count": 65,
   "id": "629e64de",
   "metadata": {},
   "outputs": [
    {
     "data": {
      "text/plain": [
       "[['o', 4],\n",
       " ['p', 4],\n",
       " ['a', 3],\n",
       " ['e', 2],\n",
       " ['g', 2],\n",
       " ['l', 2],\n",
       " ['h', 1],\n",
       " ['m', 1],\n",
       " ['n', 1],\n",
       " ['w', 1],\n",
       " ['y', 1],\n",
       " ['z', 1]]"
      ]
     },
     "execution_count": 65,
     "metadata": {},
     "output_type": "execute_result"
    }
   ],
   "source": [
    "sort2_counts"
   ]
  },
  {
   "cell_type": "code",
   "execution_count": 67,
   "id": "fef7fe11",
   "metadata": {},
   "outputs": [
    {
     "name": "stdout",
     "output_type": "stream",
     "text": [
      "[['o', 4], ['p', 4], ['a', 3]]\n"
     ]
    }
   ],
   "source": [
    "print(sort2_counts[:3])"
   ]
  },
  {
   "cell_type": "code",
   "execution_count": 75,
   "id": "aae7b56f",
   "metadata": {},
   "outputs": [
    {
     "data": {
      "text/plain": [
       "['o 4', 'p 4', 'a 3']"
      ]
     },
     "execution_count": 75,
     "metadata": {},
     "output_type": "execute_result"
    }
   ],
   "source": [
    "[' '.join([x, str(y)]) for x, y in sort2_counts[:3]]"
   ]
  },
  {
   "cell_type": "code",
   "execution_count": 76,
   "id": "6884451b",
   "metadata": {},
   "outputs": [
    {
     "name": "stdout",
     "output_type": "stream",
     "text": [
      "o 4\n",
      "p 4\n",
      "a 3\n"
     ]
    }
   ],
   "source": [
    "print('\\n'.join([' '.join([x, str(y)]) for x, y in sort2_counts[:3]]))"
   ]
  },
  {
   "cell_type": "code",
   "execution_count": null,
   "id": "f54111df",
   "metadata": {},
   "outputs": [],
   "source": [
    "### 예시답안 \n",
    "from collections import Counter, OrderedDict\n",
    "\n",
    "class OrderedCounter(Counter, OrderedDict):\n",
    "    pass\n",
    "[print(*c) for c in OrderedCounter(sorted(intput())).most_common(3)]"
   ]
  },
  {
   "cell_type": "code",
   "execution_count": 80,
   "id": "990428c5",
   "metadata": {},
   "outputs": [],
   "source": [
    "counts = collections.Counter('applegoogleamazonwhoppy')"
   ]
  },
  {
   "cell_type": "code",
   "execution_count": 81,
   "id": "3fec08a8",
   "metadata": {},
   "outputs": [
    {
     "data": {
      "text/plain": [
       "[('p', 4), ('o', 4), ('a', 3)]"
      ]
     },
     "execution_count": 81,
     "metadata": {},
     "output_type": "execute_result"
    }
   ],
   "source": [
    "counts.most_common(3)"
   ]
  },
  {
   "cell_type": "code",
   "execution_count": 82,
   "id": "ca26074a",
   "metadata": {},
   "outputs": [],
   "source": [
    "counts = collections.Counter(sorted('applegoogleamazonwhoppy'))"
   ]
  },
  {
   "cell_type": "code",
   "execution_count": 83,
   "id": "18f54f39",
   "metadata": {},
   "outputs": [
    {
     "data": {
      "text/plain": [
       "[('o', 4), ('p', 4), ('a', 3)]"
      ]
     },
     "execution_count": 83,
     "metadata": {},
     "output_type": "execute_result"
    }
   ],
   "source": [
    "counts.most_common(3)"
   ]
  },
  {
   "cell_type": "code",
   "execution_count": 84,
   "id": "2451cc36",
   "metadata": {},
   "outputs": [
    {
     "name": "stdout",
     "output_type": "stream",
     "text": [
      "('o', 4) ('p', 4) ('a', 3)\n"
     ]
    }
   ],
   "source": [
    "print(*counts.most_common(3))"
   ]
  },
  {
   "cell_type": "code",
   "execution_count": 88,
   "id": "851b3ee2",
   "metadata": {},
   "outputs": [
    {
     "name": "stdout",
     "output_type": "stream",
     "text": [
      "applegoogleamazonwhoppy\n",
      "o 4\n",
      "p 4\n",
      "a 3\n"
     ]
    }
   ],
   "source": [
    "### 예시답안 \n",
    "chars = Counter(input()).items()\n",
    "\n",
    "for char, n in sorted(chars, key = lambda c: (-c[1], c[0]))[:3]:\n",
    "    print(char, n)"
   ]
  },
  {
   "cell_type": "markdown",
   "id": "7fe12c6d",
   "metadata": {},
   "source": [
    "- polar coordinates\n"
   ]
  },
  {
   "cell_type": "code",
   "execution_count": 89,
   "id": "f7d449ab",
   "metadata": {},
   "outputs": [],
   "source": [
    "import cmath"
   ]
  },
  {
   "cell_type": "code",
   "execution_count": 90,
   "id": "54bb9d93",
   "metadata": {},
   "outputs": [
    {
     "data": {
      "text/plain": [
       "3.141592653589793"
      ]
     },
     "execution_count": 90,
     "metadata": {},
     "output_type": "execute_result"
    }
   ],
   "source": [
    "cmath.phase(complex(-3, 0.0))"
   ]
  },
  {
   "cell_type": "code",
   "execution_count": 93,
   "id": "5be7d4bf",
   "metadata": {},
   "outputs": [
    {
     "data": {
      "text/plain": [
       "1.0"
      ]
     },
     "execution_count": 93,
     "metadata": {},
     "output_type": "execute_result"
    }
   ],
   "source": [
    "abs(complex(-1, 0.0))"
   ]
  },
  {
   "cell_type": "code",
   "execution_count": 94,
   "id": "9dd97651",
   "metadata": {},
   "outputs": [
    {
     "data": {
      "text/plain": [
       "(1+2j)"
      ]
     },
     "execution_count": 94,
     "metadata": {},
     "output_type": "execute_result"
    }
   ],
   "source": [
    "complex(1, 2)"
   ]
  },
  {
   "cell_type": "code",
   "execution_count": 95,
   "id": "d408e599",
   "metadata": {},
   "outputs": [
    {
     "data": {
      "text/plain": [
       "1.1071487177940904"
      ]
     },
     "execution_count": 95,
     "metadata": {},
     "output_type": "execute_result"
    }
   ],
   "source": [
    "cmath.phase(complex(1, 2))"
   ]
  },
  {
   "cell_type": "code",
   "execution_count": 96,
   "id": "5a640695",
   "metadata": {},
   "outputs": [
    {
     "data": {
      "text/plain": [
       "0.0"
      ]
     },
     "execution_count": 96,
     "metadata": {},
     "output_type": "execute_result"
    }
   ],
   "source": [
    "cmath.phase(complex(1))"
   ]
  },
  {
   "cell_type": "code",
   "execution_count": 97,
   "id": "6b08c708",
   "metadata": {},
   "outputs": [
    {
     "data": {
      "text/plain": [
       "2.23606797749979"
      ]
     },
     "execution_count": 97,
     "metadata": {},
     "output_type": "execute_result"
    }
   ],
   "source": [
    "abs(complex(1, 2))"
   ]
  },
  {
   "cell_type": "code",
   "execution_count": 100,
   "id": "1846379f",
   "metadata": {},
   "outputs": [
    {
     "name": "stdout",
     "output_type": "stream",
     "text": [
      "1+2j\n",
      "<map object at 0x000002717D7AF670>\n",
      "<map object at 0x000002717D7BE7F0>\n"
     ]
    }
   ],
   "source": [
    "num = complex(input())\n",
    "funcs = [abs, cmath.phase]\n",
    "for func in funcs:\n",
    "    print(map(func, [num]))"
   ]
  },
  {
   "cell_type": "code",
   "execution_count": 102,
   "id": "fee23ba4",
   "metadata": {},
   "outputs": [
    {
     "name": "stdout",
     "output_type": "stream",
     "text": [
      "1+2j\n",
      "[2.23606797749979]\n",
      "[1.1071487177940904]\n"
     ]
    }
   ],
   "source": [
    "num = complex(input())\n",
    "funcs = [abs, cmath.phase]\n",
    "for func in funcs:\n",
    "    print(list(map(func, [num])))"
   ]
  },
  {
   "cell_type": "markdown",
   "id": "60f5f89a",
   "metadata": {},
   "source": [
    "### should contain the value of 각도라는데 왜 \n",
    "### 각도말고 절대값이랑 각도를 모두 고려한 값이 나왔지? "
   ]
  },
  {
   "cell_type": "code",
   "execution_count": 104,
   "id": "f149e7be",
   "metadata": {},
   "outputs": [
    {
     "name": "stdout",
     "output_type": "stream",
     "text": [
      "1+2j\n",
      "2.23606797749979\n",
      "1.1071487177940904\n"
     ]
    }
   ],
   "source": [
    "### 예시 답안 \n",
    "import cmath\n",
    "print(*cmath.polar(complex(input())), sep = '\\n')"
   ]
  },
  {
   "cell_type": "code",
   "execution_count": null,
   "id": "6ece4d9d",
   "metadata": {},
   "outputs": [],
   "source": []
  }
 ],
 "metadata": {
  "kernelspec": {
   "display_name": "Python 3 (ipykernel)",
   "language": "python",
   "name": "python3"
  },
  "language_info": {
   "codemirror_mode": {
    "name": "ipython",
    "version": 3
   },
   "file_extension": ".py",
   "mimetype": "text/x-python",
   "name": "python",
   "nbconvert_exporter": "python",
   "pygments_lexer": "ipython3",
   "version": "3.9.7"
  }
 },
 "nbformat": 4,
 "nbformat_minor": 5
}
