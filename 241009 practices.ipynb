{
 "cells": [
  {
   "cell_type": "markdown",
   "id": "4a2b3068",
   "metadata": {},
   "source": [
    "- No idea!"
   ]
  },
  {
   "cell_type": "code",
   "execution_count": 2,
   "id": "683dad65",
   "metadata": {},
   "outputs": [],
   "source": [
    "import numpy as np"
   ]
  },
  {
   "cell_type": "code",
   "execution_count": null,
   "id": "66de740c",
   "metadata": {},
   "outputs": [],
   "source": [
    "N, M = map(int, input().split())\n",
    "arr = np.array(map(int, input().split()))\n",
    "A = set(map(int, input().split()))\n",
    "B = set(map(int, input().split()))\n",
    "\n",
    "diffa = A.difference(B)\n",
    "diffb = B.difference(A)\n",
    "intersect = A.intersection(B)"
   ]
  },
  {
   "cell_type": "code",
   "execution_count": 12,
   "id": "5aa4fd0f",
   "metadata": {},
   "outputs": [],
   "source": [
    "def membership_test(init, member):\n",
    "    if member in diffa:\n",
    "        init += 1\n",
    "    elif member in diffb:\n",
    "        init -= 1\n",
    "    else:\n",
    "        pass"
   ]
  },
  {
   "cell_type": "code",
   "execution_count": null,
   "id": "6f91acbe",
   "metadata": {},
   "outputs": [],
   "source": [
    "print(reduce(array, membership_test, 0))"
   ]
  },
  {
   "cell_type": "code",
   "execution_count": 8,
   "id": "887e1ba9",
   "metadata": {},
   "outputs": [],
   "source": [
    "A = set(list(range(1, 50, 2)))"
   ]
  },
  {
   "cell_type": "code",
   "execution_count": 9,
   "id": "e855e287",
   "metadata": {},
   "outputs": [],
   "source": [
    "B = set(list(range(1, 25, 2))).union(set(list(range(22, 50, 2))))"
   ]
  },
  {
   "cell_type": "code",
   "execution_count": 10,
   "id": "76081804",
   "metadata": {},
   "outputs": [],
   "source": [
    "diffa = A.difference(B)\n",
    "diffb = B.difference(A)\n",
    "intersect = A.intersection(B)"
   ]
  },
  {
   "cell_type": "code",
   "execution_count": 11,
   "id": "d4af8fa2",
   "metadata": {},
   "outputs": [],
   "source": [
    "array = np.array([3, 1, 21, 17, 18, 15, 16, 12, 4, 6, 80, 40])"
   ]
  },
  {
   "cell_type": "code",
   "execution_count": 13,
   "id": "a8f3ffa4",
   "metadata": {},
   "outputs": [
    {
     "ename": "NameError",
     "evalue": "name 'reduce' is not defined",
     "output_type": "error",
     "traceback": [
      "\u001b[1;31m---------------------------------------------------------------------------\u001b[0m",
      "\u001b[1;31mNameError\u001b[0m                                 Traceback (most recent call last)",
      "\u001b[1;32mC:\\Users\\AARONC~1\\AppData\\Local\\Temp/ipykernel_27808/202855979.py\u001b[0m in \u001b[0;36m<module>\u001b[1;34m\u001b[0m\n\u001b[1;32m----> 1\u001b[1;33m \u001b[0mreduce\u001b[0m\u001b[1;33m(\u001b[0m\u001b[0marray\u001b[0m\u001b[1;33m,\u001b[0m \u001b[0mmembership_test\u001b[0m\u001b[1;33m,\u001b[0m \u001b[1;36m0\u001b[0m\u001b[1;33m)\u001b[0m\u001b[1;33m\u001b[0m\u001b[1;33m\u001b[0m\u001b[0m\n\u001b[0m",
      "\u001b[1;31mNameError\u001b[0m: name 'reduce' is not defined"
     ]
    }
   ],
   "source": [
    "reduce(array, membership_test, 0)"
   ]
  },
  {
   "cell_type": "code",
   "execution_count": 14,
   "id": "5f2f82e9",
   "metadata": {},
   "outputs": [],
   "source": [
    "import functools"
   ]
  },
  {
   "cell_type": "code",
   "execution_count": 16,
   "id": "e65b9e62",
   "metadata": {},
   "outputs": [
    {
     "ename": "TypeError",
     "evalue": "reduce() arg 2 must support iteration",
     "output_type": "error",
     "traceback": [
      "\u001b[1;31m---------------------------------------------------------------------------\u001b[0m",
      "\u001b[1;31mTypeError\u001b[0m                                 Traceback (most recent call last)",
      "\u001b[1;32mC:\\Users\\AARONC~1\\AppData\\Local\\Temp/ipykernel_27808/1651003450.py\u001b[0m in \u001b[0;36m<module>\u001b[1;34m\u001b[0m\n\u001b[1;32m----> 1\u001b[1;33m \u001b[0mfunctools\u001b[0m\u001b[1;33m.\u001b[0m\u001b[0mreduce\u001b[0m\u001b[1;33m(\u001b[0m\u001b[0marray\u001b[0m\u001b[1;33m,\u001b[0m \u001b[0mmembership_test\u001b[0m\u001b[1;33m,\u001b[0m \u001b[1;36m0\u001b[0m\u001b[1;33m)\u001b[0m\u001b[1;33m\u001b[0m\u001b[1;33m\u001b[0m\u001b[0m\n\u001b[0m",
      "\u001b[1;31mTypeError\u001b[0m: reduce() arg 2 must support iteration"
     ]
    }
   ],
   "source": [
    "functools.reduce(array, membership_test, 0)"
   ]
  },
  {
   "cell_type": "code",
   "execution_count": 17,
   "id": "7de0ba47",
   "metadata": {},
   "outputs": [],
   "source": [
    "def membership_test(init, member):\n",
    "    if member in diffa:\n",
    "        init += 1\n",
    "    elif member in diffb:\n",
    "        init -= 1\n",
    "    else:\n",
    "        pass\n",
    "    return init"
   ]
  },
  {
   "cell_type": "code",
   "execution_count": 18,
   "id": "b578f7f3",
   "metadata": {},
   "outputs": [
    {
     "ename": "TypeError",
     "evalue": "reduce() arg 2 must support iteration",
     "output_type": "error",
     "traceback": [
      "\u001b[1;31m---------------------------------------------------------------------------\u001b[0m",
      "\u001b[1;31mTypeError\u001b[0m                                 Traceback (most recent call last)",
      "\u001b[1;32mC:\\Users\\AARONC~1\\AppData\\Local\\Temp/ipykernel_27808/1651003450.py\u001b[0m in \u001b[0;36m<module>\u001b[1;34m\u001b[0m\n\u001b[1;32m----> 1\u001b[1;33m \u001b[0mfunctools\u001b[0m\u001b[1;33m.\u001b[0m\u001b[0mreduce\u001b[0m\u001b[1;33m(\u001b[0m\u001b[0marray\u001b[0m\u001b[1;33m,\u001b[0m \u001b[0mmembership_test\u001b[0m\u001b[1;33m,\u001b[0m \u001b[1;36m0\u001b[0m\u001b[1;33m)\u001b[0m\u001b[1;33m\u001b[0m\u001b[1;33m\u001b[0m\u001b[0m\n\u001b[0m",
      "\u001b[1;31mTypeError\u001b[0m: reduce() arg 2 must support iteration"
     ]
    }
   ],
   "source": [
    "functools.reduce(array, membership_test, 0)"
   ]
  },
  {
   "cell_type": "code",
   "execution_count": 19,
   "id": "704ffb89",
   "metadata": {},
   "outputs": [
    {
     "data": {
      "text/plain": [
       "array([ 3,  1, 21, 17, 18, 15, 16, 12,  4,  6, 80, 40])"
      ]
     },
     "execution_count": 19,
     "metadata": {},
     "output_type": "execute_result"
    }
   ],
   "source": [
    "array"
   ]
  },
  {
   "cell_type": "code",
   "execution_count": 20,
   "id": "0af9f518",
   "metadata": {},
   "outputs": [
    {
     "data": {
      "text/plain": [
       "-1"
      ]
     },
     "execution_count": 20,
     "metadata": {},
     "output_type": "execute_result"
    }
   ],
   "source": [
    "functools.reduce(membership_test, array, 0)"
   ]
  },
  {
   "cell_type": "code",
   "execution_count": 28,
   "id": "de1dca69",
   "metadata": {},
   "outputs": [],
   "source": [
    "array = np.array(range(1, 50, 2))"
   ]
  },
  {
   "cell_type": "code",
   "execution_count": 29,
   "id": "c340d555",
   "metadata": {},
   "outputs": [
    {
     "data": {
      "text/plain": [
       "13"
      ]
     },
     "execution_count": 29,
     "metadata": {},
     "output_type": "execute_result"
    }
   ],
   "source": [
    "functools.reduce(membership_test, array, 0)"
   ]
  },
  {
   "cell_type": "code",
   "execution_count": 30,
   "id": "f2f92788",
   "metadata": {},
   "outputs": [
    {
     "data": {
      "text/plain": [
       "{25, 27, 29, 31, 33, 35, 37, 39, 41, 43, 45, 47, 49}"
      ]
     },
     "execution_count": 30,
     "metadata": {},
     "output_type": "execute_result"
    }
   ],
   "source": [
    "diffa"
   ]
  },
  {
   "cell_type": "code",
   "execution_count": 31,
   "id": "2463fc1e",
   "metadata": {},
   "outputs": [
    {
     "data": {
      "text/plain": [
       "{22, 24, 26, 28, 30, 32, 34, 36, 38, 40, 42, 44, 46, 48}"
      ]
     },
     "execution_count": 31,
     "metadata": {},
     "output_type": "execute_result"
    }
   ],
   "source": [
    "diffb"
   ]
  },
  {
   "cell_type": "code",
   "execution_count": 32,
   "id": "47e533ba",
   "metadata": {},
   "outputs": [
    {
     "data": {
      "text/plain": [
       "{1, 3, 5, 7, 9, 11, 13, 15, 17, 19, 21, 23}"
      ]
     },
     "execution_count": 32,
     "metadata": {},
     "output_type": "execute_result"
    }
   ],
   "source": [
    "intersect"
   ]
  },
  {
   "cell_type": "code",
   "execution_count": 33,
   "id": "927f13de",
   "metadata": {},
   "outputs": [
    {
     "data": {
      "text/plain": [
       "array([ 1,  3,  5,  7,  9, 11, 13, 15, 17, 19, 21, 23, 25, 27, 29, 31, 33,\n",
       "       35, 37, 39, 41, 43, 45, 47, 49])"
      ]
     },
     "execution_count": 33,
     "metadata": {},
     "output_type": "execute_result"
    }
   ],
   "source": [
    "array"
   ]
  },
  {
   "cell_type": "markdown",
   "id": "e5b7c23f",
   "metadata": {},
   "source": [
    "# (1) 입력 코드 "
   ]
  },
  {
   "cell_type": "code",
   "execution_count": null,
   "id": "351a0874",
   "metadata": {},
   "outputs": [],
   "source": [
    "import functools\n",
    "import numpy as np\n",
    "\n",
    "N, M = map(int, input().split())\n",
    "array = np.array(map(int, input().split()))\n",
    "A = set(map(int, input().split()))\n",
    "B = set(map(int, input().split()))\n",
    "\n",
    "diffa = A.difference(B)\n",
    "diffb = B.difference(A)\n",
    "intersect = A.intersection(B)\n",
    "\n",
    "def membership_test(init, member):\n",
    "    if member in diffa:\n",
    "        init += 1\n",
    "    elif member in diffb:\n",
    "        init -= 1\n",
    "    else:\n",
    "        pass\n",
    "    return init\n",
    "\n",
    "print(reduce(membership_test, array, 0))"
   ]
  },
  {
   "cell_type": "markdown",
   "id": "aa0a965c",
   "metadata": {},
   "source": [
    "#### it says we cannot use numpy package"
   ]
  },
  {
   "cell_type": "markdown",
   "id": "9003002c",
   "metadata": {},
   "source": [
    "# (2) 입력 코드 "
   ]
  },
  {
   "cell_type": "code",
   "execution_count": null,
   "id": "e6fcaebe",
   "metadata": {},
   "outputs": [],
   "source": [
    "import functools\n",
    "\n",
    "N, M = map(int, input().split())\n",
    "array = list(map(int, input().split()))\n",
    "A = set(map(int, input().split()))\n",
    "B = set(map(int, input().split()))\n",
    "\n",
    "diffa = A.difference(B)\n",
    "diffb = B.difference(A)\n",
    "intersect = A.intersection(B)\n",
    "\n",
    "def membership_test(init, member):\n",
    "    if member in diffa:\n",
    "        init += 1\n",
    "    elif member in diffb:\n",
    "        init -= 1\n",
    "    else:\n",
    "        pass\n",
    "    return init\n",
    "\n",
    "print(reduce(membership_test, array, 0))"
   ]
  },
  {
   "cell_type": "markdown",
   "id": "ebc4d5f9",
   "metadata": {},
   "source": [
    "### it says we have to use functools. with reduce"
   ]
  },
  {
   "cell_type": "code",
   "execution_count": null,
   "id": "864738a9",
   "metadata": {},
   "outputs": [],
   "source": [
    "import functools\n",
    "\n",
    "N, M = map(int, input().split())\n",
    "array = list(map(int, input().split()))\n",
    "A = set(map(int, input().split()))\n",
    "B = set(map(int, input().split()))\n",
    "\n",
    "diffa = A.difference(B)\n",
    "diffb = B.difference(A)\n",
    "intersect = A.intersection(B)\n",
    "\n",
    "def membership_test(init, member):\n",
    "    if member in diffa:\n",
    "        init += 1\n",
    "    elif member in diffb:\n",
    "        init -= 1\n",
    "    else:\n",
    "        pass\n",
    "    return init\n",
    "\n",
    "print(functools.reduce(membership_test, array, 0))"
   ]
  },
  {
   "cell_type": "code",
   "execution_count": null,
   "id": "3371798c",
   "metadata": {},
   "outputs": [],
   "source": [
    "### 예시답안\n",
    "n, m = input().split()\n",
    "\n",
    "sc_ar = input().split()\n",
    "A = set(input().split())\n",
    "B = set(input().split())\n",
    "print(sum([(i in A) - (i in B) for i in sc_ar]))"
   ]
  },
  {
   "cell_type": "markdown",
   "id": "0d698eb4",
   "metadata": {},
   "source": [
    "- set .intersection operation"
   ]
  },
  {
   "cell_type": "code",
   "execution_count": null,
   "id": "4ca65674",
   "metadata": {},
   "outputs": [],
   "source": [
    "e = int(input())\n",
    "E = set(input().split())\n",
    "f = int(input())\n",
    "F = set(input().split())\n",
    "\n",
    "both = E.intersection(F)\n",
    "print(len(both))"
   ]
  },
  {
   "cell_type": "markdown",
   "id": "8c3b1ec5",
   "metadata": {},
   "source": [
    "- set mutations"
   ]
  },
  {
   "cell_type": "code",
   "execution_count": 34,
   "id": "57e44ade",
   "metadata": {},
   "outputs": [
    {
     "data": {
      "text/plain": [
       "{1,\n",
       " 3,\n",
       " 5,\n",
       " 7,\n",
       " 9,\n",
       " 11,\n",
       " 13,\n",
       " 15,\n",
       " 17,\n",
       " 19,\n",
       " 21,\n",
       " 23,\n",
       " 25,\n",
       " 27,\n",
       " 29,\n",
       " 31,\n",
       " 33,\n",
       " 35,\n",
       " 37,\n",
       " 39,\n",
       " 41,\n",
       " 43,\n",
       " 45,\n",
       " 47,\n",
       " 49}"
      ]
     },
     "execution_count": 34,
     "metadata": {},
     "output_type": "execute_result"
    }
   ],
   "source": [
    "A"
   ]
  },
  {
   "cell_type": "code",
   "execution_count": 35,
   "id": "f2fbc058",
   "metadata": {},
   "outputs": [],
   "source": [
    "A.update('applejuice')"
   ]
  },
  {
   "cell_type": "code",
   "execution_count": 36,
   "id": "ef56f16f",
   "metadata": {},
   "outputs": [
    {
     "data": {
      "text/plain": [
       "{1,\n",
       " 11,\n",
       " 13,\n",
       " 15,\n",
       " 17,\n",
       " 19,\n",
       " 21,\n",
       " 23,\n",
       " 25,\n",
       " 27,\n",
       " 29,\n",
       " 3,\n",
       " 31,\n",
       " 33,\n",
       " 35,\n",
       " 37,\n",
       " 39,\n",
       " 41,\n",
       " 43,\n",
       " 45,\n",
       " 47,\n",
       " 49,\n",
       " 5,\n",
       " 7,\n",
       " 9,\n",
       " 'a',\n",
       " 'c',\n",
       " 'e',\n",
       " 'i',\n",
       " 'j',\n",
       " 'l',\n",
       " 'p',\n",
       " 'u'}"
      ]
     },
     "execution_count": 36,
     "metadata": {},
     "output_type": "execute_result"
    }
   ],
   "source": [
    "A"
   ]
  },
  {
   "cell_type": "code",
   "execution_count": null,
   "id": "301baa3a",
   "metadata": {},
   "outputs": [],
   "source": [
    "a = int(input())\n",
    "A = set(map(int, input().split()))\n",
    "for _ in range(int(input())):\n",
    "    command, num = input().split()\n",
    "    random_set = set(map(int, input().split()))\n",
    "    getattr(A, command)(random_set)\n",
    "\n",
    "print(sum(A))"
   ]
  },
  {
   "cell_type": "code",
   "execution_count": null,
   "id": "555eba43",
   "metadata": {},
   "outputs": [],
   "source": [
    "### 예시답안\n",
    "input()\n",
    "\n",
    "L = set(input().split())\n",
    "for _ in range(int(input())):\n",
    "    command, *args = input().split()\n",
    "    getattr(L, command)(set(input().split()))\n",
    "print(sum(map, int, L))"
   ]
  },
  {
   "cell_type": "markdown",
   "id": "b4c7bc2c",
   "metadata": {},
   "source": [
    "- the captain's room"
   ]
  },
  {
   "cell_type": "markdown",
   "id": "7e63f403",
   "metadata": {},
   "source": [
    "# (1) 입력 코드 "
   ]
  },
  {
   "cell_type": "code",
   "execution_count": null,
   "id": "0467b92e",
   "metadata": {},
   "outputs": [],
   "source": [
    "import collections\n",
    "n = int(input())\n",
    "rooms = list(map(int, input().split()))\n",
    "\n",
    "room_counts = collections.Counter(rooms)\n",
    "for key, value in room_counts:\n",
    "    if value == 1:\n",
    "        print(key)"
   ]
  },
  {
   "cell_type": "code",
   "execution_count": 37,
   "id": "e3551897",
   "metadata": {},
   "outputs": [],
   "source": [
    "import collections"
   ]
  },
  {
   "cell_type": "code",
   "execution_count": 40,
   "id": "da3d61d2",
   "metadata": {},
   "outputs": [],
   "source": [
    "room_counts = collections.Counter([3, 3, 3, 3, 3, 2, 5, 5, 5, 5, 2, 2, 4, 4, 4, 4, 7, 8, 8, 7, 7, 7, 7, 9])"
   ]
  },
  {
   "cell_type": "code",
   "execution_count": 41,
   "id": "271d48a1",
   "metadata": {},
   "outputs": [
    {
     "data": {
      "text/plain": [
       "Counter({3: 5, 2: 3, 5: 4, 4: 4, 7: 5, 8: 2, 9: 1})"
      ]
     },
     "execution_count": 41,
     "metadata": {},
     "output_type": "execute_result"
    }
   ],
   "source": [
    "room_counts"
   ]
  },
  {
   "cell_type": "markdown",
   "id": "220b3a8e",
   "metadata": {},
   "source": [
    "# (2) 입력 코드 "
   ]
  },
  {
   "cell_type": "code",
   "execution_count": null,
   "id": "02ed93c2",
   "metadata": {},
   "outputs": [],
   "source": [
    "import collections\n",
    "n = int(input())\n",
    "rooms = list(map(int, input().split()))\n",
    "\n",
    "room_counts = collections.Counter(rooms)\n",
    "for key, value in room_counts.items():\n",
    "    if value == 1:\n",
    "        print(key)"
   ]
  },
  {
   "cell_type": "markdown",
   "id": "da7110ce",
   "metadata": {},
   "source": [
    "### 예시답안\n",
    "k = int(input())\n",
    "room_list = list(map(int, input().split(' ')))\n",
    "room_set = set(room_list)\n",
    "for i in room_set:\n",
    "    room_list.remove(i)\n",
    "    if i not in room_list:\n",
    "        print(i)"
   ]
  },
  {
   "cell_type": "code",
   "execution_count": null,
   "id": "8be2538d",
   "metadata": {},
   "outputs": [],
   "source": [
    "### 예시답안\n",
    "k, arr = int(input()), list(map(int, input().split()))\n",
    "myset = set(arr)\n",
    "(((sum(myset)*k) - sum(arr))//(k-1))"
   ]
  },
  {
   "cell_type": "markdown",
   "id": "8d8ae7f5",
   "metadata": {},
   "source": [
    "- set.difference() operation"
   ]
  },
  {
   "cell_type": "code",
   "execution_count": null,
   "id": "9612c61b",
   "metadata": {},
   "outputs": [],
   "source": [
    "e = int(input())\n",
    "E = set(map(int, input().split()))\n",
    "f = int(input())\n",
    "F = set(map(int, input().split()))\n",
    "\n",
    "onlyE = E.difference(F)\n",
    "print(len(E.difference(F)))"
   ]
  },
  {
   "cell_type": "markdown",
   "id": "d9e46b06",
   "metadata": {},
   "source": [
    "- mod power"
   ]
  },
  {
   "cell_type": "code",
   "execution_count": 42,
   "id": "62406eff",
   "metadata": {},
   "outputs": [
    {
     "ename": "SyntaxError",
     "evalue": "invalid syntax (Temp/ipykernel_27808/1284960646.py, line 1)",
     "output_type": "error",
     "traceback": [
      "\u001b[1;36m  File \u001b[1;32m\"C:\\Users\\AARONC~1\\AppData\\Local\\Temp/ipykernel_27808/1284960646.py\"\u001b[1;36m, line \u001b[1;32m1\u001b[0m\n\u001b[1;33m    80 mod 5\u001b[0m\n\u001b[1;37m       ^\u001b[0m\n\u001b[1;31mSyntaxError\u001b[0m\u001b[1;31m:\u001b[0m invalid syntax\n"
     ]
    }
   ],
   "source": [
    "80 mod 5"
   ]
  },
  {
   "cell_type": "code",
   "execution_count": 43,
   "id": "616565c4",
   "metadata": {},
   "outputs": [
    {
     "data": {
      "text/plain": [
       "1"
      ]
     },
     "execution_count": 43,
     "metadata": {},
     "output_type": "execute_result"
    }
   ],
   "source": [
    "pow(2, 4, 5)"
   ]
  },
  {
   "cell_type": "code",
   "execution_count": 44,
   "id": "23e0399c",
   "metadata": {},
   "outputs": [
    {
     "data": {
      "text/plain": [
       "2"
      ]
     },
     "execution_count": 44,
     "metadata": {},
     "output_type": "execute_result"
    }
   ],
   "source": [
    "pow(2, 5, 5)"
   ]
  },
  {
   "cell_type": "code",
   "execution_count": null,
   "id": "6310943b",
   "metadata": {},
   "outputs": [],
   "source": [
    "a = int(input())\n",
    "b = int(input())\n",
    "m = int(input())\n",
    "\n",
    "power = pow(a, b)\n",
    "mod = pow(a, b, m)\n",
    "print(power, mod, sep = '\\n')"
   ]
  },
  {
   "cell_type": "code",
   "execution_count": null,
   "id": "22be0e83",
   "metadata": {},
   "outputs": [],
   "source": [
    "### 예시답안 \n",
    "inp = (int(input()), int(input()), int(input()))\n",
    "print('{0}\\n{1}'.format(pow(inp[0], inp[1]), pow(*inp)))"
   ]
  }
 ],
 "metadata": {
  "kernelspec": {
   "display_name": "Python 3 (ipykernel)",
   "language": "python",
   "name": "python3"
  },
  "language_info": {
   "codemirror_mode": {
    "name": "ipython",
    "version": 3
   },
   "file_extension": ".py",
   "mimetype": "text/x-python",
   "name": "python",
   "nbconvert_exporter": "python",
   "pygments_lexer": "ipython3",
   "version": "3.9.7"
  }
 },
 "nbformat": 4,
 "nbformat_minor": 5
}
