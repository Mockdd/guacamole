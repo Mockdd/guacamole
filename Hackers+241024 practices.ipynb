{
 "cells": [
  {
   "cell_type": "markdown",
   "id": "7949356d",
   "metadata": {},
   "source": [
    "- Validating Credit Card Numbers"
   ]
  },
  {
   "cell_type": "markdown",
   "id": "b59f1df2",
   "metadata": {},
   "source": [
    "# my previous attempt"
   ]
  },
  {
   "cell_type": "code",
   "execution_count": null,
   "id": "b3298c36",
   "metadata": {},
   "outputs": [],
   "source": [
    "import re, itertools\n",
    "\n",
    "N = int(input())\n",
    "pattern = r'[-]?'.join([r'[456][\\d]{3}', r'[\\d]{4}', r'[\\d]{4}', r'[\\d]{4}'])\n",
    "\n",
    "for _ in range(N):\n",
    "    string = str(input())\n",
    "    condition_6 = [len(list(group)) \n",
    "                   for key, group in itertools.groupby(string)]\n",
    "    if any(list(map(lambda x: x >= 4, condition_6))) or re.search(r'[\\s]', string):\n",
    "        print('Invalid')\n",
    "        break\n",
    "    else:\n",
    "        if re.match(pattern, string):\n",
    "            print('Valid')\n",
    "        else:\n",
    "            print('Invalid')\n"
   ]
  },
  {
   "cell_type": "markdown",
   "id": "f5ac05f9",
   "metadata": {},
   "source": [
    "# 입력코드 (1)"
   ]
  },
  {
   "cell_type": "code",
   "execution_count": null,
   "id": "6ee53f6f",
   "metadata": {},
   "outputs": [],
   "source": [
    "import re\n",
    "\n",
    "string = input()\n",
    "pattern = '^[456][0-9]{3}[-]?[0-9]{4}[-]?[0-9]{4}[-]?[0-9]{4}$'\n",
    "consecutive = [''.join(list(range(_, _+4))) for _ in range(6)]\n",
    "\n",
    "print('Valid' if re.match(pattern, string) and all(number not in string for number in consecutive) \n",
    "     else 'Invalid')"
   ]
  },
  {
   "cell_type": "markdown",
   "id": "980c28ec",
   "metadata": {},
   "source": [
    "# 입력코드 (2)"
   ]
  },
  {
   "cell_type": "code",
   "execution_count": null,
   "id": "6e1a6dfa",
   "metadata": {},
   "outputs": [],
   "source": [
    "import re\n",
    "\n",
    "string = input()\n",
    "pattern = '^[456][0-9]{3}[-]?[0-9]{4}[-]?[0-9]{4}[-]?[0-9]{4}$'\n",
    "consecutive = [''.join(list(map(str, range(_, _+4)))) for _ in range(6)]\n",
    "\n",
    "print('Valid' if re.match(pattern, string) and all(number not in string for number in consecutive) \n",
    "     else 'Invalid')"
   ]
  },
  {
   "cell_type": "markdown",
   "id": "2dccaadf",
   "metadata": {},
   "source": [
    "# 입력코드 (3)"
   ]
  },
  {
   "cell_type": "code",
   "execution_count": null,
   "id": "17360a39",
   "metadata": {},
   "outputs": [],
   "source": [
    "import re\n",
    "\n",
    "N = int(input())\n",
    "\n",
    "for _ in range(N):\n",
    "    string = input()\n",
    "    pattern = '^[456][0-9]{3}[-]?[0-9]{4}[-]?[0-9]{4}[-]?[0-9]{4}$'\n",
    "    consecutive = [''.join(list(map(str, range(_, _+4)))) for _ in range(6)]\n",
    "\n",
    "    print('Valid' if re.match(pattern, string) and all(number not in string for number in consecutive) \n",
    "          else 'Invalid')"
   ]
  },
  {
   "cell_type": "code",
   "execution_count": 1,
   "id": "f1d76a0e",
   "metadata": {},
   "outputs": [],
   "source": [
    "consecutive = [''.join(list(map(str, range(_, _+4)))) for _ in range(6)]\n"
   ]
  },
  {
   "cell_type": "code",
   "execution_count": 2,
   "id": "aa3b1ae6",
   "metadata": {},
   "outputs": [
    {
     "data": {
      "text/plain": [
       "['0123', '1234', '2345', '3456', '4567', '5678']"
      ]
     },
     "execution_count": 2,
     "metadata": {},
     "output_type": "execute_result"
    }
   ],
   "source": [
    "consecutive"
   ]
  },
  {
   "cell_type": "markdown",
   "id": "7923c8e8",
   "metadata": {},
   "source": [
    "# 입력코드 (4)"
   ]
  },
  {
   "cell_type": "code",
   "execution_count": null,
   "id": "239b87a6",
   "metadata": {},
   "outputs": [],
   "source": [
    "import re\n",
    "\n",
    "N = int(input())\n",
    "consecutive = [''.join(list(map(str, range(_, _+4)))) for _ in range(6)]\n",
    "\n",
    "for _ in range(N):\n",
    "    string = input()\n",
    "    pattern = '^[456][0-9]{3}[-]?[0-9]{4}[-]?[0-9]{4}[-]?[0-9]{4}$'\n",
    "\n",
    "    print('Valid' if re.match(pattern, string) and all(number not in re.sub('[-]', '', string) for number in consecutive) \n",
    "          else 'Invalid')"
   ]
  },
  {
   "cell_type": "code",
   "execution_count": 3,
   "id": "acc45d26",
   "metadata": {},
   "outputs": [],
   "source": [
    "tests = ['4123456789123456', '5123-4567-8912-3456', \n",
    "        '61234-567-8912-3456', '4123356789123456', \n",
    "        '5133-3367-8912-3456', '5123 - 3567 - 8912 - 3456']"
   ]
  },
  {
   "cell_type": "code",
   "execution_count": 5,
   "id": "827d68d5",
   "metadata": {},
   "outputs": [],
   "source": [
    "import re"
   ]
  },
  {
   "cell_type": "code",
   "execution_count": 9,
   "id": "2ed8923b",
   "metadata": {},
   "outputs": [
    {
     "data": {
      "text/plain": [
       "['0123', '1234', '2345', '3456', '4567', '5678']"
      ]
     },
     "execution_count": 9,
     "metadata": {},
     "output_type": "execute_result"
    }
   ],
   "source": [
    "consecutive"
   ]
  },
  {
   "cell_type": "code",
   "execution_count": 8,
   "id": "bdc614ab",
   "metadata": {},
   "outputs": [
    {
     "name": "stdout",
     "output_type": "stream",
     "text": [
      "Valid\n",
      "Valid\n",
      "Invalid\n",
      "Valid\n",
      "Valid\n",
      "Invalid\n"
     ]
    }
   ],
   "source": [
    "pattern = '^[456][0-9]{3}[-]?[0-9]{4}[-]?[0-9]{4}[-]?[0-9]{4}$'\n",
    "\n",
    "for test in tests:\n",
    "    print('Valid' if re.match(pattern, test) else 'Invalid')"
   ]
  },
  {
   "cell_type": "code",
   "execution_count": 10,
   "id": "bbfd8daf",
   "metadata": {},
   "outputs": [
    {
     "name": "stdout",
     "output_type": "stream",
     "text": [
      "Invalid\n",
      "Invalid\n",
      "Invalid\n",
      "Invalid\n",
      "Invalid\n",
      "Invalid\n"
     ]
    }
   ],
   "source": [
    "pattern = '^[456][0-9]{3}[-]?[0-9]{4}[-]?[0-9]{4}[-]?[0-9]{4}$'\n",
    "\n",
    "for test in tests:\n",
    "    print('Valid' if re.match(pattern, test) and all(number not in test for number in consecutive) else 'Invalid')"
   ]
  },
  {
   "cell_type": "code",
   "execution_count": 12,
   "id": "4396514b",
   "metadata": {},
   "outputs": [
    {
     "name": "stdout",
     "output_type": "stream",
     "text": [
      "True 4123456789123456 0123\n",
      "False 4123456789123456 1234\n",
      "False 4123456789123456 2345\n",
      "False 4123456789123456 3456\n",
      "False 4123456789123456 4567\n",
      "False 4123456789123456 5678\n",
      "True 5123-4567-8912-3456 0123\n",
      "True 5123-4567-8912-3456 1234\n",
      "True 5123-4567-8912-3456 2345\n",
      "False 5123-4567-8912-3456 3456\n",
      "False 5123-4567-8912-3456 4567\n",
      "True 5123-4567-8912-3456 5678\n",
      "True 61234-567-8912-3456 0123\n",
      "False 61234-567-8912-3456 1234\n",
      "True 61234-567-8912-3456 2345\n",
      "False 61234-567-8912-3456 3456\n",
      "True 61234-567-8912-3456 4567\n",
      "True 61234-567-8912-3456 5678\n",
      "True 4123356789123456 0123\n",
      "False 4123356789123456 1234\n",
      "False 4123356789123456 2345\n",
      "False 4123356789123456 3456\n",
      "True 4123356789123456 4567\n",
      "False 4123356789123456 5678\n",
      "True 5133-3367-8912-3456 0123\n",
      "True 5133-3367-8912-3456 1234\n",
      "True 5133-3367-8912-3456 2345\n",
      "False 5133-3367-8912-3456 3456\n",
      "True 5133-3367-8912-3456 4567\n",
      "True 5133-3367-8912-3456 5678\n",
      "True 5123 - 3567 - 8912 - 3456 0123\n",
      "True 5123 - 3567 - 8912 - 3456 1234\n",
      "True 5123 - 3567 - 8912 - 3456 2345\n",
      "False 5123 - 3567 - 8912 - 3456 3456\n",
      "True 5123 - 3567 - 8912 - 3456 4567\n",
      "True 5123 - 3567 - 8912 - 3456 5678\n"
     ]
    }
   ],
   "source": [
    "for test in tests:\n",
    "    for number in consecutive:\n",
    "        print(number not in test, test, number)"
   ]
  },
  {
   "cell_type": "markdown",
   "id": "f2795b70",
   "metadata": {},
   "source": [
    "# 입력코드 (5)"
   ]
  },
  {
   "cell_type": "code",
   "execution_count": null,
   "id": "fad364f3",
   "metadata": {},
   "outputs": [],
   "source": [
    "import re\n",
    "\n",
    "N = int(input())\n",
    "pattern = '^[456][0-9]{3}[-]?[0-9]{4}[-]?[0-9]{4}[-]?[0-9]{4}$'\n",
    "avoid_pattern = '([0-9])\\\\1{4,}'\n",
    "\n",
    "for _ in range(N):\n",
    "    string = input()\n",
    "    \n",
    "\n",
    "    print('Valid' if re.match(pattern, string) and not re.search(avoid_pattern, string) else 'Invalid')"
   ]
  },
  {
   "cell_type": "code",
   "execution_count": 16,
   "id": "4b439bb3",
   "metadata": {},
   "outputs": [],
   "source": [
    "avoid_pattern = '(\\\\w)\\\\1{2,}'"
   ]
  },
  {
   "cell_type": "code",
   "execution_count": 18,
   "id": "c8bdc018",
   "metadata": {},
   "outputs": [
    {
     "data": {
      "text/plain": [
       "'ppp'"
      ]
     },
     "execution_count": 18,
     "metadata": {},
     "output_type": "execute_result"
    }
   ],
   "source": [
    "re.search(avoid_pattern, 'appple').group()"
   ]
  },
  {
   "cell_type": "code",
   "execution_count": 20,
   "id": "71b36194",
   "metadata": {},
   "outputs": [
    {
     "ename": "error",
     "evalue": "invalid group reference 2 at position 5",
     "output_type": "error",
     "traceback": [
      "\u001b[1;31m---------------------------------------------------------------------------\u001b[0m",
      "\u001b[1;31merror\u001b[0m                                     Traceback (most recent call last)",
      "\u001b[1;32mC:\\Users\\AARONC~1\\AppData\\Local\\Temp/ipykernel_23692/2233752163.py\u001b[0m in \u001b[0;36m<module>\u001b[1;34m\u001b[0m\n\u001b[1;32m----> 1\u001b[1;33m \u001b[0mre\u001b[0m\u001b[1;33m.\u001b[0m\u001b[0msearch\u001b[0m\u001b[1;33m(\u001b[0m\u001b[1;34m'(\\w)\\\\2'\u001b[0m\u001b[1;33m,\u001b[0m \u001b[1;34m'apple'\u001b[0m\u001b[1;33m)\u001b[0m\u001b[1;33m\u001b[0m\u001b[1;33m\u001b[0m\u001b[0m\n\u001b[0m",
      "\u001b[1;32m~\\AppData\\Local\\Programs\\Python\\Python39\\lib\\re.py\u001b[0m in \u001b[0;36msearch\u001b[1;34m(pattern, string, flags)\u001b[0m\n\u001b[0;32m    199\u001b[0m     \"\"\"Scan through string looking for a match to the pattern, returning\n\u001b[0;32m    200\u001b[0m     a Match object, or None if no match was found.\"\"\"\n\u001b[1;32m--> 201\u001b[1;33m     \u001b[1;32mreturn\u001b[0m \u001b[0m_compile\u001b[0m\u001b[1;33m(\u001b[0m\u001b[0mpattern\u001b[0m\u001b[1;33m,\u001b[0m \u001b[0mflags\u001b[0m\u001b[1;33m)\u001b[0m\u001b[1;33m.\u001b[0m\u001b[0msearch\u001b[0m\u001b[1;33m(\u001b[0m\u001b[0mstring\u001b[0m\u001b[1;33m)\u001b[0m\u001b[1;33m\u001b[0m\u001b[1;33m\u001b[0m\u001b[0m\n\u001b[0m\u001b[0;32m    202\u001b[0m \u001b[1;33m\u001b[0m\u001b[0m\n\u001b[0;32m    203\u001b[0m \u001b[1;32mdef\u001b[0m \u001b[0msub\u001b[0m\u001b[1;33m(\u001b[0m\u001b[0mpattern\u001b[0m\u001b[1;33m,\u001b[0m \u001b[0mrepl\u001b[0m\u001b[1;33m,\u001b[0m \u001b[0mstring\u001b[0m\u001b[1;33m,\u001b[0m \u001b[0mcount\u001b[0m\u001b[1;33m=\u001b[0m\u001b[1;36m0\u001b[0m\u001b[1;33m,\u001b[0m \u001b[0mflags\u001b[0m\u001b[1;33m=\u001b[0m\u001b[1;36m0\u001b[0m\u001b[1;33m)\u001b[0m\u001b[1;33m:\u001b[0m\u001b[1;33m\u001b[0m\u001b[1;33m\u001b[0m\u001b[0m\n",
      "\u001b[1;32m~\\AppData\\Local\\Programs\\Python\\Python39\\lib\\re.py\u001b[0m in \u001b[0;36m_compile\u001b[1;34m(pattern, flags)\u001b[0m\n\u001b[0;32m    302\u001b[0m     \u001b[1;32mif\u001b[0m \u001b[1;32mnot\u001b[0m \u001b[0msre_compile\u001b[0m\u001b[1;33m.\u001b[0m\u001b[0misstring\u001b[0m\u001b[1;33m(\u001b[0m\u001b[0mpattern\u001b[0m\u001b[1;33m)\u001b[0m\u001b[1;33m:\u001b[0m\u001b[1;33m\u001b[0m\u001b[1;33m\u001b[0m\u001b[0m\n\u001b[0;32m    303\u001b[0m         \u001b[1;32mraise\u001b[0m \u001b[0mTypeError\u001b[0m\u001b[1;33m(\u001b[0m\u001b[1;34m\"first argument must be string or compiled pattern\"\u001b[0m\u001b[1;33m)\u001b[0m\u001b[1;33m\u001b[0m\u001b[1;33m\u001b[0m\u001b[0m\n\u001b[1;32m--> 304\u001b[1;33m     \u001b[0mp\u001b[0m \u001b[1;33m=\u001b[0m \u001b[0msre_compile\u001b[0m\u001b[1;33m.\u001b[0m\u001b[0mcompile\u001b[0m\u001b[1;33m(\u001b[0m\u001b[0mpattern\u001b[0m\u001b[1;33m,\u001b[0m \u001b[0mflags\u001b[0m\u001b[1;33m)\u001b[0m\u001b[1;33m\u001b[0m\u001b[1;33m\u001b[0m\u001b[0m\n\u001b[0m\u001b[0;32m    305\u001b[0m     \u001b[1;32mif\u001b[0m \u001b[1;32mnot\u001b[0m \u001b[1;33m(\u001b[0m\u001b[0mflags\u001b[0m \u001b[1;33m&\u001b[0m \u001b[0mDEBUG\u001b[0m\u001b[1;33m)\u001b[0m\u001b[1;33m:\u001b[0m\u001b[1;33m\u001b[0m\u001b[1;33m\u001b[0m\u001b[0m\n\u001b[0;32m    306\u001b[0m         \u001b[1;32mif\u001b[0m \u001b[0mlen\u001b[0m\u001b[1;33m(\u001b[0m\u001b[0m_cache\u001b[0m\u001b[1;33m)\u001b[0m \u001b[1;33m>=\u001b[0m \u001b[0m_MAXCACHE\u001b[0m\u001b[1;33m:\u001b[0m\u001b[1;33m\u001b[0m\u001b[1;33m\u001b[0m\u001b[0m\n",
      "\u001b[1;32m~\\AppData\\Local\\Programs\\Python\\Python39\\lib\\sre_compile.py\u001b[0m in \u001b[0;36mcompile\u001b[1;34m(p, flags)\u001b[0m\n\u001b[0;32m    762\u001b[0m     \u001b[1;32mif\u001b[0m \u001b[0misstring\u001b[0m\u001b[1;33m(\u001b[0m\u001b[0mp\u001b[0m\u001b[1;33m)\u001b[0m\u001b[1;33m:\u001b[0m\u001b[1;33m\u001b[0m\u001b[1;33m\u001b[0m\u001b[0m\n\u001b[0;32m    763\u001b[0m         \u001b[0mpattern\u001b[0m \u001b[1;33m=\u001b[0m \u001b[0mp\u001b[0m\u001b[1;33m\u001b[0m\u001b[1;33m\u001b[0m\u001b[0m\n\u001b[1;32m--> 764\u001b[1;33m         \u001b[0mp\u001b[0m \u001b[1;33m=\u001b[0m \u001b[0msre_parse\u001b[0m\u001b[1;33m.\u001b[0m\u001b[0mparse\u001b[0m\u001b[1;33m(\u001b[0m\u001b[0mp\u001b[0m\u001b[1;33m,\u001b[0m \u001b[0mflags\u001b[0m\u001b[1;33m)\u001b[0m\u001b[1;33m\u001b[0m\u001b[1;33m\u001b[0m\u001b[0m\n\u001b[0m\u001b[0;32m    765\u001b[0m     \u001b[1;32melse\u001b[0m\u001b[1;33m:\u001b[0m\u001b[1;33m\u001b[0m\u001b[1;33m\u001b[0m\u001b[0m\n\u001b[0;32m    766\u001b[0m         \u001b[0mpattern\u001b[0m \u001b[1;33m=\u001b[0m \u001b[1;32mNone\u001b[0m\u001b[1;33m\u001b[0m\u001b[1;33m\u001b[0m\u001b[0m\n",
      "\u001b[1;32m~\\AppData\\Local\\Programs\\Python\\Python39\\lib\\sre_parse.py\u001b[0m in \u001b[0;36mparse\u001b[1;34m(str, flags, state)\u001b[0m\n\u001b[0;32m    946\u001b[0m \u001b[1;33m\u001b[0m\u001b[0m\n\u001b[0;32m    947\u001b[0m     \u001b[1;32mtry\u001b[0m\u001b[1;33m:\u001b[0m\u001b[1;33m\u001b[0m\u001b[1;33m\u001b[0m\u001b[0m\n\u001b[1;32m--> 948\u001b[1;33m         \u001b[0mp\u001b[0m \u001b[1;33m=\u001b[0m \u001b[0m_parse_sub\u001b[0m\u001b[1;33m(\u001b[0m\u001b[0msource\u001b[0m\u001b[1;33m,\u001b[0m \u001b[0mstate\u001b[0m\u001b[1;33m,\u001b[0m \u001b[0mflags\u001b[0m \u001b[1;33m&\u001b[0m \u001b[0mSRE_FLAG_VERBOSE\u001b[0m\u001b[1;33m,\u001b[0m \u001b[1;36m0\u001b[0m\u001b[1;33m)\u001b[0m\u001b[1;33m\u001b[0m\u001b[1;33m\u001b[0m\u001b[0m\n\u001b[0m\u001b[0;32m    949\u001b[0m     \u001b[1;32mexcept\u001b[0m \u001b[0mVerbose\u001b[0m\u001b[1;33m:\u001b[0m\u001b[1;33m\u001b[0m\u001b[1;33m\u001b[0m\u001b[0m\n\u001b[0;32m    950\u001b[0m         \u001b[1;31m# the VERBOSE flag was switched on inside the pattern.  to be\u001b[0m\u001b[1;33m\u001b[0m\u001b[1;33m\u001b[0m\u001b[0m\n",
      "\u001b[1;32m~\\AppData\\Local\\Programs\\Python\\Python39\\lib\\sre_parse.py\u001b[0m in \u001b[0;36m_parse_sub\u001b[1;34m(source, state, verbose, nested)\u001b[0m\n\u001b[0;32m    441\u001b[0m     \u001b[0mstart\u001b[0m \u001b[1;33m=\u001b[0m \u001b[0msource\u001b[0m\u001b[1;33m.\u001b[0m\u001b[0mtell\u001b[0m\u001b[1;33m(\u001b[0m\u001b[1;33m)\u001b[0m\u001b[1;33m\u001b[0m\u001b[1;33m\u001b[0m\u001b[0m\n\u001b[0;32m    442\u001b[0m     \u001b[1;32mwhile\u001b[0m \u001b[1;32mTrue\u001b[0m\u001b[1;33m:\u001b[0m\u001b[1;33m\u001b[0m\u001b[1;33m\u001b[0m\u001b[0m\n\u001b[1;32m--> 443\u001b[1;33m         itemsappend(_parse(source, state, verbose, nested + 1,\n\u001b[0m\u001b[0;32m    444\u001b[0m                            not nested and not items))\n\u001b[0;32m    445\u001b[0m         \u001b[1;32mif\u001b[0m \u001b[1;32mnot\u001b[0m \u001b[0msourcematch\u001b[0m\u001b[1;33m(\u001b[0m\u001b[1;34m\"|\"\u001b[0m\u001b[1;33m)\u001b[0m\u001b[1;33m:\u001b[0m\u001b[1;33m\u001b[0m\u001b[1;33m\u001b[0m\u001b[0m\n",
      "\u001b[1;32m~\\AppData\\Local\\Programs\\Python\\Python39\\lib\\sre_parse.py\u001b[0m in \u001b[0;36m_parse\u001b[1;34m(source, state, verbose, nested, first)\u001b[0m\n\u001b[0;32m    523\u001b[0m \u001b[1;33m\u001b[0m\u001b[0m\n\u001b[0;32m    524\u001b[0m         \u001b[1;32mif\u001b[0m \u001b[0mthis\u001b[0m\u001b[1;33m[\u001b[0m\u001b[1;36m0\u001b[0m\u001b[1;33m]\u001b[0m \u001b[1;33m==\u001b[0m \u001b[1;34m\"\\\\\"\u001b[0m\u001b[1;33m:\u001b[0m\u001b[1;33m\u001b[0m\u001b[1;33m\u001b[0m\u001b[0m\n\u001b[1;32m--> 525\u001b[1;33m             \u001b[0mcode\u001b[0m \u001b[1;33m=\u001b[0m \u001b[0m_escape\u001b[0m\u001b[1;33m(\u001b[0m\u001b[0msource\u001b[0m\u001b[1;33m,\u001b[0m \u001b[0mthis\u001b[0m\u001b[1;33m,\u001b[0m \u001b[0mstate\u001b[0m\u001b[1;33m)\u001b[0m\u001b[1;33m\u001b[0m\u001b[1;33m\u001b[0m\u001b[0m\n\u001b[0m\u001b[0;32m    526\u001b[0m             \u001b[0msubpatternappend\u001b[0m\u001b[1;33m(\u001b[0m\u001b[0mcode\u001b[0m\u001b[1;33m)\u001b[0m\u001b[1;33m\u001b[0m\u001b[1;33m\u001b[0m\u001b[0m\n\u001b[0;32m    527\u001b[0m \u001b[1;33m\u001b[0m\u001b[0m\n",
      "\u001b[1;32m~\\AppData\\Local\\Programs\\Python\\Python39\\lib\\sre_parse.py\u001b[0m in \u001b[0;36m_escape\u001b[1;34m(source, escape, state)\u001b[0m\n\u001b[0;32m    421\u001b[0m                 \u001b[0mstate\u001b[0m\u001b[1;33m.\u001b[0m\u001b[0mchecklookbehindgroup\u001b[0m\u001b[1;33m(\u001b[0m\u001b[0mgroup\u001b[0m\u001b[1;33m,\u001b[0m \u001b[0msource\u001b[0m\u001b[1;33m)\u001b[0m\u001b[1;33m\u001b[0m\u001b[1;33m\u001b[0m\u001b[0m\n\u001b[0;32m    422\u001b[0m                 \u001b[1;32mreturn\u001b[0m \u001b[0mGROUPREF\u001b[0m\u001b[1;33m,\u001b[0m \u001b[0mgroup\u001b[0m\u001b[1;33m\u001b[0m\u001b[1;33m\u001b[0m\u001b[0m\n\u001b[1;32m--> 423\u001b[1;33m             \u001b[1;32mraise\u001b[0m \u001b[0msource\u001b[0m\u001b[1;33m.\u001b[0m\u001b[0merror\u001b[0m\u001b[1;33m(\u001b[0m\u001b[1;34m\"invalid group reference %d\"\u001b[0m \u001b[1;33m%\u001b[0m \u001b[0mgroup\u001b[0m\u001b[1;33m,\u001b[0m \u001b[0mlen\u001b[0m\u001b[1;33m(\u001b[0m\u001b[0mescape\u001b[0m\u001b[1;33m)\u001b[0m \u001b[1;33m-\u001b[0m \u001b[1;36m1\u001b[0m\u001b[1;33m)\u001b[0m\u001b[1;33m\u001b[0m\u001b[1;33m\u001b[0m\u001b[0m\n\u001b[0m\u001b[0;32m    424\u001b[0m         \u001b[1;32mif\u001b[0m \u001b[0mlen\u001b[0m\u001b[1;33m(\u001b[0m\u001b[0mescape\u001b[0m\u001b[1;33m)\u001b[0m \u001b[1;33m==\u001b[0m \u001b[1;36m2\u001b[0m\u001b[1;33m:\u001b[0m\u001b[1;33m\u001b[0m\u001b[1;33m\u001b[0m\u001b[0m\n\u001b[0;32m    425\u001b[0m             \u001b[1;32mif\u001b[0m \u001b[0mc\u001b[0m \u001b[1;32min\u001b[0m \u001b[0mASCIILETTERS\u001b[0m\u001b[1;33m:\u001b[0m\u001b[1;33m\u001b[0m\u001b[1;33m\u001b[0m\u001b[0m\n",
      "\u001b[1;31merror\u001b[0m: invalid group reference 2 at position 5"
     ]
    }
   ],
   "source": [
    "re.search('(\\w)\\\\2', 'apple')"
   ]
  },
  {
   "cell_type": "code",
   "execution_count": 21,
   "id": "5eeeb72f",
   "metadata": {},
   "outputs": [
    {
     "data": {
      "text/plain": [
       "<re.Match object; span=(1, 3), match='pp'>"
      ]
     },
     "execution_count": 21,
     "metadata": {},
     "output_type": "execute_result"
    }
   ],
   "source": [
    "re.search('(\\w)\\\\1+', 'apple')"
   ]
  },
  {
   "cell_type": "code",
   "execution_count": 22,
   "id": "94615090",
   "metadata": {},
   "outputs": [],
   "source": [
    "re.search('(\\w)\\\\1+', 'aple')"
   ]
  },
  {
   "cell_type": "code",
   "execution_count": 23,
   "id": "54de13c2",
   "metadata": {},
   "outputs": [],
   "source": [
    "re.search('(\\w)\\\\1{2,}', 'apple')"
   ]
  },
  {
   "cell_type": "code",
   "execution_count": 24,
   "id": "58704e46",
   "metadata": {},
   "outputs": [
    {
     "data": {
      "text/plain": [
       "<re.Match object; span=(1, 4), match='ppp'>"
      ]
     },
     "execution_count": 24,
     "metadata": {},
     "output_type": "execute_result"
    }
   ],
   "source": [
    "re.search('(\\w)\\\\1{2,}', 'appple')"
   ]
  },
  {
   "cell_type": "code",
   "execution_count": null,
   "id": "cc62526e",
   "metadata": {},
   "outputs": [],
   "source": [
    "import re\n",
    "\n",
    "N = int(input())\n",
    "pattern = '^[456][0-9]{3}[-]?[0-9]{4}[-]?[0-9]{4}[-]?[0-9]{4}$'\n",
    "avoid_pattern = '([0-9])\\\\1{3,}'\n",
    "\n",
    "for _ in range(N):\n",
    "    string = input()\n",
    "    \n",
    "\n",
    "    print('Valid' if re.match(pattern, string) and not re.search(avoid_pattern, string) else 'Invalid')"
   ]
  },
  {
   "cell_type": "markdown",
   "id": "62e2ac22",
   "metadata": {},
   "source": [
    "# 입력코드 (6)"
   ]
  },
  {
   "cell_type": "code",
   "execution_count": null,
   "id": "a7450ebd",
   "metadata": {},
   "outputs": [],
   "source": [
    "import re\n",
    "\n",
    "N = int(input())\n",
    "pattern = '^[456][0-9]{3}[-]?[0-9]{4}[-]?[0-9]{4}[-]?[0-9]{4}$'\n",
    "avoid_pattern = '([0-9])\\\\1{3,}'\n",
    "\n",
    "for _ in range(N):\n",
    "    string = input()\n",
    "    \n",
    "\n",
    "    print('Valid' if re.match(pattern, string) and not re.search(avoid_pattern, \n",
    "                                                                 re.sub('[-]', '', string)) else 'Invalid')"
   ]
  },
  {
   "cell_type": "code",
   "execution_count": null,
   "id": "7e3b17c6",
   "metadata": {},
   "outputs": [],
   "source": [
    "### 예시답안 \n",
    "import re\n",
    "TESTER = re.compile(\n",
    "r'^'\n",
    "r'(?!.*(\\d)(-?\\1){3})'\n",
    "r'[456]'\n",
    "r'\\d{3}'\n",
    "r'(?:-?\\d{4}){3}'\n",
    "r'$'\n",
    ")\n",
    "\n",
    "for _ in range(int(input().strip())):\n",
    "    print('Valid' if TESTER.search(input().strip()) else 'Invalid')\n",
    "    "
   ]
  },
  {
   "cell_type": "markdown",
   "id": "4f6375fa",
   "metadata": {},
   "source": [
    "- Validating UID"
   ]
  },
  {
   "cell_type": "code",
   "execution_count": null,
   "id": "4a12f58d",
   "metadata": {},
   "outputs": [],
   "source": [
    "import re\n",
    "\n",
    "N = int(input())\n",
    "\n",
    "for _ in range(N):\n",
    "    string = input()\n",
    "    cond1 = len(re.findall('[A-Z]', string)) >= 2\n",
    "    cond2 = len(re.findall('[0-9]', string)) >= 3\n",
    "    cond3 = re.match('[a-zA-Z0-9]{10}$', string)\n",
    "    cond4 = len(list(set(string))) == 10\n",
    "    \n",
    "    print('Valid' if cond1 and cond2 and cond3 and cond4 else 'Invalid')"
   ]
  },
  {
   "cell_type": "code",
   "execution_count": 25,
   "id": "6602cc53",
   "metadata": {},
   "outputs": [],
   "source": [
    "Bool = (x > 5 for x in list(range(5)))"
   ]
  },
  {
   "cell_type": "code",
   "execution_count": 26,
   "id": "251a8d7c",
   "metadata": {},
   "outputs": [
    {
     "data": {
      "text/plain": [
       "<generator object <genexpr> at 0x000002A44E3AAD60>"
      ]
     },
     "execution_count": 26,
     "metadata": {},
     "output_type": "execute_result"
    }
   ],
   "source": [
    "Bool"
   ]
  },
  {
   "cell_type": "code",
   "execution_count": 27,
   "id": "3dd2a27e",
   "metadata": {},
   "outputs": [
    {
     "data": {
      "text/plain": [
       "[False, False, False, False, False]"
      ]
     },
     "execution_count": 27,
     "metadata": {},
     "output_type": "execute_result"
    }
   ],
   "source": [
    "list(Bool)"
   ]
  },
  {
   "cell_type": "code",
   "execution_count": 28,
   "id": "129920ba",
   "metadata": {},
   "outputs": [],
   "source": [
    "Bool = 3 > 5"
   ]
  },
  {
   "cell_type": "code",
   "execution_count": 29,
   "id": "08d0a2ac",
   "metadata": {},
   "outputs": [
    {
     "data": {
      "text/plain": [
       "False"
      ]
     },
     "execution_count": 29,
     "metadata": {},
     "output_type": "execute_result"
    }
   ],
   "source": [
    "Bool"
   ]
  },
  {
   "cell_type": "code",
   "execution_count": 30,
   "id": "62c16d31",
   "metadata": {},
   "outputs": [],
   "source": [
    "Bool = 'apple' != 'Appl'"
   ]
  },
  {
   "cell_type": "code",
   "execution_count": 31,
   "id": "a93cc492",
   "metadata": {},
   "outputs": [
    {
     "data": {
      "text/plain": [
       "True"
      ]
     },
     "execution_count": 31,
     "metadata": {},
     "output_type": "execute_result"
    }
   ],
   "source": [
    "Bool"
   ]
  },
  {
   "cell_type": "code",
   "execution_count": null,
   "id": "9d947ffb",
   "metadata": {},
   "outputs": [],
   "source": [
    "### 예시답안\n",
    "import re\n",
    "pattern = r'^(?!.*(.).*\\1)(?=(?L.*[A-Z]){2,}(?=(?:.*\\d){3,})[a-zA-Z0-9]{10}$'\n",
    "print('Valid' if re.match(pattern, input()) else 'Valid' for _ in range(int(input())))\n"
   ]
  }
 ],
 "metadata": {
  "kernelspec": {
   "display_name": "Python 3 (ipykernel)",
   "language": "python",
   "name": "python3"
  },
  "language_info": {
   "codemirror_mode": {
    "name": "ipython",
    "version": 3
   },
   "file_extension": ".py",
   "mimetype": "text/x-python",
   "name": "python",
   "nbconvert_exporter": "python",
   "pygments_lexer": "ipython3",
   "version": "3.9.7"
  }
 },
 "nbformat": 4,
 "nbformat_minor": 5
}
