{
 "cells": [
  {
   "cell_type": "markdown",
   "id": "671c54a9",
   "metadata": {},
   "source": [
    "- Validating Postal Codes "
   ]
  },
  {
   "cell_type": "code",
   "execution_count": null,
   "id": "ae745a26",
   "metadata": {},
   "outputs": [],
   "source": [
    "regex_integer_in_range = r\"_________\"\t# Do not delete 'r'.\n",
    "regex_alternating_repetitive_digit_pair = r\"_________\"\t# Do not delete 'r'.\n",
    "\n",
    "\n",
    "import re\n",
    "P = input()\n",
    "\n",
    "print (bool(re.match(regex_integer_in_range, P)) \n",
    "and len(re.findall(regex_alternating_repetitive_digit_pair, P)) < 2)"
   ]
  },
  {
   "cell_type": "code",
   "execution_count": 1,
   "id": "99b18125",
   "metadata": {},
   "outputs": [],
   "source": [
    "import re"
   ]
  },
  {
   "cell_type": "code",
   "execution_count": 24,
   "id": "91c72149",
   "metadata": {},
   "outputs": [],
   "source": [
    "digits = ['100000', '110000', '100010', '9990000', '252555', '555321', '00', '000001']"
   ]
  },
  {
   "cell_type": "code",
   "execution_count": 25,
   "id": "330af181",
   "metadata": {},
   "outputs": [],
   "source": [
    "regex_integer_in_range = r'^[1-9]\\w{5}$'"
   ]
  },
  {
   "cell_type": "code",
   "execution_count": 26,
   "id": "e8a532d1",
   "metadata": {},
   "outputs": [
    {
     "name": "stdout",
     "output_type": "stream",
     "text": [
      "True\n",
      "True\n",
      "True\n",
      "False\n",
      "True\n",
      "True\n",
      "False\n",
      "False\n"
     ]
    }
   ],
   "source": [
    "for digit in digits:\n",
    "    print(bool(re.match(regex_integer_in_range, digit)))"
   ]
  },
  {
   "cell_type": "code",
   "execution_count": 27,
   "id": "a53f9ae5",
   "metadata": {},
   "outputs": [],
   "source": [
    "regex_alternating_repetitive_digit_pair = r'([\\d])[\\d](?=\\1)'"
   ]
  },
  {
   "cell_type": "code",
   "execution_count": 28,
   "id": "979fe9fb",
   "metadata": {},
   "outputs": [
    {
     "name": "stdout",
     "output_type": "stream",
     "text": [
      "False\n",
      "True\n",
      "False\n",
      "False\n",
      "False\n",
      "True\n",
      "True\n",
      "False\n"
     ]
    }
   ],
   "source": [
    "for digit in digits:\n",
    "    print(bool(len(re.findall(regex_alternating_repetitive_digit_pair, \n",
    "                       digit)) <  2))"
   ]
  },
  {
   "cell_type": "code",
   "execution_count": 15,
   "id": "82100f79",
   "metadata": {},
   "outputs": [],
   "source": [
    "regex_alternating_repetitive_digit_pair = r'([\\d])[\\d]=\\1'"
   ]
  },
  {
   "cell_type": "code",
   "execution_count": 30,
   "id": "4ffca310",
   "metadata": {},
   "outputs": [
    {
     "data": {
      "text/plain": [
       "['100000', '110000', '100010', '9990000', '252555', '555321', '00', '000001']"
      ]
     },
     "execution_count": 30,
     "metadata": {},
     "output_type": "execute_result"
    }
   ],
   "source": [
    "digits"
   ]
  },
  {
   "cell_type": "code",
   "execution_count": 29,
   "id": "7f3d83cb",
   "metadata": {},
   "outputs": [
    {
     "name": "stdout",
     "output_type": "stream",
     "text": [
      "False\n",
      "True\n",
      "False\n",
      "False\n",
      "False\n",
      "True\n",
      "True\n",
      "False\n"
     ]
    }
   ],
   "source": [
    "for digit in digits:\n",
    "    print(bool(len(re.findall(regex_alternating_repetitive_digit_pair, \n",
    "                       digit)) <  2))"
   ]
  },
  {
   "cell_type": "code",
   "execution_count": 31,
   "id": "3eea2e27",
   "metadata": {},
   "outputs": [
    {
     "name": "stdout",
     "output_type": "stream",
     "text": [
      "['0', '0']\n",
      "['0']\n",
      "['0', '0']\n",
      "['9', '0']\n",
      "['2', '5']\n",
      "['5']\n",
      "[]\n",
      "['0', '0']\n"
     ]
    }
   ],
   "source": [
    "for digit in digits:\n",
    "    print(re.findall(regex_alternating_repetitive_digit_pair, \n",
    "              digit))"
   ]
  },
  {
   "cell_type": "code",
   "execution_count": 28,
   "id": "8c15e612",
   "metadata": {},
   "outputs": [],
   "source": [
    "regex_alternating_repetitive_digit_pair = r'(\\d{1})\\d\\1'"
   ]
  },
  {
   "cell_type": "code",
   "execution_count": 29,
   "id": "934c619d",
   "metadata": {},
   "outputs": [
    {
     "name": "stdout",
     "output_type": "stream",
     "text": [
      "True\n",
      "True\n",
      "True\n",
      "False\n",
      "False\n",
      "True\n",
      "True\n",
      "True\n"
     ]
    }
   ],
   "source": [
    "for digit in digits:\n",
    "    print(bool(len(re.findall(regex_alternating_repetitive_digit_pair, \n",
    "                       digit)) <  2))"
   ]
  },
  {
   "cell_type": "code",
   "execution_count": 30,
   "id": "22d3b0b2",
   "metadata": {},
   "outputs": [
    {
     "data": {
      "text/plain": [
       "['100000', '110000', '100010', '9990000', '252555', '555321', '00', '000001']"
      ]
     },
     "execution_count": 30,
     "metadata": {},
     "output_type": "execute_result"
    }
   ],
   "source": [
    "digits"
   ]
  },
  {
   "cell_type": "code",
   "execution_count": 31,
   "id": "a02932e7",
   "metadata": {
    "scrolled": true
   },
   "outputs": [
    {
     "name": "stdout",
     "output_type": "stream",
     "text": [
      "['0']\n",
      "['0']\n",
      "['0']\n",
      "['9', '0']\n",
      "['2', '5']\n",
      "['5']\n",
      "[]\n",
      "['0']\n"
     ]
    }
   ],
   "source": [
    "for digit in digits:\n",
    "    print(re.findall(regex_alternating_repetitive_digit_pair, \n",
    "          digit))"
   ]
  },
  {
   "cell_type": "code",
   "execution_count": 32,
   "id": "e8a1bf60",
   "metadata": {},
   "outputs": [
    {
     "data": {
      "text/plain": [
       "['0']"
      ]
     },
     "execution_count": 32,
     "metadata": {},
     "output_type": "execute_result"
    }
   ],
   "source": [
    "re.findall(regex_alternating_repetitive_digit_pair, '110000')"
   ]
  },
  {
   "cell_type": "code",
   "execution_count": 33,
   "id": "b1901119",
   "metadata": {},
   "outputs": [
    {
     "data": {
      "text/plain": [
       "['0']"
      ]
     },
     "execution_count": 33,
     "metadata": {},
     "output_type": "execute_result"
    }
   ],
   "source": [
    "re.findall(regex_alternating_repetitive_digit_pair, '11000')"
   ]
  },
  {
   "cell_type": "code",
   "execution_count": 34,
   "id": "92a14e51",
   "metadata": {},
   "outputs": [
    {
     "data": {
      "text/plain": [
       "['0']"
      ]
     },
     "execution_count": 34,
     "metadata": {},
     "output_type": "execute_result"
    }
   ],
   "source": [
    "re.findall(regex_alternating_repetitive_digit_pair, '1100000')"
   ]
  },
  {
   "cell_type": "code",
   "execution_count": 35,
   "id": "f3a03eff",
   "metadata": {},
   "outputs": [
    {
     "data": {
      "text/plain": [
       "['0', '0']"
      ]
     },
     "execution_count": 35,
     "metadata": {},
     "output_type": "execute_result"
    }
   ],
   "source": [
    "re.findall(regex_alternating_repetitive_digit_pair, '11000000')"
   ]
  },
  {
   "cell_type": "code",
   "execution_count": 36,
   "id": "a8ae6a78",
   "metadata": {},
   "outputs": [],
   "source": [
    "pattern = r'^.*(.).\\1.*$'"
   ]
  },
  {
   "cell_type": "code",
   "execution_count": 37,
   "id": "65874755",
   "metadata": {},
   "outputs": [
    {
     "data": {
      "text/plain": [
       "['0']"
      ]
     },
     "execution_count": 37,
     "metadata": {},
     "output_type": "execute_result"
    }
   ],
   "source": [
    "re.findall(pattern, '110000')"
   ]
  },
  {
   "cell_type": "code",
   "execution_count": 38,
   "id": "63f9769f",
   "metadata": {},
   "outputs": [
    {
     "data": {
      "text/plain": [
       "['2']"
      ]
     },
     "execution_count": 38,
     "metadata": {},
     "output_type": "execute_result"
    }
   ],
   "source": [
    "re.findall(pattern, '110202')"
   ]
  },
  {
   "cell_type": "code",
   "execution_count": 39,
   "id": "349ddd86",
   "metadata": {},
   "outputs": [
    {
     "data": {
      "text/plain": [
       "['0']"
      ]
     },
     "execution_count": 39,
     "metadata": {},
     "output_type": "execute_result"
    }
   ],
   "source": [
    "re.findall(regex_alternating_repetitive_digit_pair, '110202')"
   ]
  },
  {
   "cell_type": "code",
   "execution_count": 40,
   "id": "8fc01958",
   "metadata": {},
   "outputs": [
    {
     "data": {
      "text/plain": [
       "'(\\\\d{1})\\\\d\\\\1'"
      ]
     },
     "execution_count": 40,
     "metadata": {},
     "output_type": "execute_result"
    }
   ],
   "source": [
    "regex_alternating_repetitive_digit_pair"
   ]
  },
  {
   "cell_type": "code",
   "execution_count": 47,
   "id": "638fe893",
   "metadata": {},
   "outputs": [],
   "source": [
    "pattern = r'(^.*(?<rep>.).\\k<rep>)|((.).\\1.*$)'"
   ]
  },
  {
   "cell_type": "code",
   "execution_count": 48,
   "id": "d468abf9",
   "metadata": {},
   "outputs": [
    {
     "data": {
      "text/plain": [
       "['0']"
      ]
     },
     "execution_count": 48,
     "metadata": {},
     "output_type": "execute_result"
    }
   ],
   "source": [
    "re.findall(regex_alternating_repetitive_digit_pair, '110202')"
   ]
  },
  {
   "cell_type": "code",
   "execution_count": 49,
   "id": "c5fffff9",
   "metadata": {},
   "outputs": [
    {
     "ename": "error",
     "evalue": "unknown extension ?<r at position 5",
     "output_type": "error",
     "traceback": [
      "\u001b[1;31m---------------------------------------------------------------------------\u001b[0m",
      "\u001b[1;31merror\u001b[0m                                     Traceback (most recent call last)",
      "\u001b[1;32mC:\\Users\\AARONC~1\\AppData\\Local\\Temp/ipykernel_21620/1822116144.py\u001b[0m in \u001b[0;36m<module>\u001b[1;34m\u001b[0m\n\u001b[1;32m----> 1\u001b[1;33m \u001b[0mre\u001b[0m\u001b[1;33m.\u001b[0m\u001b[0mfindall\u001b[0m\u001b[1;33m(\u001b[0m\u001b[0mpattern\u001b[0m\u001b[1;33m,\u001b[0m \u001b[1;34m'110202'\u001b[0m\u001b[1;33m)\u001b[0m\u001b[1;33m\u001b[0m\u001b[1;33m\u001b[0m\u001b[0m\n\u001b[0m",
      "\u001b[1;32m~\\AppData\\Local\\Programs\\Python\\Python39\\lib\\re.py\u001b[0m in \u001b[0;36mfindall\u001b[1;34m(pattern, string, flags)\u001b[0m\n\u001b[0;32m    239\u001b[0m \u001b[1;33m\u001b[0m\u001b[0m\n\u001b[0;32m    240\u001b[0m     Empty matches are included in the result.\"\"\"\n\u001b[1;32m--> 241\u001b[1;33m     \u001b[1;32mreturn\u001b[0m \u001b[0m_compile\u001b[0m\u001b[1;33m(\u001b[0m\u001b[0mpattern\u001b[0m\u001b[1;33m,\u001b[0m \u001b[0mflags\u001b[0m\u001b[1;33m)\u001b[0m\u001b[1;33m.\u001b[0m\u001b[0mfindall\u001b[0m\u001b[1;33m(\u001b[0m\u001b[0mstring\u001b[0m\u001b[1;33m)\u001b[0m\u001b[1;33m\u001b[0m\u001b[1;33m\u001b[0m\u001b[0m\n\u001b[0m\u001b[0;32m    242\u001b[0m \u001b[1;33m\u001b[0m\u001b[0m\n\u001b[0;32m    243\u001b[0m \u001b[1;32mdef\u001b[0m \u001b[0mfinditer\u001b[0m\u001b[1;33m(\u001b[0m\u001b[0mpattern\u001b[0m\u001b[1;33m,\u001b[0m \u001b[0mstring\u001b[0m\u001b[1;33m,\u001b[0m \u001b[0mflags\u001b[0m\u001b[1;33m=\u001b[0m\u001b[1;36m0\u001b[0m\u001b[1;33m)\u001b[0m\u001b[1;33m:\u001b[0m\u001b[1;33m\u001b[0m\u001b[1;33m\u001b[0m\u001b[0m\n",
      "\u001b[1;32m~\\AppData\\Local\\Programs\\Python\\Python39\\lib\\re.py\u001b[0m in \u001b[0;36m_compile\u001b[1;34m(pattern, flags)\u001b[0m\n\u001b[0;32m    302\u001b[0m     \u001b[1;32mif\u001b[0m \u001b[1;32mnot\u001b[0m \u001b[0msre_compile\u001b[0m\u001b[1;33m.\u001b[0m\u001b[0misstring\u001b[0m\u001b[1;33m(\u001b[0m\u001b[0mpattern\u001b[0m\u001b[1;33m)\u001b[0m\u001b[1;33m:\u001b[0m\u001b[1;33m\u001b[0m\u001b[1;33m\u001b[0m\u001b[0m\n\u001b[0;32m    303\u001b[0m         \u001b[1;32mraise\u001b[0m \u001b[0mTypeError\u001b[0m\u001b[1;33m(\u001b[0m\u001b[1;34m\"first argument must be string or compiled pattern\"\u001b[0m\u001b[1;33m)\u001b[0m\u001b[1;33m\u001b[0m\u001b[1;33m\u001b[0m\u001b[0m\n\u001b[1;32m--> 304\u001b[1;33m     \u001b[0mp\u001b[0m \u001b[1;33m=\u001b[0m \u001b[0msre_compile\u001b[0m\u001b[1;33m.\u001b[0m\u001b[0mcompile\u001b[0m\u001b[1;33m(\u001b[0m\u001b[0mpattern\u001b[0m\u001b[1;33m,\u001b[0m \u001b[0mflags\u001b[0m\u001b[1;33m)\u001b[0m\u001b[1;33m\u001b[0m\u001b[1;33m\u001b[0m\u001b[0m\n\u001b[0m\u001b[0;32m    305\u001b[0m     \u001b[1;32mif\u001b[0m \u001b[1;32mnot\u001b[0m \u001b[1;33m(\u001b[0m\u001b[0mflags\u001b[0m \u001b[1;33m&\u001b[0m \u001b[0mDEBUG\u001b[0m\u001b[1;33m)\u001b[0m\u001b[1;33m:\u001b[0m\u001b[1;33m\u001b[0m\u001b[1;33m\u001b[0m\u001b[0m\n\u001b[0;32m    306\u001b[0m         \u001b[1;32mif\u001b[0m \u001b[0mlen\u001b[0m\u001b[1;33m(\u001b[0m\u001b[0m_cache\u001b[0m\u001b[1;33m)\u001b[0m \u001b[1;33m>=\u001b[0m \u001b[0m_MAXCACHE\u001b[0m\u001b[1;33m:\u001b[0m\u001b[1;33m\u001b[0m\u001b[1;33m\u001b[0m\u001b[0m\n",
      "\u001b[1;32m~\\AppData\\Local\\Programs\\Python\\Python39\\lib\\sre_compile.py\u001b[0m in \u001b[0;36mcompile\u001b[1;34m(p, flags)\u001b[0m\n\u001b[0;32m    762\u001b[0m     \u001b[1;32mif\u001b[0m \u001b[0misstring\u001b[0m\u001b[1;33m(\u001b[0m\u001b[0mp\u001b[0m\u001b[1;33m)\u001b[0m\u001b[1;33m:\u001b[0m\u001b[1;33m\u001b[0m\u001b[1;33m\u001b[0m\u001b[0m\n\u001b[0;32m    763\u001b[0m         \u001b[0mpattern\u001b[0m \u001b[1;33m=\u001b[0m \u001b[0mp\u001b[0m\u001b[1;33m\u001b[0m\u001b[1;33m\u001b[0m\u001b[0m\n\u001b[1;32m--> 764\u001b[1;33m         \u001b[0mp\u001b[0m \u001b[1;33m=\u001b[0m \u001b[0msre_parse\u001b[0m\u001b[1;33m.\u001b[0m\u001b[0mparse\u001b[0m\u001b[1;33m(\u001b[0m\u001b[0mp\u001b[0m\u001b[1;33m,\u001b[0m \u001b[0mflags\u001b[0m\u001b[1;33m)\u001b[0m\u001b[1;33m\u001b[0m\u001b[1;33m\u001b[0m\u001b[0m\n\u001b[0m\u001b[0;32m    765\u001b[0m     \u001b[1;32melse\u001b[0m\u001b[1;33m:\u001b[0m\u001b[1;33m\u001b[0m\u001b[1;33m\u001b[0m\u001b[0m\n\u001b[0;32m    766\u001b[0m         \u001b[0mpattern\u001b[0m \u001b[1;33m=\u001b[0m \u001b[1;32mNone\u001b[0m\u001b[1;33m\u001b[0m\u001b[1;33m\u001b[0m\u001b[0m\n",
      "\u001b[1;32m~\\AppData\\Local\\Programs\\Python\\Python39\\lib\\sre_parse.py\u001b[0m in \u001b[0;36mparse\u001b[1;34m(str, flags, state)\u001b[0m\n\u001b[0;32m    946\u001b[0m \u001b[1;33m\u001b[0m\u001b[0m\n\u001b[0;32m    947\u001b[0m     \u001b[1;32mtry\u001b[0m\u001b[1;33m:\u001b[0m\u001b[1;33m\u001b[0m\u001b[1;33m\u001b[0m\u001b[0m\n\u001b[1;32m--> 948\u001b[1;33m         \u001b[0mp\u001b[0m \u001b[1;33m=\u001b[0m \u001b[0m_parse_sub\u001b[0m\u001b[1;33m(\u001b[0m\u001b[0msource\u001b[0m\u001b[1;33m,\u001b[0m \u001b[0mstate\u001b[0m\u001b[1;33m,\u001b[0m \u001b[0mflags\u001b[0m \u001b[1;33m&\u001b[0m \u001b[0mSRE_FLAG_VERBOSE\u001b[0m\u001b[1;33m,\u001b[0m \u001b[1;36m0\u001b[0m\u001b[1;33m)\u001b[0m\u001b[1;33m\u001b[0m\u001b[1;33m\u001b[0m\u001b[0m\n\u001b[0m\u001b[0;32m    949\u001b[0m     \u001b[1;32mexcept\u001b[0m \u001b[0mVerbose\u001b[0m\u001b[1;33m:\u001b[0m\u001b[1;33m\u001b[0m\u001b[1;33m\u001b[0m\u001b[0m\n\u001b[0;32m    950\u001b[0m         \u001b[1;31m# the VERBOSE flag was switched on inside the pattern.  to be\u001b[0m\u001b[1;33m\u001b[0m\u001b[1;33m\u001b[0m\u001b[0m\n",
      "\u001b[1;32m~\\AppData\\Local\\Programs\\Python\\Python39\\lib\\sre_parse.py\u001b[0m in \u001b[0;36m_parse_sub\u001b[1;34m(source, state, verbose, nested)\u001b[0m\n\u001b[0;32m    441\u001b[0m     \u001b[0mstart\u001b[0m \u001b[1;33m=\u001b[0m \u001b[0msource\u001b[0m\u001b[1;33m.\u001b[0m\u001b[0mtell\u001b[0m\u001b[1;33m(\u001b[0m\u001b[1;33m)\u001b[0m\u001b[1;33m\u001b[0m\u001b[1;33m\u001b[0m\u001b[0m\n\u001b[0;32m    442\u001b[0m     \u001b[1;32mwhile\u001b[0m \u001b[1;32mTrue\u001b[0m\u001b[1;33m:\u001b[0m\u001b[1;33m\u001b[0m\u001b[1;33m\u001b[0m\u001b[0m\n\u001b[1;32m--> 443\u001b[1;33m         itemsappend(_parse(source, state, verbose, nested + 1,\n\u001b[0m\u001b[0;32m    444\u001b[0m                            not nested and not items))\n\u001b[0;32m    445\u001b[0m         \u001b[1;32mif\u001b[0m \u001b[1;32mnot\u001b[0m \u001b[0msourcematch\u001b[0m\u001b[1;33m(\u001b[0m\u001b[1;34m\"|\"\u001b[0m\u001b[1;33m)\u001b[0m\u001b[1;33m:\u001b[0m\u001b[1;33m\u001b[0m\u001b[1;33m\u001b[0m\u001b[0m\n",
      "\u001b[1;32m~\\AppData\\Local\\Programs\\Python\\Python39\\lib\\sre_parse.py\u001b[0m in \u001b[0;36m_parse\u001b[1;34m(source, state, verbose, nested, first)\u001b[0m\n\u001b[0;32m    832\u001b[0m             sub_verbose = ((verbose or (add_flags & SRE_FLAG_VERBOSE)) and\n\u001b[0;32m    833\u001b[0m                            not (del_flags & SRE_FLAG_VERBOSE))\n\u001b[1;32m--> 834\u001b[1;33m             \u001b[0mp\u001b[0m \u001b[1;33m=\u001b[0m \u001b[0m_parse_sub\u001b[0m\u001b[1;33m(\u001b[0m\u001b[0msource\u001b[0m\u001b[1;33m,\u001b[0m \u001b[0mstate\u001b[0m\u001b[1;33m,\u001b[0m \u001b[0msub_verbose\u001b[0m\u001b[1;33m,\u001b[0m \u001b[0mnested\u001b[0m \u001b[1;33m+\u001b[0m \u001b[1;36m1\u001b[0m\u001b[1;33m)\u001b[0m\u001b[1;33m\u001b[0m\u001b[1;33m\u001b[0m\u001b[0m\n\u001b[0m\u001b[0;32m    835\u001b[0m             \u001b[1;32mif\u001b[0m \u001b[1;32mnot\u001b[0m \u001b[0msource\u001b[0m\u001b[1;33m.\u001b[0m\u001b[0mmatch\u001b[0m\u001b[1;33m(\u001b[0m\u001b[1;34m\")\"\u001b[0m\u001b[1;33m)\u001b[0m\u001b[1;33m:\u001b[0m\u001b[1;33m\u001b[0m\u001b[1;33m\u001b[0m\u001b[0m\n\u001b[0;32m    836\u001b[0m                 raise source.error(\"missing ), unterminated subpattern\",\n",
      "\u001b[1;32m~\\AppData\\Local\\Programs\\Python\\Python39\\lib\\sre_parse.py\u001b[0m in \u001b[0;36m_parse_sub\u001b[1;34m(source, state, verbose, nested)\u001b[0m\n\u001b[0;32m    441\u001b[0m     \u001b[0mstart\u001b[0m \u001b[1;33m=\u001b[0m \u001b[0msource\u001b[0m\u001b[1;33m.\u001b[0m\u001b[0mtell\u001b[0m\u001b[1;33m(\u001b[0m\u001b[1;33m)\u001b[0m\u001b[1;33m\u001b[0m\u001b[1;33m\u001b[0m\u001b[0m\n\u001b[0;32m    442\u001b[0m     \u001b[1;32mwhile\u001b[0m \u001b[1;32mTrue\u001b[0m\u001b[1;33m:\u001b[0m\u001b[1;33m\u001b[0m\u001b[1;33m\u001b[0m\u001b[0m\n\u001b[1;32m--> 443\u001b[1;33m         itemsappend(_parse(source, state, verbose, nested + 1,\n\u001b[0m\u001b[0;32m    444\u001b[0m                            not nested and not items))\n\u001b[0;32m    445\u001b[0m         \u001b[1;32mif\u001b[0m \u001b[1;32mnot\u001b[0m \u001b[0msourcematch\u001b[0m\u001b[1;33m(\u001b[0m\u001b[1;34m\"|\"\u001b[0m\u001b[1;33m)\u001b[0m\u001b[1;33m:\u001b[0m\u001b[1;33m\u001b[0m\u001b[1;33m\u001b[0m\u001b[0m\n",
      "\u001b[1;32m~\\AppData\\Local\\Programs\\Python\\Python39\\lib\\sre_parse.py\u001b[0m in \u001b[0;36m_parse\u001b[1;34m(source, state, verbose, nested, first)\u001b[0m\n\u001b[0;32m    746\u001b[0m                             \u001b[1;32mraise\u001b[0m \u001b[0msource\u001b[0m\u001b[1;33m.\u001b[0m\u001b[0merror\u001b[0m\u001b[1;33m(\u001b[0m\u001b[1;34m\"unexpected end of pattern\"\u001b[0m\u001b[1;33m)\u001b[0m\u001b[1;33m\u001b[0m\u001b[1;33m\u001b[0m\u001b[0m\n\u001b[0;32m    747\u001b[0m                         \u001b[1;32mif\u001b[0m \u001b[0mchar\u001b[0m \u001b[1;32mnot\u001b[0m \u001b[1;32min\u001b[0m \u001b[1;34m\"=!\"\u001b[0m\u001b[1;33m:\u001b[0m\u001b[1;33m\u001b[0m\u001b[1;33m\u001b[0m\u001b[0m\n\u001b[1;32m--> 748\u001b[1;33m                             raise source.error(\"unknown extension ?<\" + char,\n\u001b[0m\u001b[0;32m    749\u001b[0m                                                len(char) + 2)\n\u001b[0;32m    750\u001b[0m                         \u001b[0mdir\u001b[0m \u001b[1;33m=\u001b[0m \u001b[1;33m-\u001b[0m\u001b[1;36m1\u001b[0m \u001b[1;31m# lookbehind\u001b[0m\u001b[1;33m\u001b[0m\u001b[1;33m\u001b[0m\u001b[0m\n",
      "\u001b[1;31merror\u001b[0m: unknown extension ?<r at position 5"
     ]
    }
   ],
   "source": [
    "re.findall(pattern, '110202')"
   ]
  },
  {
   "cell_type": "code",
   "execution_count": 50,
   "id": "be732386",
   "metadata": {},
   "outputs": [],
   "source": [
    "pattern = r'^.*(.).\\1.*$'"
   ]
  },
  {
   "cell_type": "code",
   "execution_count": 52,
   "id": "52383707",
   "metadata": {},
   "outputs": [
    {
     "data": {
      "text/plain": [
       "['2']"
      ]
     },
     "execution_count": 52,
     "metadata": {},
     "output_type": "execute_result"
    }
   ],
   "source": [
    "re.findall(pattern, '110202')"
   ]
  },
  {
   "cell_type": "code",
   "execution_count": 53,
   "id": "a9004dcf",
   "metadata": {},
   "outputs": [],
   "source": [
    "pattern = r'^.*(.).\\1'"
   ]
  },
  {
   "cell_type": "code",
   "execution_count": 54,
   "id": "19668d76",
   "metadata": {},
   "outputs": [
    {
     "data": {
      "text/plain": [
       "['2']"
      ]
     },
     "execution_count": 54,
     "metadata": {},
     "output_type": "execute_result"
    }
   ],
   "source": [
    "re.findall(pattern, '110202')"
   ]
  },
  {
   "cell_type": "code",
   "execution_count": 55,
   "id": "d5af808d",
   "metadata": {},
   "outputs": [],
   "source": [
    "pattern = r'^.*?(.).\\1'"
   ]
  },
  {
   "cell_type": "code",
   "execution_count": 56,
   "id": "8056ec44",
   "metadata": {},
   "outputs": [
    {
     "data": {
      "text/plain": [
       "['0']"
      ]
     },
     "execution_count": 56,
     "metadata": {},
     "output_type": "execute_result"
    }
   ],
   "source": [
    "re.findall(pattern, '110202')"
   ]
  },
  {
   "cell_type": "code",
   "execution_count": 59,
   "id": "bb553e42",
   "metadata": {},
   "outputs": [],
   "source": [
    "pattern = r'(.).\\1'\n"
   ]
  },
  {
   "cell_type": "code",
   "execution_count": 60,
   "id": "d706bd90",
   "metadata": {},
   "outputs": [
    {
     "data": {
      "text/plain": [
       "['0']"
      ]
     },
     "execution_count": 60,
     "metadata": {},
     "output_type": "execute_result"
    }
   ],
   "source": [
    "re.findall(pattern, '110202')"
   ]
  },
  {
   "cell_type": "code",
   "execution_count": 61,
   "id": "f658e772",
   "metadata": {},
   "outputs": [],
   "source": [
    "target = '010'"
   ]
  },
  {
   "cell_type": "code",
   "execution_count": 63,
   "id": "10ec9ab3",
   "metadata": {},
   "outputs": [
    {
     "data": {
      "text/plain": [
       "['010', '010']"
      ]
     },
     "execution_count": 63,
     "metadata": {},
     "output_type": "execute_result"
    }
   ],
   "source": [
    "re.findall(target, '0101010')"
   ]
  },
  {
   "cell_type": "code",
   "execution_count": 66,
   "id": "bccce0aa",
   "metadata": {},
   "outputs": [],
   "source": [
    "target = '(0)1(?=\\1)'"
   ]
  },
  {
   "cell_type": "code",
   "execution_count": 67,
   "id": "212e765e",
   "metadata": {},
   "outputs": [
    {
     "data": {
      "text/plain": [
       "[]"
      ]
     },
     "execution_count": 67,
     "metadata": {},
     "output_type": "execute_result"
    }
   ],
   "source": [
    "re.findall(target, '0101010')"
   ]
  },
  {
   "cell_type": "code",
   "execution_count": 68,
   "id": "5054ad9b",
   "metadata": {},
   "outputs": [],
   "source": [
    "target = '(.).(?=\\1)'"
   ]
  },
  {
   "cell_type": "code",
   "execution_count": 69,
   "id": "fec6f66b",
   "metadata": {},
   "outputs": [
    {
     "data": {
      "text/plain": [
       "[]"
      ]
     },
     "execution_count": 69,
     "metadata": {},
     "output_type": "execute_result"
    }
   ],
   "source": [
    "re.findall(target, '0101010')"
   ]
  },
  {
   "cell_type": "code",
   "execution_count": 73,
   "id": "f26db5cc",
   "metadata": {},
   "outputs": [
    {
     "data": {
      "text/plain": [
       "[]"
      ]
     },
     "execution_count": 73,
     "metadata": {},
     "output_type": "execute_result"
    }
   ],
   "source": [
    "re.findall('(.)(?=\\1)', '00000')"
   ]
  },
  {
   "cell_type": "code",
   "execution_count": 76,
   "id": "93783be6",
   "metadata": {},
   "outputs": [
    {
     "data": {
      "text/plain": [
       "['ab', 'ab', 'ab']"
      ]
     },
     "execution_count": 76,
     "metadata": {},
     "output_type": "execute_result"
    }
   ],
   "source": [
    "re.findall('ab(?=a)', 'abababa')"
   ]
  },
  {
   "cell_type": "code",
   "execution_count": 77,
   "id": "95814d25",
   "metadata": {},
   "outputs": [
    {
     "data": {
      "text/plain": [
       "['aba', 'aba']"
      ]
     },
     "execution_count": 77,
     "metadata": {},
     "output_type": "execute_result"
    }
   ],
   "source": [
    "re.findall('aba', 'abababa')"
   ]
  },
  {
   "cell_type": "code",
   "execution_count": 78,
   "id": "70b0627c",
   "metadata": {
    "scrolled": true
   },
   "outputs": [
    {
     "data": {
      "text/plain": [
       "[]"
      ]
     },
     "execution_count": 78,
     "metadata": {},
     "output_type": "execute_result"
    }
   ],
   "source": [
    "re.findall('(.)b(?=\\1)', 'ababab')"
   ]
  },
  {
   "cell_type": "code",
   "execution_count": null,
   "id": "ce19a0ae",
   "metadata": {},
   "outputs": [],
   "source": [
    "regex_alternating_repetitive_digit_pair = r'([\\d])[\\d](?=\\1)'"
   ]
  },
  {
   "cell_type": "code",
   "execution_count": 32,
   "id": "c986f125",
   "metadata": {},
   "outputs": [
    {
     "name": "stdout",
     "output_type": "stream",
     "text": [
      "['0', '0']\n",
      "['0']\n",
      "['0', '0']\n",
      "['9', '0']\n",
      "['2', '5']\n",
      "['5']\n",
      "[]\n",
      "['0', '0']\n"
     ]
    }
   ],
   "source": [
    "for digit in digits:\n",
    "    print(re.findall(regex_alternating_repetitive_digit_pair, \n",
    "                    digit))\n",
    "    "
   ]
  },
  {
   "cell_type": "code",
   "execution_count": 35,
   "id": "53634650",
   "metadata": {},
   "outputs": [],
   "source": [
    "regex_alternating_repetitive_digit_pair = r'(?<=([\\d]))[\\d](?=\\1)'"
   ]
  },
  {
   "cell_type": "code",
   "execution_count": 36,
   "id": "debd756a",
   "metadata": {},
   "outputs": [
    {
     "name": "stdout",
     "output_type": "stream",
     "text": [
      "['0', '0', '0']\n",
      "['0', '0']\n",
      "['0', '0']\n",
      "['9', '0', '0']\n",
      "['2', '5', '5']\n",
      "['5']\n",
      "[]\n",
      "['0', '0', '0']\n"
     ]
    }
   ],
   "source": [
    "for digit in digits:\n",
    "    print(re.findall(regex_alternating_repetitive_digit_pair, \n",
    "                    digit))\n",
    "    "
   ]
  },
  {
   "cell_type": "markdown",
   "id": "2a89e9c1",
   "metadata": {},
   "source": [
    "- Text Alignment"
   ]
  },
  {
   "cell_type": "code",
   "execution_count": null,
   "id": "ed595d2e",
   "metadata": {},
   "outputs": [],
   "source": [
    "#Replace all ______ with rjust, ljust or center. \n",
    "\n",
    "thickness = int(input()) #This must be an odd number\n",
    "c = 'H'\n",
    "\n",
    "#Top Cone\n",
    "for i in range(thickness):\n",
    "    print((c*i).rjust(thickness-1)+c+(c*i).ljust(thickness-1))\n",
    "\n",
    "#Top Pillars\n",
    "for i in range(thickness+1):\n",
    "    print((c*thickness).center(thickness*2)+(c*thickness).center(thickness*6))\n",
    "\n",
    "#Middle Belt\n",
    "for i in range((thickness+1)//2):\n",
    "    print((c*thickness*5).center(thickness*6))    \n",
    "\n",
    "#Bottom Pillars\n",
    "for i in range(thickness+1):\n",
    "    print((c*thickness).center(thickness*2)+(c*thickness).center(thickness*6))    \n",
    "\n",
    "#Bottom Cone\n",
    "for i in range(thickness):\n",
    "    print(((c*(thickness-i-1)).rjust(thickness)+c+(c*(thickness-i-1)).ljust(thickness)).rjust(thickness*6))"
   ]
  },
  {
   "cell_type": "markdown",
   "id": "b9db23da",
   "metadata": {},
   "source": [
    "- Standardize Mobile Number Using Decorators"
   ]
  },
  {
   "cell_type": "code",
   "execution_count": null,
   "id": "932ffcb8",
   "metadata": {},
   "outputs": [],
   "source": [
    "def wrapper(f):\n",
    "    def fun(l):\n",
    "        import re\n",
    "        target_numbers = [re.sub('^((+91)|(91)|(0))', '', numbers) if len(numbers) != 10 else numbers for numbers in l]\n",
    "        target_numbers = [re.search('^(\\d{5})(\\d{5})$', \n",
    "                                      target_number).groups() for target_number in target_numbers]\n",
    "        l = ['+91 %s %s' % target_number for target_number in target_numbers]\n",
    "        return sort_phone   \n",
    "    return fun\n",
    "\n",
    "@wrapper\n",
    "def sort_phone(l):\n",
    "    print(*sorted(l), sep='\\n')\n",
    "\n",
    "if __name__ == '__main__':\n",
    "    l = [input() for _ in range(int(input()))]\n",
    "    sort_phone(l) "
   ]
  },
  {
   "cell_type": "markdown",
   "id": "32f9c2eb",
   "metadata": {},
   "source": [
    "## 1차 시도"
   ]
  },
  {
   "cell_type": "code",
   "execution_count": null,
   "id": "cd8b7fd6",
   "metadata": {},
   "outputs": [],
   "source": [
    "def wrapper(f):\n",
    "    def fun(l):\n",
    "        import re\n",
    "        target_numbers = [re.sub(r'^((+91)|(91)|(0))', '', numbers) \n",
    "                         if len(numbers) != 10 else numbers for numbers in l]\n",
    "        target_numbers = [re.findall('\\d{5}', numbers)\n",
    "                         for numbers in target_numbers]\n",
    "        l = [' '.join(['+91'] + numbers) for numbers in target_numbers]\n",
    "        return l        \n",
    "    return fun\n",
    "\n",
    "@wrapper\n",
    "def sort_phone(l):\n",
    "    print(*sorted(l), sep='\\n')\n",
    "\n",
    "if __name__ == '__main__':\n",
    "    l = [input() for _ in range(int(input()))]\n",
    "    sort_phone(l) "
   ]
  },
  {
   "cell_type": "code",
   "execution_count": 16,
   "id": "3b62bb90",
   "metadata": {},
   "outputs": [],
   "source": [
    "l = '''07895462130\n",
    "919875641230\n",
    "9195969878'''.split()"
   ]
  },
  {
   "cell_type": "code",
   "execution_count": 17,
   "id": "beb28fe6",
   "metadata": {},
   "outputs": [
    {
     "data": {
      "text/plain": [
       "['07895462130', '919875641230', '9195969878']"
      ]
     },
     "execution_count": 17,
     "metadata": {},
     "output_type": "execute_result"
    }
   ],
   "source": [
    "l"
   ]
  },
  {
   "cell_type": "markdown",
   "id": "2c56174f",
   "metadata": {},
   "source": [
    "## 2차 시도 "
   ]
  },
  {
   "cell_type": "code",
   "execution_count": 18,
   "id": "67bd3b5e",
   "metadata": {},
   "outputs": [],
   "source": [
    "import re\n",
    "target_numbers = [re.sub(r'(^(\\\\+91)|^(91)|^(0))', '', numbers) \n",
    "                 if len(numbers) != 10 else numbers for numbers in l]\n",
    "target_numbers = [re.findall('\\d{5}', numbers)\n",
    "                 for numbers in target_numbers]\n",
    "l = [' '.join(['+91'] + numbers) for numbers in target_numbers]"
   ]
  },
  {
   "cell_type": "code",
   "execution_count": 19,
   "id": "10d34177",
   "metadata": {
    "scrolled": true
   },
   "outputs": [
    {
     "data": {
      "text/plain": [
       "['+91 78954 62130', '+91 98756 41230', '+91 91959 69878']"
      ]
     },
     "execution_count": 19,
     "metadata": {},
     "output_type": "execute_result"
    }
   ],
   "source": [
    "l"
   ]
  },
  {
   "cell_type": "code",
   "execution_count": null,
   "id": "362380f2",
   "metadata": {},
   "outputs": [],
   "source": [
    "target_numbers = [re.sub(r'(^(\\\\+91)|^(91)|^(0))', '', numbers) \n",
    "                 if len(numbers) != 10 else numbers for numbers in l]\n"
   ]
  },
  {
   "cell_type": "markdown",
   "id": "bf59663d",
   "metadata": {},
   "source": [
    "## 3차 시도 "
   ]
  },
  {
   "cell_type": "code",
   "execution_count": null,
   "id": "f70f12ec",
   "metadata": {},
   "outputs": [],
   "source": [
    "import re\n",
    "def wrapper(f):\n",
    "    def fun(l):\n",
    "        target_numbers = [re.sub(r'(^(\\\\+91)|^(91)|^(0))', '', numbers) if len(numbers) != 10 else numbers for numbers in l]\n",
    "        target_numbers = [re.findall(r'\\d{5}', numbers) \n",
    "        for numbers in target_numbers]\n",
    "        target_numbers = [' '.join(['+91'] + numbers) for numbers in target_numbers]\n",
    "        return target_numbers\n",
    "    return fun\n",
    "\n",
    "@wrapper\n",
    "def sort_phone(l):\n",
    "    print(*sorted(l), sep='\\n')\n",
    "\n",
    "if __name__ == '__main__':\n",
    "    l = [input() for _ in range(int(input()))]\n",
    "    sort_phone(l) \n",
    "\n",
    "\n"
   ]
  },
  {
   "cell_type": "markdown",
   "id": "f886f98f",
   "metadata": {},
   "source": [
    "## 4차 시도 "
   ]
  },
  {
   "cell_type": "code",
   "execution_count": null,
   "id": "d6652660",
   "metadata": {},
   "outputs": [],
   "source": [
    "import re\n",
    "def wrapper(f):\n",
    "    def fun(l):\n",
    "        target_numbers = [re.sub(r'(^(\\\\+91)|^(91)|^(0))', '', numbers) if len(numbers) != 10 else numbers for numbers in l]\n",
    "        target_numbers = [re.findall(r'\\d{5}', numbers) \n",
    "        for numbers in target_numbers]\n",
    "        target_numbers = [' '.join(['+91'] + numbers) for numbers in target_numbers]\n",
    "        return f(target_numbers)\n",
    "    return fun\n",
    "\n",
    "@wrapper\n",
    "def sort_phone(l):\n",
    "    print(*sorted(l), sep='\\n')\n",
    "\n",
    "if __name__ == '__main__':\n",
    "    l = [input() for _ in range(int(input()))]\n",
    "    sort_phone(l) "
   ]
  },
  {
   "cell_type": "markdown",
   "id": "428e56ca",
   "metadata": {},
   "source": [
    "## 5차 시도"
   ]
  },
  {
   "cell_type": "code",
   "execution_count": null,
   "id": "b7e2ef8a",
   "metadata": {},
   "outputs": [],
   "source": [
    "import re\n",
    "def wrapper(f):\n",
    "    def fun(l):\n",
    "        target_numbers = [re.sub(r'(^([\\+]91)|^(91)|^(0))', '', numbers) if len(numbers) != 10 else numbers for numbers in l]\n",
    "        target_numbers = [re.findall(r'\\d{5}', numbers) \n",
    "        for numbers in target_numbers]\n",
    "        target_numbers = [' '.join(['+91'] + numbers) for numbers in target_numbers]\n",
    "        return f(target_numbers)\n",
    "    return fun\n",
    "\n",
    "@wrapper\n",
    "def sort_phone(l):\n",
    "    print(*sorted(l), sep='\\n')\n",
    "\n",
    "if __name__ == '__main__':\n",
    "    l = [input() for _ in range(int(input()))]\n",
    "    sort_phone(l) "
   ]
  },
  {
   "cell_type": "markdown",
   "id": "7a5ff4a6",
   "metadata": {},
   "source": [
    "- input()"
   ]
  },
  {
   "cell_type": "markdown",
   "id": "5d14da2b",
   "metadata": {},
   "source": [
    "## 1차 시도 "
   ]
  },
  {
   "cell_type": "code",
   "execution_count": null,
   "id": "f88f5cb4",
   "metadata": {},
   "outputs": [],
   "source": [
    "x, k = map(int, input().split())\n",
    "input() == k"
   ]
  },
  {
   "cell_type": "code",
   "execution_count": 20,
   "id": "1c2f4a27",
   "metadata": {},
   "outputs": [],
   "source": [
    "x, k = map(int, [1, 4])"
   ]
  },
  {
   "cell_type": "code",
   "execution_count": 21,
   "id": "1a36b701",
   "metadata": {},
   "outputs": [
    {
     "data": {
      "text/plain": [
       "1"
      ]
     },
     "execution_count": 21,
     "metadata": {},
     "output_type": "execute_result"
    }
   ],
   "source": [
    "x"
   ]
  },
  {
   "cell_type": "code",
   "execution_count": 22,
   "id": "70368e2f",
   "metadata": {},
   "outputs": [
    {
     "data": {
      "text/plain": [
       "4"
      ]
     },
     "execution_count": 22,
     "metadata": {},
     "output_type": "execute_result"
    }
   ],
   "source": [
    "k"
   ]
  },
  {
   "cell_type": "code",
   "execution_count": 23,
   "id": "32bb1caa",
   "metadata": {},
   "outputs": [
    {
     "data": {
      "text/plain": [
       "4"
      ]
     },
     "execution_count": 23,
     "metadata": {},
     "output_type": "execute_result"
    }
   ],
   "source": [
    "eval('x**3 + x**2 + x + 1')"
   ]
  },
  {
   "cell_type": "markdown",
   "id": "9a857da6",
   "metadata": {},
   "source": [
    "## 2차 시도 "
   ]
  },
  {
   "cell_type": "code",
   "execution_count": null,
   "id": "c88acbcd",
   "metadata": {},
   "outputs": [],
   "source": [
    "## 2차 시도 \n",
    "x, k = map(int, input().split())\n",
    "eval(input()) == k"
   ]
  },
  {
   "cell_type": "markdown",
   "id": "75fd9ce4",
   "metadata": {},
   "source": [
    "## 3차 시도 "
   ]
  },
  {
   "cell_type": "code",
   "execution_count": null,
   "id": "b31c6ff9",
   "metadata": {},
   "outputs": [],
   "source": [
    "x, k = map(int, input().split())\n",
    "print(eval(input()) == k)"
   ]
  }
 ],
 "metadata": {
  "kernelspec": {
   "display_name": "Python 3 (ipykernel)",
   "language": "python",
   "name": "python3"
  },
  "language_info": {
   "codemirror_mode": {
    "name": "ipython",
    "version": 3
   },
   "file_extension": ".py",
   "mimetype": "text/x-python",
   "name": "python",
   "nbconvert_exporter": "python",
   "pygments_lexer": "ipython3",
   "version": "3.9.7"
  }
 },
 "nbformat": 4,
 "nbformat_minor": 5
}
