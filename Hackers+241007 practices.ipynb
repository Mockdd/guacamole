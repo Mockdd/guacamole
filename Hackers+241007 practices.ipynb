{
 "cells": [
  {
   "cell_type": "markdown",
   "id": "a88a396d",
   "metadata": {},
   "source": [
    "- time and delta"
   ]
  },
  {
   "cell_type": "code",
   "execution_count": 1,
   "id": "c2ab17f3",
   "metadata": {},
   "outputs": [
    {
     "data": {
      "text/plain": [
       "530"
      ]
     },
     "execution_count": 1,
     "metadata": {},
     "output_type": "execute_result"
    }
   ],
   "source": [
    "int('0530')"
   ]
  },
  {
   "cell_type": "code",
   "execution_count": 2,
   "id": "7499183f",
   "metadata": {},
   "outputs": [
    {
     "data": {
      "text/plain": [
       "-7"
      ]
     },
     "execution_count": 2,
     "metadata": {},
     "output_type": "execute_result"
    }
   ],
   "source": [
    "int('-07')"
   ]
  },
  {
   "cell_type": "code",
   "execution_count": 4,
   "id": "87e15e66",
   "metadata": {
    "scrolled": true
   },
   "outputs": [
    {
     "ename": "NameError",
     "evalue": "name 'datetime' is not defined",
     "output_type": "error",
     "traceback": [
      "\u001b[1;31m---------------------------------------------------------------------------\u001b[0m",
      "\u001b[1;31mNameError\u001b[0m                                 Traceback (most recent call last)",
      "\u001b[1;32mC:\\Users\\AARONC~1\\AppData\\Local\\Temp/ipykernel_25824/2346860937.py\u001b[0m in \u001b[0;36m<module>\u001b[1;34m\u001b[0m\n\u001b[1;32m----> 1\u001b[1;33m \u001b[0mdatetime\u001b[0m\u001b[1;33m(\u001b[0m\u001b[1;34m'13:54:35'\u001b[0m\u001b[1;33m)\u001b[0m\u001b[1;33m\u001b[0m\u001b[1;33m\u001b[0m\u001b[0m\n\u001b[0m",
      "\u001b[1;31mNameError\u001b[0m: name 'datetime' is not defined"
     ]
    }
   ],
   "source": [
    "datetime('13:54:35')"
   ]
  },
  {
   "cell_type": "code",
   "execution_count": 9,
   "id": "93c4803c",
   "metadata": {
    "scrolled": true
   },
   "outputs": [],
   "source": [
    "from datetime import datetime "
   ]
  },
  {
   "cell_type": "code",
   "execution_count": 15,
   "id": "fae17ba2",
   "metadata": {
    "scrolled": true
   },
   "outputs": [
    {
     "ename": "AttributeError",
     "evalue": "'str' object has no attribute 'strftime'",
     "output_type": "error",
     "traceback": [
      "\u001b[1;31m---------------------------------------------------------------------------\u001b[0m",
      "\u001b[1;31mAttributeError\u001b[0m                            Traceback (most recent call last)",
      "\u001b[1;32mC:\\Users\\AARONC~1\\AppData\\Local\\Temp/ipykernel_25824/2011071023.py\u001b[0m in \u001b[0;36m<module>\u001b[1;34m\u001b[0m\n\u001b[1;32m----> 1\u001b[1;33m \u001b[1;34m'13:54:36'\u001b[0m\u001b[1;33m.\u001b[0m\u001b[0mstrftime\u001b[0m\u001b[1;33m(\u001b[0m\u001b[1;34m'%hh:%mm:%ss'\u001b[0m\u001b[1;33m)\u001b[0m\u001b[1;33m\u001b[0m\u001b[1;33m\u001b[0m\u001b[0m\n\u001b[0m",
      "\u001b[1;31mAttributeError\u001b[0m: 'str' object has no attribute 'strftime'"
     ]
    }
   ],
   "source": [
    "'13:54:36'.strftime('%hh:%mm:%ss')"
   ]
  },
  {
   "cell_type": "code",
   "execution_count": 18,
   "id": "5d25114e",
   "metadata": {},
   "outputs": [
    {
     "ename": "NameError",
     "evalue": "name 'strptime' is not defined",
     "output_type": "error",
     "traceback": [
      "\u001b[1;31m---------------------------------------------------------------------------\u001b[0m",
      "\u001b[1;31mNameError\u001b[0m                                 Traceback (most recent call last)",
      "\u001b[1;32mC:\\Users\\AARONC~1\\AppData\\Local\\Temp/ipykernel_25824/2395673591.py\u001b[0m in \u001b[0;36m<module>\u001b[1;34m\u001b[0m\n\u001b[1;32m----> 1\u001b[1;33m \u001b[0mstrptime\u001b[0m\u001b[1;33m(\u001b[0m\u001b[1;34m'13:54:36'\u001b[0m\u001b[1;33m,\u001b[0m \u001b[1;34m'%hh:%mm:%ss'\u001b[0m\u001b[1;33m)\u001b[0m\u001b[1;33m\u001b[0m\u001b[1;33m\u001b[0m\u001b[0m\n\u001b[0m",
      "\u001b[1;31mNameError\u001b[0m: name 'strptime' is not defined"
     ]
    }
   ],
   "source": [
    "strptime('13:54:36', '%hh:%mm:%ss')"
   ]
  },
  {
   "cell_type": "code",
   "execution_count": 19,
   "id": "5045a6c6",
   "metadata": {
    "scrolled": true
   },
   "outputs": [
    {
     "data": {
      "text/plain": [
       "datetime.datetime(1900, 1, 1, 13, 54, 36)"
      ]
     },
     "execution_count": 19,
     "metadata": {},
     "output_type": "execute_result"
    }
   ],
   "source": [
    "datetime.strptime('13:54:36', '%H:%M:%S')"
   ]
  },
  {
   "cell_type": "code",
   "execution_count": 23,
   "id": "67b1e163",
   "metadata": {},
   "outputs": [],
   "source": [
    "time1 = datetime.strptime('Sun 10 May 2015 13:54:35 -0700', '%a %d %b %Y %H:%M:%S %z')"
   ]
  },
  {
   "cell_type": "code",
   "execution_count": 31,
   "id": "5e98bf3f",
   "metadata": {},
   "outputs": [],
   "source": [
    "time2 = datetime.strptime('Sat 12 May 2015 13:54:35 +0530', '%a %d %b %Y %H:%M:%S %z')"
   ]
  },
  {
   "cell_type": "code",
   "execution_count": 32,
   "id": "56bd2b3a",
   "metadata": {},
   "outputs": [],
   "source": [
    "diff = time1 - time2"
   ]
  },
  {
   "cell_type": "code",
   "execution_count": 33,
   "id": "b798c2e4",
   "metadata": {},
   "outputs": [
    {
     "data": {
      "text/plain": [
       "45000"
      ]
     },
     "execution_count": 33,
     "metadata": {},
     "output_type": "execute_result"
    }
   ],
   "source": [
    "diff.seconds"
   ]
  },
  {
   "cell_type": "code",
   "execution_count": 37,
   "id": "1efbc529",
   "metadata": {
    "scrolled": true
   },
   "outputs": [
    {
     "data": {
      "text/plain": [
       "-127800.0"
      ]
     },
     "execution_count": 37,
     "metadata": {},
     "output_type": "execute_result"
    }
   ],
   "source": [
    "diff.total_seconds()"
   ]
  },
  {
   "cell_type": "code",
   "execution_count": 35,
   "id": "29f75bbf",
   "metadata": {
    "scrolled": true
   },
   "outputs": [
    {
     "data": {
      "text/plain": [
       "datetime.timedelta(days=-2, seconds=45000)"
      ]
     },
     "execution_count": 35,
     "metadata": {},
     "output_type": "execute_result"
    }
   ],
   "source": [
    "diff"
   ]
  },
  {
   "cell_type": "code",
   "execution_count": 36,
   "id": "c3b05823",
   "metadata": {},
   "outputs": [
    {
     "data": {
      "text/plain": [
       "datetime.datetime(1900, 1, 1, 12, 55, 32)"
      ]
     },
     "execution_count": 36,
     "metadata": {},
     "output_type": "execute_result"
    }
   ],
   "source": [
    "datetime.strptime('125532', '%H%M%S')"
   ]
  },
  {
   "cell_type": "code",
   "execution_count": null,
   "id": "b6fd494e",
   "metadata": {},
   "outputs": [],
   "source": [
    "import math\n",
    "import os\n",
    "import random\n",
    "import re\n",
    "import sys\n",
    "import datetime \n",
    "\n",
    "# Complete the time_delta function below.\n",
    "def time_delta(t1, t2):\n",
    "    for _ in int(input()):\n",
    "        for _ in range(2):\n",
    "            times = []\n",
    "            times.append(datetime.strptime(str(input()), '%a %d %b %Y %H:%M:%S %z')\n",
    "            time_delta = times[0] - times[1]\n",
    "            print(f'{time_delta.total_seconds:.0f}')\n",
    "            \n",
    "if __name__ == '__main__':\n",
    "    fptr = open(os.environ['OUTPUT_PATH'], 'w')\n",
    "\n",
    "    t = int(input())\n",
    "\n",
    "    for t_itr in range(t):\n",
    "        t1 = input()\n",
    "\n",
    "        t2 = input()\n",
    "\n",
    "        delta = time_delta(t1, t2)\n",
    "\n",
    "        fptr.write(delta + '\\n')\n",
    "\n",
    "    fptr.close()\n"
   ]
  },
  {
   "cell_type": "markdown",
   "id": "474b5eb9",
   "metadata": {},
   "source": [
    "# my latest code below "
   ]
  },
  {
   "cell_type": "code",
   "execution_count": null,
   "id": "83fcea73",
   "metadata": {},
   "outputs": [],
   "source": [
    "import math\n",
    "import os\n",
    "import random\n",
    "import re\n",
    "import sys\n",
    "import datetime \n",
    "\n",
    "# Complete the time_delta function below.\n",
    "def time_delta(t1, t2):\n",
    "    t1 = datetime.strptime(t1, '%a %d %b %Y %H:%M:%S %z')\n",
    "    t2 = datetime.strptime(t2, '%a %d %b %Y %H:%M:%S %z')\n",
    "    delt = times[0] - times[1]\n",
    "    return delt.total_seconds\n",
    "            \n",
    "if __name__ == '__main__':\n",
    "    fptr = open(os.environ['OUTPUT_PATH'], 'w')\n",
    "\n",
    "    t = int(input())\n",
    "\n",
    "    for t_itr in range(t):\n",
    "        t1 = input()\n",
    "\n",
    "        t2 = input()\n",
    "\n",
    "        delta = time_delta(t1, t2)\n",
    "\n",
    "        fptr.write(delta + '\\n')\n",
    "\n",
    "    fptr.close()"
   ]
  },
  {
   "cell_type": "markdown",
   "id": "7fc7a8cc",
   "metadata": {},
   "source": [
    "# debugging"
   ]
  },
  {
   "cell_type": "code",
   "execution_count": null,
   "id": "bee73eb6",
   "metadata": {},
   "outputs": [],
   "source": [
    "import math\n",
    "import os\n",
    "import random\n",
    "import re\n",
    "import sys\n",
    "import datetime \n",
    "\n",
    "# Complete the time_delta function below.\n",
    "def time_delta(t1, t2):\n",
    "    t1 = datetime.strptime(t1, '%a %d %b %Y %H:%M:%S %z')\n",
    "    t2 = datetime.strptime(t2, '%a %d %b %Y %H:%M:%S %z')\n",
    "    delt = ti - t2\n",
    "    return delt.total_seconds\n",
    "            \n",
    "if __name__ == '__main__':\n",
    "    fptr = open(os.environ['OUTPUT_PATH'], 'w')\n",
    "\n",
    "    t = int(input())\n",
    "\n",
    "    for t_itr in range(t):\n",
    "        t1 = input()\n",
    "\n",
    "        t2 = input()\n",
    "\n",
    "        delta = time_delta(t1, t2)\n",
    "\n",
    "        fptr.write(delta + '\\n')\n",
    "\n",
    "    fptr.close()\n"
   ]
  },
  {
   "cell_type": "code",
   "execution_count": null,
   "id": "4da139db",
   "metadata": {},
   "outputs": [],
   "source": [
    "### 예시답안 \n",
    "from datetime import datetime as dt\n",
    "\n",
    "fmt = '%a %d %b %Y %H:%M:%S %z'\n",
    "for i in range(int(input())):\n",
    "    print(int(abs((dt.strptime(input(), fmt) - dt.strptime(input(), fmt)).total_seconds())))"
   ]
  },
  {
   "cell_type": "code",
   "execution_count": null,
   "id": "d5ee4f5c",
   "metadata": {},
   "outputs": [],
   "source": [
    "### 예시답안\n",
    "def time_delta(t1, t2):\n",
    "    first = datetime.datetime.strptime(t1, fmt)\n",
    "    second = datetime.datetime.strptime(t2, fmt)\n",
    "    return str(abs(int((first-second).total_seconds)))"
   ]
  },
  {
   "cell_type": "code",
   "execution_count": null,
   "id": "fbeb6be9",
   "metadata": {},
   "outputs": [],
   "source": [
    "import math\n",
    "import os\n",
    "import random\n",
    "import re\n",
    "import sys\n",
    "import datetime \n",
    "\n",
    "# Complete the time_delta function below.\n",
    "def time_delta(t1, t2):\n",
    "    fmt = '%a %d %b %Y %H:%M:%S %z'\n",
    "    t1 = datetime.datetime.strptime(t1, fmt)\n",
    "    t2 = datetime.datetime.strptime(t2, fmt)\n",
    "    delt = ti - t2\n",
    "    return delt.total_seconds\n",
    "            \n",
    "if __name__ == '__main__':\n",
    "    fptr = open(os.environ['OUTPUT_PATH'], 'w')\n",
    "\n",
    "    t = int(input())\n",
    "\n",
    "    for t_itr in range(t):\n",
    "        t1 = input()\n",
    "\n",
    "        t2 = input()\n",
    "\n",
    "        delta = time_delta(t1, t2)\n",
    "\n",
    "        fptr.write(delta + '\\n')\n",
    "\n",
    "    fptr.close()\n"
   ]
  }
 ],
 "metadata": {
  "kernelspec": {
   "display_name": "Python 3 (ipykernel)",
   "language": "python",
   "name": "python3"
  },
  "language_info": {
   "codemirror_mode": {
    "name": "ipython",
    "version": 3
   },
   "file_extension": ".py",
   "mimetype": "text/x-python",
   "name": "python",
   "nbconvert_exporter": "python",
   "pygments_lexer": "ipython3",
   "version": "3.9.7"
  }
 },
 "nbformat": 4,
 "nbformat_minor": 5
}
