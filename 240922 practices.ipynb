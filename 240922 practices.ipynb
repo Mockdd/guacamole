{
 "cells": [
  {
   "cell_type": "markdown",
   "id": "b60dd43e",
   "metadata": {},
   "source": [
    "- **Lists**"
   ]
  },
  {
   "cell_type": "code",
   "execution_count": null,
   "id": "57caa688",
   "metadata": {},
   "outputs": [],
   "source": []
  },
  {
   "cell_type": "code",
   "execution_count": null,
   "id": "1cc4b229",
   "metadata": {},
   "outputs": [],
   "source": [
    "List = []\n",
    "commands = input().split('\\n')\n",
    "commands = [command.split() for command in commands]\n",
    "for command in commands:\n",
    "    if 'insert' in command:\n",
    "        List.insert(command[1], command[2])\n",
    "    elif 'remove' in command:\n",
    "        List.remove(command[1])\n",
    "    elif 'append' in command:\n",
    "        List.append(command[1])\n",
    "    elif 'pop' in command:\n",
    "        List.pop()\n",
    "    elif 'sort' in command:\n",
    "        List.sort()\n",
    "    elif 'reverse' in command:\n",
    "        List.sort(reverse = True)\n",
    "    elif 'print' in command:\n",
    "        print(List)"
   ]
  },
  {
   "cell_type": "markdown",
   "id": "16d2fa84",
   "metadata": {},
   "source": [
    "### 자료형에 신경을 써야 한다"
   ]
  },
  {
   "cell_type": "code",
   "execution_count": 1,
   "id": "2eeb1361",
   "metadata": {},
   "outputs": [],
   "source": [
    "command = ['insert', '0', '5']"
   ]
  },
  {
   "cell_type": "code",
   "execution_count": 2,
   "id": "55559a5a",
   "metadata": {},
   "outputs": [
    {
     "data": {
      "text/plain": [
       "True"
      ]
     },
     "execution_count": 2,
     "metadata": {},
     "output_type": "execute_result"
    }
   ],
   "source": [
    "'insert' in command"
   ]
  },
  {
   "cell_type": "code",
   "execution_count": 3,
   "id": "c78d54ef",
   "metadata": {},
   "outputs": [],
   "source": [
    "commands = ['insert 0 5', 'insert 1 10', 'insert 0 6', 'print', 'remove 6', 'remove 9', 'append 1']"
   ]
  },
  {
   "cell_type": "code",
   "execution_count": 5,
   "id": "53c176da",
   "metadata": {},
   "outputs": [],
   "source": [
    "commands = [command.split() for command in commands]"
   ]
  },
  {
   "cell_type": "markdown",
   "id": "a5db8551",
   "metadata": {},
   "source": [
    "### 출력결과가 string이 아니다 중첩된 리스트구나! "
   ]
  },
  {
   "cell_type": "code",
   "execution_count": 7,
   "id": "de07b913",
   "metadata": {},
   "outputs": [],
   "source": [
    "List = []\n",
    "for command in commands:\n",
    "    if 'insert' in command:\n",
    "        List.insert(int(command[1]), command[2])"
   ]
  },
  {
   "cell_type": "code",
   "execution_count": 8,
   "id": "c7c276c2",
   "metadata": {},
   "outputs": [
    {
     "data": {
      "text/plain": [
       "['6', '5', '10']"
      ]
     },
     "execution_count": 8,
     "metadata": {},
     "output_type": "execute_result"
    }
   ],
   "source": [
    "List"
   ]
  },
  {
   "cell_type": "markdown",
   "id": "4fd26cde",
   "metadata": {},
   "source": [
    "### 예상 답안 "
   ]
  },
  {
   "cell_type": "code",
   "execution_count": null,
   "id": "6f61c636",
   "metadata": {},
   "outputs": [],
   "source": [
    "n = input()\n",
    "l = []\n",
    "for _ in range(n):\n",
    "    s = raw_input().split()\n",
    "    cmd = s[0]\n",
    "    args = s[1:]\n",
    "    if cmd != 'print':\n",
    "        cmd += '(' + ','.join(args) + ')'\n",
    "        eval('l.' + cmd)\n",
    "        else:\n",
    "            print l"
   ]
  },
  {
   "cell_type": "code",
   "execution_count": null,
   "id": "766b70f3",
   "metadata": {},
   "outputs": [],
   "source": [
    "N = int(input())\n",
    "lis = []\n",
    "for _ in range(N):\n",
    "    s = input().strip().split()\n",
    "    if s[0] == 'insert':\n",
    "        lis.insert(int(s[1]), int(s[2]))\n",
    "    elif s[0] == 'print': ..."
   ]
  },
  {
   "cell_type": "markdown",
   "id": "eef990a3",
   "metadata": {},
   "source": [
    "### input > 한 줄씩 들어감\n",
    "### 코드 안에서는 input()으로 이용하면 됨"
   ]
  },
  {
   "cell_type": "markdown",
   "id": "dcc66bb7",
   "metadata": {},
   "source": [
    "- **Tuples**"
   ]
  },
  {
   "cell_type": "code",
   "execution_count": 9,
   "id": "df19344f",
   "metadata": {},
   "outputs": [],
   "source": [
    "import builtins"
   ]
  },
  {
   "cell_type": "code",
   "execution_count": null,
   "id": "bc9c6511",
   "metadata": {},
   "outputs": [],
   "source": [
    "if __name__ == '__main__':\n",
    "    n = int(input())\n",
    "    integer_list = map(int, input().split())\n",
    "integer_list = list(integer_list)\n",
    "tup = tuple(integer_list)\n",
    "print(hash(tup))"
   ]
  },
  {
   "cell_type": "code",
   "execution_count": 10,
   "id": "e2e03c2a",
   "metadata": {},
   "outputs": [],
   "source": [
    "tup = (3, 7, 1)"
   ]
  },
  {
   "cell_type": "code",
   "execution_count": 11,
   "id": "7d458b34",
   "metadata": {},
   "outputs": [
    {
     "data": {
      "text/plain": [
       "4478143394439589982"
      ]
     },
     "execution_count": 11,
     "metadata": {},
     "output_type": "execute_result"
    }
   ],
   "source": [
    "hash(tup)"
   ]
  },
  {
   "cell_type": "code",
   "execution_count": 12,
   "id": "f36bf25d",
   "metadata": {},
   "outputs": [
    {
     "data": {
      "text/plain": [
       "<map at 0x1573b6948b0>"
      ]
     },
     "execution_count": 12,
     "metadata": {},
     "output_type": "execute_result"
    }
   ],
   "source": [
    "map(int, ['3', '6', '1', '5'])"
   ]
  },
  {
   "cell_type": "code",
   "execution_count": 13,
   "id": "6f77a7db",
   "metadata": {},
   "outputs": [
    {
     "data": {
      "text/plain": [
       "[3, 6, 1, 5]"
      ]
     },
     "execution_count": 13,
     "metadata": {},
     "output_type": "execute_result"
    }
   ],
   "source": [
    "list(map(int, ['3', '6', '1', '5']))"
   ]
  },
  {
   "cell_type": "code",
   "execution_count": 14,
   "id": "d55ed869",
   "metadata": {},
   "outputs": [
    {
     "data": {
      "text/plain": [
       "(3, 6, 1, 5)"
      ]
     },
     "execution_count": 14,
     "metadata": {},
     "output_type": "execute_result"
    }
   ],
   "source": [
    "tuple(map(int, ['3', '6', '1', '5']))"
   ]
  },
  {
   "cell_type": "code",
   "execution_count": 15,
   "id": "9aa75422",
   "metadata": {},
   "outputs": [
    {
     "name": "stdout",
     "output_type": "stream",
     "text": [
      "-1103947631200854544\n"
     ]
    }
   ],
   "source": [
    "print(hash(tuple(map(int, ['3', '6', '1', '5']))))"
   ]
  },
  {
   "cell_type": "code",
   "execution_count": 16,
   "id": "91337072",
   "metadata": {},
   "outputs": [],
   "source": [
    "has = hash(tuple(map(int, ['3', '6', '1', '5'])))"
   ]
  },
  {
   "cell_type": "code",
   "execution_count": 17,
   "id": "1ea5b10b",
   "metadata": {},
   "outputs": [
    {
     "name": "stdout",
     "output_type": "stream",
     "text": [
      "-1103947631200854544\n"
     ]
    }
   ],
   "source": [
    "print(has)"
   ]
  },
  {
   "cell_type": "markdown",
   "id": "39f5b403",
   "metadata": {},
   "source": [
    "### 참고 풀이"
   ]
  },
  {
   "cell_type": "code",
   "execution_count": null,
   "id": "22f30d54",
   "metadata": {},
   "outputs": [],
   "source": [
    "n = raw_input()\n",
    "input_line = raw_input()\n",
    "input_list = input_line.split()"
   ]
  },
  {
   "cell_type": "code",
   "execution_count": null,
   "id": "a679de7c",
   "metadata": {},
   "outputs": [],
   "source": [
    "for i in xrange(n):\n",
    "    input_list[i] = int(input_list[i])\n",
    "for i in xrange(len(input_list)):\n",
    "    input_list[i] = int(input_list[i])"
   ]
  },
  {
   "cell_type": "code",
   "execution_count": null,
   "id": "f2f66f4b",
   "metadata": {},
   "outputs": [],
   "source": [
    "input_list = map(int, input_list)\n",
    "input_list = [int(x) for x in input_list]\n"
   ]
  },
  {
   "cell_type": "markdown",
   "id": "9d6b5a8a",
   "metadata": {},
   "source": [
    "### 원소에 특정 함수를 반복 적용할 떄 map 함수를 이용하는 것으로 보인다\n",
    "### be bold to use comprehensions"
   ]
  },
  {
   "cell_type": "markdown",
   "id": "9b4b72cf",
   "metadata": {},
   "source": [
    "- **Designer Door Mat** "
   ]
  },
  {
   "cell_type": "code",
   "execution_count": 33,
   "id": "58553ce8",
   "metadata": {},
   "outputs": [
    {
     "ename": "NameError",
     "evalue": "name 'n' is not defined",
     "output_type": "error",
     "traceback": [
      "\u001b[1;31m---------------------------------------------------------------------------\u001b[0m",
      "\u001b[1;31mNameError\u001b[0m                                 Traceback (most recent call last)",
      "\u001b[1;32mC:\\Users\\AARONC~1\\AppData\\Local\\Temp/ipykernel_18468/681008549.py\u001b[0m in \u001b[0;36m<module>\u001b[1;34m\u001b[0m\n\u001b[0;32m      3\u001b[0m \u001b[0mhighlight\u001b[0m \u001b[1;33m=\u001b[0m \u001b[1;34m'WELCOME'\u001b[0m\u001b[1;33m\u001b[0m\u001b[1;33m\u001b[0m\u001b[0m\n\u001b[0;32m      4\u001b[0m \u001b[1;32mfor\u001b[0m \u001b[0mi\u001b[0m \u001b[1;32min\u001b[0m \u001b[0mrange\u001b[0m\u001b[1;33m(\u001b[0m\u001b[0mshape\u001b[0m\u001b[1;33m[\u001b[0m\u001b[1;36m0\u001b[0m\u001b[1;33m]\u001b[0m\u001b[1;33m)\u001b[0m\u001b[1;33m:\u001b[0m\u001b[1;33m\u001b[0m\u001b[1;33m\u001b[0m\u001b[0m\n\u001b[1;32m----> 5\u001b[1;33m     \u001b[1;32mif\u001b[0m \u001b[1;36m2\u001b[0m\u001b[1;33m/\u001b[0m\u001b[0mn\u001b[0m \u001b[1;33m<=\u001b[0m \u001b[0mi\u001b[0m \u001b[1;32mand\u001b[0m \u001b[0mi\u001b[0m \u001b[1;33m<=\u001b[0m \u001b[1;33m(\u001b[0m\u001b[1;36m2\u001b[0m\u001b[1;33m/\u001b[0m\u001b[0mn\u001b[0m \u001b[1;33m+\u001b[0m \u001b[1;36m1\u001b[0m\u001b[1;33m)\u001b[0m\u001b[1;33m:\u001b[0m\u001b[1;33m\u001b[0m\u001b[1;33m\u001b[0m\u001b[0m\n\u001b[0m\u001b[0;32m      6\u001b[0m         \u001b[0mprint\u001b[0m\u001b[1;33m(\u001b[0m\u001b[1;34mf'{element*i:-^shape[1]}'\u001b[0m\u001b[1;33m)\u001b[0m\u001b[1;33m\u001b[0m\u001b[1;33m\u001b[0m\u001b[0m\n\u001b[0;32m      7\u001b[0m     \u001b[1;32melse\u001b[0m\u001b[1;33m:\u001b[0m\u001b[1;33m\u001b[0m\u001b[1;33m\u001b[0m\u001b[0m\n",
      "\u001b[1;31mNameError\u001b[0m: name 'n' is not defined"
     ]
    }
   ],
   "source": [
    "shape = list(map(int, input().strip().split()))\n",
    "n, m = shape\n",
    "element = '.|.'\n",
    "highlight = 'WELCOME'\n",
    "for i in n:\n",
    "    if 2/n <= i and i <= (2/n + 1):\n",
    "        print(f'{element*i:-^m}')\n",
    "    else:\n",
    "        print(f'{highlight:-^m}')"
   ]
  },
  {
   "cell_type": "code",
   "execution_count": 28,
   "id": "ebfc0ab3",
   "metadata": {},
   "outputs": [
    {
     "name": "stdout",
     "output_type": "stream",
     "text": [
      "-----------WELCOME------------\n"
     ]
    }
   ],
   "source": [
    "highlight = 'WELCOME'\n",
    "print(f'{highlight:-^30}')"
   ]
  },
  {
   "cell_type": "code",
   "execution_count": 34,
   "id": "bc1c7fae",
   "metadata": {},
   "outputs": [],
   "source": [
    "shape = list(map(int, ['3', '6']))"
   ]
  },
  {
   "cell_type": "code",
   "execution_count": 35,
   "id": "e00af2e2",
   "metadata": {},
   "outputs": [
    {
     "data": {
      "text/plain": [
       "[3, 6]"
      ]
     },
     "execution_count": 35,
     "metadata": {},
     "output_type": "execute_result"
    }
   ],
   "source": [
    "shape"
   ]
  },
  {
   "cell_type": "code",
   "execution_count": 36,
   "id": "beb8a1db",
   "metadata": {},
   "outputs": [],
   "source": [
    "n, m = shape"
   ]
  },
  {
   "cell_type": "code",
   "execution_count": 37,
   "id": "b5e75015",
   "metadata": {},
   "outputs": [
    {
     "data": {
      "text/plain": [
       "3"
      ]
     },
     "execution_count": 37,
     "metadata": {},
     "output_type": "execute_result"
    }
   ],
   "source": [
    "n"
   ]
  },
  {
   "cell_type": "code",
   "execution_count": 38,
   "id": "75d4216f",
   "metadata": {},
   "outputs": [
    {
     "data": {
      "text/plain": [
       "6"
      ]
     },
     "execution_count": 38,
     "metadata": {},
     "output_type": "execute_result"
    }
   ],
   "source": [
    "m"
   ]
  },
  {
   "cell_type": "code",
   "execution_count": 50,
   "id": "b4827dd8",
   "metadata": {},
   "outputs": [
    {
     "name": "stdout",
     "output_type": "stream",
     "text": [
      "---------WELCOMEWELCOMEWELCOME----------\n"
     ]
    }
   ],
   "source": [
    "print(f'{\"WELCOME\"*3:-^40}')"
   ]
  },
  {
   "cell_type": "markdown",
   "id": "0aca788f",
   "metadata": {},
   "source": [
    "### 예상 답안"
   ]
  },
  {
   "cell_type": "code",
   "execution_count": null,
   "id": "ca91704d",
   "metadata": {},
   "outputs": [],
   "source": [
    "n, m = map(int, input().split())\n",
    "pattern = [('.|.'*(2*i+1)).center(m, '-') for i in range(n//2)]\n",
    "print('\\n'.join(pattern + ['WELCOME'.center(m, '-')] + pattern[::-1]))"
   ]
  },
  {
   "cell_type": "markdown",
   "id": "644dcefd",
   "metadata": {},
   "source": [
    "### 어떤 데이터를 거꾸로 불러오는 것 [::-1] > 거꾸로 가는 보폭 이용"
   ]
  },
  {
   "cell_type": "code",
   "execution_count": 51,
   "id": "34c7fe4b",
   "metadata": {},
   "outputs": [
    {
     "name": "stdout",
     "output_type": "stream",
     "text": [
      "'3, 6'\n"
     ]
    },
    {
     "ename": "ValueError",
     "evalue": "invalid literal for int() with base 10: \"'3,\"",
     "output_type": "error",
     "traceback": [
      "\u001b[1;31m---------------------------------------------------------------------------\u001b[0m",
      "\u001b[1;31mValueError\u001b[0m                                Traceback (most recent call last)",
      "\u001b[1;32mC:\\Users\\AARONC~1\\AppData\\Local\\Temp/ipykernel_18468/3467038493.py\u001b[0m in \u001b[0;36m<module>\u001b[1;34m\u001b[0m\n\u001b[1;32m----> 1\u001b[1;33m \u001b[0mN\u001b[0m\u001b[1;33m,\u001b[0m \u001b[0mM\u001b[0m \u001b[1;33m=\u001b[0m \u001b[0mmap\u001b[0m\u001b[1;33m(\u001b[0m\u001b[0mint\u001b[0m\u001b[1;33m,\u001b[0m \u001b[0minput\u001b[0m\u001b[1;33m(\u001b[0m\u001b[1;33m)\u001b[0m\u001b[1;33m.\u001b[0m\u001b[0msplit\u001b[0m\u001b[1;33m(\u001b[0m\u001b[1;33m)\u001b[0m\u001b[1;33m)\u001b[0m\u001b[1;33m\u001b[0m\u001b[1;33m\u001b[0m\u001b[0m\n\u001b[0m\u001b[0;32m      2\u001b[0m \u001b[1;32mfor\u001b[0m \u001b[0mi\u001b[0m \u001b[1;32min\u001b[0m \u001b[0mrange\u001b[0m\u001b[1;33m(\u001b[0m\u001b[1;36m1\u001b[0m\u001b[1;33m,\u001b[0m \u001b[0mN\u001b[0m\u001b[1;33m,\u001b[0m \u001b[1;36m2\u001b[0m\u001b[1;33m)\u001b[0m\u001b[1;33m:\u001b[0m\u001b[1;33m\u001b[0m\u001b[1;33m\u001b[0m\u001b[0m\n\u001b[0;32m      3\u001b[0m     \u001b[0mprint\u001b[0m\u001b[1;33m(\u001b[0m\u001b[1;33m(\u001b[0m\u001b[0mi\u001b[0m \u001b[1;33m*\u001b[0m \u001b[1;34m'.|.'\u001b[0m\u001b[1;33m)\u001b[0m\u001b[1;33m.\u001b[0m\u001b[0mcenter\u001b[0m\u001b[1;33m(\u001b[0m\u001b[0mM\u001b[0m\u001b[1;33m,\u001b[0m \u001b[1;34m'-'\u001b[0m\u001b[1;33m)\u001b[0m\u001b[1;33m)\u001b[0m\u001b[1;33m\u001b[0m\u001b[1;33m\u001b[0m\u001b[0m\n\u001b[0;32m      4\u001b[0m \u001b[1;33m(\u001b[0m\u001b[1;34m'WELCOME'\u001b[0m\u001b[1;33m.\u001b[0m\u001b[0mcenter\u001b[0m\u001b[1;33m(\u001b[0m\u001b[0mM\u001b[0m\u001b[1;33m,\u001b[0m \u001b[1;34m'-'\u001b[0m\u001b[1;33m)\u001b[0m\u001b[1;33m)\u001b[0m\u001b[1;33m\u001b[0m\u001b[1;33m\u001b[0m\u001b[0m\n\u001b[0;32m      5\u001b[0m \u001b[1;32mfor\u001b[0m \u001b[0mi\u001b[0m \u001b[1;32min\u001b[0m \u001b[0mrange\u001b[0m\u001b[1;33m(\u001b[0m\u001b[0mN\u001b[0m\u001b[1;33m-\u001b[0m\u001b[1;36m2\u001b[0m\u001b[1;33m,\u001b[0m \u001b[1;33m-\u001b[0m\u001b[1;36m1\u001b[0m\u001b[1;33m,\u001b[0m \u001b[1;33m-\u001b[0m\u001b[1;36m2\u001b[0m\u001b[1;33m)\u001b[0m\u001b[1;33m:\u001b[0m\u001b[1;33m\u001b[0m\u001b[1;33m\u001b[0m\u001b[0m\n",
      "\u001b[1;31mValueError\u001b[0m: invalid literal for int() with base 10: \"'3,\""
     ]
    }
   ],
   "source": [
    "N, M = map(int, input().split())\n",
    "for i in range(1, N, 2):\n",
    "    print((i * '.|.').center(M, '-'))\n",
    "('WELCOME'.center(M, '-'))\n",
    "for i in range(N-2, -1, -2):\n",
    "    print((i * '.|.').center(M, '-'))"
   ]
  },
  {
   "cell_type": "code",
   "execution_count": 52,
   "id": "932a1226",
   "metadata": {},
   "outputs": [],
   "source": [
    "ls = [3, 7, 1, 2, 7]\n"
   ]
  },
  {
   "cell_type": "code",
   "execution_count": 55,
   "id": "ae0d204b",
   "metadata": {},
   "outputs": [
    {
     "data": {
      "text/plain": [
       "[7, 2, 1, 7, 3]"
      ]
     },
     "execution_count": 55,
     "metadata": {},
     "output_type": "execute_result"
    }
   ],
   "source": [
    "ls[::-1]"
   ]
  },
  {
   "cell_type": "code",
   "execution_count": 56,
   "id": "46a7e677",
   "metadata": {},
   "outputs": [
    {
     "data": {
      "text/plain": [
       "[3, 7, 1, 2, 7, 7, 2, 1, 7, 3]"
      ]
     },
     "execution_count": 56,
     "metadata": {},
     "output_type": "execute_result"
    }
   ],
   "source": [
    "ls + ls[::-1]"
   ]
  },
  {
   "cell_type": "code",
   "execution_count": 58,
   "id": "2bc32d85",
   "metadata": {},
   "outputs": [
    {
     "data": {
      "text/plain": [
       "'----------WELCOME----------'"
      ]
     },
     "execution_count": 58,
     "metadata": {},
     "output_type": "execute_result"
    }
   ],
   "source": [
    "'WELCOME'.center(27, '-')"
   ]
  },
  {
   "cell_type": "code",
   "execution_count": 61,
   "id": "13fb6598",
   "metadata": {},
   "outputs": [
    {
     "data": {
      "text/plain": [
       "'!!!!!!!!!!.|..|..|.!!!!!!!!!!!'"
      ]
     },
     "execution_count": 61,
     "metadata": {},
     "output_type": "execute_result"
    }
   ],
   "source": [
    "('.|.'*3).center(30, '!')"
   ]
  },
  {
   "cell_type": "markdown",
   "id": "3d0e0a62",
   "metadata": {},
   "source": [
    "### 반복문에서 시작 숫자가 뭔지 잘 봐야 함 \n",
    "### 그래서 2i-1 이 아니라 2i+1 이 되어야 하는 것 "
   ]
  },
  {
   "cell_type": "code",
   "execution_count": null,
   "id": "1968bbc4",
   "metadata": {},
   "outputs": [],
   "source": [
    "n, m = map(int, input().strip().split())\n",
    "first_half = [('.|.'*(2i+1)).center(m, '_') for i in range(1, n//2)]\n",
    "center = ['WELCOME'.cetner(m, '-')]\n",
    "latter_half = first_half[::-1]\n",
    "print('\\n'.join(first_half + center + latter_half))"
   ]
  },
  {
   "cell_type": "markdown",
   "id": "be048855",
   "metadata": {},
   "source": [
    "-**swap case**"
   ]
  },
  {
   "cell_type": "code",
   "execution_count": 67,
   "id": "6c3783db",
   "metadata": {},
   "outputs": [],
   "source": [
    "string = 'string'\n"
   ]
  },
  {
   "cell_type": "code",
   "execution_count": 65,
   "id": "57c1700c",
   "metadata": {},
   "outputs": [
    {
     "ename": "SyntaxError",
     "evalue": "invalid syntax (Temp/ipykernel_18468/290288170.py, line 2)",
     "output_type": "error",
     "traceback": [
      "\u001b[1;36m  File \u001b[1;32m\"C:\\Users\\AARONC~1\\AppData\\Local\\Temp/ipykernel_18468/290288170.py\"\u001b[1;36m, line \u001b[1;32m2\u001b[0m\n\u001b[1;33m    [s.lower() for s in string if s.islower() == True else s.upper()]\u001b[0m\n\u001b[1;37m                                                      ^\u001b[0m\n\u001b[1;31mSyntaxError\u001b[0m\u001b[1;31m:\u001b[0m invalid syntax\n"
     ]
    }
   ],
   "source": [
    "[s.lower() for s in string if s.islower() == True else s.upper()]"
   ]
  },
  {
   "cell_type": "code",
   "execution_count": 68,
   "id": "a347355b",
   "metadata": {},
   "outputs": [
    {
     "data": {
      "text/plain": [
       "['s', 't', 'r', 'i', 'n', 'g']"
      ]
     },
     "execution_count": 68,
     "metadata": {},
     "output_type": "execute_result"
    }
   ],
   "source": [
    "[s.lower() if s.isupper() == True else s.upper() for s in string]"
   ]
  },
  {
   "cell_type": "markdown",
   "id": "33a9be12",
   "metadata": {},
   "source": [
    "### .join메서드는 하나의 인수에 대해서만\n",
    "### list comprehension에서 if-else 구문 이용하려면 출력내용I if 조건 else 출력내용2 for 원소 in 데이터"
   ]
  },
  {
   "cell_type": "markdown",
   "id": "470ff852",
   "metadata": {},
   "source": [
    "- **string split and join**"
   ]
  },
  {
   "cell_type": "code",
   "execution_count": 69,
   "id": "cf6f1cec",
   "metadata": {},
   "outputs": [],
   "source": [
    "def split_and_join(line):\n",
    "    ls = line.split(' ')\n",
    "    line = '-'.join(ls)\n",
    "    return line"
   ]
  },
  {
   "cell_type": "code",
   "execution_count": 70,
   "id": "b285d73d",
   "metadata": {},
   "outputs": [
    {
     "data": {
      "text/plain": [
       "'Wie-gehts?'"
      ]
     },
     "execution_count": 70,
     "metadata": {},
     "output_type": "execute_result"
    }
   ],
   "source": [
    "split_and_join('Wie gehts?')"
   ]
  },
  {
   "cell_type": "markdown",
   "id": "cc49026d",
   "metadata": {},
   "source": [
    "- **What's your name?**"
   ]
  },
  {
   "cell_type": "code",
   "execution_count": 72,
   "id": "c4bc710d",
   "metadata": {},
   "outputs": [],
   "source": [
    "def print_full_name(first, last):\n",
    "    return f'Hello {first} {last}! You just delved into python.'"
   ]
  },
  {
   "cell_type": "code",
   "execution_count": 73,
   "id": "24e09655",
   "metadata": {},
   "outputs": [
    {
     "data": {
      "text/plain": [
       "'Hello Haejin Cho! You just delved into python.'"
      ]
     },
     "execution_count": 73,
     "metadata": {},
     "output_type": "execute_result"
    }
   ],
   "source": [
    "print_full_name('Haejin', 'Cho')"
   ]
  },
  {
   "cell_type": "markdown",
   "id": "b8dd7efc",
   "metadata": {},
   "source": [
    "### input이 어떤 자료형인지 확실하지 않을 때는 내가 직접 지정해주자 "
   ]
  },
  {
   "cell_type": "markdown",
   "id": "056a958b",
   "metadata": {},
   "source": [
    "### 함수에서 return이 필요한지 print가 필요한지?\n",
    "### 함수에서 return을 쓰는 conventional한 경우는 뭔지?"
   ]
  },
  {
   "cell_type": "markdown",
   "id": "c9f20be4",
   "metadata": {},
   "source": [
    "- **Mutations**"
   ]
  },
  {
   "cell_type": "code",
   "execution_count": 76,
   "id": "ce184577",
   "metadata": {},
   "outputs": [],
   "source": [
    "def mutate_string(string, position, character):\n",
    "    ls_string = list(string)\n",
    "    ls_string.insert(position, character)\n",
    "    return ''.join(ls_string)"
   ]
  },
  {
   "cell_type": "code",
   "execution_count": 77,
   "id": "cab6a8ff",
   "metadata": {},
   "outputs": [
    {
     "data": {
      "text/plain": [
       "'abcdecadabrafg'"
      ]
     },
     "execution_count": 77,
     "metadata": {},
     "output_type": "execute_result"
    }
   ],
   "source": [
    "mutate_string('abcdefg', 5, 'cadabra')"
   ]
  },
  {
   "cell_type": "markdown",
   "id": "ad2990a1",
   "metadata": {},
   "source": [
    "### 변수명을 일관성 있게 써야 한다\n",
    "### 연산 결과가 변수에 저장되는지 출력되는지 확인해야 한다 \n",
    "### 기존 데이터에는 어떤 변화가 일어나는지 고려해야 한다"
   ]
  },
  {
   "cell_type": "code",
   "execution_count": 78,
   "id": "ccc411ae",
   "metadata": {},
   "outputs": [],
   "source": [
    "def mutate_string(string, position, character):\n",
    "    ls_string = list(string)\n",
    "    ls_string[position] = character\n",
    "    return ''.join(ls_string)"
   ]
  },
  {
   "cell_type": "code",
   "execution_count": 79,
   "id": "d3b84883",
   "metadata": {},
   "outputs": [
    {
     "data": {
      "text/plain": [
       "'bannana'"
      ]
     },
     "execution_count": 79,
     "metadata": {},
     "output_type": "execute_result"
    }
   ],
   "source": [
    "mutate_string('bamnana', 2, 'n')"
   ]
  },
  {
   "cell_type": "markdown",
   "id": "2fd82bb8",
   "metadata": {},
   "source": [
    "- **find a string**"
   ]
  },
  {
   "cell_type": "code",
   "execution_count": 80,
   "id": "8c499d70",
   "metadata": {},
   "outputs": [
    {
     "data": {
      "text/plain": [
       "True"
      ]
     },
     "execution_count": 80,
     "metadata": {},
     "output_type": "execute_result"
    }
   ],
   "source": [
    "'crc' in 'crcrc'"
   ]
  },
  {
   "cell_type": "markdown",
   "id": "bf9f98ba",
   "metadata": {},
   "source": [
    "#### 반복문 사용해서 string index 하나씩 높여나가기\n",
    "#### import re 해서 re.findall 하기"
   ]
  },
  {
   "cell_type": "code",
   "execution_count": 81,
   "id": "43a5a1dc",
   "metadata": {},
   "outputs": [
    {
     "data": {
      "text/plain": [
       "[]"
      ]
     },
     "execution_count": 81,
     "metadata": {},
     "output_type": "execute_result"
    }
   ],
   "source": [
    "import re\n",
    "re.findall('crcrc', 'crc')"
   ]
  },
  {
   "cell_type": "code",
   "execution_count": 82,
   "id": "e7218a9a",
   "metadata": {},
   "outputs": [
    {
     "data": {
      "text/plain": [
       "['crc']"
      ]
     },
     "execution_count": 82,
     "metadata": {},
     "output_type": "execute_result"
    }
   ],
   "source": [
    "re.findall('crc', 'crcrc')"
   ]
  },
  {
   "cell_type": "code",
   "execution_count": 83,
   "id": "8e0b311c",
   "metadata": {},
   "outputs": [
    {
     "data": {
      "text/plain": [
       "<re.Match object; span=(0, 3), match='crc'>"
      ]
     },
     "execution_count": 83,
     "metadata": {},
     "output_type": "execute_result"
    }
   ],
   "source": [
    "re.search('crc', 'crcrc')"
   ]
  },
  {
   "cell_type": "code",
   "execution_count": 84,
   "id": "e59b211b",
   "metadata": {},
   "outputs": [
    {
     "data": {
      "text/plain": [
       "'crc'"
      ]
     },
     "execution_count": 84,
     "metadata": {},
     "output_type": "execute_result"
    }
   ],
   "source": [
    "re.search('crc', 'crcrc').group()"
   ]
  },
  {
   "cell_type": "code",
   "execution_count": 86,
   "id": "a9b81394",
   "metadata": {},
   "outputs": [],
   "source": [
    "def count_substring(string, sub_string):\n",
    "    ls = []\n",
    "    for i in range(len(string)):\n",
    "        ls.append(sub_string in string[i:])\n",
    "    return len(ls)"
   ]
  },
  {
   "cell_type": "code",
   "execution_count": 87,
   "id": "7f878633",
   "metadata": {},
   "outputs": [
    {
     "data": {
      "text/plain": [
       "5"
      ]
     },
     "execution_count": 87,
     "metadata": {},
     "output_type": "execute_result"
    }
   ],
   "source": [
    "count_substring('crcrc', 'crc')"
   ]
  },
  {
   "cell_type": "code",
   "execution_count": 88,
   "id": "94709484",
   "metadata": {},
   "outputs": [],
   "source": [
    "def count_substring(string, sub_string):\n",
    "    ls = []\n",
    "    for i in range(len(string)):\n",
    "        ls.append(sub_string in string[i:])\n",
    "    return sum(ls)"
   ]
  },
  {
   "cell_type": "code",
   "execution_count": 89,
   "id": "d74fd69a",
   "metadata": {},
   "outputs": [
    {
     "data": {
      "text/plain": [
       "3"
      ]
     },
     "execution_count": 89,
     "metadata": {},
     "output_type": "execute_result"
    }
   ],
   "source": [
    "count_substring('crcrc', 'crc')"
   ]
  },
  {
   "cell_type": "code",
   "execution_count": 90,
   "id": "0f3cfcb3",
   "metadata": {},
   "outputs": [
    {
     "data": {
      "text/plain": [
       "[3, 7, 1, 2, 7]"
      ]
     },
     "execution_count": 90,
     "metadata": {},
     "output_type": "execute_result"
    }
   ],
   "source": [
    "ls"
   ]
  },
  {
   "cell_type": "code",
   "execution_count": 91,
   "id": "f6dd2297",
   "metadata": {},
   "outputs": [],
   "source": [
    "def count_substring(string, sub_string):\n",
    "    ls = []\n",
    "    for i in range(len(string)):\n",
    "        ls.append(string[i:].startswith(sub_string))\n",
    "    return sum(ls)"
   ]
  },
  {
   "cell_type": "code",
   "execution_count": 92,
   "id": "845929bd",
   "metadata": {},
   "outputs": [
    {
     "data": {
      "text/plain": [
       "2"
      ]
     },
     "execution_count": 92,
     "metadata": {},
     "output_type": "execute_result"
    }
   ],
   "source": [
    "count_substring('crcrc', 'crc')"
   ]
  },
  {
   "cell_type": "markdown",
   "id": "1a76ff19",
   "metadata": {},
   "source": [
    "### 예시 답안 "
   ]
  },
  {
   "cell_type": "code",
   "execution_count": 93,
   "id": "11860cde",
   "metadata": {},
   "outputs": [
    {
     "name": "stdout",
     "output_type": "stream",
     "text": [
      "'crcrc'\n",
      "'crc'\n",
      "0\n"
     ]
    }
   ],
   "source": [
    "string, substring = (input().strip(), input().strip())\n",
    "print(sum([1 for i in range(len(string) - len(substring) + 1) \n",
    "         if string[i:i+len(substring)] == substring]))"
   ]
  },
  {
   "cell_type": "markdown",
   "id": "c70ed49c",
   "metadata": {},
   "source": [
    "- **String Validators**"
   ]
  },
  {
   "cell_type": "markdown",
   "id": "9db4f3a5",
   "metadata": {},
   "source": [
    "#### regular expression package\n",
    "#### isalnum과 any을 병합하기"
   ]
  },
  {
   "cell_type": "code",
   "execution_count": 99,
   "id": "5913f80e",
   "metadata": {},
   "outputs": [
    {
     "ename": "TypeError",
     "evalue": "'bool' object is not iterable",
     "output_type": "error",
     "traceback": [
      "\u001b[1;31m---------------------------------------------------------------------------\u001b[0m",
      "\u001b[1;31mTypeError\u001b[0m                                 Traceback (most recent call last)",
      "\u001b[1;32mC:\\Users\\AARONC~1\\AppData\\Local\\Temp/ipykernel_18468/2868138536.py\u001b[0m in \u001b[0;36m<module>\u001b[1;34m\u001b[0m\n\u001b[0;32m      2\u001b[0m \u001b[1;32mfor\u001b[0m \u001b[0mi\u001b[0m \u001b[1;32min\u001b[0m \u001b[0mrange\u001b[0m\u001b[1;33m(\u001b[0m\u001b[0mlen\u001b[0m\u001b[1;33m(\u001b[0m\u001b[0ms\u001b[0m\u001b[1;33m)\u001b[0m\u001b[1;33m)\u001b[0m\u001b[1;33m:\u001b[0m\u001b[1;33m\u001b[0m\u001b[1;33m\u001b[0m\u001b[0m\n\u001b[0;32m      3\u001b[0m     \u001b[0mls\u001b[0m \u001b[1;33m=\u001b[0m \u001b[1;33m[\u001b[0m\u001b[1;33m]\u001b[0m\u001b[1;33m\u001b[0m\u001b[1;33m\u001b[0m\u001b[0m\n\u001b[1;32m----> 4\u001b[1;33m     \u001b[0mls\u001b[0m\u001b[1;33m.\u001b[0m\u001b[0mappend\u001b[0m\u001b[1;33m(\u001b[0m\u001b[1;33m[\u001b[0m\u001b[0many\u001b[0m\u001b[1;33m(\u001b[0m\u001b[0ms\u001b[0m\u001b[1;33m[\u001b[0m\u001b[0mi\u001b[0m\u001b[1;33m]\u001b[0m\u001b[1;33m.\u001b[0m\u001b[0misalnum\u001b[0m\u001b[1;33m(\u001b[0m\u001b[1;33m)\u001b[0m\u001b[1;33m)\u001b[0m\u001b[1;33m]\u001b[0m\u001b[1;33m)\u001b[0m\u001b[1;33m\u001b[0m\u001b[1;33m\u001b[0m\u001b[0m\n\u001b[0m\u001b[0;32m      5\u001b[0m     \u001b[0mls\u001b[0m\u001b[1;33m.\u001b[0m\u001b[0mappend\u001b[0m\u001b[1;33m(\u001b[0m\u001b[1;33m[\u001b[0m\u001b[0many\u001b[0m\u001b[1;33m(\u001b[0m\u001b[0ms\u001b[0m\u001b[1;33m[\u001b[0m\u001b[0mi\u001b[0m\u001b[1;33m]\u001b[0m\u001b[1;33m.\u001b[0m\u001b[0misalpha\u001b[0m\u001b[1;33m(\u001b[0m\u001b[1;33m)\u001b[0m\u001b[1;33m)\u001b[0m\u001b[1;33m]\u001b[0m\u001b[1;33m)\u001b[0m\u001b[1;33m\u001b[0m\u001b[1;33m\u001b[0m\u001b[0m\n\u001b[0;32m      6\u001b[0m     \u001b[0mls\u001b[0m\u001b[1;33m.\u001b[0m\u001b[0mappend\u001b[0m\u001b[1;33m(\u001b[0m\u001b[1;33m[\u001b[0m\u001b[0many\u001b[0m\u001b[1;33m(\u001b[0m\u001b[0ms\u001b[0m\u001b[1;33m[\u001b[0m\u001b[0mi\u001b[0m\u001b[1;33m]\u001b[0m\u001b[1;33m.\u001b[0m\u001b[0misdigit\u001b[0m\u001b[1;33m(\u001b[0m\u001b[1;33m)\u001b[0m\u001b[1;33m)\u001b[0m\u001b[1;33m]\u001b[0m\u001b[1;33m)\u001b[0m\u001b[1;33m\u001b[0m\u001b[1;33m\u001b[0m\u001b[0m\n",
      "\u001b[1;31mTypeError\u001b[0m: 'bool' object is not iterable"
     ]
    }
   ],
   "source": [
    "s ='fdsah2k100Q'\n",
    "for i in range(len(s)):\n",
    "    ls = []\n",
    "    ls.append([any(s[i].isalnum())])\n",
    "    ls.append([any(s[i].isalpha())])\n",
    "    ls.append([any(s[i].isdigit())])\n",
    "    ls.append([any(s[i].islower())])\n",
    "    ls.append([any(s[i].isupper())])\n",
    "print('\\n'.join(ls))"
   ]
  },
  {
   "cell_type": "code",
   "execution_count": 100,
   "id": "d7880266",
   "metadata": {},
   "outputs": [],
   "source": [
    "s = 'fdsa2011Q'"
   ]
  },
  {
   "cell_type": "code",
   "execution_count": 102,
   "id": "3b671548",
   "metadata": {},
   "outputs": [
    {
     "data": {
      "text/plain": [
       "True"
      ]
     },
     "execution_count": 102,
     "metadata": {},
     "output_type": "execute_result"
    }
   ],
   "source": [
    "s[0].isalnum()"
   ]
  },
  {
   "cell_type": "code",
   "execution_count": 103,
   "id": "4dea6087",
   "metadata": {},
   "outputs": [
    {
     "ename": "TypeError",
     "evalue": "'bool' object is not iterable",
     "output_type": "error",
     "traceback": [
      "\u001b[1;31m---------------------------------------------------------------------------\u001b[0m",
      "\u001b[1;31mTypeError\u001b[0m                                 Traceback (most recent call last)",
      "\u001b[1;32mC:\\Users\\AARONC~1\\AppData\\Local\\Temp/ipykernel_18468/370008418.py\u001b[0m in \u001b[0;36m<module>\u001b[1;34m\u001b[0m\n\u001b[1;32m----> 1\u001b[1;33m \u001b[0many\u001b[0m\u001b[1;33m(\u001b[0m\u001b[0ms\u001b[0m\u001b[1;33m[\u001b[0m\u001b[1;36m0\u001b[0m\u001b[1;33m]\u001b[0m\u001b[1;33m.\u001b[0m\u001b[0misalnum\u001b[0m\u001b[1;33m(\u001b[0m\u001b[1;33m)\u001b[0m\u001b[1;33m)\u001b[0m\u001b[1;33m\u001b[0m\u001b[1;33m\u001b[0m\u001b[0m\n\u001b[0m",
      "\u001b[1;31mTypeError\u001b[0m: 'bool' object is not iterable"
     ]
    }
   ],
   "source": [
    "any(s[0].isalnum())"
   ]
  },
  {
   "cell_type": "code",
   "execution_count": 110,
   "id": "84de2f19",
   "metadata": {},
   "outputs": [
    {
     "name": "stdout",
     "output_type": "stream",
     "text": [
      "True\n",
      "True\n",
      "True\n",
      "True\n",
      "True\n"
     ]
    }
   ],
   "source": [
    "s ='fdsah2k100Q'\n",
    "ls1 = []\n",
    "ls2 = []\n",
    "ls3 = []\n",
    "ls4 = []\n",
    "ls5 = []\n",
    "for i in range(len(s)):\n",
    "    ls1.append(s[i].isalnum())\n",
    "    ls2.append(s[i].isalpha())\n",
    "    ls3.append(s[i].isdigit())\n",
    "    ls4.append(s[i].islower())\n",
    "    ls5.append(s[i].isupper())\n",
    "print('\\n'.join([str(any(ls1)), str(any(ls2)), str(any(ls3)), \n",
    "                 str(any(ls4)), str(any(ls5))]))"
   ]
  },
  {
   "cell_type": "code",
   "execution_count": 105,
   "id": "5645c4ac",
   "metadata": {},
   "outputs": [
    {
     "data": {
      "text/plain": [
       "True"
      ]
     },
     "execution_count": 105,
     "metadata": {},
     "output_type": "execute_result"
    }
   ],
   "source": [
    "any(ls1)"
   ]
  },
  {
   "cell_type": "code",
   "execution_count": null,
   "id": "323e70ba",
   "metadata": {},
   "outputs": [],
   "source": [
    "s ='fdsah2k100Q'\n",
    "ls1 = []\n",
    "ls2 = []\n",
    "ls3 = []\n",
    "ls4 = []\n",
    "ls5 = []\n",
    "for i in range(len(s)):\n",
    "    ls1.append(s[i].isalnum())\n",
    "    ls2.append(s[i].isalpha())\n",
    "    ls3.append(s[i].isdigit())\n",
    "    ls4.append(s[i].islower())\n",
    "    ls5.append(s[i].isupper())\n",
    "print('\\n'.join([str(any(ls1)), str(any(ls2)), str(any(ls3)), \n",
    "                 str(any(ls4)), str(any(ls5))]))"
   ]
  },
  {
   "cell_type": "code",
   "execution_count": 111,
   "id": "f7e59140",
   "metadata": {},
   "outputs": [
    {
     "data": {
      "text/plain": [
       "<map at 0x1573b798220>"
      ]
     },
     "execution_count": 111,
     "metadata": {},
     "output_type": "execute_result"
    }
   ],
   "source": [
    "map(list(), range(len(s)))"
   ]
  },
  {
   "cell_type": "code",
   "execution_count": 115,
   "id": "fdd9c7b3",
   "metadata": {},
   "outputs": [],
   "source": [
    "ls = []\n",
    "ls.append([s[i].isalnum() for i in range(len(s))])\n",
    "ls.append([s[i].isalpha() for i in range(len(s))])\n",
    "ls.append([s[i].isdigit() for i in range(len(s))])\n",
    "ls.append([s[i].islower() for i in range(len(s))])\n",
    "ls.append([s[i].isupper() for i in range(len(s))])"
   ]
  },
  {
   "cell_type": "code",
   "execution_count": 116,
   "id": "da0add0a",
   "metadata": {},
   "outputs": [
    {
     "data": {
      "text/plain": [
       "[[True, True, True, True, True, True, True, True, True, True, True],\n",
       " [True, True, True, True, True, False, True, False, False, False, True],\n",
       " [False, False, False, False, False, True, False, True, True, True, False],\n",
       " [True, True, True, True, True, False, True, False, False, False, False],\n",
       " [False, False, False, False, False, False, False, False, False, False, True]]"
      ]
     },
     "execution_count": 116,
     "metadata": {},
     "output_type": "execute_result"
    }
   ],
   "source": [
    "ls"
   ]
  },
  {
   "cell_type": "code",
   "execution_count": 117,
   "id": "92dbcee9",
   "metadata": {},
   "outputs": [
    {
     "data": {
      "text/plain": [
       "<map at 0x1573b5f0130>"
      ]
     },
     "execution_count": 117,
     "metadata": {},
     "output_type": "execute_result"
    }
   ],
   "source": [
    "map(any, ls)"
   ]
  },
  {
   "cell_type": "code",
   "execution_count": 118,
   "id": "1f0f1e4c",
   "metadata": {},
   "outputs": [
    {
     "data": {
      "text/plain": [
       "[True, True, True, True, True]"
      ]
     },
     "execution_count": 118,
     "metadata": {},
     "output_type": "execute_result"
    }
   ],
   "source": [
    "list(map(any, ls))"
   ]
  },
  {
   "cell_type": "code",
   "execution_count": 119,
   "id": "57516902",
   "metadata": {},
   "outputs": [
    {
     "ename": "TypeError",
     "evalue": "sequence item 0: expected str instance, bool found",
     "output_type": "error",
     "traceback": [
      "\u001b[1;31m---------------------------------------------------------------------------\u001b[0m",
      "\u001b[1;31mTypeError\u001b[0m                                 Traceback (most recent call last)",
      "\u001b[1;32mC:\\Users\\AARONC~1\\AppData\\Local\\Temp/ipykernel_18468/3704556051.py\u001b[0m in \u001b[0;36m<module>\u001b[1;34m\u001b[0m\n\u001b[1;32m----> 1\u001b[1;33m \u001b[1;34m'\\n'\u001b[0m\u001b[1;33m.\u001b[0m\u001b[0mjoin\u001b[0m\u001b[1;33m(\u001b[0m\u001b[0mlist\u001b[0m\u001b[1;33m(\u001b[0m\u001b[0mmap\u001b[0m\u001b[1;33m(\u001b[0m\u001b[0many\u001b[0m\u001b[1;33m,\u001b[0m \u001b[0mls\u001b[0m\u001b[1;33m)\u001b[0m\u001b[1;33m)\u001b[0m\u001b[1;33m)\u001b[0m\u001b[1;33m\u001b[0m\u001b[1;33m\u001b[0m\u001b[0m\n\u001b[0m",
      "\u001b[1;31mTypeError\u001b[0m: sequence item 0: expected str instance, bool found"
     ]
    }
   ],
   "source": [
    "'\\n'.join(list(map(any, ls)))"
   ]
  },
  {
   "cell_type": "code",
   "execution_count": 123,
   "id": "70d0e0a9",
   "metadata": {},
   "outputs": [
    {
     "data": {
      "text/plain": [
       "<map at 0x1573b7b09d0>"
      ]
     },
     "execution_count": 123,
     "metadata": {},
     "output_type": "execute_result"
    }
   ],
   "source": [
    "map(str, map(any, ls))"
   ]
  },
  {
   "cell_type": "code",
   "execution_count": 124,
   "id": "a482db7e",
   "metadata": {},
   "outputs": [
    {
     "data": {
      "text/plain": [
       "['True', 'True', 'True', 'True', 'True']"
      ]
     },
     "execution_count": 124,
     "metadata": {},
     "output_type": "execute_result"
    }
   ],
   "source": [
    "list(map(str, map(any, ls)))"
   ]
  },
  {
   "cell_type": "markdown",
   "id": "8c7ab552",
   "metadata": {},
   "source": [
    "### join 메서드는 붙일 원소들이 일괄 string일 때만 사용할 수 있음 "
   ]
  },
  {
   "cell_type": "code",
   "execution_count": null,
   "id": "74b05fa1",
   "metadata": {},
   "outputs": [],
   "source": [
    " ls = []\n",
    "ls.append([s[i].isalnum() for i in range(len(s))])\n",
    "ls.append([s[i].isalpha() for i in range(len(s))])\n",
    "ls.append([s[i].isdigit() for i in range(len(s))])\n",
    "ls.append([s[i].islower() for i in range(len(s))])\n",
    "ls.append([s[i].isupper() for i in range(len(s))])\n",
    "\n",
    "print('\\n'.join(list(map(str, map(any, ls)))))"
   ]
  },
  {
   "cell_type": "markdown",
   "id": "43243f64",
   "metadata": {},
   "source": [
    "### 예상 답안 "
   ]
  },
  {
   "cell_type": "code",
   "execution_count": null,
   "id": "786c7b8c",
   "metadata": {},
   "outputs": [],
   "source": [
    "from functools import reduce\n",
    "if __name__ == '__main__':\n",
    "    s = input()\n",
    "\n",
    "    checks = [\n",
    "        str.isalnum, \n",
    "        str.isalpha, \n",
    "        str.isdigit, \n",
    "        str.islower, \n",
    "        str.isupper\n",
    "    ]\n",
    "\n",
    "for check in checks:\n",
    "    print(reduce(lambda x, y: x or check(y), s, False))"
   ]
  },
  {
   "cell_type": "markdown",
   "id": "fc31baa8",
   "metadata": {},
   "source": [
    "### 함수도 객체라는 걸 잊지 않고 인수로 사용해보기 \n",
    "### with other functions other than map()"
   ]
  },
  {
   "cell_type": "code",
   "execution_count": null,
   "id": "70580575",
   "metadata": {},
   "outputs": [],
   "source": []
  }
 ],
 "metadata": {
  "kernelspec": {
   "display_name": "Python 3 (ipykernel)",
   "language": "python",
   "name": "python3"
  },
  "language_info": {
   "codemirror_mode": {
    "name": "ipython",
    "version": 3
   },
   "file_extension": ".py",
   "mimetype": "text/x-python",
   "name": "python",
   "nbconvert_exporter": "python",
   "pygments_lexer": "ipython3",
   "version": "3.9.7"
  }
 },
 "nbformat": 4,
 "nbformat_minor": 5
}
