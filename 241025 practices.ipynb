{
 "cells": [
  {
   "cell_type": "markdown",
   "id": "36440db8",
   "metadata": {},
   "source": [
    "- standardize mobile number using decorators "
   ]
  },
  {
   "cell_type": "code",
   "execution_count": null,
   "id": "b0a08fac",
   "metadata": {},
   "outputs": [],
   "source": [
    "def wrapper(f):\n",
    "    def fun(l):\n",
    "        import re\n",
    "        for numbers in l:\n",
    "            target_numbers = re.search('(?<=((+91)|(91)|(0)))(\\d{5})(\\d{5})', \n",
    "                                      numbers).groups()\n",
    "            l = [' '.join(['+91', first, latter]) \n",
    "                for first, latter in target_numbers]\n",
    "            return sort_phone\n",
    "    return fun\n",
    "\n",
    "@wrapper\n",
    "def sort_phone(l):\n",
    "    print(*sorted(l), sep='\\n')\n",
    "\n",
    "if __name__ == '__main__':\n",
    "    l = [input() for _ in range(int(input()))]\n",
    "    sort_phone(l) \n"
   ]
  },
  {
   "cell_type": "code",
   "execution_count": 2,
   "id": "12aaea8e",
   "metadata": {},
   "outputs": [],
   "source": [
    "def wrapper(func):\n",
    "    def func(n):\n",
    "        n.sort()\n",
    "\n",
    "@wrapper\n",
    "def add(n):\n",
    "    print(reduce(lambda x, y: x+y, n, 0))"
   ]
  },
  {
   "cell_type": "code",
   "execution_count": 3,
   "id": "f0ea3476",
   "metadata": {},
   "outputs": [],
   "source": [
    "n = [3, 5, 6, 10, 1, 1, 1, 2, 7, 3, 2, 2]"
   ]
  },
  {
   "cell_type": "code",
   "execution_count": 4,
   "id": "6ffe32a8",
   "metadata": {
    "scrolled": true
   },
   "outputs": [
    {
     "ename": "TypeError",
     "evalue": "'NoneType' object is not callable",
     "output_type": "error",
     "traceback": [
      "\u001b[1;31m---------------------------------------------------------------------------\u001b[0m",
      "\u001b[1;31mTypeError\u001b[0m                                 Traceback (most recent call last)",
      "\u001b[1;32mC:\\Users\\AARONC~1\\AppData\\Local\\Temp/ipykernel_18176/2209133544.py\u001b[0m in \u001b[0;36m<module>\u001b[1;34m\u001b[0m\n\u001b[1;32m----> 1\u001b[1;33m \u001b[0madd\u001b[0m\u001b[1;33m(\u001b[0m\u001b[0mn\u001b[0m\u001b[1;33m)\u001b[0m\u001b[1;33m\u001b[0m\u001b[1;33m\u001b[0m\u001b[0m\n\u001b[0m",
      "\u001b[1;31mTypeError\u001b[0m: 'NoneType' object is not callable"
     ]
    }
   ],
   "source": [
    "add(n)"
   ]
  },
  {
   "cell_type": "raw",
   "id": "b112c76c",
   "metadata": {},
   "source": []
  },
  {
   "cell_type": "code",
   "execution_count": 5,
   "id": "6f7b6a84",
   "metadata": {},
   "outputs": [],
   "source": [
    "import re"
   ]
  },
  {
   "cell_type": "code",
   "execution_count": 6,
   "id": "12c42209",
   "metadata": {},
   "outputs": [
    {
     "data": {
      "text/plain": [
       "('3', '4')"
      ]
     },
     "execution_count": 6,
     "metadata": {},
     "output_type": "execute_result"
    }
   ],
   "source": [
    "re.search('(\\d)(\\d)', '34').groups()"
   ]
  },
  {
   "cell_type": "code",
   "execution_count": null,
   "id": "bf56df71",
   "metadata": {},
   "outputs": [],
   "source": [
    "def wrapper(f):\n",
    "    def fun(l):\n",
    "        import re\n",
    "        for numbers in l:\n",
    "            target_numbers = re.search('(?<=((+91)|(91)|(0)))(\\d{5})(\\d{5})', \n",
    "                                      numbers).groups()\n",
    "            l = [' '.join(['+91', first, latter]) \n",
    "                for first, latter in target_numbers]\n",
    "            return sort_phone\n",
    "    return fun\n",
    "\n",
    "@wrapper\n",
    "def sort_phone(l):\n",
    "    print(*sorted(l), sep='\\n')\n",
    "\n",
    "if __name__ == '__main__':\n",
    "    l = [input() for _ in range(int(input()))]\n",
    "    sort_phone(l) \n"
   ]
  },
  {
   "cell_type": "code",
   "execution_count": null,
   "id": "41c160c9",
   "metadata": {},
   "outputs": [],
   "source": [
    "def wrapper(f):\n",
    "    def fun(l):\n",
    "        import re\n",
    "        for numbers in l:\n",
    "            target_numbers = re.search('(?<=((+91)|(91)|(0)))(\\d{5})(\\d{5})', \n",
    "                                      numbers).groups()\n",
    "            l = ['+91 %s %s' % target_number for target_number in target_numbers] \n",
    "            return sort_phone\n",
    "    return fun\n",
    "\n",
    "@wrapper\n",
    "def sort_phone(l):\n",
    "    print(*sorted(l), sep='\\n')\n",
    "\n",
    "if __name__ == '__main__':\n",
    "    l = [input() for _ in range(int(input()))]\n",
    "    sort_phone(l) \n"
   ]
  },
  {
   "cell_type": "code",
   "execution_count": 7,
   "id": "7a6ac7a8",
   "metadata": {},
   "outputs": [
    {
     "ename": "TypeError",
     "evalue": "not all arguments converted during string formatting",
     "output_type": "error",
     "traceback": [
      "\u001b[1;31m---------------------------------------------------------------------------\u001b[0m",
      "\u001b[1;31mTypeError\u001b[0m                                 Traceback (most recent call last)",
      "\u001b[1;32mC:\\Users\\AARONC~1\\AppData\\Local\\Temp/ipykernel_18176/2005275567.py\u001b[0m in \u001b[0;36m<module>\u001b[1;34m\u001b[0m\n\u001b[1;32m----> 1\u001b[1;33m \u001b[1;34m'{1} + {2}'\u001b[0m \u001b[1;33m%\u001b[0m \u001b[1;34m'd a'\u001b[0m\u001b[1;33m\u001b[0m\u001b[1;33m\u001b[0m\u001b[0m\n\u001b[0m",
      "\u001b[1;31mTypeError\u001b[0m: not all arguments converted during string formatting"
     ]
    }
   ],
   "source": [
    "'{1} + {2}' % 'd a'"
   ]
  },
  {
   "cell_type": "code",
   "execution_count": 8,
   "id": "bf01228f",
   "metadata": {},
   "outputs": [
    {
     "data": {
      "text/plain": [
       "'{1} + {2}'"
      ]
     },
     "execution_count": 8,
     "metadata": {},
     "output_type": "execute_result"
    }
   ],
   "source": [
    "'{1} + {2}' % ['d', 'a']"
   ]
  },
  {
   "cell_type": "code",
   "execution_count": null,
   "id": "32b2fe24",
   "metadata": {},
   "outputs": [],
   "source": [
    "def wrapper(f):\n",
    "    def fun(l):\n",
    "        import re\n",
    "        target_numbers = [re.search('(?<=((+91)|(91)|(0)))(\\d{5})(\\d{5})', \n",
    "                                      numbers).groups() for numbers in l]\n",
    "        l = ['+91 %s %s' % target_number for target_number in target_numbers]\n",
    "            return sort_phone\n",
    "    return fun\n",
    "\n",
    "@wrapper\n",
    "def sort_phone(l):\n",
    "    print(*sorted(l), sep='\\n')\n",
    "\n",
    "if __name__ == '__main__':\n",
    "    l = [input() for _ in range(int(input()))]\n",
    "    sort_phone(l) \n"
   ]
  },
  {
   "cell_type": "code",
   "execution_count": 10,
   "id": "dd596230",
   "metadata": {},
   "outputs": [],
   "source": [
    "re.search('(?<=((a)|(b)))\\d{4}', 'c1234')"
   ]
  },
  {
   "cell_type": "code",
   "execution_count": 12,
   "id": "f3360cd8",
   "metadata": {},
   "outputs": [
    {
     "ename": "error",
     "evalue": "look-behind requires fixed-width pattern",
     "output_type": "error",
     "traceback": [
      "\u001b[1;31m---------------------------------------------------------------------------\u001b[0m",
      "\u001b[1;31merror\u001b[0m                                     Traceback (most recent call last)",
      "\u001b[1;32mC:\\Users\\AARONC~1\\AppData\\Local\\Temp/ipykernel_18176/3586755374.py\u001b[0m in \u001b[0;36m<module>\u001b[1;34m\u001b[0m\n\u001b[1;32m----> 1\u001b[1;33m \u001b[0mre\u001b[0m\u001b[1;33m.\u001b[0m\u001b[0msearch\u001b[0m\u001b[1;33m(\u001b[0m\u001b[1;34m'(?<=((ab)|(b)))\\d{4}'\u001b[0m\u001b[1;33m,\u001b[0m \u001b[1;34m'ab1234'\u001b[0m\u001b[1;33m)\u001b[0m\u001b[1;33m\u001b[0m\u001b[1;33m\u001b[0m\u001b[0m\n\u001b[0m",
      "\u001b[1;32m~\\AppData\\Local\\Programs\\Python\\Python39\\lib\\re.py\u001b[0m in \u001b[0;36msearch\u001b[1;34m(pattern, string, flags)\u001b[0m\n\u001b[0;32m    199\u001b[0m     \"\"\"Scan through string looking for a match to the pattern, returning\n\u001b[0;32m    200\u001b[0m     a Match object, or None if no match was found.\"\"\"\n\u001b[1;32m--> 201\u001b[1;33m     \u001b[1;32mreturn\u001b[0m \u001b[0m_compile\u001b[0m\u001b[1;33m(\u001b[0m\u001b[0mpattern\u001b[0m\u001b[1;33m,\u001b[0m \u001b[0mflags\u001b[0m\u001b[1;33m)\u001b[0m\u001b[1;33m.\u001b[0m\u001b[0msearch\u001b[0m\u001b[1;33m(\u001b[0m\u001b[0mstring\u001b[0m\u001b[1;33m)\u001b[0m\u001b[1;33m\u001b[0m\u001b[1;33m\u001b[0m\u001b[0m\n\u001b[0m\u001b[0;32m    202\u001b[0m \u001b[1;33m\u001b[0m\u001b[0m\n\u001b[0;32m    203\u001b[0m \u001b[1;32mdef\u001b[0m \u001b[0msub\u001b[0m\u001b[1;33m(\u001b[0m\u001b[0mpattern\u001b[0m\u001b[1;33m,\u001b[0m \u001b[0mrepl\u001b[0m\u001b[1;33m,\u001b[0m \u001b[0mstring\u001b[0m\u001b[1;33m,\u001b[0m \u001b[0mcount\u001b[0m\u001b[1;33m=\u001b[0m\u001b[1;36m0\u001b[0m\u001b[1;33m,\u001b[0m \u001b[0mflags\u001b[0m\u001b[1;33m=\u001b[0m\u001b[1;36m0\u001b[0m\u001b[1;33m)\u001b[0m\u001b[1;33m:\u001b[0m\u001b[1;33m\u001b[0m\u001b[1;33m\u001b[0m\u001b[0m\n",
      "\u001b[1;32m~\\AppData\\Local\\Programs\\Python\\Python39\\lib\\re.py\u001b[0m in \u001b[0;36m_compile\u001b[1;34m(pattern, flags)\u001b[0m\n\u001b[0;32m    302\u001b[0m     \u001b[1;32mif\u001b[0m \u001b[1;32mnot\u001b[0m \u001b[0msre_compile\u001b[0m\u001b[1;33m.\u001b[0m\u001b[0misstring\u001b[0m\u001b[1;33m(\u001b[0m\u001b[0mpattern\u001b[0m\u001b[1;33m)\u001b[0m\u001b[1;33m:\u001b[0m\u001b[1;33m\u001b[0m\u001b[1;33m\u001b[0m\u001b[0m\n\u001b[0;32m    303\u001b[0m         \u001b[1;32mraise\u001b[0m \u001b[0mTypeError\u001b[0m\u001b[1;33m(\u001b[0m\u001b[1;34m\"first argument must be string or compiled pattern\"\u001b[0m\u001b[1;33m)\u001b[0m\u001b[1;33m\u001b[0m\u001b[1;33m\u001b[0m\u001b[0m\n\u001b[1;32m--> 304\u001b[1;33m     \u001b[0mp\u001b[0m \u001b[1;33m=\u001b[0m \u001b[0msre_compile\u001b[0m\u001b[1;33m.\u001b[0m\u001b[0mcompile\u001b[0m\u001b[1;33m(\u001b[0m\u001b[0mpattern\u001b[0m\u001b[1;33m,\u001b[0m \u001b[0mflags\u001b[0m\u001b[1;33m)\u001b[0m\u001b[1;33m\u001b[0m\u001b[1;33m\u001b[0m\u001b[0m\n\u001b[0m\u001b[0;32m    305\u001b[0m     \u001b[1;32mif\u001b[0m \u001b[1;32mnot\u001b[0m \u001b[1;33m(\u001b[0m\u001b[0mflags\u001b[0m \u001b[1;33m&\u001b[0m \u001b[0mDEBUG\u001b[0m\u001b[1;33m)\u001b[0m\u001b[1;33m:\u001b[0m\u001b[1;33m\u001b[0m\u001b[1;33m\u001b[0m\u001b[0m\n\u001b[0;32m    306\u001b[0m         \u001b[1;32mif\u001b[0m \u001b[0mlen\u001b[0m\u001b[1;33m(\u001b[0m\u001b[0m_cache\u001b[0m\u001b[1;33m)\u001b[0m \u001b[1;33m>=\u001b[0m \u001b[0m_MAXCACHE\u001b[0m\u001b[1;33m:\u001b[0m\u001b[1;33m\u001b[0m\u001b[1;33m\u001b[0m\u001b[0m\n",
      "\u001b[1;32m~\\AppData\\Local\\Programs\\Python\\Python39\\lib\\sre_compile.py\u001b[0m in \u001b[0;36mcompile\u001b[1;34m(p, flags)\u001b[0m\n\u001b[0;32m    766\u001b[0m         \u001b[0mpattern\u001b[0m \u001b[1;33m=\u001b[0m \u001b[1;32mNone\u001b[0m\u001b[1;33m\u001b[0m\u001b[1;33m\u001b[0m\u001b[0m\n\u001b[0;32m    767\u001b[0m \u001b[1;33m\u001b[0m\u001b[0m\n\u001b[1;32m--> 768\u001b[1;33m     \u001b[0mcode\u001b[0m \u001b[1;33m=\u001b[0m \u001b[0m_code\u001b[0m\u001b[1;33m(\u001b[0m\u001b[0mp\u001b[0m\u001b[1;33m,\u001b[0m \u001b[0mflags\u001b[0m\u001b[1;33m)\u001b[0m\u001b[1;33m\u001b[0m\u001b[1;33m\u001b[0m\u001b[0m\n\u001b[0m\u001b[0;32m    769\u001b[0m \u001b[1;33m\u001b[0m\u001b[0m\n\u001b[0;32m    770\u001b[0m     \u001b[1;32mif\u001b[0m \u001b[0mflags\u001b[0m \u001b[1;33m&\u001b[0m \u001b[0mSRE_FLAG_DEBUG\u001b[0m\u001b[1;33m:\u001b[0m\u001b[1;33m\u001b[0m\u001b[1;33m\u001b[0m\u001b[0m\n",
      "\u001b[1;32m~\\AppData\\Local\\Programs\\Python\\Python39\\lib\\sre_compile.py\u001b[0m in \u001b[0;36m_code\u001b[1;34m(p, flags)\u001b[0m\n\u001b[0;32m    605\u001b[0m \u001b[1;33m\u001b[0m\u001b[0m\n\u001b[0;32m    606\u001b[0m     \u001b[1;31m# compile the pattern\u001b[0m\u001b[1;33m\u001b[0m\u001b[1;33m\u001b[0m\u001b[0m\n\u001b[1;32m--> 607\u001b[1;33m     \u001b[0m_compile\u001b[0m\u001b[1;33m(\u001b[0m\u001b[0mcode\u001b[0m\u001b[1;33m,\u001b[0m \u001b[0mp\u001b[0m\u001b[1;33m.\u001b[0m\u001b[0mdata\u001b[0m\u001b[1;33m,\u001b[0m \u001b[0mflags\u001b[0m\u001b[1;33m)\u001b[0m\u001b[1;33m\u001b[0m\u001b[1;33m\u001b[0m\u001b[0m\n\u001b[0m\u001b[0;32m    608\u001b[0m \u001b[1;33m\u001b[0m\u001b[0m\n\u001b[0;32m    609\u001b[0m     \u001b[0mcode\u001b[0m\u001b[1;33m.\u001b[0m\u001b[0mappend\u001b[0m\u001b[1;33m(\u001b[0m\u001b[0mSUCCESS\u001b[0m\u001b[1;33m)\u001b[0m\u001b[1;33m\u001b[0m\u001b[1;33m\u001b[0m\u001b[0m\n",
      "\u001b[1;32m~\\AppData\\Local\\Programs\\Python\\Python39\\lib\\sre_compile.py\u001b[0m in \u001b[0;36m_compile\u001b[1;34m(code, pattern, flags)\u001b[0m\n\u001b[0;32m    180\u001b[0m                 \u001b[0mlo\u001b[0m\u001b[1;33m,\u001b[0m \u001b[0mhi\u001b[0m \u001b[1;33m=\u001b[0m \u001b[0mav\u001b[0m\u001b[1;33m[\u001b[0m\u001b[1;36m1\u001b[0m\u001b[1;33m]\u001b[0m\u001b[1;33m.\u001b[0m\u001b[0mgetwidth\u001b[0m\u001b[1;33m(\u001b[0m\u001b[1;33m)\u001b[0m\u001b[1;33m\u001b[0m\u001b[1;33m\u001b[0m\u001b[0m\n\u001b[0;32m    181\u001b[0m                 \u001b[1;32mif\u001b[0m \u001b[0mlo\u001b[0m \u001b[1;33m!=\u001b[0m \u001b[0mhi\u001b[0m\u001b[1;33m:\u001b[0m\u001b[1;33m\u001b[0m\u001b[1;33m\u001b[0m\u001b[0m\n\u001b[1;32m--> 182\u001b[1;33m                     \u001b[1;32mraise\u001b[0m \u001b[0merror\u001b[0m\u001b[1;33m(\u001b[0m\u001b[1;34m\"look-behind requires fixed-width pattern\"\u001b[0m\u001b[1;33m)\u001b[0m\u001b[1;33m\u001b[0m\u001b[1;33m\u001b[0m\u001b[0m\n\u001b[0m\u001b[0;32m    183\u001b[0m                 \u001b[0memit\u001b[0m\u001b[1;33m(\u001b[0m\u001b[0mlo\u001b[0m\u001b[1;33m)\u001b[0m \u001b[1;31m# look behind\u001b[0m\u001b[1;33m\u001b[0m\u001b[1;33m\u001b[0m\u001b[0m\n\u001b[0;32m    184\u001b[0m             \u001b[0m_compile\u001b[0m\u001b[1;33m(\u001b[0m\u001b[0mcode\u001b[0m\u001b[1;33m,\u001b[0m \u001b[0mav\u001b[0m\u001b[1;33m[\u001b[0m\u001b[1;36m1\u001b[0m\u001b[1;33m]\u001b[0m\u001b[1;33m,\u001b[0m \u001b[0mflags\u001b[0m\u001b[1;33m)\u001b[0m\u001b[1;33m\u001b[0m\u001b[1;33m\u001b[0m\u001b[0m\n",
      "\u001b[1;31merror\u001b[0m: look-behind requires fixed-width pattern"
     ]
    }
   ],
   "source": [
    "re.search('(?<=((ab)|(b)))\\d{4}', 'ab1234')"
   ]
  },
  {
   "cell_type": "code",
   "execution_count": 13,
   "id": "dfe740ea",
   "metadata": {},
   "outputs": [
    {
     "ename": "AttributeError",
     "evalue": "module 're' has no attribute 'strip'",
     "output_type": "error",
     "traceback": [
      "\u001b[1;31m---------------------------------------------------------------------------\u001b[0m",
      "\u001b[1;31mAttributeError\u001b[0m                            Traceback (most recent call last)",
      "\u001b[1;32mC:\\Users\\AARONC~1\\AppData\\Local\\Temp/ipykernel_18176/3004769978.py\u001b[0m in \u001b[0;36m<module>\u001b[1;34m\u001b[0m\n\u001b[1;32m----> 1\u001b[1;33m \u001b[0mre\u001b[0m\u001b[1;33m.\u001b[0m\u001b[0mstrip\u001b[0m\u001b[1;33m(\u001b[0m\u001b[1;34m'(+91)|(91)|0'\u001b[0m\u001b[1;33m,\u001b[0m \u001b[1;34m'+915432'\u001b[0m\u001b[1;33m)\u001b[0m\u001b[1;33m\u001b[0m\u001b[1;33m\u001b[0m\u001b[0m\n\u001b[0m",
      "\u001b[1;31mAttributeError\u001b[0m: module 're' has no attribute 'strip'"
     ]
    }
   ],
   "source": [
    "re.strip('(+91)|(91)|0', '+915432')"
   ]
  },
  {
   "cell_type": "code",
   "execution_count": 14,
   "id": "b0f6c354",
   "metadata": {},
   "outputs": [
    {
     "data": {
      "text/plain": [
       "'5432'"
      ]
     },
     "execution_count": 14,
     "metadata": {},
     "output_type": "execute_result"
    }
   ],
   "source": [
    "'+915432'.strip('(+91)')"
   ]
  },
  {
   "cell_type": "code",
   "execution_count": 17,
   "id": "a4af5f19",
   "metadata": {},
   "outputs": [
    {
     "data": {
      "text/plain": [
       "'5432'"
      ]
     },
     "execution_count": 17,
     "metadata": {},
     "output_type": "execute_result"
    }
   ],
   "source": [
    "'+915432'.strip('(+91)|(91)|(0)')"
   ]
  },
  {
   "cell_type": "markdown",
   "id": "ca7d1bb3",
   "metadata": {},
   "source": [
    "# 입력코드 (1)"
   ]
  },
  {
   "cell_type": "code",
   "execution_count": null,
   "id": "e8c40362",
   "metadata": {},
   "outputs": [],
   "source": [
    "def wrapper(f):\n",
    "    def fun(l):\n",
    "        l = [numbers.strip('(+91)|(91)|(0)') \n",
    "                         for numbers in l]\n",
    "        target_numbers = [re.search('^(\\d{5})(\\d{5})$', \n",
    "                                      numbers).groups() for numbers in l]\n",
    "        l = ['+91 %s %s' % target_number for target_number in target_numbers]\n",
    "            return sort_phone\n",
    "    return fun\n",
    "\n",
    "@wrapper\n",
    "def sort_phone(l):\n",
    "    print(*sorted(l), sep='\\n')\n",
    "\n",
    "if __name__ == '__main__':\n",
    "    l = [input() for _ in range(int(input()))]\n",
    "    sort_phone(l) \n"
   ]
  },
  {
   "cell_type": "markdown",
   "id": "86fe3207",
   "metadata": {},
   "source": [
    "# 입력코드 (2)"
   ]
  },
  {
   "cell_type": "code",
   "execution_count": null,
   "id": "16d1b45e",
   "metadata": {},
   "outputs": [],
   "source": [
    "def wrapper(f):\n",
    "    def fun(l):\n",
    "        import re\n",
    "        l = [numbers.strip('(+91)|(91)|(0)') \n",
    "                         for numbers in l]\n",
    "        target_numbers = [re.search('^(\\d{5})(\\d{5})$', \n",
    "                                      numbers).groups() for numbers in l]\n",
    "        l = ['+91 %s %s' % target_number for target_number in target_numbers]\n",
    "            return sort_phone\n",
    "    return fun\n",
    "\n",
    "@wrapper\n",
    "def sort_phone(l):\n",
    "    print(*sorted(l), sep='\\n')\n",
    "\n",
    "if __name__ == '__main__':\n",
    "    l = [input() for _ in range(int(input()))]\n",
    "    sort_phone(l) \n"
   ]
  },
  {
   "cell_type": "markdown",
   "id": "afa90426",
   "metadata": {},
   "source": [
    "# 입력코드 (3)"
   ]
  },
  {
   "cell_type": "code",
   "execution_count": null,
   "id": "acc48321",
   "metadata": {},
   "outputs": [],
   "source": [
    "def wrapper(f):\n",
    "    def fun(l):\n",
    "        import re\n",
    "        l = [numbers.strip('(+91)|(91)|(0)') \n",
    "                         for numbers in l if len(numbers) != 10]\n",
    "        target_numbers = [re.search('^(\\d{5})(\\d{5})$', \n",
    "                                      numbers).groups() for numbers in l]\n",
    "        l = ['+91 %s %s' % target_number for target_number in target_numbers]\n",
    "            return sort_phone\n",
    "    return fun\n",
    "\n",
    "@wrapper\n",
    "def sort_phone(l):\n",
    "    print(*sorted(l), sep='\\n')\n",
    "\n",
    "if __name__ == '__main__':\n",
    "    l = [input() for _ in range(int(input()))]\n",
    "    sort_phone(l) \n"
   ]
  },
  {
   "cell_type": "code",
   "execution_count": 18,
   "id": "f1dc65c7",
   "metadata": {},
   "outputs": [],
   "source": [
    "def fun(l):\n",
    "    import re\n",
    "    l = [numbers.strip('(+91)|(91)|(0)') \n",
    "         for numbers in l if len(numbers) != 10]\n",
    "    target_numbers = [re.search('^(\\d{5})(\\d{5})$', numbers).groups() for numbers in l]\n",
    "    l = ['+91 %s %s' % target_number for target_number in target_numbers]\n"
   ]
  },
  {
   "cell_type": "code",
   "execution_count": 21,
   "id": "a8d09123",
   "metadata": {},
   "outputs": [],
   "source": [
    "L = ['07895462130', '919875641239', '9195969878']"
   ]
  },
  {
   "cell_type": "code",
   "execution_count": 22,
   "id": "c66c5217",
   "metadata": {},
   "outputs": [
    {
     "ename": "AttributeError",
     "evalue": "'NoneType' object has no attribute 'groups'",
     "output_type": "error",
     "traceback": [
      "\u001b[1;31m---------------------------------------------------------------------------\u001b[0m",
      "\u001b[1;31mAttributeError\u001b[0m                            Traceback (most recent call last)",
      "\u001b[1;32mC:\\Users\\AARONC~1\\AppData\\Local\\Temp/ipykernel_18176/3695246957.py\u001b[0m in \u001b[0;36m<module>\u001b[1;34m\u001b[0m\n\u001b[1;32m----> 1\u001b[1;33m \u001b[0mfun\u001b[0m\u001b[1;33m(\u001b[0m\u001b[0mL\u001b[0m\u001b[1;33m)\u001b[0m\u001b[1;33m\u001b[0m\u001b[1;33m\u001b[0m\u001b[0m\n\u001b[0m",
      "\u001b[1;32mC:\\Users\\AARONC~1\\AppData\\Local\\Temp/ipykernel_18176/465756833.py\u001b[0m in \u001b[0;36mfun\u001b[1;34m(l)\u001b[0m\n\u001b[0;32m      3\u001b[0m     l = [numbers.strip('(+91)|(91)|(0)') \n\u001b[0;32m      4\u001b[0m          for numbers in l if len(numbers) != 10]\n\u001b[1;32m----> 5\u001b[1;33m     \u001b[0mtarget_numbers\u001b[0m \u001b[1;33m=\u001b[0m \u001b[1;33m[\u001b[0m\u001b[0mre\u001b[0m\u001b[1;33m.\u001b[0m\u001b[0msearch\u001b[0m\u001b[1;33m(\u001b[0m\u001b[1;34m'^(\\d{5})(\\d{5})$'\u001b[0m\u001b[1;33m,\u001b[0m \u001b[0mnumbers\u001b[0m\u001b[1;33m)\u001b[0m\u001b[1;33m.\u001b[0m\u001b[0mgroups\u001b[0m\u001b[1;33m(\u001b[0m\u001b[1;33m)\u001b[0m \u001b[1;32mfor\u001b[0m \u001b[0mnumbers\u001b[0m \u001b[1;32min\u001b[0m \u001b[0ml\u001b[0m\u001b[1;33m]\u001b[0m\u001b[1;33m\u001b[0m\u001b[1;33m\u001b[0m\u001b[0m\n\u001b[0m\u001b[0;32m      6\u001b[0m     \u001b[0ml\u001b[0m \u001b[1;33m=\u001b[0m \u001b[1;33m[\u001b[0m\u001b[1;34m'+91 %s %s'\u001b[0m \u001b[1;33m%\u001b[0m \u001b[0mtarget_number\u001b[0m \u001b[1;32mfor\u001b[0m \u001b[0mtarget_number\u001b[0m \u001b[1;32min\u001b[0m \u001b[0mtarget_numbers\u001b[0m\u001b[1;33m]\u001b[0m\u001b[1;33m\u001b[0m\u001b[1;33m\u001b[0m\u001b[0m\n",
      "\u001b[1;32mC:\\Users\\AARONC~1\\AppData\\Local\\Temp/ipykernel_18176/465756833.py\u001b[0m in \u001b[0;36m<listcomp>\u001b[1;34m(.0)\u001b[0m\n\u001b[0;32m      3\u001b[0m     l = [numbers.strip('(+91)|(91)|(0)') \n\u001b[0;32m      4\u001b[0m          for numbers in l if len(numbers) != 10]\n\u001b[1;32m----> 5\u001b[1;33m     \u001b[0mtarget_numbers\u001b[0m \u001b[1;33m=\u001b[0m \u001b[1;33m[\u001b[0m\u001b[0mre\u001b[0m\u001b[1;33m.\u001b[0m\u001b[0msearch\u001b[0m\u001b[1;33m(\u001b[0m\u001b[1;34m'^(\\d{5})(\\d{5})$'\u001b[0m\u001b[1;33m,\u001b[0m \u001b[0mnumbers\u001b[0m\u001b[1;33m)\u001b[0m\u001b[1;33m.\u001b[0m\u001b[0mgroups\u001b[0m\u001b[1;33m(\u001b[0m\u001b[1;33m)\u001b[0m \u001b[1;32mfor\u001b[0m \u001b[0mnumbers\u001b[0m \u001b[1;32min\u001b[0m \u001b[0ml\u001b[0m\u001b[1;33m]\u001b[0m\u001b[1;33m\u001b[0m\u001b[1;33m\u001b[0m\u001b[0m\n\u001b[0m\u001b[0;32m      6\u001b[0m     \u001b[0ml\u001b[0m \u001b[1;33m=\u001b[0m \u001b[1;33m[\u001b[0m\u001b[1;34m'+91 %s %s'\u001b[0m \u001b[1;33m%\u001b[0m \u001b[0mtarget_number\u001b[0m \u001b[1;32mfor\u001b[0m \u001b[0mtarget_number\u001b[0m \u001b[1;32min\u001b[0m \u001b[0mtarget_numbers\u001b[0m\u001b[1;33m]\u001b[0m\u001b[1;33m\u001b[0m\u001b[1;33m\u001b[0m\u001b[0m\n",
      "\u001b[1;31mAttributeError\u001b[0m: 'NoneType' object has no attribute 'groups'"
     ]
    }
   ],
   "source": [
    "fun(L)"
   ]
  },
  {
   "cell_type": "code",
   "execution_count": 32,
   "id": "00726917",
   "metadata": {},
   "outputs": [],
   "source": [
    "def what(l):\n",
    "    import re\n",
    "    print(numbers.strip('(+91)|(91)|(0)') \n",
    "         for numbers in l if len(numbers) != 10)"
   ]
  },
  {
   "cell_type": "code",
   "execution_count": 33,
   "id": "364188a9",
   "metadata": {},
   "outputs": [
    {
     "name": "stdout",
     "output_type": "stream",
     "text": [
      "<generator object what.<locals>.<genexpr> at 0x00000197C16E9510>\n"
     ]
    }
   ],
   "source": [
    "what(L)"
   ]
  },
  {
   "cell_type": "code",
   "execution_count": 34,
   "id": "bb74b97e",
   "metadata": {},
   "outputs": [],
   "source": [
    "def what(l):\n",
    "    import re\n",
    "    List = [numbers.strip('(+91)|(91)|(0)') \n",
    "         for numbers in l if len(numbers) != 10]\n",
    "    print(List)"
   ]
  },
  {
   "cell_type": "code",
   "execution_count": 35,
   "id": "1dc41e32",
   "metadata": {},
   "outputs": [
    {
     "name": "stdout",
     "output_type": "stream",
     "text": [
      "['789546213', '87564123']\n"
     ]
    }
   ],
   "source": [
    "what(L)"
   ]
  },
  {
   "cell_type": "code",
   "execution_count": 36,
   "id": "f50c0c7d",
   "metadata": {},
   "outputs": [
    {
     "data": {
      "text/plain": [
       "['07895462130', '919875641239', '9195969878']"
      ]
     },
     "execution_count": 36,
     "metadata": {},
     "output_type": "execute_result"
    }
   ],
   "source": [
    "L"
   ]
  },
  {
   "cell_type": "code",
   "execution_count": 39,
   "id": "664a4455",
   "metadata": {},
   "outputs": [],
   "source": [
    "def what(l):\n",
    "    import re\n",
    "    List = [numbers.strip('(+91)|(91)|(0)') if len(numbers) != 10 else numbers\n",
    "         for numbers in l  ]\n",
    "    print(List)"
   ]
  },
  {
   "cell_type": "code",
   "execution_count": 40,
   "id": "deee151e",
   "metadata": {},
   "outputs": [
    {
     "name": "stdout",
     "output_type": "stream",
     "text": [
      "['789546213', '87564123', '9195969878']\n"
     ]
    }
   ],
   "source": [
    "what(L)"
   ]
  },
  {
   "cell_type": "markdown",
   "id": "88ec643f",
   "metadata": {},
   "source": [
    "# 입력코드 (4)"
   ]
  },
  {
   "cell_type": "code",
   "execution_count": null,
   "id": "7bdc6116",
   "metadata": {},
   "outputs": [],
   "source": [
    "def wrapper(f):\n",
    "    def fun(l):\n",
    "        import re\n",
    "        target_numbers = [numbers.strip('(+91)|(91)|(0)') if len(numbers) != 10 else numbers for numbers in l ]\n",
    "        target_numbers = [re.search('^(\\d{5})(\\d{5})$', \n",
    "                                      numbers).groups() for target_number in target_numbers]\n",
    "        l = ['+91 %s %s' % target_number for target_number in target_numbers]\n",
    "            return sort_phone\n",
    "    return fun\n",
    "\n",
    "@wrapper\n",
    "def sort_phone(l):\n",
    "    print(*sorted(l), sep='\\n')\n",
    "\n",
    "if __name__ == '__main__':\n",
    "    l = [input() for _ in range(int(input()))]\n",
    "    sort_phone(l) \n"
   ]
  },
  {
   "cell_type": "markdown",
   "id": "cf652960",
   "metadata": {},
   "source": [
    "# 입력코드 (5)"
   ]
  },
  {
   "cell_type": "code",
   "execution_count": null,
   "id": "dd2dd1d4",
   "metadata": {},
   "outputs": [],
   "source": [
    "def wrapper(f):\n",
    "    def fun(l):\n",
    "        import re\n",
    "        target_numbers = [numbers.strip('(+91)|(91)|(0)') if len(numbers) != 10 else numbers for numbers in l ]\n",
    "        target_numbers = [re.search('^(\\d{5})(\\d{5})$', \n",
    "                                      target_number).groups() for target_number in target_numbers]\n",
    "        l = ['+91 %s %s' % target_number for target_number in target_numbers]\n",
    "            return sort_phone\n",
    "    return fun\n",
    "\n",
    "@wrapper\n",
    "def sort_phone(l):\n",
    "    print(*sorted(l), sep='\\n')\n",
    "\n",
    "if __name__ == '__main__':\n",
    "    l = [input() for _ in range(int(input()))]\n",
    "    sort_phone(l) \n"
   ]
  },
  {
   "cell_type": "code",
   "execution_count": null,
   "id": "ec543bfa",
   "metadata": {},
   "outputs": [],
   "source": [
    "    def fun(l):\n",
    "        import re\n",
    "        target_numbers = [numbers.strip('(+91)|(91)|(0)') if len(numbers) != 10 else numbers for numbers in l ]\n",
    "        print(target_numbers)"
   ]
  },
  {
   "cell_type": "markdown",
   "id": "6ce873ea",
   "metadata": {},
   "source": [
    "# 입력코드 (6)"
   ]
  },
  {
   "cell_type": "code",
   "execution_count": null,
   "id": "e81121f3",
   "metadata": {},
   "outputs": [],
   "source": [
    "def wrapper(f):\n",
    "    def fun(l):\n",
    "        import re\n",
    "        target_numbers = [numbers.lstrip('(+91)|(91)|(0)', 1) if len(numbers) != 10 else numbers for numbers in l ]\n",
    "        target_numbers = [re.search('^(\\d{5})(\\d{5})$', \n",
    "                                      target_number).groups() for target_number in target_numbers]\n",
    "        l = ['+91 %s %s' % target_number for target_number in target_numbers]\n",
    "            return sort_phone\n",
    "    return fun\n",
    "\n",
    "@wrapper\n",
    "def sort_phone(l):\n",
    "    print(*sorted(l), sep='\\n')\n",
    "\n",
    "if __name__ == '__main__':\n",
    "    l = [input() for _ in range(int(input()))]\n",
    "    sort_phone(l) \n"
   ]
  },
  {
   "cell_type": "code",
   "execution_count": 41,
   "id": "4ae35b30",
   "metadata": {},
   "outputs": [
    {
     "ename": "TypeError",
     "evalue": "lstrip expected at most 1 argument, got 2",
     "output_type": "error",
     "traceback": [
      "\u001b[1;31m---------------------------------------------------------------------------\u001b[0m",
      "\u001b[1;31mTypeError\u001b[0m                                 Traceback (most recent call last)",
      "\u001b[1;32mC:\\Users\\AARONC~1\\AppData\\Local\\Temp/ipykernel_18176/2228417557.py\u001b[0m in \u001b[0;36m<module>\u001b[1;34m\u001b[0m\n\u001b[1;32m----> 1\u001b[1;33m \u001b[1;34m'123456'\u001b[0m\u001b[1;33m.\u001b[0m\u001b[0mlstrip\u001b[0m\u001b[1;33m(\u001b[0m\u001b[1;34m'1|2'\u001b[0m\u001b[1;33m,\u001b[0m \u001b[1;36m1\u001b[0m\u001b[1;33m)\u001b[0m\u001b[1;33m\u001b[0m\u001b[1;33m\u001b[0m\u001b[0m\n\u001b[0m",
      "\u001b[1;31mTypeError\u001b[0m: lstrip expected at most 1 argument, got 2"
     ]
    }
   ],
   "source": [
    "'123456'.lstrip('1|2', 1)"
   ]
  },
  {
   "cell_type": "code",
   "execution_count": null,
   "id": "15846dcb",
   "metadata": {},
   "outputs": [],
   "source": [
    "    def fun(l):\n",
    "        import re\n",
    "        target_numbers = [re.sub('^((+91)|(91)|(0))', '', numbers) if len(numbers) != 10 else numbers for numbers in l ]\n",
    "        target_numbers = [re.search('^(\\d{5})(\\d{5})$', \n",
    "                                      target_number).groups() for target_number in target_numbers]\n",
    "        l = ['+91 %s %s' % target_number for target_number in target_numbers]\n",
    "        return sort_phone"
   ]
  }
 ],
 "metadata": {
  "kernelspec": {
   "display_name": "Python 3 (ipykernel)",
   "language": "python",
   "name": "python3"
  },
  "language_info": {
   "codemirror_mode": {
    "name": "ipython",
    "version": 3
   },
   "file_extension": ".py",
   "mimetype": "text/x-python",
   "name": "python",
   "nbconvert_exporter": "python",
   "pygments_lexer": "ipython3",
   "version": "3.9.7"
  }
 },
 "nbformat": 4,
 "nbformat_minor": 5
}
