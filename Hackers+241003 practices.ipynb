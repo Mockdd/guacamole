{
 "cells": [
  {
   "cell_type": "code",
   "execution_count": 1,
   "id": "ef8439b8",
   "metadata": {},
   "outputs": [],
   "source": [
    "import collections"
   ]
  },
  {
   "cell_type": "code",
   "execution_count": 2,
   "id": "47044d81",
   "metadata": {},
   "outputs": [],
   "source": [
    "Point = collections.namedtuple('Point', 'x, y')"
   ]
  },
  {
   "cell_type": "code",
   "execution_count": 3,
   "id": "f2e19f5c",
   "metadata": {},
   "outputs": [
    {
     "data": {
      "text/plain": [
       "__main__.Point"
      ]
     },
     "execution_count": 3,
     "metadata": {},
     "output_type": "execute_result"
    }
   ],
   "source": [
    "Point"
   ]
  },
  {
   "cell_type": "code",
   "execution_count": 4,
   "id": "f65bf0e3",
   "metadata": {},
   "outputs": [
    {
     "data": {
      "text/plain": [
       "type"
      ]
     },
     "execution_count": 4,
     "metadata": {},
     "output_type": "execute_result"
    }
   ],
   "source": [
    "type(Point)"
   ]
  },
  {
   "cell_type": "code",
   "execution_count": 5,
   "id": "3e92eb40",
   "metadata": {},
   "outputs": [
    {
     "ename": "TypeError",
     "evalue": "<lambda>() missing 2 required positional arguments: 'x' and 'y'",
     "output_type": "error",
     "traceback": [
      "\u001b[1;31m---------------------------------------------------------------------------\u001b[0m",
      "\u001b[1;31mTypeError\u001b[0m                                 Traceback (most recent call last)",
      "\u001b[1;32mC:\\Users\\AARONC~1\\AppData\\Local\\Temp/ipykernel_24080/2195463117.py\u001b[0m in \u001b[0;36m<module>\u001b[1;34m\u001b[0m\n\u001b[1;32m----> 1\u001b[1;33m \u001b[0mPoint\u001b[0m\u001b[1;33m(\u001b[0m\u001b[1;33m)\u001b[0m\u001b[1;33m\u001b[0m\u001b[1;33m\u001b[0m\u001b[0m\n\u001b[0m",
      "\u001b[1;31mTypeError\u001b[0m: <lambda>() missing 2 required positional arguments: 'x' and 'y'"
     ]
    }
   ],
   "source": [
    "Point()"
   ]
  },
  {
   "cell_type": "code",
   "execution_count": 6,
   "id": "bb6bc1d5",
   "metadata": {},
   "outputs": [
    {
     "data": {
      "text/plain": [
       "Point(x=1, y=2)"
      ]
     },
     "execution_count": 6,
     "metadata": {},
     "output_type": "execute_result"
    }
   ],
   "source": [
    "Point(1, 2)"
   ]
  },
  {
   "cell_type": "code",
   "execution_count": 7,
   "id": "ff4b7019",
   "metadata": {},
   "outputs": [
    {
     "ename": "ValueError",
     "evalue": "Type names and field names must be valid identifiers: '1'",
     "output_type": "error",
     "traceback": [
      "\u001b[1;31m---------------------------------------------------------------------------\u001b[0m",
      "\u001b[1;31mValueError\u001b[0m                                Traceback (most recent call last)",
      "\u001b[1;32mC:\\Users\\AARONC~1\\AppData\\Local\\Temp/ipykernel_24080/3083178605.py\u001b[0m in \u001b[0;36m<module>\u001b[1;34m\u001b[0m\n\u001b[1;32m----> 1\u001b[1;33m \u001b[0mPoint1\u001b[0m \u001b[1;33m=\u001b[0m \u001b[0mcollections\u001b[0m\u001b[1;33m.\u001b[0m\u001b[0mnamedtuple\u001b[0m\u001b[1;33m(\u001b[0m\u001b[1;34m'Point'\u001b[0m\u001b[1;33m,\u001b[0m \u001b[1;33m[\u001b[0m\u001b[1;36m1\u001b[0m\u001b[1;33m,\u001b[0m \u001b[1;36m2\u001b[0m\u001b[1;33m]\u001b[0m\u001b[1;33m)\u001b[0m\u001b[1;33m\u001b[0m\u001b[1;33m\u001b[0m\u001b[0m\n\u001b[0m",
      "\u001b[1;32m~\\AppData\\Local\\Programs\\Python\\Python39\\lib\\collections\\__init__.py\u001b[0m in \u001b[0;36mnamedtuple\u001b[1;34m(typename, field_names, rename, defaults, module)\u001b[0m\n\u001b[0;32m    388\u001b[0m             \u001b[1;32mraise\u001b[0m \u001b[0mTypeError\u001b[0m\u001b[1;33m(\u001b[0m\u001b[1;34m'Type names and field names must be strings'\u001b[0m\u001b[1;33m)\u001b[0m\u001b[1;33m\u001b[0m\u001b[1;33m\u001b[0m\u001b[0m\n\u001b[0;32m    389\u001b[0m         \u001b[1;32mif\u001b[0m \u001b[1;32mnot\u001b[0m \u001b[0mname\u001b[0m\u001b[1;33m.\u001b[0m\u001b[0misidentifier\u001b[0m\u001b[1;33m(\u001b[0m\u001b[1;33m)\u001b[0m\u001b[1;33m:\u001b[0m\u001b[1;33m\u001b[0m\u001b[1;33m\u001b[0m\u001b[0m\n\u001b[1;32m--> 390\u001b[1;33m             raise ValueError('Type names and field names must be valid '\n\u001b[0m\u001b[0;32m    391\u001b[0m                              f'identifiers: {name!r}')\n\u001b[0;32m    392\u001b[0m         \u001b[1;32mif\u001b[0m \u001b[0m_iskeyword\u001b[0m\u001b[1;33m(\u001b[0m\u001b[0mname\u001b[0m\u001b[1;33m)\u001b[0m\u001b[1;33m:\u001b[0m\u001b[1;33m\u001b[0m\u001b[1;33m\u001b[0m\u001b[0m\n",
      "\u001b[1;31mValueError\u001b[0m: Type names and field names must be valid identifiers: '1'"
     ]
    }
   ],
   "source": [
    "Point1 = collections.namedtuple('Point', [1, 2])"
   ]
  },
  {
   "cell_type": "code",
   "execution_count": 8,
   "id": "a8f2fdd1",
   "metadata": {},
   "outputs": [],
   "source": [
    "Point1 = collections.namedtuple('Point', 'xy')"
   ]
  },
  {
   "cell_type": "code",
   "execution_count": 9,
   "id": "2a63d8c8",
   "metadata": {},
   "outputs": [
    {
     "data": {
      "text/plain": [
       "Point(xy=1)"
      ]
     },
     "execution_count": 9,
     "metadata": {},
     "output_type": "execute_result"
    }
   ],
   "source": [
    "Point1(1)"
   ]
  },
  {
   "cell_type": "code",
   "execution_count": 10,
   "id": "1d598ae2",
   "metadata": {},
   "outputs": [],
   "source": [
    "Point1 = collections.namedtuple('Point', ['xy', 'z'])"
   ]
  },
  {
   "cell_type": "code",
   "execution_count": 11,
   "id": "7c66b6ad",
   "metadata": {},
   "outputs": [
    {
     "ename": "TypeError",
     "evalue": "<lambda>() missing 1 required positional argument: 'y'",
     "output_type": "error",
     "traceback": [
      "\u001b[1;31m---------------------------------------------------------------------------\u001b[0m",
      "\u001b[1;31mTypeError\u001b[0m                                 Traceback (most recent call last)",
      "\u001b[1;32mC:\\Users\\AARONC~1\\AppData\\Local\\Temp/ipykernel_24080/2541253862.py\u001b[0m in \u001b[0;36m<module>\u001b[1;34m\u001b[0m\n\u001b[1;32m----> 1\u001b[1;33m \u001b[0mPoint\u001b[0m\u001b[1;33m(\u001b[0m\u001b[1;36m1\u001b[0m\u001b[1;33m)\u001b[0m\u001b[1;33m\u001b[0m\u001b[1;33m\u001b[0m\u001b[0m\n\u001b[0m",
      "\u001b[1;31mTypeError\u001b[0m: <lambda>() missing 1 required positional argument: 'y'"
     ]
    }
   ],
   "source": [
    "Point(1)"
   ]
  },
  {
   "cell_type": "code",
   "execution_count": 13,
   "id": "ec96e055",
   "metadata": {},
   "outputs": [
    {
     "data": {
      "text/plain": [
       "Point(xy=1, z=3)"
      ]
     },
     "execution_count": 13,
     "metadata": {},
     "output_type": "execute_result"
    }
   ],
   "source": [
    "Point1(1, 3)"
   ]
  },
  {
   "cell_type": "code",
   "execution_count": 17,
   "id": "22998faf",
   "metadata": {},
   "outputs": [],
   "source": [
    "Point1 = collections.namedtuple('Apple', ('xy', 'z'))"
   ]
  },
  {
   "cell_type": "code",
   "execution_count": 18,
   "id": "dd043129",
   "metadata": {},
   "outputs": [
    {
     "data": {
      "text/plain": [
       "Apple(xy=5, z=5)"
      ]
     },
     "execution_count": 18,
     "metadata": {},
     "output_type": "execute_result"
    }
   ],
   "source": [
    "Point1(5, 5)"
   ]
  },
  {
   "cell_type": "code",
   "execution_count": 16,
   "id": "a7db926e",
   "metadata": {},
   "outputs": [
    {
     "data": {
      "text/plain": [
       "__main__.Point"
      ]
     },
     "execution_count": 16,
     "metadata": {},
     "output_type": "execute_result"
    }
   ],
   "source": [
    "type(Point1(5, 5))"
   ]
  },
  {
   "cell_type": "code",
   "execution_count": 20,
   "id": "aa38d97f",
   "metadata": {},
   "outputs": [],
   "source": [
    "pt1 = Point(1, 2)\n",
    "pt2 = Point(3, 4)"
   ]
  },
  {
   "cell_type": "code",
   "execution_count": 21,
   "id": "97d868f1",
   "metadata": {},
   "outputs": [],
   "source": [
    "dot_product = (pt1.x*pt2.x) + (pt1.y*pt2.y)"
   ]
  },
  {
   "cell_type": "code",
   "execution_count": 22,
   "id": "e0e7a335",
   "metadata": {},
   "outputs": [
    {
     "data": {
      "text/plain": [
       "11"
      ]
     },
     "execution_count": 22,
     "metadata": {},
     "output_type": "execute_result"
    }
   ],
   "source": [
    "dot_product"
   ]
  },
  {
   "cell_type": "code",
   "execution_count": 23,
   "id": "bb2857e6",
   "metadata": {},
   "outputs": [],
   "source": [
    "Car = collections.namedtuple('Car', 'Price Mileage Colour Class')"
   ]
  },
  {
   "cell_type": "code",
   "execution_count": 24,
   "id": "29943f15",
   "metadata": {},
   "outputs": [],
   "source": [
    "xyz = Car(Price = 100000, Mileage = 30, Colour = 'Cyan', Class = 'Y')\n"
   ]
  },
  {
   "cell_type": "code",
   "execution_count": 25,
   "id": "2adb4ca7",
   "metadata": {},
   "outputs": [
    {
     "data": {
      "text/plain": [
       "Car(Price=100000, Mileage=30, Colour='Cyan', Class='Y')"
      ]
     },
     "execution_count": 25,
     "metadata": {},
     "output_type": "execute_result"
    }
   ],
   "source": [
    "xyz"
   ]
  },
  {
   "cell_type": "code",
   "execution_count": 26,
   "id": "b21b1c16",
   "metadata": {},
   "outputs": [
    {
     "name": "stdout",
     "output_type": "stream",
     "text": [
      "Car(Price=100000, Mileage=30, Colour='Cyan', Class='Y')\n"
     ]
    }
   ],
   "source": [
    "print(xyz)"
   ]
  },
  {
   "cell_type": "code",
   "execution_count": 27,
   "id": "4c95c1b7",
   "metadata": {},
   "outputs": [
    {
     "name": "stdout",
     "output_type": "stream",
     "text": [
      "Y\n"
     ]
    }
   ],
   "source": [
    "print(xyz.Class)"
   ]
  },
  {
   "cell_type": "code",
   "execution_count": 28,
   "id": "832e9292",
   "metadata": {},
   "outputs": [
    {
     "data": {
      "text/plain": [
       "__main__.Point"
      ]
     },
     "execution_count": 28,
     "metadata": {},
     "output_type": "execute_result"
    }
   ],
   "source": [
    "Point"
   ]
  },
  {
   "cell_type": "code",
   "execution_count": 29,
   "id": "3f2ebe5c",
   "metadata": {
    "scrolled": true
   },
   "outputs": [
    {
     "data": {
      "text/plain": [
       "Point(x=1, y=2)"
      ]
     },
     "execution_count": 29,
     "metadata": {},
     "output_type": "execute_result"
    }
   ],
   "source": [
    "pt1"
   ]
  },
  {
   "cell_type": "code",
   "execution_count": 32,
   "id": "a5d77b58",
   "metadata": {},
   "outputs": [
    {
     "ename": "SyntaxError",
     "evalue": "invalid syntax (Temp/ipykernel_24080/56164746.py, line 1)",
     "output_type": "error",
     "traceback": [
      "\u001b[1;36m  File \u001b[1;32m\"C:\\Users\\AARONC~1\\AppData\\Local\\Temp/ipykernel_24080/56164746.py\"\u001b[1;36m, line \u001b[1;32m1\u001b[0m\n\u001b[1;33m    pt1.class\u001b[0m\n\u001b[1;37m        ^\u001b[0m\n\u001b[1;31mSyntaxError\u001b[0m\u001b[1;31m:\u001b[0m invalid syntax\n"
     ]
    }
   ],
   "source": [
    "pt1.class"
   ]
  },
  {
   "cell_type": "code",
   "execution_count": 35,
   "id": "8a451647",
   "metadata": {},
   "outputs": [
    {
     "data": {
      "text/plain": [
       "('x', 'y')"
      ]
     },
     "execution_count": 35,
     "metadata": {},
     "output_type": "execute_result"
    }
   ],
   "source": [
    "pt1._fields"
   ]
  },
  {
   "cell_type": "code",
   "execution_count": 36,
   "id": "3b81b7a3",
   "metadata": {},
   "outputs": [
    {
     "data": {
      "text/plain": [
       "'x'"
      ]
     },
     "execution_count": 36,
     "metadata": {},
     "output_type": "execute_result"
    }
   ],
   "source": [
    "pt1._fields[0]"
   ]
  },
  {
   "cell_type": "code",
   "execution_count": 40,
   "id": "fd266cdf",
   "metadata": {},
   "outputs": [
    {
     "data": {
      "text/plain": [
       "0"
      ]
     },
     "execution_count": 40,
     "metadata": {},
     "output_type": "execute_result"
    }
   ],
   "source": [
    "list(pt1._fields).index('x')"
   ]
  },
  {
   "cell_type": "code",
   "execution_count": 42,
   "id": "55192aa0",
   "metadata": {},
   "outputs": [
    {
     "data": {
      "text/plain": [
       "0"
      ]
     },
     "execution_count": 42,
     "metadata": {},
     "output_type": "execute_result"
    }
   ],
   "source": [
    "Point._fields.index('x')"
   ]
  },
  {
   "cell_type": "code",
   "execution_count": 43,
   "id": "a92be5f6",
   "metadata": {},
   "outputs": [],
   "source": [
    "Calculator = collections.namedtuple('Calculator', 'MARKS NAME GRADE PART'.split())"
   ]
  },
  {
   "cell_type": "code",
   "execution_count": 47,
   "id": "b9219c80",
   "metadata": {},
   "outputs": [
    {
     "ename": "ValueError",
     "evalue": "not enough values to unpack (expected 4, got 1)",
     "output_type": "error",
     "traceback": [
      "\u001b[1;31m---------------------------------------------------------------------------\u001b[0m",
      "\u001b[1;31mValueError\u001b[0m                                Traceback (most recent call last)",
      "\u001b[1;32mC:\\Users\\AARONC~1\\AppData\\Local\\Temp/ipykernel_24080/3749849053.py\u001b[0m in \u001b[0;36m<module>\u001b[1;34m\u001b[0m\n\u001b[1;32m----> 1\u001b[1;33m \u001b[0mLines\u001b[0m \u001b[1;33m=\u001b[0m \u001b[0mCalculator\u001b[0m\u001b[1;33m(\u001b[0m\u001b[1;33m[\u001b[0m\u001b[1;33m[\u001b[0m\u001b[0mx\u001b[0m\u001b[1;33m,\u001b[0m \u001b[0my\u001b[0m\u001b[1;33m,\u001b[0m \u001b[0mz\u001b[0m\u001b[1;33m,\u001b[0m \u001b[0mw\u001b[0m\u001b[1;33m]\u001b[0m \u001b[1;32mfor\u001b[0m \u001b[0mx\u001b[0m\u001b[1;33m,\u001b[0m \u001b[0my\u001b[0m\u001b[1;33m,\u001b[0m \u001b[0mz\u001b[0m\u001b[1;33m,\u001b[0m \u001b[0mw\u001b[0m \u001b[1;32min\u001b[0m \u001b[1;34m'3 4 5 6'\u001b[0m\u001b[1;33m.\u001b[0m\u001b[0msplit\u001b[0m\u001b[1;33m(\u001b[0m\u001b[1;33m)\u001b[0m\u001b[1;33m]\u001b[0m\u001b[1;33m)\u001b[0m\u001b[1;33m\u001b[0m\u001b[1;33m\u001b[0m\u001b[0m\n\u001b[0m",
      "\u001b[1;32mC:\\Users\\AARONC~1\\AppData\\Local\\Temp/ipykernel_24080/3749849053.py\u001b[0m in \u001b[0;36m<listcomp>\u001b[1;34m(.0)\u001b[0m\n\u001b[1;32m----> 1\u001b[1;33m \u001b[0mLines\u001b[0m \u001b[1;33m=\u001b[0m \u001b[0mCalculator\u001b[0m\u001b[1;33m(\u001b[0m\u001b[1;33m[\u001b[0m\u001b[1;33m[\u001b[0m\u001b[0mx\u001b[0m\u001b[1;33m,\u001b[0m \u001b[0my\u001b[0m\u001b[1;33m,\u001b[0m \u001b[0mz\u001b[0m\u001b[1;33m,\u001b[0m \u001b[0mw\u001b[0m\u001b[1;33m]\u001b[0m \u001b[1;32mfor\u001b[0m \u001b[0mx\u001b[0m\u001b[1;33m,\u001b[0m \u001b[0my\u001b[0m\u001b[1;33m,\u001b[0m \u001b[0mz\u001b[0m\u001b[1;33m,\u001b[0m \u001b[0mw\u001b[0m \u001b[1;32min\u001b[0m \u001b[1;34m'3 4 5 6'\u001b[0m\u001b[1;33m.\u001b[0m\u001b[0msplit\u001b[0m\u001b[1;33m(\u001b[0m\u001b[1;33m)\u001b[0m\u001b[1;33m]\u001b[0m\u001b[1;33m)\u001b[0m\u001b[1;33m\u001b[0m\u001b[1;33m\u001b[0m\u001b[0m\n\u001b[0m",
      "\u001b[1;31mValueError\u001b[0m: not enough values to unpack (expected 4, got 1)"
     ]
    }
   ],
   "source": [
    "Lines = Calculator([[x, y, z, w] for x, y, z, w in '3 4 5 6'.split()])"
   ]
  },
  {
   "cell_type": "code",
   "execution_count": null,
   "id": "f1f9a2bd",
   "metadata": {},
   "outputs": [],
   "source": [
    "import collections\n",
    "\n",
    "N = input(), Calculator = collections.namedtuple('Calculator', input().split())\n",
    "n = Calculator._fields.index('MARKS')\n",
    "marks = [int(mark) for mark in input().split()[n] for _ in N]\n",
    "print(f'{{sum(marks)} / N:.2f}')"
   ]
  },
  {
   "cell_type": "markdown",
   "id": "773be8c0",
   "metadata": {},
   "source": [
    "### 음? sum(marks)할 떄도 중괄호 하나만 쓰면 된다"
   ]
  },
  {
   "cell_type": "markdown",
   "id": "598be2ef",
   "metadata": {},
   "source": [
    "[int(mark) for mark in input().split()[n] for _ in N]\n",
    "### 꼭 for mark in input()~ 이 필요했었나?\n",
    "### 바로 indexing해서 comprehension 안에 넣을 수는 없었나?\n",
    "\n",
    "### 일단 marks = 에서 int is not iterable object라는 TypeError 오류가 나온다\n",
    "> 미친 ~ for _ in range(N)\n",
    "### 한꺼번에 여러 개 변수 지정 어떻게 했었지? ^^"
   ]
  },
  {
   "cell_type": "code",
   "execution_count": null,
   "id": "20afb973",
   "metadata": {},
   "outputs": [],
   "source": [
    "import collectios\n",
    "\n",
    "N = int(input()), Calculator = collections.namedtuple('Calculator', input().split())\n",
    "lines = [input().split() for _ in range(N)]\n",
    "Lines = Calculator(x, y, z, w for x, y, z, w in lines)\n",
    "print(f'{{sum(Lines.MARK)}/N:.2f}')"
   ]
  },
  {
   "cell_type": "code",
   "execution_count": null,
   "id": "9135fc59",
   "metadata": {},
   "outputs": [],
   "source": [
    "import collections\n",
    "\n",
    "N, Calculator = int(input()), collections.namedtuple('Calculator', input().split())\n",
    "n = Calculator._fields.index('MARKS')\n",
    "marks = [int(input().split()[n]) for _ in range(N)]\n",
    "print(f'{sum(marks) / N:.2f}')"
   ]
  },
  {
   "cell_type": "code",
   "execution_count": null,
   "id": "dcb7f7a4",
   "metadata": {},
   "outputs": [],
   "source": [
    "### 예시답안 \n",
    "N = int(input())\n",
    "fields = input().split()\n",
    "\n",
    "total = 0\n",
    "for i in range(N):\n",
    "    students = namedtuple('student', fields)\n",
    "    field1, field2, field3, field4 = input().split()\n",
    "    student = students(field1, field2, field3, field4)\n",
    "    total += int(student.MARKS)\n",
    "print('{:.2f}'.format(total/N))"
   ]
  },
  {
   "cell_type": "markdown",
   "id": "b2780e7a",
   "metadata": {},
   "source": [
    "from collections import namedtuple\n",
    "n = int(input())\n",
    "a = input()\n",
    "total = 0\n",
    "\n",
    "Student = namedtuple('Student', a)\n",
    "for _ in range(n):\n",
    "    student = Student(*input().split())\n",
    "    total += int(student.MARKS)\n",
    "print('{:.2f}.format(total/n)')"
   ]
  },
  {
   "cell_type": "markdown",
   "id": "a4cd7962",
   "metadata": {},
   "source": [
    "- collections.OrderedDict"
   ]
  },
  {
   "cell_type": "code",
   "execution_count": 48,
   "id": "e1d7e4f5",
   "metadata": {},
   "outputs": [],
   "source": [
    "from collections import OrderedDict"
   ]
  },
  {
   "cell_type": "code",
   "execution_count": 50,
   "id": "74e6b370",
   "metadata": {},
   "outputs": [],
   "source": [
    "ordinary_dictionary = {}\n",
    "for i in 'abcde':\n",
    "    for j in range(1, 6):\n",
    "        ordinary_dictionary[i] = j"
   ]
  },
  {
   "cell_type": "code",
   "execution_count": 51,
   "id": "f62331ad",
   "metadata": {},
   "outputs": [
    {
     "data": {
      "text/plain": [
       "{'a': 5, 'b': 5, 'c': 5, 'd': 5, 'e': 5}"
      ]
     },
     "execution_count": 51,
     "metadata": {},
     "output_type": "execute_result"
    }
   ],
   "source": [
    "ordinary_dictionary"
   ]
  },
  {
   "cell_type": "code",
   "execution_count": 52,
   "id": "6875432d",
   "metadata": {},
   "outputs": [
    {
     "ename": "ValueError",
     "evalue": "too many values to unpack (expected 2)",
     "output_type": "error",
     "traceback": [
      "\u001b[1;31m---------------------------------------------------------------------------\u001b[0m",
      "\u001b[1;31mValueError\u001b[0m                                Traceback (most recent call last)",
      "\u001b[1;32mC:\\Users\\AARONC~1\\AppData\\Local\\Temp/ipykernel_24080/1629317707.py\u001b[0m in \u001b[0;36m<module>\u001b[1;34m\u001b[0m\n\u001b[0;32m      1\u001b[0m \u001b[0mordinary_dictionary\u001b[0m \u001b[1;33m=\u001b[0m \u001b[1;33m{\u001b[0m\u001b[1;33m}\u001b[0m\u001b[1;33m\u001b[0m\u001b[1;33m\u001b[0m\u001b[0m\n\u001b[1;32m----> 2\u001b[1;33m \u001b[1;32mfor\u001b[0m \u001b[0mi\u001b[0m\u001b[1;33m,\u001b[0m \u001b[0mj\u001b[0m \u001b[1;32min\u001b[0m \u001b[1;33m[\u001b[0m\u001b[1;34m'abcde'\u001b[0m\u001b[1;33m,\u001b[0m \u001b[0mrange\u001b[0m\u001b[1;33m(\u001b[0m\u001b[1;36m1\u001b[0m\u001b[1;33m,\u001b[0m \u001b[1;36m6\u001b[0m\u001b[1;33m)\u001b[0m\u001b[1;33m]\u001b[0m\u001b[1;33m:\u001b[0m\u001b[1;33m\u001b[0m\u001b[1;33m\u001b[0m\u001b[0m\n\u001b[0m\u001b[0;32m      3\u001b[0m     \u001b[0mordinary_dictionary\u001b[0m\u001b[1;33m[\u001b[0m\u001b[0mi\u001b[0m\u001b[1;33m]\u001b[0m \u001b[1;33m=\u001b[0m \u001b[0mj\u001b[0m\u001b[1;33m\u001b[0m\u001b[1;33m\u001b[0m\u001b[0m\n",
      "\u001b[1;31mValueError\u001b[0m: too many values to unpack (expected 2)"
     ]
    }
   ],
   "source": [
    "ordinary_dictionary = {}\n",
    "for i, j in ['abcde', range(1, 6)]:\n",
    "    ordinary_dictionary[i] = j"
   ]
  },
  {
   "cell_type": "code",
   "execution_count": 53,
   "id": "1df3ff7a",
   "metadata": {},
   "outputs": [
    {
     "ename": "TypeError",
     "evalue": "range indices must be integers or slices, not str",
     "output_type": "error",
     "traceback": [
      "\u001b[1;31m---------------------------------------------------------------------------\u001b[0m",
      "\u001b[1;31mTypeError\u001b[0m                                 Traceback (most recent call last)",
      "\u001b[1;32mC:\\Users\\AARONC~1\\AppData\\Local\\Temp/ipykernel_24080/2208662457.py\u001b[0m in \u001b[0;36m<module>\u001b[1;34m\u001b[0m\n\u001b[0;32m      1\u001b[0m \u001b[0mordinary_dictionary\u001b[0m \u001b[1;33m=\u001b[0m \u001b[1;33m{\u001b[0m\u001b[1;33m}\u001b[0m\u001b[1;33m\u001b[0m\u001b[1;33m\u001b[0m\u001b[0m\n\u001b[0;32m      2\u001b[0m \u001b[1;32mfor\u001b[0m \u001b[0mi\u001b[0m \u001b[1;32min\u001b[0m \u001b[1;34m'abcde'\u001b[0m\u001b[1;33m:\u001b[0m\u001b[1;33m\u001b[0m\u001b[1;33m\u001b[0m\u001b[0m\n\u001b[1;32m----> 3\u001b[1;33m     \u001b[0mordinary_dictionary\u001b[0m\u001b[1;33m[\u001b[0m\u001b[0mi\u001b[0m\u001b[1;33m]\u001b[0m \u001b[1;33m=\u001b[0m \u001b[0mrange\u001b[0m\u001b[1;33m(\u001b[0m\u001b[1;36m1\u001b[0m\u001b[1;33m,\u001b[0m \u001b[1;36m6\u001b[0m\u001b[1;33m)\u001b[0m\u001b[1;33m[\u001b[0m\u001b[0mi\u001b[0m\u001b[1;33m]\u001b[0m\u001b[1;33m\u001b[0m\u001b[1;33m\u001b[0m\u001b[0m\n\u001b[0m",
      "\u001b[1;31mTypeError\u001b[0m: range indices must be integers or slices, not str"
     ]
    }
   ],
   "source": [
    "ordinary_dictionary = {}\n",
    "for i in 'abcde':\n",
    "    ordinary_dictionary[i] = range(1, 6)[i]"
   ]
  },
  {
   "cell_type": "code",
   "execution_count": 56,
   "id": "56e5a636",
   "metadata": {},
   "outputs": [],
   "source": [
    "ordinary_dictionary = {}\n",
    "for i in range(5):\n",
    "    ordinary_dictionary['abcde'[i]] = range(1, 6)[i]"
   ]
  },
  {
   "cell_type": "code",
   "execution_count": 57,
   "id": "544a6754",
   "metadata": {},
   "outputs": [
    {
     "data": {
      "text/plain": [
       "{'a': 1, 'b': 2, 'c': 3, 'd': 4, 'e': 5}"
      ]
     },
     "execution_count": 57,
     "metadata": {},
     "output_type": "execute_result"
    }
   ],
   "source": [
    "ordinary_dictionary"
   ]
  },
  {
   "cell_type": "code",
   "execution_count": 58,
   "id": "c1134e5f",
   "metadata": {},
   "outputs": [],
   "source": [
    "ordered_dictionary = collections.OrderedDict()\n",
    "for i in range(5):\n",
    "    ordered_dictionary['abcde'[i]] = range(1, 6)[i]"
   ]
  },
  {
   "cell_type": "code",
   "execution_count": 59,
   "id": "083d288c",
   "metadata": {},
   "outputs": [
    {
     "data": {
      "text/plain": [
       "OrderedDict([('a', 1), ('b', 2), ('c', 3), ('d', 4), ('e', 5)])"
      ]
     },
     "execution_count": 59,
     "metadata": {},
     "output_type": "execute_result"
    }
   ],
   "source": [
    "ordered_dictionary"
   ]
  },
  {
   "cell_type": "code",
   "execution_count": 60,
   "id": "e0939b50",
   "metadata": {},
   "outputs": [
    {
     "data": {
      "text/plain": [
       "odict_items([('a', 1), ('b', 2), ('c', 3), ('d', 4), ('e', 5)])"
      ]
     },
     "execution_count": 60,
     "metadata": {},
     "output_type": "execute_result"
    }
   ],
   "source": [
    "ordered_dictionary.items()"
   ]
  },
  {
   "cell_type": "code",
   "execution_count": 61,
   "id": "b41ef5f6",
   "metadata": {},
   "outputs": [
    {
     "data": {
      "text/plain": [
       "dict_items([('a', 1), ('b', 2), ('c', 3), ('d', 4), ('e', 5)])"
      ]
     },
     "execution_count": 61,
     "metadata": {},
     "output_type": "execute_result"
    }
   ],
   "source": [
    "ordinary_dictionary.items()"
   ]
  },
  {
   "cell_type": "code",
   "execution_count": 62,
   "id": "7b8d92c8",
   "metadata": {},
   "outputs": [
    {
     "data": {
      "text/plain": [
       "1"
      ]
     },
     "execution_count": 62,
     "metadata": {},
     "output_type": "execute_result"
    }
   ],
   "source": [
    "ordered_dictionary['a']"
   ]
  },
  {
   "cell_type": "code",
   "execution_count": 63,
   "id": "5c8ad7f0",
   "metadata": {},
   "outputs": [],
   "source": [
    "ordered_dictionary['a'] = 3"
   ]
  },
  {
   "cell_type": "code",
   "execution_count": 65,
   "id": "9a75cd06",
   "metadata": {},
   "outputs": [
    {
     "data": {
      "text/plain": [
       "OrderedDict([('a', 3), ('b', 2), ('c', 3), ('d', 4), ('e', 5)])"
      ]
     },
     "execution_count": 65,
     "metadata": {},
     "output_type": "execute_result"
    }
   ],
   "source": [
    "ordered_dictionary"
   ]
  },
  {
   "cell_type": "code",
   "execution_count": 67,
   "id": "94dcdfc9",
   "metadata": {},
   "outputs": [
    {
     "ename": "AttributeError",
     "evalue": "'collections.OrderedDict' object has no attribute 'extend'",
     "output_type": "error",
     "traceback": [
      "\u001b[1;31m---------------------------------------------------------------------------\u001b[0m",
      "\u001b[1;31mAttributeError\u001b[0m                            Traceback (most recent call last)",
      "\u001b[1;32mC:\\Users\\AARONC~1\\AppData\\Local\\Temp/ipykernel_24080/1403762649.py\u001b[0m in \u001b[0;36m<module>\u001b[1;34m\u001b[0m\n\u001b[1;32m----> 1\u001b[1;33m \u001b[0mordered_dictionary\u001b[0m\u001b[1;33m.\u001b[0m\u001b[0mextend\u001b[0m\u001b[1;33m(\u001b[0m\u001b[1;33m[\u001b[0m\u001b[1;34m'a'\u001b[0m\u001b[1;33m,\u001b[0m \u001b[1;36m5\u001b[0m\u001b[1;33m]\u001b[0m\u001b[1;33m)\u001b[0m\u001b[1;33m\u001b[0m\u001b[1;33m\u001b[0m\u001b[0m\n\u001b[0m",
      "\u001b[1;31mAttributeError\u001b[0m: 'collections.OrderedDict' object has no attribute 'extend'"
     ]
    }
   ],
   "source": [
    "ordered_dictionary.extend(['a', 5])"
   ]
  },
  {
   "cell_type": "code",
   "execution_count": 68,
   "id": "16aa7c4a",
   "metadata": {},
   "outputs": [],
   "source": [
    "D = dict()"
   ]
  },
  {
   "cell_type": "code",
   "execution_count": 69,
   "id": "10530050",
   "metadata": {},
   "outputs": [
    {
     "ename": "KeyError",
     "evalue": "'a'",
     "output_type": "error",
     "traceback": [
      "\u001b[1;31m---------------------------------------------------------------------------\u001b[0m",
      "\u001b[1;31mKeyError\u001b[0m                                  Traceback (most recent call last)",
      "\u001b[1;32mC:\\Users\\AARONC~1\\AppData\\Local\\Temp/ipykernel_24080/1891206215.py\u001b[0m in \u001b[0;36m<module>\u001b[1;34m\u001b[0m\n\u001b[1;32m----> 1\u001b[1;33m \u001b[0mD\u001b[0m\u001b[1;33m[\u001b[0m\u001b[1;34m'a'\u001b[0m\u001b[1;33m]\u001b[0m \u001b[1;33m+=\u001b[0m \u001b[1;36m3\u001b[0m\u001b[1;33m\u001b[0m\u001b[1;33m\u001b[0m\u001b[0m\n\u001b[0m",
      "\u001b[1;31mKeyError\u001b[0m: 'a'"
     ]
    }
   ],
   "source": [
    "D['a'] += 3"
   ]
  },
  {
   "cell_type": "code",
   "execution_count": null,
   "id": "5af81aec",
   "metadata": {},
   "outputs": [],
   "source": [
    "import collections\n",
    "\n",
    "products = collections.Ordereddict()\n",
    "N = int(input())\n",
    "for _ in range(N):\n",
    "    if products[input().split()[0]]:\n",
    "        products[input().split()[0]] += int(input().split()[1])\n",
    "    else:\n",
    "        products[input().split()[0]] = int(input().split()[1])\n",
    "print(*products.items(), sep = '\\n')"
   ]
  },
  {
   "cell_type": "markdown",
   "id": "15a3420d",
   "metadata": {},
   "source": [
    "### 여기서 왜 products[input().split()[0]] 바로 if구문 조건문에 쓰면 안 되지?\n",
    "> 써도 되는데 여기서 틀린 거는 dict key랑 value 쌍을 어떻게 넣을 거냐 였음 "
   ]
  },
  {
   "cell_type": "code",
   "execution_count": null,
   "id": "496d18cd",
   "metadata": {},
   "outputs": [],
   "source": [
    "import collections, re\n",
    "\n",
    "products = collections.Ordereddict()\n",
    "N = int(input())\n",
    "for _ in range(N):\n",
    "    product, price = re.search('(^[A-Z+])\\s(\\d+)$', input()).groups()\n",
    "    if products[product] != 0:\n",
    "        products[product] += price\n",
    "    else:\n",
    "        products[product] = price\n",
    "print(*products.items(), sep = '\\n')"
   ]
  },
  {
   "cell_type": "markdown",
   "id": "1c3a7bb8",
   "metadata": {},
   "source": [
    "### 대소문자에도 주의해야 한다 \n",
    "### Ordereddict가 아니라 OrderedDIct다 "
   ]
  },
  {
   "cell_type": "markdown",
   "id": "fe5c0980",
   "metadata": {},
   "source": [
    "정규표현 쓸 때 ^와 (위치 주의)"
   ]
  },
  {
   "cell_type": "code",
   "execution_count": 70,
   "id": "5fb02214",
   "metadata": {},
   "outputs": [
    {
     "data": {
      "text/plain": [
       "('a b', ' ', 'c')"
      ]
     },
     "execution_count": 70,
     "metadata": {},
     "output_type": "execute_result"
    }
   ],
   "source": [
    "'a b c'.rpartition(' ')"
   ]
  },
  {
   "cell_type": "code",
   "execution_count": null,
   "id": "b73c9ac5",
   "metadata": {},
   "outputs": [],
   "source": [
    "### 예시답안\n",
    "d = OrderedDict()\n",
    "\n",
    "for _ in range(int(input())):\n",
    "    item, space, quantity = input().rpartition(' ')\n",
    "    d[item] = d.get(item, 0) + int(quantity)\n",
    "for item, quantity in d.items():\n",
    "    print(item, quantity)"
   ]
  },
  {
   "cell_type": "markdown",
   "id": "c18061d0",
   "metadata": {},
   "source": [
    "- Piling up!"
   ]
  },
  {
   "cell_type": "code",
   "execution_count": 71,
   "id": "a6b56a63",
   "metadata": {},
   "outputs": [
    {
     "data": {
      "text/plain": [
       "5"
      ]
     },
     "execution_count": 71,
     "metadata": {},
     "output_type": "execute_result"
    }
   ],
   "source": [
    "max(3, 5)"
   ]
  },
  {
   "cell_type": "code",
   "execution_count": null,
   "id": "dfcc0bae",
   "metadata": {},
   "outputs": [],
   "source": [
    "T = int(input())\n",
    "for _ in range(T):\n",
    "    num, cube = int(input()), list(map(int, input().split()))\n",
    "    for i in range(num):\n",
    "        trial = []\n",
    "        try:\n",
    "            o = max(cube[i], cube[-(1+[i])])\n",
    "            n = max(cube[i+1], cube[-(2+[i])])\n",
    "            o >= n\n",
    "            continue\n",
    "        except Exception:\n",
    "            print('No')\n",
    "            break\n",
    "    print('Yes')"
   ]
  },
  {
   "cell_type": "code",
   "execution_count": null,
   "id": "5fbc9c8e",
   "metadata": {},
   "outputs": [],
   "source": [
    "import numpy as np\n",
    "\n",
    "T = int(input())\n",
    "for _ in range(T):\n",
    "    num, cube = int(input()), list(map(int, input().split()))\n",
    "    initial = max(cube[0], cube[-1])\n",
    "    choose(cube)\n",
    "    for _ in range(num-1):\n",
    "        if cube[0] <= initial or cube[-1] <= initial:\n",
    "            initial = "
   ]
  },
  {
   "cell_type": "code",
   "execution_count": 76,
   "id": "16e58a9e",
   "metadata": {},
   "outputs": [
    {
     "data": {
      "text/plain": [
       "1"
      ]
     },
     "execution_count": 76,
     "metadata": {},
     "output_type": "execute_result"
    }
   ],
   "source": [
    "import numpy as np\n",
    "np.argmax([3, 6])"
   ]
  },
  {
   "cell_type": "code",
   "execution_count": 77,
   "id": "0312770b",
   "metadata": {},
   "outputs": [],
   "source": [
    "del [3, 6][np.argmax([3, 6])]"
   ]
  },
  {
   "cell_type": "markdown",
   "id": "f78937f5",
   "metadata": {},
   "source": [
    "> 반복 대상 \n",
    "    >> 비교 \n",
    "    \n",
    "    -----------------------------\n",
    "> 비교 대상 \n",
    "    >> top인 아이 & cube 양쪽의 아이\n",
    "\n"
   ]
  },
  {
   "cell_type": "code",
   "execution_count": null,
   "id": "0684a649",
   "metadata": {},
   "outputs": [],
   "source": [
    "import numpy as np\n",
    "\n",
    "T = int(input())\n",
    "initial = int()\n",
    "top = int() \n",
    "\n",
    "for _ in range(T):\n",
    "    num, cube = int(input()), list(map(int, input().split()))\n",
    "    if cube[0] >= cube[-1]:\n",
    "        initial = cube[0]\n",
    "        cube = cube[1:]\n",
    "    else:\n",
    "        initial = cube[1]\n",
    "        cube = cube[:-1]\n",
    "    for _ in range(num):\n",
    "        if "
   ]
  },
  {
   "cell_type": "code",
   "execution_count": null,
   "id": "9e429827",
   "metadata": {},
   "outputs": [],
   "source": [
    "import numpy as np \n",
    "\n",
    "T = int(input())\n",
    "\n",
    "for _ in range(T):\n",
    "    check = []\n",
    "    for _ in range(num):\n",
    "        if np.argmax(cube) in [0, length(cube)]:\n",
    "            del cube[np.argmax(cube)]\n",
    "            continue           \n",
    "        else:\n",
    "            check.append(False)\n",
    "            break\n",
    "    if all(check):\n",
    "        print('Yes')\n",
    "    else:\n",
    "        print('No')"
   ]
  },
  {
   "cell_type": "markdown",
   "id": "9815785a",
   "metadata": {},
   "source": [
    "#####?? 하나라도 안 되면 'No'를 출력하고 다 통과하면 'Yes'를 출력하라고 어떻게 명령하지?"
   ]
  },
  {
   "cell_type": "code",
   "execution_count": 80,
   "id": "c7e59921",
   "metadata": {},
   "outputs": [
    {
     "data": {
      "text/plain": [
       "7"
      ]
     },
     "execution_count": 80,
     "metadata": {},
     "output_type": "execute_result"
    }
   ],
   "source": [
    "max([3, 6, 7])"
   ]
  },
  {
   "cell_type": "code",
   "execution_count": null,
   "id": "3112ce8d",
   "metadata": {},
   "outputs": [],
   "source": [
    "T = int(input())\n",
    "\n",
    "for _ in range(T):\n",
    "    check = []\n",
    "    for _ in range(num):\n",
    "        if max(cube) in [cube[0], cube[length(cube)]]:\n",
    "            if cube[0] == max(cube):\n",
    "                del cube[0]\n",
    "                continue\n",
    "            else: \n",
    "                del cube[length(cube)]\n",
    "                continue           \n",
    "        else:\n",
    "            check.append(False)\n",
    "            break\n",
    "    if all(check):\n",
    "        print('Yes')\n",
    "    else:\n",
    "        print('No')"
   ]
  },
  {
   "cell_type": "markdown",
   "id": "59c586f9",
   "metadata": {},
   "source": [
    "### 변수 정의한 거 다 확인했니!??\n",
    "### length가 아니고 len이란다!!!"
   ]
  },
  {
   "cell_type": "code",
   "execution_count": null,
   "id": "1a3f03e5",
   "metadata": {},
   "outputs": [],
   "source": [
    "T = int(input())\n",
    "\n",
    "for _ in range(T):\n",
    "    num, cube = int(input()), list(map(int, input().split()))\n",
    "    check = []\n",
    "    for _ in range(num):\n",
    "        if max(cube) in [cube[0], cube[len(cube)]]:\n",
    "            if cube[0] == max(cube):\n",
    "                del cube[0]\n",
    "                continue\n",
    "            else: \n",
    "                del cube[len(cube)]\n",
    "                continue           \n",
    "        else:\n",
    "            check.append(False)\n",
    "            break\n",
    "    if all(check):\n",
    "        print('Yes')\n",
    "    else:\n",
    "        print('No')"
   ]
  },
  {
   "cell_type": "markdown",
   "id": "804650dd",
   "metadata": {},
   "source": [
    "### 파이썬 인덱싱 \n",
    ">list[2] >> 3번째 꺼 comes out "
   ]
  },
  {
   "cell_type": "code",
   "execution_count": null,
   "id": "41d2d84c",
   "metadata": {},
   "outputs": [],
   "source": [
    "T = int(input())\n",
    "\n",
    "for _ in range(T):\n",
    "    num, cube = int(input()), list(map(int, input().split()))\n",
    "    check = []\n",
    "    for _ in range(num):\n",
    "        if max(cube) in [cube[0], cube[-1]]:\n",
    "            if cube[0] == max(cube):\n",
    "                del cube[0]\n",
    "                continue\n",
    "            else: \n",
    "                del cube[-1]\n",
    "                continue           \n",
    "        else:\n",
    "            check.append(False)\n",
    "            break\n",
    "    if all(check):\n",
    "        print('Yes')\n",
    "    else:\n",
    "        print('No')"
   ]
  },
  {
   "cell_type": "code",
   "execution_count": null,
   "id": "b7d7ad37",
   "metadata": {},
   "outputs": [],
   "source": [
    "T = int(input())\n",
    "\n",
    "for _ in range(T):\n",
    "    num, cube = int(input()), list(map(int, input().split()))\n",
    "    for _ in range(num):\n",
    "        if max(cube) in [cube[0], cube[-1]]:\n",
    "            if cube[0] == max(cube):\n",
    "                del cube[0]\n",
    "                if len(cube) == 1:\n",
    "                    print('Yes')\n",
    "                    break\n",
    "                continue\n",
    "            else: \n",
    "                del cube[-1]\n",
    "                continue           \n",
    "        else:\n",
    "            check.append(False)\n",
    "            print('False')\n",
    "            break\n"
   ]
  },
  {
   "cell_type": "code",
   "execution_count": null,
   "id": "2c7becc7",
   "metadata": {},
   "outputs": [],
   "source": [
    "T = int(input())\n",
    "\n",
    "cubes = [[int(input()), list(map(int, input().split()))] for _ in range(T)]\n",
    "\n",
    "for num, cube in cubes:\n",
    "    if max(cube) in [cube[0], cube[-1]]:\n",
    "        if cube[0] == max(cube):\n",
    "            del cube[0]\n",
    "            if len(cube) == 1:\n",
    "                print('Yes')\n",
    "                break\n",
    "            else:\n",
    "                continue\n",
    "        else: \n",
    "            del cube[-1]\n",
    "            if len(cube) == 1:\n",
    "                print('Yes')\n",
    "                break\n",
    "            else: \n",
    "                continue           \n",
    "    else:\n",
    "        print('No')\n",
    "        break"
   ]
  },
  {
   "cell_type": "markdown",
   "id": "8b058a83",
   "metadata": {},
   "source": [
    "### 하 어느 시점에 continue랑 break를 넣어야 핮?"
   ]
  },
  {
   "cell_type": "code",
   "execution_count": null,
   "id": "c0bac9d7",
   "metadata": {},
   "outputs": [],
   "source": []
  }
 ],
 "metadata": {
  "kernelspec": {
   "display_name": "Python 3 (ipykernel)",
   "language": "python",
   "name": "python3"
  },
  "language_info": {
   "codemirror_mode": {
    "name": "ipython",
    "version": 3
   },
   "file_extension": ".py",
   "mimetype": "text/x-python",
   "name": "python",
   "nbconvert_exporter": "python",
   "pygments_lexer": "ipython3",
   "version": "3.9.7"
  }
 },
 "nbformat": 4,
 "nbformat_minor": 5
}
