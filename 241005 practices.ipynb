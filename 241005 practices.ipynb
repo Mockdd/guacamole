{
 "cells": [
  {
   "cell_type": "markdown",
   "id": "bf077e03",
   "metadata": {},
   "source": [
    "- detect html tags, attributes and attribute values"
   ]
  },
  {
   "cell_type": "code",
   "execution_count": 1,
   "id": "0457f8c0",
   "metadata": {},
   "outputs": [],
   "source": [
    "import re"
   ]
  },
  {
   "cell_type": "code",
   "execution_count": 11,
   "id": "fc97922e",
   "metadata": {},
   "outputs": [
    {
     "data": {
      "text/plain": [
       "'le app appu'"
      ]
     },
     "execution_count": 11,
     "metadata": {},
     "output_type": "execute_result"
    }
   ],
   "source": [
    "re.sub('app', '', 'apple app appu', 1)"
   ]
  },
  {
   "cell_type": "code",
   "execution_count": 23,
   "id": "ee8fcc8e",
   "metadata": {},
   "outputs": [],
   "source": [
    "HTML = '\\n'.join(['<head>', '<title>HTML</title>', '</head>',\n",
    "                 '<object type=\"application/x-flash\"', \n",
    "                 'data=\"your-file.swf\"', \n",
    "                 'width=\"0\" height=\"0\">', \n",
    "                 '<!-- <param name=\"movie\" value=\"your-file.swf\"  /> -->', \n",
    "                  '<param name=\"quality\" value=\"high\"/>',\n",
    "                 '</object>'])\n"
   ]
  },
  {
   "cell_type": "code",
   "execution_count": 24,
   "id": "df42874a",
   "metadata": {},
   "outputs": [],
   "source": [
    "HTML = re.sub('<!--.+?-->', '', HTML)"
   ]
  },
  {
   "cell_type": "code",
   "execution_count": 25,
   "id": "39370f9e",
   "metadata": {
    "scrolled": false
   },
   "outputs": [
    {
     "name": "stdout",
     "output_type": "stream",
     "text": [
      "<head>\n",
      "<title>HTML</title>\n",
      "</head>\n",
      "<object type=\"application/x-flash\"\n",
      "data=\"your-file.swf\"\n",
      "width=\"0\" height=\"0\">\n",
      "\n",
      "<param name=\"quality\" value=\"high\"/>\n",
      "</object>\n"
     ]
    }
   ],
   "source": [
    "print(HTML)"
   ]
  },
  {
   "cell_type": "code",
   "execution_count": 26,
   "id": "8151f126",
   "metadata": {
    "scrolled": true
   },
   "outputs": [
    {
     "data": {
      "text/plain": [
       "[('head', '>'), ('title', '>'), ('object', ' '), ('param', ' ')]"
      ]
     },
     "execution_count": 26,
     "metadata": {},
     "output_type": "execute_result"
    }
   ],
   "source": [
    "re.findall('<([\\w]+?)(\\W)', HTML)"
   ]
  },
  {
   "cell_type": "code",
   "execution_count": 9,
   "id": "40772703",
   "metadata": {},
   "outputs": [],
   "source": [
    "tags = re.findall('<([\\w]+?)(\\W)', HTML)"
   ]
  },
  {
   "cell_type": "code",
   "execution_count": 10,
   "id": "b4c07b14",
   "metadata": {},
   "outputs": [
    {
     "name": "stdout",
     "output_type": "stream",
     "text": [
      "head >\n",
      "title >\n",
      "object  \n",
      "param  \n"
     ]
    }
   ],
   "source": [
    "for tag, denom in tags:\n",
    "    print(tag, denom)"
   ]
  },
  {
   "cell_type": "code",
   "execution_count": null,
   "id": "32d6b9d3",
   "metadata": {},
   "outputs": [],
   "source": [
    "import re\n",
    "HTML = ''\n",
    "\n",
    "## removing comments\n",
    "for _ in range(int(input())):\n",
    "    HTML += '\\n'.join(str(input()))\n",
    "    HTML = re.sub('<!--.+?-->', '', HTML)\n",
    "    \n",
    "## tag 찾기\n",
    "tags = re.findall('<([\\w]+?)([\\W])', HTML)\n",
    "\n",
    "for tag, denom in tags:\n",
    "    print(tag, demon)"
   ]
  },
  {
   "cell_type": "markdown",
   "id": "86a49000",
   "metadata": {},
   "source": [
    "### input()이 어떤 형태로 한번에 뭐가 들어오는지 고려하자 "
   ]
  },
  {
   "cell_type": "code",
   "execution_count": null,
   "id": "b2f91a80",
   "metadata": {},
   "outputs": [],
   "source": [
    "for _ in range(int(input())):\n",
    "    HTML = ''.join(str(input()))\n",
    "    HTML = re.sub('<!--.+?-->', '', HTML)\n",
    "    HTML = re.sub('><', '>\\n<', HTML)\n",
    "    \n",
    "tags = re.findall('<([\\w]+?)([\\W])', HTML)\n",
    "    \n",
    "\n",
    "for tag, denom in tags:\n",
    "    print(tag)\n",
    "    if denom == '>':\n",
    "        continue\n",
    "    elif denom != '>':\n",
    "        target = re.findall(f'<{tag}.+?>', HTML)[0]\n",
    "        attrs = re.findall('([\\w]+)=\"([.]+?)\"', target)\n",
    "        for attr, value in attrs:\n",
    "            print(' '.join(['->' + ' > '.join([attr, value])]))"
   ]
  },
  {
   "cell_type": "code",
   "execution_count": null,
   "id": "cedf53ae",
   "metadata": {},
   "outputs": [],
   "source": []
  },
  {
   "cell_type": "code",
   "execution_count": 12,
   "id": "ee6cbaaf",
   "metadata": {},
   "outputs": [
    {
     "data": {
      "text/plain": [
       "[('head', '>'), ('title', '>'), ('object', ' '), ('param', ' ')]"
      ]
     },
     "execution_count": 12,
     "metadata": {},
     "output_type": "execute_result"
    }
   ],
   "source": [
    "tags"
   ]
  },
  {
   "cell_type": "code",
   "execution_count": 29,
   "id": "bb816439",
   "metadata": {},
   "outputs": [
    {
     "name": "stdout",
     "output_type": "stream",
     "text": [
      "head\n",
      "title\n",
      "object\n",
      "<object type=\"application/x-flash\"\n",
      "data=\"your-file.swf\"\n",
      "width=\"0\" height=\"0\">\n",
      "param\n",
      "<param name=\"quality\" value=\"high\"/>\n"
     ]
    }
   ],
   "source": [
    "for tag, denom in tags:\n",
    "    print(tag)\n",
    "    if denom == '>':\n",
    "        continue\n",
    "    elif denom != '>':\n",
    "        target = re.findall(f'<{tag}.+?>', HTML, re.DOTALL)[0]\n",
    "        print(target)"
   ]
  },
  {
   "cell_type": "code",
   "execution_count": 33,
   "id": "25239ec4",
   "metadata": {},
   "outputs": [
    {
     "data": {
      "text/plain": [
       "['f1', 'FAa1']"
      ]
     },
     "execution_count": 33,
     "metadata": {},
     "output_type": "execute_result"
    }
   ],
   "source": [
    "re.findall('[\\w]{2,}', 'f1 FAa1 ')"
   ]
  },
  {
   "cell_type": "code",
   "execution_count": null,
   "id": "67c9f55d",
   "metadata": {},
   "outputs": [],
   "source": [
    "import re\n",
    "HTML = '' \n",
    "\n",
    "for _ in range(int(input())):\n",
    "    HTML += ''.join(str(input()))\n",
    "    HTML = re.sub('<!--.+?-->', '', HTML, re.DOTALL)\n",
    "    HTML = re.sub('><', '>\\n<', HTML, re.DOTALL)\n",
    " \n",
    "tags = re.findall('<([\\w]+?)([\\W])', HTML, re.DOTALL)\n",
    "    \n",
    "for tag, denom in tags:\n",
    "    print(tag)\n",
    "    if denom == '>':\n",
    "        continue\n",
    "    elif denom != '>':\n",
    "        target = re.findall(f'<{tag}.+?>', HTML, re.DOTALL)[0]\n",
    "        attrs = re.findall('[\\W]([\\S]+)=\"(.+?)\"', target, re.DOTALL)\n",
    "        for attr, value in attrs:\n",
    "            print(' '.join(['->',  ' > '.join([attr, value])]))\n",
    "    HTML = re.sub(f'<{tag}[\\W]', '', HTML, 1)"
   ]
  },
  {
   "cell_type": "markdown",
   "id": "56a15e0c",
   "metadata": {},
   "source": [
    "> test case 05"
   ]
  },
  {
   "cell_type": "code",
   "execution_count": 34,
   "id": "9c4d1a58",
   "metadata": {},
   "outputs": [],
   "source": [
    "HTML = '<!-- first try HTML5 playback: if serving as XML, expand `controls` to `controls=\"controls\"` and autoplay likewise --><!-- warning: playback does not work on iOS3 if you include the poster attribute! fixed in iOS4.0 --><video width=\"640\" height=\"360\">\t<!-- MP4 must be first for iPad! --><source src=\"__VIDEO__.MP4\" type=\"video/mp4\" /><!-- Safari / iOS video    --><source src=\"__VIDEO__.OGV\" type=\"video/ogg\" /><!-- Firefox / Opera / Chrome10 --><!-- fallback to Flash: --><object width=\"640\" height=\"360\" type=\"application/x-shockwave-flash\" data=\"__FLASH__.SWF\"><!-- Firefox uses the `data` attribute above, IE/Safari uses the param below --><param name=\"movie\" value=\"__FLASH__.SWF\" /><param name=\"flashvars\" value=\"controlbar=over&image=__POSTER__.JPG&file=__VIDEO__.MP4\"<!-- fallback image. note the title field below, put the title of the video there --><img src=\"__VIDEO__.JPG\" width=\"640\" height=\"360\" alt=\"__TITLE__\"title=\"No video playback capabilities, please download the video below\" /></object></video><!-- you *must* offer a download link as they may be able to play the file locally. customise this bit all you want --><p><strong>Download Video:</strong>Closed Format:\t<a href=\"__VIDEO__.MP4\">\"MP4\"</a>Open Format:<a href=\"__VIDEO__.OGV\">\"Ogg\"</a></p>'"
   ]
  },
  {
   "cell_type": "code",
   "execution_count": 35,
   "id": "33147975",
   "metadata": {},
   "outputs": [],
   "source": [
    "    HTML = re.sub('<!--.+?-->', '', HTML, re.DOTALL)\n"
   ]
  },
  {
   "cell_type": "code",
   "execution_count": 36,
   "id": "6eb8b708",
   "metadata": {},
   "outputs": [
    {
     "data": {
      "text/plain": [
       "'<video width=\"640\" height=\"360\">\\t<source src=\"__VIDEO__.MP4\" type=\"video/mp4\" /><source src=\"__VIDEO__.OGV\" type=\"video/ogg\" /><object width=\"640\" height=\"360\" type=\"application/x-shockwave-flash\" data=\"__FLASH__.SWF\"><param name=\"movie\" value=\"__FLASH__.SWF\" /><param name=\"flashvars\" value=\"controlbar=over&image=__POSTER__.JPG&file=__VIDEO__.MP4\"<img src=\"__VIDEO__.JPG\" width=\"640\" height=\"360\" alt=\"__TITLE__\"title=\"No video playback capabilities, please download the video below\" /></object></video><p><strong>Download Video:</strong>Closed Format:\\t<a href=\"__VIDEO__.MP4\">\"MP4\"</a>Open Format:<a href=\"__VIDEO__.OGV\">\"Ogg\"</a></p>'"
      ]
     },
     "execution_count": 36,
     "metadata": {},
     "output_type": "execute_result"
    }
   ],
   "source": [
    "HTML"
   ]
  },
  {
   "cell_type": "code",
   "execution_count": 37,
   "id": "75d154dd",
   "metadata": {},
   "outputs": [],
   "source": [
    "HTML = re.sub('><', '>\\n<', HTML, re.DOTALL)"
   ]
  },
  {
   "cell_type": "code",
   "execution_count": 38,
   "id": "84e2c378",
   "metadata": {},
   "outputs": [
    {
     "name": "stdout",
     "output_type": "stream",
     "text": [
      "<video width=\"640\" height=\"360\">\t<source src=\"__VIDEO__.MP4\" type=\"video/mp4\" />\n",
      "<source src=\"__VIDEO__.OGV\" type=\"video/ogg\" />\n",
      "<object width=\"640\" height=\"360\" type=\"application/x-shockwave-flash\" data=\"__FLASH__.SWF\">\n",
      "<param name=\"movie\" value=\"__FLASH__.SWF\" />\n",
      "<param name=\"flashvars\" value=\"controlbar=over&image=__POSTER__.JPG&file=__VIDEO__.MP4\"<img src=\"__VIDEO__.JPG\" width=\"640\" height=\"360\" alt=\"__TITLE__\"title=\"No video playback capabilities, please download the video below\" />\n",
      "</object>\n",
      "</video>\n",
      "<p>\n",
      "<strong>Download Video:</strong>Closed Format:\t<a href=\"__VIDEO__.MP4\">\"MP4\"</a>Open Format:<a href=\"__VIDEO__.OGV\">\"Ogg\"</a>\n",
      "</p>\n"
     ]
    }
   ],
   "source": [
    "print(HTML)"
   ]
  },
  {
   "cell_type": "code",
   "execution_count": 39,
   "id": "491c4e43",
   "metadata": {},
   "outputs": [],
   "source": [
    "tags = re.findall('<([\\w]+?)([\\W])', HTML, re.DOTALL)"
   ]
  },
  {
   "cell_type": "code",
   "execution_count": 40,
   "id": "e64412c1",
   "metadata": {},
   "outputs": [
    {
     "data": {
      "text/plain": [
       "[('video', ' '),\n",
       " ('source', ' '),\n",
       " ('source', ' '),\n",
       " ('object', ' '),\n",
       " ('param', ' '),\n",
       " ('param', ' '),\n",
       " ('img', ' '),\n",
       " ('p', '>'),\n",
       " ('strong', '>'),\n",
       " ('a', ' '),\n",
       " ('a', ' ')]"
      ]
     },
     "execution_count": 40,
     "metadata": {},
     "output_type": "execute_result"
    }
   ],
   "source": [
    "tags"
   ]
  },
  {
   "cell_type": "code",
   "execution_count": 44,
   "id": "f465d3e6",
   "metadata": {},
   "outputs": [
    {
     "name": "stdout",
     "output_type": "stream",
     "text": [
      "video\n",
      "<video width=\"640\" height=\"360\">\n",
      "source\n",
      "<source src=\"__VIDEO__.MP4\" type=\"video/mp4\" />\n",
      "source\n",
      "<source src=\"__VIDEO__.OGV\" type=\"video/ogg\" />\n",
      "object\n",
      "<object width=\"640\" height=\"360\" type=\"application/x-shockwave-flash\" data=\"__FLASH__.SWF\">\n",
      "param\n",
      "<param name=\"movie\" value=\"__FLASH__.SWF\" />\n",
      "param\n",
      "<param name=\"flashvars\" value=\"controlbar=over&image=__POSTER__.JPG&file=__VIDEO__.MP4\"<img src=\"__VIDEO__.JPG\" width=\"640\" height=\"360\" alt=\"__TITLE__\"title=\"No video playback capabilities, please download the video below\" />\n",
      "img\n",
      "<img src=\"__VIDEO__.JPG\" width=\"640\" height=\"360\" alt=\"__TITLE__\"title=\"No video playback capabilities, please download the video below\" />\n",
      "p\n",
      "strong\n",
      "a\n",
      "<a href=\"__VIDEO__.MP4\">\n",
      "a\n",
      "<a href=\"__VIDEO__.OGV\">\n"
     ]
    }
   ],
   "source": [
    "for tag, denom in tags:\n",
    "    print(tag)\n",
    "    if denom == '>':\n",
    "        continue\n",
    "    elif denom != '>':\n",
    "        target = re.findall(f'<{tag}.+?>', HTML, re.DOTALL)[0]\n",
    "        print(target)\n",
    "    HTML = re.sub(f'<{tag}[\\W]', '', HTML, 1)"
   ]
  },
  {
   "cell_type": "markdown",
   "id": "3f9922a9",
   "metadata": {},
   "source": [
    "> test case 02"
   ]
  },
  {
   "cell_type": "code",
   "execution_count": 98,
   "id": "017df9a8",
   "metadata": {},
   "outputs": [
    {
     "data": {
      "text/plain": [
       "'52\\n<article class=\"hentry\">\\n  <!-- <header>\\n    <h1 class=\"entry-title\">But Will It Make You Happy?</h1>\\n    <time class=\"updated\" datetime=\"2010-08-07 11:11:03-0400\">08-07-2010</time>\\n    <p class=\"byline author vcard\">\\n        By <span class=\"fn\">Stephanie Rosenbloom</span>\\n    </p>\\n  </header> -->\\n\\n  <div class=\"entry-content\">\\n      <p>...article text...</p>\\n      <p>...article text...</p>\\n\\n      <figure>\\n        <img src=\"tammy-strobel.jpg\" alt=\"Portrait of Tammy Strobel\" />\\n        <figcaption>Tammy Strobel in her pared-down, 400sq-ft apt.</figcaption>\\n      </figure>\\n\\n      <p>...article text...</p>\\n      <p>...article text...</p>\\n\\n      <aside>\\n        <h2>Share this Article</h2>\\n        <ul>\\n          <li>Facebook</li>\\n          <li>Twitter</li>\\n          <li>Etc</li>\\n        </ul>\\n      </aside>\\n\\n      <div class=\"entry-content-asset\">\\n        <a href=\"photo-full.png\">\\n          <img src=\"photo.png\" alt=\"The objects Tammy removed from her life after moving\" />\\n        </a>\\n      </div>\\n\\n      <p>...article text...</p>\\n      <p>...article text...</p>\\n\\n      <a class=\"entry-unrelated\" href=\"http://fake.site/\">Find Great Vacations</a>\\n  </div>\\n\\n  <footer>\\n    <p>\\n      A version of this article appeared in print on August 8,\\n      2010, on page BU1 of the New York edition.\\n    </p>\\n    <div class=\"source-org vcard copyright\">\\n        Copyright 2010 <span class=\"org fn\">The New York Times Company</span>\\n    </div>\\n  </footer>\\n</article>'"
      ]
     },
     "execution_count": 98,
     "metadata": {},
     "output_type": "execute_result"
    }
   ],
   "source": [
    "open('C:\\\\Users\\\\Aaron Cho\\\\project\\\\PDA\\Hackers\\\\HTML input02.txt').read()"
   ]
  },
  {
   "cell_type": "code",
   "execution_count": 70,
   "id": "71ead008",
   "metadata": {},
   "outputs": [],
   "source": [
    "HTML = open('C:\\\\Users\\\\Aaron Cho\\\\project\\\\PDA\\Hackers\\\\HTML input02.txt', encoding = 'utf8').read()"
   ]
  },
  {
   "cell_type": "code",
   "execution_count": 71,
   "id": "a09529fe",
   "metadata": {},
   "outputs": [
    {
     "name": "stdout",
     "output_type": "stream",
     "text": [
      "52\n",
      "<article class=\"hentry\">\n",
      "  <!-- <header>\n",
      "    <h1 class=\"entry-title\">But Will It Make You Happy?</h1>\n",
      "    <time class=\"updated\" datetime=\"2010-08-07 11:11:03-0400\">08-07-2010</time>\n",
      "    <p class=\"byline author vcard\">\n",
      "        By <span class=\"fn\">Stephanie Rosenbloom</span>\n",
      "    </p>\n",
      "  </header> -->\n",
      "\n",
      "  <div class=\"entry-content\">\n",
      "      <p>...article text...</p>\n",
      "      <p>...article text...</p>\n",
      "\n",
      "      <figure>\n",
      "        <img src=\"tammy-strobel.jpg\" alt=\"Portrait of Tammy Strobel\" />\n",
      "        <figcaption>Tammy Strobel in her pared-down, 400sq-ft apt.</figcaption>\n",
      "      </figure>\n",
      "\n",
      "      <p>...article text...</p>\n",
      "      <p>...article text...</p>\n",
      "\n",
      "      <aside>\n",
      "        <h2>Share this Article</h2>\n",
      "        <ul>\n",
      "          <li>Facebook</li>\n",
      "          <li>Twitter</li>\n",
      "          <li>Etc</li>\n",
      "        </ul>\n",
      "      </aside>\n",
      "\n",
      "      <div class=\"entry-content-asset\">\n",
      "        <a href=\"photo-full.png\">\n",
      "          <img src=\"photo.png\" alt=\"The objects Tammy removed from her life after moving\" />\n",
      "        </a>\n",
      "      </div>\n",
      "\n",
      "      <p>...article text...</p>\n",
      "      <p>...article text...</p>\n",
      "\n",
      "      <a class=\"entry-unrelated\" href=\"http://fake.site/\">Find Great Vacations</a>\n",
      "  </div>\n",
      "\n",
      "  <footer>\n",
      "    <p>\n",
      "      A version of this article appeared in print on August 8,\n",
      "      2010, on page BU1 of the New York edition.\n",
      "    </p>\n",
      "    <div class=\"source-org vcard copyright\">\n",
      "        Copyright 2010 <span class=\"org fn\">The New York Times Company</span>\n",
      "    </div>\n",
      "  </footer>\n",
      "</article>\n"
     ]
    }
   ],
   "source": [
    "print(HTML)"
   ]
  },
  {
   "cell_type": "code",
   "execution_count": 72,
   "id": "3bcaa5a9",
   "metadata": {
    "scrolled": true
   },
   "outputs": [
    {
     "data": {
      "text/plain": [
       "['<!-- <header>\\n    <h1 class=\"entry-title\">But Will It Make You Happy?</h1>\\n    <time class=\"updated\" datetime=\"2010-08-07 11:11:03-0400\">08-07-2010</time>\\n    <p class=\"byline author vcard\">\\n        By <span class=\"fn\">Stephanie Rosenbloom</span>\\n    </p>\\n  </header> -->']"
      ]
     },
     "execution_count": 72,
     "metadata": {},
     "output_type": "execute_result"
    }
   ],
   "source": [
    "re.findall('<!--.+?-->',  HTML, re.DOTALL)"
   ]
  },
  {
   "cell_type": "code",
   "execution_count": 75,
   "id": "e6bc235e",
   "metadata": {},
   "outputs": [
    {
     "data": {
      "text/plain": [
       "str"
      ]
     },
     "execution_count": 75,
     "metadata": {},
     "output_type": "execute_result"
    }
   ],
   "source": [
    "type(HTML)"
   ]
  },
  {
   "cell_type": "code",
   "execution_count": 77,
   "id": "59682cae",
   "metadata": {
    "scrolled": true
   },
   "outputs": [],
   "source": [
    "HTML = re.sub('<!--.+?-->', '', HTML, flags = re.DOTALL)"
   ]
  },
  {
   "cell_type": "code",
   "execution_count": 78,
   "id": "db231298",
   "metadata": {},
   "outputs": [],
   "source": [
    "tags = re.findall('<([\\w]+?)([\\W])', HTML, re.DOTALL)"
   ]
  },
  {
   "cell_type": "code",
   "execution_count": 81,
   "id": "b4c12541",
   "metadata": {},
   "outputs": [
    {
     "name": "stdout",
     "output_type": "stream",
     "text": [
      "('article', ' ')\n",
      "('div', ' ')\n",
      "('p', '>')\n",
      "('p', '>')\n",
      "('figure', '>')\n",
      "('img', ' ')\n",
      "('figcaption', '>')\n",
      "('p', '>')\n",
      "('p', '>')\n",
      "('aside', '>')\n",
      "('h2', '>')\n",
      "('ul', '>')\n",
      "('li', '>')\n",
      "('li', '>')\n",
      "('li', '>')\n",
      "('div', ' ')\n",
      "('a', ' ')\n",
      "('img', ' ')\n",
      "('p', '>')\n",
      "('p', '>')\n",
      "('a', ' ')\n",
      "('footer', '>')\n",
      "('p', '>')\n",
      "('div', ' ')\n",
      "('span', ' ')\n"
     ]
    }
   ],
   "source": [
    "print(*tags, sep = '\\n')"
   ]
  },
  {
   "cell_type": "markdown",
   "id": "78fae103",
   "metadata": {},
   "source": [
    "### 왜 re.sub에서는 안 찾아지고 re.findall에서는 찾아지는 거지??"
   ]
  },
  {
   "cell_type": "code",
   "execution_count": 84,
   "id": "60a90436",
   "metadata": {},
   "outputs": [
    {
     "name": "stdout",
     "output_type": "stream",
     "text": [
      "article\n",
      "[]\n",
      "div\n",
      "[]\n",
      "p\n",
      "p\n",
      "figure\n",
      "img\n",
      "[]\n",
      "figcaption\n",
      "p\n",
      "p\n",
      "aside\n",
      "h2\n",
      "ul\n",
      "li\n",
      "li\n",
      "li\n",
      "div\n",
      "[]\n",
      "a\n",
      "['<aside>']\n",
      "img\n",
      "[]\n",
      "p\n",
      "p\n",
      "a\n",
      "['<aside>']\n",
      "footer\n",
      "p\n",
      "div\n",
      "[]\n",
      "span\n",
      "[]\n"
     ]
    }
   ],
   "source": [
    "for tag, denom in tags:\n",
    "    print(tag)\n",
    "    if denom == '>':\n",
    "        continue\n",
    "    elif denom != '>':\n",
    "        target = re.findall(f'<{tag}.+?>', HTML, flags = re.DOTALL)\n",
    "        print(target)"
   ]
  },
  {
   "cell_type": "code",
   "execution_count": null,
   "id": "9a5c6356",
   "metadata": {},
   "outputs": [],
   "source": [
    "### 예시답안\n",
    "from html.parser import HTMLParser\n",
    "class MyHTMLParser(HTMLParser):\n",
    "    def handle_starttag(self, tag, attrs):\n",
    "        print(tag)\n",
    "        [print('-> {} > {}'.format(*attr)) for attr in attrs]\n",
    "html = '\\n'.join([input() for _ in range(int(input()))])\n",
    "parser = MyHTMLParser()\n",
    "parser.feed(html)\n",
    "parser.close()"
   ]
  },
  {
   "cell_type": "code",
   "execution_count": null,
   "id": "8d99cc72",
   "metadata": {},
   "outputs": [],
   "source": [
    "### 예시답안\n",
    "from html.parser import HTMLParser\n",
    "class MyHTMLParser(HTMLParser):\n",
    "    def handle_starttag(self,tag, attrs):\n",
    "        print(tag)\n",
    "        for attr in attrs:\n",
    "            print('->', attr[0], '>', attr[1])\n",
    "parser = MyHTMLParser()\n",
    "\n",
    "for i in range(int(input())):\n",
    "    parser.feed(input())"
   ]
  },
  {
   "cell_type": "code",
   "execution_count": null,
   "id": "921d9248",
   "metadata": {},
   "outputs": [],
   "source": [
    "### 예시답안\n",
    "impore re, sys\n",
    "comment_pattern = r'<!--[\\s\\S]+?-->'\n",
    "tag_pattern = r'(?!</)<([a-zA-Z0-9]+)([\\s\\S]*?)/?>\n",
    "\n",
    "no_of_lines = int(input())\n",
    "html_content = sys.stdin.read()\n",
    "content_without_comments = re.sub(comment_pattern, '', html_content)\n",
    "\n",
    "tags = re.findall(tag_pattern, content_without_comments)\n",
    "\n",
    "for tag, attrs in tags:\n",
    "    print(tag)\n",
    "    if not attrs:\n",
    "        continue\n",
    "    attr_value_pairs = re.findall(f'([a-zA-Z0-9-]+)=[\\'\"](.+?)[\\'\"]', attrs)\n",
    "    \n",
    "    for attr, value in attr_value_pairs:\n",
    "        print(f'-> {attr} > {value}')"
   ]
  },
  {
   "cell_type": "code",
   "execution_count": null,
   "id": "f6ee6c7b",
   "metadata": {},
   "outputs": [],
   "source": [
    "### 내 마지막 정답 \n",
    "import re\n",
    "HTML = '' \n",
    "\n",
    "for _ in range(int(input())):\n",
    "    HTML += ''.join(str(input()))\n",
    "    HTML = re.sub('<!--.+?-->', '', HTML, re.DOTALL)\n",
    "    HTML = re.sub('><', '>\\n<', HTML, re.DOTALL)\n",
    " \n",
    "tags = re.findall('<([\\w]+?)([\\W])', HTML, re.DOTALL)\n",
    "    \n",
    "for tag, denom in tags:\n",
    "    print(tag)\n",
    "    if denom == '>':\n",
    "        continue\n",
    "    elif denom != '>':\n",
    "        target = re.findall(f'<{tag}.+?>', HTML, re.DOTALL)[0]\n",
    "        attrs = re.findall('[\\W]([\\S]+)=\"(.+?)\"', target, re.DOTALL)\n",
    "        for attr, value in attrs:\n",
    "            print(' '.join(['->',  ' > '.join([attr, value])]))\n",
    "    HTML = re.sub(f'<{tag}[\\W]', '', HTML, 1)"
   ]
  },
  {
   "cell_type": "code",
   "execution_count": null,
   "id": "dc47c743",
   "metadata": {},
   "outputs": [],
   "source": [
    "import re\n",
    "HTML = '' \n",
    "\n",
    "comment_pattern = '<!--[\\s\\S]+?-->'\n",
    "tag_pattern = '<([\\w]+?)([\\s\\S]+?)/?>'\n",
    "\n",
    "for _ in range(int(input())):\n",
    "    HTML += ''.join(str(input()))\n",
    "    HTML = re.sub(comment_pattern, '', HTML)\n",
    "    tags = re.findall(tag_pattern, HTML)\n",
    "    \n",
    "for tag, attrs in tags:\n",
    "    print(tag)\n",
    "    if attrs:\n",
    "        attr, value = re.findall('([\\S]+)=[\\\"]([\\s\\S]+?)[\\\"]', attrs)\n",
    "        print('->', attr, '>' value)\n",
    "    else:\n",
    "        continue"
   ]
  }
 ],
 "metadata": {
  "kernelspec": {
   "display_name": "Python 3 (ipykernel)",
   "language": "python",
   "name": "python3"
  },
  "language_info": {
   "codemirror_mode": {
    "name": "ipython",
    "version": 3
   },
   "file_extension": ".py",
   "mimetype": "text/x-python",
   "name": "python",
   "nbconvert_exporter": "python",
   "pygments_lexer": "ipython3",
   "version": "3.9.7"
  }
 },
 "nbformat": 4,
 "nbformat_minor": 5
}
