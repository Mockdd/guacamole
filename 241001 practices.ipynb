{
 "cells": [
  {
   "cell_type": "markdown",
   "id": "4baa2ec6",
   "metadata": {},
   "source": [
    "- introductions to set"
   ]
  },
  {
   "cell_type": "code",
   "execution_count": 1,
   "id": "9a65b6bc",
   "metadata": {},
   "outputs": [
    {
     "data": {
      "text/plain": [
       "{'?', 'a', 'd', 'e', 'g', 'i', 'l', 'n', 'o', 'r', 's', 't'}"
      ]
     },
     "execution_count": 1,
     "metadata": {},
     "output_type": "execute_result"
    }
   ],
   "source": [
    "set('googleisdoinggreat?')"
   ]
  },
  {
   "cell_type": "code",
   "execution_count": 2,
   "id": "05de1a7a",
   "metadata": {},
   "outputs": [
    {
     "data": {
      "text/plain": [
       "set"
      ]
     },
     "execution_count": 2,
     "metadata": {},
     "output_type": "execute_result"
    }
   ],
   "source": [
    "type(set('googleisdoinggreat?'))"
   ]
  },
  {
   "cell_type": "code",
   "execution_count": 3,
   "id": "f4e16bc9",
   "metadata": {},
   "outputs": [
    {
     "name": "stdout",
     "output_type": "stream",
     "text": [
      "t\n",
      "g\n",
      "o\n",
      "?\n",
      "d\n",
      "n\n",
      "r\n",
      "l\n",
      "a\n",
      "i\n",
      "e\n",
      "s\n"
     ]
    }
   ],
   "source": [
    "for i in set('googleisdoinggreat?'):\n",
    "    print(i)"
   ]
  },
  {
   "cell_type": "code",
   "execution_count": 4,
   "id": "078dbd57",
   "metadata": {},
   "outputs": [
    {
     "name": "stdout",
     "output_type": "stream",
     "text": [
      "t g o ? d n r l a i e s\n"
     ]
    }
   ],
   "source": [
    "print(*set('googleisdoinggreat?'))"
   ]
  },
  {
   "cell_type": "code",
   "execution_count": 5,
   "id": "75de3e50",
   "metadata": {},
   "outputs": [
    {
     "data": {
      "text/plain": [
       "{'?', 'a', 'd', 'e', 'g', 'i', 'l', 'n', 'o', 'r', 's', 't'}"
      ]
     },
     "execution_count": 5,
     "metadata": {},
     "output_type": "execute_result"
    }
   ],
   "source": [
    "set(set('googleisdoinggreat?'))"
   ]
  },
  {
   "cell_type": "code",
   "execution_count": 6,
   "id": "56b690f9",
   "metadata": {},
   "outputs": [
    {
     "data": {
      "text/plain": [
       "<enumerate at 0x26bace77080>"
      ]
     },
     "execution_count": 6,
     "metadata": {},
     "output_type": "execute_result"
    }
   ],
   "source": [
    "enumerate('googlegreat')"
   ]
  },
  {
   "cell_type": "code",
   "execution_count": 7,
   "id": "cb2feaf4",
   "metadata": {},
   "outputs": [
    {
     "data": {
      "text/plain": [
       "[(0, 'g'),\n",
       " (1, 'o'),\n",
       " (2, 'o'),\n",
       " (3, 'g'),\n",
       " (4, 'l'),\n",
       " (5, 'e'),\n",
       " (6, 'i'),\n",
       " (7, 's'),\n",
       " (8, 'g'),\n",
       " (9, 'r'),\n",
       " (10, 'e'),\n",
       " (11, 'a'),\n",
       " (12, 't'),\n",
       " (13, '?')]"
      ]
     },
     "execution_count": 7,
     "metadata": {},
     "output_type": "execute_result"
    }
   ],
   "source": [
    "list(enumerate('googleisgreat?'))"
   ]
  },
  {
   "cell_type": "code",
   "execution_count": 8,
   "id": "463834ba",
   "metadata": {},
   "outputs": [
    {
     "data": {
      "text/plain": [
       "<enumerate at 0x26bace58440>"
      ]
     },
     "execution_count": 8,
     "metadata": {},
     "output_type": "execute_result"
    }
   ],
   "source": [
    "enumerate(set('googleisdoinggreat?'))"
   ]
  },
  {
   "cell_type": "code",
   "execution_count": 9,
   "id": "b32ef4df",
   "metadata": {},
   "outputs": [
    {
     "name": "stdout",
     "output_type": "stream",
     "text": [
      "t\n",
      "g\n",
      "o\n",
      "?\n",
      "d\n",
      "n\n",
      "r\n",
      "l\n",
      "a\n",
      "i\n",
      "e\n",
      "s\n"
     ]
    }
   ],
   "source": [
    "for i in set('googleisdoinggreat?'):\n",
    "    print(i)"
   ]
  },
  {
   "cell_type": "code",
   "execution_count": 10,
   "id": "327adc83",
   "metadata": {},
   "outputs": [
    {
     "data": {
      "text/plain": [
       "['t', 'g', 'o', '?', 'd', 'n', 'r', 'l', 'a', 'i', 'e', 's']"
      ]
     },
     "execution_count": 10,
     "metadata": {},
     "output_type": "execute_result"
    }
   ],
   "source": [
    "list(set('googleisdoinggreat?'))"
   ]
  },
  {
   "cell_type": "code",
   "execution_count": 11,
   "id": "b8df26a5",
   "metadata": {},
   "outputs": [],
   "source": [
    "import numpy as np"
   ]
  },
  {
   "cell_type": "code",
   "execution_count": 14,
   "id": "dd9aef6b",
   "metadata": {},
   "outputs": [],
   "source": [
    "arr = list(np.random.default_rng().standard_normal(20))"
   ]
  },
  {
   "cell_type": "code",
   "execution_count": 15,
   "id": "1114104a",
   "metadata": {},
   "outputs": [
    {
     "data": {
      "text/plain": [
       "[-0.07281262461233705,\n",
       " 0.7550284598683918,\n",
       " -1.6386867366856523,\n",
       " -0.06756701667078256,\n",
       " 1.4007607560051598,\n",
       " -1.3789165525129605,\n",
       " -0.6684490270975902,\n",
       " -0.8545381161446269,\n",
       " 0.0873964604414093,\n",
       " -0.26329946452199854,\n",
       " -0.35130299948876476,\n",
       " 0.13667155842331966,\n",
       " -0.6833747734275663,\n",
       " 1.050533448834855,\n",
       " -0.26483829064395176,\n",
       " -2.0903921785291386,\n",
       " 0.8978940637558519,\n",
       " 1.8996899390228559,\n",
       " -0.0711227942199127,\n",
       " 0.19023554055404998]"
      ]
     },
     "execution_count": 15,
     "metadata": {},
     "output_type": "execute_result"
    }
   ],
   "source": [
    "arr"
   ]
  },
  {
   "cell_type": "code",
   "execution_count": 17,
   "id": "4547006d",
   "metadata": {},
   "outputs": [
    {
     "data": {
      "text/plain": [
       "[0, 1, -2, 0, 1, -1, -1, -1, 0, 0, 0, 0, -1, 1, 0, -2, 1, 2, 0, 0]"
      ]
     },
     "execution_count": 17,
     "metadata": {},
     "output_type": "execute_result"
    }
   ],
   "source": [
    "list(map(round, arr))"
   ]
  },
  {
   "cell_type": "code",
   "execution_count": 19,
   "id": "d05de24c",
   "metadata": {},
   "outputs": [
    {
     "data": {
      "text/plain": [
       "[-0.07,\n",
       " 0.76,\n",
       " -1.64,\n",
       " -0.07,\n",
       " 1.4,\n",
       " -1.38,\n",
       " -0.67,\n",
       " -0.85,\n",
       " 0.09,\n",
       " -0.26,\n",
       " -0.35,\n",
       " 0.14,\n",
       " -0.68,\n",
       " 1.05,\n",
       " -0.26,\n",
       " -2.09,\n",
       " 0.9,\n",
       " 1.9,\n",
       " -0.07,\n",
       " 0.19]"
      ]
     },
     "execution_count": 19,
     "metadata": {},
     "output_type": "execute_result"
    }
   ],
   "source": [
    "list(map(lambda x: round(x, 2), arr))"
   ]
  },
  {
   "cell_type": "code",
   "execution_count": 22,
   "id": "1d99b4db",
   "metadata": {},
   "outputs": [],
   "source": [
    "def average(array):\n",
    "    array = list(set(array))\n",
    "    aver = sum(array) / len(array)\n",
    "    return f'{aver}:.3'"
   ]
  },
  {
   "cell_type": "code",
   "execution_count": 23,
   "id": "2988157d",
   "metadata": {},
   "outputs": [
    {
     "data": {
      "text/plain": [
       "'-0.09935451738246945:.3'"
      ]
     },
     "execution_count": 23,
     "metadata": {},
     "output_type": "execute_result"
    }
   ],
   "source": [
    "average(arr)"
   ]
  },
  {
   "cell_type": "code",
   "execution_count": 27,
   "id": "51d11d3c",
   "metadata": {},
   "outputs": [],
   "source": [
    "def average(array):\n",
    "    array = list(set(array))\n",
    "    aver = sum(array) / len(array)\n",
    "    return f'{aver:.2}'"
   ]
  },
  {
   "cell_type": "code",
   "execution_count": 28,
   "id": "921a30df",
   "metadata": {},
   "outputs": [
    {
     "data": {
      "text/plain": [
       "'-0.099'"
      ]
     },
     "execution_count": 28,
     "metadata": {},
     "output_type": "execute_result"
    }
   ],
   "source": [
    "average(arr)"
   ]
  },
  {
   "cell_type": "code",
   "execution_count": 29,
   "id": "4b8b7926",
   "metadata": {},
   "outputs": [],
   "source": [
    "def average(array):\n",
    "    array = list(set(array))\n",
    "    aver = sum(array) / len(array)\n",
    "    return f'{aver:.3f}'"
   ]
  },
  {
   "cell_type": "code",
   "execution_count": 30,
   "id": "44032f46",
   "metadata": {},
   "outputs": [
    {
     "data": {
      "text/plain": [
       "'-0.099'"
      ]
     },
     "execution_count": 30,
     "metadata": {},
     "output_type": "execute_result"
    }
   ],
   "source": [
    "average(arr)"
   ]
  },
  {
   "cell_type": "markdown",
   "id": "d010b053",
   "metadata": {},
   "source": [
    "- symmetric difference"
   ]
  },
  {
   "cell_type": "code",
   "execution_count": null,
   "id": "9e1e3da9",
   "metadata": {},
   "outputs": [],
   "source": [
    "M = set()\n",
    "N = set()\n",
    "\n",
    "m = int(input())\n",
    "M.update(map(int, input().split()))\n",
    "n = int(input())\n",
    "N.update(map(int, input().split()))\n",
    "7 \n",
    "diff1 = M.difference(N)\n",
    "diff2 = N.difference(M)\n",
    "symmetric_diff = diff1.update(diff2)\n"
   ]
  },
  {
   "cell_type": "code",
   "execution_count": 56,
   "id": "ea5ee5f2",
   "metadata": {},
   "outputs": [],
   "source": [
    "M = set()"
   ]
  },
  {
   "cell_type": "code",
   "execution_count": 57,
   "id": "3df273a8",
   "metadata": {},
   "outputs": [],
   "source": [
    "M.update(map(int, '7 10 8 9'.split()))"
   ]
  },
  {
   "cell_type": "code",
   "execution_count": 58,
   "id": "77a8f796",
   "metadata": {},
   "outputs": [
    {
     "data": {
      "text/plain": [
       "{7, 8, 9, 10}"
      ]
     },
     "execution_count": 58,
     "metadata": {},
     "output_type": "execute_result"
    }
   ],
   "source": [
    "M"
   ]
  },
  {
   "cell_type": "code",
   "execution_count": 59,
   "id": "b2e11286",
   "metadata": {},
   "outputs": [],
   "source": [
    "N = set()\n",
    "N.update(map(int, '1 80 9 2'.split()))"
   ]
  },
  {
   "cell_type": "code",
   "execution_count": 35,
   "id": "9a98bf99",
   "metadata": {},
   "outputs": [
    {
     "data": {
      "text/plain": [
       "{1, 2, 9, 80}"
      ]
     },
     "execution_count": 35,
     "metadata": {},
     "output_type": "execute_result"
    }
   ],
   "source": [
    "N"
   ]
  },
  {
   "cell_type": "code",
   "execution_count": 36,
   "id": "5c899ddd",
   "metadata": {},
   "outputs": [],
   "source": [
    "diff1 = M.difference(N)\n",
    "diff2 = N.difference(M)\n",
    "symmetric_diff = diff1.update(diff2)"
   ]
  },
  {
   "cell_type": "code",
   "execution_count": 37,
   "id": "02584ee9",
   "metadata": {},
   "outputs": [],
   "source": [
    "symmetric_diff"
   ]
  },
  {
   "cell_type": "code",
   "execution_count": 38,
   "id": "671a143a",
   "metadata": {},
   "outputs": [
    {
     "data": {
      "text/plain": [
       "{1, 2, 7, 8, 10, 80}"
      ]
     },
     "execution_count": 38,
     "metadata": {},
     "output_type": "execute_result"
    }
   ],
   "source": [
    "diff1"
   ]
  },
  {
   "cell_type": "code",
   "execution_count": null,
   "id": "9d035a7b",
   "metadata": {},
   "outputs": [],
   "source": [
    "M = set()\n",
    "N = set()\n",
    "\n",
    "m = int(input())\n",
    "M.update(map(int, input().split()))\n",
    "n = int(input())\n",
    "N.update(map(int, input().split()))\n",
    "\n",
    "diff1 = M.difference(N)\n",
    "diff2 = N.difference(M)\n",
    "diff1.update(diff2)\n",
    "symmetric_diff = diff1\n",
    "\n",
    "print(symmetric_diff)"
   ]
  },
  {
   "cell_type": "code",
   "execution_count": 39,
   "id": "1f454ee1",
   "metadata": {},
   "outputs": [
    {
     "ename": "KeyError",
     "evalue": "{80, 1, 2, 9}",
     "output_type": "error",
     "traceback": [
      "\u001b[1;31m---------------------------------------------------------------------------\u001b[0m",
      "\u001b[1;31mKeyError\u001b[0m                                  Traceback (most recent call last)",
      "\u001b[1;32mC:\\Users\\AARONC~1\\AppData\\Local\\Temp/ipykernel_4000/3153912307.py\u001b[0m in \u001b[0;36m<module>\u001b[1;34m\u001b[0m\n\u001b[1;32m----> 1\u001b[1;33m \u001b[0mM\u001b[0m\u001b[1;33m.\u001b[0m\u001b[0mremove\u001b[0m\u001b[1;33m(\u001b[0m\u001b[0mN\u001b[0m\u001b[1;33m)\u001b[0m\u001b[1;33m\u001b[0m\u001b[1;33m\u001b[0m\u001b[0m\n\u001b[0m",
      "\u001b[1;31mKeyError\u001b[0m: {80, 1, 2, 9}"
     ]
    }
   ],
   "source": [
    "M.remove(N)"
   ]
  },
  {
   "cell_type": "code",
   "execution_count": 40,
   "id": "7a0cf977",
   "metadata": {},
   "outputs": [
    {
     "ename": "TypeError",
     "evalue": "set.remove() takes exactly one argument (4 given)",
     "output_type": "error",
     "traceback": [
      "\u001b[1;31m---------------------------------------------------------------------------\u001b[0m",
      "\u001b[1;31mTypeError\u001b[0m                                 Traceback (most recent call last)",
      "\u001b[1;32mC:\\Users\\AARONC~1\\AppData\\Local\\Temp/ipykernel_4000/2549078653.py\u001b[0m in \u001b[0;36m<module>\u001b[1;34m\u001b[0m\n\u001b[1;32m----> 1\u001b[1;33m \u001b[0mM\u001b[0m\u001b[1;33m.\u001b[0m\u001b[0mremove\u001b[0m\u001b[1;33m(\u001b[0m\u001b[1;33m*\u001b[0m\u001b[0mN\u001b[0m\u001b[1;33m)\u001b[0m\u001b[1;33m\u001b[0m\u001b[1;33m\u001b[0m\u001b[0m\n\u001b[0m",
      "\u001b[1;31mTypeError\u001b[0m: set.remove() takes exactly one argument (4 given)"
     ]
    }
   ],
   "source": [
    "M.remove(*N)"
   ]
  },
  {
   "cell_type": "code",
   "execution_count": 41,
   "id": "cc55b80f",
   "metadata": {},
   "outputs": [],
   "source": [
    "for _ in N:\n",
    "    M.discard(_)"
   ]
  },
  {
   "cell_type": "code",
   "execution_count": 42,
   "id": "01777161",
   "metadata": {},
   "outputs": [
    {
     "data": {
      "text/plain": [
       "{7, 8, 10}"
      ]
     },
     "execution_count": 42,
     "metadata": {},
     "output_type": "execute_result"
    }
   ],
   "source": [
    "M"
   ]
  },
  {
   "cell_type": "code",
   "execution_count": 43,
   "id": "3d87902f",
   "metadata": {},
   "outputs": [],
   "source": [
    "for _ in M:\n",
    "    N.discard(_)"
   ]
  },
  {
   "cell_type": "code",
   "execution_count": 44,
   "id": "d9bf4aa6",
   "metadata": {},
   "outputs": [
    {
     "data": {
      "text/plain": [
       "{1, 2, 9, 80}"
      ]
     },
     "execution_count": 44,
     "metadata": {},
     "output_type": "execute_result"
    }
   ],
   "source": [
    "N"
   ]
  },
  {
   "cell_type": "code",
   "execution_count": 45,
   "id": "81e09f74",
   "metadata": {},
   "outputs": [],
   "source": [
    "M.update(N)"
   ]
  },
  {
   "cell_type": "code",
   "execution_count": 46,
   "id": "254e7099",
   "metadata": {},
   "outputs": [
    {
     "data": {
      "text/plain": [
       "{1, 2, 7, 8, 9, 10, 80}"
      ]
     },
     "execution_count": 46,
     "metadata": {},
     "output_type": "execute_result"
    }
   ],
   "source": [
    "M"
   ]
  },
  {
   "cell_type": "code",
   "execution_count": 47,
   "id": "5f6d69b5",
   "metadata": {},
   "outputs": [
    {
     "data": {
      "text/plain": [
       "False"
      ]
     },
     "execution_count": 47,
     "metadata": {},
     "output_type": "execute_result"
    }
   ],
   "source": [
    "M == diff1"
   ]
  },
  {
   "cell_type": "code",
   "execution_count": 48,
   "id": "9838e128",
   "metadata": {},
   "outputs": [
    {
     "data": {
      "text/plain": [
       "{1, 2, 7, 8, 10, 80}"
      ]
     },
     "execution_count": 48,
     "metadata": {},
     "output_type": "execute_result"
    }
   ],
   "source": [
    "diff1"
   ]
  },
  {
   "cell_type": "code",
   "execution_count": 50,
   "id": "47886a72",
   "metadata": {},
   "outputs": [
    {
     "ename": "KeyError",
     "evalue": "3",
     "output_type": "error",
     "traceback": [
      "\u001b[1;31m---------------------------------------------------------------------------\u001b[0m",
      "\u001b[1;31mKeyError\u001b[0m                                  Traceback (most recent call last)",
      "\u001b[1;32mC:\\Users\\AARONC~1\\AppData\\Local\\Temp/ipykernel_4000/3010085266.py\u001b[0m in \u001b[0;36m<module>\u001b[1;34m\u001b[0m\n\u001b[1;32m----> 1\u001b[1;33m \u001b[0mN\u001b[0m\u001b[1;33m.\u001b[0m\u001b[0mremove\u001b[0m\u001b[1;33m(\u001b[0m\u001b[1;36m3\u001b[0m\u001b[1;33m)\u001b[0m\u001b[1;33m\u001b[0m\u001b[1;33m\u001b[0m\u001b[0m\n\u001b[0m",
      "\u001b[1;31mKeyError\u001b[0m: 3"
     ]
    }
   ],
   "source": [
    "N.remove(3)"
   ]
  },
  {
   "cell_type": "code",
   "execution_count": 51,
   "id": "8736763f",
   "metadata": {},
   "outputs": [],
   "source": [
    "N.discard(3)"
   ]
  },
  {
   "cell_type": "code",
   "execution_count": 60,
   "id": "d634e98f",
   "metadata": {},
   "outputs": [
    {
     "name": "stdout",
     "output_type": "stream",
     "text": [
      "{8, 9, 10, 7} {80, 1, 2, 9}\n"
     ]
    }
   ],
   "source": [
    "print(M, N)"
   ]
  },
  {
   "cell_type": "code",
   "execution_count": 61,
   "id": "6ca35951",
   "metadata": {},
   "outputs": [],
   "source": [
    "union = M.union(N)"
   ]
  },
  {
   "cell_type": "code",
   "execution_count": 62,
   "id": "1c8e0d31",
   "metadata": {},
   "outputs": [],
   "source": [
    "inter = M.intersection(N)"
   ]
  },
  {
   "cell_type": "code",
   "execution_count": 63,
   "id": "5355a987",
   "metadata": {},
   "outputs": [
    {
     "name": "stdout",
     "output_type": "stream",
     "text": [
      "{1, 2, 7, 8, 10, 80}\n"
     ]
    }
   ],
   "source": [
    "for _ in inter:\n",
    "    union.remove(_)\n",
    "print(union)"
   ]
  },
  {
   "cell_type": "code",
   "execution_count": 64,
   "id": "2af60579",
   "metadata": {},
   "outputs": [
    {
     "data": {
      "text/plain": [
       "{<map at 0x26bbc3882b0>}"
      ]
     },
     "execution_count": 64,
     "metadata": {},
     "output_type": "execute_result"
    }
   ],
   "source": [
    "{map(int, '9 10 3 2'.split())}"
   ]
  },
  {
   "cell_type": "code",
   "execution_count": 65,
   "id": "9180c96f",
   "metadata": {},
   "outputs": [],
   "source": [
    "symmetric_diff"
   ]
  },
  {
   "cell_type": "code",
   "execution_count": 67,
   "id": "99e059ab",
   "metadata": {},
   "outputs": [
    {
     "data": {
      "text/plain": [
       "{1, 2, 7, 8, 10, 80}"
      ]
     },
     "execution_count": 67,
     "metadata": {},
     "output_type": "execute_result"
    }
   ],
   "source": [
    "diff1"
   ]
  },
  {
   "cell_type": "code",
   "execution_count": 68,
   "id": "b871b9b9",
   "metadata": {},
   "outputs": [
    {
     "data": {
      "text/plain": [
       "[1, 2, 7, 8, 10, 80]"
      ]
     },
     "execution_count": 68,
     "metadata": {},
     "output_type": "execute_result"
    }
   ],
   "source": [
    "sorted(diff1)"
   ]
  },
  {
   "cell_type": "code",
   "execution_count": 69,
   "id": "e6e8205d",
   "metadata": {},
   "outputs": [
    {
     "data": {
      "text/plain": [
       "{1, 2, 7, 8, 10, 80}"
      ]
     },
     "execution_count": 69,
     "metadata": {},
     "output_type": "execute_result"
    }
   ],
   "source": [
    "diff1"
   ]
  },
  {
   "cell_type": "code",
   "execution_count": 70,
   "id": "eaeaa7c8",
   "metadata": {},
   "outputs": [],
   "source": [
    "symmetric_diff = diff1"
   ]
  },
  {
   "cell_type": "code",
   "execution_count": 71,
   "id": "e7cbf0c2",
   "metadata": {},
   "outputs": [
    {
     "data": {
      "text/plain": [
       "{1, 2, 7, 8, 10, 80}"
      ]
     },
     "execution_count": 71,
     "metadata": {},
     "output_type": "execute_result"
    }
   ],
   "source": [
    "symmetric_diff"
   ]
  },
  {
   "cell_type": "markdown",
   "id": "924c62bb",
   "metadata": {},
   "source": [
    "### 중간 과정에 int 자료형이 필요한지?\n",
    "### 출력할 때 어떤 자료형이어야 하는지?"
   ]
  },
  {
   "cell_type": "code",
   "execution_count": 82,
   "id": "60d39ca8",
   "metadata": {},
   "outputs": [],
   "source": [
    "M = set()\n",
    "N = set()\n",
    "\n",
    "M.update(map(int, '9 10 3 2'.split()))\n",
    "N.update(map(int, '9 2 1 80 7'.split()))"
   ]
  },
  {
   "cell_type": "code",
   "execution_count": 83,
   "id": "52fa5bcb",
   "metadata": {},
   "outputs": [
    {
     "data": {
      "text/plain": [
       "{2, 3, 9, 10}"
      ]
     },
     "execution_count": 83,
     "metadata": {},
     "output_type": "execute_result"
    }
   ],
   "source": [
    "M"
   ]
  },
  {
   "cell_type": "code",
   "execution_count": 84,
   "id": "100870d1",
   "metadata": {},
   "outputs": [
    {
     "data": {
      "text/plain": [
       "{1, 2, 7, 9, 80}"
      ]
     },
     "execution_count": 84,
     "metadata": {},
     "output_type": "execute_result"
    }
   ],
   "source": [
    "N"
   ]
  },
  {
   "cell_type": "code",
   "execution_count": 85,
   "id": "8012256c",
   "metadata": {},
   "outputs": [],
   "source": [
    "diff1 = M.difference(N)\n",
    "diff2 = N.difference(M)"
   ]
  },
  {
   "cell_type": "code",
   "execution_count": 86,
   "id": "8f2b5e80",
   "metadata": {},
   "outputs": [],
   "source": [
    "diff1.update(diff2)"
   ]
  },
  {
   "cell_type": "code",
   "execution_count": 87,
   "id": "71cbf80c",
   "metadata": {},
   "outputs": [
    {
     "data": {
      "text/plain": [
       "{1, 3, 7, 10, 80}"
      ]
     },
     "execution_count": 87,
     "metadata": {},
     "output_type": "execute_result"
    }
   ],
   "source": [
    "diff1"
   ]
  },
  {
   "cell_type": "code",
   "execution_count": 89,
   "id": "46dc6704",
   "metadata": {},
   "outputs": [],
   "source": [
    "symmetric_diff = sorted(diff1)"
   ]
  },
  {
   "cell_type": "code",
   "execution_count": 90,
   "id": "71d2d8bb",
   "metadata": {},
   "outputs": [
    {
     "name": "stdout",
     "output_type": "stream",
     "text": [
      "1 3 7 10 80\n"
     ]
    }
   ],
   "source": [
    "print(*symmetric_diff)"
   ]
  },
  {
   "cell_type": "code",
   "execution_count": 91,
   "id": "f8d0eb39",
   "metadata": {},
   "outputs": [
    {
     "ename": "TypeError",
     "evalue": "can't multiply sequence by non-int of type 'list'",
     "output_type": "error",
     "traceback": [
      "\u001b[1;31m---------------------------------------------------------------------------\u001b[0m",
      "\u001b[1;31mTypeError\u001b[0m                                 Traceback (most recent call last)",
      "\u001b[1;32mC:\\Users\\AARONC~1\\AppData\\Local\\Temp/ipykernel_4000/297229746.py\u001b[0m in \u001b[0;36m<module>\u001b[1;34m\u001b[0m\n\u001b[1;32m----> 1\u001b[1;33m \u001b[0mprint\u001b[0m\u001b[1;33m(\u001b[0m\u001b[1;34m'\\n'\u001b[0m\u001b[1;33m*\u001b[0m\u001b[0msymmetric_diff\u001b[0m\u001b[1;33m)\u001b[0m\u001b[1;33m\u001b[0m\u001b[1;33m\u001b[0m\u001b[0m\n\u001b[0m",
      "\u001b[1;31mTypeError\u001b[0m: can't multiply sequence by non-int of type 'list'"
     ]
    }
   ],
   "source": [
    "print('\\n'*symmetric_diff)"
   ]
  },
  {
   "cell_type": "code",
   "execution_count": 92,
   "id": "e2ff2d3e",
   "metadata": {},
   "outputs": [
    {
     "ename": "TypeError",
     "evalue": "can only concatenate list (not \"str\") to list",
     "output_type": "error",
     "traceback": [
      "\u001b[1;31m---------------------------------------------------------------------------\u001b[0m",
      "\u001b[1;31mTypeError\u001b[0m                                 Traceback (most recent call last)",
      "\u001b[1;32mC:\\Users\\AARONC~1\\AppData\\Local\\Temp/ipykernel_4000/2893098756.py\u001b[0m in \u001b[0;36m<module>\u001b[1;34m\u001b[0m\n\u001b[1;32m----> 1\u001b[1;33m \u001b[0mprint\u001b[0m\u001b[1;33m(\u001b[0m\u001b[1;33m*\u001b[0m\u001b[0msymmetric_diff\u001b[0m\u001b[1;33m+\u001b[0m\u001b[1;34m'\\n'\u001b[0m\u001b[1;33m)\u001b[0m\u001b[1;33m\u001b[0m\u001b[1;33m\u001b[0m\u001b[0m\n\u001b[0m",
      "\u001b[1;31mTypeError\u001b[0m: can only concatenate list (not \"str\") to list"
     ]
    }
   ],
   "source": [
    "print(*symmetric_diff+'\\n')"
   ]
  },
  {
   "cell_type": "code",
   "execution_count": 93,
   "id": "f6905fd4",
   "metadata": {},
   "outputs": [
    {
     "ename": "TypeError",
     "evalue": "str() takes at most 3 arguments (5 given)",
     "output_type": "error",
     "traceback": [
      "\u001b[1;31m---------------------------------------------------------------------------\u001b[0m",
      "\u001b[1;31mTypeError\u001b[0m                                 Traceback (most recent call last)",
      "\u001b[1;32mC:\\Users\\AARONC~1\\AppData\\Local\\Temp/ipykernel_4000/2823214981.py\u001b[0m in \u001b[0;36m<module>\u001b[1;34m\u001b[0m\n\u001b[1;32m----> 1\u001b[1;33m \u001b[0mprint\u001b[0m\u001b[1;33m(\u001b[0m\u001b[0mstr\u001b[0m\u001b[1;33m(\u001b[0m\u001b[1;33m*\u001b[0m\u001b[0msymmetric_diff\u001b[0m\u001b[1;33m)\u001b[0m \u001b[1;33m+\u001b[0m \u001b[1;34m'\\n'\u001b[0m\u001b[1;33m)\u001b[0m\u001b[1;33m\u001b[0m\u001b[1;33m\u001b[0m\u001b[0m\n\u001b[0m",
      "\u001b[1;31mTypeError\u001b[0m: str() takes at most 3 arguments (5 given)"
     ]
    }
   ],
   "source": [
    "print(str(*symmetric_diff) + '\\n')"
   ]
  },
  {
   "cell_type": "code",
   "execution_count": 94,
   "id": "209e3bc2",
   "metadata": {},
   "outputs": [
    {
     "name": "stdout",
     "output_type": "stream",
     "text": [
      "1\n",
      "3\n",
      "7\n",
      "10\n",
      "80\n"
     ]
    }
   ],
   "source": [
    "print('\\n'.join(map(str, symmetric_diff)))"
   ]
  },
  {
   "cell_type": "markdown",
   "id": "09731463",
   "metadata": {},
   "source": [
    "### 예시답안\n",
    "\n",
    "a, b = (int(input()), input().split())\n",
    "c, d = (int(input()), input().split())\n",
    "\n",
    "x = set(b)\n",
    "y = set(d)\n",
    "\n",
    "p = y.difference(x)\n",
    "q = x.difference(y)\n",
    "\n",
    "r = p.union(q)\n",
    "print('\\n'.join(sorted(r, key = int)))"
   ]
  },
  {
   "cell_type": "code",
   "execution_count": 95,
   "id": "8b79d134",
   "metadata": {},
   "outputs": [
    {
     "name": "stdout",
     "output_type": "stream",
     "text": [
      "4\n",
      "4\n",
      "4\n",
      "4\n"
     ]
    },
    {
     "ename": "TypeError",
     "evalue": "'setp' is an invalid keyword argument for print()",
     "output_type": "error",
     "traceback": [
      "\u001b[1;31m---------------------------------------------------------------------------\u001b[0m",
      "\u001b[1;31mTypeError\u001b[0m                                 Traceback (most recent call last)",
      "\u001b[1;32mC:\\Users\\AARONC~1\\AppData\\Local\\Temp/ipykernel_4000/4234513419.py\u001b[0m in \u001b[0;36m<module>\u001b[1;34m\u001b[0m\n\u001b[0;32m      1\u001b[0m \u001b[0ma\u001b[0m\u001b[1;33m,\u001b[0m \u001b[0mb\u001b[0m \u001b[1;33m=\u001b[0m \u001b[1;33m[\u001b[0m\u001b[0mset\u001b[0m\u001b[1;33m(\u001b[0m\u001b[0minput\u001b[0m\u001b[1;33m(\u001b[0m\u001b[1;33m)\u001b[0m\u001b[1;33m.\u001b[0m\u001b[0msplit\u001b[0m\u001b[1;33m(\u001b[0m\u001b[1;33m)\u001b[0m\u001b[1;33m)\u001b[0m \u001b[1;32mfor\u001b[0m \u001b[0m_\u001b[0m \u001b[1;32min\u001b[0m \u001b[0mrange\u001b[0m\u001b[1;33m(\u001b[0m\u001b[1;36m4\u001b[0m\u001b[1;33m)\u001b[0m\u001b[1;33m]\u001b[0m\u001b[1;33m[\u001b[0m\u001b[1;36m1\u001b[0m\u001b[1;33m:\u001b[0m\u001b[1;33m:\u001b[0m\u001b[1;36m2\u001b[0m\u001b[1;33m]\u001b[0m\u001b[1;33m\u001b[0m\u001b[1;33m\u001b[0m\u001b[0m\n\u001b[1;32m----> 2\u001b[1;33m \u001b[0mprint\u001b[0m\u001b[1;33m(\u001b[0m\u001b[1;33m*\u001b[0m\u001b[0msorted\u001b[0m\u001b[1;33m(\u001b[0m\u001b[0ma\u001b[0m\u001b[1;33m^\u001b[0m\u001b[0mb\u001b[0m\u001b[1;33m,\u001b[0m \u001b[0mkey\u001b[0m \u001b[1;33m=\u001b[0m \u001b[0mint\u001b[0m\u001b[1;33m)\u001b[0m\u001b[1;33m,\u001b[0m \u001b[0msetp\u001b[0m \u001b[1;33m=\u001b[0m \u001b[1;34m'\\n'\u001b[0m\u001b[1;33m)\u001b[0m\u001b[1;33m\u001b[0m\u001b[1;33m\u001b[0m\u001b[0m\n\u001b[0m",
      "\u001b[1;31mTypeError\u001b[0m: 'setp' is an invalid keyword argument for print()"
     ]
    }
   ],
   "source": [
    "a, b = [set(input().split()) for _ in range(4)][1::2]\n",
    "print(*sorted(a^b, key = int), sep = '\\n')"
   ]
  },
  {
   "cell_type": "code",
   "execution_count": 96,
   "id": "70bd334d",
   "metadata": {},
   "outputs": [
    {
     "name": "stdout",
     "output_type": "stream",
     "text": [
      "1\n",
      "3\n",
      "7\n",
      "10\n",
      "80\n"
     ]
    }
   ],
   "source": [
    "print(*symmetric_diff, sep = '\\n')"
   ]
  },
  {
   "cell_type": "markdown",
   "id": "f19308cf",
   "metadata": {},
   "source": [
    "- Set.symmetric_difference() Operation"
   ]
  },
  {
   "cell_type": "code",
   "execution_count": 97,
   "id": "535befa7",
   "metadata": {},
   "outputs": [
    {
     "data": {
      "text/plain": [
       "{1, 2, 3, 4}"
      ]
     },
     "execution_count": 97,
     "metadata": {},
     "output_type": "execute_result"
    }
   ],
   "source": [
    "set(map(int, '1 2 3 4'.split()))"
   ]
  },
  {
   "cell_type": "markdown",
   "id": "59b3907c",
   "metadata": {},
   "source": [
    "e = int(input())\n",
    "E = set(map(int, input().split()))\n",
    "f = int(input())\n",
    "F = set(map(int, input().split()))\n",
    "\n",
    "diff = E^F\n",
    "print(len(diff))"
   ]
  },
  {
   "cell_type": "code",
   "execution_count": 98,
   "id": "346a42a3",
   "metadata": {},
   "outputs": [
    {
     "name": "stdout",
     "output_type": "stream",
     "text": [
      "6\n"
     ]
    }
   ],
   "source": [
    "e, E = int('3'), set(map(int, '10 11 14'.split()))\n",
    "f, F = int('5'), set(map(int, '11 13 15 16 20'.split()))\n",
    "\n",
    "diff = E^F\n",
    "print(len(diff))"
   ]
  },
  {
   "cell_type": "code",
   "execution_count": 99,
   "id": "6c1c57a1",
   "metadata": {},
   "outputs": [
    {
     "data": {
      "text/plain": [
       "3"
      ]
     },
     "execution_count": 99,
     "metadata": {},
     "output_type": "execute_result"
    }
   ],
   "source": [
    "e"
   ]
  },
  {
   "cell_type": "code",
   "execution_count": 100,
   "id": "3ce7f675",
   "metadata": {},
   "outputs": [
    {
     "data": {
      "text/plain": [
       "5"
      ]
     },
     "execution_count": 100,
     "metadata": {},
     "output_type": "execute_result"
    }
   ],
   "source": [
    "f"
   ]
  },
  {
   "cell_type": "code",
   "execution_count": null,
   "id": "d93fc14f",
   "metadata": {},
   "outputs": [],
   "source": [
    "# 예시답안\n",
    "_, a = input(), set(input().split())\n",
    "_, b = input(), set(input().split())\n",
    "print(len(a.symmetric_difference(b)))"
   ]
  },
  {
   "cell_type": "markdown",
   "id": "fd421b7d",
   "metadata": {},
   "source": [
    "### 필요없는 변수는 anonymous varaible로 \n",
    "### 굳이 int 자료형 변경 필요 없었긔 "
   ]
  },
  {
   "cell_type": "markdown",
   "id": "feeaae65",
   "metadata": {},
   "source": [
    "- defaultdict"
   ]
  },
  {
   "cell_type": "code",
   "execution_count": 101,
   "id": "ffb43ba1",
   "metadata": {},
   "outputs": [],
   "source": [
    "import collections"
   ]
  },
  {
   "cell_type": "code",
   "execution_count": 102,
   "id": "5c13e177",
   "metadata": {},
   "outputs": [],
   "source": [
    "d = collections.defaultdict(list)"
   ]
  },
  {
   "cell_type": "code",
   "execution_count": 103,
   "id": "1af87154",
   "metadata": {},
   "outputs": [
    {
     "data": {
      "text/plain": [
       "defaultdict(list, {})"
      ]
     },
     "execution_count": 103,
     "metadata": {},
     "output_type": "execute_result"
    }
   ],
   "source": [
    "d"
   ]
  },
  {
   "cell_type": "code",
   "execution_count": 105,
   "id": "9f5e55c0",
   "metadata": {},
   "outputs": [
    {
     "name": "stdout",
     "output_type": "stream",
     "text": [
      "('python', ['awesome', 'l', 'a', 'n', 'g', 'u', 'a', 'g', 'e'])\n",
      "('something-else', ['not relevant'])\n"
     ]
    }
   ],
   "source": [
    "d['python'].append('awesome')\n",
    "d['something-else'].append('not relevant')\n",
    "d['python'].extend('language')\n",
    "for i in d.items():\n",
    "    print(i)"
   ]
  },
  {
   "cell_type": "code",
   "execution_count": 106,
   "id": "6b0f91f3",
   "metadata": {},
   "outputs": [
    {
     "data": {
      "text/plain": [
       "defaultdict(list,\n",
       "            {'python': ['awesome', 'l', 'a', 'n', 'g', 'u', 'a', 'g', 'e'],\n",
       "             'something-else': ['not relevant']})"
      ]
     },
     "execution_count": 106,
     "metadata": {},
     "output_type": "execute_result"
    }
   ],
   "source": [
    "d"
   ]
  },
  {
   "cell_type": "code",
   "execution_count": 128,
   "id": "28886bd0",
   "metadata": {},
   "outputs": [],
   "source": [
    "A = ['a', 'b', 'b', 'c', 'c', 'd', 'e', 'e', 'e', 'e']\n",
    "B = ['b', 'e']"
   ]
  },
  {
   "cell_type": "code",
   "execution_count": 129,
   "id": "890c9928",
   "metadata": {},
   "outputs": [],
   "source": [
    "I = collections.defaultdict(list)\n",
    "E = list(enumerate(''.join(A)))"
   ]
  },
  {
   "cell_type": "code",
   "execution_count": 130,
   "id": "6b4405c1",
   "metadata": {},
   "outputs": [],
   "source": [
    "for _ in E:\n",
    "    I[_[1]].append(_[0])"
   ]
  },
  {
   "cell_type": "code",
   "execution_count": 131,
   "id": "2431634d",
   "metadata": {},
   "outputs": [
    {
     "name": "stdout",
     "output_type": "stream",
     "text": [
      "[1, 2]\n",
      "[6, 7, 8, 9]\n"
     ]
    }
   ],
   "source": [
    "for b in B:\n",
    "    print(I[b])"
   ]
  },
  {
   "cell_type": "code",
   "execution_count": 133,
   "id": "0973f74f",
   "metadata": {},
   "outputs": [
    {
     "name": "stdout",
     "output_type": "stream",
     "text": [
      "1 2\n",
      "6 7 8 9\n"
     ]
    }
   ],
   "source": [
    "for b in B:\n",
    "    print(*I[b])"
   ]
  },
  {
   "cell_type": "code",
   "execution_count": 112,
   "id": "e5fcd7f6",
   "metadata": {},
   "outputs": [],
   "source": [
    "for _ in E:\n",
    "    print(_)"
   ]
  },
  {
   "cell_type": "code",
   "execution_count": 113,
   "id": "c0dd3566",
   "metadata": {},
   "outputs": [
    {
     "data": {
      "text/plain": [
       "[]"
      ]
     },
     "execution_count": 113,
     "metadata": {},
     "output_type": "execute_result"
    }
   ],
   "source": [
    "list(E)"
   ]
  },
  {
   "cell_type": "code",
   "execution_count": 114,
   "id": "78209573",
   "metadata": {},
   "outputs": [
    {
     "data": {
      "text/plain": [
       "<enumerate at 0x26bbc396280>"
      ]
     },
     "execution_count": 114,
     "metadata": {},
     "output_type": "execute_result"
    }
   ],
   "source": [
    "enumerate(A)"
   ]
  },
  {
   "cell_type": "code",
   "execution_count": 115,
   "id": "691a062e",
   "metadata": {},
   "outputs": [
    {
     "data": {
      "text/plain": [
       "<enumerate at 0x26bace16940>"
      ]
     },
     "execution_count": 115,
     "metadata": {},
     "output_type": "execute_result"
    }
   ],
   "source": [
    "enumerate('agdsa')"
   ]
  },
  {
   "cell_type": "code",
   "execution_count": 116,
   "id": "487a69f9",
   "metadata": {},
   "outputs": [
    {
     "name": "stdout",
     "output_type": "stream",
     "text": [
      "(0, 'a')\n",
      "(1, 'g')\n",
      "(2, 'd')\n",
      "(3, 's')\n",
      "(4, 'a')\n"
     ]
    }
   ],
   "source": [
    "for i in enumerate('agdsa'):\n",
    "    print(i)"
   ]
  },
  {
   "cell_type": "code",
   "execution_count": 117,
   "id": "b8f514d6",
   "metadata": {},
   "outputs": [
    {
     "name": "stdout",
     "output_type": "stream",
     "text": [
      "5 2\n"
     ]
    },
    {
     "ename": "TypeError",
     "evalue": "'int' object is not iterable",
     "output_type": "error",
     "traceback": [
      "\u001b[1;31m---------------------------------------------------------------------------\u001b[0m",
      "\u001b[1;31mTypeError\u001b[0m                                 Traceback (most recent call last)",
      "\u001b[1;32mC:\\Users\\AARONC~1\\AppData\\Local\\Temp/ipykernel_4000/1497367679.py\u001b[0m in \u001b[0;36m<module>\u001b[1;34m\u001b[0m\n\u001b[0;32m      1\u001b[0m \u001b[0mn\u001b[0m\u001b[1;33m,\u001b[0m \u001b[0mm\u001b[0m \u001b[1;33m=\u001b[0m \u001b[0mmap\u001b[0m\u001b[1;33m(\u001b[0m\u001b[0mint\u001b[0m\u001b[1;33m,\u001b[0m \u001b[0minput\u001b[0m\u001b[1;33m(\u001b[0m\u001b[1;33m)\u001b[0m\u001b[1;33m.\u001b[0m\u001b[0msplit\u001b[0m\u001b[1;33m(\u001b[0m\u001b[1;33m)\u001b[0m\u001b[1;33m)\u001b[0m\u001b[1;33m\u001b[0m\u001b[1;33m\u001b[0m\u001b[0m\n\u001b[1;32m----> 2\u001b[1;33m \u001b[1;32mfor\u001b[0m \u001b[0m_\u001b[0m \u001b[1;32min\u001b[0m \u001b[0mn\u001b[0m\u001b[1;33m:\u001b[0m\u001b[1;33m\u001b[0m\u001b[1;33m\u001b[0m\u001b[0m\n\u001b[0m\u001b[0;32m      3\u001b[0m     \u001b[0mA\u001b[0m \u001b[1;33m=\u001b[0m \u001b[0mreduce\u001b[0m\u001b[1;33m(\u001b[0m\u001b[1;34m''\u001b[0m\u001b[1;33m.\u001b[0m\u001b[0mjoin\u001b[0m\u001b[1;33m(\u001b[0m\u001b[1;33m[\u001b[0m\u001b[0mstr\u001b[0m\u001b[1;33m(\u001b[0m\u001b[0mx\u001b[0m\u001b[1;33m)\u001b[0m\u001b[1;33m,\u001b[0m \u001b[0mstr\u001b[0m\u001b[1;33m(\u001b[0m\u001b[0my\u001b[0m\u001b[1;33m)\u001b[0m\u001b[1;33m]\u001b[0m\u001b[1;33m,\u001b[0m \u001b[0minput\u001b[0m\u001b[1;33m(\u001b[0m\u001b[1;33m)\u001b[0m\u001b[1;33m,\u001b[0m \u001b[1;34m''\u001b[0m\u001b[1;33m)\u001b[0m\u001b[1;33m)\u001b[0m\u001b[1;33m\u001b[0m\u001b[1;33m\u001b[0m\u001b[0m\n\u001b[0;32m      4\u001b[0m \u001b[1;32mfor\u001b[0m \u001b[0m_\u001b[0m \u001b[1;32min\u001b[0m \u001b[0mm\u001b[0m\u001b[1;33m:\u001b[0m\u001b[1;33m\u001b[0m\u001b[1;33m\u001b[0m\u001b[0m\n\u001b[0;32m      5\u001b[0m     \u001b[0mB\u001b[0m \u001b[1;33m=\u001b[0m \u001b[0mreduce\u001b[0m\u001b[1;33m(\u001b[0m\u001b[1;34m''\u001b[0m\u001b[1;33m.\u001b[0m\u001b[0mjoin\u001b[0m\u001b[1;33m(\u001b[0m\u001b[1;33m[\u001b[0m\u001b[0msre\u001b[0m\u001b[1;33m(\u001b[0m\u001b[0mx\u001b[0m\u001b[1;33m)\u001b[0m\u001b[1;33m,\u001b[0m \u001b[0msrt\u001b[0m\u001b[1;33m(\u001b[0m\u001b[0my\u001b[0m\u001b[1;33m)\u001b[0m\u001b[1;33m]\u001b[0m\u001b[1;33m,\u001b[0m \u001b[0minput\u001b[0m\u001b[1;33m(\u001b[0m\u001b[1;33m)\u001b[0m\u001b[1;33m,\u001b[0m \u001b[1;34m''\u001b[0m\u001b[1;33m)\u001b[0m\u001b[1;33m)\u001b[0m\u001b[1;33m\u001b[0m\u001b[1;33m\u001b[0m\u001b[0m\n",
      "\u001b[1;31mTypeError\u001b[0m: 'int' object is not iterable"
     ]
    }
   ],
   "source": [
    "n, m = map(int, input().split())\n",
    "for _ in n:\n",
    "    A = reduce(''.join([str(x), str(y)], input(), ''))\n",
    "for _ in m:\n",
    "    B = reduce(''.join([sre(x), srt(y)], input(), ''))\n",
    "            "
   ]
  },
  {
   "cell_type": "code",
   "execution_count": null,
   "id": "dccf0d5a",
   "metadata": {},
   "outputs": [],
   "source": [
    "# Enter your code here. Read input from STDIN. Print output to STDOUT\n",
    "import collections\n",
    "\n",
    "A = list()\n",
    "B = list()\n",
    "I = collections.defaultdict(list)\n",
    "\n",
    "a, b = map(int, input().split())\n",
    "A, B = [str(input()) for _ in range(a)], [str(input()) for _ in range(b)]\n",
    "\n",
    "E = list(enumerate(''.join(A)))\n",
    "for _ in E:\n",
    "    I[_[1]].append(_[0])\n",
    "    \n",
    "for b in B:\n",
    "    print(I[b])\n",
    "    "
   ]
  },
  {
   "cell_type": "code",
   "execution_count": 134,
   "id": "2c777e1d",
   "metadata": {},
   "outputs": [
    {
     "data": {
      "text/plain": [
       "'a'"
      ]
     },
     "execution_count": 134,
     "metadata": {},
     "output_type": "execute_result"
    }
   ],
   "source": [
    "str() + 'a'"
   ]
  },
  {
   "cell_type": "code",
   "execution_count": null,
   "id": "4ef71da6",
   "metadata": {},
   "outputs": [],
   "source": [
    "# Enter your code here. Read input from STDIN. Print output to STDOUT\n",
    "import collections\n",
    "\n",
    "I = collections.defaultdict(list)\n",
    "\n",
    "a, b = map(int, input().split())\n",
    "A, B = str(), str()\n",
    "\n",
    "for _ in range(a):\n",
    "    A += input()\n",
    "for _ in range(b):\n",
    "    B += input()\n",
    "    \n",
    "E = list(enumerate(A))\n",
    "for _ in E:\n",
    "    I[_[1]].append(_[0])\n",
    "    \n",
    "for b in B:\n",
    "    print(*I[b])"
   ]
  },
  {
   "cell_type": "markdown",
   "id": "50d1bd7a",
   "metadata": {},
   "source": [
    "### 너 조건 빼먹었다 .... b가 A에 없으면 -1 출력 "
   ]
  },
  {
   "cell_type": "markdown",
   "id": "1c0f6d21",
   "metadata": {},
   "source": [
    "### 예시답안 \n",
    "from collections import defaultdict\n",
    "\n",
    "A = defaultdict(list)\n",
    "\n",
    "n, m = list(map(int, input().split()))\n",
    "for i in range(n):\n",
    "    A[input()].append(i+1)\n",
    "    \n",
    "for _ in range(m):\n",
    "    word = input()\n",
    "    if word in A:\n",
    "        print(' '.join(list(map(str, A[word]))))\n",
    "    else:\n",
    "        print(-1)"
   ]
  },
  {
   "cell_type": "markdown",
   "id": "5dc6b650",
   "metadata": {},
   "source": [
    "### input의 자료형이나 자료구조도 여러 가지로 생각해봐야 한다 "
   ]
  },
  {
   "cell_type": "code",
   "execution_count": 168,
   "id": "025dd8cd",
   "metadata": {},
   "outputs": [],
   "source": [
    "l = collections.defaultdict(list)\n",
    "A = ['abcd', 'abcd', 'abcd', 'eeeg', 'e', 'ggg']\n",
    "B = ['abcd', 'ggg']\n"
   ]
  },
  {
   "cell_type": "code",
   "execution_count": 169,
   "id": "3693fdd4",
   "metadata": {},
   "outputs": [],
   "source": [
    "E = list(enumerate(A))"
   ]
  },
  {
   "cell_type": "code",
   "execution_count": 170,
   "id": "dd2aac93",
   "metadata": {},
   "outputs": [
    {
     "data": {
      "text/plain": [
       "[(0, 'abcd'), (1, 'abcd'), (2, 'abcd'), (3, 'eeeg'), (4, 'e'), (5, 'ggg')]"
      ]
     },
     "execution_count": 170,
     "metadata": {},
     "output_type": "execute_result"
    }
   ],
   "source": [
    "E"
   ]
  },
  {
   "cell_type": "code",
   "execution_count": 166,
   "id": "839257cd",
   "metadata": {},
   "outputs": [
    {
     "name": "stdout",
     "output_type": "stream",
     "text": [
      "0 1 2 1 2 3 1 2 3 1 2 3 1 2 3 1 2 3 1 2 3 1 2 3 1 2 3\n",
      "5 6 6 6 6 6 6 6 6\n"
     ]
    }
   ],
   "source": [
    "\n",
    "\n",
    "for _ in E:\n",
    "    I[_[1]].append(_[0]+1)\n",
    "    \n",
    "for b in B:\n",
    "    if b in A:\n",
    "        print(*I[b])\n",
    "    else:\n",
    "        print(-1)"
   ]
  },
  {
   "cell_type": "markdown",
   "id": "4b23b49e",
   "metadata": {},
   "source": [
    "### 한꺼번에 여러 변수 지정할 때 코드 실행 순서 주의 "
   ]
  },
  {
   "cell_type": "code",
   "execution_count": null,
   "id": "76388b35",
   "metadata": {},
   "outputs": [],
   "source": [
    "# Enter your code here. Read input from STDIN. Print output to STDOUT\n",
    "import collections\n",
    "\n",
    "I = collections.defaultdict(list)\n",
    "\n",
    "a, b = map(int, input().split())\n",
    "A = [str(input()) for _ in range(a)]\n",
    "B = [str(input()) for _ in range(b)]\n",
    "\n",
    "   \n",
    "E = list(enumerate(A))\n",
    "\n",
    "for _ in E:\n",
    "    I[_[1]].append(_[0]+1)\n",
    "    \n",
    "for b in B:\n",
    "    if b in A:\n",
    "        print(*I[b])\n",
    "    else:\n",
    "        print(-1)"
   ]
  },
  {
   "cell_type": "code",
   "execution_count": null,
   "id": "6fd0cfb7",
   "metadata": {},
   "outputs": [],
   "source": [
    "# Enter your code here. Read input from STDIN. Print output to STDOUT\n",
    "import collections\n",
    "\n",
    "I = collections.defaultdict(list)\n",
    "\n",
    "a, b = map(int, input().split())\n",
    "A = [str(input()) for _ in range(a)]\n",
    "   \n",
    "E = list(enumerate(A))\n",
    "\n",
    "for _ in E:\n",
    "    I[_[1]].append(_[0]+1)\n",
    "    \n",
    "for _ in range(b):\n",
    "    if input() in A:\n",
    "        print(*I[b])\n",
    "    else:\n",
    "        print(-1)"
   ]
  }
 ],
 "metadata": {
  "kernelspec": {
   "display_name": "Python 3 (ipykernel)",
   "language": "python",
   "name": "python3"
  },
  "language_info": {
   "codemirror_mode": {
    "name": "ipython",
    "version": 3
   },
   "file_extension": ".py",
   "mimetype": "text/x-python",
   "name": "python",
   "nbconvert_exporter": "python",
   "pygments_lexer": "ipython3",
   "version": "3.9.7"
  }
 },
 "nbformat": 4,
 "nbformat_minor": 5
}
