{
 "cells": [
  {
   "cell_type": "markdown",
   "id": "744c46db",
   "metadata": {},
   "source": [
    "- **def boolean**"
   ]
  },
  {
   "cell_type": "code",
   "execution_count": 5,
   "id": "98645140",
   "metadata": {},
   "outputs": [],
   "source": [
    "def bool_to_word(bool):\n",
    "    if bool == True:\n",
    "        return 'Yes'\n",
    "    else:\n",
    "        return 'No'"
   ]
  },
  {
   "cell_type": "code",
   "execution_count": 6,
   "id": "2445a59b",
   "metadata": {},
   "outputs": [
    {
     "data": {
      "text/plain": [
       "'Yes'"
      ]
     },
     "execution_count": 6,
     "metadata": {},
     "output_type": "execute_result"
    }
   ],
   "source": [
    "bool_to_word(True)"
   ]
  },
  {
   "cell_type": "code",
   "execution_count": 7,
   "id": "d584ee22",
   "metadata": {},
   "outputs": [
    {
     "data": {
      "text/plain": [
       "'No'"
      ]
     },
     "execution_count": 7,
     "metadata": {},
     "output_type": "execute_result"
    }
   ],
   "source": [
    "bool_to_word(False)"
   ]
  },
  {
   "cell_type": "markdown",
   "id": "f1ebe3ab",
   "metadata": {},
   "source": [
    "sample code"
   ]
  },
  {
   "cell_type": "code",
   "execution_count": 8,
   "id": "d8c7ea55",
   "metadata": {},
   "outputs": [],
   "source": [
    "def bool_to_word(boolean):\n",
    "    return 'Yes' if boolean else 'No'"
   ]
  },
  {
   "cell_type": "code",
   "execution_count": 9,
   "id": "d89adc2b",
   "metadata": {
    "scrolled": true
   },
   "outputs": [
    {
     "data": {
      "text/plain": [
       "'Yes'"
      ]
     },
     "execution_count": 9,
     "metadata": {},
     "output_type": "execute_result"
    }
   ],
   "source": [
    "bool_to_word(True)"
   ]
  },
  {
   "cell_type": "markdown",
   "id": "d72fb857",
   "metadata": {},
   "source": [
    "- **Isograms**\n",
    "    - no repeating letters"
   ]
  },
  {
   "cell_type": "code",
   "execution_count": 22,
   "id": "b2db2c25",
   "metadata": {},
   "outputs": [
    {
     "data": {
      "text/plain": [
       "{1, 2}"
      ]
     },
     "execution_count": 22,
     "metadata": {},
     "output_type": "execute_result"
    }
   ],
   "source": [
    "import collections\n",
    "set(collections.Counter('abcdsa').values())"
   ]
  },
  {
   "cell_type": "code",
   "execution_count": 24,
   "id": "359a3096",
   "metadata": {},
   "outputs": [],
   "source": [
    "def is_isogram(string):\n",
    "    import collections\n",
    "    values = collections.Counter(string.lower()).values()\n",
    "    return 'true' if set(values) == {1} else 'false'"
   ]
  },
  {
   "cell_type": "code",
   "execution_count": 25,
   "id": "5ad2d883",
   "metadata": {},
   "outputs": [
    {
     "data": {
      "text/plain": [
       "'false'"
      ]
     },
     "execution_count": 25,
     "metadata": {},
     "output_type": "execute_result"
    }
   ],
   "source": [
    "is_isogram('apple')"
   ]
  },
  {
   "cell_type": "code",
   "execution_count": 26,
   "id": "eaca7df8",
   "metadata": {},
   "outputs": [
    {
     "data": {
      "text/plain": [
       "'false'"
      ]
     },
     "execution_count": 26,
     "metadata": {},
     "output_type": "execute_result"
    }
   ],
   "source": [
    "is_isogram('banana')"
   ]
  },
  {
   "cell_type": "code",
   "execution_count": 28,
   "id": "c9de8493",
   "metadata": {},
   "outputs": [
    {
     "data": {
      "text/plain": [
       "'true'"
      ]
     },
     "execution_count": 28,
     "metadata": {},
     "output_type": "execute_result"
    }
   ],
   "source": [
    "is_isogram('physic')"
   ]
  },
  {
   "cell_type": "code",
   "execution_count": 31,
   "id": "5c0b9640",
   "metadata": {},
   "outputs": [],
   "source": [
    "## second attempt\n",
    "def is_isogram(string):\n",
    "    import collections\n",
    "    values = collections.Counter(string.lower()).values()\n",
    "    return True if set(values) == {1} else False"
   ]
  },
  {
   "cell_type": "code",
   "execution_count": 32,
   "id": "daaffb30",
   "metadata": {
    "scrolled": true
   },
   "outputs": [
    {
     "data": {
      "text/plain": [
       "False"
      ]
     },
     "execution_count": 32,
     "metadata": {},
     "output_type": "execute_result"
    }
   ],
   "source": [
    "is_isogram('')"
   ]
  },
  {
   "cell_type": "code",
   "execution_count": 45,
   "id": "6be1b5be",
   "metadata": {},
   "outputs": [],
   "source": [
    "## third attempt\n",
    "## second attempt\n",
    "def is_isogram(string):\n",
    "    import collections\n",
    "    values = collections.Counter(string.lower()).values()\n",
    "    return True if (set(values) == {1} or len(values) == 0) else False"
   ]
  },
  {
   "cell_type": "code",
   "execution_count": 46,
   "id": "b60c3048",
   "metadata": {},
   "outputs": [
    {
     "data": {
      "text/plain": [
       "True"
      ]
     },
     "execution_count": 46,
     "metadata": {},
     "output_type": "execute_result"
    }
   ],
   "source": [
    "is_isogram('')"
   ]
  },
  {
   "cell_type": "code",
   "execution_count": 34,
   "id": "2485588e",
   "metadata": {},
   "outputs": [
    {
     "data": {
      "text/plain": [
       "dict_values([])"
      ]
     },
     "execution_count": 34,
     "metadata": {},
     "output_type": "execute_result"
    }
   ],
   "source": [
    "is_isogram('')"
   ]
  },
  {
   "cell_type": "code",
   "execution_count": 40,
   "id": "b2b3cfe3",
   "metadata": {},
   "outputs": [
    {
     "ename": "TypeError",
     "evalue": "'bool' object is not iterable",
     "output_type": "error",
     "traceback": [
      "\u001b[1;31m---------------------------------------------------------------------------\u001b[0m",
      "\u001b[1;31mTypeError\u001b[0m                                 Traceback (most recent call last)",
      "\u001b[1;32mC:\\Users\\AARONC~1\\AppData\\Local\\Temp/ipykernel_23656/697323149.py\u001b[0m in \u001b[0;36m<module>\u001b[1;34m\u001b[0m\n\u001b[1;32m----> 1\u001b[1;33m \u001b[0mset\u001b[0m\u001b[1;33m(\u001b[0m\u001b[0mis_isogram\u001b[0m\u001b[1;33m(\u001b[0m\u001b[1;34m''\u001b[0m\u001b[1;33m)\u001b[0m\u001b[1;33m)\u001b[0m\u001b[1;33m\u001b[0m\u001b[1;33m\u001b[0m\u001b[0m\n\u001b[0m",
      "\u001b[1;31mTypeError\u001b[0m: 'bool' object is not iterable"
     ]
    }
   ],
   "source": [
    "set(is_isogram(''))"
   ]
  },
  {
   "cell_type": "markdown",
   "id": "089b4075",
   "metadata": {},
   "source": [
    "sample code"
   ]
  },
  {
   "cell_type": "code",
   "execution_count": null,
   "id": "4876af58",
   "metadata": {},
   "outputs": [],
   "source": [
    "def is_isogram(string):\n",
    "    string = string.lower()\n",
    "    for letter in string:\n",
    "        if string.count(letter) > 1: return False\n",
    "    return True"
   ]
  },
  {
   "cell_type": "code",
   "execution_count": null,
   "id": "316f1b2a",
   "metadata": {},
   "outputs": [],
   "source": [
    "def is_isogram(string):\n",
    "    return len(string) == len(set(string.lower()))"
   ]
  },
  {
   "cell_type": "markdown",
   "id": "b971119e",
   "metadata": {},
   "source": [
    "- **cateogrize new member**"
   ]
  },
  {
   "cell_type": "markdown",
   "id": "bf1ed6db",
   "metadata": {},
   "source": [
    "https://www.codewars.com/kata/5502c9e7b3216ec63c0001aa/python"
   ]
  },
  {
   "cell_type": "code",
   "execution_count": null,
   "id": "bb084e48",
   "metadata": {},
   "outputs": [],
   "source": []
  }
 ],
 "metadata": {
  "kernelspec": {
   "display_name": "Python 3 (ipykernel)",
   "language": "python",
   "name": "python3"
  },
  "language_info": {
   "codemirror_mode": {
    "name": "ipython",
    "version": 3
   },
   "file_extension": ".py",
   "mimetype": "text/x-python",
   "name": "python",
   "nbconvert_exporter": "python",
   "pygments_lexer": "ipython3",
   "version": "3.9.7"
  }
 },
 "nbformat": 4,
 "nbformat_minor": 5
}
