{
 "cells": [
  {
   "cell_type": "markdown",
   "id": "066a6578",
   "metadata": {},
   "source": [
    "- inner and outer\n",
    "\n"
   ]
  },
  {
   "cell_type": "code",
   "execution_count": 1,
   "id": "d66fadf3",
   "metadata": {},
   "outputs": [],
   "source": [
    "import numpy as np "
   ]
  },
  {
   "cell_type": "markdown",
   "id": "1ca05f9e",
   "metadata": {},
   "source": [
    "# 입력코드 (1)"
   ]
  },
  {
   "cell_type": "code",
   "execution_count": null,
   "id": "bbbec2de",
   "metadata": {},
   "outputs": [],
   "source": [
    "import numpy as np\n",
    "A = np.array(map(int, input().split()))\n",
    "B = np.array(map(int, input().split()))\n",
    "\n",
    "inner = np.inner(A, B)\n",
    "outer = np.outer(A, B)\n",
    "print(*[inner, outer], sep = '\\n')\n",
    "\n"
   ]
  },
  {
   "cell_type": "code",
   "execution_count": 2,
   "id": "6e8732dc",
   "metadata": {},
   "outputs": [
    {
     "ename": "TypeError",
     "evalue": "inner() missing 1 required positional argument: 'b'",
     "output_type": "error",
     "traceback": [
      "\u001b[1;31m---------------------------------------------------------------------------\u001b[0m",
      "\u001b[1;31mTypeError\u001b[0m                                 Traceback (most recent call last)",
      "\u001b[1;32mC:\\Users\\AARONC~1\\AppData\\Local\\Temp/ipykernel_29600/3917885688.py\u001b[0m in \u001b[0;36m<module>\u001b[1;34m\u001b[0m\n\u001b[1;32m----> 1\u001b[1;33m \u001b[0mnp\u001b[0m\u001b[1;33m.\u001b[0m\u001b[0minner\u001b[0m\u001b[1;33m(\u001b[0m\u001b[1;33m[\u001b[0m\u001b[1;33m[\u001b[0m\u001b[1;36m1\u001b[0m\u001b[1;33m,\u001b[0m \u001b[1;36m2\u001b[0m\u001b[1;33m]\u001b[0m\u001b[1;33m,\u001b[0m \u001b[1;33m[\u001b[0m\u001b[1;36m3\u001b[0m\u001b[1;33m,\u001b[0m \u001b[1;36m4\u001b[0m\u001b[1;33m]\u001b[0m\u001b[1;33m]\u001b[0m\u001b[1;33m)\u001b[0m\u001b[1;33m\u001b[0m\u001b[1;33m\u001b[0m\u001b[0m\n\u001b[0m",
      "\u001b[1;32m~\\AppData\\Local\\Programs\\Python\\Python39\\lib\\site-packages\\numpy\\core\\overrides.py\u001b[0m in \u001b[0;36minner\u001b[1;34m(*args, **kwargs)\u001b[0m\n",
      "\u001b[1;31mTypeError\u001b[0m: inner() missing 1 required positional argument: 'b'"
     ]
    }
   ],
   "source": [
    "np.inner([[1, 2], [3, 4]])"
   ]
  },
  {
   "cell_type": "code",
   "execution_count": 3,
   "id": "b465d1da",
   "metadata": {},
   "outputs": [
    {
     "data": {
      "text/plain": [
       "11"
      ]
     },
     "execution_count": 3,
     "metadata": {},
     "output_type": "execute_result"
    }
   ],
   "source": [
    "np.inner([1, 2], [3, 4])"
   ]
  },
  {
   "cell_type": "code",
   "execution_count": 4,
   "id": "c8c70e42",
   "metadata": {},
   "outputs": [
    {
     "data": {
      "text/plain": [
       "array([[3, 4],\n",
       "       [6, 8]])"
      ]
     },
     "execution_count": 4,
     "metadata": {},
     "output_type": "execute_result"
    }
   ],
   "source": [
    "np.outer([1, 2], [3, 4])"
   ]
  },
  {
   "cell_type": "markdown",
   "id": "52eeeff7",
   "metadata": {},
   "source": [
    "# 입력코드 (2)"
   ]
  },
  {
   "cell_type": "code",
   "execution_count": null,
   "id": "3cbdf9c5",
   "metadata": {},
   "outputs": [],
   "source": [
    "import numpy as np\n",
    "A = np.array(list(map(int, input().split())))\n",
    "B = np.array(list(map(int, input().split())))\n",
    "\n",
    "inner = np.inner(A, B)\n",
    "outer = np.outer(A, B)\n",
    "print(*[inner, outer], sep = '\\n')\n",
    "\n"
   ]
  },
  {
   "cell_type": "markdown",
   "id": "1e6a2f59",
   "metadata": {},
   "source": [
    "- calendar module"
   ]
  },
  {
   "cell_type": "code",
   "execution_count": 5,
   "id": "cd5da1c1",
   "metadata": {},
   "outputs": [],
   "source": [
    "import calendar"
   ]
  },
  {
   "cell_type": "code",
   "execution_count": 6,
   "id": "d9f2817d",
   "metadata": {},
   "outputs": [
    {
     "data": {
      "text/plain": [
       "1"
      ]
     },
     "execution_count": 6,
     "metadata": {},
     "output_type": "execute_result"
    }
   ],
   "source": [
    "calendar.weekday(2012, 5, 22)"
   ]
  },
  {
   "cell_type": "code",
   "execution_count": 7,
   "id": "1532c421",
   "metadata": {},
   "outputs": [
    {
     "data": {
      "text/plain": [
       "1"
      ]
     },
     "execution_count": 7,
     "metadata": {},
     "output_type": "execute_result"
    }
   ],
   "source": [
    "calendar.weekday(2001, 5, 22)"
   ]
  },
  {
   "cell_type": "code",
   "execution_count": null,
   "id": "2eacb880",
   "metadata": {},
   "outputs": [],
   "source": [
    "import calendar \n",
    "\n",
    "weekdays = ['MONDAY', 'TUESDAY', 'WEDNESDAY', \n",
    "            'THURSDAY', 'FRIDAY', 'SATURDAY', 'SUNDAY']\n",
    "month, day, year = map(int, input().split())\n",
    "index = calendar.weekday(year, month, day)\n",
    "\n",
    "print(weekdays[index])"
   ]
  },
  {
   "cell_type": "code",
   "execution_count": null,
   "id": "735c9247",
   "metadata": {},
   "outputs": [],
   "source": [
    "### 예시답안 \n",
    "print(list(calendar.day_name)[calendar.weekday(y, m, d)].upper())"
   ]
  },
  {
   "cell_type": "markdown",
   "id": "79ac2af4",
   "metadata": {},
   "source": [
    "# HTML Parser(1)"
   ]
  },
  {
   "cell_type": "code",
   "execution_count": 8,
   "id": "82d3cf33",
   "metadata": {},
   "outputs": [
    {
     "ename": "ModuleNotFoundError",
     "evalue": "No module named 'markupbase'",
     "output_type": "error",
     "traceback": [
      "\u001b[1;31m---------------------------------------------------------------------------\u001b[0m",
      "\u001b[1;31mModuleNotFoundError\u001b[0m                       Traceback (most recent call last)",
      "\u001b[1;32mC:\\Users\\AARONC~1\\AppData\\Local\\Temp/ipykernel_29600/2134055856.py\u001b[0m in \u001b[0;36m<module>\u001b[1;34m\u001b[0m\n\u001b[1;32m----> 1\u001b[1;33m \u001b[1;32mimport\u001b[0m \u001b[0mHTMLParser\u001b[0m\u001b[1;33m\u001b[0m\u001b[1;33m\u001b[0m\u001b[0m\n\u001b[0m",
      "\u001b[1;32m~\\AppData\\Local\\Programs\\Python\\Python39\\lib\\site-packages\\HTMLParser.py\u001b[0m in \u001b[0;36m<module>\u001b[1;34m\u001b[0m\n\u001b[0;32m      9\u001b[0m \u001b[1;33m\u001b[0m\u001b[0m\n\u001b[0;32m     10\u001b[0m \u001b[1;33m\u001b[0m\u001b[0m\n\u001b[1;32m---> 11\u001b[1;33m \u001b[1;32mimport\u001b[0m \u001b[0mmarkupbase\u001b[0m\u001b[1;33m\u001b[0m\u001b[1;33m\u001b[0m\u001b[0m\n\u001b[0m\u001b[0;32m     12\u001b[0m \u001b[1;32mimport\u001b[0m \u001b[0mre\u001b[0m\u001b[1;33m\u001b[0m\u001b[1;33m\u001b[0m\u001b[0m\n\u001b[0;32m     13\u001b[0m \u001b[1;33m\u001b[0m\u001b[0m\n",
      "\u001b[1;31mModuleNotFoundError\u001b[0m: No module named 'markupbase'"
     ]
    }
   ],
   "source": [
    "import HTMLParser"
   ]
  },
  {
   "cell_type": "code",
   "execution_count": 9,
   "id": "e7925c0c",
   "metadata": {},
   "outputs": [
    {
     "ename": "ModuleNotFoundError",
     "evalue": "No module named 'markupbase'",
     "output_type": "error",
     "traceback": [
      "\u001b[1;31m---------------------------------------------------------------------------\u001b[0m",
      "\u001b[1;31mModuleNotFoundError\u001b[0m                       Traceback (most recent call last)",
      "\u001b[1;32mC:\\Users\\AARONC~1\\AppData\\Local\\Temp/ipykernel_29600/572329888.py\u001b[0m in \u001b[0;36m<module>\u001b[1;34m\u001b[0m\n\u001b[1;32m----> 1\u001b[1;33m \u001b[1;32mimport\u001b[0m \u001b[0mmarkupbase\u001b[0m\u001b[1;33m\u001b[0m\u001b[1;33m\u001b[0m\u001b[0m\n\u001b[0m",
      "\u001b[1;31mModuleNotFoundError\u001b[0m: No module named 'markupbase'"
     ]
    }
   ],
   "source": [
    "import markupbase"
   ]
  },
  {
   "cell_type": "code",
   "execution_count": 10,
   "id": "37cb2a48",
   "metadata": {},
   "outputs": [
    {
     "name": "stdout",
     "output_type": "stream",
     "text": [
      "Note: you may need to restart the kernel to use updated packages.\n"
     ]
    },
    {
     "name": "stderr",
     "output_type": "stream",
     "text": [
      "ERROR: Could not find a version that satisfies the requirement markupbase (from versions: none)\n",
      "ERROR: No matching distribution found for markupbase\n"
     ]
    }
   ],
   "source": [
    "pip install markupbase"
   ]
  },
  {
   "cell_type": "code",
   "execution_count": 11,
   "id": "8b22bd38",
   "metadata": {},
   "outputs": [
    {
     "name": "stdout",
     "output_type": "stream",
     "text": [
      "Requirement already satisfied: MarkupSafe in c:\\users\\aaron cho\\appdata\\local\\programs\\python\\python39\\lib\\site-packages (2.1.2)\n",
      "Note: you may need to restart the kernel to use updated packages.\n"
     ]
    }
   ],
   "source": [
    "pip install MarkupSafe"
   ]
  },
  {
   "cell_type": "code",
   "execution_count": 1,
   "id": "633a2b03",
   "metadata": {},
   "outputs": [
    {
     "ename": "ModuleNotFoundError",
     "evalue": "No module named 'markupbase'",
     "output_type": "error",
     "traceback": [
      "\u001b[1;31m---------------------------------------------------------------------------\u001b[0m",
      "\u001b[1;31mModuleNotFoundError\u001b[0m                       Traceback (most recent call last)",
      "\u001b[1;32mC:\\Users\\AARONC~1\\AppData\\Local\\Temp/ipykernel_38252/2134055856.py\u001b[0m in \u001b[0;36m<module>\u001b[1;34m\u001b[0m\n\u001b[1;32m----> 1\u001b[1;33m \u001b[1;32mimport\u001b[0m \u001b[0mHTMLParser\u001b[0m\u001b[1;33m\u001b[0m\u001b[1;33m\u001b[0m\u001b[0m\n\u001b[0m",
      "\u001b[1;32m~\\AppData\\Local\\Programs\\Python\\Python39\\lib\\site-packages\\HTMLParser.py\u001b[0m in \u001b[0;36m<module>\u001b[1;34m\u001b[0m\n\u001b[0;32m      9\u001b[0m \u001b[1;33m\u001b[0m\u001b[0m\n\u001b[0;32m     10\u001b[0m \u001b[1;33m\u001b[0m\u001b[0m\n\u001b[1;32m---> 11\u001b[1;33m \u001b[1;32mimport\u001b[0m \u001b[0mmarkupbase\u001b[0m\u001b[1;33m\u001b[0m\u001b[1;33m\u001b[0m\u001b[0m\n\u001b[0m\u001b[0;32m     12\u001b[0m \u001b[1;32mimport\u001b[0m \u001b[0mre\u001b[0m\u001b[1;33m\u001b[0m\u001b[1;33m\u001b[0m\u001b[0m\n\u001b[0;32m     13\u001b[0m \u001b[1;33m\u001b[0m\u001b[0m\n",
      "\u001b[1;31mModuleNotFoundError\u001b[0m: No module named 'markupbase'"
     ]
    }
   ],
   "source": [
    "import HTMLParser"
   ]
  },
  {
   "cell_type": "code",
   "execution_count": 13,
   "id": "2def70c3",
   "metadata": {},
   "outputs": [
    {
     "name": "stdout",
     "output_type": "stream",
     "text": [
      "Requirement already satisfied: markdown in c:\\users\\aaron cho\\appdata\\local\\programs\\python\\python39\\lib\\site-packages (3.4.3)Note: you may need to restart the kernel to use updated packages.\n",
      "\n",
      "Requirement already satisfied: importlib-metadata>=4.4 in c:\\users\\aaron cho\\appdata\\local\\programs\\python\\python39\\lib\\site-packages (from markdown) (6.6.0)\n",
      "Requirement already satisfied: zipp>=0.5 in c:\\users\\aaron cho\\appdata\\local\\programs\\python\\python39\\lib\\site-packages (from importlib-metadata>=4.4->markdown) (3.15.0)\n"
     ]
    }
   ],
   "source": [
    "pip install markdown"
   ]
  },
  {
   "cell_type": "code",
   "execution_count": 2,
   "id": "5aeda58e",
   "metadata": {},
   "outputs": [
    {
     "ename": "ModuleNotFoundError",
     "evalue": "No module named 'markupbase'",
     "output_type": "error",
     "traceback": [
      "\u001b[1;31m---------------------------------------------------------------------------\u001b[0m",
      "\u001b[1;31mModuleNotFoundError\u001b[0m                       Traceback (most recent call last)",
      "\u001b[1;32mC:\\Users\\AARONC~1\\AppData\\Local\\Temp/ipykernel_38252/385763448.py\u001b[0m in \u001b[0;36m<module>\u001b[1;34m\u001b[0m\n\u001b[1;32m----> 1\u001b[1;33m \u001b[1;32mfrom\u001b[0m \u001b[0mHTMLParser\u001b[0m \u001b[1;32mimport\u001b[0m \u001b[0mHTMLParser\u001b[0m\u001b[1;33m\u001b[0m\u001b[1;33m\u001b[0m\u001b[0m\n\u001b[0m",
      "\u001b[1;32m~\\AppData\\Local\\Programs\\Python\\Python39\\lib\\site-packages\\HTMLParser.py\u001b[0m in \u001b[0;36m<module>\u001b[1;34m\u001b[0m\n\u001b[0;32m      9\u001b[0m \u001b[1;33m\u001b[0m\u001b[0m\n\u001b[0;32m     10\u001b[0m \u001b[1;33m\u001b[0m\u001b[0m\n\u001b[1;32m---> 11\u001b[1;33m \u001b[1;32mimport\u001b[0m \u001b[0mmarkupbase\u001b[0m\u001b[1;33m\u001b[0m\u001b[1;33m\u001b[0m\u001b[0m\n\u001b[0m\u001b[0;32m     12\u001b[0m \u001b[1;32mimport\u001b[0m \u001b[0mre\u001b[0m\u001b[1;33m\u001b[0m\u001b[1;33m\u001b[0m\u001b[0m\n\u001b[0;32m     13\u001b[0m \u001b[1;33m\u001b[0m\u001b[0m\n",
      "\u001b[1;31mModuleNotFoundError\u001b[0m: No module named 'markupbase'"
     ]
    }
   ],
   "source": [
    "from HTMLParser import HTMLParser"
   ]
  },
  {
   "cell_type": "code",
   "execution_count": 3,
   "id": "7d0cd6c0",
   "metadata": {},
   "outputs": [
    {
     "ename": "ModuleNotFoundError",
     "evalue": "No module named 'markupbase'",
     "output_type": "error",
     "traceback": [
      "\u001b[1;31m---------------------------------------------------------------------------\u001b[0m",
      "\u001b[1;31mModuleNotFoundError\u001b[0m                       Traceback (most recent call last)",
      "\u001b[1;32mC:\\Users\\AARONC~1\\AppData\\Local\\Temp/ipykernel_38252/572329888.py\u001b[0m in \u001b[0;36m<module>\u001b[1;34m\u001b[0m\n\u001b[1;32m----> 1\u001b[1;33m \u001b[1;32mimport\u001b[0m \u001b[0mmarkupbase\u001b[0m\u001b[1;33m\u001b[0m\u001b[1;33m\u001b[0m\u001b[0m\n\u001b[0m",
      "\u001b[1;31mModuleNotFoundError\u001b[0m: No module named 'markupbase'"
     ]
    }
   ],
   "source": [
    "import markupbase"
   ]
  },
  {
   "cell_type": "code",
   "execution_count": 4,
   "id": "21a0108c",
   "metadata": {},
   "outputs": [
    {
     "name": "stdout",
     "output_type": "stream",
     "text": [
      "Object `markupbase` not found.\n"
     ]
    }
   ],
   "source": [
    "?markupbase"
   ]
  },
  {
   "cell_type": "code",
   "execution_count": 5,
   "id": "1761dca3",
   "metadata": {},
   "outputs": [
    {
     "name": "stdout",
     "output_type": "stream",
     "text": [
      "Object `markupbase` not found.\n"
     ]
    }
   ],
   "source": [
    "markupbase??"
   ]
  },
  {
   "cell_type": "markdown",
   "id": "87756d63",
   "metadata": {},
   "source": [
    "- regsex substitution"
   ]
  },
  {
   "cell_type": "markdown",
   "id": "490cd3bb",
   "metadata": {},
   "source": [
    "# 입력코드 (1)"
   ]
  },
  {
   "cell_type": "code",
   "execution_count": null,
   "id": "ddf9fece",
   "metadata": {},
   "outputs": [],
   "source": [
    "import re\n",
    "N = int(input())\n",
    "for _ in range(N):\n",
    "    line = str(input())\n",
    "    And = re.sub('(?<= )[\\$]{2}(?= )', 'and', line)\n",
    "    And_Or = re.sub('(?<= )[\\\\|]{2}(?= )', 'or', And)\n",
    "    print(And_Or)"
   ]
  },
  {
   "cell_type": "markdown",
   "id": "52b79ed6",
   "metadata": {},
   "source": [
    "# 입력코드 (2)"
   ]
  },
  {
   "cell_type": "code",
   "execution_count": null,
   "id": "626f8cc3",
   "metadata": {},
   "outputs": [],
   "source": [
    "import re\n",
    "N = int(input())\n",
    "for _ in range(N):\n",
    "    line = str(input())\n",
    "    And = re.sub('(?<= )[\\\\&]{2}(?= )', 'and', line)\n",
    "    And_Or = re.sub('(?<= )[\\\\|]{2}(?= )', 'or', And)\n",
    "    print(And_Or)"
   ]
  },
  {
   "cell_type": "code",
   "execution_count": null,
   "id": "c7a6daf4",
   "metadata": {},
   "outputs": [],
   "source": [
    "### 예시답안 \n",
    "import re\n",
    "\n",
    "N = int(input())\n",
    "for i in range(N):\n",
    "    print( re.sub(r'(?<= )(&&|\\|\\|)(?= )', \n",
    "                  lambda x: 'and' if x.group() == '&&' \n",
    "                 else 'or', input()))"
   ]
  },
  {
   "cell_type": "markdown",
   "id": "0c0cebe5",
   "metadata": {},
   "source": [
    "- Validating Roman Numerals"
   ]
  },
  {
   "cell_type": "code",
   "execution_count": null,
   "id": "3a8bf0e1",
   "metadata": {},
   "outputs": [],
   "source": [
    "regex_pattern = r\"[X]?[M]{,3}[D]{,1}[X]?[C]{,3}[X]?[L]{1}[I]?[X]{,3}[I]?[V]{1}[I]{,3}\"\n",
    "\n",
    "import re\n",
    "print(str(bool(re.match(regex_pattern, input()))))"
   ]
  },
  {
   "cell_type": "code",
   "execution_count": 6,
   "id": "fc9fc1bd",
   "metadata": {},
   "outputs": [],
   "source": [
    "import re"
   ]
  },
  {
   "cell_type": "code",
   "execution_count": 10,
   "id": "cc03c3ef",
   "metadata": {},
   "outputs": [],
   "source": [
    "A = ' '.join(['3554', '4', '554', '5554'])"
   ]
  },
  {
   "cell_type": "code",
   "execution_count": 8,
   "id": "63c4d98e",
   "metadata": {},
   "outputs": [],
   "source": [
    "pattern = '(3??(5{1, 2}))\\d*4$'"
   ]
  },
  {
   "cell_type": "markdown",
   "id": "80a69e11",
   "metadata": {},
   "source": [
    "#### 내가 이해한 대로라면 3554, 4, 5554 검출되어야 한다 "
   ]
  },
  {
   "cell_type": "code",
   "execution_count": 11,
   "id": "53bd446b",
   "metadata": {},
   "outputs": [
    {
     "data": {
      "text/plain": [
       "[]"
      ]
     },
     "execution_count": 11,
     "metadata": {},
     "output_type": "execute_result"
    }
   ],
   "source": [
    "re.findall(pattern, A)"
   ]
  },
  {
   "cell_type": "code",
   "execution_count": 13,
   "id": "75a55614",
   "metadata": {},
   "outputs": [],
   "source": [
    "pattern1 = '(3{, 1}?(5{1, 2}))\\d*4$'"
   ]
  },
  {
   "cell_type": "code",
   "execution_count": 14,
   "id": "6ea2632d",
   "metadata": {},
   "outputs": [
    {
     "data": {
      "text/plain": [
       "[]"
      ]
     },
     "execution_count": 14,
     "metadata": {},
     "output_type": "execute_result"
    }
   ],
   "source": [
    "re.findall(pattern1, A)"
   ]
  },
  {
   "cell_type": "markdown",
   "id": "58521307",
   "metadata": {},
   "source": [
    "# 입력코드 (1)"
   ]
  },
  {
   "cell_type": "code",
   "execution_count": null,
   "id": "2e86c8ba",
   "metadata": {},
   "outputs": [],
   "source": [
    "regex_pattern = '^([X]?[M]{1,3})?[M]{,3}[D]{,1}([X]?[C]{1,3})?[C]{,3}([X]?[L]{1})?[L]{,1}([I]?[X]{1,3})?[X]{,3}([I]?[V]{1})?[V]{,1}[I]{,3}$'"
   ]
  },
  {
   "cell_type": "markdown",
   "id": "78e827ca",
   "metadata": {},
   "source": [
    "# 입력코드 (2)"
   ]
  },
  {
   "cell_type": "code",
   "execution_count": null,
   "id": "a04cdc0c",
   "metadata": {},
   "outputs": [],
   "source": [
    "regex_pattern = '^([X]?[M]{1,3})?[M]{,3}([X]?[C]{1,3})?[C]{,3}[D]{,1}([X]?[L]{1})?[L]{,1}([I]?[X]{1,3})?[X]{,3}([I]?[V]{1})?[V]{,1}[I]{,3}$'"
   ]
  },
  {
   "cell_type": "code",
   "execution_count": null,
   "id": "4539ec29",
   "metadata": {},
   "outputs": [],
   "source": [
    "### 예시답안 \n",
    "import re\n",
    "\n",
    "thousand = 'M{0,3}'\n",
    "hundred = '(C[MD]|D?C{0,3})'\n",
    "ten = '(X[CL]|L?X{0,3})'\n",
    "digit = '(I[VX]|V?I{0,3})'\n",
    "print(bool(re.match(thousand + hundred + ten + digit + '$', input())))"
   ]
  },
  {
   "cell_type": "code",
   "execution_count": null,
   "id": "0cb04130",
   "metadata": {},
   "outputs": [],
   "source": [
    "regex_pattern = '^M{0,3}(C[MD]|D?C{0,3})(X[LC]|L?X{0,3})(I[VX]|V?I{0,3})$'"
   ]
  }
 ],
 "metadata": {
  "kernelspec": {
   "display_name": "Python 3 (ipykernel)",
   "language": "python",
   "name": "python3"
  },
  "language_info": {
   "codemirror_mode": {
    "name": "ipython",
    "version": 3
   },
   "file_extension": ".py",
   "mimetype": "text/x-python",
   "name": "python",
   "nbconvert_exporter": "python",
   "pygments_lexer": "ipython3",
   "version": "3.9.7"
  }
 },
 "nbformat": 4,
 "nbformat_minor": 5
}
