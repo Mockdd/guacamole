{
 "cells": [
  {
   "cell_type": "markdown",
   "id": "7c5a3f49",
   "metadata": {},
   "source": [
    "- word orders"
   ]
  },
  {
   "cell_type": "code",
   "execution_count": null,
   "id": "3be6056d",
   "metadata": {},
   "outputs": [],
   "source": [
    "import collections\n",
    "\n",
    "N = int(input())\n",
    "words  = [str(input()) for _ in range(N)]\n",
    "count = collections.defaultdict(int)\n",
    "\n",
    "for word in words:\n",
    "    count.getdict(word, 1) += 1\n",
    "    \n",
    "print(len(count))\n",
    "print(*count.values())"
   ]
  },
  {
   "cell_type": "code",
   "execution_count": 1,
   "id": "a99dbc13",
   "metadata": {},
   "outputs": [],
   "source": [
    "import collections"
   ]
  },
  {
   "cell_type": "code",
   "execution_count": 2,
   "id": "26c686ba",
   "metadata": {},
   "outputs": [],
   "source": [
    "Count = collections.defaultdict(int)"
   ]
  },
  {
   "cell_type": "code",
   "execution_count": 3,
   "id": "f9f9c757",
   "metadata": {},
   "outputs": [
    {
     "ename": "SyntaxError",
     "evalue": "'function call' is an illegal expression for augmented assignment (Temp/ipykernel_21184/1879660053.py, line 1)",
     "output_type": "error",
     "traceback": [
      "\u001b[1;36m  File \u001b[1;32m\"C:\\Users\\AARONC~1\\AppData\\Local\\Temp/ipykernel_21184/1879660053.py\"\u001b[1;36m, line \u001b[1;32m1\u001b[0m\n\u001b[1;33m    Count.getdict('place', 2) += 2\u001b[0m\n\u001b[1;37m    ^\u001b[0m\n\u001b[1;31mSyntaxError\u001b[0m\u001b[1;31m:\u001b[0m 'function call' is an illegal expression for augmented assignment\n"
     ]
    }
   ],
   "source": [
    "Count.getdict('place', 2) += 2"
   ]
  },
  {
   "cell_type": "code",
   "execution_count": 4,
   "id": "576eaa94",
   "metadata": {},
   "outputs": [
    {
     "data": {
      "text/plain": [
       "defaultdict(int, {})"
      ]
     },
     "execution_count": 4,
     "metadata": {},
     "output_type": "execute_result"
    }
   ],
   "source": [
    "Count"
   ]
  },
  {
   "cell_type": "code",
   "execution_count": 9,
   "id": "602ddff0",
   "metadata": {},
   "outputs": [
    {
     "ename": "AttributeError",
     "evalue": "'collections.defaultdict' object has no attribute 'get_dict'",
     "output_type": "error",
     "traceback": [
      "\u001b[1;31m---------------------------------------------------------------------------\u001b[0m",
      "\u001b[1;31mAttributeError\u001b[0m                            Traceback (most recent call last)",
      "\u001b[1;32mC:\\Users\\AARONC~1\\AppData\\Local\\Temp/ipykernel_21184/3453950305.py\u001b[0m in \u001b[0;36m<module>\u001b[1;34m\u001b[0m\n\u001b[1;32m----> 1\u001b[1;33m \u001b[0mCount\u001b[0m\u001b[1;33m.\u001b[0m\u001b[0mget_dict\u001b[0m\u001b[1;33m(\u001b[0m\u001b[1;34m'a'\u001b[0m\u001b[1;33m)\u001b[0m\u001b[1;33m\u001b[0m\u001b[1;33m\u001b[0m\u001b[0m\n\u001b[0m",
      "\u001b[1;31mAttributeError\u001b[0m: 'collections.defaultdict' object has no attribute 'get_dict'"
     ]
    }
   ],
   "source": [
    "Count.get_dict('a')"
   ]
  },
  {
   "cell_type": "code",
   "execution_count": 10,
   "id": "d68c5561",
   "metadata": {},
   "outputs": [
    {
     "ename": "SyntaxError",
     "evalue": "'function call' is an illegal expression for augmented assignment (Temp/ipykernel_21184/1308580378.py, line 1)",
     "output_type": "error",
     "traceback": [
      "\u001b[1;36m  File \u001b[1;32m\"C:\\Users\\AARONC~1\\AppData\\Local\\Temp/ipykernel_21184/1308580378.py\"\u001b[1;36m, line \u001b[1;32m1\u001b[0m\n\u001b[1;33m    Count.get('a', 2)+= 1\u001b[0m\n\u001b[1;37m    ^\u001b[0m\n\u001b[1;31mSyntaxError\u001b[0m\u001b[1;31m:\u001b[0m 'function call' is an illegal expression for augmented assignment\n"
     ]
    }
   ],
   "source": [
    "Count.get('a', 2)+= 1"
   ]
  },
  {
   "cell_type": "code",
   "execution_count": 11,
   "id": "4e1eb686",
   "metadata": {},
   "outputs": [],
   "source": [
    "Count.get('a')"
   ]
  },
  {
   "cell_type": "code",
   "execution_count": 12,
   "id": "cca89508",
   "metadata": {},
   "outputs": [
    {
     "data": {
      "text/plain": [
       "defaultdict(int, {})"
      ]
     },
     "execution_count": 12,
     "metadata": {},
     "output_type": "execute_result"
    }
   ],
   "source": [
    "Count"
   ]
  },
  {
   "cell_type": "code",
   "execution_count": 13,
   "id": "76103e94",
   "metadata": {},
   "outputs": [
    {
     "data": {
      "text/plain": [
       "1"
      ]
     },
     "execution_count": 13,
     "metadata": {},
     "output_type": "execute_result"
    }
   ],
   "source": [
    "Count.get('a', 1)"
   ]
  },
  {
   "cell_type": "code",
   "execution_count": 14,
   "id": "4e8b1d70",
   "metadata": {},
   "outputs": [
    {
     "ename": "SyntaxError",
     "evalue": "'function call' is an illegal expression for augmented assignment (Temp/ipykernel_21184/2631037308.py, line 1)",
     "output_type": "error",
     "traceback": [
      "\u001b[1;36m  File \u001b[1;32m\"C:\\Users\\AARONC~1\\AppData\\Local\\Temp/ipykernel_21184/2631037308.py\"\u001b[1;36m, line \u001b[1;32m1\u001b[0m\n\u001b[1;33m    Count.get('a', 1) += 2\u001b[0m\n\u001b[1;37m    ^\u001b[0m\n\u001b[1;31mSyntaxError\u001b[0m\u001b[1;31m:\u001b[0m 'function call' is an illegal expression for augmented assignment\n"
     ]
    }
   ],
   "source": [
    "Count.get('a', 1) += 2"
   ]
  },
  {
   "cell_type": "code",
   "execution_count": null,
   "id": "1d5a5eec",
   "metadata": {},
   "outputs": [],
   "source": [
    "import collections\n",
    "\n",
    "N = int(input())\n",
    "words  = [str(input()) for _ in range(N)]\n",
    "count = collections.defaultdict(int)\n",
    "\n",
    "for word in words:\n",
    "    count.get(word, 1) += 1\n",
    "    \n",
    "print(len(count))\n",
    "print(*count.values())"
   ]
  },
  {
   "cell_type": "code",
   "execution_count": 15,
   "id": "110f83b8",
   "metadata": {},
   "outputs": [],
   "source": [
    "Count['word'] = 1"
   ]
  },
  {
   "cell_type": "code",
   "execution_count": 16,
   "id": "d5c53bd4",
   "metadata": {},
   "outputs": [
    {
     "data": {
      "text/plain": [
       "defaultdict(int, {'word': 1})"
      ]
     },
     "execution_count": 16,
     "metadata": {},
     "output_type": "execute_result"
    }
   ],
   "source": [
    "Count"
   ]
  },
  {
   "cell_type": "code",
   "execution_count": 17,
   "id": "c681cf03",
   "metadata": {},
   "outputs": [
    {
     "data": {
      "text/plain": [
       "3"
      ]
     },
     "execution_count": 17,
     "metadata": {},
     "output_type": "execute_result"
    }
   ],
   "source": [
    "Count.get('words', 3)"
   ]
  },
  {
   "cell_type": "code",
   "execution_count": 18,
   "id": "d17983af",
   "metadata": {},
   "outputs": [
    {
     "data": {
      "text/plain": [
       "defaultdict(int, {'word': 1})"
      ]
     },
     "execution_count": 18,
     "metadata": {},
     "output_type": "execute_result"
    }
   ],
   "source": [
    "Count"
   ]
  },
  {
   "cell_type": "code",
   "execution_count": 19,
   "id": "de2af65b",
   "metadata": {},
   "outputs": [],
   "source": [
    "Count['words'] = 3"
   ]
  },
  {
   "cell_type": "code",
   "execution_count": 20,
   "id": "d64588db",
   "metadata": {},
   "outputs": [
    {
     "data": {
      "text/plain": [
       "dict_values([1, 3])"
      ]
     },
     "execution_count": 20,
     "metadata": {},
     "output_type": "execute_result"
    }
   ],
   "source": [
    "Count.values()"
   ]
  },
  {
   "cell_type": "code",
   "execution_count": 21,
   "id": "2e6abe67",
   "metadata": {},
   "outputs": [
    {
     "name": "stdout",
     "output_type": "stream",
     "text": [
      "1 3\n"
     ]
    }
   ],
   "source": [
    "print(*Count.values())"
   ]
  },
  {
   "cell_type": "code",
   "execution_count": null,
   "id": "6f6eb9d7",
   "metadata": {},
   "outputs": [],
   "source": [
    "import collections\n",
    "\n",
    "N = int(input())\n",
    "words  = [str(input()) for _ in range(N)]\n",
    "count = collections.defaultdict(int)\n",
    "\n",
    "for word in words:\n",
    "    if word not in count:\n",
    "        count[word] = 1\n",
    "    else:\n",
    "        count[word] += 1\n",
    "    \n",
    "print(len(count))\n",
    "print(*count.values())"
   ]
  },
  {
   "cell_type": "code",
   "execution_count": null,
   "id": "5d5af2cd",
   "metadata": {},
   "outputs": [],
   "source": [
    "### 예시답안\n",
    "from collections import Counter, OrderedDict\n",
    "class OrderedCounter(Counter, OrderedDict):\n",
    "    pass\n",
    "d = OrderedCounter(input() for _ in range(int(input()))) \n",
    "print(len(d))\n",
    "print(*d.values())\n"
   ]
  },
  {
   "cell_type": "markdown",
   "id": "d2635a6c",
   "metadata": {},
   "source": [
    "- Matrix Script"
   ]
  },
  {
   "cell_type": "code",
   "execution_count": null,
   "id": "acb44f9f",
   "metadata": {},
   "outputs": [],
   "source": [
    "import numpy as np \n",
    "import re\n",
    "\n",
    "N, M = map(int, input().split())\n",
    "\n",
    "Matrix = np.array([input().split('') for _ in range(N)])\n",
    "Matrix = Matrix.transpose()\n",
    "Matrix = map(lambda x: ''.join(map(str, x)), Matrix)\n",
    "Matrix = ''.join(Matrix)\n",
    "\n",
    "Matrix = re.sub('\\w([\\W]+)\\w', ' ', Matrix)\n",
    "print(Matrix)"
   ]
  },
  {
   "cell_type": "code",
   "execution_count": 22,
   "id": "58abe9be",
   "metadata": {},
   "outputs": [],
   "source": [
    "import numpy as np\n",
    "import re"
   ]
  },
  {
   "cell_type": "code",
   "execution_count": 24,
   "id": "835522e9",
   "metadata": {},
   "outputs": [
    {
     "data": {
      "text/plain": [
       "['hfdshah']"
      ]
     },
     "execution_count": 24,
     "metadata": {},
     "output_type": "execute_result"
    }
   ],
   "source": [
    "'hfdshah'.split('\\b')"
   ]
  },
  {
   "cell_type": "code",
   "execution_count": 25,
   "id": "f2740a54",
   "metadata": {},
   "outputs": [
    {
     "data": {
      "text/plain": [
       "array('hfdsa', dtype='<U5')"
      ]
     },
     "execution_count": 25,
     "metadata": {},
     "output_type": "execute_result"
    }
   ],
   "source": [
    "np.array('hfdsa')"
   ]
  },
  {
   "cell_type": "code",
   "execution_count": 26,
   "id": "a6150189",
   "metadata": {},
   "outputs": [
    {
     "data": {
      "text/plain": [
       "array(['h', 'f', 'a', 'd', 's'], dtype='<U1')"
      ]
     },
     "execution_count": 26,
     "metadata": {},
     "output_type": "execute_result"
    }
   ],
   "source": [
    "np.array(list('hfads'))"
   ]
  },
  {
   "cell_type": "code",
   "execution_count": 28,
   "id": "9a97ae4f",
   "metadata": {
    "scrolled": true
   },
   "outputs": [
    {
     "ename": "TypeError",
     "evalue": "Field elements must be 2- or 3-tuples, got ''a''",
     "output_type": "error",
     "traceback": [
      "\u001b[1;31m---------------------------------------------------------------------------\u001b[0m",
      "\u001b[1;31mTypeError\u001b[0m                                 Traceback (most recent call last)",
      "\u001b[1;32mC:\\Users\\AARONC~1\\AppData\\Local\\Temp/ipykernel_21184/2845811794.py\u001b[0m in \u001b[0;36m<module>\u001b[1;34m\u001b[0m\n\u001b[1;32m----> 1\u001b[1;33m \u001b[0mnp\u001b[0m\u001b[1;33m.\u001b[0m\u001b[0marray\u001b[0m\u001b[1;33m(\u001b[0m\u001b[0mlist\u001b[0m\u001b[1;33m(\u001b[0m\u001b[1;34m'hfads'\u001b[0m\u001b[1;33m)\u001b[0m\u001b[1;33m,\u001b[0m \u001b[0mlist\u001b[0m\u001b[1;33m(\u001b[0m\u001b[1;34m'apple'\u001b[0m\u001b[1;33m)\u001b[0m\u001b[1;33m)\u001b[0m\u001b[1;33m\u001b[0m\u001b[1;33m\u001b[0m\u001b[0m\n\u001b[0m",
      "\u001b[1;31mTypeError\u001b[0m: Field elements must be 2- or 3-tuples, got ''a''"
     ]
    }
   ],
   "source": [
    "np.array(list('hfads'), list('apple'))"
   ]
  },
  {
   "cell_type": "code",
   "execution_count": null,
   "id": "5c3f9cd5",
   "metadata": {},
   "outputs": [],
   "source": [
    "import numpy as np \n",
    "import re\n",
    "\n",
    "N, M = map(int, input().split())\n",
    "\n",
    "Matrix = np.array([list(input()) for _ in range(N)])\n",
    "Matrix = Matrix.transpose()\n",
    "Matrix = map(lambda x: ''.join(map(str, x)), Matrix)\n",
    "Matrix = ''.join(Matrix)\n",
    "\n",
    "Matrix = re.sub('\\w([\\W]+)\\w', ' ', Matrix)\n",
    "print(Matrix)"
   ]
  },
  {
   "cell_type": "code",
   "execution_count": 29,
   "id": "828185e6",
   "metadata": {},
   "outputs": [],
   "source": [
    "matrix = np.array(range(6)).reshape((3, 2))"
   ]
  },
  {
   "cell_type": "code",
   "execution_count": 30,
   "id": "6bcef712",
   "metadata": {
    "scrolled": true
   },
   "outputs": [
    {
     "data": {
      "text/plain": [
       "array([[0, 2, 4],\n",
       "       [1, 3, 5]])"
      ]
     },
     "execution_count": 30,
     "metadata": {},
     "output_type": "execute_result"
    }
   ],
   "source": [
    "matrix.transpose()"
   ]
  },
  {
   "cell_type": "code",
   "execution_count": 31,
   "id": "637770f6",
   "metadata": {},
   "outputs": [
    {
     "data": {
      "text/plain": [
       "13"
      ]
     },
     "execution_count": 31,
     "metadata": {},
     "output_type": "execute_result"
    }
   ],
   "source": [
    "len('fdsafdsafdsaf')"
   ]
  },
  {
   "cell_type": "code",
   "execution_count": 32,
   "id": "6651d5d8",
   "metadata": {},
   "outputs": [],
   "source": [
    "matrix = np.array(list('fdsafdsafdsafee')).reshape((5, 3))"
   ]
  },
  {
   "cell_type": "code",
   "execution_count": 33,
   "id": "110aef8d",
   "metadata": {
    "scrolled": true
   },
   "outputs": [
    {
     "data": {
      "text/plain": [
       "array([['f', 'd', 's'],\n",
       "       ['a', 'f', 'd'],\n",
       "       ['s', 'a', 'f'],\n",
       "       ['d', 's', 'a'],\n",
       "       ['f', 'e', 'e']], dtype='<U1')"
      ]
     },
     "execution_count": 33,
     "metadata": {},
     "output_type": "execute_result"
    }
   ],
   "source": [
    "matrix"
   ]
  },
  {
   "cell_type": "code",
   "execution_count": 35,
   "id": "d43a70c7",
   "metadata": {},
   "outputs": [
    {
     "data": {
      "text/plain": [
       "<map at 0x26a7737f0a0>"
      ]
     },
     "execution_count": 35,
     "metadata": {},
     "output_type": "execute_result"
    }
   ],
   "source": [
    "map(lambda x: ''.join(x), matrix)"
   ]
  },
  {
   "cell_type": "code",
   "execution_count": 36,
   "id": "079b4789",
   "metadata": {},
   "outputs": [
    {
     "data": {
      "text/plain": [
       "['fds', 'afd', 'saf', 'dsa', 'fee']"
      ]
     },
     "execution_count": 36,
     "metadata": {},
     "output_type": "execute_result"
    }
   ],
   "source": [
    "list(map(lambda x: ''.join(x), matrix))"
   ]
  },
  {
   "cell_type": "code",
   "execution_count": 37,
   "id": "486b7b57",
   "metadata": {},
   "outputs": [
    {
     "data": {
      "text/plain": [
       "'fdsafdsafdsafee'"
      ]
     },
     "execution_count": 37,
     "metadata": {},
     "output_type": "execute_result"
    }
   ],
   "source": [
    "''.join(map(lambda x: ''.join(x), matrix))"
   ]
  },
  {
   "cell_type": "code",
   "execution_count": 54,
   "id": "682e8204",
   "metadata": {},
   "outputs": [],
   "source": [
    "string = 'fdsa++dds?a??#!'"
   ]
  },
  {
   "cell_type": "code",
   "execution_count": 55,
   "id": "2a5e6890",
   "metadata": {},
   "outputs": [
    {
     "data": {
      "text/plain": [
       "'fds d ??#!'"
      ]
     },
     "execution_count": 55,
     "metadata": {},
     "output_type": "execute_result"
    }
   ],
   "source": [
    "re.sub('\\w(\\W+)\\w', ' ', string)"
   ]
  },
  {
   "cell_type": "code",
   "execution_count": 56,
   "id": "faabb724",
   "metadata": {
    "scrolled": true
   },
   "outputs": [
    {
     "data": {
      "text/plain": [
       "['fdsa++dds?a', '']"
      ]
     },
     "execution_count": 56,
     "metadata": {},
     "output_type": "execute_result"
    }
   ],
   "source": [
    "re.split('^[\\W]+|[\\W]+$', string)"
   ]
  },
  {
   "cell_type": "code",
   "execution_count": 59,
   "id": "64f03521",
   "metadata": {},
   "outputs": [
    {
     "data": {
      "text/plain": [
       "'fdsa++dds?a??#!'"
      ]
     },
     "execution_count": 59,
     "metadata": {},
     "output_type": "execute_result"
    }
   ],
   "source": [
    "string"
   ]
  },
  {
   "cell_type": "code",
   "execution_count": 58,
   "id": "180e9e5c",
   "metadata": {
    "scrolled": true
   },
   "outputs": [
    {
     "data": {
      "text/plain": [
       "['fdsa', 'dds', 'a']"
      ]
     },
     "execution_count": 58,
     "metadata": {},
     "output_type": "execute_result"
    }
   ],
   "source": [
    "re.findall('\\\\b\\w+', string)"
   ]
  },
  {
   "cell_type": "code",
   "execution_count": 61,
   "id": "94adae25",
   "metadata": {},
   "outputs": [
    {
     "data": {
      "text/plain": [
       "['++', '?', '??#!']"
      ]
     },
     "execution_count": 61,
     "metadata": {},
     "output_type": "execute_result"
    }
   ],
   "source": [
    "re.findall('\\\\b\\W+', string)"
   ]
  },
  {
   "cell_type": "code",
   "execution_count": 60,
   "id": "a9460474",
   "metadata": {
    "scrolled": true
   },
   "outputs": [
    {
     "data": {
      "text/plain": [
       "['++', '?']"
      ]
     },
     "execution_count": 60,
     "metadata": {},
     "output_type": "execute_result"
    }
   ],
   "source": [
    "re.findall('\\\\b\\W+\\\\b', string)"
   ]
  },
  {
   "cell_type": "markdown",
   "id": "f53be902",
   "metadata": {},
   "source": [
    "# 입력코드 (1)"
   ]
  },
  {
   "cell_type": "code",
   "execution_count": null,
   "id": "7feaf87c",
   "metadata": {},
   "outputs": [],
   "source": [
    "import numpy as np \n",
    "import re\n",
    "\n",
    "N, M = map(int, input().split())\n",
    "\n",
    "Matrix = ''\n",
    "for _ in range(N):\n",
    "    Matrix += str(input())\n",
    "Matrix = np.array(list(Matrix)).reshape((N, M))\n",
    "Matrix = Matrix.transpose()\n",
    "Matrix = map(lambda x: ''.join(x), Matrix)\n",
    "Matrix = ''.join(Matrix)\n",
    "\n",
    "Matrix = re.sub('\\\\b\\W+\\\\b', ' ', Matrix)\n",
    "print(Matrix)\n",
    "\n",
    "    "
   ]
  },
  {
   "cell_type": "markdown",
   "id": "786f8392",
   "metadata": {},
   "source": [
    "# 입력코드 (1)"
   ]
  },
  {
   "cell_type": "code",
   "execution_count": null,
   "id": "f0b000af",
   "metadata": {},
   "outputs": [],
   "source": [
    "#!/bin/python3\n",
    "\n",
    "import math\n",
    "import os\n",
    "import random\n",
    "import re\n",
    "import sys\n",
    "\n",
    "\n",
    "\n",
    "N, M = map(int, input().split())\n",
    "\n",
    "matrix = []\n",
    "\n",
    "for _ in range(N):\n",
    "    matrix_item = input()\n",
    "    matrix.append(matrix_item)\n",
    "\n",
    "string = ''.join(matrix)\n",
    "decode = '' \n",
    "\n",
    "for i in range(M-1):\n",
    "    for index in range(i, len(string)-1, M):\n",
    "        decode += string[index]\n",
    "        \n",
    "decode = re.sub('\\\\b\\W+\\\\b', ' ', decode)\n",
    "print(decode)\n",
    "                "
   ]
  },
  {
   "cell_type": "code",
   "execution_count": null,
   "id": "85296a73",
   "metadata": {},
   "outputs": [],
   "source": [
    "import math\n",
    "import os\n",
    "import random\n",
    "import re\n",
    "import sys\n",
    "\n",
    "\n",
    "\n",
    "N, M = map(int, input().split())\n",
    "\n",
    "matrix = []\n",
    "\n",
    "for _ in range((N+1)):\n",
    "    matrix_item = input()\n",
    "    matrix.append(matrix_item)\n",
    "\n",
    "string = ''.join(matrix)\n",
    "decode = '' \n",
    "\n",
    "for i in range(M-1):\n",
    "    for index in range(i, len(string)-1, M):\n",
    "        decode += string[index]\n",
    "        \n",
    "decode = re.sub('\\\\b\\W+\\\\b', ' ', decode)\n",
    "print(decode)\n",
    "                "
   ]
  },
  {
   "cell_type": "code",
   "execution_count": null,
   "id": "e986fe1b",
   "metadata": {},
   "outputs": [],
   "source": [
    "import math\n",
    "import os\n",
    "import random\n",
    "import re\n",
    "import sys\n",
    "\n",
    "\n",
    "\n",
    "N, M = map(int, input().split())\n",
    "\n",
    "matrix = []\n",
    "\n",
    "for _ in range(N):\n",
    "    matrix_item = input()\n",
    "    matrix.append(matrix_item)\n",
    "\n",
    "string = ''.join(matrix)\n",
    "decode = '' \n",
    "\n",
    "for i in range(M):\n",
    "    for index in range(i, len(string), M):\n",
    "        decode += string[index]\n",
    "        \n",
    "decode = re.sub('\\\\b\\W+\\\\b', ' ', decode)\n",
    "print(decode)\n",
    "                "
   ]
  },
  {
   "cell_type": "code",
   "execution_count": null,
   "id": "bf10d0ee",
   "metadata": {},
   "outputs": [],
   "source": [
    "### 예시답안\n",
    "import re\n",
    "n, m = map(int, input().split())\n",
    "a, b = [], ''\n",
    "\n",
    "for _ in range(n):\n",
    "    a.append(input())\n",
    "    \n",
    "for z in zip(*a):\n",
    "    b += ''.join(z)\n",
    "\n",
    "result = re.sub(f'(?<=\\w)([^\\w]+)(?=\\w)', ' ', b)\n",
    "print(result)\n",
    "\n"
   ]
  },
  {
   "cell_type": "markdown",
   "id": "44402110",
   "metadata": {},
   "source": [
    "- HTML Parser - Part1"
   ]
  },
  {
   "cell_type": "code",
   "execution_count": 63,
   "id": "4bfff0cd",
   "metadata": {
    "scrolled": true
   },
   "outputs": [
    {
     "name": "stdout",
     "output_type": "stream",
     "text": [
      "Collecting HTMLParser\n",
      "  Downloading HTMLParser-0.0.2.tar.gz (6.0 kB)\n",
      "  Preparing metadata (setup.py): started\n",
      "  Preparing metadata (setup.py): finished with status 'done'\n",
      "Building wheels for collected packages: HTMLParser\n",
      "  Building wheel for HTMLParser (setup.py): started\n",
      "  Building wheel for HTMLParser (setup.py): finished with status 'done'\n",
      "Note: you may need to restart the kernel to use updated packages.\n"
     ]
    },
    {
     "name": "stderr",
     "output_type": "stream",
     "text": [
      "WARNING: Ignoring invalid distribution -ip (c:\\users\\aaron cho\\appdata\\local\\programs\\python\\python39\\lib\\site-packages)\n",
      "WARNING: Ignoring invalid distribution -ip (c:\\users\\aaron cho\\appdata\\local\\programs\\python\\python39\\lib\\site-packages)\n"
     ]
    },
    {
     "name": "stdout",
     "output_type": "stream",
     "text": [
      "  Created wheel for HTMLParser: filename=HTMLParser-0.0.2-py3-none-any.whl size=5993 sha256=3fe830f7b04cbf546fe9008399b6be575ce1e7a142773a70b9202787a46aeb87\n",
      "  Stored in directory: c:\\users\\aaron cho\\appdata\\local\\pip\\cache\\wheels\\9a\\89\\a5\\f4d70553bc8105fa3622ed2e6584b289d6e6c859e9ee8ec858\n",
      "Successfully built HTMLParser\n",
      "Installing collected packages: HTMLParser\n",
      "Successfully installed HTMLParser-0.0.2\n"
     ]
    }
   ],
   "source": [
    "pip install HTMLParser"
   ]
  },
  {
   "cell_type": "code",
   "execution_count": 2,
   "id": "6127465b",
   "metadata": {},
   "outputs": [
    {
     "name": "stdout",
     "output_type": "stream",
     "text": [
      "Note: you may need to restart the kernel to use updated packages.\n"
     ]
    },
    {
     "name": "stderr",
     "output_type": "stream",
     "text": [
      "WARNING: Ignoring invalid distribution -ip (c:\\users\\aaron cho\\appdata\\local\\programs\\python\\python39\\lib\\site-packages)\n",
      "ERROR: Could not find a version that satisfies the requirement markupbase (from versions: none)\n",
      "ERROR: No matching distribution found for markupbase\n"
     ]
    }
   ],
   "source": [
    "pip install markupbase"
   ]
  },
  {
   "cell_type": "code",
   "execution_count": 2,
   "id": "c78a7d28",
   "metadata": {},
   "outputs": [
    {
     "ename": "ModuleNotFoundError",
     "evalue": "No module named 'markupbase'",
     "output_type": "error",
     "traceback": [
      "\u001b[1;31m---------------------------------------------------------------------------\u001b[0m",
      "\u001b[1;31mModuleNotFoundError\u001b[0m                       Traceback (most recent call last)",
      "\u001b[1;32mC:\\Users\\AARONC~1\\AppData\\Local\\Temp/ipykernel_7136/547634028.py\u001b[0m in \u001b[0;36m<module>\u001b[1;34m\u001b[0m\n\u001b[1;32m----> 1\u001b[1;33m \u001b[1;32mfrom\u001b[0m \u001b[0mHTMLParser\u001b[0m \u001b[1;32mimport\u001b[0m \u001b[0mHTMLParser\u001b[0m\u001b[1;33m\u001b[0m\u001b[1;33m\u001b[0m\u001b[0m\n\u001b[0m\u001b[0;32m      2\u001b[0m \u001b[1;33m\u001b[0m\u001b[0m\n\u001b[0;32m      3\u001b[0m \u001b[1;32mclass\u001b[0m \u001b[0mMyHTMLParser\u001b[0m\u001b[1;33m(\u001b[0m\u001b[0mHTMLParser\u001b[0m\u001b[1;33m)\u001b[0m\u001b[1;33m:\u001b[0m\u001b[1;33m\u001b[0m\u001b[1;33m\u001b[0m\u001b[0m\n\u001b[0;32m      4\u001b[0m     \u001b[1;32mdef\u001b[0m \u001b[0mhandle_starttag\u001b[0m\u001b[1;33m(\u001b[0m\u001b[0mself\u001b[0m\u001b[1;33m,\u001b[0m \u001b[0mtag\u001b[0m\u001b[1;33m,\u001b[0m \u001b[0mattrs\u001b[0m\u001b[1;33m)\u001b[0m\u001b[1;33m:\u001b[0m\u001b[1;33m\u001b[0m\u001b[1;33m\u001b[0m\u001b[0m\n\u001b[0;32m      5\u001b[0m         \u001b[0mprint\u001b[0m\u001b[1;33m(\u001b[0m\u001b[1;34m'Found a start tag:'\u001b[0m\u001b[1;33m,\u001b[0m \u001b[0mtag\u001b[0m\u001b[1;33m)\u001b[0m\u001b[1;33m\u001b[0m\u001b[1;33m\u001b[0m\u001b[0m\n",
      "\u001b[1;32m~\\AppData\\Local\\Programs\\Python\\Python39\\lib\\site-packages\\HTMLParser.py\u001b[0m in \u001b[0;36m<module>\u001b[1;34m\u001b[0m\n\u001b[0;32m      9\u001b[0m \u001b[1;33m\u001b[0m\u001b[0m\n\u001b[0;32m     10\u001b[0m \u001b[1;33m\u001b[0m\u001b[0m\n\u001b[1;32m---> 11\u001b[1;33m \u001b[1;32mimport\u001b[0m \u001b[0mmarkupbase\u001b[0m\u001b[1;33m\u001b[0m\u001b[1;33m\u001b[0m\u001b[0m\n\u001b[0m\u001b[0;32m     12\u001b[0m \u001b[1;32mimport\u001b[0m \u001b[0mre\u001b[0m\u001b[1;33m\u001b[0m\u001b[1;33m\u001b[0m\u001b[0m\n\u001b[0;32m     13\u001b[0m \u001b[1;33m\u001b[0m\u001b[0m\n",
      "\u001b[1;31mModuleNotFoundError\u001b[0m: No module named 'markupbase'"
     ]
    }
   ],
   "source": [
    "from HTMLParser import HTMLParser\n",
    "\n",
    "class MyHTMLParser(HTMLParser):\n",
    "    def handle_starttag(self, tag, attrs):\n",
    "        print('Found a start tag:', tag)\n",
    "    def handle_endtag(self, tag):\n",
    "        print('Found an end tag :', tag)\n",
    "    def handle_startendtag(self, tag, attrs):\n",
    "        print('Found an empty tag :', tag)\n",
    "\n",
    "parser = MyHTMLParser()\n",
    "parser.feed('''<html><head><title>HTML Parser - I</title>\n",
    "            </head>''' \n",
    "           + \"<bodh><h1>HackerRank</h1><nr /></body></html>\")\n"
   ]
  },
  {
   "cell_type": "markdown",
   "id": "ac3fe320",
   "metadata": {},
   "source": [
    "- Detect floating point number"
   ]
  },
  {
   "cell_type": "code",
   "execution_count": null,
   "id": "6e6b5777",
   "metadata": {},
   "outputs": [],
   "source": [
    "import re\n",
    "\n",
    "T = int(input())\n",
    "for _ in range(T):\n",
    "    string = str(input())\n",
    "    try:\n",
    "        if float(string):\n",
    "            if re.match('(\\\\.\\d+)|([\\\\+\\\\-]\\d+\\\\.\\d+)', string):\n",
    "                print(True)\n",
    "    except Exception:\n",
    "        print(False)"
   ]
  },
  {
   "cell_type": "code",
   "execution_count": 8,
   "id": "38bfcd54",
   "metadata": {},
   "outputs": [],
   "source": [
    "import re"
   ]
  },
  {
   "cell_type": "code",
   "execution_count": 17,
   "id": "6100d9a6",
   "metadata": {},
   "outputs": [
    {
     "name": "stdout",
     "output_type": "stream",
     "text": [
      "False\n",
      "True\n",
      "True\n",
      "False\n"
     ]
    }
   ],
   "source": [
    "candidates = ['4.0o0', '-1.00', '+4.54', 'SomeRandomStuff']\n",
    "for candidate in candidates:\n",
    "    try:\n",
    "        if float(candidate):\n",
    "            if re.match('(\\\\.\\d+)|([\\\\+\\\\-]\\d+\\\\.\\d+)', candidate):\n",
    "                print(True)\n",
    "    except Exception:\n",
    "        print(False)"
   ]
  },
  {
   "cell_type": "code",
   "execution_count": 10,
   "id": "bfbcd555",
   "metadata": {},
   "outputs": [
    {
     "data": {
      "text/plain": [
       "4.0"
      ]
     },
     "execution_count": 10,
     "metadata": {},
     "output_type": "execute_result"
    }
   ],
   "source": [
    "float('4.000')"
   ]
  },
  {
   "cell_type": "code",
   "execution_count": 11,
   "id": "c3499ea0",
   "metadata": {},
   "outputs": [
    {
     "name": "stdout",
     "output_type": "stream",
     "text": [
      "True\n"
     ]
    }
   ],
   "source": [
    "if float('4.000'):\n",
    "    print(True)"
   ]
  },
  {
   "cell_type": "code",
   "execution_count": 12,
   "id": "7d7a6041",
   "metadata": {},
   "outputs": [
    {
     "name": "stdout",
     "output_type": "stream",
     "text": [
      "True\n"
     ]
    }
   ],
   "source": [
    "import re\n",
    "if re.match('[\\\\+\\\\-]\\d+\\W.\\d+', '-1.00'):\n",
    "    print(True)"
   ]
  },
  {
   "cell_type": "code",
   "execution_count": 15,
   "id": "aadb19aa",
   "metadata": {},
   "outputs": [
    {
     "name": "stdout",
     "output_type": "stream",
     "text": [
      "False\n",
      "True\n",
      "True\n",
      "False\n"
     ]
    }
   ],
   "source": [
    "candidates = ['4.0o0', '-1.00', '+4.54', 'SomeRandomStuff']\n",
    "for candidate in candidates:\n",
    "    try:\n",
    "        if float(candidate):\n",
    "            if re.match('\\\\.\\d+', candidate) or re.match('[\\\\+\\\\-]\\d+\\\\.\\d+', candidate):\n",
    "                print(True)\n",
    "    except Exception:\n",
    "        print(False)"
   ]
  },
  {
   "cell_type": "markdown",
   "id": "3d103ef4",
   "metadata": {},
   "source": [
    "# 입력코드 (1)"
   ]
  },
  {
   "cell_type": "code",
   "execution_count": null,
   "id": "90abae13",
   "metadata": {},
   "outputs": [],
   "source": [
    "import re\n",
    "\n",
    "T = int(input())\n",
    "for _ in range(T):\n",
    "    string = str(input())\n",
    "    try:\n",
    "        if float(string):\n",
    "            if re.match('(\\\\.\\d+)|([\\\\+\\\\-]\\d+\\\\.\\d+)', string):\n",
    "                print(True)\n",
    "    except Exception:\n",
    "        print(False)"
   ]
  },
  {
   "cell_type": "markdown",
   "id": "3f3e79ba",
   "metadata": {},
   "source": [
    "# 입력코드 (2)"
   ]
  },
  {
   "cell_type": "code",
   "execution_count": null,
   "id": "5432afd2",
   "metadata": {},
   "outputs": [],
   "source": [
    "import re\n",
    "\n",
    "T = int(input())\n",
    "for _ in range(T):\n",
    "    string = str(input())\n",
    "    try:\n",
    "        if float(string):\n",
    "            if re.match('(\\\\.[\\d]+)|([\\\\+\\\\-][\\d]+\\\\.[\\d]+)', string):\n",
    "                print(True)\n",
    "    except Exception:\n",
    "        print(False)"
   ]
  },
  {
   "cell_type": "code",
   "execution_count": null,
   "id": "64029525",
   "metadata": {},
   "outputs": [],
   "source": [
    "### 예시답안\n",
    "import re\n",
    "for _ in range(int(input())):\n",
    "    print(bool(re.match(r'^[-+]?[0-9]*\\.[0-9]+', input())))"
   ]
  },
  {
   "cell_type": "markdown",
   "id": "cbb56fbd",
   "metadata": {},
   "source": [
    "# 입력코드 (3)"
   ]
  },
  {
   "cell_type": "code",
   "execution_count": null,
   "id": "24d605fa",
   "metadata": {},
   "outputs": [],
   "source": [
    "import re\n",
    "\n",
    "T = int(input())\n",
    "for _ in range(T):\n",
    "    string = str(input())\n",
    "    try:\n",
    "        if float(string):\n",
    "            if re.match('^[\\\\+\\\\-]?\\d*\\\\.\\d+', string):\n",
    "                print(True)\n",
    "    except Exception:\n",
    "        print(False)"
   ]
  },
  {
   "cell_type": "markdown",
   "id": "a688fb77",
   "metadata": {},
   "source": [
    "# 입력코드 (4)"
   ]
  },
  {
   "cell_type": "code",
   "execution_count": null,
   "id": "00b99352",
   "metadata": {},
   "outputs": [],
   "source": [
    "import re\n",
    "\n",
    "T = int(input())\n",
    "for _ in range(T):\n",
    "    string = str(input())\n",
    "    try:\n",
    "        if float(string):\n",
    "            if re.match('([\\\\+\\\\-]?\\d*\\\\.\\d+)|\\d+', string):\n",
    "                print(True)\n",
    "    except Exception:\n",
    "        print(False)"
   ]
  },
  {
   "cell_type": "markdown",
   "id": "800dbce9",
   "metadata": {},
   "source": [
    "# 입력코드 (5)"
   ]
  },
  {
   "cell_type": "code",
   "execution_count": 18,
   "id": "0995ec51",
   "metadata": {},
   "outputs": [
    {
     "name": "stdout",
     "output_type": "stream",
     "text": [
      "0.0\n"
     ]
    }
   ],
   "source": [
    "print(float('0'))"
   ]
  },
  {
   "cell_type": "code",
   "execution_count": 20,
   "id": "60c477f0",
   "metadata": {},
   "outputs": [],
   "source": [
    "if re.match('([\\\\+\\\\-]?\\d*\\\\.\\d+)', '0'):\n",
    "    print(True)"
   ]
  },
  {
   "cell_type": "code",
   "execution_count": 21,
   "id": "31d6b397",
   "metadata": {},
   "outputs": [],
   "source": [
    "if re.match('([\\\\+\\\\-]?\\d*\\\\.\\d+)', 'random'):\n",
    "    print(True)"
   ]
  },
  {
   "cell_type": "code",
   "execution_count": null,
   "id": "5fbe1ade",
   "metadata": {},
   "outputs": [],
   "source": [
    "import re\n",
    "\n",
    "T = int(input())\n",
    "for _ in range(T):\n",
    "    string = str(input())\n",
    "    try:\n",
    "        if float(string):\n",
    "            if re.match('([\\\\+\\\\-]?\\d*\\\\.\\d+)', string):\n",
    "                print(True)\n",
    "    except Exception:\n",
    "        print(False)"
   ]
  },
  {
   "cell_type": "code",
   "execution_count": 23,
   "id": "651d0225",
   "metadata": {
    "scrolled": true
   },
   "outputs": [],
   "source": [
    "tests = ['1.414', '+.548642', '0.5.0', '1+1.0', '0']"
   ]
  },
  {
   "cell_type": "code",
   "execution_count": 26,
   "id": "7c5ce48a",
   "metadata": {},
   "outputs": [
    {
     "name": "stdout",
     "output_type": "stream",
     "text": [
      "True\n",
      "True\n",
      "False\n",
      "False\n",
      "False\n"
     ]
    }
   ],
   "source": [
    "for test in tests:\n",
    "    try:\n",
    "        if test == '0':\n",
    "            print(False)\n",
    "        if float(test):\n",
    "            if re.match('([\\\\+\\\\-]?\\d*\\\\.\\d+)', test):\n",
    "                print(True)\n",
    "    except Exception:\n",
    "        print(False)"
   ]
  },
  {
   "cell_type": "code",
   "execution_count": null,
   "id": "a7a04885",
   "metadata": {},
   "outputs": [],
   "source": [
    "import re\n",
    "\n",
    "T = int(input())\n",
    "for _ in range(T):\n",
    "    string = str(input())\n",
    "    try:\n",
    "        if string == '0':\n",
    "            print(False)\n",
    "        if float(string):\n",
    "            if re.match('([\\\\+\\\\-]?\\d*\\\\.\\d+)', string):\n",
    "                print(True)\n",
    "    except Exception:\n",
    "        print(False)"
   ]
  }
 ],
 "metadata": {
  "kernelspec": {
   "display_name": "Python 3 (ipykernel)",
   "language": "python",
   "name": "python3"
  },
  "language_info": {
   "codemirror_mode": {
    "name": "ipython",
    "version": 3
   },
   "file_extension": ".py",
   "mimetype": "text/x-python",
   "name": "python",
   "nbconvert_exporter": "python",
   "pygments_lexer": "ipython3",
   "version": "3.9.7"
  }
 },
 "nbformat": 4,
 "nbformat_minor": 5
}
