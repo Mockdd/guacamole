{
 "cells": [
  {
   "cell_type": "markdown",
   "id": "14ca14b7",
   "metadata": {},
   "source": [
    "- triangle quest 2"
   ]
  },
  {
   "cell_type": "code",
   "execution_count": 1,
   "id": "22add97d",
   "metadata": {},
   "outputs": [
    {
     "data": {
      "text/plain": [
       "range(3, 3)"
      ]
     },
     "execution_count": 1,
     "metadata": {},
     "output_type": "execute_result"
    }
   ],
   "source": [
    "range(3, 3)"
   ]
  },
  {
   "cell_type": "code",
   "execution_count": 2,
   "id": "9c3ba004",
   "metadata": {},
   "outputs": [
    {
     "data": {
      "text/plain": [
       "[]"
      ]
     },
     "execution_count": 2,
     "metadata": {},
     "output_type": "execute_result"
    }
   ],
   "source": [
    "list(range(3, 3))"
   ]
  },
  {
   "cell_type": "code",
   "execution_count": 3,
   "id": "478a1440",
   "metadata": {},
   "outputs": [
    {
     "data": {
      "text/plain": [
       "[3]"
      ]
     },
     "execution_count": 3,
     "metadata": {},
     "output_type": "execute_result"
    }
   ],
   "source": [
    "list(range(3, 4))"
   ]
  },
  {
   "cell_type": "code",
   "execution_count": 4,
   "id": "e96b182b",
   "metadata": {},
   "outputs": [
    {
     "data": {
      "text/plain": [
       "'range(3, 4)'"
      ]
     },
     "execution_count": 4,
     "metadata": {},
     "output_type": "execute_result"
    }
   ],
   "source": [
    "str(range(3, 4))"
   ]
  },
  {
   "cell_type": "code",
   "execution_count": 5,
   "id": "0334a3e3",
   "metadata": {},
   "outputs": [
    {
     "ename": "TypeError",
     "evalue": "unsupported operand type(s) for +: 'range' and 'range'",
     "output_type": "error",
     "traceback": [
      "\u001b[1;31m---------------------------------------------------------------------------\u001b[0m",
      "\u001b[1;31mTypeError\u001b[0m                                 Traceback (most recent call last)",
      "\u001b[1;32mC:\\Users\\AARONC~1\\AppData\\Local\\Temp/ipykernel_25000/2916214840.py\u001b[0m in \u001b[0;36m<module>\u001b[1;34m\u001b[0m\n\u001b[1;32m----> 1\u001b[1;33m \u001b[0mrange\u001b[0m\u001b[1;33m(\u001b[0m\u001b[1;36m1\u001b[0m\u001b[1;33m,\u001b[0m \u001b[1;36m2\u001b[0m\u001b[1;33m)\u001b[0m \u001b[1;33m+\u001b[0m \u001b[0mrange\u001b[0m\u001b[1;33m(\u001b[0m\u001b[1;36m1\u001b[0m\u001b[1;33m,\u001b[0m \u001b[1;36m1\u001b[0m\u001b[1;33m,\u001b[0m \u001b[1;33m-\u001b[0m\u001b[1;36m1\u001b[0m\u001b[1;33m)\u001b[0m\u001b[1;33m\u001b[0m\u001b[1;33m\u001b[0m\u001b[0m\n\u001b[0m",
      "\u001b[1;31mTypeError\u001b[0m: unsupported operand type(s) for +: 'range' and 'range'"
     ]
    }
   ],
   "source": [
    "range(1, 2) + range(1, 1, -1)"
   ]
  },
  {
   "cell_type": "code",
   "execution_count": 6,
   "id": "11d0d902",
   "metadata": {},
   "outputs": [
    {
     "data": {
      "text/plain": [
       "range(1, 1, -1)"
      ]
     },
     "execution_count": 6,
     "metadata": {},
     "output_type": "execute_result"
    }
   ],
   "source": [
    "range(1, 1, -1)"
   ]
  },
  {
   "cell_type": "code",
   "execution_count": 7,
   "id": "c1c54b24",
   "metadata": {},
   "outputs": [
    {
     "data": {
      "text/plain": [
       "[]"
      ]
     },
     "execution_count": 7,
     "metadata": {},
     "output_type": "execute_result"
    }
   ],
   "source": [
    "list(range(1, 1, -1))"
   ]
  },
  {
   "cell_type": "code",
   "execution_count": 8,
   "id": "a1c85c06",
   "metadata": {},
   "outputs": [
    {
     "data": {
      "text/plain": [
       "[1]"
      ]
     },
     "execution_count": 8,
     "metadata": {},
     "output_type": "execute_result"
    }
   ],
   "source": [
    "list(range(1, 0, -1))"
   ]
  },
  {
   "cell_type": "code",
   "execution_count": 12,
   "id": "b3f039c2",
   "metadata": {},
   "outputs": [
    {
     "data": {
      "text/plain": [
       "[1, 2, 1]"
      ]
     },
     "execution_count": 12,
     "metadata": {},
     "output_type": "execute_result"
    }
   ],
   "source": [
    "list(range(1, 3)) + list(range(1, 0, -1))"
   ]
  },
  {
   "cell_type": "code",
   "execution_count": 13,
   "id": "3327e8c8",
   "metadata": {},
   "outputs": [
    {
     "data": {
      "text/plain": [
       "[1, 1]"
      ]
     },
     "execution_count": 13,
     "metadata": {},
     "output_type": "execute_result"
    }
   ],
   "source": [
    "list(range(1, 2)) + list(range(1, 0, -1))"
   ]
  },
  {
   "cell_type": "code",
   "execution_count": 14,
   "id": "a0b40995",
   "metadata": {},
   "outputs": [
    {
     "data": {
      "text/plain": [
       "[1]"
      ]
     },
     "execution_count": 14,
     "metadata": {},
     "output_type": "execute_result"
    }
   ],
   "source": [
    "list(range(1, 2)) + list(range(0, 0, -1))"
   ]
  },
  {
   "cell_type": "code",
   "execution_count": 15,
   "id": "046f1f8a",
   "metadata": {},
   "outputs": [
    {
     "data": {
      "text/plain": [
       "[1, 2, 1]"
      ]
     },
     "execution_count": 15,
     "metadata": {},
     "output_type": "execute_result"
    }
   ],
   "source": [
    "list(range(1, 3)) + list(range(1, 0, -1))"
   ]
  },
  {
   "cell_type": "code",
   "execution_count": 17,
   "id": "ae8ff7a6",
   "metadata": {},
   "outputs": [],
   "source": [
    "numbers = list(range(1, 3)) + list(range(1, 0, -1))"
   ]
  },
  {
   "cell_type": "code",
   "execution_count": 18,
   "id": "8416270f",
   "metadata": {},
   "outputs": [
    {
     "data": {
      "text/plain": [
       "<map at 0x27677a675b0>"
      ]
     },
     "execution_count": 18,
     "metadata": {},
     "output_type": "execute_result"
    }
   ],
   "source": [
    "map(str, numbers)"
   ]
  },
  {
   "cell_type": "code",
   "execution_count": 19,
   "id": "54c66f26",
   "metadata": {},
   "outputs": [
    {
     "data": {
      "text/plain": [
       "['1', '2', '1']"
      ]
     },
     "execution_count": 19,
     "metadata": {},
     "output_type": "execute_result"
    }
   ],
   "source": [
    "list(map(str, numbers))"
   ]
  },
  {
   "cell_type": "code",
   "execution_count": 20,
   "id": "c83604d4",
   "metadata": {},
   "outputs": [],
   "source": [
    "numbers = list(map(str, numbers))"
   ]
  },
  {
   "cell_type": "code",
   "execution_count": 23,
   "id": "fac52910",
   "metadata": {},
   "outputs": [
    {
     "data": {
      "text/plain": [
       "'121'"
      ]
     },
     "execution_count": 23,
     "metadata": {},
     "output_type": "execute_result"
    }
   ],
   "source": [
    "import functools\n",
    "functools.reduce(lambda x, y: x + y, numbers, '')"
   ]
  },
  {
   "cell_type": "code",
   "execution_count": 26,
   "id": "009d9d9e",
   "metadata": {},
   "outputs": [],
   "source": [
    "numbers = list(range(3, 10))"
   ]
  },
  {
   "cell_type": "code",
   "execution_count": 27,
   "id": "777ad738",
   "metadata": {},
   "outputs": [
    {
     "data": {
      "text/plain": [
       "[3, 4, 5, 6, 7, 8, 9]"
      ]
     },
     "execution_count": 27,
     "metadata": {},
     "output_type": "execute_result"
    }
   ],
   "source": [
    "numbers"
   ]
  },
  {
   "cell_type": "code",
   "execution_count": 28,
   "id": "6251fc4e",
   "metadata": {},
   "outputs": [
    {
     "data": {
      "text/plain": [
       "[9, 8, 7, 6]"
      ]
     },
     "execution_count": 28,
     "metadata": {},
     "output_type": "execute_result"
    }
   ],
   "source": [
    "numbers[-1:-5:-1]"
   ]
  },
  {
   "cell_type": "code",
   "execution_count": 29,
   "id": "4ea9c076",
   "metadata": {},
   "outputs": [
    {
     "data": {
      "text/plain": [
       "[5, 6, 7, 8]"
      ]
     },
     "execution_count": 29,
     "metadata": {},
     "output_type": "execute_result"
    }
   ],
   "source": [
    "numbers[-5:-1]"
   ]
  },
  {
   "cell_type": "code",
   "execution_count": 32,
   "id": "3e1cf5c7",
   "metadata": {},
   "outputs": [
    {
     "name": "stdout",
     "output_type": "stream",
     "text": [
      "0.0\n",
      "1.0\n",
      "11.0\n",
      "111.0\n",
      "1111.0\n"
     ]
    }
   ],
   "source": [
    "for i in range(1, 6):\n",
    "    print(((10**i)-1) / 9)"
   ]
  },
  {
   "cell_type": "code",
   "execution_count": 33,
   "id": "3b710aee",
   "metadata": {},
   "outputs": [
    {
     "name": "stdout",
     "output_type": "stream",
     "text": [
      "1.0\n",
      "121.0\n",
      "12321.0\n",
      "1234321.0\n",
      "123454321.0\n"
     ]
    }
   ],
   "source": [
    "for i in range(1, 6):\n",
    "    print((((10**i)-1) / 9)**2)"
   ]
  },
  {
   "cell_type": "markdown",
   "id": "248c4d63",
   "metadata": {},
   "source": [
    "# 입력코드 (1) > and it works "
   ]
  },
  {
   "cell_type": "code",
   "execution_count": 34,
   "id": "b07ff5fb",
   "metadata": {
    "scrolled": true
   },
   "outputs": [
    {
     "name": "stdout",
     "output_type": "stream",
     "text": [
      "1\n",
      "121\n",
      "12321\n",
      "1234321\n",
      "123454321\n"
     ]
    }
   ],
   "source": [
    "for i in range(1, 6):\n",
    "    print(int((((10**i)-1) / 9)**2))"
   ]
  },
  {
   "cell_type": "markdown",
   "id": "0af7104c",
   "metadata": {},
   "source": [
    "# 입력코드 (2) "
   ]
  },
  {
   "cell_type": "code",
   "execution_count": 35,
   "id": "c2c4b61a",
   "metadata": {},
   "outputs": [
    {
     "name": "stdout",
     "output_type": "stream",
     "text": [
      "5\n"
     ]
    },
    {
     "ename": "TypeError",
     "evalue": "sequence item 0: expected str instance, int found",
     "output_type": "error",
     "traceback": [
      "\u001b[1;31m---------------------------------------------------------------------------\u001b[0m",
      "\u001b[1;31mTypeError\u001b[0m                                 Traceback (most recent call last)",
      "\u001b[1;32mC:\\Users\\AARONC~1\\AppData\\Local\\Temp/ipykernel_25000/37280645.py\u001b[0m in \u001b[0;36m<module>\u001b[1;34m\u001b[0m\n\u001b[0;32m      1\u001b[0m \u001b[1;32mfor\u001b[0m \u001b[0mi\u001b[0m \u001b[1;32min\u001b[0m \u001b[0mrange\u001b[0m\u001b[1;33m(\u001b[0m\u001b[1;36m1\u001b[0m\u001b[1;33m,\u001b[0m \u001b[0mint\u001b[0m\u001b[1;33m(\u001b[0m\u001b[0minput\u001b[0m\u001b[1;33m(\u001b[0m\u001b[1;33m)\u001b[0m\u001b[1;33m)\u001b[0m \u001b[1;33m+\u001b[0m \u001b[1;36m1\u001b[0m\u001b[1;33m)\u001b[0m\u001b[1;33m:\u001b[0m\u001b[1;33m\u001b[0m\u001b[1;33m\u001b[0m\u001b[0m\n\u001b[0;32m      2\u001b[0m     \u001b[0mnumbers\u001b[0m \u001b[1;33m=\u001b[0m \u001b[0mlist\u001b[0m\u001b[1;33m(\u001b[0m\u001b[0mrange\u001b[0m\u001b[1;33m(\u001b[0m\u001b[1;36m1\u001b[0m\u001b[1;33m,\u001b[0m \u001b[0mi\u001b[0m\u001b[1;33m+\u001b[0m\u001b[1;36m1\u001b[0m\u001b[1;33m)\u001b[0m\u001b[1;33m)\u001b[0m\u001b[1;33m\u001b[0m\u001b[1;33m\u001b[0m\u001b[0m\n\u001b[1;32m----> 3\u001b[1;33m     \u001b[0mprint\u001b[0m\u001b[1;33m(\u001b[0m\u001b[1;34m''\u001b[0m\u001b[1;33m.\u001b[0m\u001b[0mjoin\u001b[0m\u001b[1;33m(\u001b[0m\u001b[0mnumbers\u001b[0m \u001b[1;33m+\u001b[0m \u001b[0mnumbers\u001b[0m\u001b[1;33m[\u001b[0m\u001b[1;33m-\u001b[0m\u001b[1;36m2\u001b[0m\u001b[1;33m:\u001b[0m\u001b[1;33m-\u001b[0m\u001b[1;36m5\u001b[0m\u001b[1;33m:\u001b[0m\u001b[1;33m-\u001b[0m\u001b[1;36m1\u001b[0m\u001b[1;33m]\u001b[0m\u001b[1;33m)\u001b[0m\u001b[1;33m)\u001b[0m\u001b[1;33m\u001b[0m\u001b[1;33m\u001b[0m\u001b[0m\n\u001b[0m",
      "\u001b[1;31mTypeError\u001b[0m: sequence item 0: expected str instance, int found"
     ]
    }
   ],
   "source": [
    "for i in range(1, int(input()) + 1):\n",
    "    numbers = list(range(1, i+1))\n",
    "    print(''.join(numbers + numbers[-2:-5:-1]))"
   ]
  },
  {
   "cell_type": "markdown",
   "id": "248d0f3a",
   "metadata": {},
   "source": [
    "# 입력코드 (3)"
   ]
  },
  {
   "cell_type": "code",
   "execution_count": 36,
   "id": "60eb1649",
   "metadata": {},
   "outputs": [
    {
     "name": "stdout",
     "output_type": "stream",
     "text": [
      "5\n"
     ]
    },
    {
     "ename": "TypeError",
     "evalue": "'map' object is not subscriptable",
     "output_type": "error",
     "traceback": [
      "\u001b[1;31m---------------------------------------------------------------------------\u001b[0m",
      "\u001b[1;31mTypeError\u001b[0m                                 Traceback (most recent call last)",
      "\u001b[1;32mC:\\Users\\AARONC~1\\AppData\\Local\\Temp/ipykernel_25000/2034509946.py\u001b[0m in \u001b[0;36m<module>\u001b[1;34m\u001b[0m\n\u001b[0;32m      1\u001b[0m \u001b[1;32mfor\u001b[0m \u001b[0mi\u001b[0m \u001b[1;32min\u001b[0m \u001b[0mrange\u001b[0m\u001b[1;33m(\u001b[0m\u001b[1;36m1\u001b[0m\u001b[1;33m,\u001b[0m \u001b[0mint\u001b[0m\u001b[1;33m(\u001b[0m\u001b[0minput\u001b[0m\u001b[1;33m(\u001b[0m\u001b[1;33m)\u001b[0m\u001b[1;33m)\u001b[0m \u001b[1;33m+\u001b[0m \u001b[1;36m1\u001b[0m\u001b[1;33m)\u001b[0m\u001b[1;33m:\u001b[0m\u001b[1;33m\u001b[0m\u001b[1;33m\u001b[0m\u001b[0m\n\u001b[0;32m      2\u001b[0m     \u001b[0mnumbers\u001b[0m \u001b[1;33m=\u001b[0m \u001b[0mmap\u001b[0m\u001b[1;33m(\u001b[0m\u001b[0mstr\u001b[0m\u001b[1;33m,\u001b[0m \u001b[0mlist\u001b[0m\u001b[1;33m(\u001b[0m\u001b[0mrange\u001b[0m\u001b[1;33m(\u001b[0m\u001b[1;36m1\u001b[0m\u001b[1;33m,\u001b[0m \u001b[0mi\u001b[0m\u001b[1;33m+\u001b[0m\u001b[1;36m1\u001b[0m\u001b[1;33m)\u001b[0m\u001b[1;33m)\u001b[0m\u001b[1;33m)\u001b[0m\u001b[1;33m\u001b[0m\u001b[1;33m\u001b[0m\u001b[0m\n\u001b[1;32m----> 3\u001b[1;33m     \u001b[0mprint\u001b[0m\u001b[1;33m(\u001b[0m\u001b[1;34m''\u001b[0m\u001b[1;33m.\u001b[0m\u001b[0mjoin\u001b[0m\u001b[1;33m(\u001b[0m\u001b[0mnumbers\u001b[0m \u001b[1;33m+\u001b[0m \u001b[0mnumbers\u001b[0m\u001b[1;33m[\u001b[0m\u001b[1;33m-\u001b[0m\u001b[1;36m2\u001b[0m\u001b[1;33m:\u001b[0m\u001b[1;33m-\u001b[0m\u001b[1;36m5\u001b[0m\u001b[1;33m:\u001b[0m\u001b[1;33m-\u001b[0m\u001b[1;36m1\u001b[0m\u001b[1;33m]\u001b[0m\u001b[1;33m)\u001b[0m\u001b[1;33m)\u001b[0m\u001b[1;33m\u001b[0m\u001b[1;33m\u001b[0m\u001b[0m\n\u001b[0m",
      "\u001b[1;31mTypeError\u001b[0m: 'map' object is not subscriptable"
     ]
    }
   ],
   "source": [
    "for i in range(1, int(input()) + 1):\n",
    "    numbers = map(str, list(range(1, i+1)))\n",
    "    print(''.join(numbers + numbers[-2:-5:-1]))"
   ]
  },
  {
   "cell_type": "markdown",
   "id": "dc4b4cef",
   "metadata": {},
   "source": [
    "# 입력코드 (4) "
   ]
  },
  {
   "cell_type": "code",
   "execution_count": 37,
   "id": "a754e34b",
   "metadata": {},
   "outputs": [
    {
     "name": "stdout",
     "output_type": "stream",
     "text": [
      "5\n",
      "1\n",
      "121\n",
      "12321\n",
      "1234321\n",
      "12345432\n"
     ]
    }
   ],
   "source": [
    "for i in range(1, int(input()) + 1):\n",
    "    numbers = list(map(str, list(range(1, i+1))))\n",
    "    print(''.join(numbers + numbers[-2:-5:-1]))"
   ]
  },
  {
   "cell_type": "code",
   "execution_count": 38,
   "id": "7ff1006c",
   "metadata": {},
   "outputs": [
    {
     "name": "stdout",
     "output_type": "stream",
     "text": [
      "5\n",
      "11\n",
      "121\n",
      "123321\n",
      "1234321\n",
      "12345321\n"
     ]
    }
   ],
   "source": [
    "for i in range(1, int(input()) + 1):\n",
    "    numbers = list(map(str, list(range(1, i+1))))\n",
    "    print(''.join(numbers + numbers[-(i-2):-(i+1):-1]))"
   ]
  },
  {
   "cell_type": "code",
   "execution_count": 42,
   "id": "ce8c98ec",
   "metadata": {},
   "outputs": [
    {
     "name": "stdout",
     "output_type": "stream",
     "text": [
      "5\n",
      "1\n",
      "121\n",
      "12321\n",
      "1234321\n",
      "123454321\n"
     ]
    }
   ],
   "source": [
    "for i in range(1, int(input()) + 1):\n",
    "    numbers = list(map(str, list(range(1, i+1))))\n",
    "    print(''.join(numbers + numbers[-2::-1]))"
   ]
  },
  {
   "cell_type": "markdown",
   "id": "bab4174d",
   "metadata": {},
   "source": [
    "- triangle quest "
   ]
  },
  {
   "cell_type": "code",
   "execution_count": 43,
   "id": "5c559e9c",
   "metadata": {},
   "outputs": [
    {
     "name": "stdout",
     "output_type": "stream",
     "text": [
      "5\n"
     ]
    },
    {
     "ename": "TypeError",
     "evalue": "unsupported operand type(s) for *: 'NoneType' and 'int'",
     "output_type": "error",
     "traceback": [
      "\u001b[1;31m---------------------------------------------------------------------------\u001b[0m",
      "\u001b[1;31mTypeError\u001b[0m                                 Traceback (most recent call last)",
      "\u001b[1;32mC:\\Users\\AARONC~1\\AppData\\Local\\Temp/ipykernel_25000/535151615.py\u001b[0m in \u001b[0;36m<module>\u001b[1;34m\u001b[0m\n\u001b[0;32m      1\u001b[0m \u001b[1;32mfor\u001b[0m \u001b[0m_\u001b[0m \u001b[1;32min\u001b[0m \u001b[0mrange\u001b[0m\u001b[1;33m(\u001b[0m\u001b[1;36m5\u001b[0m\u001b[1;33m)\u001b[0m\u001b[1;33m:\u001b[0m\u001b[1;33m\u001b[0m\u001b[1;33m\u001b[0m\u001b[0m\n\u001b[1;32m----> 2\u001b[1;33m     \u001b[0mprint\u001b[0m\u001b[1;33m(\u001b[0m\u001b[1;36m5\u001b[0m\u001b[1;33m)\u001b[0m \u001b[1;33m*\u001b[0m \u001b[0m_\u001b[0m\u001b[1;33m\u001b[0m\u001b[1;33m\u001b[0m\u001b[0m\n\u001b[0m",
      "\u001b[1;31mTypeError\u001b[0m: unsupported operand type(s) for *: 'NoneType' and 'int'"
     ]
    }
   ],
   "source": [
    "for _ in range(5):\n",
    "    print(5) * _"
   ]
  },
  {
   "cell_type": "markdown",
   "id": "d133c31a",
   "metadata": {},
   "source": [
    "# 입력코드 (1)"
   ]
  },
  {
   "cell_type": "code",
   "execution_count": null,
   "id": "283bbcc2",
   "metadata": {},
   "outputs": [],
   "source": [
    "for i in range(1, N):\n",
    "    print(i*(((10**i)-1)/9))"
   ]
  },
  {
   "cell_type": "markdown",
   "id": "b12fa34b",
   "metadata": {},
   "source": [
    "# 입력코드 (2) "
   ]
  },
  {
   "cell_type": "code",
   "execution_count": 45,
   "id": "964b4d4f",
   "metadata": {},
   "outputs": [
    {
     "name": "stdout",
     "output_type": "stream",
     "text": [
      "5\n",
      "1\n",
      "22\n",
      "333\n",
      "4444\n"
     ]
    }
   ],
   "source": [
    "N = int(input())\n",
    "for i in range(1, N):\n",
    "    print(int(i*(((10**i)-1)/9)))"
   ]
  },
  {
   "cell_type": "markdown",
   "id": "bf602896",
   "metadata": {},
   "source": [
    "- Integers come in all sizes"
   ]
  },
  {
   "cell_type": "markdown",
   "id": "83a6de4f",
   "metadata": {},
   "source": [
    "# 입력코드 (1)"
   ]
  },
  {
   "cell_type": "code",
   "execution_count": null,
   "id": "5fc74db5",
   "metadata": {},
   "outputs": [],
   "source": [
    "a, b, c, d = map(int, input().split())\n",
    "number = (a**b) + (c**d)\n",
    "print(int(number))"
   ]
  },
  {
   "cell_type": "markdown",
   "id": "e20c1595",
   "metadata": {},
   "source": [
    "# 입력코드 (2)"
   ]
  },
  {
   "cell_type": "code",
   "execution_count": null,
   "id": "7c12f6d9",
   "metadata": {},
   "outputs": [],
   "source": [
    "a, b, c, d = [int(input()) for _ in range(4)]\n",
    "number = (a**b) + (c**d)\n",
    "print(int(number))"
   ]
  },
  {
   "cell_type": "markdown",
   "id": "ece783cc",
   "metadata": {},
   "source": [
    "- shape and reshape"
   ]
  },
  {
   "cell_type": "code",
   "execution_count": null,
   "id": "4db7d414",
   "metadata": {},
   "outputs": [],
   "source": [
    "import numpy as np \n",
    "num = map(int, input().split())\n",
    "list = np.array(num).reshape((3, 3))\n",
    "print(list)"
   ]
  },
  {
   "cell_type": "code",
   "execution_count": null,
   "id": "ef0f9455",
   "metadata": {},
   "outputs": [],
   "source": [
    "import numpy as np \n",
    "num = map(int, input().split())\n",
    "List = np.array(num).reshape((3, 3))\n",
    "print(List)"
   ]
  },
  {
   "cell_type": "code",
   "execution_count": 46,
   "id": "0ff58bde",
   "metadata": {},
   "outputs": [],
   "source": [
    "import numpy as np "
   ]
  },
  {
   "cell_type": "code",
   "execution_count": 47,
   "id": "75bc74e2",
   "metadata": {},
   "outputs": [],
   "source": [
    "num = map(int, '3 5 5 33 1 2 4'.split())"
   ]
  },
  {
   "cell_type": "code",
   "execution_count": 48,
   "id": "03510511",
   "metadata": {},
   "outputs": [
    {
     "ename": "ValueError",
     "evalue": "cannot reshape array of size 1 into shape (3,3)",
     "output_type": "error",
     "traceback": [
      "\u001b[1;31m---------------------------------------------------------------------------\u001b[0m",
      "\u001b[1;31mValueError\u001b[0m                                Traceback (most recent call last)",
      "\u001b[1;32mC:\\Users\\AARONC~1\\AppData\\Local\\Temp/ipykernel_25000/3494980089.py\u001b[0m in \u001b[0;36m<module>\u001b[1;34m\u001b[0m\n\u001b[1;32m----> 1\u001b[1;33m \u001b[0mList\u001b[0m \u001b[1;33m=\u001b[0m \u001b[0mnp\u001b[0m\u001b[1;33m.\u001b[0m\u001b[0marray\u001b[0m\u001b[1;33m(\u001b[0m\u001b[0mnum\u001b[0m\u001b[1;33m)\u001b[0m\u001b[1;33m.\u001b[0m\u001b[0mreshape\u001b[0m\u001b[1;33m(\u001b[0m\u001b[1;33m(\u001b[0m\u001b[1;36m3\u001b[0m\u001b[1;33m,\u001b[0m \u001b[1;36m3\u001b[0m\u001b[1;33m)\u001b[0m\u001b[1;33m)\u001b[0m\u001b[1;33m\u001b[0m\u001b[1;33m\u001b[0m\u001b[0m\n\u001b[0m",
      "\u001b[1;31mValueError\u001b[0m: cannot reshape array of size 1 into shape (3,3)"
     ]
    }
   ],
   "source": [
    "List = np.array(num).reshape((3, 3))"
   ]
  },
  {
   "cell_type": "code",
   "execution_count": 52,
   "id": "41cda906",
   "metadata": {},
   "outputs": [],
   "source": [
    "num = list(map(int, '3 5 5 33 1 2 4 5 5'.split()))"
   ]
  },
  {
   "cell_type": "code",
   "execution_count": 53,
   "id": "35c3a873",
   "metadata": {},
   "outputs": [],
   "source": [
    "List = np.array(num).reshape((3, 3))"
   ]
  },
  {
   "cell_type": "code",
   "execution_count": 54,
   "id": "8f3c56f8",
   "metadata": {},
   "outputs": [
    {
     "data": {
      "text/plain": [
       "array([[ 3,  5,  5],\n",
       "       [33,  1,  2],\n",
       "       [ 4,  5,  5]])"
      ]
     },
     "execution_count": 54,
     "metadata": {},
     "output_type": "execute_result"
    }
   ],
   "source": [
    "List"
   ]
  },
  {
   "cell_type": "code",
   "execution_count": 55,
   "id": "bf279019",
   "metadata": {},
   "outputs": [
    {
     "ename": "ValueError",
     "evalue": "cannot reshape array of size 1 into shape (2,3)",
     "output_type": "error",
     "traceback": [
      "\u001b[1;31m---------------------------------------------------------------------------\u001b[0m",
      "\u001b[1;31mValueError\u001b[0m                                Traceback (most recent call last)",
      "\u001b[1;32mC:\\Users\\AARONC~1\\AppData\\Local\\Temp/ipykernel_25000/3175144373.py\u001b[0m in \u001b[0;36m<module>\u001b[1;34m\u001b[0m\n\u001b[1;32m----> 1\u001b[1;33m \u001b[0mnp\u001b[0m\u001b[1;33m.\u001b[0m\u001b[0marray\u001b[0m\u001b[1;33m(\u001b[0m\u001b[1;34m'abdsac'\u001b[0m\u001b[1;33m)\u001b[0m\u001b[1;33m.\u001b[0m\u001b[0mreshape\u001b[0m\u001b[1;33m(\u001b[0m\u001b[1;33m(\u001b[0m\u001b[1;36m2\u001b[0m\u001b[1;33m,\u001b[0m \u001b[1;36m3\u001b[0m\u001b[1;33m)\u001b[0m\u001b[1;33m)\u001b[0m\u001b[1;33m\u001b[0m\u001b[1;33m\u001b[0m\u001b[0m\n\u001b[0m",
      "\u001b[1;31mValueError\u001b[0m: cannot reshape array of size 1 into shape (2,3)"
     ]
    }
   ],
   "source": [
    "np.array('abdsac').reshape((2, 3))"
   ]
  },
  {
   "cell_type": "code",
   "execution_count": 58,
   "id": "85a0b8d3",
   "metadata": {},
   "outputs": [
    {
     "data": {
      "text/plain": [
       "array([['a', 'b'],\n",
       "       ['c', 's'],\n",
       "       ['a', 'x']], dtype='<U1')"
      ]
     },
     "execution_count": 58,
     "metadata": {},
     "output_type": "execute_result"
    }
   ],
   "source": [
    "np.array(('a', 'b', 'c', 's', 'a', 'x')).reshape((3, 2))"
   ]
  },
  {
   "cell_type": "code",
   "execution_count": null,
   "id": "f20517c2",
   "metadata": {},
   "outputs": [],
   "source": [
    "import numpy as np \n",
    "num = list(map(int, input().split()))\n",
    "array = np.array(num).reshape((3, 3))\n",
    "print(array)"
   ]
  },
  {
   "cell_type": "markdown",
   "id": "6a897681",
   "metadata": {},
   "source": [
    "- array mathematics"
   ]
  },
  {
   "cell_type": "code",
   "execution_count": null,
   "id": "d0640333",
   "metadata": {},
   "outputs": [],
   "source": [
    "import numpy as np \n",
    "\n",
    "N, M = map(int, input().split())\n",
    "\n",
    "A = np.array([list(map(int, input().split())) for _ in range(N)]).reshape((N, M))\n",
    "B = np.array([list(map(int, input().split())) for _ in range(N)]).reshape((N, M))\n",
    "\n",
    "functions = ['add', 'subtract', 'multiply', 'divide', 'mod', 'power']\n",
    "for function in functions:\n",
    "    print(getattr(A, function)(B))"
   ]
  },
  {
   "cell_type": "code",
   "execution_count": 59,
   "id": "104e2f2d",
   "metadata": {},
   "outputs": [
    {
     "data": {
      "text/plain": [
       "array([[1],\n",
       "       [2],\n",
       "       [3],\n",
       "       [4],\n",
       "       [4],\n",
       "       [5],\n",
       "       [7],\n",
       "       [8]])"
      ]
     },
     "execution_count": 59,
     "metadata": {},
     "output_type": "execute_result"
    }
   ],
   "source": [
    "np.array([[1, 2, 3, 4], [4, 5, 7, 8]]).reshape((8, 1))"
   ]
  },
  {
   "cell_type": "code",
   "execution_count": 61,
   "id": "f4879a16",
   "metadata": {},
   "outputs": [
    {
     "ename": "AttributeError",
     "evalue": "'numpy.ndarray' object has no attribute 'add'",
     "output_type": "error",
     "traceback": [
      "\u001b[1;31m---------------------------------------------------------------------------\u001b[0m",
      "\u001b[1;31mAttributeError\u001b[0m                            Traceback (most recent call last)",
      "\u001b[1;32mC:\\Users\\AARONC~1\\AppData\\Local\\Temp/ipykernel_25000/2729975038.py\u001b[0m in \u001b[0;36m<module>\u001b[1;34m\u001b[0m\n\u001b[1;32m----> 1\u001b[1;33m \u001b[0mnp\u001b[0m\u001b[1;33m.\u001b[0m\u001b[0marray\u001b[0m\u001b[1;33m(\u001b[0m\u001b[1;33m[\u001b[0m\u001b[1;33m[\u001b[0m\u001b[1;36m1\u001b[0m\u001b[1;33m,\u001b[0m \u001b[1;36m2\u001b[0m\u001b[1;33m,\u001b[0m \u001b[1;36m3\u001b[0m\u001b[1;33m,\u001b[0m \u001b[1;36m4\u001b[0m\u001b[1;33m]\u001b[0m\u001b[1;33m,\u001b[0m \u001b[1;33m[\u001b[0m\u001b[1;36m4\u001b[0m\u001b[1;33m,\u001b[0m \u001b[1;36m5\u001b[0m\u001b[1;33m,\u001b[0m \u001b[1;36m7\u001b[0m\u001b[1;33m,\u001b[0m \u001b[1;36m8\u001b[0m\u001b[1;33m]\u001b[0m\u001b[1;33m]\u001b[0m\u001b[1;33m)\u001b[0m\u001b[1;33m.\u001b[0m\u001b[0mreshape\u001b[0m\u001b[1;33m(\u001b[0m\u001b[1;33m(\u001b[0m\u001b[1;36m2\u001b[0m\u001b[1;33m,\u001b[0m \u001b[1;36m4\u001b[0m\u001b[1;33m)\u001b[0m\u001b[1;33m)\u001b[0m\u001b[1;33m.\u001b[0m\u001b[0madd\u001b[0m\u001b[1;33m(\u001b[0m\u001b[1;36m3\u001b[0m\u001b[1;33m)\u001b[0m\u001b[1;33m\u001b[0m\u001b[1;33m\u001b[0m\u001b[0m\n\u001b[0m",
      "\u001b[1;31mAttributeError\u001b[0m: 'numpy.ndarray' object has no attribute 'add'"
     ]
    }
   ],
   "source": [
    "np.array([[1, 2, 3, 4], [4, 5, 7, 8]]).reshape((2, 4)).add(3)"
   ]
  },
  {
   "cell_type": "code",
   "execution_count": 62,
   "id": "dd83c050",
   "metadata": {},
   "outputs": [
    {
     "data": {
      "text/plain": [
       "array([[ 6,  3, 10,  6]])"
      ]
     },
     "execution_count": 62,
     "metadata": {},
     "output_type": "execute_result"
    }
   ],
   "source": [
    "np.add([[1, 2, 3, 4]], [5, 1, 7,2])"
   ]
  },
  {
   "cell_type": "code",
   "execution_count": 63,
   "id": "256014e6",
   "metadata": {},
   "outputs": [],
   "source": [
    "functions = [np.add, np.subtract, np.multiply, np.divide, np.mod, np.power]"
   ]
  },
  {
   "cell_type": "code",
   "execution_count": 65,
   "id": "f4bd7e59",
   "metadata": {},
   "outputs": [
    {
     "name": "stdout",
     "output_type": "stream",
     "text": [
      "[ 6  3 10  6]\n",
      "[-4  1 -4  2]\n",
      "[ 5  2 21  8]\n",
      "[0.2        2.         0.42857143 2.        ]\n",
      "[1 0 3 0]\n",
      "[   1    2 2187   16]\n"
     ]
    }
   ],
   "source": [
    "for function in functions:\n",
    "    print(function(np.array([1, 2, 3, 4]), np.array([5, 1, 7, 2])))"
   ]
  },
  {
   "cell_type": "markdown",
   "id": "c820b00e",
   "metadata": {},
   "source": [
    "# 입력코드 (2)"
   ]
  },
  {
   "cell_type": "code",
   "execution_count": null,
   "id": "f0a586a0",
   "metadata": {},
   "outputs": [],
   "source": [
    "import numpy as np \n",
    "\n",
    "N, M = map(int, input().split())\n",
    "\n",
    "A = np.array([list(map(int, input().split())) for _ in range(N)]).reshape((N, M))\n",
    "B = np.array([list(map(int, input().split())) for _ in range(N)]).reshape((N, M))\n",
    "\n",
    "functions = ['add' 'subtract', 'multiply', 'divide', 'mod', 'power']\n",
    "for function in functions:\n",
    "    print(function(A, B))"
   ]
  },
  {
   "cell_type": "markdown",
   "id": "220c2841",
   "metadata": {},
   "source": [
    "# 입력코드 (3)"
   ]
  },
  {
   "cell_type": "code",
   "execution_count": null,
   "id": "08363738",
   "metadata": {},
   "outputs": [],
   "source": [
    "import numpy as np \n",
    "\n",
    "N, M = map(int, input().split())\n",
    "\n",
    "A = np.array([list(map(int, input().split())) for _ in range(N)]).reshape((N, M))\n",
    "B = np.array([list(map(int, input().split())) for _ in range(N)]).reshape((N, M))\n",
    "\n",
    "functions = [np.add, np.subtract, np.multiply, np.divide, np.mod, np.power]\n",
    "for function in functions:\n",
    "    print(function(A, B))"
   ]
  },
  {
   "cell_type": "markdown",
   "id": "7efc2613",
   "metadata": {},
   "source": [
    "# 입력코드 (4)"
   ]
  },
  {
   "cell_type": "code",
   "execution_count": null,
   "id": "e168af46",
   "metadata": {},
   "outputs": [],
   "source": [
    "import numpy as np \n",
    "\n",
    "N, M = map(int, input().split())\n",
    "\n",
    "A = np.array([list(map(int, input().split())) for _ in range(N)]).reshape((N, M))\n",
    "B = np.array([list(map(int, input().split())) for _ in range(N)]).reshape((N, M))\n",
    "\n",
    "functions = [np.add, np.subtract,ㅠnp.multiply, np.floor_divide, np.mod, np.power]\n",
    "for function in functions:\n",
    "    print(function(A, B))"
   ]
  },
  {
   "cell_type": "code",
   "execution_count": null,
   "id": "e266ab9e",
   "metadata": {},
   "outputs": [],
   "source": [
    "### 예시답안 \n",
    "import numpy as np \n",
    "n, m = map(int, input().split())\n",
    "a, b = (np.array([input().split() for _ in range(n)], dtype = int) for _ in range(2))\n",
    "print(a+b, a-b, a*b, a//b, a%b, a**b, sep = '\\n')"
   ]
  },
  {
   "cell_type": "markdown",
   "id": "4e614248",
   "metadata": {},
   "source": [
    "- floor, ceil and rint"
   ]
  },
  {
   "cell_type": "markdown",
   "id": "497a8c0a",
   "metadata": {},
   "source": [
    "# 입력코드 (1)"
   ]
  },
  {
   "cell_type": "code",
   "execution_count": null,
   "id": "4e490ca7",
   "metadata": {},
   "outputs": [],
   "source": [
    "import numpy as np \n",
    "A = np.array(list(map(int, input().split())))\n",
    "functions = [floor, ceil, rint]\n",
    "for functions in functions:\n",
    "    print(function(A))"
   ]
  },
  {
   "cell_type": "markdown",
   "id": "45709a3e",
   "metadata": {},
   "source": [
    "# 입력코드 (2)"
   ]
  },
  {
   "cell_type": "code",
   "execution_count": null,
   "id": "94cf19d9",
   "metadata": {},
   "outputs": [],
   "source": [
    "import numpy as np \n",
    "A = np.array(list(map(float, input().split())))\n",
    "functions = [floor, ceil, rint]\n",
    "for functions in functions:\n",
    "    print(function(A))"
   ]
  },
  {
   "cell_type": "code",
   "execution_count": 66,
   "id": "1e9a932c",
   "metadata": {},
   "outputs": [
    {
     "data": {
      "text/plain": [
       "44.0"
      ]
     },
     "execution_count": 66,
     "metadata": {},
     "output_type": "execute_result"
    }
   ],
   "source": [
    "np.floor(44.4)"
   ]
  },
  {
   "cell_type": "markdown",
   "id": "c329a803",
   "metadata": {},
   "source": [
    "# 입력코드 (3)"
   ]
  },
  {
   "cell_type": "code",
   "execution_count": null,
   "id": "32bf4f79",
   "metadata": {},
   "outputs": [],
   "source": [
    "import numpy as np \n",
    "A = np.array(list(map(float, input().split())))\n",
    "functions = [np.floor, np.ceil, np.rint]\n",
    "for function in functions:\n",
    "    print(function(A))"
   ]
  },
  {
   "cell_type": "markdown",
   "id": "3144801a",
   "metadata": {},
   "source": [
    "# 입력코드 (4)"
   ]
  },
  {
   "cell_type": "code",
   "execution_count": null,
   "id": "6834e247",
   "metadata": {},
   "outputs": [],
   "source": [
    "import numpy as np \n",
    "np.set_printoptions(legacy = '1.13')\n",
    "\n",
    "A = np.array(list(map(float, input().split())))\n",
    "functions = [np.floor, np.ceil, np.rint]\n",
    "for function in functions:\n",
    "    print(function(A))"
   ]
  },
  {
   "cell_type": "markdown",
   "id": "bdcf67e7",
   "metadata": {},
   "source": [
    "- concatenate"
   ]
  },
  {
   "cell_type": "code",
   "execution_count": 67,
   "id": "719b4d78",
   "metadata": {},
   "outputs": [],
   "source": [
    "a = np.array(list(range(5)))\n",
    "b = np.array(list(range(5, 0, -1)))"
   ]
  },
  {
   "cell_type": "code",
   "execution_count": 69,
   "id": "4ad9c1ae",
   "metadata": {},
   "outputs": [
    {
     "data": {
      "text/plain": [
       "array([0, 1, 2, 3, 4])"
      ]
     },
     "execution_count": 69,
     "metadata": {},
     "output_type": "execute_result"
    }
   ],
   "source": [
    "a"
   ]
  },
  {
   "cell_type": "code",
   "execution_count": 70,
   "id": "66c50258",
   "metadata": {},
   "outputs": [
    {
     "data": {
      "text/plain": [
       "array([5, 4, 3, 2, 1])"
      ]
     },
     "execution_count": 70,
     "metadata": {},
     "output_type": "execute_result"
    }
   ],
   "source": [
    "b"
   ]
  },
  {
   "cell_type": "code",
   "execution_count": 68,
   "id": "31972db3",
   "metadata": {
    "scrolled": false
   },
   "outputs": [
    {
     "ename": "TypeError",
     "evalue": "only integer scalar arrays can be converted to a scalar index",
     "output_type": "error",
     "traceback": [
      "\u001b[1;31m---------------------------------------------------------------------------\u001b[0m",
      "\u001b[1;31mTypeError\u001b[0m                                 Traceback (most recent call last)",
      "\u001b[1;32mC:\\Users\\AARONC~1\\AppData\\Local\\Temp/ipykernel_25000/2635516571.py\u001b[0m in \u001b[0;36m<module>\u001b[1;34m\u001b[0m\n\u001b[1;32m----> 1\u001b[1;33m \u001b[0mnp\u001b[0m\u001b[1;33m.\u001b[0m\u001b[0mconcatenate\u001b[0m\u001b[1;33m(\u001b[0m\u001b[0ma\u001b[0m\u001b[1;33m,\u001b[0m \u001b[0mb\u001b[0m\u001b[1;33m)\u001b[0m\u001b[1;33m\u001b[0m\u001b[1;33m\u001b[0m\u001b[0m\n\u001b[0m",
      "\u001b[1;32m~\\AppData\\Local\\Programs\\Python\\Python39\\lib\\site-packages\\numpy\\core\\overrides.py\u001b[0m in \u001b[0;36mconcatenate\u001b[1;34m(*args, **kwargs)\u001b[0m\n",
      "\u001b[1;31mTypeError\u001b[0m: only integer scalar arrays can be converted to a scalar index"
     ]
    }
   ],
   "source": [
    "np.concatenate(a, b)"
   ]
  },
  {
   "cell_type": "code",
   "execution_count": 72,
   "id": "30e264ca",
   "metadata": {},
   "outputs": [],
   "source": [
    "a_ = a.reshape((1, 5))\n",
    "b_ = b.reshape((1, 5))"
   ]
  },
  {
   "cell_type": "code",
   "execution_count": 73,
   "id": "40d872b4",
   "metadata": {},
   "outputs": [
    {
     "ename": "TypeError",
     "evalue": "only integer scalar arrays can be converted to a scalar index",
     "output_type": "error",
     "traceback": [
      "\u001b[1;31m---------------------------------------------------------------------------\u001b[0m",
      "\u001b[1;31mTypeError\u001b[0m                                 Traceback (most recent call last)",
      "\u001b[1;32mC:\\Users\\AARONC~1\\AppData\\Local\\Temp/ipykernel_25000/1687924960.py\u001b[0m in \u001b[0;36m<module>\u001b[1;34m\u001b[0m\n\u001b[1;32m----> 1\u001b[1;33m \u001b[0mnp\u001b[0m\u001b[1;33m.\u001b[0m\u001b[0mconcatenate\u001b[0m\u001b[1;33m(\u001b[0m\u001b[0ma_\u001b[0m\u001b[1;33m,\u001b[0m \u001b[0mb_\u001b[0m\u001b[1;33m)\u001b[0m\u001b[1;33m\u001b[0m\u001b[1;33m\u001b[0m\u001b[0m\n\u001b[0m",
      "\u001b[1;32m~\\AppData\\Local\\Programs\\Python\\Python39\\lib\\site-packages\\numpy\\core\\overrides.py\u001b[0m in \u001b[0;36mconcatenate\u001b[1;34m(*args, **kwargs)\u001b[0m\n",
      "\u001b[1;31mTypeError\u001b[0m: only integer scalar arrays can be converted to a scalar index"
     ]
    }
   ],
   "source": [
    "np.concatenate(a_, b_)"
   ]
  },
  {
   "cell_type": "code",
   "execution_count": 74,
   "id": "e7e0c212",
   "metadata": {},
   "outputs": [
    {
     "data": {
      "text/plain": [
       "array([0, 1, 2, 3, 4])"
      ]
     },
     "execution_count": 74,
     "metadata": {},
     "output_type": "execute_result"
    }
   ],
   "source": [
    "a"
   ]
  },
  {
   "cell_type": "code",
   "execution_count": 75,
   "id": "a78dde9e",
   "metadata": {},
   "outputs": [
    {
     "data": {
      "text/plain": [
       "array([0, 1, 2, 3, 4, 5, 4, 3, 2, 1])"
      ]
     },
     "execution_count": 75,
     "metadata": {},
     "output_type": "execute_result"
    }
   ],
   "source": [
    "np.concatenate((a,b))"
   ]
  },
  {
   "cell_type": "code",
   "execution_count": 78,
   "id": "8c9b5e4f",
   "metadata": {},
   "outputs": [
    {
     "data": {
      "text/plain": [
       "array([0, 1, 2, 3, 4, 5, 4, 3, 2, 1])"
      ]
     },
     "execution_count": 78,
     "metadata": {},
     "output_type": "execute_result"
    }
   ],
   "source": [
    "np.concatenate((a, b))"
   ]
  },
  {
   "cell_type": "code",
   "execution_count": 79,
   "id": "c9b3edcb",
   "metadata": {},
   "outputs": [],
   "source": [
    "A = [[1, 2, 3] , [4, 5, 6]]\n",
    "B = [[4, 5, 6], [0, 1, 0]]"
   ]
  },
  {
   "cell_type": "code",
   "execution_count": 80,
   "id": "9af45a1b",
   "metadata": {},
   "outputs": [
    {
     "data": {
      "text/plain": [
       "array([[1, 2, 3],\n",
       "       [4, 5, 6],\n",
       "       [4, 5, 6],\n",
       "       [0, 1, 0]])"
      ]
     },
     "execution_count": 80,
     "metadata": {},
     "output_type": "execute_result"
    }
   ],
   "source": [
    "np.concatenate((A, B), axis = 0)"
   ]
  },
  {
   "cell_type": "code",
   "execution_count": null,
   "id": "da5fde97",
   "metadata": {},
   "outputs": [],
   "source": [
    "import numpy as np \n",
    "a, b, p = map(int, input().split())\n",
    "A = np.array([list(map(int, input().split())) for _ in range(a)]).reshape((a, p))\n",
    "B = np.array([list(map(int, input().split())) for _ in range(b)]).reshape((b, p))\n",
    "\n",
    "print(np.concatenate((A, B), axis = 0))"
   ]
  },
  {
   "cell_type": "markdown",
   "id": "77b2ff98",
   "metadata": {},
   "source": [
    "- zeros and ones"
   ]
  },
  {
   "cell_type": "markdown",
   "id": "a46d7939",
   "metadata": {},
   "source": [
    "# 입력코드 (1)"
   ]
  },
  {
   "cell_type": "code",
   "execution_count": null,
   "id": "61f0a062",
   "metadata": {},
   "outputs": [],
   "source": [
    "import numpy as np \n",
    "shape = tuple(map(int, input().split()))\n",
    "\n",
    "print(np.zeros(shape))\n",
    "print(np.ones(shape))"
   ]
  },
  {
   "cell_type": "code",
   "execution_count": 96,
   "id": "e4571f37",
   "metadata": {},
   "outputs": [],
   "source": [
    "shape = map(int, '3 3 6'.split())"
   ]
  },
  {
   "cell_type": "code",
   "execution_count": 94,
   "id": "07185437",
   "metadata": {},
   "outputs": [
    {
     "data": {
      "text/plain": [
       "[3, 3, 6]"
      ]
     },
     "execution_count": 94,
     "metadata": {},
     "output_type": "execute_result"
    }
   ],
   "source": [
    "list(shape)"
   ]
  },
  {
   "cell_type": "code",
   "execution_count": 85,
   "id": "cbc006c8",
   "metadata": {},
   "outputs": [
    {
     "ename": "SyntaxError",
     "evalue": "can't use starred expression here (Temp/ipykernel_25000/418825820.py, line 1)",
     "output_type": "error",
     "traceback": [
      "\u001b[1;36m  File \u001b[1;32m\"C:\\Users\\AARONC~1\\AppData\\Local\\Temp/ipykernel_25000/418825820.py\"\u001b[1;36m, line \u001b[1;32m1\u001b[0m\n\u001b[1;33m    print(np.zeros((*shape)))\u001b[0m\n\u001b[1;37m                    ^\u001b[0m\n\u001b[1;31mSyntaxError\u001b[0m\u001b[1;31m:\u001b[0m can't use starred expression here\n"
     ]
    }
   ],
   "source": [
    "print(np.zeros((*shape)))"
   ]
  },
  {
   "cell_type": "code",
   "execution_count": 97,
   "id": "c9446aab",
   "metadata": {},
   "outputs": [
    {
     "name": "stdout",
     "output_type": "stream",
     "text": [
      "3\n",
      "3\n",
      "6\n"
     ]
    }
   ],
   "source": [
    "for _ in shape:\n",
    "    print(_)"
   ]
  },
  {
   "cell_type": "code",
   "execution_count": 87,
   "id": "cff0ac14",
   "metadata": {},
   "outputs": [
    {
     "data": {
      "text/plain": [
       "<map at 0x276070d6610>"
      ]
     },
     "execution_count": 87,
     "metadata": {},
     "output_type": "execute_result"
    }
   ],
   "source": [
    "shape"
   ]
  },
  {
   "cell_type": "code",
   "execution_count": 88,
   "id": "3c0a4b25",
   "metadata": {},
   "outputs": [
    {
     "data": {
      "text/plain": [
       "[]"
      ]
     },
     "execution_count": 88,
     "metadata": {},
     "output_type": "execute_result"
    }
   ],
   "source": [
    "list(shape)"
   ]
  },
  {
   "cell_type": "code",
   "execution_count": 98,
   "id": "d719a4f9",
   "metadata": {},
   "outputs": [],
   "source": [
    "shape = tuple(map(int, '3 3 6'.split()))"
   ]
  },
  {
   "cell_type": "code",
   "execution_count": 99,
   "id": "4468727a",
   "metadata": {},
   "outputs": [
    {
     "data": {
      "text/plain": [
       "(3, 3, 6)"
      ]
     },
     "execution_count": 99,
     "metadata": {},
     "output_type": "execute_result"
    }
   ],
   "source": [
    "shape"
   ]
  },
  {
   "cell_type": "code",
   "execution_count": null,
   "id": "76af942c",
   "metadata": {},
   "outputs": [],
   "source": [
    "import numpy as np \n",
    "shape = tuple(map(int, input().split()))\n",
    "\n",
    "print(np.zeros(shape, dtype = 'int'))\n",
    "print(np.ones(shape, dtype = 'int'))"
   ]
  },
  {
   "cell_type": "markdown",
   "id": "6713f226",
   "metadata": {},
   "source": [
    "# eye and identity "
   ]
  },
  {
   "cell_type": "markdown",
   "id": "fd5218df",
   "metadata": {},
   "source": [
    "# 입력코드 (1)"
   ]
  },
  {
   "cell_type": "code",
   "execution_count": null,
   "id": "771597f3",
   "metadata": {},
   "outputs": [],
   "source": [
    "import numpy as np \n",
    "\n",
    "shape = tuple(map(int, input().split()))\n",
    "array = np.eye(shape, key = 0)\n",
    "print(array)"
   ]
  },
  {
   "cell_type": "markdown",
   "id": "dd1d72a5",
   "metadata": {},
   "source": [
    "# 입력코드 (2)"
   ]
  },
  {
   "cell_type": "code",
   "execution_count": null,
   "id": "ebd93c99",
   "metadata": {},
   "outputs": [],
   "source": [
    "import numpy as np \n",
    "\n",
    "shape = tuple(map(int, input().split()))\n",
    "array = np.eye(shape, k = 0)\n",
    "print(array)"
   ]
  },
  {
   "cell_type": "markdown",
   "id": "3894d64e",
   "metadata": {},
   "source": [
    "# 입력코드 (3)"
   ]
  },
  {
   "cell_type": "code",
   "execution_count": null,
   "id": "4f4a999b",
   "metadata": {},
   "outputs": [],
   "source": [
    "import numpy as np \n",
    "\n",
    "shape = tuple(map(int, input().split()))\n",
    "array = np.eye(*shape, k = 0)\n",
    "print(array)"
   ]
  },
  {
   "cell_type": "markdown",
   "id": "aea17f85",
   "metadata": {},
   "source": [
    "# 입력코드 (4)"
   ]
  },
  {
   "cell_type": "code",
   "execution_count": null,
   "id": "d72f1dc1",
   "metadata": {},
   "outputs": [],
   "source": [
    "import numpy as np \n",
    "np.set_printoptions(legacy = '1.13')\n",
    "\n",
    "shape = tuple(map(int, input().split()))\n",
    "array = np.eye(*shape, k = 0)\n",
    "print(array)"
   ]
  },
  {
   "cell_type": "code",
   "execution_count": null,
   "id": "e4a26e79",
   "metadata": {},
   "outputs": [],
   "source": [
    "### 예시답안 \n",
    "import numpy \n",
    "numpy.set_printoptions(sign = '')\n",
    "print(numpy.eye(*map(int, input().split())))\n"
   ]
  },
  {
   "cell_type": "markdown",
   "id": "cd439401",
   "metadata": {},
   "source": [
    "- inner and outer"
   ]
  },
  {
   "cell_type": "code",
   "execution_count": 101,
   "id": "405ae61a",
   "metadata": {},
   "outputs": [
    {
     "data": {
      "text/plain": [
       "33"
      ]
     },
     "execution_count": 101,
     "metadata": {},
     "output_type": "execute_result"
    }
   ],
   "source": [
    "np.inner([1, 2, 3, 4], [10,6, 1, 2])"
   ]
  },
  {
   "cell_type": "code",
   "execution_count": null,
   "id": "7b19380c",
   "metadata": {},
   "outputs": [],
   "source": []
  }
 ],
 "metadata": {
  "kernelspec": {
   "display_name": "Python 3 (ipykernel)",
   "language": "python",
   "name": "python3"
  },
  "language_info": {
   "codemirror_mode": {
    "name": "ipython",
    "version": 3
   },
   "file_extension": ".py",
   "mimetype": "text/x-python",
   "name": "python",
   "nbconvert_exporter": "python",
   "pygments_lexer": "ipython3",
   "version": "3.9.7"
  }
 },
 "nbformat": 4,
 "nbformat_minor": 5
}
