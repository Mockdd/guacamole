{
 "cells": [
  {
   "cell_type": "markdown",
   "id": "b9e3f24d",
   "metadata": {},
   "source": [
    "- HTML Parser - Part1"
   ]
  },
  {
   "cell_type": "code",
   "execution_count": 42,
   "id": "df66bebe",
   "metadata": {
    "scrolled": true
   },
   "outputs": [
    {
     "name": "stdout",
     "output_type": "stream",
     "text": [
      "Collecting html.parser"
     ]
    },
    {
     "name": "stderr",
     "output_type": "stream",
     "text": [
      "  error: subprocess-exited-with-error"
     ]
    },
    {
     "name": "stdout",
     "output_type": "stream",
     "text": [
      "\n",
      "  Downloading html-parser-0.2.tar.gz (904 bytes)\n",
      "  Preparing metadata (setup.py): started\n",
      "  Preparing metadata (setup.py): finished with status 'error'\n"
     ]
    },
    {
     "name": "stderr",
     "output_type": "stream",
     "text": [
      "\n",
      "  \n",
      "  python setup.py egg_info did not run successfully.\n",
      "  exit code: 1\n",
      "  \n",
      "  [40 lines of output]\n",
      "  running egg_info\n",
      "  creating C:\\Users\\Aaron Cho\\AppData\\Local\\Temp\\pip-pip-egg-info-3lj2t7zq\\html_parser.egg-info\n",
      "  writing C:\\Users\\Aaron Cho\\AppData\\Local\\Temp\\pip-pip-egg-info-3lj2t7zq\\html_parser.egg-info\\PKG-INFO\n",
      "  writing dependency_links to C:\\Users\\Aaron Cho\\AppData\\Local\\Temp\\pip-pip-egg-info-3lj2t7zq\\html_parser.egg-info\\dependency_links.txt\n",
      "  writing requirements to C:\\Users\\Aaron Cho\\AppData\\Local\\Temp\\pip-pip-egg-info-3lj2t7zq\\html_parser.egg-info\\requires.txt\n",
      "  writing top-level names to C:\\Users\\Aaron Cho\\AppData\\Local\\Temp\\pip-pip-egg-info-3lj2t7zq\\html_parser.egg-info\\top_level.txt\n",
      "  writing manifest file 'C:\\Users\\Aaron Cho\\AppData\\Local\\Temp\\pip-pip-egg-info-3lj2t7zq\\html_parser.egg-info\\SOURCES.txt'\n",
      "  reading manifest file 'C:\\Users\\Aaron Cho\\AppData\\Local\\Temp\\pip-pip-egg-info-3lj2t7zq\\html_parser.egg-info\\SOURCES.txt'\n",
      "  Traceback (most recent call last):\n",
      "    File \"<string>\", line 2, in <module>\n",
      "    File \"<pip-setuptools-caller>\", line 34, in <module>\n",
      "    File \"C:\\Users\\Aaron Cho\\AppData\\Local\\Temp\\pip-install-bwso7j2d\\html-parser_d2365cd8059249e1b5367eca39571793\\setup.py\", line 3, in <module>\n",
      "      setup(\n",
      "    File \"C:\\Users\\Aaron Cho\\AppData\\Local\\Programs\\Python\\Python39\\lib\\site-packages\\setuptools\\__init__.py\", line 117, in setup\n",
      "      return distutils.core.setup(**attrs)\n",
      "    File \"C:\\Users\\Aaron Cho\\AppData\\Local\\Programs\\Python\\Python39\\lib\\site-packages\\setuptools\\_distutils\\core.py\", line 183, in setup\n",
      "      return run_commands(dist)\n",
      "    File \"C:\\Users\\Aaron Cho\\AppData\\Local\\Programs\\Python\\Python39\\lib\\site-packages\\setuptools\\_distutils\\core.py\", line 199, in run_commands\n",
      "      dist.run_commands()\n",
      "    File \"C:\\Users\\Aaron Cho\\AppData\\Local\\Programs\\Python\\Python39\\lib\\site-packages\\setuptools\\_distutils\\dist.py\", line 954, in run_commands\n",
      "      self.run_command(cmd)\n",
      "    File \"C:\\Users\\Aaron Cho\\AppData\\Local\\Programs\\Python\\Python39\\lib\\site-packages\\setuptools\\dist.py\", line 991, in run_command\n",
      "      super().run_command(command)\n",
      "    File \"C:\\Users\\Aaron Cho\\AppData\\Local\\Programs\\Python\\Python39\\lib\\site-packages\\setuptools\\_distutils\\dist.py\", line 973, in run_command\n",
      "      cmd_obj.run()\n",
      "    File \"C:\\Users\\Aaron Cho\\AppData\\Local\\Programs\\Python\\Python39\\lib\\site-packages\\setuptools\\command\\egg_info.py\", line 315, in run\n",
      "      self.find_sources()\n",
      "    File \"C:\\Users\\Aaron Cho\\AppData\\Local\\Programs\\Python\\Python39\\lib\\site-packages\\setuptools\\command\\egg_info.py\", line 323, in find_sources\n",
      "      mm.run()\n",
      "    File \"C:\\Users\\Aaron Cho\\AppData\\Local\\Programs\\Python\\Python39\\lib\\site-packages\\setuptools\\command\\egg_info.py\", line 549, in run\n",
      "      self.prune_file_list()\n",
      "    File \"C:\\Users\\Aaron Cho\\AppData\\Local\\Programs\\Python\\Python39\\lib\\site-packages\\setuptools\\command\\sdist.py\", line 161, in prune_file_list\n",
      "      super().prune_file_list()\n",
      "    File \"C:\\Users\\Aaron Cho\\AppData\\Local\\Programs\\Python\\Python39\\lib\\site-packages\\setuptools\\_distutils\\command\\sdist.py\", line 380, in prune_file_list\n",
      "      base_dir = self.distribution.get_fullname()\n",
      "    File \"C:\\Users\\Aaron Cho\\AppData\\Local\\Programs\\Python\\Python39\\lib\\site-packages\\setuptools\\_core_metadata.py\", line 267, in get_fullname\n",
      "      return _distribution_fullname(self.get_name(), self.get_version())\n",
      "    File \"C:\\Users\\Aaron Cho\\AppData\\Local\\Programs\\Python\\Python39\\lib\\site-packages\\setuptools\\_core_metadata.py\", line 285, in _distribution_fullname\n",
      "      canonicalize_version(version, strip_trailing_zero=False),\n",
      "  TypeError: canonicalize_version() got an unexpected keyword argument 'strip_trailing_zero'\n",
      "  [end of output]\n",
      "  \n",
      "  note: This error originates from a subprocess, and is likely not a problem with pip.\n",
      "error: metadata-generation-failed\n",
      "\n",
      "Encountered error while generating package metadata.\n",
      "\n",
      "See above for output.\n",
      "\n",
      "note: This is an issue with the package mentioned above, not pip.\n",
      "hint: See above for details.\n"
     ]
    }
   ],
   "source": [
    "!pip install html.parser"
   ]
  },
  {
   "cell_type": "code",
   "execution_count": 43,
   "id": "608d92d5",
   "metadata": {},
   "outputs": [],
   "source": [
    "import html.parser"
   ]
  },
  {
   "cell_type": "code",
   "execution_count": 45,
   "id": "e5cb9f90",
   "metadata": {},
   "outputs": [],
   "source": [
    "from html.parser import HTMLParser"
   ]
  },
  {
   "cell_type": "code",
   "execution_count": null,
   "id": "499079f4",
   "metadata": {},
   "outputs": [],
   "source": [
    "from html.parser import HTMLParser\n",
    "class MyHTMLParser(HTMLParser):\n",
    "    def handle_starttag(self, tag, attrs):\n",
    "        print('Start :', tag)\n",
    "        try:\n",
    "            print(' '.join(['->', attrs[0], '>', attrs[1]]))\n",
    "        except Exception:\n",
    "            print(' '.join(['->', attrs[0], '>', 'None']))\n",
    "    def handle_endtag(self, tag):\n",
    "        print('End :', tag)\n",
    "    def handle_startendtag(self, tag, attrs):\n",
    "        print('Empty :', tag)\n",
    "\n",
    "N = int(input())\n",
    "string = ''\n",
    "for _ in range(N):\n",
    "    string += str(input())\n",
    "\n",
    "parser = MyHTMLParser()\n",
    "parser.feed(string)"
   ]
  },
  {
   "cell_type": "code",
   "execution_count": 66,
   "id": "48922ac0",
   "metadata": {},
   "outputs": [],
   "source": [
    "\n",
    "from html.parser import HTMLParser\n",
    "class MyHTMLParser(HTMLParser):\n",
    "    def handle_starttag(self, tag, attrs):\n",
    "        print('Start :', tag)\n",
    "        try:\n",
    "            print(' '.join(['->', attrs[0], '>', attrs[1]]))\n",
    "        except Exception:\n",
    "            print(' '.join(['->', attrs[0], '>', 'None']))\n",
    "    def handle_endtag(self, tag):\n",
    "        print('End :', tag)\n",
    "    def handle_startendtag(self, tag, attrs):\n",
    "        print('Empty :', tag)"
   ]
  },
  {
   "cell_type": "code",
   "execution_count": 85,
   "id": "4f48f41d",
   "metadata": {},
   "outputs": [],
   "source": [
    "\n",
    "from html.parser import HTMLParser\n",
    "class MyHTMLParser(HTMLParser):\n",
    "    def handle_starttag(self, tag, attrs):\n",
    "        print('Start :', tag)\n",
    "        print(attrs)\n",
    "    def handle_endtag(self, tag):\n",
    "        print('End :', tag)\n",
    "    def handle_startendtag(self, tag, attrs):\n",
    "        print('Empty :', tag)"
   ]
  },
  {
   "cell_type": "code",
   "execution_count": 86,
   "id": "06b611a6",
   "metadata": {},
   "outputs": [],
   "source": [
    "html = '''<html><head><title>HTML Parser - I</title></head>\n",
    "<body data-modal-target class='1'><h1>HackerRank</h1><br /></body></html>'''"
   ]
  },
  {
   "cell_type": "code",
   "execution_count": 87,
   "id": "72fb93c3",
   "metadata": {},
   "outputs": [],
   "source": [
    "parser = MyHTMLParser()"
   ]
  },
  {
   "cell_type": "code",
   "execution_count": 88,
   "id": "ce6b56cd",
   "metadata": {
    "scrolled": true
   },
   "outputs": [
    {
     "name": "stdout",
     "output_type": "stream",
     "text": [
      "Start : html\n",
      "[]\n",
      "Start : head\n",
      "[]\n",
      "Start : title\n",
      "[]\n",
      "End : title\n",
      "End : head\n",
      "Start : body\n",
      "[('data-modal-target', None), ('class', '1')]\n",
      "Start : h1\n",
      "[]\n",
      "End : h1\n",
      "Empty : br\n",
      "End : body\n",
      "End : html\n"
     ]
    }
   ],
   "source": [
    "parser.feed(html)"
   ]
  },
  {
   "cell_type": "markdown",
   "id": "471063e5",
   "metadata": {},
   "source": [
    "## 1차 시도 "
   ]
  },
  {
   "cell_type": "code",
   "execution_count": 89,
   "id": "009076f2",
   "metadata": {},
   "outputs": [],
   "source": [
    "\n",
    "from html.parser import HTMLParser\n",
    "class MyHTMLParser(HTMLParser):\n",
    "    def handle_starttag(self, tag, attrs):\n",
    "        print('Start :', tag)\n",
    "        if len(attrs) != 0:\n",
    "            for attr in attrs:\n",
    "                print(' '.join(['->', str(attr[0]), '>', str(attr[1])]))\n",
    "    def handle_endtag(self, tag):\n",
    "        print('End :', tag)\n",
    "    def handle_startendtag(self, tag, attrs):\n",
    "        print('Empty :', tag)"
   ]
  },
  {
   "cell_type": "code",
   "execution_count": null,
   "id": "2b9bd117",
   "metadata": {},
   "outputs": [],
   "source": [
    "N = int(input())\n",
    "string = ''\n",
    "\n",
    "for _ in range(N):\n",
    "    string += str(input())"
   ]
  },
  {
   "cell_type": "code",
   "execution_count": 90,
   "id": "d41ab5b4",
   "metadata": {},
   "outputs": [],
   "source": [
    "parser = MyHTMLParser()"
   ]
  },
  {
   "cell_type": "code",
   "execution_count": 91,
   "id": "592b3d9f",
   "metadata": {},
   "outputs": [
    {
     "name": "stdout",
     "output_type": "stream",
     "text": [
      "Start : html\n",
      "Start : head\n",
      "Start : title\n",
      "End : title\n",
      "End : head\n",
      "Start : body\n",
      "-> data-modal-target > None\n",
      "-> class > 1\n",
      "Start : h1\n",
      "End : h1\n",
      "Empty : br\n",
      "End : body\n",
      "End : html\n"
     ]
    }
   ],
   "source": [
    "parser.feed(html)"
   ]
  },
  {
   "cell_type": "markdown",
   "id": "93857730",
   "metadata": {},
   "source": [
    "## 2차 시도"
   ]
  },
  {
   "cell_type": "code",
   "execution_count": 92,
   "id": "1406529e",
   "metadata": {},
   "outputs": [
    {
     "name": "stdout",
     "output_type": "stream",
     "text": [
      "2\n"
     ]
    },
    {
     "ename": "KeyboardInterrupt",
     "evalue": "Interrupted by user",
     "output_type": "error",
     "traceback": [
      "\u001b[1;31m---------------------------------------------------------------------------\u001b[0m",
      "\u001b[1;31mKeyboardInterrupt\u001b[0m                         Traceback (most recent call last)",
      "\u001b[1;32mC:\\Users\\AARONC~1\\AppData\\Local\\Temp/ipykernel_31540/3040531929.py\u001b[0m in \u001b[0;36m<module>\u001b[1;34m\u001b[0m\n\u001b[0;32m      3\u001b[0m \u001b[1;33m\u001b[0m\u001b[0m\n\u001b[0;32m      4\u001b[0m \u001b[1;32mfor\u001b[0m \u001b[0m_\u001b[0m \u001b[1;32min\u001b[0m \u001b[0mrange\u001b[0m\u001b[1;33m(\u001b[0m\u001b[0mN\u001b[0m\u001b[1;33m)\u001b[0m\u001b[1;33m:\u001b[0m\u001b[1;33m\u001b[0m\u001b[1;33m\u001b[0m\u001b[0m\n\u001b[1;32m----> 5\u001b[1;33m     \u001b[0mstring\u001b[0m \u001b[1;33m+=\u001b[0m \u001b[0mstr\u001b[0m\u001b[1;33m(\u001b[0m\u001b[0minput\u001b[0m\u001b[1;33m(\u001b[0m\u001b[1;33m)\u001b[0m\u001b[1;33m)\u001b[0m\u001b[1;33m\u001b[0m\u001b[1;33m\u001b[0m\u001b[0m\n\u001b[0m\u001b[0;32m      6\u001b[0m \u001b[1;33m\u001b[0m\u001b[0m\n\u001b[0;32m      7\u001b[0m \u001b[1;33m\u001b[0m\u001b[0m\n",
      "\u001b[1;32m~\\AppData\\Local\\Programs\\Python\\Python39\\lib\\site-packages\\ipykernel\\kernelbase.py\u001b[0m in \u001b[0;36mraw_input\u001b[1;34m(self, prompt)\u001b[0m\n\u001b[0;32m   1004\u001b[0m                 \u001b[1;34m\"raw_input was called, but this frontend does not support input requests.\"\u001b[0m\u001b[1;33m\u001b[0m\u001b[1;33m\u001b[0m\u001b[0m\n\u001b[0;32m   1005\u001b[0m             )\n\u001b[1;32m-> 1006\u001b[1;33m         return self._input_request(\n\u001b[0m\u001b[0;32m   1007\u001b[0m             \u001b[0mstr\u001b[0m\u001b[1;33m(\u001b[0m\u001b[0mprompt\u001b[0m\u001b[1;33m)\u001b[0m\u001b[1;33m,\u001b[0m\u001b[1;33m\u001b[0m\u001b[1;33m\u001b[0m\u001b[0m\n\u001b[0;32m   1008\u001b[0m             \u001b[0mself\u001b[0m\u001b[1;33m.\u001b[0m\u001b[0m_parent_ident\u001b[0m\u001b[1;33m[\u001b[0m\u001b[1;34m\"shell\"\u001b[0m\u001b[1;33m]\u001b[0m\u001b[1;33m,\u001b[0m\u001b[1;33m\u001b[0m\u001b[1;33m\u001b[0m\u001b[0m\n",
      "\u001b[1;32m~\\AppData\\Local\\Programs\\Python\\Python39\\lib\\site-packages\\ipykernel\\kernelbase.py\u001b[0m in \u001b[0;36m_input_request\u001b[1;34m(self, prompt, ident, parent, password)\u001b[0m\n\u001b[0;32m   1049\u001b[0m             \u001b[1;32mexcept\u001b[0m \u001b[0mKeyboardInterrupt\u001b[0m\u001b[1;33m:\u001b[0m\u001b[1;33m\u001b[0m\u001b[1;33m\u001b[0m\u001b[0m\n\u001b[0;32m   1050\u001b[0m                 \u001b[1;31m# re-raise KeyboardInterrupt, to truncate traceback\u001b[0m\u001b[1;33m\u001b[0m\u001b[1;33m\u001b[0m\u001b[0m\n\u001b[1;32m-> 1051\u001b[1;33m                 \u001b[1;32mraise\u001b[0m \u001b[0mKeyboardInterrupt\u001b[0m\u001b[1;33m(\u001b[0m\u001b[1;34m\"Interrupted by user\"\u001b[0m\u001b[1;33m)\u001b[0m \u001b[1;32mfrom\u001b[0m \u001b[1;32mNone\u001b[0m\u001b[1;33m\u001b[0m\u001b[1;33m\u001b[0m\u001b[0m\n\u001b[0m\u001b[0;32m   1052\u001b[0m             \u001b[1;32mexcept\u001b[0m \u001b[0mException\u001b[0m\u001b[1;33m:\u001b[0m\u001b[1;33m\u001b[0m\u001b[1;33m\u001b[0m\u001b[0m\n\u001b[0;32m   1053\u001b[0m                 \u001b[0mself\u001b[0m\u001b[1;33m.\u001b[0m\u001b[0mlog\u001b[0m\u001b[1;33m.\u001b[0m\u001b[0mwarning\u001b[0m\u001b[1;33m(\u001b[0m\u001b[1;34m\"Invalid Message:\"\u001b[0m\u001b[1;33m,\u001b[0m \u001b[0mexc_info\u001b[0m\u001b[1;33m=\u001b[0m\u001b[1;32mTrue\u001b[0m\u001b[1;33m)\u001b[0m\u001b[1;33m\u001b[0m\u001b[1;33m\u001b[0m\u001b[0m\n",
      "\u001b[1;31mKeyboardInterrupt\u001b[0m: Interrupted by user"
     ]
    }
   ],
   "source": [
    "N = int(input())\n",
    "string = ''\n",
    "\n",
    "for _ in range(N):\n",
    "    string += str(input())\n",
    "    \n",
    "    \n",
    "    \n",
    "\n",
    "from html.parser import HTMLParser\n",
    "class MyHTMLParser(HTMLParser):\n",
    "    def handle_starttag(self, tag, attrs):\n",
    "        print('Start\\t:', tag)\n",
    "        if len(attrs) != 0:\n",
    "            for attr in attrs:\n",
    "                print(' '.join(['->', str(attr[0]), '>', str(attr[1])]))\n",
    "    def handle_endtag(self, tag):\n",
    "        print('End\\t:', tag)\n",
    "    def handle_startendtag(self, tag, attrs):\n",
    "        print('Empty\\t:', tag)"
   ]
  },
  {
   "cell_type": "markdown",
   "id": "1ee39cd2",
   "metadata": {},
   "source": [
    "## 3차 시도 "
   ]
  },
  {
   "cell_type": "code",
   "execution_count": null,
   "id": "02294bb6",
   "metadata": {},
   "outputs": [],
   "source": [
    "\n",
    "from html.parser import HTMLParser\n",
    "class MyHTMLParser(HTMLParser):\n",
    "    def handle_starttag(self, tag, attrs):\n",
    "        print('Start\\t:', tag)\n",
    "        if len(attrs) != 0:\n",
    "            for attr in attrs:\n",
    "                print(' '.join(['->', str(attr[0]), '>', str(attr[1])]))\n",
    "    def handle_endtag(self, tag):\n",
    "        print('End\\t:', tag)\n",
    "    def handle_startendtag(self, tag, attrs):\n",
    "        print('Empty\\t:', tag)\n",
    "\n",
    "        \n",
    "parser = MyHTMLParser()\n",
    "\n",
    "N = int(input())\n",
    "string = ''\n",
    "\n",
    "for _ in range(N):\n",
    "    string += str(input())\n",
    "    \n",
    "    \n",
    "    \n"
   ]
  },
  {
   "cell_type": "markdown",
   "id": "9a8903d8",
   "metadata": {},
   "source": [
    "## 4차 시도 "
   ]
  },
  {
   "cell_type": "code",
   "execution_count": null,
   "id": "e05d9e81",
   "metadata": {},
   "outputs": [],
   "source": [
    "\n",
    "from html.parser import HTMLParser\n",
    "class MyHTMLParser(HTMLParser):\n",
    "    def handle_starttag(self, tag, attrs):\n",
    "        print('Start\\t:', tag)\n",
    "        if len(attrs) != 0:\n",
    "            for attr in attrs:\n",
    "                print(' '.join(['->', str(attr[0]), '>', str(attr[1])]))\n",
    "    def handle_endtag(self, tag):\n",
    "        print('End\\t:', tag)\n",
    "    def handle_startendtag(self, tag, attrs):\n",
    "        print('Empty\\t:', tag)\n",
    "\n",
    "        \n",
    "parser = MyHTMLParser()\n",
    "\n",
    "N = int(input())\n",
    "string = ''\n",
    "\n",
    "for _ in range(N):\n",
    "    string += str(input())\n",
    "    \n",
    "import re\n",
    "string = re.sub('<!--.+?-->', '', string)"
   ]
  },
  {
   "cell_type": "code",
   "execution_count": null,
   "id": "7178a7da",
   "metadata": {},
   "outputs": [],
   "source": [
    "\n",
    "from html.parser import HTMLParser\n",
    "class MyHTMLParser(HTMLParser):\n",
    "    def handle_starttag(self, tag, attrs):\n",
    "        print('Start',ljust(5), ':', tag)\n",
    "        if len(attrs) != 0:\n",
    "            for attr in attrs:\n",
    "                print(' '.join(['->', str(attr[0]), '>', str(attr[1])]))\n",
    "    def handle_endtag(self, tag):\n",
    "        print('End'.ljust(5), ':', tag)\n",
    "    def handle_startendtag(self, tag, attrs):\n",
    "        print('Empty'.ljust(5), ':', tag)\n",
    "\n",
    "        \n",
    "parser = MyHTMLParser()\n",
    "\n",
    "N = int(input())\n",
    "string = ''\n",
    "\n",
    "for _ in range(N):\n",
    "    string += str(input())\n",
    "    \n",
    "import re\n",
    "string = re.sub('<!--.+?-->', '', string)\n",
    "\n",
    "parser(string)"
   ]
  },
  {
   "cell_type": "markdown",
   "id": "db25ab5b",
   "metadata": {},
   "source": [
    "## 4차 시도 "
   ]
  },
  {
   "cell_type": "code",
   "execution_count": null,
   "id": "27ccec92",
   "metadata": {},
   "outputs": [],
   "source": [
    "\n",
    "from html.parser import HTMLParser\n",
    "class MyHTMLParser(HTMLParser):\n",
    "    def handle_starttag(self, tag, attrs):\n",
    "        print('Start'.ㅣjust(5), ':', tag)\n",
    "        if len(attrs) != 0:\n",
    "            for attr in attrs:\n",
    "                print(' '.join(['->', str(attr[0]), '>', str(attr[1])]))\n",
    "    def handle_endtag(self, tag):\n",
    "        print('End'.ljust(5), ':', tag)\n",
    "    def handle_startendtag(self, tag, attrs):\n",
    "        print('Empty'.ljust(5), ':', tag)\n",
    "\n",
    "        \n",
    "parser = MyHTMLParser()\n",
    "\n",
    "N = int(input())\n",
    "string = ''\n",
    "\n",
    "for _ in range(N):\n",
    "    string += str(input())\n",
    "    \n",
    "import re\n",
    "string = re.sub('<!--.+?-->', '', string)\n",
    "\n",
    "parser.ㄹㄷㄷㅇ(string)"
   ]
  },
  {
   "cell_type": "markdown",
   "id": "06cb7bae",
   "metadata": {},
   "source": [
    "## 5차 시도 \n",
    "26.11.24"
   ]
  },
  {
   "cell_type": "markdown",
   "id": "aac48a6b",
   "metadata": {},
   "source": [
    "### 예시답안 "
   ]
  },
  {
   "cell_type": "code",
   "execution_count": null,
   "id": "fa84bad0",
   "metadata": {},
   "outputs": [],
   "source": [
    "from html.parser import HTMLParser\n",
    "class MyHTMLParser(HTMLParser):\n",
    "    def handle_starttag(self, tag, attrs):\n",
    "        print('Start'.ljust(5), ':', tag)\n",
    "        for n, v in attrs:\n",
    "            print(f'-> {n} > {v}')\n",
    "    def handle_endtag(self, tag):\n",
    "        print('End'.ljust(5), ':', tag)\n",
    "    def handle_startendtag(self, tag, attrs):\n",
    "        print('Empty'.ljust(5), ':', tag)\n",
    "        for n, v in attrs:\n",
    "            print(f'-> {n} > {v}')\n",
    "\n",
    "t = ''.join(input() for _ in range(int(input())))\n",
    "parser = MyHTMLParser()\n",
    "parser.feed(t)\n"
   ]
  },
  {
   "cell_type": "markdown",
   "id": "0eed776a",
   "metadata": {},
   "source": [
    "- XML2 - Find the Maximum Depth"
   ]
  },
  {
   "cell_type": "code",
   "execution_count": 1,
   "id": "628a9e73",
   "metadata": {},
   "outputs": [],
   "source": [
    "import xml.etree.ElementTree as etree"
   ]
  },
  {
   "cell_type": "code",
   "execution_count": 2,
   "id": "69cfc5e5",
   "metadata": {},
   "outputs": [],
   "source": [
    "xml = ''' <feed xml:lang='en'> <title>HackerRank</title>\n",
    "    <subtitle lang='en'> <dim dimension ='3'></dim> </subtitle>\n",
    "    <link rel='alternate' type='text/html' href='http://hackerrank.com/'/>\n",
    "    <updated>2013-12-25T12:00:00</updated>\n",
    "</feed>'''"
   ]
  },
  {
   "cell_type": "code",
   "execution_count": 4,
   "id": "c600fc42",
   "metadata": {},
   "outputs": [],
   "source": [
    "elements = etree.fromstring(xml)"
   ]
  },
  {
   "cell_type": "code",
   "execution_count": 5,
   "id": "e819bd27",
   "metadata": {},
   "outputs": [
    {
     "data": {
      "text/plain": [
       "{'{http://www.w3.org/XML/1998/namespace}lang': 'en'}"
      ]
     },
     "execution_count": 5,
     "metadata": {},
     "output_type": "execute_result"
    }
   ],
   "source": [
    "elements.attrib"
   ]
  },
  {
   "cell_type": "code",
   "execution_count": 6,
   "id": "7be316e6",
   "metadata": {},
   "outputs": [
    {
     "name": "stdout",
     "output_type": "stream",
     "text": [
      "{http://www.w3.org/XML/1998/namespace}lang\n"
     ]
    }
   ],
   "source": [
    "for root in elements.attrib:\n",
    "    print(root)"
   ]
  },
  {
   "cell_type": "code",
   "execution_count": 7,
   "id": "3d39aa9d",
   "metadata": {},
   "outputs": [
    {
     "data": {
      "text/plain": [
       "<Element 'feed' at 0x0000023DF2580C20>"
      ]
     },
     "execution_count": 7,
     "metadata": {},
     "output_type": "execute_result"
    }
   ],
   "source": [
    "elements"
   ]
  },
  {
   "cell_type": "code",
   "execution_count": 8,
   "id": "f19021a1",
   "metadata": {},
   "outputs": [
    {
     "name": "stdout",
     "output_type": "stream",
     "text": [
      "<Element 'title' at 0x0000023DF2580BD0>\n",
      "<Element 'subtitle' at 0x0000023DF258A680>\n",
      "<Element 'link' at 0x0000023DEF5FBD10>\n",
      "<Element 'updated' at 0x0000023DEF5FBD60>\n"
     ]
    }
   ],
   "source": [
    "for root in elements:\n",
    "    print(root)"
   ]
  },
  {
   "cell_type": "code",
   "execution_count": 3,
   "id": "994519c8",
   "metadata": {},
   "outputs": [],
   "source": [
    "xml = ''' <feed xml:lang='en'> <title>HackerRank</title>\n",
    "    <subtitle lang='en'> <dim dimension ='3'></dim> </subtitle>\n",
    "    <link rel='alternate' type='text/html' href='http://hackerrank.com/'/>\n",
    "    <updated>2013-12-25T12:00:00 <a>1234</a> </updated>\n",
    "</feed>'''"
   ]
  },
  {
   "cell_type": "code",
   "execution_count": 10,
   "id": "daa83b29",
   "metadata": {},
   "outputs": [],
   "source": [
    "elements = etree.fromstring(xml)"
   ]
  },
  {
   "cell_type": "code",
   "execution_count": 11,
   "id": "e31e6341",
   "metadata": {},
   "outputs": [
    {
     "name": "stdout",
     "output_type": "stream",
     "text": [
      "<Element 'title' at 0x0000023DF259A220>\n",
      "<Element 'subtitle' at 0x0000023DF259A1D0>\n",
      "<Element 'link' at 0x0000023DF259A3B0>\n",
      "<Element 'updated' at 0x0000023DF259A400>\n"
     ]
    }
   ],
   "source": [
    "for root in elements:\n",
    "    print(root)"
   ]
  },
  {
   "cell_type": "code",
   "execution_count": 12,
   "id": "0bd458ab",
   "metadata": {},
   "outputs": [],
   "source": [
    "xml = '''<breakfast_menu>\n",
    "<script/>\n",
    "<food>\n",
    "<name>Belgian Waffles</name>\n",
    "<price>$5.95</price>\n",
    "<description>Two of our famous Belgian Waffles with plenty of real maple syrup</description>\n",
    "<calories>650</calories>\n",
    "</food>\n",
    "<food>\n",
    "<name>Strawberry Belgian Waffles</name>\n",
    "<price>$7.95</price>\n",
    "<description>Light Belgian waffles covered with strawberries and whipped cream</description>\n",
    "<calories>900</calories>\n",
    "</food>\n",
    "<food>\n",
    "<name>Berry-Berry Belgian Waffles</name>\n",
    "<price>$8.95</price>\n",
    "<description>Light Belgian waffles covered with an assortment of fresh berries and whipped cream</description>\n",
    "<calories>900</calories>\n",
    "</food>\n",
    "<food>\n",
    "<name>French Toast</name>\n",
    "<price>$4.50</price>\n",
    "<description>Thick slices made from our homemade sourdough bread</description>\n",
    "<calories>600</calories>\n",
    "</food>\n",
    "<food>\n",
    "<name>Homestyle Breakfast</name>\n",
    "<price>$6.95</price>\n",
    "<description>Two eggs, bacon or sausage, toast, and our ever-popular hash browns</description>\n",
    "<calories>950</calories>\n",
    "</food>\n",
    "</breakfast_menu>'''"
   ]
  },
  {
   "cell_type": "code",
   "execution_count": 13,
   "id": "20ca8d15",
   "metadata": {},
   "outputs": [],
   "source": [
    "elements = etree.fromstring(xml)"
   ]
  },
  {
   "cell_type": "code",
   "execution_count": 14,
   "id": "9994f11e",
   "metadata": {},
   "outputs": [
    {
     "name": "stdout",
     "output_type": "stream",
     "text": [
      "<Element 'script' at 0x0000023DF259AD10>\n",
      "<Element 'food' at 0x0000023DF259AD60>\n",
      "<Element 'food' at 0x0000023DF259AEF0>\n",
      "<Element 'food' at 0x0000023DF25B9130>\n",
      "<Element 'food' at 0x0000023DF25B9310>\n",
      "<Element 'food' at 0x0000023DF25B94A0>\n"
     ]
    }
   ],
   "source": [
    "for root in elements:\n",
    "    print(root)"
   ]
  },
  {
   "cell_type": "code",
   "execution_count": 15,
   "id": "36e10648",
   "metadata": {},
   "outputs": [
    {
     "name": "stdout",
     "output_type": "stream",
     "text": [
      "<Element 'name' at 0x0000023DF259ADB0>\n",
      "<Element 'price' at 0x0000023DF259AE00>\n",
      "<Element 'description' at 0x0000023DF259AE50>\n",
      "<Element 'calories' at 0x0000023DF259AEA0>\n",
      "<Element 'name' at 0x0000023DF259AF40>\n",
      "<Element 'price' at 0x0000023DF25B9040>\n",
      "<Element 'description' at 0x0000023DF25B9090>\n",
      "<Element 'calories' at 0x0000023DF25B90E0>\n",
      "<Element 'name' at 0x0000023DF25B9180>\n",
      "<Element 'price' at 0x0000023DF25B9220>\n",
      "<Element 'description' at 0x0000023DF25B9270>\n",
      "<Element 'calories' at 0x0000023DF25B92C0>\n",
      "<Element 'name' at 0x0000023DF25B9360>\n",
      "<Element 'price' at 0x0000023DF25B93B0>\n",
      "<Element 'description' at 0x0000023DF25B9400>\n",
      "<Element 'calories' at 0x0000023DF25B9450>\n",
      "<Element 'name' at 0x0000023DF25B94F0>\n",
      "<Element 'price' at 0x0000023DF25B9590>\n",
      "<Element 'description' at 0x0000023DF25B95E0>\n",
      "<Element 'calories' at 0x0000023DF25B9630>\n"
     ]
    }
   ],
   "source": [
    "for roots in elements:\n",
    "    for root in roots:\n",
    "        print(root)"
   ]
  },
  {
   "cell_type": "code",
   "execution_count": 18,
   "id": "9a078ff9",
   "metadata": {},
   "outputs": [
    {
     "name": "stdout",
     "output_type": "stream",
     "text": [
      "0\n",
      "4\n",
      "4\n",
      "4\n",
      "4\n",
      "4\n"
     ]
    }
   ],
   "source": [
    "for roots in elements:\n",
    "    print(len(roots))"
   ]
  },
  {
   "cell_type": "code",
   "execution_count": 21,
   "id": "6bb27468",
   "metadata": {},
   "outputs": [
    {
     "ename": "ValueError",
     "evalue": "DataFrame constructor not properly called!",
     "output_type": "error",
     "traceback": [
      "\u001b[1;31m---------------------------------------------------------------------------\u001b[0m",
      "\u001b[1;31mValueError\u001b[0m                                Traceback (most recent call last)",
      "\u001b[1;32mC:\\Users\\AARONC~1\\AppData\\Local\\Temp/ipykernel_26728/4141090878.py\u001b[0m in \u001b[0;36m<module>\u001b[1;34m\u001b[0m\n\u001b[0;32m      1\u001b[0m \u001b[1;32mimport\u001b[0m \u001b[0mpandas\u001b[0m \u001b[1;32mas\u001b[0m \u001b[0mpd\u001b[0m\u001b[1;33m\u001b[0m\u001b[1;33m\u001b[0m\u001b[0m\n\u001b[1;32m----> 2\u001b[1;33m \u001b[0mpd\u001b[0m\u001b[1;33m.\u001b[0m\u001b[0mDataFrame\u001b[0m\u001b[1;33m(\u001b[0m\u001b[0melements\u001b[0m\u001b[1;33m)\u001b[0m\u001b[1;33m\u001b[0m\u001b[1;33m\u001b[0m\u001b[0m\n\u001b[0m",
      "\u001b[1;32m~\\AppData\\Local\\Programs\\Python\\Python39\\lib\\site-packages\\pandas\\core\\frame.py\u001b[0m in \u001b[0;36m__init__\u001b[1;34m(self, data, index, columns, dtype, copy)\u001b[0m\n\u001b[0;32m    842\u001b[0m         \u001b[1;32melse\u001b[0m\u001b[1;33m:\u001b[0m\u001b[1;33m\u001b[0m\u001b[1;33m\u001b[0m\u001b[0m\n\u001b[0;32m    843\u001b[0m             \u001b[1;32mif\u001b[0m \u001b[0mindex\u001b[0m \u001b[1;32mis\u001b[0m \u001b[1;32mNone\u001b[0m \u001b[1;32mor\u001b[0m \u001b[0mcolumns\u001b[0m \u001b[1;32mis\u001b[0m \u001b[1;32mNone\u001b[0m\u001b[1;33m:\u001b[0m\u001b[1;33m\u001b[0m\u001b[1;33m\u001b[0m\u001b[0m\n\u001b[1;32m--> 844\u001b[1;33m                 \u001b[1;32mraise\u001b[0m \u001b[0mValueError\u001b[0m\u001b[1;33m(\u001b[0m\u001b[1;34m\"DataFrame constructor not properly called!\"\u001b[0m\u001b[1;33m)\u001b[0m\u001b[1;33m\u001b[0m\u001b[1;33m\u001b[0m\u001b[0m\n\u001b[0m\u001b[0;32m    845\u001b[0m \u001b[1;33m\u001b[0m\u001b[0m\n\u001b[0;32m    846\u001b[0m             \u001b[0mindex\u001b[0m \u001b[1;33m=\u001b[0m \u001b[0mensure_index\u001b[0m\u001b[1;33m(\u001b[0m\u001b[0mindex\u001b[0m\u001b[1;33m)\u001b[0m\u001b[1;33m\u001b[0m\u001b[1;33m\u001b[0m\u001b[0m\n",
      "\u001b[1;31mValueError\u001b[0m: DataFrame constructor not properly called!"
     ]
    }
   ],
   "source": [
    "import pandas as pd\n",
    "pd.DataFrame(elements)"
   ]
  },
  {
   "cell_type": "code",
   "execution_count": 22,
   "id": "c46c8b6b",
   "metadata": {},
   "outputs": [],
   "source": [
    "class MaxDepth:\n",
    "    maxDepth = 0\n",
    "    depth = 0\n",
    "    def start(self, tag, attrib):\n",
    "        self.depth += 1\n",
    "        if self.depth > self.maxDepth:\n",
    "            self.maxDepth = self.depth\n",
    "    def end(self, tag, attrib):\n",
    "        self.depth -= 1\n",
    "    def data(self, data):\n",
    "        pass\n",
    "    def close(self):\n",
    "        return self.maxDepth"
   ]
  },
  {
   "cell_type": "code",
   "execution_count": 23,
   "id": "c11312d5",
   "metadata": {},
   "outputs": [],
   "source": [
    "target = MaxDepth()"
   ]
  },
  {
   "cell_type": "code",
   "execution_count": 24,
   "id": "722c3074",
   "metadata": {},
   "outputs": [],
   "source": [
    "parser = etree.XMLParser(target = target)"
   ]
  },
  {
   "cell_type": "code",
   "execution_count": 25,
   "id": "f2636c1c",
   "metadata": {},
   "outputs": [
    {
     "ename": "TypeError",
     "evalue": "'xml.etree.ElementTree.XMLParser' object is not callable",
     "output_type": "error",
     "traceback": [
      "\u001b[1;31m---------------------------------------------------------------------------\u001b[0m",
      "\u001b[1;31mTypeError\u001b[0m                                 Traceback (most recent call last)",
      "\u001b[1;32mC:\\Users\\AARONC~1\\AppData\\Local\\Temp/ipykernel_26728/1754910031.py\u001b[0m in \u001b[0;36m<module>\u001b[1;34m\u001b[0m\n\u001b[1;32m----> 1\u001b[1;33m \u001b[0mparser\u001b[0m\u001b[1;33m(\u001b[0m\u001b[0mxml\u001b[0m\u001b[1;33m)\u001b[0m\u001b[1;33m\u001b[0m\u001b[1;33m\u001b[0m\u001b[0m\n\u001b[0m",
      "\u001b[1;31mTypeError\u001b[0m: 'xml.etree.ElementTree.XMLParser' object is not callable"
     ]
    }
   ],
   "source": [
    "parser(xml)"
   ]
  },
  {
   "cell_type": "code",
   "execution_count": 26,
   "id": "d7425896",
   "metadata": {},
   "outputs": [],
   "source": [
    "from xml.etree.ElementTree import XMLParser"
   ]
  },
  {
   "cell_type": "code",
   "execution_count": 27,
   "id": "8d5785b6",
   "metadata": {},
   "outputs": [
    {
     "ename": "TypeError",
     "evalue": "end() missing 1 required positional argument: 'attrib'",
     "output_type": "error",
     "traceback": [
      "\u001b[1;31m---------------------------------------------------------------------------\u001b[0m",
      "\u001b[1;31mTypeError\u001b[0m                                 Traceback (most recent call last)",
      "\u001b[1;32mC:\\Users\\AARONC~1\\AppData\\Local\\Temp/ipykernel_26728/3224851568.py\u001b[0m in \u001b[0;36m<module>\u001b[1;34m\u001b[0m\n\u001b[1;32m----> 1\u001b[1;33m \u001b[0mparser\u001b[0m\u001b[1;33m.\u001b[0m\u001b[0mfeed\u001b[0m\u001b[1;33m(\u001b[0m\u001b[0mxml\u001b[0m\u001b[1;33m)\u001b[0m\u001b[1;33m\u001b[0m\u001b[1;33m\u001b[0m\u001b[0m\n\u001b[0m",
      "\u001b[1;31mTypeError\u001b[0m: end() missing 1 required positional argument: 'attrib'"
     ]
    }
   ],
   "source": [
    "parser.feed(xml)"
   ]
  },
  {
   "cell_type": "code",
   "execution_count": 1,
   "id": "feb365d4",
   "metadata": {},
   "outputs": [],
   "source": [
    "import xml.etree.ElementTree as etree"
   ]
  },
  {
   "cell_type": "code",
   "execution_count": 4,
   "id": "31961a9d",
   "metadata": {},
   "outputs": [],
   "source": [
    "tree = etree.ElementTree(etree.fromstring(xml))"
   ]
  },
  {
   "cell_type": "code",
   "execution_count": 30,
   "id": "6ba95fea",
   "metadata": {},
   "outputs": [
    {
     "data": {
      "text/plain": [
       "4"
      ]
     },
     "execution_count": 30,
     "metadata": {},
     "output_type": "execute_result"
    }
   ],
   "source": [
    "len(root)"
   ]
  },
  {
   "cell_type": "code",
   "execution_count": 5,
   "id": "db9e53ec",
   "metadata": {
    "scrolled": true
   },
   "outputs": [
    {
     "data": {
      "text/plain": [
       "<Element 'feed' at 0x0000021E5AA74310>"
      ]
     },
     "execution_count": 5,
     "metadata": {},
     "output_type": "execute_result"
    }
   ],
   "source": [
    "tree.getroot()"
   ]
  },
  {
   "cell_type": "code",
   "execution_count": 8,
   "id": "6a6ab94e",
   "metadata": {
    "scrolled": true
   },
   "outputs": [
    {
     "ename": "TypeError",
     "evalue": "XMLParser() takes no positional arguments",
     "output_type": "error",
     "traceback": [
      "\u001b[1;31m---------------------------------------------------------------------------\u001b[0m",
      "\u001b[1;31mTypeError\u001b[0m                                 Traceback (most recent call last)",
      "\u001b[1;32mC:\\Users\\AARONC~1\\AppData\\Local\\Temp/ipykernel_31540/1166774403.py\u001b[0m in \u001b[0;36m<module>\u001b[1;34m\u001b[0m\n\u001b[1;32m----> 1\u001b[1;33m \u001b[0metree\u001b[0m\u001b[1;33m.\u001b[0m\u001b[0mXMLParser\u001b[0m\u001b[1;33m(\u001b[0m\u001b[0mtree\u001b[0m\u001b[1;33m.\u001b[0m\u001b[0mgetroot\u001b[0m\u001b[1;33m(\u001b[0m\u001b[1;33m)\u001b[0m\u001b[1;33m)\u001b[0m\u001b[1;33m\u001b[0m\u001b[1;33m\u001b[0m\u001b[0m\n\u001b[0m",
      "\u001b[1;31mTypeError\u001b[0m: XMLParser() takes no positional arguments"
     ]
    }
   ],
   "source": [
    "import xml.etree.ElementTree as etree\n",
    "\n",
    "maxdepth = 0\n",
    "def depth(elem, level):\n",
    "    global maxdepth\n",
    "    if len(elem) != 0:\n",
    "        maxdepth += 1\n",
    "        childs = [child for child in elem if len(child) != 0]\n",
    "            if len(childs) != 0:\n",
    "                maxdepth += 1\n",
    "                grandchilds = [grandchild for grandchild in child if len(grandchild) != 0]\n",
    "                if len(grandchilds) != 0:\n",
    "                    maxdepth += 1\n",
    "                    grandgrandchilds = [grandgrandchild for grandgrandchild in grandchilds if len(grandgrandchild) != 0]\n",
    "                    if len(grandgrandchilds) != 0:\n",
    "                        maxdepth += 1\n",
    "                        treigrandchilds = [trigrand for trigrand in grandgrandchilds if len(trigrand) != 0]\n",
    "                        if len(treigrandchilds) != 0:\n",
    "                            maxdepth += 1\n",
    "                            else:\n",
    "                                return maxdepth\n",
    "                    else:\n",
    "                        return maxdepth\n",
    "                else:\n",
    "                    return maxdepth\n",
    "            else:\n",
    "                return maxdepth\n",
    "    else:\n",
    "        return  maxdepth\n",
    "    \n",
    "\n",
    "if __name__ == '__main__':\n",
    "    n = int(input())\n",
    "    xml = \"\"\n",
    "    for i in range(n):\n",
    "        xml =  xml + input() + \"\\n\"\n",
    "    tree = etree.ElementTree(etree.fromstring(xml))\n",
    "    depth(tree.getroot(), -1)\n",
    "    print(maxdepth)"
   ]
  },
  {
   "cell_type": "code",
   "execution_count": 10,
   "id": "9184fe71",
   "metadata": {
    "scrolled": true
   },
   "outputs": [
    {
     "data": {
      "text/plain": [
       "<Element 'feed' at 0x0000021E5AA74310>"
      ]
     },
     "execution_count": 10,
     "metadata": {},
     "output_type": "execute_result"
    }
   ],
   "source": [
    "tree.getroot()"
   ]
  },
  {
   "cell_type": "code",
   "execution_count": 32,
   "id": "42f476b5",
   "metadata": {
    "scrolled": true
   },
   "outputs": [
    {
     "data": {
      "text/plain": [
       "[<Element 'title' at 0x0000021E5AA742C0>,\n",
       " <Element 'subtitle' at 0x0000021E5AA741D0>,\n",
       " <Element 'link' at 0x0000021E5AA74090>,\n",
       " <Element 'updated' at 0x0000021E5AA740E0>]"
      ]
     },
     "execution_count": 32,
     "metadata": {},
     "output_type": "execute_result"
    }
   ],
   "source": [
    "[*root]"
   ]
  },
  {
   "cell_type": "code",
   "execution_count": 35,
   "id": "d079b59f",
   "metadata": {},
   "outputs": [],
   "source": [
    "from xml.etree import ElementInclude"
   ]
  },
  {
   "cell_type": "code",
   "execution_count": 36,
   "id": "1c19fd46",
   "metadata": {},
   "outputs": [],
   "source": [
    "ElementInclude.include(root)"
   ]
  },
  {
   "cell_type": "code",
   "execution_count": 37,
   "id": "6b083e1b",
   "metadata": {},
   "outputs": [
    {
     "data": {
      "text/plain": [
       "<Element 'feed' at 0x0000021E5AA74310>"
      ]
     },
     "execution_count": 37,
     "metadata": {},
     "output_type": "execute_result"
    }
   ],
   "source": [
    "root"
   ]
  },
  {
   "cell_type": "code",
   "execution_count": 12,
   "id": "db017d3a",
   "metadata": {},
   "outputs": [
    {
     "name": "stdout",
     "output_type": "stream",
     "text": [
      "<Element 'title' at 0x0000021E5AA742C0>\n",
      "<Element 'subtitle' at 0x0000021E5AA741D0>\n",
      "<Element 'link' at 0x0000021E5AA74090>\n",
      "<Element 'updated' at 0x0000021E5AA740E0>\n"
     ]
    }
   ],
   "source": [
    "for child in tree.getroot():\n",
    "    print(child)"
   ]
  },
  {
   "cell_type": "code",
   "execution_count": 13,
   "id": "0c273de2",
   "metadata": {},
   "outputs": [
    {
     "name": "stdout",
     "output_type": "stream",
     "text": [
      "<Element 'dim' at 0x0000021E5AA74180>\n",
      "<Element 'a' at 0x0000021E5AA6FD60>\n"
     ]
    }
   ],
   "source": [
    "for child in tree.getroot():\n",
    "    for grandchild in child:\n",
    "        print(grandchild)"
   ]
  },
  {
   "cell_type": "code",
   "execution_count": 15,
   "id": "31fcf090",
   "metadata": {},
   "outputs": [],
   "source": [
    "for child in tree.getroot():\n",
    "    for grandchild in child:\n",
    "        for grandgrandchild in grandchild:\n",
    "            print(grandgrandchild)"
   ]
  },
  {
   "cell_type": "code",
   "execution_count": 16,
   "id": "e4ea2f3f",
   "metadata": {},
   "outputs": [
    {
     "name": "stdout",
     "output_type": "stream",
     "text": [
      "0\n",
      "0\n"
     ]
    }
   ],
   "source": [
    "for child in tree.getroot():\n",
    "    for grandchild in child:\n",
    "        print(len(grandchild))"
   ]
  },
  {
   "cell_type": "code",
   "execution_count": 17,
   "id": "14d08882",
   "metadata": {},
   "outputs": [
    {
     "name": "stdout",
     "output_type": "stream",
     "text": [
      "0\n",
      "1\n",
      "0\n",
      "1\n"
     ]
    }
   ],
   "source": [
    "for child in tree.getroot():\n",
    "    print(len(child))"
   ]
  },
  {
   "cell_type": "code",
   "execution_count": 18,
   "id": "df9bad2e",
   "metadata": {},
   "outputs": [
    {
     "data": {
      "text/plain": [
       "<Element 'feed' at 0x0000021E5AA74310>"
      ]
     },
     "execution_count": 18,
     "metadata": {},
     "output_type": "execute_result"
    }
   ],
   "source": [
    "tree.getroot()"
   ]
  },
  {
   "cell_type": "code",
   "execution_count": 19,
   "id": "6bb98b4b",
   "metadata": {},
   "outputs": [
    {
     "data": {
      "text/plain": [
       "'feed'"
      ]
     },
     "execution_count": 19,
     "metadata": {},
     "output_type": "execute_result"
    }
   ],
   "source": [
    "tree.getroot().tag"
   ]
  },
  {
   "cell_type": "code",
   "execution_count": 20,
   "id": "81db2901",
   "metadata": {},
   "outputs": [
    {
     "data": {
      "text/plain": [
       "{'{http://www.w3.org/XML/1998/namespace}lang': 'en'}"
      ]
     },
     "execution_count": 20,
     "metadata": {},
     "output_type": "execute_result"
    }
   ],
   "source": [
    "tree.getroot().attrib"
   ]
  },
  {
   "cell_type": "code",
   "execution_count": 23,
   "id": "4c0c4693",
   "metadata": {},
   "outputs": [],
   "source": [
    "root = tree.getroot()"
   ]
  },
  {
   "cell_type": "code",
   "execution_count": 22,
   "id": "6af3dab8",
   "metadata": {},
   "outputs": [
    {
     "name": "stdout",
     "output_type": "stream",
     "text": [
      "title {}\n",
      "subtitle {'lang': 'en'}\n",
      "link {'rel': 'alternate', 'type': 'text/html', 'href': 'http://hackerrank.com/'}\n",
      "updated {}\n"
     ]
    }
   ],
   "source": [
    "for child in tree.getroot():\n",
    "    print(child.tag, child.attrib)"
   ]
  },
  {
   "cell_type": "code",
   "execution_count": 25,
   "id": "239acfb4",
   "metadata": {},
   "outputs": [
    {
     "ename": "AttributeError",
     "evalue": "'xml.etree.ElementTree.Element' object has no attribute 'levels'",
     "output_type": "error",
     "traceback": [
      "\u001b[1;31m---------------------------------------------------------------------------\u001b[0m",
      "\u001b[1;31mAttributeError\u001b[0m                            Traceback (most recent call last)",
      "\u001b[1;32mC:\\Users\\AARONC~1\\AppData\\Local\\Temp/ipykernel_31540/1060571831.py\u001b[0m in \u001b[0;36m<module>\u001b[1;34m\u001b[0m\n\u001b[1;32m----> 1\u001b[1;33m \u001b[0mroot\u001b[0m\u001b[1;33m.\u001b[0m\u001b[0mlevels\u001b[0m\u001b[1;33m\u001b[0m\u001b[1;33m\u001b[0m\u001b[0m\n\u001b[0m",
      "\u001b[1;31mAttributeError\u001b[0m: 'xml.etree.ElementTree.Element' object has no attribute 'levels'"
     ]
    }
   ],
   "source": [
    "root.levels"
   ]
  },
  {
   "cell_type": "code",
   "execution_count": 26,
   "id": "f1e8105e",
   "metadata": {},
   "outputs": [
    {
     "data": {
      "text/plain": [
       "<_elementtree._element_iterator at 0x21e5ab7e2c0>"
      ]
     },
     "execution_count": 26,
     "metadata": {},
     "output_type": "execute_result"
    }
   ],
   "source": [
    "root.itertext()"
   ]
  },
  {
   "cell_type": "code",
   "execution_count": 27,
   "id": "a1920735",
   "metadata": {},
   "outputs": [
    {
     "data": {
      "text/plain": [
       "' HackerRank\\n      \\n    \\n    2013-12-25T12:00:00 1234 \\n'"
      ]
     },
     "execution_count": 27,
     "metadata": {},
     "output_type": "execute_result"
    }
   ],
   "source": [
    "''.join(root.itertext())"
   ]
  },
  {
   "cell_type": "code",
   "execution_count": 29,
   "id": "3ec07d29",
   "metadata": {},
   "outputs": [
    {
     "data": {
      "text/plain": [
       "[('{http://www.w3.org/XML/1998/namespace}lang', 'en')]"
      ]
     },
     "execution_count": 29,
     "metadata": {},
     "output_type": "execute_result"
    }
   ],
   "source": [
    "root.items()"
   ]
  },
  {
   "cell_type": "code",
   "execution_count": null,
   "id": "85673964",
   "metadata": {},
   "outputs": [],
   "source": [
    "import xml.etree.ElementTree as etree\n",
    "\n",
    "maxdepth = 0\n",
    "def depth(elem, level):\n",
    "    global maxdepth\n",
    "    if len(elem) != 0:\n",
    "        maxdepth += 1\n",
    "        childs = [child for child in elem ]\n",
    "        if len(childs) != 0:\n",
    "            maxdepth += 1\n",
    "            grandchilds = [grandchild for grandchild in childs if len(grandchild) != 0]\n",
    "            if len(grandchilds) != 0:\n",
    "                maxdepth += 1\n",
    "                grandgrandchilds = [grandgrandchild for grandgrandchild in grandchilds if len(grandgrandchild) != 0]\n",
    "                if len(grandgrandchilds) != 0:\n",
    "                    maxdepth += 1\n",
    "                    trigrandchilds = [trigrand for trigrand in grandgrandchilds if len(trigrand) != 0]\n",
    "                    if len(trigrandchilds) != 0:\n",
    "                        maxdepth += 1\n",
    "                    else:\n",
    "                        return maxdepth\n",
    "                else:\n",
    "                    return maxdepth\n",
    "            else:\n",
    "                return maxdepth\n",
    "        else:\n",
    "            return maxdepth\n",
    "    else:\n",
    "        return  maxdepth\n",
    "    \n",
    "\n",
    "if __name__ == '__main__':\n",
    "    n = int(input())\n",
    "    xml = \"\"\n",
    "    for i in range(n):\n",
    "        xml =  xml + input() + \"\\n\"\n",
    "    tree = etree.ElementTree(etree.fromstring(xml))\n",
    "    depth(tree.getroot(), -1)\n",
    "    print(maxdepth)"
   ]
  },
  {
   "cell_type": "code",
   "execution_count": 39,
   "id": "b65ff27c",
   "metadata": {},
   "outputs": [],
   "source": [
    "import numpy as np \n",
    "arr = np.arange(10)"
   ]
  },
  {
   "cell_type": "code",
   "execution_count": 40,
   "id": "acdd1bf2",
   "metadata": {},
   "outputs": [
    {
     "data": {
      "text/plain": [
       "[6, 7, 8, 9]"
      ]
     },
     "execution_count": 40,
     "metadata": {},
     "output_type": "execute_result"
    }
   ],
   "source": [
    "[num for num in arr if num > 5]"
   ]
  },
  {
   "cell_type": "code",
   "execution_count": null,
   "id": "48c64c03",
   "metadata": {},
   "outputs": [],
   "source": []
  }
 ],
 "metadata": {
  "kernelspec": {
   "display_name": "Python 3 (ipykernel)",
   "language": "python",
   "name": "python3"
  },
  "language_info": {
   "codemirror_mode": {
    "name": "ipython",
    "version": 3
   },
   "file_extension": ".py",
   "mimetype": "text/x-python",
   "name": "python",
   "nbconvert_exporter": "python",
   "pygments_lexer": "ipython3",
   "version": "3.9.7"
  }
 },
 "nbformat": 4,
 "nbformat_minor": 5
}
