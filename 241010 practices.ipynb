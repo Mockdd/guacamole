{
 "cells": [
  {
   "cell_type": "code",
   "execution_count": 1,
   "id": "fc12ac6b",
   "metadata": {},
   "outputs": [],
   "source": [
    "import itertools"
   ]
  },
  {
   "cell_type": "code",
   "execution_count": 2,
   "id": "2d24f3df",
   "metadata": {},
   "outputs": [
    {
     "data": {
      "text/plain": [
       "<itertools.combinations at 0x18c00680d60>"
      ]
     },
     "execution_count": 2,
     "metadata": {},
     "output_type": "execute_result"
    }
   ],
   "source": [
    "itertools.combinations('aaaaa', 2)"
   ]
  },
  {
   "cell_type": "code",
   "execution_count": 3,
   "id": "e060129d",
   "metadata": {},
   "outputs": [
    {
     "name": "stdout",
     "output_type": "stream",
     "text": [
      "('a', 'a')\n",
      "('a', 'a')\n",
      "('a', 'a')\n",
      "('a', 'a')\n",
      "('a', 'a')\n",
      "('a', 'a')\n",
      "('a', 'a')\n",
      "('a', 'a')\n",
      "('a', 'a')\n",
      "('a', 'a')\n"
     ]
    }
   ],
   "source": [
    "for _ in itertools.combinations('aaaaa', 2):\n",
    "    print(_)"
   ]
  },
  {
   "cell_type": "markdown",
   "id": "fea4adc8",
   "metadata": {},
   "source": [
    "# (1) 입력 코드"
   ]
  },
  {
   "cell_type": "code",
   "execution_count": null,
   "id": "997051da",
   "metadata": {},
   "outputs": [],
   "source": [
    "import itertools\n",
    "\n",
    "target, length = input().split()\n",
    "combies = []\n",
    "\n",
    "for _ in range(1, (int(length)+1)):\n",
    "    combies.extend(itertools.combinations(str(target), _))\n",
    "    \n",
    "print(*combies, sep = '\\n')"
   ]
  },
  {
   "cell_type": "markdown",
   "id": "b7cb08aa",
   "metadata": {},
   "source": [
    "# (2) 입력 코드 "
   ]
  },
  {
   "cell_type": "code",
   "execution_count": null,
   "id": "6855a3cc",
   "metadata": {},
   "outputs": [],
   "source": [
    "import itertools\n",
    "\n",
    "target, length = input().split()\n",
    "combies = []\n",
    "\n",
    "for _ in range(1, (int(length)+1)):\n",
    "    combies.extend(itertools.combinations(str(target), _))\n",
    "    \n",
    "map(lambda x: ''.join(x), combies)\n",
    "print(*combies, sep = '\\n')"
   ]
  },
  {
   "cell_type": "code",
   "execution_count": 5,
   "id": "c7cd09a7",
   "metadata": {},
   "outputs": [],
   "source": [
    "strings = map(str, [1, 2, 3, 4, 5])"
   ]
  },
  {
   "cell_type": "markdown",
   "id": "d82177d9",
   "metadata": {},
   "source": [
    "# (3) 입력 코드 \n"
   ]
  },
  {
   "cell_type": "code",
   "execution_count": null,
   "id": "03c469ed",
   "metadata": {},
   "outputs": [],
   "source": [
    "import itertools\n",
    "\n",
    "target, length = input().split()\n",
    "combies = []\n",
    "\n",
    "for _ in range(1, (int(length)+1)):\n",
    "    combies.extend(itertools.combinations(str(target), _))\n",
    "    \n",
    "combies = map(lambda x: ''.join(x), combies)\n",
    "print(*combies, sep = '\\n')"
   ]
  },
  {
   "cell_type": "code",
   "execution_count": 6,
   "id": "5c8798fd",
   "metadata": {},
   "outputs": [
    {
     "name": "stdout",
     "output_type": "stream",
     "text": [
      "1\n",
      "2\n",
      "3\n",
      "4\n",
      "5\n"
     ]
    }
   ],
   "source": [
    "print(*strings, sep = '\\n')"
   ]
  },
  {
   "cell_type": "markdown",
   "id": "ddc67f24",
   "metadata": {},
   "source": [
    "# (4) 입력 코드 "
   ]
  },
  {
   "cell_type": "code",
   "execution_count": null,
   "id": "fcbd3add",
   "metadata": {},
   "outputs": [],
   "source": [
    "import itertools\n",
    "\n",
    "target, length = input().split()\n",
    "combies = []\n",
    "\n",
    "for _ in range(1, (int(length)+1)):\n",
    "    combies.extend(itertools.combinations(str(target), _))\n",
    "    \n",
    "combies = list(map(lambda x: ''.join(x), combies))\n",
    "combies.sort()\n",
    "print(*combies, sep = '\\n')"
   ]
  },
  {
   "cell_type": "markdown",
   "id": "fb601948",
   "metadata": {},
   "source": [
    "# (5) 입력 코드 "
   ]
  },
  {
   "cell_type": "code",
   "execution_count": null,
   "id": "d0b28f05",
   "metadata": {},
   "outputs": [],
   "source": [
    "import itertools\n",
    "\n",
    "target, length = input().split()\n",
    "\n",
    "for _ in range(1, (int(length)+1)):\n",
    "    combies = []\n",
    "    combies.extend(itertools.combinations(str(target), _))\n",
    "    combies = list(map(lambda x: ''.join(x), combies))\n",
    "    combies.sort()\n",
    "    \n",
    "    print(*combies, sep = '\\n')"
   ]
  },
  {
   "cell_type": "markdown",
   "id": "37f175db",
   "metadata": {},
   "source": [
    "# (6) 입력 코드 "
   ]
  },
  {
   "cell_type": "code",
   "execution_count": null,
   "id": "cb26c678",
   "metadata": {},
   "outputs": [],
   "source": [
    "import itertools\n",
    "\n",
    "target, length = input().split()\n",
    "\n",
    "for _ in range(1, (int(length)+1)):\n",
    "    combies = []\n",
    "    combies.extend(itertools.combinations(str(target), _))\n",
    "    map(sorted, combies)\n",
    "    combies = list(map(lambda x: ''.join(x), combies))\n",
    "    combies.sort()\n",
    "    \n",
    "    print(*combies, sep = '\\n')"
   ]
  },
  {
   "cell_type": "code",
   "execution_count": 7,
   "id": "d0f9e81f",
   "metadata": {},
   "outputs": [
    {
     "data": {
      "text/plain": [
       "[3, 4]"
      ]
     },
     "execution_count": 7,
     "metadata": {},
     "output_type": "execute_result"
    }
   ],
   "source": [
    "sorted((3, 4))"
   ]
  },
  {
   "cell_type": "code",
   "execution_count": 9,
   "id": "2218f113",
   "metadata": {},
   "outputs": [
    {
     "data": {
      "text/plain": [
       "[1, 4]"
      ]
     },
     "execution_count": 9,
     "metadata": {},
     "output_type": "execute_result"
    }
   ],
   "source": [
    "sorted((4, 1))"
   ]
  },
  {
   "cell_type": "code",
   "execution_count": null,
   "id": "2d0ef2cf",
   "metadata": {},
   "outputs": [],
   "source": [
    "import itertools\n",
    "\n",
    "target, length = input().split()\n",
    "\n",
    "for _ in range(1, (int(length)+1)):\n",
    "    combies = []\n",
    "    combies.extend(itertools.combinations(str(target), _))\n",
    "    combies = map(sorted, combies)\n",
    "    combies = list(map(lambda x: ''.join(x), combies))\n",
    "    combies.sort()\n",
    "    \n",
    "    print(*combies, sep = '\\n')"
   ]
  },
  {
   "cell_type": "code",
   "execution_count": null,
   "id": "b87d6844",
   "metadata": {},
   "outputs": [],
   "source": [
    "### 예시답안\n",
    "from itertools import combinations\n",
    "\n",
    "s, n = raw_input().split()\n",
    "\n",
    "for i in range(1, int(n) + 1):\n",
    "    for j in combinations(sorted(s), i):\n",
    "        print(''.join(j))"
   ]
  },
  {
   "cell_type": "markdown",
   "id": "39e60efa",
   "metadata": {},
   "source": [
    "- intertools.combinations_with_regplacement"
   ]
  },
  {
   "cell_type": "code",
   "execution_count": 10,
   "id": "34b69d90",
   "metadata": {},
   "outputs": [
    {
     "data": {
      "text/plain": [
       "<itertools.combinations_with_replacement at 0x18c00634860>"
      ]
     },
     "execution_count": 10,
     "metadata": {},
     "output_type": "execute_result"
    }
   ],
   "source": [
    "itertools.combinations_with_replacement('HACK', 2)"
   ]
  },
  {
   "cell_type": "code",
   "execution_count": 11,
   "id": "166d64eb",
   "metadata": {},
   "outputs": [
    {
     "data": {
      "text/plain": [
       "[('H', 'H'),\n",
       " ('H', 'A'),\n",
       " ('H', 'C'),\n",
       " ('H', 'K'),\n",
       " ('A', 'A'),\n",
       " ('A', 'C'),\n",
       " ('A', 'K'),\n",
       " ('C', 'C'),\n",
       " ('C', 'K'),\n",
       " ('K', 'K')]"
      ]
     },
     "execution_count": 11,
     "metadata": {},
     "output_type": "execute_result"
    }
   ],
   "source": [
    "list(itertools.combinations_with_replacement('HACK', 2))"
   ]
  },
  {
   "cell_type": "code",
   "execution_count": 12,
   "id": "3fbe6414",
   "metadata": {},
   "outputs": [
    {
     "data": {
      "text/plain": [
       "[('A', 'A'),\n",
       " ('A', 'C'),\n",
       " ('A', 'K'),\n",
       " ('C', 'C'),\n",
       " ('C', 'K'),\n",
       " ('H', 'A'),\n",
       " ('H', 'C'),\n",
       " ('H', 'H'),\n",
       " ('H', 'K'),\n",
       " ('K', 'K')]"
      ]
     },
     "execution_count": 12,
     "metadata": {},
     "output_type": "execute_result"
    }
   ],
   "source": [
    "sorted(list(itertools.combinations_with_replacement('HACK', 2)))"
   ]
  },
  {
   "cell_type": "markdown",
   "id": "9af643dd",
   "metadata": {},
   "source": [
    "# (1) 입력 코드 "
   ]
  },
  {
   "cell_type": "code",
   "execution_count": null,
   "id": "d4616e6c",
   "metadata": {},
   "outputs": [],
   "source": [
    "string, length = input().split()\n",
    "\n",
    "combies = map(lambda x: ''.join(x), \n",
    "    list(itertools.combinations_with_replacement(sorted(str(string)), length))\n",
    "\n",
    "print(*combies, sep = '\\n')"
   ]
  },
  {
   "cell_type": "markdown",
   "id": "2cbe4773",
   "metadata": {},
   "source": [
    "# (2) 입력 코드 "
   ]
  },
  {
   "cell_type": "code",
   "execution_count": null,
   "id": "b1f63d6f",
   "metadata": {},
   "outputs": [],
   "source": [
    "import itertools\n",
    "\n",
    "string, length = input().split()\n",
    "\n",
    "combies = map(lambda x: ''.join(x), \n",
    "    list(itertools.combinations_with_replacement(sorted(str(string)), length))\n",
    "\n",
    "print(*combies, sep = '\\n')"
   ]
  },
  {
   "cell_type": "markdown",
   "id": "277877f5",
   "metadata": {},
   "source": [
    "# (3) 입력 코드 \n"
   ]
  },
  {
   "cell_type": "code",
   "execution_count": null,
   "id": "d12aaf73",
   "metadata": {},
   "outputs": [],
   "source": [
    "import itertools\n",
    "\n",
    "string, length = input().split()\n",
    "\n",
    "combies = map(lambda x: ''.join(x), \n",
    "    list(itertools.combinations_with_replacement(sorted(str(string)), int(length))))\n",
    "\n",
    "print(*combies, sep = '\\n')"
   ]
  },
  {
   "cell_type": "markdown",
   "id": "c45261c1",
   "metadata": {},
   "source": [
    "- iterables and iterators"
   ]
  },
  {
   "cell_type": "code",
   "execution_count": 13,
   "id": "df0f9b83",
   "metadata": {},
   "outputs": [
    {
     "data": {
      "text/plain": [
       "<enumerate at 0x18c00665d80>"
      ]
     },
     "execution_count": 13,
     "metadata": {},
     "output_type": "execute_result"
    }
   ],
   "source": [
    "enumerate(['a', 'p', 'p', 'l', 'e'])"
   ]
  },
  {
   "cell_type": "code",
   "execution_count": 14,
   "id": "9ae6e97f",
   "metadata": {},
   "outputs": [
    {
     "data": {
      "text/plain": [
       "[(0, 'a'), (1, 'p'), (2, 'p'), (3, 'l'), (4, 'e')]"
      ]
     },
     "execution_count": 14,
     "metadata": {},
     "output_type": "execute_result"
    }
   ],
   "source": [
    "list(enumerate(['a', 'p', 'p', 'l', 'e']))"
   ]
  },
  {
   "cell_type": "markdown",
   "id": "960623a8",
   "metadata": {},
   "source": [
    "# (1) 입력 코드 "
   ]
  },
  {
   "cell_type": "code",
   "execution_count": null,
   "id": "54284daa",
   "metadata": {},
   "outputs": [],
   "source": [
    "import itertools\n",
    "\n",
    "N = int(input())\n",
    "letters = input().split()\n",
    "k = int(input())\n",
    "\n",
    "targets = itertools.combinations(list(range(1, (N+1))))\n",
    "\n",
    "indexes = list(enumerate(letters))\n",
    "indexes = [index[0] for index in indexes if index[1] == 'a']\n",
    "\n",
    "have_a = [target for target in targets\n",
    "         for index in indexes \n",
    "         if index in target]\n",
    "\n",
    "P = len(have_a) / len(targets)\n",
    "print(f'{P:.4f}')"
   ]
  },
  {
   "cell_type": "markdown",
   "id": "043b6852",
   "metadata": {},
   "source": [
    "# (2) 입력 코드 "
   ]
  },
  {
   "cell_type": "code",
   "execution_count": null,
   "id": "64142a44",
   "metadata": {},
   "outputs": [],
   "source": [
    "import itertools\n",
    "\n",
    "N = int(input())\n",
    "letters = input().split()\n",
    "k = int(input())\n",
    "\n",
    "targets = itertools.combinations(list(range(1, (N+1))), k)\n",
    "\n",
    "indexes = list(enumerate(letters))\n",
    "indexes = [index[0] for index in indexes if index[1] == 'a']\n",
    "\n",
    "have_a = [target for target in targets\n",
    "         for index in indexes \n",
    "         if index in target]\n",
    "\n",
    "P = len(have_a) / len(targets)\n",
    "print(f'{P:.4f}')"
   ]
  },
  {
   "cell_type": "markdown",
   "id": "f49ea33b",
   "metadata": {},
   "source": [
    "# 입력 코드 (3)"
   ]
  },
  {
   "cell_type": "code",
   "execution_count": null,
   "id": "04e754f9",
   "metadata": {},
   "outputs": [],
   "source": [
    "import itertools\n",
    "\n",
    "N = int(input())\n",
    "letters = input().split()\n",
    "k = int(input())\n",
    "\n",
    "targets = itertools.combinations(list(range(1, (N+1))), k)\n",
    "\n",
    "indexes = list(enumerate(letters))\n",
    "indexes = [index[0] for index in indexes if index[1] == 'a']\n",
    "\n",
    "have_a = [target for target in targets\n",
    "         for index in indexes \n",
    "         if index in target]\n",
    "\n",
    "P = len(have_a) / len(list(targets))\n",
    "print(f'{P:.4f}')"
   ]
  },
  {
   "cell_type": "code",
   "execution_count": 16,
   "id": "b9cf3710",
   "metadata": {},
   "outputs": [
    {
     "data": {
      "text/plain": [
       "<itertools.combinations at 0x18c006c84a0>"
      ]
     },
     "execution_count": 16,
     "metadata": {},
     "output_type": "execute_result"
    }
   ],
   "source": [
    "itertools.combinations(list(range(1, 5)), 3)"
   ]
  },
  {
   "cell_type": "code",
   "execution_count": 17,
   "id": "37d610df",
   "metadata": {
    "scrolled": true
   },
   "outputs": [
    {
     "data": {
      "text/plain": [
       "[(1, 2, 3), (1, 2, 4), (1, 3, 4), (2, 3, 4)]"
      ]
     },
     "execution_count": 17,
     "metadata": {},
     "output_type": "execute_result"
    }
   ],
   "source": [
    "list(itertools.combinations(list(range(1, 5)), 3))"
   ]
  },
  {
   "cell_type": "code",
   "execution_count": 19,
   "id": "139828d3",
   "metadata": {},
   "outputs": [
    {
     "data": {
      "text/plain": [
       "[(0, 1, 2), (0, 1, 3), (0, 2, 3), (1, 2, 3)]"
      ]
     },
     "execution_count": 19,
     "metadata": {},
     "output_type": "execute_result"
    }
   ],
   "source": [
    "list(itertools.combinations(list(range(4)), 3))"
   ]
  },
  {
   "cell_type": "code",
   "execution_count": 18,
   "id": "ba10f894",
   "metadata": {},
   "outputs": [
    {
     "data": {
      "text/plain": [
       "4"
      ]
     },
     "execution_count": 18,
     "metadata": {},
     "output_type": "execute_result"
    }
   ],
   "source": [
    "len(list(itertools.combinations(list(range(1, 5)), 3)))"
   ]
  },
  {
   "cell_type": "markdown",
   "id": "2f40af92",
   "metadata": {},
   "source": [
    "# 입력 코드 (4)"
   ]
  },
  {
   "cell_type": "code",
   "execution_count": null,
   "id": "3a0b5fd2",
   "metadata": {},
   "outputs": [],
   "source": [
    "import itertools\n",
    "\n",
    "N = int(input())\n",
    "letters = input().split()\n",
    "k = int(input())\n",
    "\n",
    "targets = list(itertools.combinations(list(range(N)), k))\n",
    "\n",
    "indexes = list(enumerate(letters))\n",
    "indexes = [index[0] for index in indexes if index[1] == 'a']\n",
    "indexes = set(indexes)\n",
    "\n",
    "NO_a = [A for A in map(set, targets) if A == A.difference(indexes)]\n",
    "Pc = len(NO_a) / len(targets)\n",
    "P = 1 - Pc\n",
    "print(f'{P:.4f}')"
   ]
  },
  {
   "cell_type": "code",
   "execution_count": null,
   "id": "9d38c4d8",
   "metadata": {},
   "outputs": [],
   "source": [
    "### 예시답안 \n",
    "from itertools import combinations\n",
    "\n",
    "N = int(input())\n",
    "L = input().split()\n",
    "K = int(input())\n",
    "\n",
    "C = list(combinations(L, K))\n",
    "F = filter(lambda c: 'a' in c, C)\n",
    "print('{0:.3}'.format(len(list(F))/len(C)))"
   ]
  },
  {
   "cell_type": "code",
   "execution_count": null,
   "id": "3bca1fa5",
   "metadata": {},
   "outputs": [],
   "source": [
    "### 예시답안 \n",
    "from itertools import combinations\n",
    "\n",
    "N = int(input())\n",
    "A = list(input().split())\n",
    "K = int(input())\n",
    "B = list(combinations(A, K))\n",
    "count = sum(1 for x in B if 'a' in x)\n",
    "print(count/len(B))"
   ]
  },
  {
   "cell_type": "markdown",
   "id": "58c1fff9",
   "metadata": {},
   "source": [
    "- Maximize it!"
   ]
  },
  {
   "cell_type": "code",
   "execution_count": 20,
   "id": "219a2ea7",
   "metadata": {},
   "outputs": [
    {
     "data": {
      "text/plain": [
       "2"
      ]
     },
     "execution_count": 20,
     "metadata": {},
     "output_type": "execute_result"
    }
   ],
   "source": [
    "5%3"
   ]
  },
  {
   "cell_type": "code",
   "execution_count": 22,
   "id": "141023f9",
   "metadata": {},
   "outputs": [
    {
     "data": {
      "text/plain": [
       "1"
      ]
     },
     "execution_count": 22,
     "metadata": {},
     "output_type": "execute_result"
    }
   ],
   "source": [
    "5%4"
   ]
  },
  {
   "cell_type": "markdown",
   "id": "24296801",
   "metadata": {},
   "source": [
    "# 입력 코드 (1)"
   ]
  },
  {
   "cell_type": "code",
   "execution_count": null,
   "id": "93f47aa5",
   "metadata": {},
   "outputs": [],
   "source": [
    "import collections\n",
    "\n",
    "K, M = listmap((int, input().split()))\n",
    "\n",
    "candidates = []\n",
    "\n",
    "for _ in range(K):\n",
    "    List = input().split()[1:]\n",
    "    List = list(map(lambda x:x**2, List))\n",
    "    candidates.append(List)\n",
    "\n",
    "totals = []\n",
    "for a, * in candidates:\n",
    "    sums.append(a + *)\n",
    "mods = [total % M for total in totals]\n",
    "Max = max(mods)\n",
    "\n",
    "print(Max)"
   ]
  },
  {
   "cell_type": "code",
   "execution_count": 30,
   "id": "55a45242",
   "metadata": {},
   "outputs": [
    {
     "data": {
      "text/plain": [
       "7"
      ]
     },
     "execution_count": 30,
     "metadata": {},
     "output_type": "execute_result"
    }
   ],
   "source": [
    "max([3, 7])"
   ]
  },
  {
   "cell_type": "code",
   "execution_count": 23,
   "id": "f43b4fa4",
   "metadata": {},
   "outputs": [
    {
     "data": {
      "text/plain": [
       "<itertools.combinations at 0x18c00718ae0>"
      ]
     },
     "execution_count": 23,
     "metadata": {},
     "output_type": "execute_result"
    }
   ],
   "source": [
    "itertools.combinations([[3, 4, 5], [5, 6, 7], [1, 1, 1]], 3)"
   ]
  },
  {
   "cell_type": "code",
   "execution_count": 26,
   "id": "f5ba0bed",
   "metadata": {},
   "outputs": [
    {
     "data": {
      "text/plain": [
       "[([3, 4, 5], [5, 6, 7]), ([3, 4, 5], [1, 1, 1]), ([5, 6, 7], [1, 1, 1])]"
      ]
     },
     "execution_count": 26,
     "metadata": {},
     "output_type": "execute_result"
    }
   ],
   "source": [
    "list(itertools.combinations([[3, 4, 5], [5, 6, 7], [1, 1, 1]], 2))"
   ]
  },
  {
   "cell_type": "code",
   "execution_count": 27,
   "id": "a2b4c2b0",
   "metadata": {},
   "outputs": [],
   "source": [
    "import collections\n",
    "d = collections.defaultdict(list)"
   ]
  },
  {
   "cell_type": "code",
   "execution_count": 28,
   "id": "fa336b9e",
   "metadata": {},
   "outputs": [
    {
     "data": {
      "text/plain": [
       "[]"
      ]
     },
     "execution_count": 28,
     "metadata": {},
     "output_type": "execute_result"
    }
   ],
   "source": [
    "d['a']"
   ]
  },
  {
   "cell_type": "code",
   "execution_count": 29,
   "id": "e31f3e62",
   "metadata": {},
   "outputs": [
    {
     "data": {
      "text/plain": [
       "defaultdict(list, {'a': []})"
      ]
     },
     "execution_count": 29,
     "metadata": {},
     "output_type": "execute_result"
    }
   ],
   "source": [
    "d"
   ]
  },
  {
   "cell_type": "markdown",
   "id": "672c7263",
   "metadata": {},
   "source": [
    "# 입력 코드 (2)"
   ]
  },
  {
   "cell_type": "code",
   "execution_count": null,
   "id": "14018757",
   "metadata": {},
   "outputs": [],
   "source": [
    "import collections\n",
    "\n",
    "K, M = listmap((int, input().split()))\n",
    "\n",
    "candidates = []\n",
    "\n",
    "for _ in range(K):\n",
    "    List = input().split()[1:]\n",
    "    List = list(map(lambda x:x**2, List))\n",
    "    candidates.append(List)\n",
    "\n",
    "totals = []\n",
    "for (a, *) in candidates:\n",
    "    sums.append(a + *)\n",
    "mods = [total % M for total in totals]\n",
    "Max = max(mods)\n",
    "\n",
    "print(Max)"
   ]
  },
  {
   "cell_type": "markdown",
   "id": "29e3c558",
   "metadata": {},
   "source": [
    "### 아 .. for 구문 불러올 때 구조가 잘못 되었다 \n",
    "> for구문에서 불러오는 건 기본적으로 제일 고차원의 원소다"
   ]
  },
  {
   "cell_type": "markdown",
   "id": "a02dc33c",
   "metadata": {},
   "source": [
    "# 입력 코드 (3)"
   ]
  },
  {
   "cell_type": "code",
   "execution_count": null,
   "id": "2f8a8367",
   "metadata": {},
   "outputs": [],
   "source": [
    "import collections\n",
    "\n",
    "K, M = list(map((int, input().split())))\n",
    "\n",
    "candidates = []\n",
    "\n",
    "for _ in range(K):\n",
    "    List = list(map, int(input().split()))\n",
    "    length, List = List[0], List[1:]\n",
    "    List = list(map(lambda x:x**2, List))\n",
    "    candidates.append([length, List])\n",
    "\n",
    "totals = int()\n",
    "for candidate in range(len(candidates)):\n",
    "    for number in candidate:\n",
    "        totals +=  \n",
    "        \n",
    "        \n",
    "    \n",
    "mods = [total % M for total in totals]\n",
    "Max = max(mods)\n",
    "\n",
    "print(Max)"
   ]
  },
  {
   "cell_type": "code",
   "execution_count": 32,
   "id": "363a41bf",
   "metadata": {},
   "outputs": [
    {
     "data": {
      "text/plain": [
       "[6]"
      ]
     },
     "execution_count": 32,
     "metadata": {},
     "output_type": "execute_result"
    }
   ],
   "source": [
    "import random \n",
    "random.sample([3, 5, 6], 1)"
   ]
  },
  {
   "cell_type": "code",
   "execution_count": 33,
   "id": "eed65706",
   "metadata": {},
   "outputs": [
    {
     "data": {
      "text/plain": [
       "[3]"
      ]
     },
     "execution_count": 33,
     "metadata": {},
     "output_type": "execute_result"
    }
   ],
   "source": [
    "random.sample([3, 5, 6], 1)"
   ]
  },
  {
   "cell_type": "code",
   "execution_count": 34,
   "id": "1ff1f8a8",
   "metadata": {},
   "outputs": [
    {
     "data": {
      "text/plain": [
       "[3]"
      ]
     },
     "execution_count": 34,
     "metadata": {},
     "output_type": "execute_result"
    }
   ],
   "source": [
    "random.sample([3, 5, 6], 1)"
   ]
  },
  {
   "cell_type": "code",
   "execution_count": 35,
   "id": "f0120119",
   "metadata": {},
   "outputs": [
    {
     "data": {
      "text/plain": [
       "[3]"
      ]
     },
     "execution_count": 35,
     "metadata": {},
     "output_type": "execute_result"
    }
   ],
   "source": [
    "random.sample([3, 5, 6], 1)"
   ]
  },
  {
   "cell_type": "code",
   "execution_count": 36,
   "id": "ea5e7748",
   "metadata": {},
   "outputs": [
    {
     "data": {
      "text/plain": [
       "[3]"
      ]
     },
     "execution_count": 36,
     "metadata": {},
     "output_type": "execute_result"
    }
   ],
   "source": [
    "random.sample([3, 5, 6], 1)"
   ]
  },
  {
   "cell_type": "code",
   "execution_count": 37,
   "id": "e326410f",
   "metadata": {},
   "outputs": [
    {
     "data": {
      "text/plain": [
       "[5]"
      ]
     },
     "execution_count": 37,
     "metadata": {},
     "output_type": "execute_result"
    }
   ],
   "source": [
    "random.sample([3, 5, 6], 1)"
   ]
  },
  {
   "cell_type": "code",
   "execution_count": 38,
   "id": "7506cc0e",
   "metadata": {},
   "outputs": [],
   "source": [
    "import itertools"
   ]
  },
  {
   "cell_type": "code",
   "execution_count": 42,
   "id": "c644c078",
   "metadata": {},
   "outputs": [],
   "source": [
    "List = [[3, 6, 7], [3, 3, 3], [1, 1]]"
   ]
  },
  {
   "cell_type": "code",
   "execution_count": 43,
   "id": "8fc4e8ea",
   "metadata": {},
   "outputs": [
    {
     "data": {
      "text/plain": [
       "[(3, 3, 1),\n",
       " (3, 3, 1),\n",
       " (3, 3, 1),\n",
       " (3, 3, 1),\n",
       " (3, 3, 1),\n",
       " (3, 3, 1),\n",
       " (6, 3, 1),\n",
       " (6, 3, 1),\n",
       " (6, 3, 1),\n",
       " (6, 3, 1),\n",
       " (6, 3, 1),\n",
       " (6, 3, 1),\n",
       " (7, 3, 1),\n",
       " (7, 3, 1),\n",
       " (7, 3, 1),\n",
       " (7, 3, 1),\n",
       " (7, 3, 1),\n",
       " (7, 3, 1)]"
      ]
     },
     "execution_count": 43,
     "metadata": {},
     "output_type": "execute_result"
    }
   ],
   "source": [
    "list(itertools.product(*List))"
   ]
  },
  {
   "cell_type": "code",
   "execution_count": 41,
   "id": "67dd74a9",
   "metadata": {},
   "outputs": [
    {
     "ename": "TypeError",
     "evalue": "set expected at most 1 argument, got 3",
     "output_type": "error",
     "traceback": [
      "\u001b[1;31m---------------------------------------------------------------------------\u001b[0m",
      "\u001b[1;31mTypeError\u001b[0m                                 Traceback (most recent call last)",
      "\u001b[1;32mC:\\Users\\AARONC~1\\AppData\\Local\\Temp/ipykernel_35928/2173440723.py\u001b[0m in \u001b[0;36m<module>\u001b[1;34m\u001b[0m\n\u001b[1;32m----> 1\u001b[1;33m \u001b[0mlist\u001b[0m\u001b[1;33m(\u001b[0m\u001b[0mitertools\u001b[0m\u001b[1;33m.\u001b[0m\u001b[0mproduct\u001b[0m\u001b[1;33m(\u001b[0m\u001b[1;33m[\u001b[0m\u001b[1;36m3\u001b[0m\u001b[1;33m,\u001b[0m \u001b[1;36m6\u001b[0m\u001b[1;33m,\u001b[0m \u001b[1;36m7\u001b[0m\u001b[1;33m]\u001b[0m\u001b[1;33m,\u001b[0m \u001b[0mset\u001b[0m\u001b[1;33m(\u001b[0m\u001b[1;36m3\u001b[0m\u001b[1;33m,\u001b[0m \u001b[1;36m3\u001b[0m\u001b[1;33m,\u001b[0m \u001b[1;36m3\u001b[0m\u001b[1;33m)\u001b[0m\u001b[1;33m,\u001b[0m \u001b[1;33m[\u001b[0m\u001b[1;36m1\u001b[0m\u001b[1;33m,\u001b[0m \u001b[1;36m1\u001b[0m\u001b[1;33m]\u001b[0m\u001b[1;33m)\u001b[0m\u001b[1;33m)\u001b[0m\u001b[1;33m\u001b[0m\u001b[1;33m\u001b[0m\u001b[0m\n\u001b[0m",
      "\u001b[1;31mTypeError\u001b[0m: set expected at most 1 argument, got 3"
     ]
    }
   ],
   "source": []
  },
  {
   "cell_type": "markdown",
   "id": "b0728bc5",
   "metadata": {},
   "source": [
    "# 입력 코드 (4)"
   ]
  },
  {
   "cell_type": "code",
   "execution_count": null,
   "id": "08a898ae",
   "metadata": {},
   "outputs": [],
   "source": [
    "import itertools\n",
    "\n",
    "K, M = list(map((int, input().split())))\n",
    "\n",
    "candidates = []\n",
    "\n",
    "for _ in range(K):\n",
    "    List = list(map, int(input().split()))\n",
    "    length, List = List[0], List[1:]\n",
    "    List = list(map(lambda x:x**2, List))\n",
    "    candidates.append([length, set(List)])\n",
    "\n",
    "sums = itertools.product(*candidates)\n",
    "sums = list(map(sum, sums))\n",
    "mods = [Sum % M for Sum in sums]\n",
    "Max = max(mods)\n",
    "\n",
    "print(Max)"
   ]
  },
  {
   "cell_type": "markdown",
   "id": "a6d53c9c",
   "metadata": {},
   "source": [
    "### 괄호 주의 "
   ]
  },
  {
   "cell_type": "code",
   "execution_count": null,
   "id": "495db25d",
   "metadata": {},
   "outputs": [],
   "source": [
    "import itertools\n",
    "\n",
    "K, M = list(map(int, input().split()))\n",
    "\n",
    "candidates = []\n",
    "\n",
    "for _ in range(K):\n",
    "    List = list(map(int(input().split()))\n",
    "    length, List = List[0], List[1:]\n",
    "    List = list(map(lambda x:x**2, List))\n",
    "    candidates.append([length, set(List)])\n",
    "\n",
    "sums = itertools.product(*candidates)\n",
    "sums = list(map(sum, sums))\n",
    "mods = [Sum % M for Sum in sums]\n",
    "Max = max(mods)\n",
    "\n",
    "print(Max)"
   ]
  },
  {
   "cell_type": "markdown",
   "id": "259a55b1",
   "metadata": {},
   "source": [
    "### 입력 코드 (5)"
   ]
  },
  {
   "cell_type": "code",
   "execution_count": null,
   "id": "55ca571d",
   "metadata": {},
   "outputs": [],
   "source": [
    "import itertools\n",
    "\n",
    "K, M = list(map(int, input().split()))\n",
    "\n",
    "candidates = []\n",
    "\n",
    "for _ in range(K):\n",
    "    List = list(map(int, input().split()))[1:]\n",
    "    List = list(map(lambda x:x**2, List))\n",
    "    candidates.append(set(List))\n",
    "\n",
    "sums = itertools.product(*candidates)\n",
    "sums = list(map(sum, sums))\n",
    "mods = [Sum % M for Sum in sums]\n",
    "Max = max(mods)\n",
    "\n",
    "print(Max)"
   ]
  },
  {
   "cell_type": "code",
   "execution_count": null,
   "id": "1e105609",
   "metadata": {},
   "outputs": [],
   "source": [
    "### 예시답안 \n",
    "from itertools import product\n",
    "\n",
    "K, M = map(int, input().split())\n",
    "A = [None]*K\n",
    "B = [None]*K\n",
    "\n",
    "for x in range(K):\n",
    "    A[x], B[x] = input().split(' ', 1)\n",
    "    B[x] = list(map(int, B[x].split()))\n",
    "SQ = [[v**2 for v in B[x]] for x in range(K)]\n",
    "MT = max((sum(x) % M for x in product(*SQ)), default = 0)\n",
    "print(MT)"
   ]
  },
  {
   "cell_type": "code",
   "execution_count": null,
   "id": "01a1f9bb",
   "metadata": {},
   "outputs": [],
   "source": [
    "### 예시답안 \n",
    "from itertools import product \n",
    "\n",
    "K, M = map(int, input().split())\n",
    "N = (list(map(int, input().split()))[1:] for _ in range(K))\n",
    "results = map(lambda x: sum(i**2 for i in x)%M, product(*N))\n",
    "print(max(results))"
   ]
  },
  {
   "cell_type": "code",
   "execution_count": null,
   "id": "f6b8e9ac",
   "metadata": {},
   "outputs": [],
   "source": [
    "k, m = map(int, input().split(' '))\n",
    "arrays = [map(int, input().split()[1:]) for _ in range(k)]\n",
    "\n",
    "def f(*nums):\n",
    "    return sum(x*x for x in nums) % m\n",
    "\n",
    "print(max(itertools.starmap(f, itertools.product(*arrays))))\n",
    "\n"
   ]
  }
 ],
 "metadata": {
  "kernelspec": {
   "display_name": "Python 3 (ipykernel)",
   "language": "python",
   "name": "python3"
  },
  "language_info": {
   "codemirror_mode": {
    "name": "ipython",
    "version": 3
   },
   "file_extension": ".py",
   "mimetype": "text/x-python",
   "name": "python",
   "nbconvert_exporter": "python",
   "pygments_lexer": "ipython3",
   "version": "3.9.7"
  }
 },
 "nbformat": 4,
 "nbformat_minor": 5
}
