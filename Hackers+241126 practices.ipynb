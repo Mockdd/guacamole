{
 "cells": [
  {
   "cell_type": "markdown",
   "id": "193a0f74",
   "metadata": {},
   "source": [
    "- HTML Parser part1"
   ]
  },
  {
   "cell_type": "code",
   "execution_count": null,
   "id": "987b6180",
   "metadata": {},
   "outputs": [],
   "source": [
    "from html.parser import HTMLParser\n",
    "class MyHTMLParser(HTMLParser):\n",
    "    def handle_starttag(self, tag, attrs):\n",
    "        print('Start'.ljust(5), ':', tag)\n",
    "        if len(attrs) != 0:\n",
    "            for attr in attrs:\n",
    "                print(' '.join(['->', str(attr[0]), '>', str(attr[1])]))\n",
    "    def handle_endtag(self, tag):\n",
    "        print('End'.ljust(5), ':', tag)\n",
    "    def handle_startendtag(self, tag, attrs):\n",
    "        print('Empty'.ljust(5), ':', tag)\n",
    "        \n",
    "\n",
    "        \n",
    "parser = MyHTMLParser()\n",
    "\n",
    "N = int(input())\n",
    "string = ''\n",
    "\n",
    "for _ in range(N):\n",
    "    string += str(input())\n",
    "    \n",
    "import re\n",
    "string = re.sub('<!--.+?-->', '', string)\n",
    "\n",
    "parser.feed(string)\n"
   ]
  },
  {
   "cell_type": "markdown",
   "id": "1c68469f",
   "metadata": {},
   "source": [
    "## 1차 시도"
   ]
  },
  {
   "cell_type": "code",
   "execution_count": null,
   "id": "3e671d0c",
   "metadata": {},
   "outputs": [],
   "source": [
    "\n",
    "from html.parser import HTMLParser\n",
    "class MyHTMLParser(HTMLParser):\n",
    "    def handle_starttag(self, tag, attrs):\n",
    "        print('Start'.ljust(5), ':', tag)\n",
    "        if len(attrs) != 0:\n",
    "            for attr in attrs:\n",
    "                print(' '.join(['->', str(attr[0]), '>', str(attr[1])]))\n",
    "    def handle_endtag(self, tag):\n",
    "        print('End'.ljust(5), ':', tag)\n",
    "    def handle_startendtag(self, tag, attrs):\n",
    "        print('Empty'.ljust(5), ':', tag)\n",
    "        if len(attrs) != 0:\n",
    "            for attr in attrs:\n",
    "                print(' '.join(['->', str(attr[0]), '>', str(attr[1])]))\n",
    "                \n",
    "\n",
    "        \n",
    "parser = MyHTMLParser()\n",
    "\n",
    "N = int(input())\n",
    "string = ''\n",
    "\n",
    "for _ in range(N):\n",
    "    string += str(input())\n",
    "    \n",
    "import re\n",
    "string = re.sub('<!--.+?-->', '', string)\n",
    "\n",
    "parser.feed(string)\n"
   ]
  },
  {
   "cell_type": "markdown",
   "id": "e944401c",
   "metadata": {},
   "source": [
    "- HTML Parser part2"
   ]
  },
  {
   "cell_type": "markdown",
   "id": "b82d187b",
   "metadata": {},
   "source": [
    "## 1차 시도 "
   ]
  },
  {
   "cell_type": "code",
   "execution_count": null,
   "id": "26029e62",
   "metadata": {},
   "outputs": [],
   "source": [
    "from html.parser import HTMLParser\n",
    "\n",
    "class MyHTMLParser(HTMLParser):\n",
    "    def handle_comment(self, data):\n",
    "        if '\\n' in data:\n",
    "            print('>>> Multi-line Comment'.ljust(5), ':\\n', data)\n",
    "        else:\n",
    "            print('>>> Single-line Comment'.ljust(5), ':\\n', data)\n",
    "    def handle_data(self, data):\n",
    "        if data != '\\n':\n",
    "            print('>>> Data'.ljust(5), ':\\n', data)\n",
    "\n",
    "html = ''\n",
    "for i in range(int(input())):\n",
    "    html += input().rstrip()\n",
    "    html += '\\n'\n",
    "    \n",
    "parser = MyHTMLParser()\n",
    "parser.feed(html)\n",
    "parser.close()\n"
   ]
  },
  {
   "cell_type": "markdown",
   "id": "e4d26922",
   "metadata": {},
   "source": [
    "## 2차 시도 "
   ]
  },
  {
   "cell_type": "code",
   "execution_count": null,
   "id": "4f7b49c3",
   "metadata": {},
   "outputs": [],
   "source": [
    "from html.parser import HTMLParser\n",
    "\n",
    "class MyHTMLParser(HTMLParser):\n",
    "    def handle_comment(self, data):\n",
    "        if '\\n' in data:\n",
    "            print('>>> Multi-line Comment\\n', data)\n",
    "        else:\n",
    "            print('>>> Single-line Comment\\n', data)\n",
    "    def handle_data(self, data):\n",
    "        if data != '\\n':\n",
    "            print('>>> Data\\n', data)\n",
    "\n",
    "html = ''\n",
    "for i in range(int(input())):\n",
    "    html += input().rstrip()\n",
    "    html += '\\n'\n",
    "    \n",
    "parser = MyHTMLParser()\n",
    "parser.feed(html)\n",
    "parser.close()\n"
   ]
  },
  {
   "cell_type": "markdown",
   "id": "27e06d83",
   "metadata": {},
   "source": [
    "## 3차 시도 \n"
   ]
  },
  {
   "cell_type": "code",
   "execution_count": null,
   "id": "ccb4cbbd",
   "metadata": {},
   "outputs": [],
   "source": [
    "from html.parser import HTMLParser\n",
    "\n",
    "class MyHTMLParser(HTMLParser):\n",
    "    def handle_comment(self, data):\n",
    "        if '\\n' in data:\n",
    "            print('>>> Multi-line Comment\\n' + data)\n",
    "        else:\n",
    "            print('>>> Single-line Comment\\n' + data)\n",
    "    def handle_data(self, data):\n",
    "        if data != '\\n':\n",
    "            print('>>> Data\\n', data)\n",
    "\n",
    "html = ''\n",
    "for i in range(int(input())):\n",
    "    html += input().rstrip()\n",
    "    html += '\\n'\n",
    "    \n",
    "parser = MyHTMLParser()\n",
    "parser.feed(html)\n",
    "parser.close()\n"
   ]
  },
  {
   "cell_type": "markdown",
   "id": "aad440c1",
   "metadata": {},
   "source": [
    "## 4차 시도 "
   ]
  },
  {
   "cell_type": "code",
   "execution_count": null,
   "id": "8e8f489b",
   "metadata": {},
   "outputs": [],
   "source": [
    "from html.parser import HTMLParser\n",
    "\n",
    "class MyHTMLParser(HTMLParser):\n",
    "    def handle_comment(self, data):\n",
    "        if '\\n' in data:\n",
    "            print('>>> Multi-line Comment')\n",
    "        else:\n",
    "            print('>>> Single-line Comment')\n",
    "        print(data)\n",
    "    def handle_data(self, data):\n",
    "        if data != '\\n':\n",
    "            print('>>> Data')\n",
    "            print(data)\n",
    "\n",
    "html = ''\n",
    "for i in range(int(input())):\n",
    "    html += input().rstrip()\n",
    "    html += '\\n'\n",
    "    \n",
    "parser = MyHTMLParser()\n",
    "parser.feed(html)\n",
    "parser.close()"
   ]
  }
 ],
 "metadata": {
  "kernelspec": {
   "display_name": "Python 3 (ipykernel)",
   "language": "python",
   "name": "python3"
  },
  "language_info": {
   "codemirror_mode": {
    "name": "ipython",
    "version": 3
   },
   "file_extension": ".py",
   "mimetype": "text/x-python",
   "name": "python",
   "nbconvert_exporter": "python",
   "pygments_lexer": "ipython3",
   "version": "3.9.7"
  }
 },
 "nbformat": 4,
 "nbformat_minor": 5
}
