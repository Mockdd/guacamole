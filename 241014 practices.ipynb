{
 "cells": [
  {
   "cell_type": "markdown",
   "id": "e9b776e8",
   "metadata": {},
   "source": [
    "- compress the string!"
   ]
  },
  {
   "cell_type": "code",
   "execution_count": 110,
   "id": "0b2182ab",
   "metadata": {},
   "outputs": [],
   "source": [
    "import itertools"
   ]
  },
  {
   "cell_type": "code",
   "execution_count": 111,
   "id": "c15b61d9",
   "metadata": {},
   "outputs": [],
   "source": [
    "iterator1 = itertools.groupby([1, 2, 3, 3, 3, 2, 2, 2])\n",
    "iterator2 = itertools.groupby('ABBCCC')"
   ]
  },
  {
   "cell_type": "code",
   "execution_count": 112,
   "id": "78d0eb66",
   "metadata": {},
   "outputs": [
    {
     "ename": "TypeError",
     "evalue": "'list' object is not callable",
     "output_type": "error",
     "traceback": [
      "\u001b[1;31m---------------------------------------------------------------------------\u001b[0m",
      "\u001b[1;31mTypeError\u001b[0m                                 Traceback (most recent call last)",
      "\u001b[1;32mC:\\Users\\AARONC~1\\AppData\\Local\\Temp/ipykernel_25376/1044404870.py\u001b[0m in \u001b[0;36m<module>\u001b[1;34m\u001b[0m\n\u001b[0;32m      1\u001b[0m \u001b[1;32mfor\u001b[0m \u001b[0mkey\u001b[0m\u001b[1;33m,\u001b[0m \u001b[0mgroup\u001b[0m \u001b[1;32min\u001b[0m \u001b[0miterator1\u001b[0m\u001b[1;33m:\u001b[0m\u001b[1;33m\u001b[0m\u001b[1;33m\u001b[0m\u001b[0m\n\u001b[1;32m----> 2\u001b[1;33m     \u001b[0mprint\u001b[0m\u001b[1;33m(\u001b[0m\u001b[0mkey\u001b[0m\u001b[1;33m,\u001b[0m \u001b[0mlist\u001b[0m\u001b[1;33m(\u001b[0m\u001b[0mgroup\u001b[0m\u001b[1;33m)\u001b[0m\u001b[1;33m)\u001b[0m\u001b[1;33m\u001b[0m\u001b[1;33m\u001b[0m\u001b[0m\n\u001b[0m",
      "\u001b[1;31mTypeError\u001b[0m: 'list' object is not callable"
     ]
    }
   ],
   "source": [
    "for key, group in iterator1:\n",
    "    print(key, list(group))"
   ]
  },
  {
   "cell_type": "code",
   "execution_count": 113,
   "id": "dd5b85a5",
   "metadata": {},
   "outputs": [
    {
     "ename": "TypeError",
     "evalue": "'list' object is not callable",
     "output_type": "error",
     "traceback": [
      "\u001b[1;31m---------------------------------------------------------------------------\u001b[0m",
      "\u001b[1;31mTypeError\u001b[0m                                 Traceback (most recent call last)",
      "\u001b[1;32mC:\\Users\\AARONC~1\\AppData\\Local\\Temp/ipykernel_25376/3082738365.py\u001b[0m in \u001b[0;36m<module>\u001b[1;34m\u001b[0m\n\u001b[1;32m----> 1\u001b[1;33m \u001b[0mlist\u001b[0m\u001b[1;33m(\u001b[0m\u001b[0miterator1\u001b[0m\u001b[1;33m)\u001b[0m\u001b[1;33m\u001b[0m\u001b[1;33m\u001b[0m\u001b[0m\n\u001b[0m",
      "\u001b[1;31mTypeError\u001b[0m: 'list' object is not callable"
     ]
    }
   ],
   "source": [
    "list(iterator1)"
   ]
  },
  {
   "cell_type": "code",
   "execution_count": 114,
   "id": "b075258d",
   "metadata": {},
   "outputs": [
    {
     "data": {
      "text/plain": [
       "<itertools.groupby at 0x2a6f0e82f90>"
      ]
     },
     "execution_count": 114,
     "metadata": {},
     "output_type": "execute_result"
    }
   ],
   "source": [
    "iterator1"
   ]
  },
  {
   "cell_type": "code",
   "execution_count": 115,
   "id": "b51fc3b3",
   "metadata": {},
   "outputs": [
    {
     "ename": "TypeError",
     "evalue": "'list' object is not callable",
     "output_type": "error",
     "traceback": [
      "\u001b[1;31m---------------------------------------------------------------------------\u001b[0m",
      "\u001b[1;31mTypeError\u001b[0m                                 Traceback (most recent call last)",
      "\u001b[1;32mC:\\Users\\AARONC~1\\AppData\\Local\\Temp/ipykernel_25376/2802500194.py\u001b[0m in \u001b[0;36m<module>\u001b[1;34m\u001b[0m\n\u001b[0;32m      1\u001b[0m \u001b[1;32mfor\u001b[0m \u001b[0mkey\u001b[0m\u001b[1;33m,\u001b[0m \u001b[0mgroup\u001b[0m \u001b[1;32min\u001b[0m \u001b[0miterator1\u001b[0m\u001b[1;33m:\u001b[0m\u001b[1;33m\u001b[0m\u001b[1;33m\u001b[0m\u001b[0m\n\u001b[1;32m----> 2\u001b[1;33m     \u001b[0mprint\u001b[0m\u001b[1;33m(\u001b[0m\u001b[0mlist\u001b[0m\u001b[1;33m(\u001b[0m\u001b[0mkey\u001b[0m\u001b[1;33m)\u001b[0m\u001b[1;33m,\u001b[0m \u001b[0mlist\u001b[0m\u001b[1;33m(\u001b[0m\u001b[0mgroup\u001b[0m\u001b[1;33m)\u001b[0m\u001b[1;33m)\u001b[0m\u001b[1;33m\u001b[0m\u001b[1;33m\u001b[0m\u001b[0m\n\u001b[0m",
      "\u001b[1;31mTypeError\u001b[0m: 'list' object is not callable"
     ]
    }
   ],
   "source": [
    "for key, group in iterator1:\n",
    "    print(list(key), list(group))"
   ]
  },
  {
   "cell_type": "code",
   "execution_count": 116,
   "id": "2179790e",
   "metadata": {},
   "outputs": [
    {
     "data": {
      "text/plain": [
       "<itertools.groupby at 0x2a6f105e270>"
      ]
     },
     "execution_count": 116,
     "metadata": {},
     "output_type": "execute_result"
    }
   ],
   "source": [
    "itertools.groupby('abcdes')"
   ]
  },
  {
   "cell_type": "code",
   "execution_count": 8,
   "id": "f7948eb6",
   "metadata": {},
   "outputs": [],
   "source": [
    "for key, group in iterator1:\n",
    "    print(key, ':', list(group))"
   ]
  },
  {
   "cell_type": "code",
   "execution_count": 9,
   "id": "a500e4d5",
   "metadata": {},
   "outputs": [],
   "source": [
    "for _ in iterator1:\n",
    "    print(list(_))"
   ]
  },
  {
   "cell_type": "code",
   "execution_count": null,
   "id": "c83cf30d",
   "metadata": {},
   "outputs": [],
   "source": [
    "groups = []\n",
    "uniquekeys = []\n",
    "data = sorted(data, key = keyfunc)\n",
    "for k, g in groupby(data, keyfunc):\n",
    "    groups.append(list(g))\n",
    "    uniquekeys.append(k)\n",
    "    "
   ]
  },
  {
   "cell_type": "code",
   "execution_count": 120,
   "id": "19665212",
   "metadata": {},
   "outputs": [],
   "source": [
    "data = [('a', 1), ('a', 2), ('b', 3), ('b', 4), ('a', 5)]"
   ]
  },
  {
   "cell_type": "code",
   "execution_count": 14,
   "id": "93b9f58e",
   "metadata": {},
   "outputs": [
    {
     "ename": "AttributeError",
     "evalue": "'list' object has no attribute 'sorted'",
     "output_type": "error",
     "traceback": [
      "\u001b[1;31m---------------------------------------------------------------------------\u001b[0m",
      "\u001b[1;31mAttributeError\u001b[0m                            Traceback (most recent call last)",
      "\u001b[1;32mC:\\Users\\AARONC~1\\AppData\\Local\\Temp/ipykernel_25376/1034885333.py\u001b[0m in \u001b[0;36m<module>\u001b[1;34m\u001b[0m\n\u001b[1;32m----> 1\u001b[1;33m \u001b[0mdata\u001b[0m\u001b[1;33m.\u001b[0m\u001b[0msorted\u001b[0m\u001b[1;33m(\u001b[0m\u001b[1;33m)\u001b[0m\u001b[1;33m\u001b[0m\u001b[1;33m\u001b[0m\u001b[0m\n\u001b[0m",
      "\u001b[1;31mAttributeError\u001b[0m: 'list' object has no attribute 'sorted'"
     ]
    }
   ],
   "source": [
    "data.sorted()"
   ]
  },
  {
   "cell_type": "code",
   "execution_count": 15,
   "id": "66a63cde",
   "metadata": {},
   "outputs": [],
   "source": [
    "data.sort()"
   ]
  },
  {
   "cell_type": "code",
   "execution_count": 16,
   "id": "ddaebe0c",
   "metadata": {},
   "outputs": [
    {
     "data": {
      "text/plain": [
       "[('a', 1), ('a', 2), ('a', 5), ('b', 3), ('b', 4)]"
      ]
     },
     "execution_count": 16,
     "metadata": {},
     "output_type": "execute_result"
    }
   ],
   "source": [
    "data"
   ]
  },
  {
   "cell_type": "code",
   "execution_count": 121,
   "id": "7af2ca0b",
   "metadata": {},
   "outputs": [],
   "source": [
    "grouped = itertools.groupby(data, key = lambda x: x[0])"
   ]
  },
  {
   "cell_type": "code",
   "execution_count": 122,
   "id": "4421384a",
   "metadata": {},
   "outputs": [
    {
     "name": "stdout",
     "output_type": "stream",
     "text": [
      "Key: a\n",
      "Group:\n"
     ]
    },
    {
     "ename": "TypeError",
     "evalue": "'list' object is not callable",
     "output_type": "error",
     "traceback": [
      "\u001b[1;31m---------------------------------------------------------------------------\u001b[0m",
      "\u001b[1;31mTypeError\u001b[0m                                 Traceback (most recent call last)",
      "\u001b[1;32mC:\\Users\\AARONC~1\\AppData\\Local\\Temp/ipykernel_25376/2500601045.py\u001b[0m in \u001b[0;36m<module>\u001b[1;34m\u001b[0m\n\u001b[0;32m      3\u001b[0m     \u001b[0mprint\u001b[0m\u001b[1;33m(\u001b[0m\u001b[1;34m'Group:'\u001b[0m\u001b[1;33m)\u001b[0m\u001b[1;33m\u001b[0m\u001b[1;33m\u001b[0m\u001b[0m\n\u001b[0;32m      4\u001b[0m     \u001b[1;32mfor\u001b[0m \u001b[0mitem\u001b[0m \u001b[1;32min\u001b[0m \u001b[0mgroup\u001b[0m\u001b[1;33m:\u001b[0m\u001b[1;33m\u001b[0m\u001b[1;33m\u001b[0m\u001b[0m\n\u001b[1;32m----> 5\u001b[1;33m         \u001b[0mprint\u001b[0m\u001b[1;33m(\u001b[0m\u001b[0mlist\u001b[0m\u001b[1;33m(\u001b[0m\u001b[0mgroup\u001b[0m\u001b[1;33m)\u001b[0m\u001b[1;33m)\u001b[0m\u001b[1;33m\u001b[0m\u001b[1;33m\u001b[0m\u001b[0m\n\u001b[0m",
      "\u001b[1;31mTypeError\u001b[0m: 'list' object is not callable"
     ]
    }
   ],
   "source": [
    "for key, group in grouped:\n",
    "    print(f'Key: {key}')\n",
    "    print('Group:')\n",
    "    for item in group:\n",
    "        print(list(group))"
   ]
  },
  {
   "cell_type": "code",
   "execution_count": 20,
   "id": "44c1b45a",
   "metadata": {},
   "outputs": [],
   "source": [
    "for key, group in grouped:\n",
    "    print(f'Key: {key}')\n",
    "    print('Group:')\n",
    "    for item in group:\n",
    "        print(item)"
   ]
  },
  {
   "cell_type": "code",
   "execution_count": 21,
   "id": "efb1d20d",
   "metadata": {},
   "outputs": [],
   "source": [
    "for key, group in grouped:\n",
    "    print(f'Key: {key}')\n",
    "    print(f'Group:{list(group)}')"
   ]
  },
  {
   "cell_type": "code",
   "execution_count": 22,
   "id": "d78d6404",
   "metadata": {},
   "outputs": [],
   "source": [
    "for key, group in grouped:\n",
    "    print(f'Key: {key}')\n",
    "    list_group = list(group)\n",
    "    print(f'Group:{list_group}')"
   ]
  },
  {
   "cell_type": "code",
   "execution_count": 47,
   "id": "2e826201",
   "metadata": {},
   "outputs": [],
   "source": [
    "string = '33334441234'"
   ]
  },
  {
   "cell_type": "code",
   "execution_count": 48,
   "id": "e443dd9a",
   "metadata": {},
   "outputs": [],
   "source": [
    "string = map(int, list(string))"
   ]
  },
  {
   "cell_type": "code",
   "execution_count": 49,
   "id": "e9566591",
   "metadata": {},
   "outputs": [
    {
     "data": {
      "text/plain": [
       "<map at 0x2a6f0f56e50>"
      ]
     },
     "execution_count": 49,
     "metadata": {},
     "output_type": "execute_result"
    }
   ],
   "source": [
    "string"
   ]
  },
  {
   "cell_type": "code",
   "execution_count": null,
   "id": "6704d225",
   "metadata": {},
   "outputs": [],
   "source": []
  },
  {
   "cell_type": "code",
   "execution_count": 50,
   "id": "ed822bbc",
   "metadata": {},
   "outputs": [],
   "source": [
    "grouped = itertools.groupby(string)"
   ]
  },
  {
   "cell_type": "code",
   "execution_count": 51,
   "id": "ac4ef001",
   "metadata": {},
   "outputs": [],
   "source": [
    "grouped = [(len(list(group)), key) for key, group in grouped]"
   ]
  },
  {
   "cell_type": "code",
   "execution_count": 52,
   "id": "3966d1c0",
   "metadata": {},
   "outputs": [
    {
     "data": {
      "text/plain": [
       "[(4, 3), (3, 4), (1, 1), (1, 2), (1, 3), (1, 4)]"
      ]
     },
     "execution_count": 52,
     "metadata": {},
     "output_type": "execute_result"
    }
   ],
   "source": [
    "grouped"
   ]
  },
  {
   "cell_type": "code",
   "execution_count": 44,
   "id": "4d924bff",
   "metadata": {},
   "outputs": [],
   "source": [
    "grouped = ' '.join(map(str, grouped))"
   ]
  },
  {
   "cell_type": "code",
   "execution_count": 45,
   "id": "fbb1cc3f",
   "metadata": {},
   "outputs": [
    {
     "data": {
      "text/plain": [
       "\"(4, '3') (3, '4') (1, '1') (1, '2') (1, '3') (1, '4')\""
      ]
     },
     "execution_count": 45,
     "metadata": {},
     "output_type": "execute_result"
    }
   ],
   "source": [
    "grouped"
   ]
  },
  {
   "cell_type": "code",
   "execution_count": 46,
   "id": "5cf3d982",
   "metadata": {},
   "outputs": [
    {
     "name": "stdout",
     "output_type": "stream",
     "text": [
      "(4, '3') (3, '4') (1, '1') (1, '2') (1, '3') (1, '4')\n"
     ]
    }
   ],
   "source": [
    "print(grouped)"
   ]
  },
  {
   "cell_type": "code",
   "execution_count": null,
   "id": "168965ce",
   "metadata": {},
   "outputs": [],
   "source": [
    "import itertools \n",
    "\n",
    "string = map(int, list(input()))\n",
    "grouped = itertools.groupby(string)\n",
    "grouped = [(len(list(group)), key) for key, group in grouped]\n",
    "grouped = ' '.join(map(str, grouped))\n",
    "\n",
    "print(grouped)"
   ]
  },
  {
   "cell_type": "code",
   "execution_count": null,
   "id": "47e7e962",
   "metadata": {},
   "outputs": [],
   "source": [
    "### 예시답안\n",
    "from itertools import groupby\n",
    "for k, g in groupby(input()):\n",
    "    print('({}, {})'.format(len(list(g)), k), end = ' ')"
   ]
  },
  {
   "cell_type": "markdown",
   "id": "9d14b853",
   "metadata": {},
   "source": [
    "- re.findall & re.finditer"
   ]
  },
  {
   "cell_type": "code",
   "execution_count": null,
   "id": "499866a0",
   "metadata": {},
   "outputs": [],
   "source": [
    "import re\n",
    "string = str(input())\n",
    "\n",
    "target_strings = re.finditer('[^aeiou]([aeiou]{2,})[^aeiou]', string)\n",
    "target_strings = list(map(lambda x: x.group(), target_strings))\n",
    "print(*target_strings, sep = '\\n')"
   ]
  },
  {
   "cell_type": "code",
   "execution_count": 53,
   "id": "fce11167",
   "metadata": {},
   "outputs": [],
   "source": [
    "import re"
   ]
  },
  {
   "cell_type": "code",
   "execution_count": 54,
   "id": "69db80db",
   "metadata": {},
   "outputs": [
    {
     "ename": "AttributeError",
     "evalue": "'callable_iterator' object has no attribute 'group'",
     "output_type": "error",
     "traceback": [
      "\u001b[1;31m---------------------------------------------------------------------------\u001b[0m",
      "\u001b[1;31mAttributeError\u001b[0m                            Traceback (most recent call last)",
      "\u001b[1;32mC:\\Users\\AARONC~1\\AppData\\Local\\Temp/ipykernel_25376/1380008899.py\u001b[0m in \u001b[0;36m<module>\u001b[1;34m\u001b[0m\n\u001b[1;32m----> 1\u001b[1;33m \u001b[0mre\u001b[0m\u001b[1;33m.\u001b[0m\u001b[0mfinditer\u001b[0m\u001b[1;33m(\u001b[0m\u001b[1;34m'[^aeiou]([aeiou]{2,})[^aeiou]'\u001b[0m\u001b[1;33m,\u001b[0m \u001b[1;34m'caaaddeifooouggg'\u001b[0m\u001b[1;33m)\u001b[0m\u001b[1;33m.\u001b[0m\u001b[0mgroup\u001b[0m\u001b[1;33m(\u001b[0m\u001b[1;33m)\u001b[0m\u001b[1;33m\u001b[0m\u001b[1;33m\u001b[0m\u001b[0m\n\u001b[0m",
      "\u001b[1;31mAttributeError\u001b[0m: 'callable_iterator' object has no attribute 'group'"
     ]
    }
   ],
   "source": [
    "re.finditer('[^aeiou]([aeiou]{2,})[^aeiou]', 'caaaddeifooouggg').group()"
   ]
  },
  {
   "cell_type": "code",
   "execution_count": 55,
   "id": "facb9c08",
   "metadata": {},
   "outputs": [
    {
     "data": {
      "text/plain": [
       "<callable_iterator at 0x2a6f0f569a0>"
      ]
     },
     "execution_count": 55,
     "metadata": {},
     "output_type": "execute_result"
    }
   ],
   "source": [
    "re.finditer('[^aeiou]([aeiou]{2,})[^aeiou]', 'caaaddeifooouggg')"
   ]
  },
  {
   "cell_type": "code",
   "execution_count": 61,
   "id": "d87460da",
   "metadata": {
    "scrolled": false
   },
   "outputs": [
    {
     "name": "stdout",
     "output_type": "stream",
     "text": [
      "aaa\n",
      "ei\n",
      "ooou\n"
     ]
    }
   ],
   "source": [
    "for _ in re.finditer('(?<=[^aeiou])[aeiou]{2,}(?=[^aeiou])', 'caaaddeifooouggg'):\n",
    "    print(_.group())"
   ]
  },
  {
   "cell_type": "markdown",
   "id": "ee7f1147",
   "metadata": {},
   "source": [
    "# 입력 코드 (1)"
   ]
  },
  {
   "cell_type": "code",
   "execution_count": null,
   "id": "899132ca",
   "metadata": {},
   "outputs": [],
   "source": [
    "import re\n",
    "string = str(input())\n",
    "\n",
    "target_strings = re.finditer('(?<=[^aeiou])[aeiou]{2,}(?=[^aeiou])', string)\n",
    "target_strings = list(map(lambda x: x.group(), target_strings))\n",
    "print(*target_strings, sep = '\\n')"
   ]
  },
  {
   "cell_type": "markdown",
   "id": "cccbc662",
   "metadata": {},
   "source": [
    "# 입력코드 (2)"
   ]
  },
  {
   "cell_type": "code",
   "execution_count": null,
   "id": "295e5663",
   "metadata": {},
   "outputs": [],
   "source": [
    "import re\n",
    "string = str(input())\n",
    "\n",
    "target_strings = re.finditer('(?<=[^aeiou])[aeiou]{2,}(?=[^aeiou])', string, re.IGNORECASE)\n",
    "target_strings = list(map(lambda x: x.group(), target_strings))\n",
    "print(*target_strings, sep = '\\n')"
   ]
  },
  {
   "cell_type": "markdown",
   "id": "fac8e1b7",
   "metadata": {},
   "source": [
    "# 입력코드 (3)"
   ]
  },
  {
   "cell_type": "code",
   "execution_count": null,
   "id": "9b03ee5c",
   "metadata": {},
   "outputs": [],
   "source": [
    "import re\n",
    "string = str(input())\n",
    "if re.finditer('(?<=[^aeiou])[aeiou]{2,}(?=[^aeiou])', string, re.IGNORECASE):\n",
    "    target_strings = re.finditer('(?<=[^aeiou])[aeiou]{2,}(?=[^aeiou])', string, re.IGNORECASE)\n",
    "    target_strings = list(map(lambda x: x.group(), target_strings))\n",
    "    print(*target_strings, sep = '\\n')\n",
    "else:\n",
    "    print(-1)"
   ]
  },
  {
   "cell_type": "code",
   "execution_count": null,
   "id": "eafefb37",
   "metadata": {},
   "outputs": [],
   "source": [
    "### 예시답안 \n",
    "v = 'aeiou'\n",
    "c = 'qwrtypsdghjklzxcvbnm'\n",
    "m = re.findall(r'(?<=[%s])([%s]{2,})[%s]'%(c, v, c), input(), flag s = re.I)\n",
    "print('\\n'.join(m or ['-1']))"
   ]
  },
  {
   "cell_type": "markdown",
   "id": "7b287e78",
   "metadata": {},
   "source": [
    "# 입력코드 (4)"
   ]
  },
  {
   "cell_type": "code",
   "execution_count": 63,
   "id": "e72107e2",
   "metadata": {},
   "outputs": [
    {
     "data": {
      "text/plain": [
       "<callable_iterator at 0x2a6f0f56220>"
      ]
     },
     "execution_count": 63,
     "metadata": {},
     "output_type": "execute_result"
    }
   ],
   "source": [
    "re.finditer('(?<=[^aeiou])[aeiou]{2,}(?=[^aeiou])', 'gggggedipszo', re.IGNORECASE)"
   ]
  },
  {
   "cell_type": "code",
   "execution_count": 64,
   "id": "2c562ce2",
   "metadata": {
    "scrolled": true
   },
   "outputs": [
    {
     "ename": "AttributeError",
     "evalue": "'callable_iterator' object has no attribute 'group'",
     "output_type": "error",
     "traceback": [
      "\u001b[1;31m---------------------------------------------------------------------------\u001b[0m",
      "\u001b[1;31mAttributeError\u001b[0m                            Traceback (most recent call last)",
      "\u001b[1;32mC:\\Users\\AARONC~1\\AppData\\Local\\Temp/ipykernel_25376/88876917.py\u001b[0m in \u001b[0;36m<module>\u001b[1;34m\u001b[0m\n\u001b[1;32m----> 1\u001b[1;33m \u001b[0mre\u001b[0m\u001b[1;33m.\u001b[0m\u001b[0mfinditer\u001b[0m\u001b[1;33m(\u001b[0m\u001b[1;34m'(?<=[^aeiou])[aeiou]{2,}(?=[^aeiou])'\u001b[0m\u001b[1;33m,\u001b[0m \u001b[1;34m'gggggedipszo'\u001b[0m\u001b[1;33m,\u001b[0m \u001b[0mre\u001b[0m\u001b[1;33m.\u001b[0m\u001b[0mIGNORECASE\u001b[0m\u001b[1;33m)\u001b[0m\u001b[1;33m.\u001b[0m\u001b[0mgroup\u001b[0m\u001b[1;33m(\u001b[0m\u001b[1;33m)\u001b[0m\u001b[1;33m\u001b[0m\u001b[1;33m\u001b[0m\u001b[0m\n\u001b[0m",
      "\u001b[1;31mAttributeError\u001b[0m: 'callable_iterator' object has no attribute 'group'"
     ]
    }
   ],
   "source": [
    "re.finditer('(?<=[^aeiou])[aeiou]{2,}(?=[^aeiou])', 'gggggedipszo', re.IGNORECASE).group()"
   ]
  },
  {
   "cell_type": "code",
   "execution_count": 77,
   "id": "d9929d21",
   "metadata": {},
   "outputs": [],
   "source": [
    "target = re.finditer('(?<=[^aeiou])[aeiou]{2,}(?=[^aeiou])', 'match a single character not present in the list', re.IGNORECASE)"
   ]
  },
  {
   "cell_type": "code",
   "execution_count": 78,
   "id": "066f202d",
   "metadata": {},
   "outputs": [],
   "source": [
    "for _ in target:\n",
    "    print(_.group())"
   ]
  },
  {
   "cell_type": "code",
   "execution_count": 68,
   "id": "6bcf080e",
   "metadata": {},
   "outputs": [
    {
     "ename": "SyntaxError",
     "evalue": "unexpected EOF while parsing (Temp/ipykernel_25376/3000104456.py, line 9)",
     "output_type": "error",
     "traceback": [
      "\u001b[1;36m  File \u001b[1;32m\"C:\\Users\\AARONC~1\\AppData\\Local\\Temp/ipykernel_25376/3000104456.py\"\u001b[1;36m, line \u001b[1;32m9\u001b[0m\n\u001b[1;33m    print(-1)\u001b[0m\n\u001b[1;37m             ^\u001b[0m\n\u001b[1;31mSyntaxError\u001b[0m\u001b[1;31m:\u001b[0m unexpected EOF while parsing\n"
     ]
    }
   ],
   "source": [
    "import re\n",
    "string = str(input())\n",
    "if (_.group() for _ in re.finditer('(?<=[^aeiou])[aeiou]{2,}(?=[^aeiou])', string, re.IGNORECASE)):\n",
    "    target_strings = re.finditer('(?<=[^aeiou])[aeiou]{2,}(?=[^aeiou])', string, re.IGNORECASE)\n",
    "    target_strings = list(map(lambda x: x.group(), target_strings))\n",
    "    print(*target_strings, sep = '\\n')\n",
    "else:\n",
    "    print(-1)"
   ]
  },
  {
   "cell_type": "code",
   "execution_count": 79,
   "id": "6874fa04",
   "metadata": {},
   "outputs": [
    {
     "name": "stdout",
     "output_type": "stream",
     "text": [
      "ooou\n"
     ]
    }
   ],
   "source": [
    "if (_.group() for _ in target):\n",
    "    print(_.group())"
   ]
  },
  {
   "cell_type": "code",
   "execution_count": 84,
   "id": "c206a3fb",
   "metadata": {},
   "outputs": [],
   "source": [
    "test = re.finditer('\\s', 'fdsa')"
   ]
  },
  {
   "cell_type": "code",
   "execution_count": 82,
   "id": "83a9b0f4",
   "metadata": {},
   "outputs": [],
   "source": [
    "for _ in test:\n",
    "    print(_.group())"
   ]
  },
  {
   "cell_type": "code",
   "execution_count": 85,
   "id": "777e4d73",
   "metadata": {},
   "outputs": [],
   "source": [
    "for _ in test:\n",
    "    print(_.group()==None)"
   ]
  },
  {
   "cell_type": "code",
   "execution_count": 86,
   "id": "fd46fe8d",
   "metadata": {},
   "outputs": [],
   "source": [
    "for _ in test:\n",
    "    print(_)"
   ]
  },
  {
   "cell_type": "code",
   "execution_count": 87,
   "id": "3f7118ae",
   "metadata": {},
   "outputs": [
    {
     "data": {
      "text/plain": [
       "<callable_iterator at 0x2a6f0f561c0>"
      ]
     },
     "execution_count": 87,
     "metadata": {},
     "output_type": "execute_result"
    }
   ],
   "source": [
    "test"
   ]
  },
  {
   "cell_type": "code",
   "execution_count": 88,
   "id": "9e15dbc4",
   "metadata": {},
   "outputs": [
    {
     "data": {
      "text/plain": [
       "[]"
      ]
     },
     "execution_count": 88,
     "metadata": {},
     "output_type": "execute_result"
    }
   ],
   "source": [
    "list(test)"
   ]
  },
  {
   "cell_type": "code",
   "execution_count": 89,
   "id": "6ebccc26",
   "metadata": {},
   "outputs": [],
   "source": [
    "test = re.finditer('\\s', ' ')"
   ]
  },
  {
   "cell_type": "code",
   "execution_count": 90,
   "id": "4f6be1d6",
   "metadata": {},
   "outputs": [
    {
     "data": {
      "text/plain": [
       "[<re.Match object; span=(0, 1), match=' '>]"
      ]
     },
     "execution_count": 90,
     "metadata": {},
     "output_type": "execute_result"
    }
   ],
   "source": [
    "list(test)"
   ]
  },
  {
   "cell_type": "markdown",
   "id": "f144dfc5",
   "metadata": {},
   "source": [
    "# 입력코드 (5)"
   ]
  },
  {
   "cell_type": "code",
   "execution_count": null,
   "id": "f0c96d9c",
   "metadata": {},
   "outputs": [],
   "source": [
    "import re\n",
    "string = str(input())\n",
    "if len(list(re.finditer('(?<=[^aeiou])[aeiou]{2,}(?=[^aeiou])', \n",
    "                        string, re.IGNORECASE))) != 0:\n",
    "    target_strings = re.finditer('(?<=[^aeiou])[aeiou]{2,}(?=[^aeiou])', string, re.IGNORECASE)\n",
    "    target_strings = list(map(lambda x: x.group(), target_strings))\n",
    "    print(*target_strings, sep = '\\n')\n",
    "else:\n",
    "    print(-1)"
   ]
  },
  {
   "cell_type": "markdown",
   "id": "3391e09a",
   "metadata": {},
   "source": [
    "- re.split()"
   ]
  },
  {
   "cell_type": "code",
   "execution_count": null,
   "id": "984e05ef",
   "metadata": {},
   "outputs": [],
   "source": [
    "regex_pattern = r'[\\\\.\\\\,]'"
   ]
  },
  {
   "cell_type": "markdown",
   "id": "f3dac797",
   "metadata": {},
   "source": [
    "- .group() .groups() .groupdict()"
   ]
  },
  {
   "cell_type": "code",
   "execution_count": 91,
   "id": "0597834e",
   "metadata": {},
   "outputs": [
    {
     "name": "stdout",
     "output_type": "stream",
     "text": [
      "False\n"
     ]
    }
   ],
   "source": [
    "if re.search('[\\w]{2,}', '...'):\n",
    "    print(True)\n",
    "else:\n",
    "    print(False)"
   ]
  },
  {
   "cell_type": "code",
   "execution_count": 92,
   "id": "ed8401d0",
   "metadata": {},
   "outputs": [
    {
     "ename": "AttributeError",
     "evalue": "'NoneType' object has no attribute 'group'",
     "output_type": "error",
     "traceback": [
      "\u001b[1;31m---------------------------------------------------------------------------\u001b[0m",
      "\u001b[1;31mAttributeError\u001b[0m                            Traceback (most recent call last)",
      "\u001b[1;32mC:\\Users\\AARONC~1\\AppData\\Local\\Temp/ipykernel_25376/2875530366.py\u001b[0m in \u001b[0;36m<module>\u001b[1;34m\u001b[0m\n\u001b[1;32m----> 1\u001b[1;33m \u001b[1;32mif\u001b[0m \u001b[0mre\u001b[0m\u001b[1;33m.\u001b[0m\u001b[0msearch\u001b[0m\u001b[1;33m(\u001b[0m\u001b[1;34m'[\\w]{2,}'\u001b[0m\u001b[1;33m,\u001b[0m \u001b[1;34m'...'\u001b[0m\u001b[1;33m)\u001b[0m\u001b[1;33m.\u001b[0m\u001b[0mgroup\u001b[0m\u001b[1;33m(\u001b[0m\u001b[1;33m)\u001b[0m\u001b[1;33m:\u001b[0m\u001b[1;33m\u001b[0m\u001b[1;33m\u001b[0m\u001b[0m\n\u001b[0m\u001b[0;32m      2\u001b[0m     \u001b[0mprint\u001b[0m\u001b[1;33m(\u001b[0m\u001b[1;32mTrue\u001b[0m\u001b[1;33m)\u001b[0m\u001b[1;33m\u001b[0m\u001b[1;33m\u001b[0m\u001b[0m\n\u001b[0;32m      3\u001b[0m \u001b[1;32melse\u001b[0m\u001b[1;33m:\u001b[0m\u001b[1;33m\u001b[0m\u001b[1;33m\u001b[0m\u001b[0m\n\u001b[0;32m      4\u001b[0m     \u001b[0mprint\u001b[0m\u001b[1;33m(\u001b[0m\u001b[1;32mFalse\u001b[0m\u001b[1;33m)\u001b[0m\u001b[1;33m\u001b[0m\u001b[1;33m\u001b[0m\u001b[0m\n",
      "\u001b[1;31mAttributeError\u001b[0m: 'NoneType' object has no attribute 'group'"
     ]
    }
   ],
   "source": [
    "if re.search('[\\w]{2,}', '...').group():\n",
    "    print(True)\n",
    "else:\n",
    "    print(False)"
   ]
  },
  {
   "cell_type": "markdown",
   "id": "afa484bc",
   "metadata": {},
   "source": [
    "# 입력코드 (1)"
   ]
  },
  {
   "cell_type": "code",
   "execution_count": null,
   "id": "ced22680",
   "metadata": {},
   "outputs": [],
   "source": [
    "import re\n",
    "string = str(input())\n",
    "\n",
    "try:\n",
    "    target = re.search('([\\w]){2,}', string).group()\n",
    "    print(target)\n",
    "except Exception:\n",
    "    print(-1)"
   ]
  },
  {
   "cell_type": "markdown",
   "id": "af0e3345",
   "metadata": {},
   "source": [
    "# 입력코드 (2)\n"
   ]
  },
  {
   "cell_type": "code",
   "execution_count": null,
   "id": "8a361bea",
   "metadata": {},
   "outputs": [],
   "source": [
    "string = str(input())\n",
    "\n",
    "for _ in range((len(string)-1)):\n",
    "    try: \n",
    "        string[_] == string[(_+1)]\n",
    "        print(string[_])\n",
    "    except Exception:\n",
    "        print(-1)\n"
   ]
  },
  {
   "cell_type": "code",
   "execution_count": null,
   "id": "bd219e81",
   "metadata": {},
   "outputs": [],
   "source": [
    "string = str(input())\n",
    "\n",
    "for _ in range((len(string)-1)):\n",
    "    try: \n",
    "        if string[_] == string[(_+1)]:\n",
    "            print(string[_])\n",
    "    except Exception:\n",
    "        print(-1)\n"
   ]
  },
  {
   "cell_type": "markdown",
   "id": "67af5631",
   "metadata": {},
   "source": [
    "# 입력코드 (3)"
   ]
  },
  {
   "cell_type": "code",
   "execution_count": null,
   "id": "7ae55a0b",
   "metadata": {},
   "outputs": [],
   "source": [
    "string = str(input())\n",
    "\n",
    "for _ in range((len(string)-1)):\n",
    "    try: \n",
    "        if string[_] == string[(_+1)]:\n",
    "            print(string[_])\n",
    "            break\n",
    "    except Exception:\n",
    "        print(-1)"
   ]
  },
  {
   "cell_type": "markdown",
   "id": "d8c54e4c",
   "metadata": {},
   "source": [
    "# 입력코드 (4)"
   ]
  },
  {
   "cell_type": "code",
   "execution_count": null,
   "id": "fc1fdd61",
   "metadata": {},
   "outputs": [],
   "source": [
    "string = str(input())\n",
    "targets = [string[_] for _ in range(len(string)-1) if string[_] == string[(_+1)]]\n",
    "try:\n",
    "    print(targets[0])\n",
    "except Exception:\n",
    "    print(-1)"
   ]
  },
  {
   "cell_type": "code",
   "execution_count": 93,
   "id": "fff769c0",
   "metadata": {},
   "outputs": [],
   "source": [
    "list = []"
   ]
  },
  {
   "cell_type": "code",
   "execution_count": 94,
   "id": "ff4d4914",
   "metadata": {
    "scrolled": true
   },
   "outputs": [
    {
     "ename": "IndexError",
     "evalue": "list index out of range",
     "output_type": "error",
     "traceback": [
      "\u001b[1;31m---------------------------------------------------------------------------\u001b[0m",
      "\u001b[1;31mIndexError\u001b[0m                                Traceback (most recent call last)",
      "\u001b[1;32mC:\\Users\\AARONC~1\\AppData\\Local\\Temp/ipykernel_25376/573708796.py\u001b[0m in \u001b[0;36m<module>\u001b[1;34m\u001b[0m\n\u001b[1;32m----> 1\u001b[1;33m \u001b[0mlist\u001b[0m\u001b[1;33m[\u001b[0m\u001b[1;36m0\u001b[0m\u001b[1;33m]\u001b[0m\u001b[1;33m\u001b[0m\u001b[1;33m\u001b[0m\u001b[0m\n\u001b[0m",
      "\u001b[1;31mIndexError\u001b[0m: list index out of range"
     ]
    }
   ],
   "source": [
    "list[0]"
   ]
  },
  {
   "cell_type": "code",
   "execution_count": 95,
   "id": "c3bde0fc",
   "metadata": {
    "scrolled": true
   },
   "outputs": [
    {
     "name": "stdout",
     "output_type": "stream",
     "text": [
      "__commit__\n",
      "__commit__\n"
     ]
    }
   ],
   "source": [
    "print(str(input()))"
   ]
  },
  {
   "cell_type": "code",
   "execution_count": 96,
   "id": "f30e886c",
   "metadata": {},
   "outputs": [
    {
     "name": "stdout",
     "output_type": "stream",
     "text": [
      "_\n"
     ]
    }
   ],
   "source": [
    "string = '__commit__'\n",
    "targets = [string[_] for _ in range(len(string)-1) if string[_] == string[(_+1)]]\n",
    "try:\n",
    "    print(targets[0])\n",
    "except Exception:\n",
    "    print(-1)"
   ]
  },
  {
   "cell_type": "code",
   "execution_count": null,
   "id": "bf9eed54",
   "metadata": {},
   "outputs": [],
   "source": [
    "string = re.search(([\\w]){2,}).group()\n",
    "targets = [string[_] for _ in range(len(string)-1) if string[_] == string[(_+1)]]\n",
    "try:\n",
    "    print(targets[0])\n",
    "except Exception:\n",
    "    print(-1)"
   ]
  },
  {
   "cell_type": "markdown",
   "id": "df78441b",
   "metadata": {},
   "source": [
    "# 입력코드 (5)"
   ]
  },
  {
   "cell_type": "code",
   "execution_count": null,
   "id": "0dc4ae75",
   "metadata": {},
   "outputs": [],
   "source": [
    "string = re.search('([\\w]){2,}', input()).group()\n",
    "targets = [string[_] for _ in range(len(string)-1) if string[_] == string[(_+1)]]\n",
    "try:\n",
    "    print(targets[0])\n",
    "except Exception:\n",
    "    print(-1)"
   ]
  },
  {
   "cell_type": "markdown",
   "id": "80078d27",
   "metadata": {},
   "source": [
    "# 입력코드 (6) > this worsk "
   ]
  },
  {
   "cell_type": "code",
   "execution_count": null,
   "id": "5e4db309",
   "metadata": {},
   "outputs": [],
   "source": [
    "string = re.search('([A-Za-z0-9]){2,}', input()).group()\n",
    "targets = [string[_] for _ in range(len(string)-1) if string[_] == string[(_+1)]]\n",
    "try:\n",
    "    print(targets[0])\n",
    "except Exception:\n",
    "    print(-1)"
   ]
  },
  {
   "cell_type": "markdown",
   "id": "38c6eaed",
   "metadata": {},
   "source": [
    "# 입력코드 (7)"
   ]
  },
  {
   "cell_type": "code",
   "execution_count": null,
   "id": "3541c0ae",
   "metadata": {},
   "outputs": [],
   "source": [
    "import itertools\n",
    "string = str(input())\n",
    "grouped = itertools.groupby(string)\n",
    "grouped = [key for key, group in grouped if len(list(group)) >= 2]\n",
    "\n",
    "try:\n",
    "    print(grouped[0])\n",
    "except Exception:\n",
    "    print(-1)"
   ]
  },
  {
   "cell_type": "markdown",
   "id": "22a93973",
   "metadata": {},
   "source": [
    "# 입력코드 (8)"
   ]
  },
  {
   "cell_type": "code",
   "execution_count": null,
   "id": "8e5e8e54",
   "metadata": {},
   "outputs": [],
   "source": [
    "import itertools, re\n",
    "\n",
    "string = str(input())\n",
    "grouped = itertools.groupby(string)\n",
    "grouped = [re.search('([A-Za-z0-9])', key).group() for key, group in grouped if len(list(group)) >= 2]\n",
    "\n",
    "try:\n",
    "    print(grouped[0])\n",
    "except Exception:\n",
    "    print(-1)"
   ]
  },
  {
   "cell_type": "code",
   "execution_count": 97,
   "id": "d42d002d",
   "metadata": {},
   "outputs": [
    {
     "ename": "AttributeError",
     "evalue": "'NoneType' object has no attribute 'group'",
     "output_type": "error",
     "traceback": [
      "\u001b[1;31m---------------------------------------------------------------------------\u001b[0m",
      "\u001b[1;31mAttributeError\u001b[0m                            Traceback (most recent call last)",
      "\u001b[1;32mC:\\Users\\AARONC~1\\AppData\\Local\\Temp/ipykernel_25376/1509626621.py\u001b[0m in \u001b[0;36m<module>\u001b[1;34m\u001b[0m\n\u001b[1;32m----> 1\u001b[1;33m \u001b[0mre\u001b[0m\u001b[1;33m.\u001b[0m\u001b[0msearch\u001b[0m\u001b[1;33m(\u001b[0m\u001b[1;34m'([A-Za-z0-9])'\u001b[0m\u001b[1;33m,\u001b[0m \u001b[1;34m'_'\u001b[0m\u001b[1;33m)\u001b[0m\u001b[1;33m.\u001b[0m\u001b[0mgroup\u001b[0m\u001b[1;33m(\u001b[0m\u001b[1;33m)\u001b[0m\u001b[1;33m\u001b[0m\u001b[1;33m\u001b[0m\u001b[0m\n\u001b[0m",
      "\u001b[1;31mAttributeError\u001b[0m: 'NoneType' object has no attribute 'group'"
     ]
    }
   ],
   "source": [
    "re.search('([A-Za-z0-9])', '_').group()"
   ]
  },
  {
   "cell_type": "code",
   "execution_count": null,
   "id": "52890e9c",
   "metadata": {},
   "outputs": [],
   "source": [
    "import itertools, re\n",
    "\n",
    "string = str(input())\n",
    "grouped = itertools.groupby(string)\n",
    "\n",
    "try:\n",
    "    grouped = [re.search('([A-Za-z0-9])', key).group() for key, group in grouped if len(list(group)) >= 2]\n",
    "    print(grouped[0])\n",
    "except Exception:\n",
    "    print(-1)"
   ]
  },
  {
   "cell_type": "code",
   "execution_count": 98,
   "id": "48a40166",
   "metadata": {},
   "outputs": [],
   "source": [
    "import itertools"
   ]
  },
  {
   "cell_type": "code",
   "execution_count": 102,
   "id": "502471bd",
   "metadata": {},
   "outputs": [],
   "source": [
    "target = itertools.groupby('abcddde')"
   ]
  },
  {
   "cell_type": "code",
   "execution_count": 103,
   "id": "4f4ddf62",
   "metadata": {},
   "outputs": [
    {
     "ename": "TypeError",
     "evalue": "'list' object is not callable",
     "output_type": "error",
     "traceback": [
      "\u001b[1;31m---------------------------------------------------------------------------\u001b[0m",
      "\u001b[1;31mTypeError\u001b[0m                                 Traceback (most recent call last)",
      "\u001b[1;32mC:\\Users\\AARONC~1\\AppData\\Local\\Temp/ipykernel_25376/3205110767.py\u001b[0m in \u001b[0;36m<module>\u001b[1;34m\u001b[0m\n\u001b[1;32m----> 1\u001b[1;33m \u001b[1;33m[\u001b[0m\u001b[0mkey\u001b[0m \u001b[1;32mfor\u001b[0m \u001b[0mkey\u001b[0m\u001b[1;33m,\u001b[0m \u001b[0mgroup\u001b[0m \u001b[1;32min\u001b[0m \u001b[0mtarget\u001b[0m \u001b[1;32mif\u001b[0m \u001b[0mlen\u001b[0m\u001b[1;33m(\u001b[0m\u001b[0mlist\u001b[0m\u001b[1;33m(\u001b[0m\u001b[0mgroup\u001b[0m\u001b[1;33m)\u001b[0m\u001b[1;33m)\u001b[0m \u001b[1;33m>=\u001b[0m \u001b[1;36m2\u001b[0m\u001b[1;33m]\u001b[0m\u001b[1;33m\u001b[0m\u001b[1;33m\u001b[0m\u001b[0m\n\u001b[0m",
      "\u001b[1;32mC:\\Users\\AARONC~1\\AppData\\Local\\Temp/ipykernel_25376/3205110767.py\u001b[0m in \u001b[0;36m<listcomp>\u001b[1;34m(.0)\u001b[0m\n\u001b[1;32m----> 1\u001b[1;33m \u001b[1;33m[\u001b[0m\u001b[0mkey\u001b[0m \u001b[1;32mfor\u001b[0m \u001b[0mkey\u001b[0m\u001b[1;33m,\u001b[0m \u001b[0mgroup\u001b[0m \u001b[1;32min\u001b[0m \u001b[0mtarget\u001b[0m \u001b[1;32mif\u001b[0m \u001b[0mlen\u001b[0m\u001b[1;33m(\u001b[0m\u001b[0mlist\u001b[0m\u001b[1;33m(\u001b[0m\u001b[0mgroup\u001b[0m\u001b[1;33m)\u001b[0m\u001b[1;33m)\u001b[0m \u001b[1;33m>=\u001b[0m \u001b[1;36m2\u001b[0m\u001b[1;33m]\u001b[0m\u001b[1;33m\u001b[0m\u001b[1;33m\u001b[0m\u001b[0m\n\u001b[0m",
      "\u001b[1;31mTypeError\u001b[0m: 'list' object is not callable"
     ]
    }
   ],
   "source": [
    "[key for key, group in target if len(list(group)) >= 2]"
   ]
  },
  {
   "cell_type": "code",
   "execution_count": 105,
   "id": "8465b12e",
   "metadata": {},
   "outputs": [
    {
     "ename": "TypeError",
     "evalue": "'list' object is not callable",
     "output_type": "error",
     "traceback": [
      "\u001b[1;31m---------------------------------------------------------------------------\u001b[0m",
      "\u001b[1;31mTypeError\u001b[0m                                 Traceback (most recent call last)",
      "\u001b[1;32mC:\\Users\\AARONC~1\\AppData\\Local\\Temp/ipykernel_25376/571488978.py\u001b[0m in \u001b[0;36m<module>\u001b[1;34m\u001b[0m\n\u001b[0;32m      1\u001b[0m \u001b[1;32mfor\u001b[0m \u001b[0m_\u001b[0m\u001b[1;33m,\u001b[0m \u001b[0mgroup\u001b[0m \u001b[1;32min\u001b[0m \u001b[0mtarget\u001b[0m\u001b[1;33m:\u001b[0m\u001b[1;33m\u001b[0m\u001b[1;33m\u001b[0m\u001b[0m\n\u001b[1;32m----> 2\u001b[1;33m     \u001b[0mprint\u001b[0m\u001b[1;33m(\u001b[0m\u001b[0mlen\u001b[0m\u001b[1;33m(\u001b[0m\u001b[0mlist\u001b[0m\u001b[1;33m(\u001b[0m\u001b[0mgroup\u001b[0m\u001b[1;33m)\u001b[0m\u001b[1;33m)\u001b[0m\u001b[1;33m)\u001b[0m\u001b[1;33m\u001b[0m\u001b[1;33m\u001b[0m\u001b[0m\n\u001b[0m",
      "\u001b[1;31mTypeError\u001b[0m: 'list' object is not callable"
     ]
    }
   ],
   "source": [
    "for _, group in target:\n",
    "    print(len(list(group)))"
   ]
  },
  {
   "cell_type": "code",
   "execution_count": 107,
   "id": "a64ca879",
   "metadata": {},
   "outputs": [
    {
     "name": "stdout",
     "output_type": "stream",
     "text": [
      "a <itertools._grouper object at 0x000002A6F0F56520>\n",
      "c <itertools._grouper object at 0x000002A6F0F56400>\n",
      "d <itertools._grouper object at 0x000002A6F0F56940>\n",
      "e <itertools._grouper object at 0x000002A6F0E92B20>\n",
      "_ <itertools._grouper object at 0x000002A6F0E926D0>\n",
      "d <itertools._grouper object at 0x000002A6F0E92EB0>\n"
     ]
    }
   ],
   "source": [
    "for key, group in itertools.groupby('acde___dd'):\n",
    "    print(key, group)"
   ]
  },
  {
   "cell_type": "code",
   "execution_count": 123,
   "id": "3da9cd69",
   "metadata": {
    "scrolled": true
   },
   "outputs": [
    {
     "name": "stdout",
     "output_type": "stream",
     "text": [
      "a a\n",
      "c c\n",
      "d d\n",
      "e e\n",
      "_ _ _ _\n",
      "d d d\n"
     ]
    }
   ],
   "source": [
    "for key, group in itertools.groupby('acde___dd'):\n",
    "    print(key, *group)"
   ]
  },
  {
   "cell_type": "code",
   "execution_count": 125,
   "id": "7d561f59",
   "metadata": {},
   "outputs": [
    {
     "name": "stdout",
     "output_type": "stream",
     "text": [
      "a 1\n",
      "c 1\n",
      "d 1\n",
      "e 1\n",
      "_ 3\n",
      "d 2\n"
     ]
    }
   ],
   "source": [
    "for key, group in itertools.groupby('acde___dd'):\n",
    "    print(key, len([*group]))"
   ]
  },
  {
   "cell_type": "markdown",
   "id": "76c45c80",
   "metadata": {},
   "source": [
    "# 입력코드 (9) > well this works"
   ]
  },
  {
   "cell_type": "code",
   "execution_count": null,
   "id": "84326ced",
   "metadata": {},
   "outputs": [],
   "source": [
    "import itertools, re\n",
    "\n",
    "string = str(input())\n",
    "\n",
    "try:\n",
    "    string = re.search('([A-Za-z0-9]){2,}', string).group()\n",
    "    grouped = itertools.groupby(string)\n",
    "    grouped = [key for key, group in grouped \n",
    "               if len([*group]) >= 2]\n",
    "    print(grouped[0])\n",
    "except Exception:\n",
    "    print(-1)"
   ]
  },
  {
   "cell_type": "code",
   "execution_count": null,
   "id": "a27a9f7e",
   "metadata": {},
   "outputs": [],
   "source": [
    "### 예시답안 \n",
    "import re\n",
    "m = re.sarch(r'(a-zA-Z0-9])\\1+', input().strip())\n",
    "print(m.group(1) if m else -1)"
   ]
  },
  {
   "cell_type": "code",
   "execution_count": 128,
   "id": "c78865cd",
   "metadata": {},
   "outputs": [
    {
     "data": {
      "text/plain": [
       "'s'"
      ]
     },
     "execution_count": 128,
     "metadata": {},
     "output_type": "execute_result"
    }
   ],
   "source": [
    "re.search('([\\w]){2,}', 'abcddses').group(1)"
   ]
  },
  {
   "cell_type": "code",
   "execution_count": 131,
   "id": "d3957513",
   "metadata": {},
   "outputs": [
    {
     "data": {
      "text/plain": [
       "'abcddses'"
      ]
     },
     "execution_count": 131,
     "metadata": {},
     "output_type": "execute_result"
    }
   ],
   "source": [
    "re.search('([\\w]){2,}', 'abcddses').group()"
   ]
  },
  {
   "cell_type": "code",
   "execution_count": 132,
   "id": "05c57959",
   "metadata": {},
   "outputs": [
    {
     "ename": "IndexError",
     "evalue": "no such group",
     "output_type": "error",
     "traceback": [
      "\u001b[1;31m---------------------------------------------------------------------------\u001b[0m",
      "\u001b[1;31mIndexError\u001b[0m                                Traceback (most recent call last)",
      "\u001b[1;32mC:\\Users\\AARONC~1\\AppData\\Local\\Temp/ipykernel_25376/470621874.py\u001b[0m in \u001b[0;36m<module>\u001b[1;34m\u001b[0m\n\u001b[1;32m----> 1\u001b[1;33m \u001b[0mre\u001b[0m\u001b[1;33m.\u001b[0m\u001b[0msearch\u001b[0m\u001b[1;33m(\u001b[0m\u001b[1;34m'([\\w]){2,}'\u001b[0m\u001b[1;33m,\u001b[0m \u001b[1;34m'abcddssssees'\u001b[0m\u001b[1;33m)\u001b[0m\u001b[1;33m.\u001b[0m\u001b[0mgroup\u001b[0m\u001b[1;33m(\u001b[0m\u001b[1;36m1\u001b[0m\u001b[1;33m,\u001b[0m \u001b[1;36m2\u001b[0m\u001b[1;33m,\u001b[0m \u001b[1;36m3\u001b[0m\u001b[1;33m)\u001b[0m\u001b[1;33m\u001b[0m\u001b[1;33m\u001b[0m\u001b[0m\n\u001b[0m",
      "\u001b[1;31mIndexError\u001b[0m: no such group"
     ]
    }
   ],
   "source": [
    "re.search('([\\w]){2,}', 'abcddssssees').group(1, 2, 3)"
   ]
  },
  {
   "cell_type": "code",
   "execution_count": null,
   "id": "440c1e06",
   "metadata": {},
   "outputs": [],
   "source": []
  }
 ],
 "metadata": {
  "kernelspec": {
   "display_name": "Python 3 (ipykernel)",
   "language": "python",
   "name": "python3"
  },
  "language_info": {
   "codemirror_mode": {
    "name": "ipython",
    "version": 3
   },
   "file_extension": ".py",
   "mimetype": "text/x-python",
   "name": "python",
   "nbconvert_exporter": "python",
   "pygments_lexer": "ipython3",
   "version": "3.9.7"
  }
 },
 "nbformat": 4,
 "nbformat_minor": 5
}
