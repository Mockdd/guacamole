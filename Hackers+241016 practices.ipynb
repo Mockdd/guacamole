{
 "cells": [
  {
   "cell_type": "markdown",
   "id": "b0bf239e",
   "metadata": {},
   "source": [
    "- set.discard() remove() & pop()"
   ]
  },
  {
   "cell_type": "markdown",
   "id": "a044d65b",
   "metadata": {},
   "source": [
    "# 입력코드 (1)"
   ]
  },
  {
   "cell_type": "code",
   "execution_count": null,
   "id": "121faa8c",
   "metadata": {},
   "outputs": [],
   "source": [
    "n = int(input())\n",
    "s = set(map(int, input().split()))\n",
    "N = int(input())\n",
    "\n",
    "for _ in range(N):\n",
    "    command, *key = map(str, input().split())\n",
    "    getattr(s, command)(*key)\n",
    "\n",
    "result = sum(s)\n",
    "print(result)"
   ]
  },
  {
   "cell_type": "markdown",
   "id": "d83c4451",
   "metadata": {},
   "source": [
    "# 입력코드 (2)"
   ]
  },
  {
   "cell_type": "code",
   "execution_count": null,
   "id": "d4ae6896",
   "metadata": {},
   "outputs": [],
   "source": [
    "n = int(input())\n",
    "s = set(map(int, input().split()))\n",
    "N = int(input())\n",
    "\n",
    "for _ in range(N):\n",
    "    command, *key = input().split()\n",
    "    getattr(s, command)(int(*key))\n",
    "\n",
    "result = sum(s)\n",
    "print(result)"
   ]
  },
  {
   "cell_type": "markdown",
   "id": "30cfe378",
   "metadata": {},
   "source": [
    "# 입력코드 (3)"
   ]
  },
  {
   "cell_type": "code",
   "execution_count": null,
   "id": "bd44d37d",
   "metadata": {},
   "outputs": [],
   "source": [
    "n = int(input())\n",
    "s = set(map(int, input().split()))\n",
    "N = int(input())\n",
    "\n",
    "for _ in range(N):\n",
    "    command, *key = input().split()\n",
    "    getattr(s, command)(*key)\n",
    "\n",
    "result = sum(s)\n",
    "print(result)"
   ]
  },
  {
   "cell_type": "markdown",
   "id": "48f43b1f",
   "metadata": {},
   "source": [
    "# 입력코드 (4)"
   ]
  },
  {
   "cell_type": "code",
   "execution_count": null,
   "id": "2a164807",
   "metadata": {},
   "outputs": [],
   "source": [
    "n = int(input())\n",
    "s = set(map(int, input().split()))\n",
    "N = int(input())\n",
    "\n",
    "for _ in range(N):\n",
    "    command, *key = map(int, input().split())\n",
    "    getattr(s, str(command))(*key)\n",
    "\n",
    "result = sum(s)\n",
    "print(result)"
   ]
  },
  {
   "cell_type": "markdown",
   "id": "ee66adf5",
   "metadata": {},
   "source": [
    "# 입력코드 (5)"
   ]
  },
  {
   "cell_type": "code",
   "execution_count": null,
   "id": "4a61c694",
   "metadata": {},
   "outputs": [],
   "source": [
    "n = int(input())\n",
    "s = set(map(int, input().split()))\n",
    "N = int(input())\n",
    "\n",
    "for _ in range(N):\n",
    "    command, *key = map(int, input().split())\n",
    "    getattr(s, str(command))(*key)\n",
    "\n",
    "result = sum(s)\n",
    "print(result)"
   ]
  },
  {
   "cell_type": "code",
   "execution_count": 5,
   "id": "2da176c7",
   "metadata": {
    "scrolled": true
   },
   "outputs": [
    {
     "data": {
      "text/plain": [
       "4"
      ]
     },
     "execution_count": 5,
     "metadata": {},
     "output_type": "execute_result"
    }
   ],
   "source": [
    "getattr([1, 2, 3, 4], 'pop')(3)"
   ]
  },
  {
   "cell_type": "code",
   "execution_count": 3,
   "id": "808d8d82",
   "metadata": {},
   "outputs": [
    {
     "ename": "NameError",
     "evalue": "name 'append' is not defined",
     "output_type": "error",
     "traceback": [
      "\u001b[1;31m---------------------------------------------------------------------------\u001b[0m",
      "\u001b[1;31mNameError\u001b[0m                                 Traceback (most recent call last)",
      "\u001b[1;32mC:\\Users\\AARONC~1\\AppData\\Local\\Temp/ipykernel_19736/2126517451.py\u001b[0m in \u001b[0;36m<module>\u001b[1;34m\u001b[0m\n\u001b[1;32m----> 1\u001b[1;33m \u001b[0mgetattr\u001b[0m\u001b[1;33m(\u001b[0m\u001b[0mappend\u001b[0m\u001b[1;33m,\u001b[0m \u001b[1;33m[\u001b[0m\u001b[1;36m1\u001b[0m\u001b[1;33m,\u001b[0m\u001b[1;36m2\u001b[0m\u001b[1;33m,\u001b[0m \u001b[1;36m3\u001b[0m\u001b[1;33m,\u001b[0m \u001b[1;36m4\u001b[0m\u001b[1;33m]\u001b[0m\u001b[1;33m)\u001b[0m\u001b[1;33m(\u001b[0m\u001b[1;36m3\u001b[0m\u001b[1;33m)\u001b[0m\u001b[1;33m\u001b[0m\u001b[1;33m\u001b[0m\u001b[0m\n\u001b[0m",
      "\u001b[1;31mNameError\u001b[0m: name 'append' is not defined"
     ]
    }
   ],
   "source": [
    "getattr(append, [1,2, 3, 4])(3)"
   ]
  },
  {
   "cell_type": "markdown",
   "id": "65b0a825",
   "metadata": {},
   "source": [
    "# 입력코드 (6)"
   ]
  },
  {
   "cell_type": "code",
   "execution_count": null,
   "id": "707ba504",
   "metadata": {},
   "outputs": [],
   "source": [
    "n = int(input())\n",
    "s = set(map(int, input().split()))\n",
    "N = int(input())\n",
    "\n",
    "for _ in range(N):\n",
    "    try:\n",
    "        command, *key = map(int, input().split())\n",
    "        getattr(s, command)(int(*key))\n",
    "    except Exception:\n",
    "        command = input()\n",
    "        getattr(s, command)()\n",
    "\n",
    "result = sum(s)\n",
    "print(result)"
   ]
  },
  {
   "cell_type": "markdown",
   "id": "566f9d52",
   "metadata": {},
   "source": [
    "# 입력코드 (7)"
   ]
  },
  {
   "cell_type": "code",
   "execution_count": null,
   "id": "00327984",
   "metadata": {},
   "outputs": [],
   "source": [
    "n = int(input())\n",
    "s = set(map(int, input().split()))\n",
    "N = int(input())\n",
    "\n",
    "for _ in range(N):\n",
    "    try:\n",
    "        command, *key = input().split()\n",
    "        getattr(s, command)(int(key))\n",
    "    except Exception:\n",
    "        command = input()\n",
    "        getattr(s, command)()\n",
    "\n",
    "result = sum(s)\n",
    "print(result)"
   ]
  },
  {
   "cell_type": "code",
   "execution_count": 6,
   "id": "6feb511a",
   "metadata": {},
   "outputs": [
    {
     "ename": "ValueError",
     "evalue": "invalid literal for int() with base 10: 'append'",
     "output_type": "error",
     "traceback": [
      "\u001b[1;31m---------------------------------------------------------------------------\u001b[0m",
      "\u001b[1;31mValueError\u001b[0m                                Traceback (most recent call last)",
      "\u001b[1;32mC:\\Users\\AARONC~1\\AppData\\Local\\Temp/ipykernel_19736/554102159.py\u001b[0m in \u001b[0;36m<module>\u001b[1;34m\u001b[0m\n\u001b[1;32m----> 1\u001b[1;33m \u001b[0mcommand\u001b[0m\u001b[1;33m,\u001b[0m \u001b[1;33m*\u001b[0m\u001b[0mkey\u001b[0m \u001b[1;33m=\u001b[0m \u001b[0mmap\u001b[0m\u001b[1;33m(\u001b[0m\u001b[0mint\u001b[0m\u001b[1;33m,\u001b[0m \u001b[1;34m'append 3 10 1'\u001b[0m\u001b[1;33m.\u001b[0m\u001b[0msplit\u001b[0m\u001b[1;33m(\u001b[0m\u001b[1;33m)\u001b[0m\u001b[1;33m)\u001b[0m\u001b[1;33m\u001b[0m\u001b[1;33m\u001b[0m\u001b[0m\n\u001b[0m",
      "\u001b[1;31mValueError\u001b[0m: invalid literal for int() with base 10: 'append'"
     ]
    }
   ],
   "source": [
    "command, *key = map(int, 'append 3 10 1'.split())"
   ]
  },
  {
   "cell_type": "code",
   "execution_count": 7,
   "id": "d2bee5ca",
   "metadata": {},
   "outputs": [],
   "source": [
    "command, *key = 'append 3 10 1'.split()"
   ]
  },
  {
   "cell_type": "code",
   "execution_count": 8,
   "id": "b1d830a5",
   "metadata": {},
   "outputs": [
    {
     "data": {
      "text/plain": [
       "'append'"
      ]
     },
     "execution_count": 8,
     "metadata": {},
     "output_type": "execute_result"
    }
   ],
   "source": [
    "command"
   ]
  },
  {
   "cell_type": "code",
   "execution_count": 10,
   "id": "cc02928a",
   "metadata": {},
   "outputs": [
    {
     "data": {
      "text/plain": [
       "['3', '10', '1']"
      ]
     },
     "execution_count": 10,
     "metadata": {},
     "output_type": "execute_result"
    }
   ],
   "source": [
    "key"
   ]
  },
  {
   "cell_type": "code",
   "execution_count": 11,
   "id": "7010bbe8",
   "metadata": {},
   "outputs": [],
   "source": [
    "command, *key = 'pop'.split()"
   ]
  },
  {
   "cell_type": "code",
   "execution_count": 12,
   "id": "8af81004",
   "metadata": {},
   "outputs": [
    {
     "data": {
      "text/plain": [
       "'pop'"
      ]
     },
     "execution_count": 12,
     "metadata": {},
     "output_type": "execute_result"
    }
   ],
   "source": [
    "command"
   ]
  },
  {
   "cell_type": "code",
   "execution_count": 13,
   "id": "9a6e8b19",
   "metadata": {},
   "outputs": [
    {
     "data": {
      "text/plain": [
       "[]"
      ]
     },
     "execution_count": 13,
     "metadata": {},
     "output_type": "execute_result"
    }
   ],
   "source": [
    "key"
   ]
  },
  {
   "cell_type": "code",
   "execution_count": 15,
   "id": "294383db",
   "metadata": {},
   "outputs": [
    {
     "ename": "SyntaxError",
     "evalue": "can't use starred expression here (Temp/ipykernel_19736/157788774.py, line 1)",
     "output_type": "error",
     "traceback": [
      "\u001b[1;36m  File \u001b[1;32m\"C:\\Users\\AARONC~1\\AppData\\Local\\Temp/ipykernel_19736/157788774.py\"\u001b[1;36m, line \u001b[1;32m1\u001b[0m\n\u001b[1;33m    *key\u001b[0m\n\u001b[1;37m    ^\u001b[0m\n\u001b[1;31mSyntaxError\u001b[0m\u001b[1;31m:\u001b[0m can't use starred expression here\n"
     ]
    }
   ],
   "source": []
  },
  {
   "cell_type": "code",
   "execution_count": 16,
   "id": "b32af8da",
   "metadata": {},
   "outputs": [
    {
     "ename": "TypeError",
     "evalue": "int() argument must be a string, a bytes-like object or a number, not 'list'",
     "output_type": "error",
     "traceback": [
      "\u001b[1;31m---------------------------------------------------------------------------\u001b[0m",
      "\u001b[1;31mTypeError\u001b[0m                                 Traceback (most recent call last)",
      "\u001b[1;32mC:\\Users\\AARONC~1\\AppData\\Local\\Temp/ipykernel_19736/3532203525.py\u001b[0m in \u001b[0;36m<module>\u001b[1;34m\u001b[0m\n\u001b[1;32m----> 1\u001b[1;33m \u001b[0mint\u001b[0m\u001b[1;33m(\u001b[0m\u001b[1;33m[\u001b[0m\u001b[1;33m]\u001b[0m\u001b[1;33m)\u001b[0m\u001b[1;33m\u001b[0m\u001b[1;33m\u001b[0m\u001b[0m\n\u001b[0m",
      "\u001b[1;31mTypeError\u001b[0m: int() argument must be a string, a bytes-like object or a number, not 'list'"
     ]
    }
   ],
   "source": [
    "int([])"
   ]
  },
  {
   "cell_type": "code",
   "execution_count": 17,
   "id": "706f1a7c",
   "metadata": {},
   "outputs": [
    {
     "data": {
      "text/plain": [
       "0"
      ]
     },
     "execution_count": 17,
     "metadata": {},
     "output_type": "execute_result"
    }
   ],
   "source": [
    "int(*[])"
   ]
  },
  {
   "cell_type": "markdown",
   "id": "d5416407",
   "metadata": {},
   "source": [
    "# 입력코드 (8)"
   ]
  },
  {
   "cell_type": "code",
   "execution_count": null,
   "id": "217073d3",
   "metadata": {},
   "outputs": [],
   "source": [
    "n = int(input())\n",
    "s = set(map(int, input().split()))\n",
    "N = int(input())\n",
    "\n",
    "for _ in range(N):\n",
    "    try:\n",
    "        command = input()\n",
    "        getattr(s, command)()\n",
    "    except Exception:\n",
    "        command, *key = input().split()\n",
    "        getattr(s, command)(int(*key))\n",
    "        \n",
    "result = sum(s)\n",
    "print(result)"
   ]
  },
  {
   "cell_type": "code",
   "execution_count": 18,
   "id": "53630708",
   "metadata": {},
   "outputs": [
    {
     "data": {
      "text/plain": [
       "<function list.pop(index=-1, /)>"
      ]
     },
     "execution_count": 18,
     "metadata": {},
     "output_type": "execute_result"
    }
   ],
   "source": [
    "getattr([1, 2, 3, 4], 'pop')"
   ]
  },
  {
   "cell_type": "code",
   "execution_count": 19,
   "id": "72a98acb",
   "metadata": {},
   "outputs": [
    {
     "data": {
      "text/plain": [
       "4"
      ]
     },
     "execution_count": 19,
     "metadata": {},
     "output_type": "execute_result"
    }
   ],
   "source": [
    "getattr([1, 2, 3, 4], 'pop')()"
   ]
  },
  {
   "cell_type": "markdown",
   "id": "fca93de2",
   "metadata": {},
   "source": [
    "# 입력코드 (9)"
   ]
  },
  {
   "cell_type": "code",
   "execution_count": null,
   "id": "c11b647f",
   "metadata": {},
   "outputs": [],
   "source": [
    "n = int(input())\n",
    "s = set(map(int, input().split()))\n",
    "N = int(input())\n",
    "\n",
    "for _ in range(N):\n",
    "    command, *key = input().split()\n",
    "    try:\n",
    "        getattr(s, command)(int(*key))\n",
    "    except Exception:\n",
    "        getattr(s, command)()\n",
    "        \n",
    "result = sum(s)\n",
    "print(result)"
   ]
  },
  {
   "cell_type": "code",
   "execution_count": null,
   "id": "eb48fdfa",
   "metadata": {},
   "outputs": [],
   "source": [
    "### 예시답안 \n",
    "n = int(input())\n",
    "s = set(map(int, input().split()))\n",
    "for i in range(int(input())):\n",
    "    eval('s.{0}({1})'.format(*input().split() + ['']))\n",
    "    \n",
    "print(sum(s)) "
   ]
  },
  {
   "cell_type": "code",
   "execution_count": null,
   "id": "9878a3a9",
   "metadata": {},
   "outputs": [],
   "source": [
    "### 예시답안\n",
    "n = int(input())\n",
    "s = set(map(int, input().split()))\n",
    "t = int(input())\n",
    "for i in range(t):\n",
    "    c, *args = map(str, input().split())\n",
    "    getattr(s, c)(*(int(x) for x in args))\n",
    "print(sum(s))\n",
    "\n"
   ]
  },
  {
   "cell_type": "code",
   "execution_count": 24,
   "id": "fa05e9f6",
   "metadata": {},
   "outputs": [
    {
     "data": {
      "text/plain": [
       "1"
      ]
     },
     "execution_count": 24,
     "metadata": {},
     "output_type": "execute_result"
    }
   ],
   "source": [
    "getattr({1, 2, 3, 4}, 'pop')(*(int(x) for x in []))"
   ]
  },
  {
   "cell_type": "code",
   "execution_count": 25,
   "id": "35a3e2c1",
   "metadata": {},
   "outputs": [
    {
     "data": {
      "text/plain": [
       "1"
      ]
     },
     "execution_count": 25,
     "metadata": {},
     "output_type": "execute_result"
    }
   ],
   "source": [
    "getattr({1, 2, 3, 4}, 'pop')()"
   ]
  },
  {
   "cell_type": "code",
   "execution_count": 26,
   "id": "5e1b2d16",
   "metadata": {},
   "outputs": [],
   "source": [
    "key = []"
   ]
  },
  {
   "cell_type": "code",
   "execution_count": 27,
   "id": "49aa267d",
   "metadata": {},
   "outputs": [
    {
     "ename": "TypeError",
     "evalue": "set.pop() takes no arguments (1 given)",
     "output_type": "error",
     "traceback": [
      "\u001b[1;31m---------------------------------------------------------------------------\u001b[0m",
      "\u001b[1;31mTypeError\u001b[0m                                 Traceback (most recent call last)",
      "\u001b[1;32mC:\\Users\\AARONC~1\\AppData\\Local\\Temp/ipykernel_19736/2306741660.py\u001b[0m in \u001b[0;36m<module>\u001b[1;34m\u001b[0m\n\u001b[1;32m----> 1\u001b[1;33m \u001b[0mgetattr\u001b[0m\u001b[1;33m(\u001b[0m\u001b[1;33m{\u001b[0m\u001b[1;36m1\u001b[0m\u001b[1;33m,\u001b[0m \u001b[1;36m2\u001b[0m\u001b[1;33m,\u001b[0m \u001b[1;36m3\u001b[0m\u001b[1;33m,\u001b[0m \u001b[1;36m4\u001b[0m\u001b[1;33m}\u001b[0m\u001b[1;33m,\u001b[0m \u001b[1;34m'pop'\u001b[0m\u001b[1;33m)\u001b[0m\u001b[1;33m(\u001b[0m\u001b[0mint\u001b[0m\u001b[1;33m(\u001b[0m\u001b[1;33m*\u001b[0m\u001b[0mkey\u001b[0m\u001b[1;33m)\u001b[0m\u001b[1;33m)\u001b[0m\u001b[1;33m\u001b[0m\u001b[1;33m\u001b[0m\u001b[0m\n\u001b[0m",
      "\u001b[1;31mTypeError\u001b[0m: set.pop() takes no arguments (1 given)"
     ]
    }
   ],
   "source": [
    "getattr({1, 2, 3, 4}, 'pop')(int(*key))"
   ]
  },
  {
   "cell_type": "code",
   "execution_count": 28,
   "id": "40aa0b73",
   "metadata": {},
   "outputs": [
    {
     "data": {
      "text/plain": [
       "0"
      ]
     },
     "execution_count": 28,
     "metadata": {},
     "output_type": "execute_result"
    }
   ],
   "source": [
    "int(*key)"
   ]
  },
  {
   "cell_type": "code",
   "execution_count": 29,
   "id": "43334208",
   "metadata": {},
   "outputs": [
    {
     "data": {
      "text/plain": [
       "[]"
      ]
     },
     "execution_count": 29,
     "metadata": {},
     "output_type": "execute_result"
    }
   ],
   "source": [
    "[int(x) for x in key]"
   ]
  },
  {
   "cell_type": "code",
   "execution_count": 30,
   "id": "08171f4a",
   "metadata": {},
   "outputs": [
    {
     "data": {
      "text/plain": [
       "[0]"
      ]
     },
     "execution_count": 30,
     "metadata": {},
     "output_type": "execute_result"
    }
   ],
   "source": [
    "[int(*key)]"
   ]
  },
  {
   "cell_type": "code",
   "execution_count": 31,
   "id": "786d94c1",
   "metadata": {},
   "outputs": [
    {
     "ename": "TypeError",
     "evalue": "int() argument must be a string, a bytes-like object or a number, not 'NoneType'",
     "output_type": "error",
     "traceback": [
      "\u001b[1;31m---------------------------------------------------------------------------\u001b[0m",
      "\u001b[1;31mTypeError\u001b[0m                                 Traceback (most recent call last)",
      "\u001b[1;32mC:\\Users\\AARONC~1\\AppData\\Local\\Temp/ipykernel_19736/4024464104.py\u001b[0m in \u001b[0;36m<module>\u001b[1;34m\u001b[0m\n\u001b[1;32m----> 1\u001b[1;33m \u001b[0mint\u001b[0m\u001b[1;33m(\u001b[0m\u001b[1;32mNone\u001b[0m\u001b[1;33m)\u001b[0m\u001b[1;33m\u001b[0m\u001b[1;33m\u001b[0m\u001b[0m\n\u001b[0m",
      "\u001b[1;31mTypeError\u001b[0m: int() argument must be a string, a bytes-like object or a number, not 'NoneType'"
     ]
    }
   ],
   "source": [
    "int(None)"
   ]
  },
  {
   "cell_type": "code",
   "execution_count": 32,
   "id": "42d96991",
   "metadata": {},
   "outputs": [
    {
     "data": {
      "text/plain": [
       "0"
      ]
     },
     "execution_count": 32,
     "metadata": {},
     "output_type": "execute_result"
    }
   ],
   "source": [
    "int(*[])"
   ]
  },
  {
   "cell_type": "code",
   "execution_count": 33,
   "id": "623f9dba",
   "metadata": {},
   "outputs": [
    {
     "ename": "SyntaxError",
     "evalue": "invalid syntax (Temp/ipykernel_19736/1780380681.py, line 1)",
     "output_type": "error",
     "traceback": [
      "\u001b[1;36m  File \u001b[1;32m\"C:\\Users\\AARONC~1\\AppData\\Local\\Temp/ipykernel_19736/1780380681.py\"\u001b[1;36m, line \u001b[1;32m1\u001b[0m\n\u001b[1;33m    *[] is None\u001b[0m\n\u001b[1;37m        ^\u001b[0m\n\u001b[1;31mSyntaxError\u001b[0m\u001b[1;31m:\u001b[0m invalid syntax\n"
     ]
    }
   ],
   "source": [
    "*[] is None"
   ]
  },
  {
   "cell_type": "code",
   "execution_count": 34,
   "id": "37111113",
   "metadata": {},
   "outputs": [
    {
     "ename": "SyntaxError",
     "evalue": "can't use starred expression here (Temp/ipykernel_19736/2263173294.py, line 1)",
     "output_type": "error",
     "traceback": [
      "\u001b[1;36m  File \u001b[1;32m\"C:\\Users\\AARONC~1\\AppData\\Local\\Temp/ipykernel_19736/2263173294.py\"\u001b[1;36m, line \u001b[1;32m1\u001b[0m\n\u001b[1;33m    *[]\u001b[0m\n\u001b[1;37m    ^\u001b[0m\n\u001b[1;31mSyntaxError\u001b[0m\u001b[1;31m:\u001b[0m can't use starred expression here\n"
     ]
    }
   ],
   "source": [
    "*[]"
   ]
  },
  {
   "cell_type": "code",
   "execution_count": 36,
   "id": "c6e233c2",
   "metadata": {},
   "outputs": [
    {
     "name": "stdout",
     "output_type": "stream",
     "text": [
      "\n"
     ]
    }
   ],
   "source": [
    "print(*[])"
   ]
  },
  {
   "cell_type": "code",
   "execution_count": 37,
   "id": "7349d394",
   "metadata": {},
   "outputs": [
    {
     "name": "stdout",
     "output_type": "stream",
     "text": [
      "0\n"
     ]
    }
   ],
   "source": [
    "print(int(*[]))"
   ]
  },
  {
   "cell_type": "code",
   "execution_count": 38,
   "id": "fd6d42f2",
   "metadata": {},
   "outputs": [
    {
     "name": "stdout",
     "output_type": "stream",
     "text": [
      "None\n"
     ]
    }
   ],
   "source": [
    "print(None)"
   ]
  },
  {
   "cell_type": "code",
   "execution_count": 39,
   "id": "24eb9efe",
   "metadata": {},
   "outputs": [
    {
     "ename": "SyntaxError",
     "evalue": "iterable unpacking cannot be used in comprehension (Temp/ipykernel_19736/1054739439.py, line 1)",
     "output_type": "error",
     "traceback": [
      "\u001b[1;36m  File \u001b[1;32m\"C:\\Users\\AARONC~1\\AppData\\Local\\Temp/ipykernel_19736/1054739439.py\"\u001b[1;36m, line \u001b[1;32m1\u001b[0m\n\u001b[1;33m    (*int(x) for x in [])\u001b[0m\n\u001b[1;37m     ^\u001b[0m\n\u001b[1;31mSyntaxError\u001b[0m\u001b[1;31m:\u001b[0m iterable unpacking cannot be used in comprehension\n"
     ]
    }
   ],
   "source": [
    "(*int(x) for x in [])"
   ]
  },
  {
   "cell_type": "code",
   "execution_count": 40,
   "id": "5ad9735c",
   "metadata": {},
   "outputs": [
    {
     "ename": "TypeError",
     "evalue": "set.pop() takes no arguments (1 given)",
     "output_type": "error",
     "traceback": [
      "\u001b[1;31m---------------------------------------------------------------------------\u001b[0m",
      "\u001b[1;31mTypeError\u001b[0m                                 Traceback (most recent call last)",
      "\u001b[1;32mC:\\Users\\AARONC~1\\AppData\\Local\\Temp/ipykernel_19736/3231922743.py\u001b[0m in \u001b[0;36m<module>\u001b[1;34m\u001b[0m\n\u001b[1;32m----> 1\u001b[1;33m \u001b[0mgetattr\u001b[0m\u001b[1;33m(\u001b[0m\u001b[1;33m{\u001b[0m\u001b[1;36m1\u001b[0m\u001b[1;33m,\u001b[0m \u001b[1;36m2\u001b[0m\u001b[1;33m,\u001b[0m \u001b[1;36m3\u001b[0m\u001b[1;33m,\u001b[0m \u001b[1;36m4\u001b[0m\u001b[1;33m}\u001b[0m\u001b[1;33m,\u001b[0m \u001b[1;34m'pop'\u001b[0m\u001b[1;33m)\u001b[0m\u001b[1;33m(\u001b[0m\u001b[1;32mNone\u001b[0m\u001b[1;33m)\u001b[0m\u001b[1;33m\u001b[0m\u001b[1;33m\u001b[0m\u001b[0m\n\u001b[0m",
      "\u001b[1;31mTypeError\u001b[0m: set.pop() takes no arguments (1 given)"
     ]
    }
   ],
   "source": [
    "getattr({1, 2, 3, 4}, 'pop')(None)"
   ]
  },
  {
   "cell_type": "code",
   "execution_count": 41,
   "id": "7d97784f",
   "metadata": {},
   "outputs": [
    {
     "ename": "TypeError",
     "evalue": "int() can't convert non-string with explicit base",
     "output_type": "error",
     "traceback": [
      "\u001b[1;31m---------------------------------------------------------------------------\u001b[0m",
      "\u001b[1;31mTypeError\u001b[0m                                 Traceback (most recent call last)",
      "\u001b[1;32mC:\\Users\\AARONC~1\\AppData\\Local\\Temp/ipykernel_19736/953281325.py\u001b[0m in \u001b[0;36m<module>\u001b[1;34m\u001b[0m\n\u001b[1;32m----> 1\u001b[1;33m \u001b[0mint\u001b[0m\u001b[1;33m(\u001b[0m\u001b[1;33m*\u001b[0m\u001b[1;33m[\u001b[0m\u001b[1;36m2\u001b[0m\u001b[1;33m,\u001b[0m \u001b[1;36m3\u001b[0m\u001b[1;33m]\u001b[0m\u001b[1;33m)\u001b[0m\u001b[1;33m\u001b[0m\u001b[1;33m\u001b[0m\u001b[0m\n\u001b[0m",
      "\u001b[1;31mTypeError\u001b[0m: int() can't convert non-string with explicit base"
     ]
    }
   ],
   "source": [
    "int(*[2, 3])"
   ]
  },
  {
   "cell_type": "code",
   "execution_count": 42,
   "id": "2f558f73",
   "metadata": {},
   "outputs": [
    {
     "data": {
      "text/plain": [
       "<map at 0x1d314242280>"
      ]
     },
     "execution_count": 42,
     "metadata": {},
     "output_type": "execute_result"
    }
   ],
   "source": [
    "map(int, [2, 3])"
   ]
  },
  {
   "cell_type": "code",
   "execution_count": 44,
   "id": "22db7db1",
   "metadata": {},
   "outputs": [
    {
     "data": {
      "text/plain": [
       "[2.0, 3.0]"
      ]
     },
     "execution_count": 44,
     "metadata": {},
     "output_type": "execute_result"
    }
   ],
   "source": [
    "list(map(float, [2, 3]))"
   ]
  },
  {
   "cell_type": "markdown",
   "id": "b8b7b5fe",
   "metadata": {},
   "source": [
    "- validating credit card numbers"
   ]
  },
  {
   "cell_type": "code",
   "execution_count": 45,
   "id": "fde890b2",
   "metadata": {},
   "outputs": [],
   "source": [
    "import collections"
   ]
  },
  {
   "cell_type": "code",
   "execution_count": 48,
   "id": "f1a9fc94",
   "metadata": {},
   "outputs": [
    {
     "data": {
      "text/plain": [
       "Counter({'1': 6, '2': 3, '3': 1})"
      ]
     },
     "execution_count": 48,
     "metadata": {},
     "output_type": "execute_result"
    }
   ],
   "source": [
    "collections.Counter('1111122231')"
   ]
  },
  {
   "cell_type": "code",
   "execution_count": 53,
   "id": "2cfdbb8e",
   "metadata": {},
   "outputs": [],
   "source": [
    "import re, itertools"
   ]
  },
  {
   "cell_type": "code",
   "execution_count": 51,
   "id": "d0016c91",
   "metadata": {},
   "outputs": [
    {
     "data": {
      "text/plain": [
       "'ab'"
      ]
     },
     "execution_count": 51,
     "metadata": {},
     "output_type": "execute_result"
    }
   ],
   "source": [
    "re.match('[\\w]{2}', 'abcd').group()"
   ]
  },
  {
   "cell_type": "code",
   "execution_count": 54,
   "id": "00e09ff0",
   "metadata": {
    "scrolled": true
   },
   "outputs": [
    {
     "ename": "ValueError",
     "evalue": "too many values to unpack (expected 2)",
     "output_type": "error",
     "traceback": [
      "\u001b[1;31m---------------------------------------------------------------------------\u001b[0m",
      "\u001b[1;31mValueError\u001b[0m                                Traceback (most recent call last)",
      "\u001b[1;32mC:\\Users\\AARONC~1\\AppData\\Local\\Temp/ipykernel_19736/815778599.py\u001b[0m in \u001b[0;36m<module>\u001b[1;34m\u001b[0m\n\u001b[1;32m----> 1\u001b[1;33m \u001b[0mkey\u001b[0m\u001b[1;33m,\u001b[0m \u001b[0mgroup\u001b[0m \u001b[1;33m=\u001b[0m \u001b[0mitertools\u001b[0m\u001b[1;33m.\u001b[0m\u001b[0mgroupby\u001b[0m\u001b[1;33m(\u001b[0m\u001b[1;34m'4312343444444321'\u001b[0m\u001b[1;33m)\u001b[0m\u001b[1;33m\u001b[0m\u001b[1;33m\u001b[0m\u001b[0m\n\u001b[0m",
      "\u001b[1;31mValueError\u001b[0m: too many values to unpack (expected 2)"
     ]
    }
   ],
   "source": [
    "key, group = itertools.groupby('4312343444444321')"
   ]
  },
  {
   "cell_type": "code",
   "execution_count": 61,
   "id": "2fc97a1f",
   "metadata": {},
   "outputs": [
    {
     "name": "stdout",
     "output_type": "stream",
     "text": [
      "1\n",
      "1\n",
      "1\n",
      "1\n",
      "1\n",
      "1\n",
      "1\n",
      "6\n",
      "1\n",
      "1\n",
      "1\n"
     ]
    }
   ],
   "source": [
    "for key, group in itertools.groupby('4312343444444321', lambda x: x):\n",
    "    print(len(list(group)))"
   ]
  },
  {
   "cell_type": "code",
   "execution_count": 60,
   "id": "3a4bb692",
   "metadata": {},
   "outputs": [
    {
     "name": "stdout",
     "output_type": "stream",
     "text": [
      "1\n"
     ]
    }
   ],
   "source": [
    "for key, group in itertools.groupby(['4312343444444321'], lambda x: x):\n",
    "    print(len(list(group)))"
   ]
  },
  {
   "cell_type": "code",
   "execution_count": 62,
   "id": "7f8ddb0b",
   "metadata": {
    "scrolled": true
   },
   "outputs": [
    {
     "ename": "SyntaxError",
     "evalue": "can't use starred expression here (Temp/ipykernel_19736/2515854121.py, line 1)",
     "output_type": "error",
     "traceback": [
      "\u001b[1;36m  File \u001b[1;32m\"C:\\Users\\AARONC~1\\AppData\\Local\\Temp/ipykernel_19736/2515854121.py\"\u001b[1;36m, line \u001b[1;32m1\u001b[0m\n\u001b[1;33m    key, group = (*itertools.groupby('4312343444444321'))\u001b[0m\n\u001b[1;37m                  ^\u001b[0m\n\u001b[1;31mSyntaxError\u001b[0m\u001b[1;31m:\u001b[0m can't use starred expression here\n"
     ]
    }
   ],
   "source": [
    "key, group = (*itertools.groupby('4312343444444321'))"
   ]
  },
  {
   "cell_type": "code",
   "execution_count": 66,
   "id": "bab8e569",
   "metadata": {},
   "outputs": [
    {
     "data": {
      "text/plain": [
       "[('1', <itertools._grouper at 0x1d314172d90>),\n",
       " ('2', <itertools._grouper at 0x1d3141729d0>),\n",
       " ('3', <itertools._grouper at 0x1d314172340>),\n",
       " ('4', <itertools._grouper at 0x1d314172a90>)]"
      ]
     },
     "execution_count": 66,
     "metadata": {},
     "output_type": "execute_result"
    }
   ],
   "source": [
    "list(itertools.groupby('1234'))"
   ]
  },
  {
   "cell_type": "code",
   "execution_count": 65,
   "id": "d8794b85",
   "metadata": {
    "scrolled": true
   },
   "outputs": [
    {
     "ename": "ValueError",
     "evalue": "too many values to unpack (expected 2)",
     "output_type": "error",
     "traceback": [
      "\u001b[1;31m---------------------------------------------------------------------------\u001b[0m",
      "\u001b[1;31mValueError\u001b[0m                                Traceback (most recent call last)",
      "\u001b[1;32mC:\\Users\\AARONC~1\\AppData\\Local\\Temp/ipykernel_19736/1373612172.py\u001b[0m in \u001b[0;36m<module>\u001b[1;34m\u001b[0m\n\u001b[1;32m----> 1\u001b[1;33m \u001b[0mkey\u001b[0m\u001b[1;33m,\u001b[0m \u001b[0mgroup\u001b[0m \u001b[1;33m=\u001b[0m \u001b[0mlist\u001b[0m\u001b[1;33m(\u001b[0m\u001b[0mitertools\u001b[0m\u001b[1;33m.\u001b[0m\u001b[0mgroupby\u001b[0m\u001b[1;33m(\u001b[0m\u001b[1;34m'1234'\u001b[0m\u001b[1;33m)\u001b[0m\u001b[1;33m)\u001b[0m\u001b[1;33m\u001b[0m\u001b[1;33m\u001b[0m\u001b[0m\n\u001b[0m",
      "\u001b[1;31mValueError\u001b[0m: too many values to unpack (expected 2)"
     ]
    }
   ],
   "source": [
    "key, group = list(itertools.groupby('1234'))"
   ]
  },
  {
   "cell_type": "code",
   "execution_count": 67,
   "id": "d3334c4d",
   "metadata": {},
   "outputs": [
    {
     "data": {
      "text/plain": [
       "[('1', 1), ('2', 1), ('3', 1), ('4', 1)]"
      ]
     },
     "execution_count": 67,
     "metadata": {},
     "output_type": "execute_result"
    }
   ],
   "source": [
    "[(key, len(list(group))) for key, group in itertools.groupby('1234')]"
   ]
  },
  {
   "cell_type": "code",
   "execution_count": 68,
   "id": "d6afbc17",
   "metadata": {},
   "outputs": [
    {
     "data": {
      "text/plain": [
       "[('4', 4), ('-', 1), ('3', 2), ('1', 1), ('2', 1)]"
      ]
     },
     "execution_count": 68,
     "metadata": {},
     "output_type": "execute_result"
    }
   ],
   "source": [
    "[(key, len(list(group))) for key, group in itertools.groupby('4444-3312')]"
   ]
  },
  {
   "cell_type": "markdown",
   "id": "b46603a4",
   "metadata": {},
   "source": [
    "# 입력코드 (1)"
   ]
  },
  {
   "cell_type": "code",
   "execution_count": null,
   "id": "c146e923",
   "metadata": {},
   "outputs": [],
   "source": [
    "import re, itertools\n",
    "\n",
    "N = int(input())\n",
    "pattern = r'[-]'.join(r'[456][\\d]{3}', r'[\\d]{4}', r'[\\d]{4}', r'[\\d]{4}')\n",
    "\n",
    "for _ in range(N):\n",
    "    string = input()\n",
    "    condition_6 = [len(list(group)) for key, group in itertools.groupby(string)]\n",
    "        if any(list(map(lambda x: x >= 4, condition_6))):\n",
    "            print('Invalid')\n",
    "            break\n",
    "        else:\n",
    "            pass   \n",
    "    if re.match(pattern, string):\n",
    "        print('Valid')\n",
    "    else:\n",
    "        print('Invalid')"
   ]
  },
  {
   "cell_type": "markdown",
   "id": "a67ce1df",
   "metadata": {},
   "source": [
    "# 입력코드 (2)"
   ]
  },
  {
   "cell_type": "code",
   "execution_count": null,
   "id": "2dfc8a1f",
   "metadata": {},
   "outputs": [],
   "source": [
    "import re, itertools\n",
    "\n",
    "N = int(input())\n",
    "pattern = r'[-]'.join([r'[456][\\d]{3}', r'[\\d]{4}', r'[\\d]{4}', r'[\\d]{4}'])\n",
    "\n",
    "for _ in range(N):\n",
    "    string = input()\n",
    "    condition_6 = [len(list(group)) for key, group in itertools.groupby(string)]\n",
    "    if any(list(map(lambda x: x >= 4, condition_6))):\n",
    "        print('Invalid')\n",
    "        break\n",
    "    else:\n",
    "        pass   \n",
    "    if re.match(pattern, string):\n",
    "        print('Valid')\n",
    "    else:\n",
    "        print('Invalid')"
   ]
  },
  {
   "cell_type": "markdown",
   "id": "3a6e5ca1",
   "metadata": {},
   "source": [
    "# 입력코드 (3)"
   ]
  },
  {
   "cell_type": "code",
   "execution_count": null,
   "id": "09a841ee",
   "metadata": {},
   "outputs": [],
   "source": [
    "import re, itertools\n",
    "\n",
    "N = int(input())\n",
    "pattern = r'[-]?'.join([r'[456][\\d]{3}', r'[\\d]{4}', r'[\\d]{4}', r'[\\d]{4}'])\n",
    "\n",
    "for _ in range(N):\n",
    "    string = input()\n",
    "    condition_6 = [len(list(group)) for key, group in itertools.groupby(string)]\n",
    "    if any(list(map(lambda x: x >= 4, condition_6))):\n",
    "        print('Invalid')\n",
    "        break\n",
    "    else:\n",
    "        pass   \n",
    "    if re.match(pattern, string):\n",
    "        print('Valid')\n",
    "    else:\n",
    "        print('Invalid')"
   ]
  },
  {
   "cell_type": "markdown",
   "id": "d536ab9c",
   "metadata": {},
   "source": [
    "# 입력코드 (4)"
   ]
  },
  {
   "cell_type": "code",
   "execution_count": null,
   "id": "bc6f2c5b",
   "metadata": {},
   "outputs": [],
   "source": [
    "import re, itertools\n",
    "\n",
    "N = int(input())\n",
    "pattern = r'[-]?'.join([r'[456][\\d]{3}', r'[\\d]{4}', r'[\\d]{4}', r'[\\d]{4}'])\n",
    "\n",
    "for _ in range(N):\n",
    "    string = input()\n",
    "    string_nohypen = re.sub('[-]', '', string)\n",
    "    condition_6 = [len(list(group)) for key, group in itertools.groupby(string_nohypen)]\n",
    "    if any(list(map(lambda x: x >= 4, condition_6))):\n",
    "        print('Invalid')\n",
    "        break\n",
    "    else:\n",
    "        pass   \n",
    "    if re.match(pattern, string):\n",
    "        print('Valid')\n",
    "    else:\n",
    "        print('Invalid')"
   ]
  },
  {
   "cell_type": "markdown",
   "id": "35bb9e4d",
   "metadata": {},
   "source": [
    "#### 왜 입력코드 (4)에서는 5개 결과만 나오지?"
   ]
  },
  {
   "cell_type": "markdown",
   "id": "93f5d36d",
   "metadata": {},
   "source": [
    "# 입력코드 (5)"
   ]
  },
  {
   "cell_type": "code",
   "execution_count": null,
   "id": "8e8612a9",
   "metadata": {},
   "outputs": [],
   "source": [
    "import re, itertools\n",
    "\n",
    "N = int(input())\n",
    "pattern = r'[-]?'.join([r'[456][\\d]{3}', r'[\\d]{4}', r'[\\d]{4}', r'[\\d]{4}'])\n",
    "\n",
    "for _ in range(N):\n",
    "    string = input()\n",
    "    string_nohypen = re.sub('[^\\d]', '', string)\n",
    "    condition_6 = [len(list(group)) for key, group in itertools.groupby(string_nohypen)]\n",
    "    if any(list(map(lambda x: x >= 4, condition_6))) or re.search('[\\s]', string):\n",
    "        print('Invalid')\n",
    "        break\n",
    "    else:\n",
    "        pass   \n",
    "    if re.match(pattern, string):\n",
    "        print('Valid')\n",
    "    else:\n",
    "        print('Invalid')"
   ]
  },
  {
   "cell_type": "code",
   "execution_count": 69,
   "id": "629e6acc",
   "metadata": {},
   "outputs": [
    {
     "data": {
      "text/plain": [
       "'421214214'"
      ]
     },
     "execution_count": 69,
     "metadata": {},
     "output_type": "execute_result"
    }
   ],
   "source": [
    "re.sub('[-]', '', '421-214214-')"
   ]
  },
  {
   "cell_type": "markdown",
   "id": "fd9af91c",
   "metadata": {},
   "source": [
    "#### why it says invalid escape sequence?"
   ]
  },
  {
   "cell_type": "markdown",
   "id": "c856c94f",
   "metadata": {},
   "source": [
    "# 입력코드 (6)"
   ]
  },
  {
   "cell_type": "code",
   "execution_count": null,
   "id": "2641ab76",
   "metadata": {},
   "outputs": [],
   "source": [
    "import re, itertools\n",
    "\n",
    "N = int(input())\n",
    "pattern = r'[-]?'.join([r'[456][\\d]{3}', r'[\\d]{4}', r'[\\d]{4}', r'[\\d]{4}'])\n",
    "\n",
    "for _ in range(N):\n",
    "    string = str(input())\n",
    "    string_nohypen = re.sub(r'[^\\d]', '', string)\n",
    "    condition_6 = [len(list(group)) for key, group in itertools.groupby(string_nohypen)]\n",
    "    if any(list(map(lambda x: x >= 4, condition_6))) or re.search(r'[\\s]', string):\n",
    "        print('Invalid')\n",
    "        break\n",
    "    else:\n",
    "        if re.match(pattern, string):\n",
    "            print('Valid')\n",
    "        else:\n",
    "            print('Invalid')"
   ]
  },
  {
   "cell_type": "markdown",
   "id": "a07da421",
   "metadata": {},
   "source": [
    "# 입력코드 (7)"
   ]
  },
  {
   "cell_type": "code",
   "execution_count": null,
   "id": "a80218f5",
   "metadata": {},
   "outputs": [],
   "source": [
    "import re, itertools\n",
    "\n",
    "N = int(input())\n",
    "pattern = r'[-]?'.join([r'[456][\\d]{3}', r'[\\d]{4}', r'[\\d]{4}', r'[\\d]{4}'])\n",
    "\n",
    "for _ in range(N):\n",
    "    string = str(input())\n",
    "    condition_6 = [len(list(group)) \n",
    "                   for key, group in itertools.groupby(re.sub(r'[^\\d]', '', string))]\n",
    "    if any(list(map(lambda x: x >= 4, condition_6))) or re.search(r'[\\s]', string):\n",
    "        print('Invalid')\n",
    "        break\n",
    "    else:\n",
    "        if re.match(pattern, string):\n",
    "            print('Valid')\n",
    "        else:\n",
    "            print('Invalid')"
   ]
  },
  {
   "cell_type": "markdown",
   "id": "f5aa5791",
   "metadata": {},
   "source": [
    "- class2 find the torsional angle "
   ]
  },
  {
   "cell_type": "markdown",
   "id": "791c945b",
   "metadata": {},
   "source": [
    "# 입력코드 (1)"
   ]
  },
  {
   "cell_type": "code",
   "execution_count": null,
   "id": "1deba48a",
   "metadata": {},
   "outputs": [],
   "source": [
    "import math\n",
    "\n",
    "class Points(object):\n",
    "    def __init__(self, x, y, z):\n",
    "        self.x = object[0]\n",
    "        self.y = object[1]\n",
    "        self.z = object[3]\n",
    "        \n",
    "    def __sub__(self, no):\n",
    "        return self.x - no.x, self.y - no.y, self.z - no.z\n",
    "        \n",
    "    def dot(self, no):\n",
    "        return (self.x*no.x)+(self.y*no.y)+(self.z*no.z)\n",
    "\n",
    "    def cross(self, no):\n",
    "        return (self.y*no.z) - (self.y*no.x), (self.z*no.x) - (self.x*no.z), (self.x*no.y) - (self.y*no.x)\n",
    "    \n",
    "    def absolute(self):\n",
    "        return pow((self.x ** 2 + self.y ** 2 + self.z ** 2), 0.5)\n",
    "\n",
    "if __name__ == '__main__':\n",
    "    points = list()\n",
    "    for i in range(4):\n",
    "        a = list(map(float, input().split()))\n",
    "        points.append(a)\n",
    "\n",
    "    a, b, c, d = Points(*points[0]), Points(*points[1]), Points(*points[2]), Points(*points[3])\n",
    "    x = (b - a).cross(c - b)\n",
    "    y = (c - b).cross(d - c)\n",
    "    angle = math.acos(x.dot(y) / (x.absolute() * y.absolute()))\n",
    "\n",
    "    print(\"%.2f\" % math.degrees(angle))"
   ]
  },
  {
   "cell_type": "markdown",
   "id": "cd580a28",
   "metadata": {},
   "source": [
    "#### objectis not subscriptable"
   ]
  },
  {
   "cell_type": "markdown",
   "id": "6ddb5499",
   "metadata": {},
   "source": [
    "# 입력코드 (2)"
   ]
  },
  {
   "cell_type": "code",
   "execution_count": null,
   "id": "7e9caee4",
   "metadata": {},
   "outputs": [],
   "source": [
    "import math\n",
    "\n",
    "class Points(object):\n",
    "    def __init__(self, x, y, z):\n",
    "        self.x = x\n",
    "        self.y = y\n",
    "        self.z = z\n",
    "        \n",
    "    def __sub__(self, no):\n",
    "        return self.x - no.x, self.y - no.y, self.z - no.z\n",
    "        \n",
    "    def dot(self, no):\n",
    "        return (self.x*no.x)+(self.y*no.y)+(self.z*no.z)\n",
    "\n",
    "    def cross(self, no):\n",
    "        return (self.y*no.z) - (self.y*no.x), (self.z*no.x) - (self.x*no.z), (self.x*no.y) - (self.y*no.x)\n",
    "    \n",
    "    def absolute(self):\n",
    "        return pow((self.x ** 2 + self.y ** 2 + self.z ** 2), 0.5)\n",
    "\n",
    "if __name__ == '__main__':\n",
    "    points = list()\n",
    "    for i in range(4):\n",
    "        a = list(map(float, input().split()))\n",
    "        points.append(a)\n",
    "\n",
    "    a, b, c, d = Points(*points[0]), Points(*points[1]), Points(*points[2]), Points(*points[3])\n",
    "    x = (b - a).cross(c - b)\n",
    "    y = (c - b).cross(d - c)\n",
    "    angle = math.acos(x.dot(y) / (x.absolute() * y.absolute()))\n",
    "\n",
    "    print(\"%.2f\" % math.degrees(angle))"
   ]
  },
  {
   "cell_type": "markdown",
   "id": "0127b069",
   "metadata": {},
   "source": [
    "# 입력코드 (3)"
   ]
  },
  {
   "cell_type": "code",
   "execution_count": null,
   "id": "ca77dd0a",
   "metadata": {},
   "outputs": [],
   "source": [
    "import math\n",
    "\n",
    "class Points(object):\n",
    "    def __init__(self, x, y, z):\n",
    "        self.x = x\n",
    "        self.y = y\n",
    "        self.z = z\n",
    "        \n",
    "    def __sub__(self, no):\n",
    "        return Points(self.x - no.x, self.y - no.y, self.z - no.z)\n",
    "        \n",
    "    def dot(self, no):\n",
    "        return (self.x*no.x)+(self.y*no.y)+(self.z*no.z)\n",
    "\n",
    "    def cross(self, no):\n",
    "        return Points((self.y*no.z) - (self.z*no.y), (self.z*no.x) - (self.x*no.z), (self.x*no.y) - (self.y*no.x))\n",
    "    \n",
    "    def absolute(self):\n",
    "        return pow((self.x ** 2 + self.y ** 2 + self.z ** 2), 0.5)\n",
    "\n",
    "if __name__ == '__main__':\n",
    "    points = list()\n",
    "    for i in range(4):\n",
    "        a = list(map(float, input().split()))\n",
    "        points.append(a)\n",
    "\n",
    "    a, b, c, d = Points(*points[0]), Points(*points[1]), Points(*points[2]), Points(*points[3])\n",
    "    x = (b - a).cross(c - b)\n",
    "    y = (c - b).cross(d - c)\n",
    "    angle = math.acos(x.dot(y) / (x.absolute() * y.absolute()))\n",
    "\n",
    "    print(\"%.2f\" % math.degrees(angle))"
   ]
  },
  {
   "cell_type": "markdown",
   "id": "a0959928",
   "metadata": {},
   "source": [
    "- classes: dealing with complex numbers"
   ]
  },
  {
   "cell_type": "markdown",
   "id": "949b21d4",
   "metadata": {},
   "source": [
    "# 입력코드 (1)"
   ]
  },
  {
   "cell_type": "code",
   "execution_count": null,
   "id": "63242056",
   "metadata": {},
   "outputs": [],
   "source": [
    "import math\n",
    "\n",
    "class Complex(object):\n",
    "    def __init__(self, real, imaginary):\n",
    "        self.real = real\n",
    "        self.imaginary = imaginary\n",
    "        \n",
    "    def __add__(self, no):\n",
    "        return Complex(self.real + no.real, self.imaginary + no.imaginary)\n",
    "        \n",
    "    def __sub__(self, no):\n",
    "        return Complex(self.real - no.real, self.imaginary - no.imaginary)\n",
    "        \n",
    "    def __mul__(self, no):\n",
    "        return Complex((self.real*no.real - self.imaginary*no.imaginary), (self.real*no.imaginary + self.imaginary*no.real))\n",
    "    \n",
    "    def __truediv__(self, no):\n",
    "        return Complex((self.real*no.imaginary + (self.imaginary*(-no.real))/(pow(no.real, 2) + pow(no.imaginary, 2)), \n",
    "                       (self.real*no.imaginary + self.imaginary*no.real)/(pow(no.real, 2) + pow(no.imaginary, 2)))\n",
    "\n",
    "    def mod(self):\n",
    "        return Complex(pow(self.real**2 + self.imaginary**2, 0.5), 0)\n",
    "\n",
    "    def __str__(self):\n",
    "        if self.imaginary == 0:\n",
    "            result = \"%.2f+0.00i\" % (self.real)\n",
    "        elif self.real == 0:\n",
    "            if self.imaginary >= 0:\n",
    "                result = \"0.00+%.2fi\" % (self.imaginary)\n",
    "            else:\n",
    "                result = \"0.00-%.2fi\" % (abs(self.imaginary))\n",
    "        elif self.imaginary > 0:\n",
    "            result = \"%.2f+%.2fi\" % (self.real, self.imaginary)\n",
    "        else:\n",
    "            result = \"%.2f-%.2fi\" % (self.real, abs(self.imaginary))\n",
    "        return result\n",
    "\n",
    "if __name__ == '__main__':\n",
    "    c = map(float, input().split())\n",
    "    d = map(float, input().split())\n",
    "    x = Complex(*c)\n",
    "    y = Complex(*d)\n",
    "    print(*map(str, [x+y, x-y, x*y, x/y, x.mod(), y.mod()]), sep='\\n')"
   ]
  },
  {
   "cell_type": "markdown",
   "id": "55b596cd",
   "metadata": {},
   "source": [
    "# 입력코드 (2)"
   ]
  },
  {
   "cell_type": "code",
   "execution_count": null,
   "id": "c118619b",
   "metadata": {},
   "outputs": [],
   "source": [
    "import math\n",
    "\n",
    "class Complex(object):\n",
    "    def __init__(self, real, imaginary):\n",
    "        self.real = real\n",
    "        self.imaginary = imaginary\n",
    "        \n",
    "    def __add__(self, no):\n",
    "        return Complex(self.real + no.real, self.imaginary + no.imaginary)\n",
    "        \n",
    "    def __sub__(self, no):\n",
    "        return Complex(self.real - no.real, self.imaginary - no.imaginary)\n",
    "        \n",
    "    def __mul__(self, no):\n",
    "        return Complex((self.real*no.real - self.imaginary*no.imaginary), (self.real*no.imaginary + self.imaginary*no.real))\n",
    "    \n",
    "    def __truediv__(self, no):\n",
    "        return Complex(self.real*no.real + (self.imaginary*(-no.imaginary))/(pow(no.real, 2) + pow(no.imaginary, 2)), \n",
    "                       (self.real*(-no.imaginary) + self.imaginary*no.real)/(pow(no.real, 2) + pow(no.imaginary, 2)))\n",
    "\n",
    "    def mod(self):\n",
    "        return Complex(pow(self.real**2 + self.imaginary**2, 0.5), 0)\n",
    "\n",
    "    def __str__(self):\n",
    "        if self.imaginary == 0:\n",
    "            result = \"%.2f+0.00i\" % (self.real)\n",
    "        elif self.real == 0:\n",
    "            if self.imaginary >= 0:\n",
    "                result = \"0.00+%.2fi\" % (self.imaginary)\n",
    "            else:\n",
    "                result = \"0.00-%.2fi\" % (abs(self.imaginary))\n",
    "        elif self.imaginary > 0:\n",
    "            result = \"%.2f+%.2fi\" % (self.real, self.imaginary)\n",
    "        else:\n",
    "            result = \"%.2f-%.2fi\" % (self.real, abs(self.imaginary))\n",
    "        return result\n",
    "\n",
    "if __name__ == '__main__':\n",
    "    c = map(float, input().split())\n",
    "    d = map(float, input().split())\n",
    "    x = Complex(*c)\n",
    "    y = Complex(*d)\n",
    "    print(*map(str, [x+y, x-y, x*y, x/y, x.mod(), y.mod()]), sep='\\n')"
   ]
  },
  {
   "cell_type": "markdown",
   "id": "2a111033",
   "metadata": {},
   "source": [
    "# 입력코드 (3)"
   ]
  },
  {
   "cell_type": "code",
   "execution_count": null,
   "id": "e0ea5ae8",
   "metadata": {},
   "outputs": [],
   "source": [
    "import math\n",
    "\n",
    "class Complex(object):\n",
    "    def __init__(self, real, imaginary):\n",
    "        self.real = real\n",
    "        self.imaginary = imaginary\n",
    "        \n",
    "    def __add__(self, no):\n",
    "        return Complex(self.real + no.real, self.imaginary + no.imaginary)\n",
    "        \n",
    "    def __sub__(self, no):\n",
    "        return Complex(self.real - no.real, self.imaginary - no.imaginary)\n",
    "        \n",
    "    def __mul__(self, no):\n",
    "        return Complex((self.real*no.real - self.imaginary*no.imaginary), (self.real*no.imaginary + self.imaginary*no.real))\n",
    "    \n",
    "    def __truediv__(self, no):\n",
    "        return Complex((self.real*no.real -(self.imaginary*no.imaginary))/(pow(no.real, 2) + pow(no.imaginary, 2)), \n",
    "                       (self.real*(-no.imaginary) + self.imaginary*no.real)/(pow(no.real, 2) + pow(no.imaginary, 2)))\n",
    "\n",
    "    def mod(self):\n",
    "        return Complex(pow(self.real**2 + self.imaginary**2, 0.5), 0)\n",
    "\n",
    "    def __str__(self):\n",
    "        if self.imaginary == 0:\n",
    "            result = \"%.2f+0.00i\" % (self.real)\n",
    "        elif self.real == 0:\n",
    "            if self.imaginary >= 0:\n",
    "                result = \"0.00+%.2fi\" % (self.imaginary)\n",
    "            else:\n",
    "                result = \"0.00-%.2fi\" % (abs(self.imaginary))\n",
    "        elif self.imaginary > 0:\n",
    "            result = \"%.2f+%.2fi\" % (self.real, self.imaginary)\n",
    "        else:\n",
    "            result = \"%.2f-%.2fi\" % (self.real, abs(self.imaginary))\n",
    "        return result\n",
    "\n",
    "if __name__ == '__main__':\n",
    "    c = map(float, input().split())\n",
    "    d = map(float, input().split())\n",
    "    x = Complex(*c)\n",
    "    y = Complex(*d)\n",
    "    print(*map(str, [x+y, x-y, x*y, x/y, x.mod(), y.mod()]), sep='\\n')"
   ]
  },
  {
   "cell_type": "markdown",
   "id": "9ea5bd8b",
   "metadata": {},
   "source": [
    "# 입력코드 (4)"
   ]
  },
  {
   "cell_type": "code",
   "execution_count": null,
   "id": "f9e15024",
   "metadata": {},
   "outputs": [],
   "source": [
    "import math\n",
    "\n",
    "class Complex(object):\n",
    "    def __init__(self, real, imaginary):\n",
    "        self.real = real\n",
    "        self.imaginary = imaginary\n",
    "        \n",
    "    def __add__(self, no):\n",
    "        return Complex(self.real + no.real, self.imaginary + no.imaginary)\n",
    "        \n",
    "    def __sub__(self, no):\n",
    "        return Complex(self.real - no.real, self.imaginary - no.imaginary)\n",
    "        \n",
    "    def __mul__(self, no):\n",
    "        return Complex((self.real*no.real - self.imaginary*no.imaginary), (self.real*no.imaginary + self.imaginary*no.real))\n",
    "    \n",
    "    def __truediv__(self, no):\n",
    "        return Complex((self.real*no.real +(self.imaginary*no.imaginary))/(pow(no.real, 2) + pow(no.imaginary, 2)), \n",
    "                       (self.real*(-no.imaginary) + self.imaginary*no.real)/(pow(no.real, 2) + pow(no.imaginary, 2)))\n",
    "\n",
    "    def mod(self):\n",
    "        return Complex(pow(self.real**2 + self.imaginary**2, 0.5), 0)\n",
    "\n",
    "    def __str__(self):\n",
    "        if self.imaginary == 0:\n",
    "            result = \"%.2f+0.00i\" % (self.real)\n",
    "        elif self.real == 0:\n",
    "            if self.imaginary >= 0:\n",
    "                result = \"0.00+%.2fi\" % (self.imaginary)\n",
    "            else:\n",
    "                result = \"0.00-%.2fi\" % (abs(self.imaginary))\n",
    "        elif self.imaginary > 0:\n",
    "            result = \"%.2f+%.2fi\" % (self.real, self.imaginary)\n",
    "        else:\n",
    "            result = \"%.2f-%.2fi\" % (self.real, abs(self.imaginary))\n",
    "        return result\n",
    "\n",
    "if __name__ == '__main__':\n",
    "    c = map(float, input().split())\n",
    "    d = map(float, input().split())\n",
    "    x = Complex(*c)\n",
    "    y = Complex(*d)\n",
    "    print(*map(str, [x+y, x-y, x*y, x/y, x.mod(), y.mod()]), sep='\\n')"
   ]
  },
  {
   "cell_type": "code",
   "execution_count": null,
   "id": "459ed938",
   "metadata": {},
   "outputs": [],
   "source": [
    "### 예시답안 for \n",
    "def mod(self):\n",
    "    return Complex(pow(self.real**2 + self.imag**2, 0.5), 0)"
   ]
  }
 ],
 "metadata": {
  "kernelspec": {
   "display_name": "Python 3 (ipykernel)",
   "language": "python",
   "name": "python3"
  },
  "language_info": {
   "codemirror_mode": {
    "name": "ipython",
    "version": 3
   },
   "file_extension": ".py",
   "mimetype": "text/x-python",
   "name": "python",
   "nbconvert_exporter": "python",
   "pygments_lexer": "ipython3",
   "version": "3.9.7"
  }
 },
 "nbformat": 4,
 "nbformat_minor": 5
}
