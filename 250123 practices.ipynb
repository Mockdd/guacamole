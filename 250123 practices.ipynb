{
 "cells": [
  {
   "cell_type": "markdown",
   "id": "818459f6",
   "metadata": {},
   "source": [
    "- Highest and Lowest"
   ]
  },
  {
   "cell_type": "code",
   "execution_count": 8,
   "id": "72e75ed0",
   "metadata": {},
   "outputs": [],
   "source": [
    "def high_and_low(numbers):\n",
    "    int_numbers = list(map(int, numbers.split()))\n",
    "    return ' '.join([str(max(int_numbers)), str(min(int_numbers))])"
   ]
  },
  {
   "cell_type": "code",
   "execution_count": 2,
   "id": "db4a7719",
   "metadata": {},
   "outputs": [
    {
     "data": {
      "text/plain": [
       "6"
      ]
     },
     "execution_count": 2,
     "metadata": {},
     "output_type": "execute_result"
    }
   ],
   "source": [
    "max([3, 6, 1])"
   ]
  },
  {
   "cell_type": "code",
   "execution_count": 9,
   "id": "62af67f6",
   "metadata": {},
   "outputs": [
    {
     "data": {
      "text/plain": [
       "'5 1'"
      ]
     },
     "execution_count": 9,
     "metadata": {},
     "output_type": "execute_result"
    }
   ],
   "source": [
    "high_and_low('1 2 3 4 5')"
   ]
  },
  {
   "cell_type": "code",
   "execution_count": 10,
   "id": "de0cebfd",
   "metadata": {},
   "outputs": [
    {
     "data": {
      "text/plain": [
       "'5 -3'"
      ]
     },
     "execution_count": 10,
     "metadata": {},
     "output_type": "execute_result"
    }
   ],
   "source": [
    "high_and_low('-1 -3 5 1 0')"
   ]
  },
  {
   "cell_type": "code",
   "execution_count": 13,
   "id": "3ec769ee",
   "metadata": {},
   "outputs": [],
   "source": [
    "def high_and_low(numbers):\n",
    "    int_numbers = numbers.split()\n",
    "    int_numbers.sort()\n",
    "    return int_numbers[0], int_numbers[-1]"
   ]
  },
  {
   "cell_type": "code",
   "execution_count": 14,
   "id": "5680fa83",
   "metadata": {},
   "outputs": [
    {
     "data": {
      "text/plain": [
       "('-5', '8')"
      ]
     },
     "execution_count": 14,
     "metadata": {},
     "output_type": "execute_result"
    }
   ],
   "source": [
    "high_and_low('1 8 3 4 -5')"
   ]
  },
  {
   "cell_type": "markdown",
   "id": "417f3134",
   "metadata": {},
   "source": [
    "- **first trial**"
   ]
  },
  {
   "cell_type": "code",
   "execution_count": 20,
   "id": "9004c686",
   "metadata": {},
   "outputs": [],
   "source": [
    "def high_and_low(numbers):\n",
    "    int_numbers = numbers.split()\n",
    "    int_numbers.sort()\n",
    "    return ' '.join([int_numbers[-1], int_numbers[0]])"
   ]
  },
  {
   "cell_type": "code",
   "execution_count": 21,
   "id": "fa6686d1",
   "metadata": {},
   "outputs": [
    {
     "data": {
      "text/plain": [
       "'5 -3'"
      ]
     },
     "execution_count": 21,
     "metadata": {},
     "output_type": "execute_result"
    }
   ],
   "source": [
    "high_and_low('1 2 -3 4 5')"
   ]
  },
  {
   "cell_type": "code",
   "execution_count": 24,
   "id": "504cefa9",
   "metadata": {},
   "outputs": [
    {
     "data": {
      "text/plain": [
       "['-1', '0', '3', '42', '8']"
      ]
     },
     "execution_count": 24,
     "metadata": {},
     "output_type": "execute_result"
    }
   ],
   "source": [
    "sorted(['42', '3', '-1', '0', '8'])"
   ]
  },
  {
   "cell_type": "markdown",
   "id": "573b0208",
   "metadata": {},
   "source": [
    "- **second trial**"
   ]
  },
  {
   "cell_type": "code",
   "execution_count": 29,
   "id": "1bbfdcb8",
   "metadata": {},
   "outputs": [],
   "source": [
    "def high_and_low(numbers):\n",
    "    int_numbers = list(map(int, numbers.split()))\n",
    "    return ' '.join([max(int_numbers), min(int_numbers)])"
   ]
  },
  {
   "cell_type": "code",
   "execution_count": 30,
   "id": "8149dc3d",
   "metadata": {},
   "outputs": [
    {
     "ename": "TypeError",
     "evalue": "sequence item 0: expected str instance, int found",
     "output_type": "error",
     "traceback": [
      "\u001b[1;31m---------------------------------------------------------------------------\u001b[0m",
      "\u001b[1;31mTypeError\u001b[0m                                 Traceback (most recent call last)",
      "\u001b[1;32mC:\\Users\\AARONC~1\\AppData\\Local\\Temp/ipykernel_29868/1128231125.py\u001b[0m in \u001b[0;36m<module>\u001b[1;34m\u001b[0m\n\u001b[1;32m----> 1\u001b[1;33m \u001b[0mhigh_and_low\u001b[0m\u001b[1;33m(\u001b[0m\u001b[1;34m'42 3 -1 8 9 100'\u001b[0m\u001b[1;33m)\u001b[0m\u001b[1;33m\u001b[0m\u001b[1;33m\u001b[0m\u001b[0m\n\u001b[0m",
      "\u001b[1;32mC:\\Users\\AARONC~1\\AppData\\Local\\Temp/ipykernel_29868/1717577374.py\u001b[0m in \u001b[0;36mhigh_and_low\u001b[1;34m(numbers)\u001b[0m\n\u001b[0;32m      1\u001b[0m \u001b[1;32mdef\u001b[0m \u001b[0mhigh_and_low\u001b[0m\u001b[1;33m(\u001b[0m\u001b[0mnumbers\u001b[0m\u001b[1;33m)\u001b[0m\u001b[1;33m:\u001b[0m\u001b[1;33m\u001b[0m\u001b[1;33m\u001b[0m\u001b[0m\n\u001b[0;32m      2\u001b[0m     \u001b[0mint_numbers\u001b[0m \u001b[1;33m=\u001b[0m \u001b[0mlist\u001b[0m\u001b[1;33m(\u001b[0m\u001b[0mmap\u001b[0m\u001b[1;33m(\u001b[0m\u001b[0mint\u001b[0m\u001b[1;33m,\u001b[0m \u001b[0mnumbers\u001b[0m\u001b[1;33m.\u001b[0m\u001b[0msplit\u001b[0m\u001b[1;33m(\u001b[0m\u001b[1;33m)\u001b[0m\u001b[1;33m)\u001b[0m\u001b[1;33m)\u001b[0m\u001b[1;33m\u001b[0m\u001b[1;33m\u001b[0m\u001b[0m\n\u001b[1;32m----> 3\u001b[1;33m     \u001b[1;32mreturn\u001b[0m \u001b[1;34m' '\u001b[0m\u001b[1;33m.\u001b[0m\u001b[0mjoin\u001b[0m\u001b[1;33m(\u001b[0m\u001b[1;33m[\u001b[0m\u001b[0mmax\u001b[0m\u001b[1;33m(\u001b[0m\u001b[0mint_numbers\u001b[0m\u001b[1;33m)\u001b[0m\u001b[1;33m,\u001b[0m \u001b[0mmin\u001b[0m\u001b[1;33m(\u001b[0m\u001b[0mint_numbers\u001b[0m\u001b[1;33m)\u001b[0m\u001b[1;33m]\u001b[0m\u001b[1;33m)\u001b[0m\u001b[1;33m\u001b[0m\u001b[1;33m\u001b[0m\u001b[0m\n\u001b[0m",
      "\u001b[1;31mTypeError\u001b[0m: sequence item 0: expected str instance, int found"
     ]
    }
   ],
   "source": [
    "high_and_low('42 3 -1 8 9 100')"
   ]
  },
  {
   "cell_type": "markdown",
   "id": "22c2f6a4",
   "metadata": {},
   "source": [
    "- **thrid trial**"
   ]
  },
  {
   "cell_type": "code",
   "execution_count": 31,
   "id": "9843fb57",
   "metadata": {},
   "outputs": [],
   "source": [
    "def high_and_low(numbers):\n",
    "    int_numbers = list(map(int, numbers.split()))\n",
    "    return ' '.join(map(str, [max(int_numbers), min(int_numbers)]))"
   ]
  },
  {
   "cell_type": "code",
   "execution_count": 32,
   "id": "2b319eeb",
   "metadata": {},
   "outputs": [
    {
     "data": {
      "text/plain": [
       "'100 -1'"
      ]
     },
     "execution_count": 32,
     "metadata": {},
     "output_type": "execute_result"
    }
   ],
   "source": [
    "high_and_low('42 3 -1 8 9 100')"
   ]
  },
  {
   "cell_type": "markdown",
   "id": "c2760f1e",
   "metadata": {},
   "source": [
    "- **sample answers*\n",
    "    - with string operation"
   ]
  },
  {
   "cell_type": "code",
   "execution_count": null,
   "id": "1c205b7a",
   "metadata": {},
   "outputs": [],
   "source": [
    "def high_and_low(numbers):\n",
    "    nn = [int(s) for s in numbers.split(' ')]\n",
    "    return '%i %i' % (max(nn), min(nn))"
   ]
  },
  {
   "cell_type": "markdown",
   "id": "dfd228fb",
   "metadata": {},
   "source": [
    "- **sample answer**\n",
    "    - with list compression and f-string"
   ]
  },
  {
   "cell_type": "code",
   "execution_count": null,
   "id": "7450bc60",
   "metadata": {},
   "outputs": [],
   "source": [
    "def high_and_low(numbers):\n",
    "    numbers = [int(c) for c in numbers.split(' ')]\n",
    "    return f'{max(numbers)} {min(numbers)}'"
   ]
  },
  {
   "cell_type": "markdown",
   "id": "0e6f88a8",
   "metadata": {},
   "source": [
    "- **sample answer**\n",
    "    - with sorted with key argument"
   ]
  },
  {
   "cell_type": "code",
   "execution_count": null,
   "id": "e4f0e79f",
   "metadata": {},
   "outputs": [],
   "source": [
    "def high_and_low(numbers):\n",
    "    nums = sorted(numbers.split(),key = int)\n",
    "    return '{} {}'.format(nums[-1], nums[0])"
   ]
  },
  {
   "cell_type": "markdown",
   "id": "395d8d61",
   "metadata": {},
   "source": [
    "- Growth of a Population"
   ]
  },
  {
   "cell_type": "code",
   "execution_count": 38,
   "id": "685ce27d",
   "metadata": {},
   "outputs": [],
   "source": [
    "def nb_year(p0, percent, aug, p):\n",
    "    num = 0\n",
    "    while p0 < p:\n",
    "        p0 += p0*(percent / 100) + aug\n",
    "        p0 = int(p0)\n",
    "        num += 1\n",
    "    return num"
   ]
  },
  {
   "cell_type": "code",
   "execution_count": 39,
   "id": "d2a15a39",
   "metadata": {},
   "outputs": [
    {
     "data": {
      "text/plain": [
       "15"
      ]
     },
     "execution_count": 39,
     "metadata": {},
     "output_type": "execute_result"
    }
   ],
   "source": [
    "nb_year(1500, 5, 100, 5000)"
   ]
  },
  {
   "cell_type": "code",
   "execution_count": 40,
   "id": "15655613",
   "metadata": {
    "scrolled": true
   },
   "outputs": [
    {
     "data": {
      "text/plain": [
       "10"
      ]
     },
     "execution_count": 40,
     "metadata": {},
     "output_type": "execute_result"
    }
   ],
   "source": [
    "nb_year(1500000, 2.5, 10000, 2000000)"
   ]
  },
  {
   "cell_type": "markdown",
   "id": "21dc2a71",
   "metadata": {},
   "source": [
    "- **sample answer**\n",
    "    - give out new parameter\n",
    "    - recursion solution\n",
    "        - recursion: a functions calls itself\n",
    "        - only compatible in a language that supports tail call optimization\n",
    "        - there should be a clear reason for recursion\n",
    "            "
   ]
  },
  {
   "cell_type": "code",
   "execution_count": null,
   "id": "0a3cc6bf",
   "metadata": {},
   "outputs": [],
   "source": [
    "def nb_year(p0, percent, aug, p, years = 0):\n",
    "    if p0 < p:\n",
    "        return nb_year(p0 + int(p0*percent/100) + aug, percent,  aug, p, years + 1)\n",
    "    return years"
   ]
  },
  {
   "cell_type": "markdown",
   "id": "82134583",
   "metadata": {},
   "source": [
    "- **sample answer**\n",
    "    - floor functions to make it rounded"
   ]
  },
  {
   "cell_type": "code",
   "execution_count": null,
   "id": "6f0d15ec",
   "metadata": {},
   "outputs": [],
   "source": [
    "def nb_year(p0, percent, aug, p):\n",
    "    i = 1\n",
    "    mult = 1 + percent / 100.0\n",
    "    prev = p0\n",
    "    while (prev < p):\n",
    "        ne = floor((prev*mult + aug))\n",
    "        prev = ne\n",
    "        i += 1\n",
    "    return (i - 1)"
   ]
  },
  {
   "cell_type": "markdown",
   "id": "f3bc223f",
   "metadata": {},
   "source": [
    "- Disemvowel Trolls"
   ]
  },
  {
   "cell_type": "markdown",
   "id": "673317b7",
   "metadata": {},
   "source": [
    "- **first trial**"
   ]
  },
  {
   "cell_type": "code",
   "execution_count": 43,
   "id": "974f56dd",
   "metadata": {},
   "outputs": [],
   "source": [
    "def disemvowel(string_):\n",
    "    import re\n",
    "    string_ = re.sub('[aeiou]', '', string_, re.I)\n",
    "    return string_"
   ]
  },
  {
   "cell_type": "code",
   "execution_count": 44,
   "id": "edffcac8",
   "metadata": {},
   "outputs": [
    {
     "data": {
      "text/plain": [
       "'Am I n pple'"
      ]
     },
     "execution_count": 44,
     "metadata": {},
     "output_type": "execute_result"
    }
   ],
   "source": [
    "disemvowel('Am I an apple')"
   ]
  },
  {
   "cell_type": "code",
   "execution_count": 46,
   "id": "8acb68b3",
   "metadata": {},
   "outputs": [
    {
     "data": {
      "text/plain": [
       "'Ths wbsite is for losers LOL!'"
      ]
     },
     "execution_count": 46,
     "metadata": {},
     "output_type": "execute_result"
    }
   ],
   "source": [
    "disemvowel('This website is for losers LOL!')"
   ]
  },
  {
   "cell_type": "markdown",
   "id": "40bcc3d5",
   "metadata": {},
   "source": [
    "- re.A(ASCII-only matching)\n",
    "- re.I(ignore case)\n",
    "- re.L(locale dependent)\n",
    "- re.M(multi line)\n",
    "- re.S(dot matches all)\n",
    "- re.U(Unicode matching)\n",
    "- re.X(verbose)"
   ]
  },
  {
   "cell_type": "code",
   "execution_count": 53,
   "id": "2bbd894a",
   "metadata": {},
   "outputs": [],
   "source": [
    "def disemvowel(string_):\n",
    "    import re\n",
    "    string = re.sub('[aeiou]', '', string_, re.I)\n",
    "    return string"
   ]
  },
  {
   "cell_type": "code",
   "execution_count": 54,
   "id": "bd3d9c51",
   "metadata": {},
   "outputs": [
    {
     "data": {
      "text/plain": [
       "'Ths wbsite is for losers LOL!'"
      ]
     },
     "execution_count": 54,
     "metadata": {},
     "output_type": "execute_result"
    }
   ],
   "source": [
    "disemvowel('This website is for losers LOL!')"
   ]
  },
  {
   "cell_type": "code",
   "execution_count": 61,
   "id": "5c5b2552",
   "metadata": {},
   "outputs": [],
   "source": [
    "def disemvowel(string_):\n",
    "    import re\n",
    "    string = re.sub('[aeiou]', '', string_, \n",
    "                    re.I, count = len(string_))\n",
    "    return string"
   ]
  },
  {
   "cell_type": "code",
   "execution_count": 62,
   "id": "8c8f00dd",
   "metadata": {},
   "outputs": [
    {
     "ename": "TypeError",
     "evalue": "sub() got multiple values for argument 'count'",
     "output_type": "error",
     "traceback": [
      "\u001b[1;31m---------------------------------------------------------------------------\u001b[0m",
      "\u001b[1;31mTypeError\u001b[0m                                 Traceback (most recent call last)",
      "\u001b[1;32mC:\\Users\\AARONC~1\\AppData\\Local\\Temp/ipykernel_29868/912090639.py\u001b[0m in \u001b[0;36m<module>\u001b[1;34m\u001b[0m\n\u001b[1;32m----> 1\u001b[1;33m \u001b[0mdisemvowel\u001b[0m\u001b[1;33m(\u001b[0m\u001b[1;34m'This website is for losers LOL!'\u001b[0m\u001b[1;33m)\u001b[0m\u001b[1;33m\u001b[0m\u001b[1;33m\u001b[0m\u001b[0m\n\u001b[0m",
      "\u001b[1;32mC:\\Users\\AARONC~1\\AppData\\Local\\Temp/ipykernel_29868/886627802.py\u001b[0m in \u001b[0;36mdisemvowel\u001b[1;34m(string_)\u001b[0m\n\u001b[0;32m      1\u001b[0m \u001b[1;32mdef\u001b[0m \u001b[0mdisemvowel\u001b[0m\u001b[1;33m(\u001b[0m\u001b[0mstring_\u001b[0m\u001b[1;33m)\u001b[0m\u001b[1;33m:\u001b[0m\u001b[1;33m\u001b[0m\u001b[1;33m\u001b[0m\u001b[0m\n\u001b[0;32m      2\u001b[0m     \u001b[1;32mimport\u001b[0m \u001b[0mre\u001b[0m\u001b[1;33m\u001b[0m\u001b[1;33m\u001b[0m\u001b[0m\n\u001b[1;32m----> 3\u001b[1;33m     string = re.sub('[aeiou]', '', string_, \n\u001b[0m\u001b[0;32m      4\u001b[0m                     re.I, count = len(string_))\n\u001b[0;32m      5\u001b[0m     \u001b[1;32mreturn\u001b[0m \u001b[0mstring\u001b[0m\u001b[1;33m\u001b[0m\u001b[1;33m\u001b[0m\u001b[0m\n",
      "\u001b[1;31mTypeError\u001b[0m: sub() got multiple values for argument 'count'"
     ]
    }
   ],
   "source": [
    "disemvowel('This website is for losers LOL!')"
   ]
  },
  {
   "cell_type": "code",
   "execution_count": 71,
   "id": "b2207c7f",
   "metadata": {},
   "outputs": [],
   "source": [
    "def disemvowel_e(string_):\n",
    "    import re\n",
    "    string_ = re.sub('e', '', string_, \n",
    "                    re.I)\n",
    "    return string_"
   ]
  },
  {
   "cell_type": "code",
   "execution_count": 70,
   "id": "35c32fb2",
   "metadata": {},
   "outputs": [
    {
     "ename": "TypeError",
     "evalue": "sub() got multiple values for argument 'count'",
     "output_type": "error",
     "traceback": [
      "\u001b[1;31m---------------------------------------------------------------------------\u001b[0m",
      "\u001b[1;31mTypeError\u001b[0m                                 Traceback (most recent call last)",
      "\u001b[1;32mC:\\Users\\AARONC~1\\AppData\\Local\\Temp/ipykernel_29868/398183492.py\u001b[0m in \u001b[0;36m<module>\u001b[1;34m\u001b[0m\n\u001b[1;32m----> 1\u001b[1;33m \u001b[0mdisemvowel_e\u001b[0m\u001b[1;33m(\u001b[0m\u001b[1;34m'This website is for losers LOL!'\u001b[0m\u001b[1;33m)\u001b[0m\u001b[1;33m\u001b[0m\u001b[1;33m\u001b[0m\u001b[0m\n\u001b[0m",
      "\u001b[1;32mC:\\Users\\AARONC~1\\AppData\\Local\\Temp/ipykernel_29868/3383306727.py\u001b[0m in \u001b[0;36mdisemvowel_e\u001b[1;34m(string_)\u001b[0m\n\u001b[0;32m      1\u001b[0m \u001b[1;32mdef\u001b[0m \u001b[0mdisemvowel_e\u001b[0m\u001b[1;33m(\u001b[0m\u001b[0mstring_\u001b[0m\u001b[1;33m)\u001b[0m\u001b[1;33m:\u001b[0m\u001b[1;33m\u001b[0m\u001b[1;33m\u001b[0m\u001b[0m\n\u001b[0;32m      2\u001b[0m     \u001b[1;32mimport\u001b[0m \u001b[0mre\u001b[0m\u001b[1;33m\u001b[0m\u001b[1;33m\u001b[0m\u001b[0m\n\u001b[1;32m----> 3\u001b[1;33m     string_ = re.sub('e', '', string_, \n\u001b[0m\u001b[0;32m      4\u001b[0m                     re.I, count = 0)\n\u001b[0;32m      5\u001b[0m     \u001b[1;32mreturn\u001b[0m \u001b[0mstring_\u001b[0m\u001b[1;33m\u001b[0m\u001b[1;33m\u001b[0m\u001b[0m\n",
      "\u001b[1;31mTypeError\u001b[0m: sub() got multiple values for argument 'count'"
     ]
    }
   ],
   "source": [
    "disemvowel_e('This website is for losers LOL!')"
   ]
  },
  {
   "cell_type": "markdown",
   "id": "ffdd5d0e",
   "metadata": {},
   "source": [
    "- **second trial** >**it works**"
   ]
  },
  {
   "cell_type": "code",
   "execution_count": 76,
   "id": "c531cdb1",
   "metadata": {},
   "outputs": [],
   "source": [
    "def disemvowel(string_):\n",
    "    string_ = [ele for ele in string_ if ele not in ['a', 'e', 'i', 'o', 'u', 'A', 'E', 'I', 'O', 'U']]\n",
    "    return ''.join(string_)"
   ]
  },
  {
   "cell_type": "code",
   "execution_count": 78,
   "id": "762d157e",
   "metadata": {},
   "outputs": [
    {
     "data": {
      "text/plain": [
       "'Ths wbst s fr Lsrs LL!!'"
      ]
     },
     "execution_count": 78,
     "metadata": {},
     "output_type": "execute_result"
    }
   ],
   "source": [
    "disemvowel('This websItE is for Losers LOL!!')"
   ]
  },
  {
   "cell_type": "markdown",
   "id": "001ec815",
   "metadata": {},
   "source": [
    "- **thrid trial** "
   ]
  },
  {
   "cell_type": "code",
   "execution_count": 93,
   "id": "56ab33cc",
   "metadata": {},
   "outputs": [],
   "source": [
    "def disemvowel(string_):\n",
    "    import re\n",
    "    string_ = re.sub('[aeiou]', '', string_, re.I)\n",
    "    return string_"
   ]
  },
  {
   "cell_type": "code",
   "execution_count": 94,
   "id": "d0753039",
   "metadata": {},
   "outputs": [
    {
     "data": {
      "text/plain": [
       "'Ths wbsIitE is for Losers LOL!!'"
      ]
     },
     "execution_count": 94,
     "metadata": {},
     "output_type": "execute_result"
    }
   ],
   "source": [
    "disemvowel('This websIitE is for Losers LOL!!')"
   ]
  },
  {
   "cell_type": "markdown",
   "id": "e823428a",
   "metadata": {},
   "source": [
    "- i랑 e 한번씩 없애고 왜 그 뒤로 작동을 안 하는 거지?"
   ]
  },
  {
   "cell_type": "code",
   "execution_count": 88,
   "id": "98be783d",
   "metadata": {},
   "outputs": [],
   "source": [
    "def disemvowel(string_):\n",
    "    import re\n",
    "    string_ = re.sub('a', '', string_, flags = re.IGNORECASE)\n",
    "    string_ = re.sub('e', '', string_, flags = re.IGNORECASE)\n",
    "    string_ = re.sub('i', '', string_, flags = re.IGNORECASE)\n",
    "    string_ = re.sub('o', '', string_, flags = re.IGNORECASE)\n",
    "    string_ = re.sub('u', '', string_, flags = re.IGNORECASE)\n",
    "\n",
    "    return string_"
   ]
  },
  {
   "cell_type": "markdown",
   "id": "36fce7ae",
   "metadata": {},
   "source": [
    "- 어머 flags 논항을 못 알아들었구나 "
   ]
  },
  {
   "cell_type": "code",
   "execution_count": 95,
   "id": "c5caf5bb",
   "metadata": {},
   "outputs": [],
   "source": [
    "def disemvowel(string_):\n",
    "    import re\n",
    "    string_ = re.sub('[aeiou]', '', string_, flags = re.I)\n",
    "    return string_"
   ]
  },
  {
   "cell_type": "code",
   "execution_count": 96,
   "id": "786eeb8a",
   "metadata": {},
   "outputs": [
    {
     "data": {
      "text/plain": [
       "'pnpp pn ppl pn pnppl pn'"
      ]
     },
     "execution_count": 96,
     "metadata": {},
     "output_type": "execute_result"
    }
   ],
   "source": [
    "disemvowel('pineappe pan apple pen pineapple pen')"
   ]
  },
  {
   "cell_type": "markdown",
   "id": "cd8b6765",
   "metadata": {},
   "source": [
    "- **sample answer**\n",
    "    - generator expression\n",
    "    - expression using if phrase"
   ]
  },
  {
   "cell_type": "code",
   "execution_count": null,
   "id": "f71c18ac",
   "metadata": {},
   "outputs": [],
   "source": [
    "def disemvowel(string_):\n",
    "    return ''.join(c for c in string if c.lower() not in 'aeiou')"
   ]
  },
  {
   "cell_type": "markdown",
   "id": "706ffcf5",
   "metadata": {},
   "source": [
    "- **sample answer**\n",
    "    - string operation "
   ]
  },
  {
   "cell_type": "code",
   "execution_count": null,
   "id": "251a0460",
   "metadata": {},
   "outputs": [],
   "source": [
    "def disemvowel(s):\n",
    "    for i in 'aeiouAEIOU':\n",
    "        s = s.replace(i, '')\n",
    "    return s"
   ]
  },
  {
   "cell_type": "markdown",
   "id": "6080cbab",
   "metadata": {},
   "source": [
    "- **sample answer**\n",
    "    - still adopts re.sub aber with no variable assignment"
   ]
  },
  {
   "cell_type": "code",
   "execution_count": null,
   "id": "d9d05c8c",
   "metadata": {},
   "outputs": [],
   "source": [
    "def disemvowel(string):\n",
    "    return re.sub(r'[aeiouAEIOU]', '', string)"
   ]
  },
  {
   "cell_type": "code",
   "execution_count": null,
   "id": "1f63f331",
   "metadata": {},
   "outputs": [],
   "source": []
  }
 ],
 "metadata": {
  "kernelspec": {
   "display_name": "Python 3 (ipykernel)",
   "language": "python",
   "name": "python3"
  },
  "language_info": {
   "codemirror_mode": {
    "name": "ipython",
    "version": 3
   },
   "file_extension": ".py",
   "mimetype": "text/x-python",
   "name": "python",
   "nbconvert_exporter": "python",
   "pygments_lexer": "ipython3",
   "version": "3.9.7"
  }
 },
 "nbformat": 4,
 "nbformat_minor": 5
}
