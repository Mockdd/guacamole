{
 "cells": [
  {
   "cell_type": "code",
   "execution_count": 1,
   "id": "140f8aa1",
   "metadata": {},
   "outputs": [
    {
     "ename": "ModuleNotFoundError",
     "evalue": "No module named 'markupbase'",
     "output_type": "error",
     "traceback": [
      "\u001b[1;31m---------------------------------------------------------------------------\u001b[0m",
      "\u001b[1;31mModuleNotFoundError\u001b[0m                       Traceback (most recent call last)",
      "\u001b[1;32mC:\\Users\\AARONC~1\\AppData\\Local\\Temp/ipykernel_21216/2134055856.py\u001b[0m in \u001b[0;36m<module>\u001b[1;34m\u001b[0m\n\u001b[1;32m----> 1\u001b[1;33m \u001b[1;32mimport\u001b[0m \u001b[0mHTMLParser\u001b[0m\u001b[1;33m\u001b[0m\u001b[1;33m\u001b[0m\u001b[0m\n\u001b[0m",
      "\u001b[1;32m~\\AppData\\Local\\Programs\\Python\\Python39\\lib\\site-packages\\HTMLParser.py\u001b[0m in \u001b[0;36m<module>\u001b[1;34m\u001b[0m\n\u001b[0;32m      9\u001b[0m \u001b[1;33m\u001b[0m\u001b[0m\n\u001b[0;32m     10\u001b[0m \u001b[1;33m\u001b[0m\u001b[0m\n\u001b[1;32m---> 11\u001b[1;33m \u001b[1;32mimport\u001b[0m \u001b[0mmarkupbase\u001b[0m\u001b[1;33m\u001b[0m\u001b[1;33m\u001b[0m\u001b[0m\n\u001b[0m\u001b[0;32m     12\u001b[0m \u001b[1;32mimport\u001b[0m \u001b[0mre\u001b[0m\u001b[1;33m\u001b[0m\u001b[1;33m\u001b[0m\u001b[0m\n\u001b[0;32m     13\u001b[0m \u001b[1;33m\u001b[0m\u001b[0m\n",
      "\u001b[1;31mModuleNotFoundError\u001b[0m: No module named 'markupbase'"
     ]
    }
   ],
   "source": [
    "import HTMLParser"
   ]
  },
  {
   "cell_type": "code",
   "execution_count": 2,
   "id": "09c07764",
   "metadata": {},
   "outputs": [
    {
     "name": "stdout",
     "output_type": "stream",
     "text": [
      "Note: you may need to restart the kernel to use updated packages.\n"
     ]
    },
    {
     "name": "stderr",
     "output_type": "stream",
     "text": [
      "ERROR: Could not find a version that satisfies the requirement markupbase (from versions: none)\n",
      "ERROR: No matching distribution found for markupbase\n"
     ]
    }
   ],
   "source": [
    "pip install markupbase"
   ]
  },
  {
   "cell_type": "markdown",
   "id": "5c3bc8bf",
   "metadata": {},
   "source": [
    "- re.start() & re.end()"
   ]
  },
  {
   "cell_type": "code",
   "execution_count": 1,
   "id": "2d1507dc",
   "metadata": {},
   "outputs": [],
   "source": [
    "import re"
   ]
  },
  {
   "cell_type": "code",
   "execution_count": 2,
   "id": "0a34f517",
   "metadata": {},
   "outputs": [
    {
     "data": {
      "text/plain": [
       "<re.Match object; span=(0, 1), match='1'>"
      ]
     },
     "execution_count": 2,
     "metadata": {},
     "output_type": "execute_result"
    }
   ],
   "source": [
    "re.search('\\d', '1234556')"
   ]
  },
  {
   "cell_type": "code",
   "execution_count": 3,
   "id": "a20562b5",
   "metadata": {},
   "outputs": [
    {
     "data": {
      "text/plain": [
       "<callable_iterator at 0x1368332ba90>"
      ]
     },
     "execution_count": 3,
     "metadata": {},
     "output_type": "execute_result"
    }
   ],
   "source": [
    "re.finditer('\\d', '123456')"
   ]
  },
  {
   "cell_type": "code",
   "execution_count": 4,
   "id": "f2cd3c5e",
   "metadata": {},
   "outputs": [
    {
     "data": {
      "text/plain": [
       "[<re.Match object; span=(0, 1), match='1'>,\n",
       " <re.Match object; span=(1, 2), match='2'>,\n",
       " <re.Match object; span=(2, 3), match='3'>,\n",
       " <re.Match object; span=(3, 4), match='4'>,\n",
       " <re.Match object; span=(4, 5), match='5'>,\n",
       " <re.Match object; span=(5, 6), match='6'>]"
      ]
     },
     "execution_count": 4,
     "metadata": {},
     "output_type": "execute_result"
    }
   ],
   "source": [
    "list(re.finditer('\\d', '123456'))"
   ]
  },
  {
   "cell_type": "code",
   "execution_count": 5,
   "id": "7088c131",
   "metadata": {},
   "outputs": [
    {
     "ename": "NameError",
     "evalue": "name 'start' is not defined",
     "output_type": "error",
     "traceback": [
      "\u001b[1;31m---------------------------------------------------------------------------\u001b[0m",
      "\u001b[1;31mNameError\u001b[0m                                 Traceback (most recent call last)",
      "\u001b[1;32mC:\\Users\\AARONC~1\\AppData\\Local\\Temp/ipykernel_11844/112945849.py\u001b[0m in \u001b[0;36m<module>\u001b[1;34m\u001b[0m\n\u001b[1;32m----> 1\u001b[1;33m \u001b[0mmap\u001b[0m\u001b[1;33m(\u001b[0m\u001b[0mstart\u001b[0m\u001b[1;33m,\u001b[0m \u001b[0mlist\u001b[0m\u001b[1;33m(\u001b[0m\u001b[0mre\u001b[0m\u001b[1;33m.\u001b[0m\u001b[0mfinditer\u001b[0m\u001b[1;33m(\u001b[0m\u001b[1;34m'\\d'\u001b[0m\u001b[1;33m,\u001b[0m \u001b[1;34m'123456'\u001b[0m\u001b[1;33m)\u001b[0m\u001b[1;33m)\u001b[0m\u001b[1;33m)\u001b[0m\u001b[1;33m\u001b[0m\u001b[1;33m\u001b[0m\u001b[0m\n\u001b[0m",
      "\u001b[1;31mNameError\u001b[0m: name 'start' is not defined"
     ]
    }
   ],
   "source": [
    "map(start, list(re.finditer('\\d', '123456')))"
   ]
  },
  {
   "cell_type": "code",
   "execution_count": 6,
   "id": "0d59e4bb",
   "metadata": {},
   "outputs": [
    {
     "ename": "NameError",
     "evalue": "name 'start' is not defined",
     "output_type": "error",
     "traceback": [
      "\u001b[1;31m---------------------------------------------------------------------------\u001b[0m",
      "\u001b[1;31mNameError\u001b[0m                                 Traceback (most recent call last)",
      "\u001b[1;32mC:\\Users\\AARONC~1\\AppData\\Local\\Temp/ipykernel_11844/2572379367.py\u001b[0m in \u001b[0;36m<module>\u001b[1;34m\u001b[0m\n\u001b[1;32m----> 1\u001b[1;33m \u001b[0mgetattr\u001b[0m\u001b[1;33m(\u001b[0m\u001b[0mlist\u001b[0m\u001b[1;33m(\u001b[0m\u001b[0mre\u001b[0m\u001b[1;33m.\u001b[0m\u001b[0mfinditer\u001b[0m\u001b[1;33m(\u001b[0m\u001b[1;34m'\\d'\u001b[0m \u001b[1;33m,\u001b[0m\u001b[1;34m'123456'\u001b[0m\u001b[1;33m)\u001b[0m\u001b[1;33m)\u001b[0m\u001b[1;33m,\u001b[0m \u001b[0mstart\u001b[0m\u001b[1;33m)\u001b[0m\u001b[1;33m\u001b[0m\u001b[1;33m\u001b[0m\u001b[0m\n\u001b[0m",
      "\u001b[1;31mNameError\u001b[0m: name 'start' is not defined"
     ]
    }
   ],
   "source": [
    "getattr(list(re.finditer('\\d' ,'123456')), start)"
   ]
  },
  {
   "cell_type": "code",
   "execution_count": 7,
   "id": "d2b0ea89",
   "metadata": {},
   "outputs": [
    {
     "ename": "AttributeError",
     "evalue": "'list' object has no attribute 'start'",
     "output_type": "error",
     "traceback": [
      "\u001b[1;31m---------------------------------------------------------------------------\u001b[0m",
      "\u001b[1;31mAttributeError\u001b[0m                            Traceback (most recent call last)",
      "\u001b[1;32mC:\\Users\\AARONC~1\\AppData\\Local\\Temp/ipykernel_11844/1082628234.py\u001b[0m in \u001b[0;36m<module>\u001b[1;34m\u001b[0m\n\u001b[1;32m----> 1\u001b[1;33m \u001b[0mgetattr\u001b[0m\u001b[1;33m(\u001b[0m\u001b[0mlist\u001b[0m\u001b[1;33m(\u001b[0m\u001b[0mre\u001b[0m\u001b[1;33m.\u001b[0m\u001b[0mfinditer\u001b[0m\u001b[1;33m(\u001b[0m\u001b[1;34m'\\d'\u001b[0m \u001b[1;33m,\u001b[0m\u001b[1;34m'123456'\u001b[0m\u001b[1;33m)\u001b[0m\u001b[1;33m)\u001b[0m\u001b[1;33m,\u001b[0m \u001b[1;34m'start'\u001b[0m\u001b[1;33m)\u001b[0m\u001b[1;33m(\u001b[0m\u001b[1;33m)\u001b[0m\u001b[1;33m\u001b[0m\u001b[1;33m\u001b[0m\u001b[0m\n\u001b[0m",
      "\u001b[1;31mAttributeError\u001b[0m: 'list' object has no attribute 'start'"
     ]
    }
   ],
   "source": [
    "getattr(list(re.finditer('\\d' ,'123456')), 'start')()"
   ]
  },
  {
   "cell_type": "code",
   "execution_count": null,
   "id": "f16d5e90",
   "metadata": {},
   "outputs": [],
   "source": [
    "import re\n",
    "\n",
    "S = str(input())\n",
    "k = str(input())\n",
    "\n",
    "match_objects = list(re.finditer(k, S))\n",
    "print(*map(lambda x: (x.start(), x.end()), match_objects), sep = '\\n'\n",
    "      if re.search(k, S) else (-1, -1))"
   ]
  },
  {
   "cell_type": "code",
   "execution_count": 9,
   "id": "6c8702f0",
   "metadata": {},
   "outputs": [
    {
     "data": {
      "text/plain": [
       "<callable_iterator at 0x1368511a220>"
      ]
     },
     "execution_count": 9,
     "metadata": {},
     "output_type": "execute_result"
    }
   ],
   "source": [
    "re.finditer('\\d', 'a')"
   ]
  },
  {
   "cell_type": "code",
   "execution_count": 10,
   "id": "c30a3782",
   "metadata": {},
   "outputs": [
    {
     "data": {
      "text/plain": [
       "[]"
      ]
     },
     "execution_count": 10,
     "metadata": {},
     "output_type": "execute_result"
    }
   ],
   "source": [
    "list(re.finditer('\\d', 'a'))"
   ]
  },
  {
   "cell_type": "code",
   "execution_count": null,
   "id": "f6459f89",
   "metadata": {},
   "outputs": [],
   "source": [
    "import re\n",
    "\n",
    "S = str(input())\n",
    "k = str(input())\n",
    "\n",
    "match_objects = list(re.finditer(k, S))\n",
    "print(*map(lambda x: (x.start(), x.end()), match_objects), sep = '\\n'\n",
    "      if len(match_objects) != 0 else (-1, -1))"
   ]
  },
  {
   "cell_type": "code",
   "execution_count": 11,
   "id": "44827b9c",
   "metadata": {},
   "outputs": [
    {
     "name": "stdout",
     "output_type": "stream",
     "text": [
      "(0, 1)\n",
      "(1, 2)\n",
      "(2, 3)\n",
      "(3, 4)\n",
      "(4, 5)\n",
      "(5, 6)\n"
     ]
    }
   ],
   "source": [
    "print(*map(lambda x:(x.start(), x.end()), list(re.finditer('\\d', '123456'))), sep = '\\n')"
   ]
  },
  {
   "cell_type": "code",
   "execution_count": 12,
   "id": "2c2f4a49",
   "metadata": {},
   "outputs": [
    {
     "data": {
      "text/plain": [
       "[<re.Match object; span=(0, 2), match='aa'>,\n",
       " <re.Match object; span=(4, 6), match='aa'>]"
      ]
     },
     "execution_count": 12,
     "metadata": {},
     "output_type": "execute_result"
    }
   ],
   "source": [
    "list(re.finditer('aa', 'aaadaa'))"
   ]
  },
  {
   "cell_type": "code",
   "execution_count": 13,
   "id": "6fa2fa20",
   "metadata": {},
   "outputs": [
    {
     "data": {
      "text/plain": [
       "['aa', 'aa']"
      ]
     },
     "execution_count": 13,
     "metadata": {},
     "output_type": "execute_result"
    }
   ],
   "source": [
    "re.findall('aa', 'aaadaa')"
   ]
  },
  {
   "cell_type": "markdown",
   "id": "bd85cc08",
   "metadata": {},
   "source": [
    "# 입력코드 (1)"
   ]
  },
  {
   "cell_type": "code",
   "execution_count": null,
   "id": "3d381963",
   "metadata": {},
   "outputs": [],
   "source": [
    "import re\n",
    "\n",
    "S = str(input())\n",
    "K = str(input())\n",
    "match_indices = []\n",
    "\n",
    "if re.search(K, S):\n",
    "    for i in range(len(S)):\n",
    "        match_object = re.search(K, S[:len(S)-i])\n",
    "        match_indices.append((match_object.start(), (match_object.end()-(1+i))))\n",
    "    print(*match_indices, sep = '\\n')\n",
    "else:\n",
    "    print((-1, -1))"
   ]
  },
  {
   "cell_type": "markdown",
   "id": "0c6bbb99",
   "metadata": {},
   "source": [
    "# 입력코드 (2)"
   ]
  },
  {
   "cell_type": "code",
   "execution_count": null,
   "id": "507190e1",
   "metadata": {},
   "outputs": [],
   "source": [
    "import re\n",
    "\n",
    "S = str(input())\n",
    "K = str(input())\n",
    "match_indices = []\n",
    "\n",
    "if re.search(K, S):\n",
    "    for i in range(len(S)):\n",
    "        try:\n",
    "            match_object = re.search(K, S[:len(S)-i])\n",
    "            match_indices.append((match_object.start(), (match_object.end()-(1+i))))\n",
    "        except Exception:\n",
    "            pass\n",
    "    print(*match_indices, sep = '\\n')\n",
    "else:\n",
    "    print((-1, -1))"
   ]
  },
  {
   "cell_type": "markdown",
   "id": "6f114c42",
   "metadata": {},
   "source": [
    "# 입력코드 (3)"
   ]
  },
  {
   "cell_type": "code",
   "execution_count": null,
   "id": "a925aaa6",
   "metadata": {},
   "outputs": [],
   "source": [
    "import re\n",
    "\n",
    "S = str(input())\n",
    "K = str(input())\n",
    "match_indices = []\n",
    "\n",
    "if re.search(K, S):\n",
    "    for i in range(len(S)):\n",
    "        try:\n",
    "            match_object = re.search(K[i:], S)\n",
    "            match_indices.append(((match_object.start()+i), (match_object.end()-1)))\n",
    "        except Exception:\n",
    "            pass\n",
    "    print(*match_indices, sep = '\\n')\n",
    "else:\n",
    "    print((-1, -1))"
   ]
  },
  {
   "cell_type": "markdown",
   "id": "da7094e0",
   "metadata": {},
   "source": [
    "# 입력코드 (4)"
   ]
  },
  {
   "cell_type": "code",
   "execution_count": null,
   "id": "61866aaf",
   "metadata": {},
   "outputs": [],
   "source": [
    "import re\n",
    "\n",
    "S = str(input())\n",
    "K = str(input())\n",
    "match_indices = []\n",
    "\n",
    "if re.search(K, S):\n",
    "    for i in range(len(S)):\n",
    "        try:\n",
    "            match_object = re.match(K, S[i:])\n",
    "            match_indices.append(((match_object.start()+i), (match_object.end()-(1-i))))\n",
    "        except Exception:\n",
    "            pass\n",
    "    print(*match_indices, sep = '\\n')\n",
    "else:\n",
    "    print((-1, -1))"
   ]
  },
  {
   "cell_type": "code",
   "execution_count": null,
   "id": "e28db435",
   "metadata": {},
   "outputs": [],
   "source": [
    "### 예시답안 \n",
    "\n",
    "S = input()\n",
    "K = input()\n",
    "\n",
    "import re\n",
    "\n",
    "pattern = re.compile(k)\n",
    "r = pattern.search(S)\n",
    "\n",
    "if not r: print('(-1, -1)')\n",
    "while r:\n",
    "    print('({0}, {1})'.format(r.srart(), r.end() - 1))\n",
    "    r = pattern.search(S, r.start() + 1)"
   ]
  },
  {
   "cell_type": "markdown",
   "id": "04addbd7",
   "metadata": {},
   "source": [
    "- Validating phone numbers"
   ]
  },
  {
   "cell_type": "markdown",
   "id": "5d0bd2a3",
   "metadata": {},
   "source": [
    "# 입력코드 (1)"
   ]
  },
  {
   "cell_type": "code",
   "execution_count": null,
   "id": "bb57bc8b",
   "metadata": {},
   "outputs": [],
   "source": [
    "import re\n",
    "\n",
    "N = int(input())\n",
    "valid_pattern = r'^[789]\\d{9}'\n",
    "\n",
    "for _ in range(N):\n",
    "    string = input()\n",
    "    validity = re.match(valid_pattern, string)\n",
    "    print('YES' if validity else 'NO')"
   ]
  },
  {
   "cell_type": "markdown",
   "id": "ed38b88c",
   "metadata": {},
   "source": [
    "# 입력코드 (2)"
   ]
  },
  {
   "cell_type": "code",
   "execution_count": null,
   "id": "56e6c6d3",
   "metadata": {},
   "outputs": [],
   "source": [
    "import re\n",
    "\n",
    "N = int(input())\n",
    "valid_pattern = r'^[789]\\d{9}$'\n",
    "\n",
    "for _ in range(N):\n",
    "    string = input()\n",
    "    validity = re.match(valid_pattern, string)\n",
    "    print('YES' if validity else 'NO')"
   ]
  },
  {
   "cell_type": "markdown",
   "id": "55ed11cf",
   "metadata": {},
   "source": [
    "- polynomials"
   ]
  },
  {
   "cell_type": "code",
   "execution_count": 14,
   "id": "be552aab",
   "metadata": {},
   "outputs": [],
   "source": [
    "import numpy as np"
   ]
  },
  {
   "cell_type": "code",
   "execution_count": 16,
   "id": "6c8a8bd7",
   "metadata": {
    "scrolled": true
   },
   "outputs": [
    {
     "data": {
      "text/plain": [
       "5.5"
      ]
     },
     "execution_count": 16,
     "metadata": {},
     "output_type": "execute_result"
    }
   ],
   "source": [
    "np.polyval([1, 1.5, 3], 1)"
   ]
  },
  {
   "cell_type": "code",
   "execution_count": 17,
   "id": "6f4207e5",
   "metadata": {},
   "outputs": [
    {
     "ename": "UFuncTypeError",
     "evalue": "ufunc 'add' did not contain a loop with signature matching types (dtype('int32'), dtype('<U1')) -> None",
     "output_type": "error",
     "traceback": [
      "\u001b[1;31m---------------------------------------------------------------------------\u001b[0m",
      "\u001b[1;31mUFuncTypeError\u001b[0m                            Traceback (most recent call last)",
      "\u001b[1;32mC:\\Users\\AARONC~1\\AppData\\Local\\Temp/ipykernel_11844/2351329169.py\u001b[0m in \u001b[0;36m<module>\u001b[1;34m\u001b[0m\n\u001b[1;32m----> 1\u001b[1;33m \u001b[0mnp\u001b[0m\u001b[1;33m.\u001b[0m\u001b[0mpolyval\u001b[0m\u001b[1;33m(\u001b[0m\u001b[1;33m[\u001b[0m\u001b[1;34m'1'\u001b[0m\u001b[1;33m,\u001b[0m \u001b[1;34m'1'\u001b[0m\u001b[1;33m,\u001b[0m \u001b[1;34m'3'\u001b[0m\u001b[1;33m]\u001b[0m\u001b[1;33m,\u001b[0m \u001b[1;36m3\u001b[0m\u001b[1;33m)\u001b[0m\u001b[1;33m\u001b[0m\u001b[1;33m\u001b[0m\u001b[0m\n\u001b[0m",
      "\u001b[1;32m~\\AppData\\Local\\Programs\\Python\\Python39\\lib\\site-packages\\numpy\\core\\overrides.py\u001b[0m in \u001b[0;36mpolyval\u001b[1;34m(*args, **kwargs)\u001b[0m\n",
      "\u001b[1;32m~\\AppData\\Local\\Programs\\Python\\Python39\\lib\\site-packages\\numpy\\lib\\polynomial.py\u001b[0m in \u001b[0;36mpolyval\u001b[1;34m(p, x)\u001b[0m\n\u001b[0;32m    777\u001b[0m         \u001b[0my\u001b[0m \u001b[1;33m=\u001b[0m \u001b[0mNX\u001b[0m\u001b[1;33m.\u001b[0m\u001b[0mzeros_like\u001b[0m\u001b[1;33m(\u001b[0m\u001b[0mx\u001b[0m\u001b[1;33m)\u001b[0m\u001b[1;33m\u001b[0m\u001b[1;33m\u001b[0m\u001b[0m\n\u001b[0;32m    778\u001b[0m     \u001b[1;32mfor\u001b[0m \u001b[0mpv\u001b[0m \u001b[1;32min\u001b[0m \u001b[0mp\u001b[0m\u001b[1;33m:\u001b[0m\u001b[1;33m\u001b[0m\u001b[1;33m\u001b[0m\u001b[0m\n\u001b[1;32m--> 779\u001b[1;33m         \u001b[0my\u001b[0m \u001b[1;33m=\u001b[0m \u001b[0my\u001b[0m \u001b[1;33m*\u001b[0m \u001b[0mx\u001b[0m \u001b[1;33m+\u001b[0m \u001b[0mpv\u001b[0m\u001b[1;33m\u001b[0m\u001b[1;33m\u001b[0m\u001b[0m\n\u001b[0m\u001b[0;32m    780\u001b[0m     \u001b[1;32mreturn\u001b[0m \u001b[0my\u001b[0m\u001b[1;33m\u001b[0m\u001b[1;33m\u001b[0m\u001b[0m\n\u001b[0;32m    781\u001b[0m \u001b[1;33m\u001b[0m\u001b[0m\n",
      "\u001b[1;31mUFuncTypeError\u001b[0m: ufunc 'add' did not contain a loop with signature matching types (dtype('int32'), dtype('<U1')) -> None"
     ]
    }
   ],
   "source": [
    "np.polyval(['1', '1', '3'], 3)"
   ]
  },
  {
   "cell_type": "markdown",
   "id": "b6b66f79",
   "metadata": {},
   "source": [
    "# 입력코드 (1)"
   ]
  },
  {
   "cell_type": "code",
   "execution_count": null,
   "id": "f00ef974",
   "metadata": {},
   "outputs": [],
   "source": [
    "import numpy as np \n",
    "\n",
    "coefficients = list(map(int, input().split()))\n",
    "value = int(input())\n",
    "\n",
    "print(np.polyval(coefficients, value))"
   ]
  },
  {
   "cell_type": "markdown",
   "id": "59457e18",
   "metadata": {},
   "source": [
    "# 입력코드 (2)"
   ]
  },
  {
   "cell_type": "code",
   "execution_count": null,
   "id": "cb7daa3b",
   "metadata": {},
   "outputs": [],
   "source": [
    "import numpy as np \n",
    "\n",
    "coefficients = list(map(float, input().split()))\n",
    "value = int(input())\n",
    "\n",
    "print(np.polyval(coefficients, value))"
   ]
  },
  {
   "cell_type": "markdown",
   "id": "cea73649",
   "metadata": {},
   "source": [
    "# 입력코드 (3)"
   ]
  },
  {
   "cell_type": "code",
   "execution_count": null,
   "id": "14a71157",
   "metadata": {},
   "outputs": [],
   "source": [
    "import numpy as np \n",
    "\n",
    "coefficients = list(map(float, input().split()))\n",
    "value = float(input())\n",
    "\n",
    "print(np.polyval(coefficients, value))"
   ]
  }
 ],
 "metadata": {
  "kernelspec": {
   "display_name": "Python 3 (ipykernel)",
   "language": "python",
   "name": "python3"
  },
  "language_info": {
   "codemirror_mode": {
    "name": "ipython",
    "version": 3
   },
   "file_extension": ".py",
   "mimetype": "text/x-python",
   "name": "python",
   "nbconvert_exporter": "python",
   "pygments_lexer": "ipython3",
   "version": "3.9.7"
  }
 },
 "nbformat": 4,
 "nbformat_minor": 5
}
